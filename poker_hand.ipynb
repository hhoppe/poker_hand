{
 "cells": [
  {
   "cell_type": "markdown",
   "id": "f819c4f7",
   "metadata": {},
   "source": [
    "# Poker hand simulation\n",
    "\n",
    "This notebook is a simple testbed to experiment with Python acceleration using `numba` (CPU-jitted code) and `numba.cuda` (GPU CUDA-jitted code).\n",
    "\n",
    "We estimate poker hand probabilities using Monte Carlo simulation and compare results with known reference values.\n",
    "\n",
    "We compare execution speeds using Python, `numba`, `numba` with multiprocessing, and `numba.cuda`.\n",
    "\n",
    "Websites on which to run this notebook include:\n",
    "\n",
    "- [Open in Google Colab](https://colab.research.google.com/github/hhoppe/poker_hand/blob/main/poker_hand.ipynb), click on Runtime -> Change runtime type -> T4 GPU, and then Runtime -> Run all.\n",
    "\n",
    "- [Open in kaggle.com](https://www.kaggle.com/notebooks/welcome?src=https://github.com/hhoppe/poker_hand/blob/main/poker_hand.ipynb), click on Session options -> Accelerator -> GPU T4 x2 or P100, then Run All.\n",
    "\n",
    "- [Open in mybinder.org](https://mybinder.org/v2/gh/hhoppe/poker_hand/main?urlpath=lab/tree/poker_hand.ipynb).  Unfortunately, no GPU is available.\n",
    "\n",
    "- [Open in deepnote.com](https://deepnote.com/launch?url=https%3A%2F%2Fgithub.com%2Fhhoppe%2Fpoker_hand%2Fblob%2Fmain%2Fpoker_hand.ipynb).  Unfortunately, no GPU is available.\n",
    "\n",
    "Here are results:"
   ]
  },
  {
   "cell_type": "markdown",
   "id": "9d5d9096-b348-4ac2-a0f7-b1d0382e9fd8",
   "metadata": {},
   "source": [
    "<table style=\"margin-left: 0\">\n",
    "<tr>\n",
    "  <th>Platform</th>\n",
    "  <th style=\"text-align: center\">CPU<br>threads</th>\n",
    "  <th style=\"text-align: center\">GPU<br>type</th>\n",
    "  <th style=\"text-align: center\">CUDA<br>SMs</th>\n",
    "  <th colspan=\"4\">Simulation rate (hands/s)</th>\n",
    "</tr>\n",
    "<tr>\n",
    "  <th></th>\n",
    "  <th></th>\n",
    "  <th></th>\n",
    "  <th></th>\n",
    "  <th>Python</th>\n",
    "  <th>Numba</th>\n",
    "  <th>Multiprocess</th>\n",
    "  <th>CUDA</th>\n",
    "</tr>\n",
    "<tr>\n",
    "  <td><b>My PC</b> Win10</td>\n",
    "  <td style=\"text-align: center\">24</td>\n",
    "  <td style=\"text-align: center\">GeForce 3080 Ti</td>\n",
    "  <td style=\"text-align: center\">80</td>\n",
    "  <td style=\"text-align: right\">24,600</td>\n",
    "  <td style=\"text-align: right\">10,000,000</td>\n",
    "  <td style=\"text-align: right\">-</td>\n",
    "  <td style=\"text-align: right\">840,000,000</td>\n",
    "</tr>\n",
    "<tr>\n",
    "  <td><b>My PC</b> WSL2</td>\n",
    "  <td style=\"text-align: center\">24</td>\n",
    "  <td style=\"text-align: center\">GeForce 3080 Ti</td>\n",
    "  <td style=\"text-align: center\">80</td>\n",
    "  <td style=\"text-align: right\">116,000</td>\n",
    "  <td style=\"text-align: right\">7,390,000</td>\n",
    "  <td style=\"text-align: right\">81,500,000</td>\n",
    "  <td style=\"text-align: right\">780,000,000</td>\n",
    "</tr>\n",
    "<tr>\n",
    "  <td><b>Marcel PC</b> Win</td>\n",
    "  <td style=\"text-align: center\">24</td>\n",
    "  <td style=\"text-align: center\">Titan V</td>\n",
    "  <td style=\"text-align: center\">80</td>\n",
    "  <td style=\"text-align: right\">62,800</td>\n",
    "  <td style=\"text-align: right\">5,160,000</td>\n",
    "  <td style=\"text-align: right\">-</td>\n",
    "  <td style=\"text-align: right\">2,280,000,000</td>\n",
    "</tr><tr>\n",
    "  <td><a href=\"https://colab.research.google.com/github/hhoppe/poker_hand/blob/main/poker_hand.ipynb\"><b>Colab</b> T4</a></td>\n",
    "  <td style=\"text-align: center\">2</td>\n",
    "  <td style=\"text-align: center\">Tesla T4</td>\n",
    "  <td style=\"text-align: center\">40</td>\n",
    "  <td style=\"text-align: right\">14,500</td>\n",
    "  <td style=\"text-align: right\">3,980,000</td>\n",
    "  <td style=\"text-align: right\">4,270,000</td>\n",
    "  <td style=\"text-align: right\">1,660,000,000</td>\n",
    "</tr>\n",
    "<tr>\n",
    "  <td><a href=\"https://www.kaggle.com/notebooks/welcome?src=https://github.com/hhoppe/poker_hand/blob/main/poker_hand.ipynb\"><b>Kaggle</b> T4</a></td>\n",
    "  <td style=\"text-align: center\">4</td>\n",
    "  <td style=\"text-align: center\">Tesla T4 x2</td>\n",
    "  <td style=\"text-align: center\">40</td>\n",
    "  <td style=\"text-align: right\">17,300</td>\n",
    "  <td style=\"text-align: right\">4,100,000</td>\n",
    "  <td style=\"text-align: right\">9,130,000</td>\n",
    "  <td style=\"text-align: right\">1,820,000,000</td>\n",
    "</tr>\n",
    "<tr>\n",
    "  <td><b>Kaggle</b> P100</td>\n",
    "  <td style=\"text-align: center\">4</td>\n",
    "  <td style=\"text-align: center\">Tesla P100</td>\n",
    "  <td style=\"text-align: center\">56</td>\n",
    "  <td style=\"text-align: right\">18,000</td>\n",
    "  <td style=\"text-align: right\">4,070,000</td>\n",
    "  <td style=\"text-align: right\">9,900,000</td>\n",
    "  <td style=\"text-align: right\">1,120,000,000</td>\n",
    "</tr>\n",
    "<tr>\n",
    "  <td><a href=\"https://mybinder.org/v2/gh/hhoppe/poker_hand/main?urlpath=lab/tree/poker_hand.ipynb\"><b>mybinder</b></a></td>\n",
    "  <td style=\"text-align: center\">72</td>\n",
    "  <td style=\"text-align: center\">None</td>\n",
    "  <td style=\"text-align: center\">-</td>\n",
    "  <td style=\"text-align: right\">16,000</td>\n",
    "  <td style=\"text-align: right\">1,210,000</td>\n",
    "  <td style=\"text-align: right\">740,000</td>\n",
    "  <td style=\"text-align: right\">-</td>\n",
    "</tr>\n",
    "<tr>\n",
    "  <td><a href=\"https://deepnote.com/launch?url=https%3A%2F%2Fgithub.com%2Fhhoppe%2Fpoker_hand%2Fblob%2Fmain%2Fpoker_hand.ipynb\"><b>deepnote</b></a></td>\n",
    "  <td style=\"text-align: center\">8</td>\n",
    "  <td style=\"text-align: center\">None</td>\n",
    "  <td style=\"text-align: center\">-</td>\n",
    "  <td style=\"text-align: right\">14,200</td>\n",
    "  <td style=\"text-align: right\">3,950,000</td>\n",
    "  <td style=\"text-align: right\">2,840,000</td>\n",
    "  <td style=\"text-align: right\">-</td>\n",
    "</tr>\n",
    "</table>"
   ]
  },
  {
   "cell_type": "markdown",
   "id": "17ce3127-cbd5-445b-900d-6c01ddac60a7",
   "metadata": {},
   "source": [
    "It is puzzling that the CUDA rate is lower on my PC than on the online servers."
   ]
  },
  {
   "cell_type": "markdown",
   "id": "926b7255-e5af-473f-809b-000987e06690",
   "metadata": {},
   "source": [
    "### Imports"
   ]
  },
  {
   "cell_type": "code",
   "execution_count": 1,
   "id": "96f8b5b5-8cda-4b5f-8b07-145cf83d0dfd",
   "metadata": {
    "execution": {
     "iopub.execute_input": "2025-01-04T19:30:27.152813Z",
     "iopub.status.busy": "2025-01-04T19:30:27.152368Z",
     "iopub.status.idle": "2025-01-04T19:30:28.215565Z",
     "shell.execute_reply": "2025-01-04T19:30:28.214930Z",
     "shell.execute_reply.started": "2025-01-04T19:30:27.152793Z"
    }
   },
   "outputs": [],
   "source": [
    "!pip install -q numba"
   ]
  },
  {
   "cell_type": "code",
   "execution_count": 2,
   "id": "dcbbf9c8-8c10-49f8-827a-737924f93a72",
   "metadata": {
    "execution": {
     "iopub.execute_input": "2025-01-04T19:30:28.216438Z",
     "iopub.status.busy": "2025-01-04T19:30:28.216282Z",
     "iopub.status.idle": "2025-01-04T19:30:28.219340Z",
     "shell.execute_reply": "2025-01-04T19:30:28.218800Z",
     "shell.execute_reply.started": "2025-01-04T19:30:28.216423Z"
    }
   },
   "outputs": [],
   "source": [
    "# import os\n",
    "# os.environ['NUMBA_ENABLE_CUDASIM'] = '1'\n",
    "# os.environ['NUMBA_CUDA_DEBUGINFO'] = '1'"
   ]
  },
  {
   "cell_type": "code",
   "execution_count": 3,
   "id": "b7672379",
   "metadata": {
    "execution": {
     "iopub.execute_input": "2025-01-04T19:30:28.220414Z",
     "iopub.status.busy": "2025-01-04T19:30:28.220002Z",
     "iopub.status.idle": "2025-01-04T19:30:28.417707Z",
     "shell.execute_reply": "2025-01-04T19:30:28.417087Z",
     "shell.execute_reply.started": "2025-01-04T19:30:28.220398Z"
    },
    "lines_to_next_cell": 2,
    "tags": []
   },
   "outputs": [],
   "source": [
    "import enum\n",
    "import math\n",
    "from math import comb\n",
    "import multiprocessing\n",
    "import pathlib\n",
    "import time\n",
    "from typing import Any\n",
    "\n",
    "import numba\n",
    "from numba import cuda\n",
    "import numba.cuda.random\n",
    "import numpy as np\n",
    "import random32"
   ]
  },
  {
   "cell_type": "code",
   "execution_count": 4,
   "id": "aec3f5a6-f130-470d-8a0d-43b99587d4c7",
   "metadata": {
    "execution": {
     "iopub.execute_input": "2025-01-04T19:30:28.418837Z",
     "iopub.status.busy": "2025-01-04T19:30:28.418400Z",
     "iopub.status.idle": "2025-01-04T19:30:28.422124Z",
     "shell.execute_reply": "2025-01-04T19:30:28.421590Z",
     "shell.execute_reply.started": "2025-01-04T19:30:28.418819Z"
    }
   },
   "outputs": [],
   "source": [
    "USE_RANDOM32 = True\n",
    "randomx = random32 if USE_RANDOM32 else cuda.random\n",
    "if USE_RANDOM32:\n",
    "  random_create_states = random32.create_xoshiro128p_states\n",
    "  random_next_uniform_uint = random32.xoshiro128p_next\n",
    "  random_next_uniform_float32 = random32.xoshiro128p_uniform_float32\n",
    "else:\n",
    "  random_create_states = cuda.random.create_xoroshiro128p_states\n",
    "  random_next_uniform_uint = cuda.random.xoroshiro128p_next\n",
    "  random_next_uniform_float32 = cuda.random.xoroshiro128p_uniform_float32"
   ]
  },
  {
   "cell_type": "code",
   "execution_count": 5,
   "id": "40f2522d-afa5-4bf8-9f0a-5623defb8c46",
   "metadata": {
    "execution": {
     "iopub.execute_input": "2025-01-04T19:30:28.422831Z",
     "iopub.status.busy": "2025-01-04T19:30:28.422682Z",
     "iopub.status.idle": "2025-01-04T19:30:28.432005Z",
     "shell.execute_reply": "2025-01-04T19:30:28.431374Z",
     "shell.execute_reply.started": "2025-01-04T19:30:28.422818Z"
    }
   },
   "outputs": [
    {
     "name": "stdout",
     "output_type": "stream",
     "text": [
      "The number of CPU threads is 24.\n"
     ]
    }
   ],
   "source": [
    "print(f'The number of CPU threads is {multiprocessing.cpu_count()}.')"
   ]
  },
  {
   "cell_type": "code",
   "execution_count": 6,
   "id": "23e84adb-9b5e-4ba9-97bd-bdb7c0f92cae",
   "metadata": {
    "execution": {
     "iopub.execute_input": "2025-01-04T19:30:28.433848Z",
     "iopub.status.busy": "2025-01-04T19:30:28.433568Z",
     "iopub.status.idle": "2025-01-04T19:30:28.769757Z",
     "shell.execute_reply": "2025-01-04T19:30:28.769199Z",
     "shell.execute_reply.started": "2025-01-04T19:30:28.433832Z"
    },
    "lines_to_next_cell": 2
   },
   "outputs": [
    {
     "name": "stdout",
     "output_type": "stream",
     "text": [
      "Found 1 CUDA devices\n",
      "id 0    b'NVIDIA GeForce RTX 3080 Ti'                              [SUPPORTED]\n",
      "                      Compute Capability: 8.6\n",
      "                           PCI Device ID: 0\n",
      "                              PCI Bus ID: 10\n",
      "                                    UUID: GPU-e50896f3-f795-945c-9c59-fffc57278834\n",
      "                                Watchdog: Enabled\n",
      "             FP32/FP64 Performance Ratio: 32\n",
      "Summary:\n",
      "\t1/1 devices are supported\n",
      "The number of GPU SMs is 80\n"
     ]
    }
   ],
   "source": [
    "if cuda.is_available() and cuda.detect():\n",
    "  print(f'The number of GPU SMs is {cuda.get_current_device().MULTIPROCESSOR_COUNT}')"
   ]
  },
  {
   "cell_type": "markdown",
   "id": "e5af2c7f-c334-49ad-9afb-fb73cf6d7db4",
   "metadata": {
    "execution": {
     "iopub.execute_input": "2024-12-29T01:42:55.940070Z",
     "iopub.status.busy": "2024-12-29T01:42:55.939661Z",
     "iopub.status.idle": "2024-12-29T01:42:55.942841Z",
     "shell.execute_reply": "2024-12-29T01:42:55.942254Z",
     "shell.execute_reply.started": "2024-12-29T01:42:55.940047Z"
    },
    "lines_to_next_cell": 2
   },
   "source": [
    "### Hand evaluation"
   ]
  },
  {
   "cell_type": "code",
   "execution_count": 7,
   "id": "d6635058-f273-41d9-93a4-2b0c89cb65cc",
   "metadata": {
    "execution": {
     "iopub.execute_input": "2025-01-04T19:30:28.771044Z",
     "iopub.status.busy": "2025-01-04T19:30:28.770609Z",
     "iopub.status.idle": "2025-01-04T19:30:28.774877Z",
     "shell.execute_reply": "2025-01-04T19:30:28.774281Z",
     "shell.execute_reply.started": "2025-01-04T19:30:28.771028Z"
    }
   },
   "outputs": [],
   "source": [
    "class Outcome(enum.IntEnum):\n",
    "  \"\"\"Poker hand rankings from best to worst.\"\"\"\n",
    "\n",
    "  string_name: str\n",
    "\n",
    "  ROYAL_FLUSH = 0, 'Royal flush'\n",
    "  STRAIGHT_FLUSH = 1, 'Straight flush'\n",
    "  FOUR_OF_A_KIND = 2, 'Four of a kind'\n",
    "  FULL_HOUSE = 3, 'Full house'\n",
    "  FLUSH = 4, 'Flush'\n",
    "  STRAIGHT = 5, 'Straight'\n",
    "  THREE_OF_A_KIND = 6, 'Three of a kind'\n",
    "  TWO_PAIR = 7, 'Two pair'\n",
    "  ONE_PAIR = 8, 'One pair'\n",
    "  HIGH_CARD = 9, 'High card'\n",
    "\n",
    "  def __new__(cls, value, string_name):\n",
    "    obj = int.__new__(cls, value)\n",
    "    obj._value_ = value\n",
    "    obj.string_name = string_name\n",
    "    return obj"
   ]
  },
  {
   "cell_type": "code",
   "execution_count": 8,
   "id": "16cb8893-08da-4397-93c1-edb44fe8b06b",
   "metadata": {
    "execution": {
     "iopub.execute_input": "2025-01-04T19:30:28.775612Z",
     "iopub.status.busy": "2025-01-04T19:30:28.775455Z",
     "iopub.status.idle": "2025-01-04T19:30:28.783910Z",
     "shell.execute_reply": "2025-01-04T19:30:28.783317Z",
     "shell.execute_reply.started": "2025-01-04T19:30:28.775600Z"
    }
   },
   "outputs": [],
   "source": [
    "DECK_SIZE = 52\n",
    "NUM_RANKS = 13\n",
    "HAND_SIZE = 5\n",
    "HANDS_PER_DECK = DECK_SIZE - HAND_SIZE + 1\n",
    "NUM_OUTCOMES = len(Outcome)"
   ]
  },
  {
   "cell_type": "code",
   "execution_count": 9,
   "id": "00289fd4-4246-4a2f-b147-1193a587d941",
   "metadata": {
    "execution": {
     "iopub.execute_input": "2025-01-04T19:30:28.784860Z",
     "iopub.status.busy": "2025-01-04T19:30:28.784602Z",
     "iopub.status.idle": "2025-01-04T19:30:28.796312Z",
     "shell.execute_reply": "2025-01-04T19:30:28.795700Z",
     "shell.execute_reply.started": "2025-01-04T19:30:28.784847Z"
    }
   },
   "outputs": [],
   "source": [
    "REFERENCE_COUNT_OF_OUTCOME = {  # https://en.wikipedia.org/wiki/Poker_probability\n",
    "    Outcome.ROYAL_FLUSH: comb(4, 1),\n",
    "    Outcome.STRAIGHT_FLUSH: comb(10, 1) * comb(4, 1) - comb(4, 1),\n",
    "    Outcome.FOUR_OF_A_KIND: comb(13, 1) * comb(4, 4) * comb(12, 1) * comb(4, 1),\n",
    "    Outcome.FULL_HOUSE: comb(13, 1) * comb(4, 3) * comb(12, 1) * comb(4, 2),\n",
    "    Outcome.FLUSH: comb(13, 5) * comb(4, 1) - comb(10, 1) * comb(4, 1),\n",
    "    Outcome.STRAIGHT: comb(10, 1) * comb(4, 1) ** 5 - comb(10, 1) * comb(4, 1),\n",
    "    Outcome.THREE_OF_A_KIND: comb(13, 1) * comb(4, 3) * comb(12, 2) * comb(4, 1) ** 2,\n",
    "    Outcome.TWO_PAIR: comb(13, 2) * comb(4, 2) ** 2 * comb(11, 1) * comb(4, 1),\n",
    "    Outcome.ONE_PAIR: comb(13, 1) * comb(4, 2) * comb(12, 3) * comb(4, 1) ** 3,\n",
    "    Outcome.HIGH_CARD: (comb(13, 5) - comb(10, 1)) * (comb(4, 1) ** 5 - comb(4, 1)),\n",
    "}\n",
    "EXPECTED_PROB = np.array(list(REFERENCE_COUNT_OF_OUTCOME.values())) / comb(DECK_SIZE, HAND_SIZE)\n",
    "assert np.allclose(np.sum(EXPECTED_PROB), 1.0)"
   ]
  },
  {
   "cell_type": "code",
   "execution_count": 10,
   "id": "f74eebae-594a-4324-94af-edbcb7b69e33",
   "metadata": {
    "execution": {
     "iopub.execute_input": "2025-01-04T19:30:28.797104Z",
     "iopub.status.busy": "2025-01-04T19:30:28.796954Z",
     "iopub.status.idle": "2025-01-04T19:30:28.806410Z",
     "shell.execute_reply": "2025-01-04T19:30:28.805797Z",
     "shell.execute_reply.started": "2025-01-04T19:30:28.797092Z"
    }
   },
   "outputs": [],
   "source": [
    "def evaluate_hand_python(cards, ranks, freqs):\n",
    "  \"\"\"Evaluate 5-card poker hand and return outcome ranking.\n",
    "\n",
    "  Args:\n",
    "    cards: List of 5 integers representing cards (0-51).\n",
    "    ranks: Pre-allocated array for storing sorted ranks.\n",
    "    freqs: Pre-allocated array for counting rank frequencies.\n",
    "\n",
    "  Returns:\n",
    "    Integer representing hand ranking (see Outcome enum).\n",
    "  \"\"\"\n",
    "  # pylint: disable=consider-using-in, consider-using-max-builtin\n",
    "\n",
    "  def get_rank(card: int) -> int:\n",
    "    return card >> 2  # In range(NUM_RANKS), ordered '23456789TJQKA'.\n",
    "\n",
    "  def get_suit(card: int) -> int:\n",
    "    return card & 0b11  # In range(4).\n",
    "\n",
    "  # Sort cards by rank for easier pattern matching, using simple insertion sort.\n",
    "  for i in range(HAND_SIZE):\n",
    "    ranks[i] = get_rank(cards[i])\n",
    "  # ranks.sort()\n",
    "  for i in range(1, HAND_SIZE):\n",
    "    key = ranks[i]\n",
    "    j = i - 1\n",
    "    while j >= 0 and ranks[j] > key:\n",
    "      ranks[j + 1] = ranks[j]\n",
    "      j -= 1\n",
    "    ranks[j + 1] = key\n",
    "\n",
    "  # is_flush = all(card == cards[0] for card in cards[1:])\n",
    "  # Expanding `cards` on the rhs results in better cuda-compiled code.\n",
    "  c0, c1, c2, c3, c4 = cards[0], cards[1], cards[2], cards[3], cards[4]\n",
    "  is_flush = get_suit(c0) == get_suit(c1) == get_suit(c2) == get_suit(c3) == get_suit(c4)\n",
    "\n",
    "  # Expanding `ranks` on the rhs results in better cuda-compiled code.\n",
    "  r0, r1, r2, r3, r4 = ranks[0], ranks[1], ranks[2], ranks[3], ranks[4]\n",
    "  # We must also consider the ace-low straight 'A2345'.\n",
    "  is_straight = r1 == r0 + 1 and r2 == r0 + 2 and r3 == r0 + 3 and (r4 == r0 + 4 or r4 == r0 + 12)\n",
    "\n",
    "  # Count rank frequencies.\n",
    "  freqs[:] = 0\n",
    "  for rank in ranks:\n",
    "    freqs[rank] += 1\n",
    "\n",
    "  # max_freq = max(freqs)\n",
    "  # num_pairs = np.sum(freqs == 2)\n",
    "  max_freq = 0\n",
    "  num_pairs = 0\n",
    "  for freq in freqs:\n",
    "    if freq > max_freq:\n",
    "      max_freq = freq\n",
    "    if freq == 2:\n",
    "      num_pairs += 1\n",
    "\n",
    "  if is_flush and is_straight:\n",
    "    if ranks[0] == 8:\n",
    "      return Outcome.ROYAL_FLUSH.value\n",
    "    return Outcome.STRAIGHT_FLUSH.value\n",
    "  if max_freq == 4:\n",
    "    return Outcome.FOUR_OF_A_KIND.value\n",
    "  if max_freq == 3 and num_pairs > 0:\n",
    "    return Outcome.FULL_HOUSE.value\n",
    "  if is_flush:\n",
    "    return Outcome.FLUSH.value\n",
    "  if is_straight:\n",
    "    return Outcome.STRAIGHT.value\n",
    "  if max_freq == 3:\n",
    "    return Outcome.THREE_OF_A_KIND.value\n",
    "  if max_freq == 2:\n",
    "    if num_pairs == 2:\n",
    "      return Outcome.TWO_PAIR.value\n",
    "    return Outcome.ONE_PAIR.value\n",
    "  return Outcome.HIGH_CARD.value"
   ]
  },
  {
   "cell_type": "code",
   "execution_count": 11,
   "id": "8676ddc6-f14c-4fe3-8316-249f247439ad",
   "metadata": {
    "execution": {
     "iopub.execute_input": "2025-01-04T19:30:28.807603Z",
     "iopub.status.busy": "2025-01-04T19:30:28.807193Z",
     "iopub.status.idle": "2025-01-04T19:30:28.818192Z",
     "shell.execute_reply": "2025-01-04T19:30:28.817583Z",
     "shell.execute_reply.started": "2025-01-04T19:30:28.807586Z"
    }
   },
   "outputs": [],
   "source": [
    "evaluate_hand_numba = numba.njit(evaluate_hand_python)"
   ]
  },
  {
   "cell_type": "markdown",
   "id": "b2c72168-c7d6-4792-9ea9-ee887733a7e1",
   "metadata": {
    "execution": {
     "iopub.execute_input": "2024-12-29T01:43:09.066669Z",
     "iopub.status.busy": "2024-12-29T01:43:09.066142Z",
     "iopub.status.idle": "2024-12-29T01:43:09.069033Z",
     "shell.execute_reply": "2024-12-29T01:43:09.068530Z",
     "shell.execute_reply.started": "2024-12-29T01:43:09.066653Z"
    },
    "lines_to_next_cell": 2
   },
   "source": [
    "### CPU simulation"
   ]
  },
  {
   "cell_type": "code",
   "execution_count": 12,
   "id": "61102c48-3b12-497c-adcd-a5dab40f1ac7",
   "metadata": {
    "execution": {
     "iopub.execute_input": "2025-01-04T19:30:28.819208Z",
     "iopub.status.busy": "2025-01-04T19:30:28.818887Z",
     "iopub.status.idle": "2025-01-04T19:30:28.830055Z",
     "shell.execute_reply": "2025-01-04T19:30:28.829459Z",
     "shell.execute_reply.started": "2025-01-04T19:30:28.819192Z"
    }
   },
   "outputs": [],
   "source": [
    "def make_compute_cpu(evaluate_hand):\n",
    "  # Return a specialized compute_cpu function for the given evaluate_hand function.\n",
    "\n",
    "  def compute_cpu(num_decks, rng):\n",
    "    BLOCK_SIZE = 10\n",
    "    # deck_block = np.arange(DECK_SIZE, dtype=np.uint8).repeat(BLOCK_SIZE).reshape(DECK_SIZE, -1).T\n",
    "    deck_block = np.empty((BLOCK_SIZE, DECK_SIZE), dtype=np.uint8)\n",
    "    deck_block[:] = np.arange(DECK_SIZE, dtype=np.uint8)\n",
    "    ranks = np.empty(HAND_SIZE, np.uint8)\n",
    "    freqs = np.empty(NUM_RANKS, np.int8)\n",
    "    tally = np.zeros(NUM_OUTCOMES, np.int64)\n",
    "    for deck_index_start in range(0, num_decks, BLOCK_SIZE):\n",
    "      deck_block2 = rng.permutation(deck_block, axis=1)\n",
    "      for deck_index in range(deck_index_start, min(deck_index_start + BLOCK_SIZE, num_decks)):\n",
    "        deck = deck_block2[deck_index - deck_index_start]\n",
    "        for hand_index in range(HANDS_PER_DECK):\n",
    "          hand = deck[hand_index : hand_index + 5]\n",
    "          outcome = evaluate_hand(hand, ranks, freqs)\n",
    "          tally[outcome] += 1\n",
    "    return tally / (num_decks * HANDS_PER_DECK)\n",
    "\n",
    "  return compute_cpu"
   ]
  },
  {
   "cell_type": "code",
   "execution_count": 13,
   "id": "b7e33708-c91f-486c-bb02-71da114e1a69",
   "metadata": {
    "execution": {
     "iopub.execute_input": "2025-01-04T19:30:28.831256Z",
     "iopub.status.busy": "2025-01-04T19:30:28.830791Z",
     "iopub.status.idle": "2025-01-04T19:30:28.841521Z",
     "shell.execute_reply": "2025-01-04T19:30:28.840907Z",
     "shell.execute_reply.started": "2025-01-04T19:30:28.831241Z"
    },
    "lines_to_next_cell": 2
   },
   "outputs": [],
   "source": [
    "simulate_hands_cpu_python = make_compute_cpu(evaluate_hand_python)\n",
    "simulate_hands_cpu_numba = numba.njit(make_compute_cpu(evaluate_hand_numba))"
   ]
  },
  {
   "cell_type": "code",
   "execution_count": 14,
   "id": "ebec99b5-9246-4e29-94ed-ed675d03e549",
   "metadata": {
    "execution": {
     "iopub.execute_input": "2025-01-04T19:30:28.842428Z",
     "iopub.status.busy": "2025-01-04T19:30:28.842219Z",
     "iopub.status.idle": "2025-01-04T19:30:37.559400Z",
     "shell.execute_reply": "2025-01-04T19:30:37.558808Z",
     "shell.execute_reply.started": "2025-01-04T19:30:28.842414Z"
    }
   },
   "outputs": [],
   "source": [
    "assert np.allclose(\n",
    "    simulate_hands_cpu_numba(10**5, np.random.default_rng(1)), EXPECTED_PROB, atol=0.001\n",
    ")"
   ]
  },
  {
   "cell_type": "code",
   "execution_count": 15,
   "id": "0f86ae4d-7694-4e7a-8e36-a2550230fbd9",
   "metadata": {
    "execution": {
     "iopub.execute_input": "2025-01-04T19:30:37.560443Z",
     "iopub.status.busy": "2025-01-04T19:30:37.560163Z",
     "iopub.status.idle": "2025-01-04T19:30:41.869200Z",
     "shell.execute_reply": "2025-01-04T19:30:41.868352Z",
     "shell.execute_reply.started": "2025-01-04T19:30:37.560427Z"
    }
   },
   "outputs": [
    {
     "name": "stdout",
     "output_type": "stream",
     "text": [
      "693 ms ± 3.78 ms per loop (mean ± std. dev. of 2 runs, 1 loop each)\n",
      "14.6 ms ± 28.5 µs per loop (mean ± std. dev. of 2 runs, 100 loops each)\n"
     ]
    }
   ],
   "source": [
    "%timeit -n1 -r2 simulate_hands_cpu_python(2000, np.random.default_rng(1))\n",
    "%timeit -n100 -r2 simulate_hands_cpu_numba(10**4, np.random.default_rng(1))"
   ]
  },
  {
   "cell_type": "code",
   "execution_count": 16,
   "id": "6f3bf348-e6a2-4fc6-9ebd-9d123ca6d686",
   "metadata": {
    "execution": {
     "iopub.execute_input": "2025-01-04T19:30:41.870351Z",
     "iopub.status.busy": "2025-01-04T19:30:41.869991Z",
     "iopub.status.idle": "2025-01-04T19:30:41.872726Z",
     "shell.execute_reply": "2025-01-04T19:30:41.872215Z",
     "shell.execute_reply.started": "2025-01-04T19:30:41.870337Z"
    },
    "lines_to_next_cell": 2
   },
   "outputs": [],
   "source": [
    "# 708 ms ± 13.2 ms per loop (mean ± std. dev. of 2 runs, 1 loop each)\n",
    "# 14.8 ms ± 60.2 µs per loop (mean ± std. dev. of 2 runs, 100 loops each)"
   ]
  },
  {
   "cell_type": "code",
   "execution_count": 17,
   "id": "38b2467c-cc46-4b3d-ab2e-0db7891bcf6f",
   "metadata": {
    "execution": {
     "iopub.execute_input": "2025-01-04T19:30:41.873458Z",
     "iopub.status.busy": "2025-01-04T19:30:41.873320Z",
     "iopub.status.idle": "2025-01-04T19:30:41.882717Z",
     "shell.execute_reply": "2025-01-04T19:30:41.882171Z",
     "shell.execute_reply.started": "2025-01-04T19:30:41.873447Z"
    }
   },
   "outputs": [],
   "source": [
    "def compute_chunk(args):\n",
    "  num_decks, rng = args\n",
    "  return simulate_hands_cpu_numba(num_decks, rng)"
   ]
  },
  {
   "cell_type": "code",
   "execution_count": 18,
   "id": "a853fae1-8516-417c-97de-b221f97c6d40",
   "metadata": {
    "execution": {
     "iopub.execute_input": "2025-01-04T19:30:41.883698Z",
     "iopub.status.busy": "2025-01-04T19:30:41.883382Z",
     "iopub.status.idle": "2025-01-04T19:30:41.892111Z",
     "shell.execute_reply": "2025-01-04T19:30:41.891593Z",
     "shell.execute_reply.started": "2025-01-04T19:30:41.883682Z"
    },
    "lines_to_next_cell": 2
   },
   "outputs": [],
   "source": [
    "def simulate_hands_cpu_numba_multiprocess(num_decks, rng):\n",
    "  num_processes = multiprocessing.cpu_count()\n",
    "  chunk_num_decks = math.ceil(num_decks / num_processes)\n",
    "  chunks = [(chunk_num_decks, np.random.default_rng(rng)) for i in range(num_processes)]\n",
    "  with multiprocessing.get_context('fork').Pool(num_processes) as pool:\n",
    "    results = pool.map(compute_chunk, chunks)\n",
    "  return np.mean(results, axis=0)"
   ]
  },
  {
   "cell_type": "markdown",
   "id": "0154d69f-d8dc-4d8b-8d5e-e1632f9f4fc8",
   "metadata": {
    "lines_to_next_cell": 2
   },
   "source": [
    "### GPU simulation"
   ]
  },
  {
   "cell_type": "code",
   "execution_count": 19,
   "id": "285b43ca-aefb-4a31-b6ae-e1ede07335d3",
   "metadata": {
    "execution": {
     "iopub.execute_input": "2025-01-04T19:30:41.893038Z",
     "iopub.status.busy": "2025-01-04T19:30:41.892726Z",
     "iopub.status.idle": "2025-01-04T19:30:41.904478Z",
     "shell.execute_reply": "2025-01-04T19:30:41.903913Z",
     "shell.execute_reply.started": "2025-01-04T19:30:41.893022Z"
    }
   },
   "outputs": [],
   "source": [
    "@cuda.jit(fastmath=True)  # Using cuda.local.array.\n",
    "def old_compute_gpu(rng_states, num_decks_per_thread, global_tally):\n",
    "  # pylint: disable=too-many-function-args, no-value-for-parameter, comparison-with-callable\n",
    "  USE_UINT_RANDOM = True\n",
    "  thread_index = cuda.grid(1)\n",
    "  if thread_index >= len(rng_states):\n",
    "    return\n",
    "\n",
    "  thread_tally = cuda.local.array(NUM_OUTCOMES, np.int32)\n",
    "  deck = cuda.local.array(DECK_SIZE, np.uint8)\n",
    "  ranks = cuda.local.array(HAND_SIZE, np.uint8)\n",
    "  freqs = cuda.local.array(NUM_RANKS, np.uint8)\n",
    "  shared_tally = cuda.shared.array(NUM_OUTCOMES, np.int64)  # Per-block intermediate tally.\n",
    "\n",
    "  thread_tally[:] = 0\n",
    "  for i in range(DECK_SIZE):\n",
    "    deck[i] = i\n",
    "\n",
    "  for _ in range(num_decks_per_thread):\n",
    "    # Apply Fisher-Yates shuffle to current deck.\n",
    "    for i in range(51, 0, -1):\n",
    "      # See https://github.com/numba/numba/blob/main/numba/cuda/random.py\n",
    "      if USE_UINT_RANDOM:  # Faster and has lower bias (~2.76e-18 for worst case ).\n",
    "        j = random_next_uniform_uint(rng_states, thread_index) % numba.uint32(i + 1)\n",
    "      else:  # Results in higher bias (~2.86e-6) due to reduced size (24 bits) of mantissa.\n",
    "        j = int(random_next_uniform_float32(rng_states, thread_index) * (i + 1))\n",
    "      deck[i], deck[j] = deck[j], deck[i]\n",
    "\n",
    "    for hand_index in range(HANDS_PER_DECK):\n",
    "      hand = deck[hand_index : hand_index + 5]\n",
    "      outcome = evaluate_hand_numba(hand, ranks, freqs)\n",
    "      thread_tally[outcome] += 1\n",
    "\n",
    "  # First accumulate a per-block tally, then accumulate that tally into the global tally.\n",
    "  thread_id = cuda.threadIdx.x\n",
    "  if thread_id == 0:\n",
    "    for i in range(NUM_OUTCOMES):\n",
    "      shared_tally[i] = 0\n",
    "  cuda.syncthreads()\n",
    "\n",
    "  # Each thread adds its local results to shared memory.\n",
    "  for i in range(NUM_OUTCOMES):\n",
    "    cuda.atomic.add(shared_tally, i, thread_tally[i])\n",
    "    cuda.syncthreads()\n",
    "\n",
    "  if thread_id == 0:\n",
    "    for i in range(NUM_OUTCOMES):\n",
    "      cuda.atomic.add(global_tally, i, shared_tally[i])"
   ]
  },
  {
   "cell_type": "code",
   "execution_count": 20,
   "id": "e3280ce4-3cdc-4910-96d7-6b86410d8be4",
   "metadata": {
    "execution": {
     "iopub.execute_input": "2025-01-04T19:30:41.905598Z",
     "iopub.status.busy": "2025-01-04T19:30:41.905169Z",
     "iopub.status.idle": "2025-01-04T19:30:41.915886Z",
     "shell.execute_reply": "2025-01-04T19:30:41.915335Z",
     "shell.execute_reply.started": "2025-01-04T19:30:41.905563Z"
    }
   },
   "outputs": [],
   "source": [
    "THREADS_PER_BLOCK = 64"
   ]
  },
  {
   "cell_type": "code",
   "execution_count": 21,
   "id": "5717ae01-e8ed-4f5e-be14-4b24c5030a05",
   "metadata": {
    "execution": {
     "iopub.execute_input": "2025-01-04T19:30:41.918259Z",
     "iopub.status.busy": "2025-01-04T19:30:41.917982Z",
     "iopub.status.idle": "2025-01-04T19:30:41.926076Z",
     "shell.execute_reply": "2025-01-04T19:30:41.925533Z",
     "shell.execute_reply.started": "2025-01-04T19:30:41.918246Z"
    },
    "lines_to_next_cell": 2
   },
   "outputs": [],
   "source": [
    "@cuda.jit(fastmath=True)  # Using cuda.shared.array.\n",
    "def compute_gpu(rng_states, num_decks_per_thread, global_tally):\n",
    "  # pylint: disable=too-many-function-args, no-value-for-parameter, comparison-with-callable\n",
    "  # pylint: disable=possibly-used-before-assignment\n",
    "  USE_UINT_RANDOM = True\n",
    "  thread_index = cuda.grid(1)\n",
    "  if thread_index >= len(rng_states):\n",
    "    return\n",
    "  thread_id = cuda.threadIdx.x\n",
    "  block_tally = cuda.shared.array((THREADS_PER_BLOCK, NUM_OUTCOMES), np.int32)\n",
    "  block_deck = cuda.shared.array((THREADS_PER_BLOCK, DECK_SIZE), np.uint8)\n",
    "  block_ranks = cuda.shared.array((THREADS_PER_BLOCK, HAND_SIZE), np.uint8)\n",
    "  block_freqs = cuda.shared.array((THREADS_PER_BLOCK, NUM_RANKS), np.uint8)\n",
    "  tally = block_tally[thread_id]\n",
    "  deck = block_deck[thread_id]\n",
    "  ranks = block_ranks[thread_id]\n",
    "  freqs = block_freqs[thread_id]\n",
    "\n",
    "  tally[:] = 0\n",
    "  for i in range(numba.uint8(DECK_SIZE)):  # Casting as uint8 nicely unrolls the loop.\n",
    "    deck[i] = i\n",
    "\n",
    "  for _ in range(num_decks_per_thread):\n",
    "    # Apply Fisher-Yates shuffle to current deck.\n",
    "    for i in range(51, 0, -1):\n",
    "      # See https://github.com/numba/numba/blob/main/numba/cuda/random.py\n",
    "      if USE_UINT_RANDOM:  # Faster and has lower bias (~2.76e-18 for worst case ).\n",
    "        random_uint64 = random_next_uniform_uint(rng_states, thread_index)\n",
    "        j = numba.uint32(random_uint64) % numba.uint32(i + 1)\n",
    "      else:  # Results in higher bias (~2.86e-6) due to reduced size (24 bits) of mantissa.\n",
    "        j = int(random_next_uniform_float32(rng_states, thread_index) * (i + 1))\n",
    "      deck[i], deck[j] = deck[j], deck[i]\n",
    "\n",
    "    for hand_index in range(HANDS_PER_DECK):\n",
    "      hand = deck[hand_index : hand_index + 5]\n",
    "      outcome = evaluate_hand_numba(hand, ranks, freqs)\n",
    "      tally[outcome] += 1\n",
    "\n",
    "  # First accumulate a per-block tally, then accumulate that tally into the global tally.\n",
    "  shared_tally = cuda.shared.array(NUM_OUTCOMES, np.int64)  # Per-block intermediate tally.\n",
    "  if thread_id == 0:\n",
    "    shared_tally[:] = 0\n",
    "  cuda.syncthreads()\n",
    "\n",
    "  # Each thread adds its local results to shared memory.\n",
    "  for i in range(NUM_OUTCOMES):\n",
    "    cuda.atomic.add(shared_tally, i, tally[i])\n",
    "    cuda.syncthreads()\n",
    "\n",
    "  if thread_id == 0:\n",
    "    for i in range(NUM_OUTCOMES):\n",
    "      cuda.atomic.add(global_tally, i, shared_tally[i])"
   ]
  },
  {
   "cell_type": "code",
   "execution_count": 23,
   "id": "4133487b-134a-4358-8518-c5979efc9acd",
   "metadata": {
    "execution": {
     "iopub.execute_input": "2025-01-04T19:30:41.939111Z",
     "iopub.status.busy": "2025-01-04T19:30:41.938942Z",
     "iopub.status.idle": "2025-01-04T19:30:41.950247Z",
     "shell.execute_reply": "2025-01-04T19:30:41.949608Z",
     "shell.execute_reply.started": "2025-01-04T19:30:41.939098Z"
    }
   },
   "outputs": [],
   "source": [
    "def simulate_hands_gpu_cuda(num_decks, rng):\n",
    "  device = cuda.get_current_device()\n",
    "  # Target enough threads for ~4 blocks per SM.\n",
    "  target_num_threads = 4 * device.MULTIPROCESSOR_COUNT * THREADS_PER_BLOCK\n",
    "  num_decks_per_thread = max(1, num_decks // target_num_threads)\n",
    "  num_threads = num_decks // num_decks_per_thread\n",
    "  # print(f'{num_decks_per_thread=} {num_threads=}')\n",
    "  blocks = math.ceil(num_threads / THREADS_PER_BLOCK)\n",
    "  seed = rng.integers(2**64, dtype=np.uint64)\n",
    "  d_rng_states = random_create_states(num_threads, seed)\n",
    "  d_global_tally = cuda.to_device(np.zeros(NUM_OUTCOMES, np.int64))\n",
    "  compute_gpu[blocks, THREADS_PER_BLOCK](d_rng_states, num_decks_per_thread, d_global_tally)\n",
    "  return d_global_tally.copy_to_host() / (num_threads * num_decks_per_thread * HANDS_PER_DECK)"
   ]
  },
  {
   "cell_type": "code",
   "execution_count": 24,
   "id": "958981de-2fde-480b-a15e-b761255c37c9",
   "metadata": {
    "execution": {
     "iopub.execute_input": "2025-01-04T19:30:41.951243Z",
     "iopub.status.busy": "2025-01-04T19:30:41.950932Z",
     "iopub.status.idle": "2025-01-04T19:30:43.817995Z",
     "shell.execute_reply": "2025-01-04T19:30:43.817276Z",
     "shell.execute_reply.started": "2025-01-04T19:30:41.951228Z"
    }
   },
   "outputs": [],
   "source": [
    "assert np.allclose(\n",
    "    simulate_hands_gpu_cuda(10**7, np.random.default_rng(1)), EXPECTED_PROB, atol=0.0001\n",
    ")"
   ]
  },
  {
   "cell_type": "code",
   "execution_count": 25,
   "id": "f3d4a20b-0082-4e4c-b752-6bacb0502053",
   "metadata": {
    "execution": {
     "iopub.execute_input": "2025-01-04T19:30:43.818816Z",
     "iopub.status.busy": "2025-01-04T19:30:43.818670Z",
     "iopub.status.idle": "2025-01-04T19:30:45.480071Z",
     "shell.execute_reply": "2025-01-04T19:30:45.479509Z",
     "shell.execute_reply.started": "2025-01-04T19:30:43.818801Z"
    }
   },
   "outputs": [
    {
     "name": "stdout",
     "output_type": "stream",
     "text": [
      "331 ms ± 2.67 ms per loop (mean ± std. dev. of 5 runs, 1 loop each)\n"
     ]
    }
   ],
   "source": [
    "%timeit -n1 -r5 simulate_hands_gpu_cuda(10**7, np.random.default_rng(1))  # ~300 ms."
   ]
  },
  {
   "cell_type": "code",
   "execution_count": 26,
   "id": "307558fb-0ee8-4c46-ac64-aed743419c4b",
   "metadata": {
    "execution": {
     "iopub.execute_input": "2025-01-04T19:30:45.480985Z",
     "iopub.status.busy": "2025-01-04T19:30:45.480803Z",
     "iopub.status.idle": "2025-01-04T19:30:45.483860Z",
     "shell.execute_reply": "2025-01-04T19:30:45.483333Z",
     "shell.execute_reply.started": "2025-01-04T19:30:45.480972Z"
    },
    "lines_to_next_cell": 2
   },
   "outputs": [],
   "source": [
    "# simulate_poker_hands(10**8, 'gpu_cuda', simulate_hands_gpu_cuda)"
   ]
  },
  {
   "cell_type": "code",
   "execution_count": 27,
   "id": "70cee4f8-7a70-40ed-b497-64215c07468a",
   "metadata": {
    "execution": {
     "iopub.execute_input": "2025-01-04T19:30:45.484902Z",
     "iopub.status.busy": "2025-01-04T19:30:45.484442Z",
     "iopub.status.idle": "2025-01-04T19:30:45.493752Z",
     "shell.execute_reply": "2025-01-04T19:30:45.493165Z",
     "shell.execute_reply.started": "2025-01-04T19:30:45.484887Z"
    }
   },
   "outputs": [],
   "source": [
    "def write_cuda_assembly_code():\n",
    "  if 0:\n",
    "    signature = (cuda.random.xoroshiro128p_type[:], numba.int64, numba.int64[:])\n",
    "    ptx, _ = cuda.compile_ptx_for_current_device(compute_gpu, signature, device=True, abi='c')\n",
    "  else:\n",
    "    (ptx,) = compute_gpu.inspect_asm().values()\n",
    "  pathlib.Path('compute_gpu.ptx').write_text(ptx, encoding='utf-8')"
   ]
  },
  {
   "cell_type": "code",
   "execution_count": 28,
   "id": "e6e87979-f6ba-42ec-bb1a-24a1b23dff80",
   "metadata": {
    "execution": {
     "iopub.execute_input": "2025-01-04T19:30:45.494942Z",
     "iopub.status.busy": "2025-01-04T19:30:45.494454Z",
     "iopub.status.idle": "2025-01-04T19:30:45.502742Z",
     "shell.execute_reply": "2025-01-04T19:30:45.502227Z",
     "shell.execute_reply.started": "2025-01-04T19:30:45.494926Z"
    }
   },
   "outputs": [],
   "source": [
    "def report_kernel_properties():\n",
    "  PROPERTIES = 'const_mem_size local_mem_per_thread max_threads_per_block regs_per_thread shared_mem_per_block'.split()\n",
    "  for property_name in PROPERTIES:\n",
    "    (value,) = getattr(compute_gpu, 'get_' + property_name)().values()\n",
    "    print(f'{property_name} = {value}')"
   ]
  },
  {
   "cell_type": "code",
   "execution_count": 29,
   "id": "eb27c7ae-beb4-4cb0-a28f-8f520e2870c3",
   "metadata": {
    "execution": {
     "iopub.execute_input": "2025-01-04T19:30:45.504157Z",
     "iopub.status.busy": "2025-01-04T19:30:45.503452Z",
     "iopub.status.idle": "2025-01-04T19:30:45.514966Z",
     "shell.execute_reply": "2025-01-04T19:30:45.514243Z",
     "shell.execute_reply.started": "2025-01-04T19:30:45.504144Z"
    }
   },
   "outputs": [
    {
     "name": "stdout",
     "output_type": "stream",
     "text": [
      "const_mem_size = 0\n",
      "local_mem_per_thread = 0\n",
      "max_threads_per_block = 1024\n",
      "regs_per_thread = 36\n",
      "shared_mem_per_block = 7120\n"
     ]
    }
   ],
   "source": [
    "if cuda.is_available():\n",
    "  write_cuda_assembly_code()\n",
    "  report_kernel_properties()"
   ]
  },
  {
   "cell_type": "code",
   "execution_count": 30,
   "id": "dfaa1fce-1e55-4d80-a832-1f6d17051415",
   "metadata": {
    "execution": {
     "iopub.execute_input": "2025-01-04T19:30:45.516248Z",
     "iopub.status.busy": "2025-01-04T19:30:45.515887Z",
     "iopub.status.idle": "2025-01-04T19:30:45.521828Z",
     "shell.execute_reply": "2025-01-04T19:30:45.521014Z",
     "shell.execute_reply.started": "2025-01-04T19:30:45.516233Z"
    }
   },
   "outputs": [],
   "source": [
    "# const_mem_size = 0\n",
    "# local_mem_per_thread = 112\n",
    "# max_threads_per_block = 1024\n",
    "# regs_per_thread = 37\n",
    "# shared_mem_per_block = 80\n",
    "\n",
    "# const_mem_size = 0\n",
    "# local_mem_per_thread = 0\n",
    "# max_threads_per_block = 1024\n",
    "# regs_per_thread = 40\n",
    "# shared_mem_per_block = 7120"
   ]
  },
  {
   "cell_type": "markdown",
   "id": "d2bc4755-cde2-4223-80f0-5b02fc49a389",
   "metadata": {},
   "source": [
    "### Results"
   ]
  },
  {
   "cell_type": "code",
   "execution_count": 31,
   "id": "da3478c3-a9be-4876-b52b-d30866a0ac56",
   "metadata": {
    "execution": {
     "iopub.execute_input": "2025-01-04T19:30:45.522755Z",
     "iopub.status.busy": "2025-01-04T19:30:45.522546Z",
     "iopub.status.idle": "2025-01-04T19:30:45.533635Z",
     "shell.execute_reply": "2025-01-04T19:30:45.532874Z",
     "shell.execute_reply.started": "2025-01-04T19:30:45.522742Z"
    }
   },
   "outputs": [],
   "source": [
    "SIMULATE_FUNCTIONS: Any = {\n",
    "    'cpu_python': simulate_hands_cpu_python,\n",
    "    'cpu_numba': simulate_hands_cpu_numba,\n",
    "}\n",
    "if 'fork' in multiprocessing.get_all_start_methods():\n",
    "  SIMULATE_FUNCTIONS.update({'cpu_numba_multiprocess': simulate_hands_cpu_numba_multiprocess})\n",
    "if cuda.is_available():\n",
    "  SIMULATE_FUNCTIONS.update({'gpu_cuda': simulate_hands_gpu_cuda})"
   ]
  },
  {
   "cell_type": "code",
   "execution_count": 32,
   "id": "92bde0ec-7f24-4f13-b350-cc413094ab11",
   "metadata": {
    "execution": {
     "iopub.execute_input": "2025-01-04T19:30:45.534829Z",
     "iopub.status.busy": "2025-01-04T19:30:45.534468Z",
     "iopub.status.idle": "2025-01-04T19:30:45.542880Z",
     "shell.execute_reply": "2025-01-04T19:30:45.542282Z",
     "shell.execute_reply.started": "2025-01-04T19:30:45.534815Z"
    }
   },
   "outputs": [],
   "source": [
    "COMPLEXITY_ADJUSTMENT = {\n",
    "    'cpu_python': 0.01,\n",
    "    'cpu_numba': 2.0,\n",
    "    'cpu_numba_multiprocess': 20.0,\n",
    "    'gpu_cuda': 100.0,\n",
    "}"
   ]
  },
  {
   "cell_type": "code",
   "execution_count": 33,
   "id": "e7bd410e-681f-499c-b2bf-8303c7146423",
   "metadata": {
    "execution": {
     "iopub.execute_input": "2025-01-04T19:30:45.543866Z",
     "iopub.status.busy": "2025-01-04T19:30:45.543558Z",
     "iopub.status.idle": "2025-01-04T19:30:45.553755Z",
     "shell.execute_reply": "2025-01-04T19:30:45.552998Z",
     "shell.execute_reply.started": "2025-01-04T19:30:45.543852Z"
    }
   },
   "outputs": [],
   "source": [
    "def simulate_poker_hands(base_num_hands, func_name, func, seed=1):\n",
    "  base_num_decks = math.ceil(base_num_hands / HANDS_PER_DECK)\n",
    "  num_decks = math.ceil(base_num_decks * COMPLEXITY_ADJUSTMENT[func_name])\n",
    "  num_hands = num_decks * HANDS_PER_DECK\n",
    "  print(f'\\nFor {func_name} simulating {num_hands:,} hands:')\n",
    "\n",
    "  # Ensure the function is jitted.\n",
    "  _ = func(int(100_000 * COMPLEXITY_ADJUSTMENT[func_name]), np.random.default_rng(seed))\n",
    "\n",
    "  start_time = time.perf_counter_ns()\n",
    "  results = func(num_decks, np.random.default_rng(seed))\n",
    "  elapsed_time = (time.perf_counter_ns() - start_time) / 10**9\n",
    "\n",
    "  round_digits = lambda x, ndigits=3: round(x, ndigits - 1 - math.floor(math.log10(abs(x))))\n",
    "  hands_per_s = round_digits(int(num_hands / elapsed_time))\n",
    "  print(f' Elapsed time is {elapsed_time:.3f} s, or {hands_per_s:,} hands/s.')\n",
    "\n",
    "  print(' Probabilities:')\n",
    "  for (outcome, reference_count), prob in zip(REFERENCE_COUNT_OF_OUTCOME.items(), results):\n",
    "    reference_prob = reference_count / comb(DECK_SIZE, HAND_SIZE)\n",
    "    error = prob - reference_prob\n",
    "    s = f'  {outcome.string_name:<16}: {prob * 100:8.5f}%'\n",
    "    s += f'  (vs. reference {reference_prob * 100:8.5f}%  error:{error * 100:8.5f}%)'\n",
    "    print(s)"
   ]
  },
  {
   "cell_type": "code",
   "execution_count": 34,
   "id": "e935c8b8-a126-4a4f-ae08-bbba8d6a80b4",
   "metadata": {
    "execution": {
     "iopub.execute_input": "2025-01-04T19:30:45.556283Z",
     "iopub.status.busy": "2025-01-04T19:30:45.555863Z",
     "iopub.status.idle": "2025-01-04T19:30:45.564575Z",
     "shell.execute_reply": "2025-01-04T19:30:45.563799Z",
     "shell.execute_reply.started": "2025-01-04T19:30:45.556260Z"
    }
   },
   "outputs": [],
   "source": [
    "def compare_simulations(base_num_hands, seed=1):\n",
    "  for func_name, func in SIMULATE_FUNCTIONS.items():\n",
    "    simulate_poker_hands(base_num_hands, func_name, func, seed)"
   ]
  },
  {
   "cell_type": "code",
   "execution_count": 39,
   "id": "ca0e7a67-ca73-4e8f-b584-9368daefeb7e",
   "metadata": {
    "execution": {
     "iopub.execute_input": "2025-01-04T19:31:35.986496Z",
     "iopub.status.busy": "2025-01-04T19:31:35.986060Z",
     "iopub.status.idle": "2025-01-04T19:31:39.624116Z",
     "shell.execute_reply": "2025-01-04T19:31:39.623358Z",
     "shell.execute_reply.started": "2025-01-04T19:31:35.986478Z"
    }
   },
   "outputs": [
    {
     "name": "stdout",
     "output_type": "stream",
     "text": [
      "\n",
      "For cpu_python simulating 100,032 hands:\n",
      " Elapsed time is 0.726 s, or 138,000 hands/s.\n",
      " Probabilities:\n",
      "  Royal flush     :  0.00000%  (vs. reference  0.00015%  error:-0.00015%)\n",
      "  Straight flush  :  0.00000%  (vs. reference  0.00139%  error:-0.00139%)\n",
      "  Four of a kind  :  0.01999%  (vs. reference  0.02401%  error:-0.00402%)\n",
      "  Full house      :  0.19994%  (vs. reference  0.14406%  error: 0.05588%)\n",
      "  Flush           :  0.23992%  (vs. reference  0.19654%  error: 0.04338%)\n",
      "  Straight        :  0.36988%  (vs. reference  0.39246%  error:-0.02258%)\n",
      "  Three of a kind :  1.68346%  (vs. reference  2.11285%  error:-0.42938%)\n",
      "  Two pair        :  4.75848%  (vs. reference  4.75390%  error: 0.00458%)\n",
      "  One pair        : 42.53039%  (vs. reference 42.25690%  error: 0.27349%)\n",
      "  High card       : 50.19794%  (vs. reference 50.11774%  error: 0.08020%)\n",
      "\n",
      "For cpu_numba simulating 20,000,064 hands:\n",
      " Elapsed time is 0.608 s, or 32,900,000 hands/s.\n",
      " Probabilities:\n",
      "  Royal flush     :  0.00015%  (vs. reference  0.00015%  error:-0.00000%)\n",
      "  Straight flush  :  0.00100%  (vs. reference  0.00139%  error:-0.00039%)\n",
      "  Four of a kind  :  0.02315%  (vs. reference  0.02401%  error:-0.00086%)\n",
      "  Full house      :  0.14800%  (vs. reference  0.14406%  error: 0.00394%)\n",
      "  Flush           :  0.19970%  (vs. reference  0.19654%  error: 0.00316%)\n",
      "  Straight        :  0.38815%  (vs. reference  0.39246%  error:-0.00432%)\n",
      "  Three of a kind :  2.12954%  (vs. reference  2.11285%  error: 0.01670%)\n",
      "  Two pair        :  4.75186%  (vs. reference  4.75390%  error:-0.00204%)\n",
      "  One pair        : 42.18880%  (vs. reference 42.25690%  error:-0.06810%)\n",
      "  High card       : 50.16964%  (vs. reference 50.11774%  error: 0.05190%)\n",
      "\n",
      "For cpu_numba_multiprocess simulating 200,000,640 hands:\n",
      " Elapsed time is 0.538 s, or 371,000,000 hands/s.\n",
      " Probabilities:\n",
      "  Royal flush     :  0.00012%  (vs. reference  0.00015%  error:-0.00003%)\n",
      "  Straight flush  :  0.00072%  (vs. reference  0.00139%  error:-0.00067%)\n",
      "  Four of a kind  :  0.02328%  (vs. reference  0.02401%  error:-0.00073%)\n",
      "  Full house      :  0.14412%  (vs. reference  0.14406%  error: 0.00006%)\n",
      "  Flush           :  0.20700%  (vs. reference  0.19654%  error: 0.01046%)\n",
      "  Straight        :  0.38244%  (vs. reference  0.39246%  error:-0.01003%)\n",
      "  Three of a kind :  2.12723%  (vs. reference  2.11285%  error: 0.01438%)\n",
      "  Two pair        :  4.73388%  (vs. reference  4.75390%  error:-0.02002%)\n",
      "  One pair        : 42.21658%  (vs. reference 42.25690%  error:-0.04033%)\n",
      "  High card       : 50.16464%  (vs. reference 50.11774%  error: 0.04690%)\n",
      "\n",
      "For gpu_cuda simulating 1,000,003,200 hands:\n",
      " Elapsed time is 0.520 s, or 1,920,000,000 hands/s.\n",
      " Probabilities:\n",
      "  Royal flush     :  0.00015%  (vs. reference  0.00015%  error:-0.00000%)\n",
      "  Straight flush  :  0.00137%  (vs. reference  0.00139%  error:-0.00001%)\n",
      "  Four of a kind  :  0.02399%  (vs. reference  0.02401%  error:-0.00002%)\n",
      "  Full house      :  0.14410%  (vs. reference  0.14406%  error: 0.00004%)\n",
      "  Flush           :  0.19668%  (vs. reference  0.19654%  error: 0.00014%)\n",
      "  Straight        :  0.39245%  (vs. reference  0.39246%  error:-0.00002%)\n",
      "  Three of a kind :  2.11166%  (vs. reference  2.11285%  error:-0.00119%)\n",
      "  Two pair        :  4.75439%  (vs. reference  4.75390%  error: 0.00049%)\n",
      "  One pair        : 42.25472%  (vs. reference 42.25690%  error:-0.00218%)\n",
      "  High card       : 50.12049%  (vs. reference 50.11774%  error: 0.00275%)\n"
     ]
    }
   ],
   "source": [
    "compare_simulations(base_num_hands=10**7)"
   ]
  },
  {
   "cell_type": "code",
   "execution_count": 36,
   "id": "4ef83cc9-da12-486c-b9f5-dc8f644304d6",
   "metadata": {
    "execution": {
     "iopub.execute_input": "2025-01-04T19:30:49.381012Z",
     "iopub.status.busy": "2025-01-04T19:30:49.380778Z",
     "iopub.status.idle": "2025-01-04T19:30:49.384175Z",
     "shell.execute_reply": "2025-01-04T19:30:49.383667Z",
     "shell.execute_reply.started": "2025-01-04T19:30:49.380996Z"
    }
   },
   "outputs": [],
   "source": [
    "# 116k, 7.4m, 82m, 780m\n",
    "# 123k, 16m, 156m, 1400m\n",
    "# 137k, 32m, 340m, 2000m"
   ]
  },
  {
   "cell_type": "markdown",
   "id": "53b10704-3a4b-4b0e-b0ac-711b2afed9bd",
   "metadata": {
    "jp-MarkdownHeadingCollapsed": true
   },
   "source": [
    "### End"
   ]
  }
 ],
 "metadata": {
  "colab": {
   "collapsed_sections": [],
   "provenance": [],
   "toc_visible": true
  },
  "jupytext": {
   "cell_metadata_filter": "-all",
   "formats": "ipynb,py:percent",
   "main_language": "python",
   "notebook_metadata_filter": "-all"
  },
  "kernelspec": {
   "display_name": "Python 3 (ipykernel)",
   "language": "python",
   "name": "python3"
  },
  "language_info": {
   "codemirror_mode": {
    "name": "ipython",
    "version": 3
   },
   "file_extension": ".py",
   "mimetype": "text/x-python",
   "name": "python",
   "nbconvert_exporter": "python",
   "pygments_lexer": "ipython3",
   "version": "3.10.12"
  }
 },
 "nbformat": 4,
 "nbformat_minor": 5
}
