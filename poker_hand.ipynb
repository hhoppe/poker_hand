{
 "cells": [
  {
   "cell_type": "markdown",
   "id": "f819c4f7",
   "metadata": {},
   "source": [
    "# Poker hand simulation\n",
    "\n",
    "A simple testbed to experiment with Python acceleration using `numba` (CPU-jitted code) and `numba.cuda` (GPU CUDA-jitted code).\n",
    "\n",
    "We estimate poker hand probabilities using Monte Carlo simulation and compare results with known reference values.\n",
    "\n",
    "We compare execution speeds using Python, `numba`, `numba` with multiprocessing, and `numba.cuda`.\n",
    "\n",
    "[**[Open this notebook in Colab]**](https://colab.research.google.com/github/hhoppe/poker_hand/blob/main/poker_hand.ipynb)."
   ]
  },
  {
   "cell_type": "markdown",
   "id": "926b7255-e5af-473f-809b-000987e06690",
   "metadata": {},
   "source": [
    "### Imports"
   ]
  },
  {
   "cell_type": "code",
   "execution_count": 1,
   "id": "b7672379",
   "metadata": {
    "execution": {
     "iopub.execute_input": "2024-12-29T02:55:23.251398Z",
     "iopub.status.busy": "2024-12-29T02:55:23.251127Z",
     "iopub.status.idle": "2024-12-29T02:55:23.445393Z",
     "shell.execute_reply": "2024-12-29T02:55:23.444809Z",
     "shell.execute_reply.started": "2024-12-29T02:55:23.251378Z"
    },
    "lines_to_next_cell": 2,
    "tags": []
   },
   "outputs": [],
   "source": [
    "import math\n",
    "import multiprocessing\n",
    "import time\n",
    "from typing import Any\n",
    "\n",
    "import numba\n",
    "from numba import cuda\n",
    "import numba.cuda.random\n",
    "import numpy as np"
   ]
  },
  {
   "cell_type": "code",
   "execution_count": 2,
   "id": "23e84adb-9b5e-4ba9-97bd-bdb7c0f92cae",
   "metadata": {
    "execution": {
     "iopub.execute_input": "2024-12-29T02:55:23.446323Z",
     "iopub.status.busy": "2024-12-29T02:55:23.446115Z",
     "iopub.status.idle": "2024-12-29T02:55:23.487609Z",
     "shell.execute_reply": "2024-12-29T02:55:23.487042Z",
     "shell.execute_reply.started": "2024-12-29T02:55:23.446309Z"
    },
    "lines_to_next_cell": 2
   },
   "outputs": [
    {
     "name": "stdout",
     "output_type": "stream",
     "text": [
      "Found 1 CUDA devices\n",
      "id 0    b'NVIDIA GeForce RTX 3080 Ti'                              [SUPPORTED]\n",
      "                      Compute Capability: 8.6\n",
      "                           PCI Device ID: 0\n",
      "                              PCI Bus ID: 10\n",
      "                                    UUID: GPU-e50896f3-f795-945c-9c59-fffc57278834\n",
      "                                Watchdog: Enabled\n",
      "             FP32/FP64 Performance Ratio: 32\n",
      "Summary:\n",
      "\t1/1 devices are supported\n"
     ]
    },
    {
     "data": {
      "text/plain": [
       "True"
      ]
     },
     "execution_count": 2,
     "metadata": {},
     "output_type": "execute_result"
    }
   ],
   "source": [
    "cuda.detect()"
   ]
  },
  {
   "cell_type": "markdown",
   "id": "e5af2c7f-c334-49ad-9afb-fb73cf6d7db4",
   "metadata": {
    "execution": {
     "iopub.execute_input": "2024-12-29T01:42:55.940070Z",
     "iopub.status.busy": "2024-12-29T01:42:55.939661Z",
     "iopub.status.idle": "2024-12-29T01:42:55.942841Z",
     "shell.execute_reply": "2024-12-29T01:42:55.942254Z",
     "shell.execute_reply.started": "2024-12-29T01:42:55.940047Z"
    },
    "lines_to_next_cell": 2
   },
   "source": [
    "### Hand evaluation"
   ]
  },
  {
   "cell_type": "code",
   "execution_count": 3,
   "id": "af3ed5c6-06d9-4f30-b136-b2f7a65bafd9",
   "metadata": {
    "execution": {
     "iopub.execute_input": "2024-12-29T02:55:23.488732Z",
     "iopub.status.busy": "2024-12-29T02:55:23.488457Z",
     "iopub.status.idle": "2024-12-29T02:55:23.527028Z",
     "shell.execute_reply": "2024-12-29T02:55:23.526219Z",
     "shell.execute_reply.started": "2024-12-29T02:55:23.488719Z"
    }
   },
   "outputs": [],
   "source": [
    "@numba.njit\n",
    "def get_rank(card):\n",
    "  return card >> 2  # 13 ranks numbered 0-12 (23456789TJQKA)."
   ]
  },
  {
   "cell_type": "code",
   "execution_count": 4,
   "id": "ca9efac4-78ad-41ae-9f00-556b6e1308d3",
   "metadata": {
    "execution": {
     "iopub.execute_input": "2024-12-29T02:55:23.528248Z",
     "iopub.status.busy": "2024-12-29T02:55:23.527795Z",
     "iopub.status.idle": "2024-12-29T02:55:23.535818Z",
     "shell.execute_reply": "2024-12-29T02:55:23.535224Z",
     "shell.execute_reply.started": "2024-12-29T02:55:23.528234Z"
    }
   },
   "outputs": [],
   "source": [
    "@numba.njit\n",
    "def get_suit(card):\n",
    "  return card & 0b11  # 4 suits numbered 0-3."
   ]
  },
  {
   "cell_type": "code",
   "execution_count": 5,
   "id": "de8da80d-4627-4d1a-b9f6-9e1e26f062f2",
   "metadata": {
    "execution": {
     "iopub.execute_input": "2024-12-29T02:55:23.536608Z",
     "iopub.status.busy": "2024-12-29T02:55:23.536456Z",
     "iopub.status.idle": "2024-12-29T02:55:23.545359Z",
     "shell.execute_reply": "2024-12-29T02:55:23.544731Z",
     "shell.execute_reply.started": "2024-12-29T02:55:23.536596Z"
    }
   },
   "outputs": [],
   "source": [
    "def evaluate_hand_python(cards, ranks, freqs):\n",
    "  # Sort cards by rank for easier pattern matching, using simple insertion sort.\n",
    "  for i in range(5):\n",
    "    ranks[i] = get_rank(cards[i])\n",
    "  for i in range(1, 5):\n",
    "    key = ranks[i]\n",
    "    j = i - 1\n",
    "    while j >= 0 and ranks[j] > key:\n",
    "      ranks[j + 1] = ranks[j]\n",
    "      j -= 1\n",
    "    ranks[j + 1] = key\n",
    "\n",
    "  c0, c1, c2, c3, c4 = cards[0], cards[1], cards[2], cards[3], cards[4]\n",
    "  is_flush = get_suit(c0) == get_suit(c1) == get_suit(c2) == get_suit(c3) == get_suit(c4)\n",
    "  r0, r1, r2, r3, r4 = ranks\n",
    "  is_straight = r1 == r0 + 1 and r2 == r0 + 2 and r3 == r0 + 3 and r4 - r0 in (4, 12)\n",
    "\n",
    "  # Count rank frequencies.\n",
    "  freqs[:] = 0\n",
    "  for rank in ranks:\n",
    "    freqs[rank] += 1\n",
    "  # num_pairs = np.sum(freqs == 2)\n",
    "  num_pairs = 0\n",
    "  for i in range(13):\n",
    "    if freqs[i] == 2:\n",
    "      num_pairs += 1\n",
    "  max_freq = max(freqs)\n",
    "\n",
    "  if is_flush and is_straight:\n",
    "    return 0 if ranks[0] == 8 else 1  # Royal flush or straight flush.\n",
    "  if max_freq == 4:\n",
    "    return 2  # Four of a kind.\n",
    "  if max_freq == 3 and num_pairs > 0:\n",
    "    return 3  # Full house.\n",
    "  if is_flush:\n",
    "    return 4  # Flush.\n",
    "  if is_straight:\n",
    "    return 5  # Straight.\n",
    "  if max_freq == 3:\n",
    "    return 6  # Three of a kind.\n",
    "  if max_freq == 2:\n",
    "    if num_pairs == 2:\n",
    "      return 7  # Two pair.\n",
    "    return 8  # One pair.\n",
    "  return 9  # High card."
   ]
  },
  {
   "cell_type": "code",
   "execution_count": 6,
   "id": "8676ddc6-f14c-4fe3-8316-249f247439ad",
   "metadata": {
    "execution": {
     "iopub.execute_input": "2024-12-29T02:55:23.547337Z",
     "iopub.status.busy": "2024-12-29T02:55:23.546971Z",
     "iopub.status.idle": "2024-12-29T02:55:23.555007Z",
     "shell.execute_reply": "2024-12-29T02:55:23.554381Z",
     "shell.execute_reply.started": "2024-12-29T02:55:23.547323Z"
    }
   },
   "outputs": [],
   "source": [
    "evaluate_hand = numba.njit(evaluate_hand_python)"
   ]
  },
  {
   "cell_type": "markdown",
   "id": "b2c72168-c7d6-4792-9ea9-ee887733a7e1",
   "metadata": {
    "execution": {
     "iopub.execute_input": "2024-12-29T01:43:09.066669Z",
     "iopub.status.busy": "2024-12-29T01:43:09.066142Z",
     "iopub.status.idle": "2024-12-29T01:43:09.069033Z",
     "shell.execute_reply": "2024-12-29T01:43:09.068530Z",
     "shell.execute_reply.started": "2024-12-29T01:43:09.066653Z"
    },
    "lines_to_next_cell": 2
   },
   "source": [
    "### CPU simulation"
   ]
  },
  {
   "cell_type": "code",
   "execution_count": 7,
   "id": "a2c571d1-d546-49db-bcd7-4d7b2b24ab59",
   "metadata": {
    "execution": {
     "iopub.execute_input": "2024-12-29T02:55:23.555917Z",
     "iopub.status.busy": "2024-12-29T02:55:23.555664Z",
     "iopub.status.idle": "2024-12-29T02:55:23.564695Z",
     "shell.execute_reply": "2024-12-29T02:55:23.564127Z",
     "shell.execute_reply.started": "2024-12-29T02:55:23.555903Z"
    }
   },
   "outputs": [],
   "source": [
    "def compute_cpu_python(num_decks, seed):\n",
    "  np.random.seed(seed)\n",
    "  deck = np.arange(52, dtype=np.uint8)\n",
    "  ranks = np.empty(5, np.uint8)\n",
    "  freqs = np.empty(13, np.int8)\n",
    "  tally = np.zeros(10, np.int64)\n",
    "\n",
    "  for _ in range(num_decks):\n",
    "    np.random.shuffle(deck)\n",
    "    for hand_index in range(10):\n",
    "      hand = deck[hand_index * 5 : (hand_index + 1) * 5]\n",
    "      outcome = evaluate_hand(hand, ranks, freqs)\n",
    "      tally[outcome] += 1\n",
    "\n",
    "  return tally"
   ]
  },
  {
   "cell_type": "code",
   "execution_count": 8,
   "id": "cec81094-9c6c-4999-bfcb-e6a82b76556c",
   "metadata": {
    "execution": {
     "iopub.execute_input": "2024-12-29T02:55:23.565793Z",
     "iopub.status.busy": "2024-12-29T02:55:23.565323Z",
     "iopub.status.idle": "2024-12-29T02:55:23.576482Z",
     "shell.execute_reply": "2024-12-29T02:55:23.575762Z",
     "shell.execute_reply.started": "2024-12-29T02:55:23.565779Z"
    }
   },
   "outputs": [],
   "source": [
    "compute_cpu = numba.njit(compute_cpu_python)"
   ]
  },
  {
   "cell_type": "code",
   "execution_count": 9,
   "id": "38b2467c-cc46-4b3d-ab2e-0db7891bcf6f",
   "metadata": {
    "execution": {
     "iopub.execute_input": "2024-12-29T02:55:23.577340Z",
     "iopub.status.busy": "2024-12-29T02:55:23.577191Z",
     "iopub.status.idle": "2024-12-29T02:55:23.585701Z",
     "shell.execute_reply": "2024-12-29T02:55:23.584835Z",
     "shell.execute_reply.started": "2024-12-29T02:55:23.577327Z"
    }
   },
   "outputs": [],
   "source": [
    "def compute_chunk(args):\n",
    "  num_decks, seed = args\n",
    "  return compute_cpu(num_decks, seed)"
   ]
  },
  {
   "cell_type": "code",
   "execution_count": 10,
   "id": "09c9134d-3628-4a71-9ef9-a5bab948dd66",
   "metadata": {
    "execution": {
     "iopub.execute_input": "2024-12-29T02:55:23.586594Z",
     "iopub.status.busy": "2024-12-29T02:55:23.586434Z",
     "iopub.status.idle": "2024-12-29T02:55:23.594433Z",
     "shell.execute_reply": "2024-12-29T02:55:23.593805Z",
     "shell.execute_reply.started": "2024-12-29T02:55:23.586582Z"
    }
   },
   "outputs": [],
   "source": [
    "def run_cpu_python(num_decks, seed=1):\n",
    "  return compute_cpu_python(num_decks, seed=seed) / (num_decks * 10)"
   ]
  },
  {
   "cell_type": "code",
   "execution_count": 11,
   "id": "a5836110-914c-4b0c-ab8a-153cf82305c7",
   "metadata": {
    "execution": {
     "iopub.execute_input": "2024-12-29T02:55:23.595400Z",
     "iopub.status.busy": "2024-12-29T02:55:23.595121Z",
     "iopub.status.idle": "2024-12-29T02:55:23.604107Z",
     "shell.execute_reply": "2024-12-29T02:55:23.603466Z",
     "shell.execute_reply.started": "2024-12-29T02:55:23.595386Z"
    }
   },
   "outputs": [],
   "source": [
    "def run_cpu_numba(num_decks, seed=1):\n",
    "  return compute_cpu(num_decks, seed=seed) / (num_decks * 10)"
   ]
  },
  {
   "cell_type": "code",
   "execution_count": 12,
   "id": "a853fae1-8516-417c-97de-b221f97c6d40",
   "metadata": {
    "execution": {
     "iopub.execute_input": "2024-12-29T02:55:23.605141Z",
     "iopub.status.busy": "2024-12-29T02:55:23.604861Z",
     "iopub.status.idle": "2024-12-29T02:55:23.613452Z",
     "shell.execute_reply": "2024-12-29T02:55:23.612850Z",
     "shell.execute_reply.started": "2024-12-29T02:55:23.605126Z"
    },
    "lines_to_next_cell": 2
   },
   "outputs": [],
   "source": [
    "def run_cpu_numba_multiprocess(num_decks, seed=1):\n",
    "  num_processes = multiprocessing.cpu_count()\n",
    "  chunk_num_decks = math.ceil(num_decks / num_processes)\n",
    "  base_seed = seed * 10_000_000\n",
    "  chunks = [(chunk_num_decks, base_seed + i) for i in range(num_processes)]\n",
    "  # with multiprocessing.get_context('fork').Pool(num_processes) as pool:\n",
    "  with multiprocessing.Pool(num_processes) as pool:\n",
    "    results = pool.map(compute_chunk, chunks)\n",
    "  return np.sum(results, axis=0) / (num_processes * chunk_num_decks * 10)"
   ]
  },
  {
   "cell_type": "markdown",
   "id": "0154d69f-d8dc-4d8b-8d5e-e1632f9f4fc8",
   "metadata": {
    "lines_to_next_cell": 2
   },
   "source": [
    "### GPU simulation"
   ]
  },
  {
   "cell_type": "code",
   "execution_count": 13,
   "id": "4b711771-b771-4519-b3c9-1b0322fc473a",
   "metadata": {
    "execution": {
     "iopub.execute_input": "2024-12-29T02:55:23.614309Z",
     "iopub.status.busy": "2024-12-29T02:55:23.614157Z",
     "iopub.status.idle": "2024-12-29T02:55:23.623358Z",
     "shell.execute_reply": "2024-12-29T02:55:23.622719Z",
     "shell.execute_reply.started": "2024-12-29T02:55:23.614297Z"
    }
   },
   "outputs": [],
   "source": [
    "@cuda.jit\n",
    "def compute_gpu(rng_states, num_decks_per_thread, num_threads, results):\n",
    "  thread_index = cuda.grid(1)  # pylint: disable=no-value-for-parameter\n",
    "  if thread_index >= num_threads:\n",
    "    return\n",
    "\n",
    "  # Local tally for this thread.\n",
    "  local_tally = cuda.local.array(10, np.int32)\n",
    "  for i in range(10):\n",
    "    local_tally[i] = 0\n",
    "\n",
    "  deck = cuda.local.array(52, np.uint8)\n",
    "  ranks = cuda.local.array(5, np.uint8)\n",
    "  freqs = cuda.local.array(13, np.uint8)\n",
    "\n",
    "  for _ in range(num_decks_per_thread):\n",
    "    for i in range(52):\n",
    "      deck[i] = i\n",
    "    # Apply Fisher-Yates shuffle to deck.\n",
    "    for i in range(51, 0, -1):\n",
    "      j = int(cuda.random.xoroshiro128p_uniform_float32(rng_states, thread_index) * (i + 1))\n",
    "      deck[i], deck[j] = deck[j], deck[i]\n",
    "\n",
    "    for hand_index in range(10):\n",
    "      hand = deck[hand_index * 5 : (hand_index + 1) * 5]\n",
    "      outcome = evaluate_hand(hand, ranks, freqs)\n",
    "      local_tally[outcome] += 1\n",
    "\n",
    "  # Accumulate local tallies in global results.\n",
    "  for i in range(10):\n",
    "    cuda.atomic.add(results, i, local_tally[i])  # pylint: disable=too-many-function-args"
   ]
  },
  {
   "cell_type": "code",
   "execution_count": 14,
   "id": "4133487b-134a-4358-8518-c5979efc9acd",
   "metadata": {
    "execution": {
     "iopub.execute_input": "2024-12-29T02:55:23.624417Z",
     "iopub.status.busy": "2024-12-29T02:55:23.624010Z",
     "iopub.status.idle": "2024-12-29T02:55:23.634970Z",
     "shell.execute_reply": "2024-12-29T02:55:23.634171Z",
     "shell.execute_reply.started": "2024-12-29T02:55:23.624399Z"
    }
   },
   "outputs": [],
   "source": [
    "def run_gpu_cuda(num_decks, seed=1, num_decks_per_thread=10, threads_per_block=256):\n",
    "  num_threads = num_decks // num_decks_per_thread\n",
    "  blocks = math.ceil(num_threads / threads_per_block)\n",
    "  d_rng_states = cuda.random.create_xoroshiro128p_states(num_threads, seed=seed)\n",
    "  d_results = cuda.to_device(np.zeros(10, np.int64))\n",
    "  compute_gpu[blocks, threads_per_block](d_rng_states, num_decks_per_thread, num_threads, d_results)\n",
    "  return d_results.copy_to_host() / (num_threads * num_decks_per_thread * 10)"
   ]
  },
  {
   "cell_type": "markdown",
   "id": "d2bc4755-cde2-4223-80f0-5b02fc49a389",
   "metadata": {},
   "source": [
    "### Results"
   ]
  },
  {
   "cell_type": "code",
   "execution_count": 15,
   "id": "da3478c3-a9be-4876-b52b-d30866a0ac56",
   "metadata": {
    "execution": {
     "iopub.execute_input": "2024-12-29T02:55:23.635904Z",
     "iopub.status.busy": "2024-12-29T02:55:23.635722Z",
     "iopub.status.idle": "2024-12-29T02:55:23.643647Z",
     "shell.execute_reply": "2024-12-29T02:55:23.643029Z",
     "shell.execute_reply.started": "2024-12-29T02:55:23.635892Z"
    }
   },
   "outputs": [],
   "source": [
    "methods: Any = {\n",
    "    'cpu_python': run_cpu_python,\n",
    "    'cpu_numba': run_cpu_numba,\n",
    "    'cpu_numba_multiprocess': run_cpu_numba_multiprocess,\n",
    "    'gpu_cuda': run_gpu_cuda,\n",
    "}"
   ]
  },
  {
   "cell_type": "code",
   "execution_count": 16,
   "id": "26449fe7",
   "metadata": {
    "execution": {
     "iopub.execute_input": "2024-12-29T02:55:23.644735Z",
     "iopub.status.busy": "2024-12-29T02:55:23.644372Z",
     "iopub.status.idle": "2024-12-29T02:55:23.653276Z",
     "shell.execute_reply": "2024-12-29T02:55:23.652661Z",
     "shell.execute_reply.started": "2024-12-29T02:55:23.644719Z"
    }
   },
   "outputs": [],
   "source": [
    "def perform_initial_jits(debug=False, num_decks=100_000):\n",
    "  for processor, func in methods.items():\n",
    "    probs = func(num_decks * (10 if processor == 'gpu_cuda' else 1))\n",
    "    if debug:\n",
    "      print(probs[-4:])"
   ]
  },
  {
   "cell_type": "code",
   "execution_count": 17,
   "id": "3f74c12e-e364-4b26-924e-32d18fbb296f",
   "metadata": {
    "execution": {
     "iopub.execute_input": "2024-12-29T02:55:23.654377Z",
     "iopub.status.busy": "2024-12-29T02:55:23.653962Z",
     "iopub.status.idle": "2024-12-29T02:55:27.500878Z",
     "shell.execute_reply": "2024-12-29T02:55:27.500180Z",
     "shell.execute_reply.started": "2024-12-29T02:55:23.654362Z"
    }
   },
   "outputs": [],
   "source": [
    "perform_initial_jits()"
   ]
  },
  {
   "cell_type": "code",
   "execution_count": 18,
   "id": "e7bd410e-681f-499c-b2bf-8303c7146423",
   "metadata": {
    "execution": {
     "iopub.execute_input": "2024-12-29T02:55:27.501999Z",
     "iopub.status.busy": "2024-12-29T02:55:27.501688Z",
     "iopub.status.idle": "2024-12-29T02:55:27.509499Z",
     "shell.execute_reply": "2024-12-29T02:55:27.508709Z",
     "shell.execute_reply.started": "2024-12-29T02:55:27.501985Z"
    }
   },
   "outputs": [],
   "source": [
    "def simulate_poker_hands(base_num_hands, seed=1):\n",
    "  num_hands_per_deck = 10\n",
    "  base_num_decks = base_num_hands // num_hands_per_deck\n",
    "\n",
    "  for processor, func in methods.items():\n",
    "    complexity_factor = dict(cpu_python=0.25, cpu_numba=1, cpu_numba_multiprocess=10, gpu_cuda=100)\n",
    "    num_decks = math.ceil(base_num_decks * complexity_factor[processor])\n",
    "    num_hands = num_decks * 10\n",
    "    print(f'For {processor} simulating {num_hands:_} hands:')\n",
    "\n",
    "    start_time = time.monotonic()\n",
    "    results = func(num_decks, seed=seed)\n",
    "    elapsed_time = time.monotonic() - start_time\n",
    "\n",
    "    hands_per_s = int(num_hands / elapsed_time)\n",
    "    print(f' Elapsed time is {elapsed_time:.3f} s, or {hands_per_s:_} hands/s.')\n",
    "\n",
    "    comb = math.comb\n",
    "    reference = {  # https://en.wikipedia.org/wiki/Poker_probability\n",
    "        'Royal flush': comb(4, 1),\n",
    "        'Straight flush': comb(10, 1) * comb(4, 1) - comb(4, 1),\n",
    "        'Four of a kind': comb(13, 1) * comb(4, 4) * comb(12, 1) * comb(4, 1),\n",
    "        'Full house': comb(13, 1) * comb(4, 3) * comb(12, 1) * comb(4, 2),\n",
    "        'Flush': comb(13, 5) * comb(4, 1) - comb(10, 1) * comb(4, 1),\n",
    "        'Straight': comb(10, 1) * comb(4, 1) ** 5 - comb(10, 1) * comb(4, 1),\n",
    "        'Three of a kind': comb(13, 1) * comb(4, 3) * comb(12, 2) * comb(4, 1) ** 2,\n",
    "        'Two pair': comb(13, 2) * comb(4, 2) ** 2 * comb(11, 1) * comb(4, 1),\n",
    "        'One pair': comb(13, 1) * comb(4, 2) * comb(12, 3) * comb(4, 1) ** 3,\n",
    "        'High card': (comb(13, 5) - comb(10, 1)) * (comb(4, 1) ** 5 - comb(4, 1)),\n",
    "    }\n",
    "    assert sum(reference.values()) == comb(52, 5)\n",
    "\n",
    "    print(' Probabilities:')\n",
    "    for (hand_name, reference_num_hands), prob in zip(reference.items(), results):\n",
    "      reference_prob = reference_num_hands / comb(52, 5)\n",
    "      error = prob - reference_prob\n",
    "      s = f'  {hand_name:<16}: {prob * 100:8.5f}%'\n",
    "      s += f'  (vs. reference {reference_prob * 100:8.5f}%  error:{error * 100:8.5f}%)'\n",
    "      print(s)\n",
    "\n",
    "    print()"
   ]
  },
  {
   "cell_type": "code",
   "execution_count": 19,
   "id": "ca0e7a67-ca73-4e8f-b584-9368daefeb7e",
   "metadata": {
    "execution": {
     "iopub.execute_input": "2024-12-29T02:55:27.510942Z",
     "iopub.status.busy": "2024-12-29T02:55:27.510527Z",
     "iopub.status.idle": "2024-12-29T02:55:34.505412Z",
     "shell.execute_reply": "2024-12-29T02:55:34.504638Z",
     "shell.execute_reply.started": "2024-12-29T02:55:27.510925Z"
    }
   },
   "outputs": [
    {
     "name": "stdout",
     "output_type": "stream",
     "text": [
      "For cpu_python simulating 2_500_000 hands:\n",
      " Elapsed time is 1.861 s, or 1_343_565 hands/s.\n",
      " Probabilities:\n",
      "  Royal flush     :  0.00016%  (vs. reference  0.00015%  error: 0.00001%)\n",
      "  Straight flush  :  0.00160%  (vs. reference  0.00139%  error: 0.00021%)\n",
      "  Four of a kind  :  0.02452%  (vs. reference  0.02401%  error: 0.00051%)\n",
      "  Full house      :  0.14452%  (vs. reference  0.14406%  error: 0.00046%)\n",
      "  Flush           :  0.19380%  (vs. reference  0.19654%  error:-0.00274%)\n",
      "  Straight        :  0.39136%  (vs. reference  0.39246%  error:-0.00110%)\n",
      "  Three of a kind :  2.12464%  (vs. reference  2.11285%  error: 0.01179%)\n",
      "  Two pair        :  4.74472%  (vs. reference  4.75390%  error:-0.00918%)\n",
      "  One pair        : 42.24324%  (vs. reference 42.25690%  error:-0.01366%)\n",
      "  High card       : 50.13144%  (vs. reference 50.11774%  error: 0.01370%)\n",
      "\n",
      "For cpu_numba simulating 10_000_000 hands:\n",
      " Elapsed time is 1.349 s, or 7_412_652 hands/s.\n",
      " Probabilities:\n",
      "  Royal flush     :  0.00013%  (vs. reference  0.00015%  error:-0.00002%)\n",
      "  Straight flush  :  0.00151%  (vs. reference  0.00139%  error: 0.00012%)\n",
      "  Four of a kind  :  0.02498%  (vs. reference  0.02401%  error: 0.00097%)\n",
      "  Full house      :  0.14527%  (vs. reference  0.14406%  error: 0.00121%)\n",
      "  Flush           :  0.19290%  (vs. reference  0.19654%  error:-0.00364%)\n",
      "  Straight        :  0.39287%  (vs. reference  0.39246%  error: 0.00041%)\n",
      "  Three of a kind :  2.11452%  (vs. reference  2.11285%  error: 0.00167%)\n",
      "  Two pair        :  4.75560%  (vs. reference  4.75390%  error: 0.00170%)\n",
      "  One pair        : 42.25398%  (vs. reference 42.25690%  error:-0.00292%)\n",
      "  High card       : 50.11824%  (vs. reference 50.11774%  error: 0.00050%)\n",
      "\n",
      "For cpu_numba_multiprocess simulating 100_000_000 hands:\n",
      " Elapsed time is 1.142 s, or 87_533_221 hands/s.\n",
      " Probabilities:\n",
      "  Royal flush     :  0.00015%  (vs. reference  0.00015%  error:-0.00001%)\n",
      "  Straight flush  :  0.00137%  (vs. reference  0.00139%  error:-0.00002%)\n",
      "  Four of a kind  :  0.02365%  (vs. reference  0.02401%  error:-0.00035%)\n",
      "  Full house      :  0.14415%  (vs. reference  0.14406%  error: 0.00009%)\n",
      "  Flush           :  0.19696%  (vs. reference  0.19654%  error: 0.00042%)\n",
      "  Straight        :  0.39350%  (vs. reference  0.39246%  error: 0.00104%)\n",
      "  Three of a kind :  2.11276%  (vs. reference  2.11285%  error:-0.00009%)\n",
      "  Two pair        :  4.75524%  (vs. reference  4.75390%  error: 0.00134%)\n",
      "  One pair        : 42.25651%  (vs. reference 42.25690%  error:-0.00039%)\n",
      "  High card       : 50.11570%  (vs. reference 50.11774%  error:-0.00204%)\n",
      "\n",
      "For gpu_cuda simulating 1_000_000_000 hands:\n",
      " Elapsed time is 2.630 s, or 380_160_107 hands/s.\n",
      " Probabilities:\n",
      "  Royal flush     :  0.00016%  (vs. reference  0.00015%  error: 0.00000%)\n",
      "  Straight flush  :  0.00141%  (vs. reference  0.00139%  error: 0.00003%)\n",
      "  Four of a kind  :  0.02399%  (vs. reference  0.02401%  error:-0.00002%)\n",
      "  Full house      :  0.14389%  (vs. reference  0.14406%  error:-0.00017%)\n",
      "  Flush           :  0.19651%  (vs. reference  0.19654%  error:-0.00003%)\n",
      "  Straight        :  0.39266%  (vs. reference  0.39246%  error: 0.00019%)\n",
      "  Three of a kind :  2.11191%  (vs. reference  2.11285%  error:-0.00094%)\n",
      "  Two pair        :  4.75271%  (vs. reference  4.75390%  error:-0.00119%)\n",
      "  One pair        : 42.25837%  (vs. reference 42.25690%  error: 0.00147%)\n",
      "  High card       : 50.11841%  (vs. reference 50.11774%  error: 0.00067%)\n",
      "\n"
     ]
    }
   ],
   "source": [
    "simulate_poker_hands(base_num_hands=10**7)"
   ]
  },
  {
   "cell_type": "markdown",
   "id": "53b10704-3a4b-4b0e-b0ac-711b2afed9bd",
   "metadata": {},
   "source": [
    "### End"
   ]
  }
 ],
 "metadata": {
  "colab": {
   "collapsed_sections": [],
   "provenance": [],
   "toc_visible": true
  },
  "jupytext": {
   "cell_metadata_filter": "-all",
   "formats": "ipynb,py:percent",
   "main_language": "python",
   "notebook_metadata_filter": "-all"
  },
  "kernelspec": {
   "display_name": "Python 3 (ipykernel)",
   "language": "python",
   "name": "python3"
  },
  "language_info": {
   "codemirror_mode": {
    "name": "ipython",
    "version": 3
   },
   "file_extension": ".py",
   "mimetype": "text/x-python",
   "name": "python",
   "nbconvert_exporter": "python",
   "pygments_lexer": "ipython3",
   "version": "3.10.12"
  }
 },
 "nbformat": 4,
 "nbformat_minor": 5
}
