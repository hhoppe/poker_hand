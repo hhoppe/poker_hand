{
 "cells": [
  {
   "cell_type": "markdown",
   "id": "f819c4f7",
   "metadata": {},
   "source": [
    "# Poker hand simulation\n",
    "\n",
    "This notebook is a simple testbed to experiment with Python acceleration using `numba` (CPU-jitted code) and `numba.cuda` (GPU CUDA-jitted code).\n",
    "\n",
    "We estimate poker hand probabilities using Monte Carlo simulation and compare results with known reference values.\n",
    "\n",
    "We compare execution speeds using Python, `numba`, `numba` with multiprocessing, and `numba.cuda`.\n",
    "\n",
    "Websites on which to run this notebook include:\n",
    "\n",
    "- [Open in Google Colab](https://colab.research.google.com/github/hhoppe/poker_hand/blob/main/poker_hand.ipynb), click on Runtime -> Change runtime type -> T4 GPU, and then Runtime -> Run all.\n",
    "\n",
    "- [Open in kaggle.com](https://www.kaggle.com/notebooks/welcome?src=https://github.com/hhoppe/poker_hand/blob/main/poker_hand.ipynb), login, Session options -> Accelerator -> GPU T4 x2 or P100, Session options -> Internet -> On, then Run All.\n",
    "\n",
    "- [Open in mybinder.org](https://mybinder.org/v2/gh/hhoppe/poker_hand/main?urlpath=lab/tree/poker_hand.ipynb).  Unfortunately, no GPU is available.\n",
    "\n",
    "- [Open in deepnote.com](https://deepnote.com/launch?url=https%3A%2F%2Fgithub.com%2Fhhoppe%2Fpoker_hand%2Fblob%2Fmain%2Fpoker_hand.ipynb).  Unfortunately, no GPU is available.\n",
    "\n",
    "Here are results:"
   ]
  },
  {
   "cell_type": "markdown",
   "id": "71ed1cbc-c83b-4d5b-aed3-e9fe195ddebe",
   "metadata": {
    "execution": {
     "iopub.execute_input": "2025-01-06T01:53:19.033961Z",
     "iopub.status.busy": "2025-01-06T01:53:19.033961Z",
     "iopub.status.idle": "2025-01-06T01:53:19.041537Z",
     "shell.execute_reply": "2025-01-06T01:53:19.041537Z",
     "shell.execute_reply.started": "2025-01-06T01:53:19.033961Z"
    }
   },
   "source": [
    "<table style=\"margin-left: 0\">\n",
    "<tr>\n",
    "  <th colspan=\"4\"></th>\n",
    "  <th colspan=\"7\" style=\"text-align: center\">Simulation rates (hands/s)</th>\n",
    "</tr>\n",
    "<tr>\n",
    "  <th colspan=\"4\">Compute capabilities</th>\n",
    "  <th colspan=\"4\" style=\"text-align: center; background-color: #EBF5FF\">Array-based</th>\n",
    "  <th colspan=\"3\" style=\"text-align: center; background-color: #F0FDF4\">Bitmask-based</th>\n",
    "</tr>\n",
    "<tr>\n",
    "  <th>Platform</th>\n",
    "  <th style=\"text-align: center\">CPU<br>threads</th>\n",
    "  <th style=\"text-align: center\">GPU<br>type</th>\n",
    "  <th style=\"text-align: center\">CUDA<br>SMs</th>\n",
    "  <th style=\"background-color: #EBF5FF\">Python</th>\n",
    "  <th style=\"background-color: #EBF5FF\">Numba</th>\n",
    "  <th style=\"background-color: #EBF5FF\">Multiprocess</th>\n",
    "  <th style=\"background-color: #EBF5FF\">CUDA</th>\n",
    "  <th style=\"background-color: #F0FDF4\">Numba</th>\n",
    "  <th style=\"background-color: #F0FDF4\">Multiprocess</th>\n",
    "  <th style=\"background-color: #F0FDF4\">CUDA</th>\n",
    "</tr>\n",
    "<tr>\n",
    "  <td><b>My PC</b> Win10</td>\n",
    "  <td style=\"text-align: center\">24</td>\n",
    "  <td style=\"text-align: center\">GeForce 3080 Ti</td>\n",
    "  <td style=\"text-align: center\">80</td>\n",
    "  <td style=\"text-align: right; background-color: #EBF5FF\">21,800</td>\n",
    "  <td style=\"text-align: right; background-color: #EBF5FF\">28,200,000</td>\n",
    "  <td style=\"text-align: right; background-color: #EBF5FF\">-</td>\n",
    "  <td style=\"text-align: right; background-color: #EBF5FF\">3,300,000,000</td>\n",
    "  <td style=\"text-align: right; background-color: #F0FDF4\">125,000,000</td>\n",
    "  <td style=\"text-align: right; background-color: #F0FDF4\">-</td>\n",
    "  <td style=\"text-align: right; background-color: #F0FDF4\">12,200,000,000</td>\n",
    "</tr>\n",
    "<tr>\n",
    "  <td><b>My PC</b> WSL2</td>\n",
    "  <td style=\"text-align: center\">24</td>\n",
    "  <td style=\"text-align: center\">GeForce 3080 Ti</td>\n",
    "  <td style=\"text-align: center\">80</td>\n",
    "  <td style=\"text-align: right; background-color: #EBF5FF\">135,000</td>\n",
    "  <td style=\"text-align: right; background-color: #EBF5FF\">33,000,000</td>\n",
    "  <td style=\"text-align: right; background-color: #EBF5FF\">350,000,000</td>\n",
    "  <td style=\"text-align: right; background-color: #EBF5FF\">2,800,000,000</td>\n",
    "  <td style=\"text-align: right; background-color: #F0FDF4\">138,000,000</td>\n",
    "  <td style=\"text-align: right; background-color: #F0FDF4\">912,000,000</td>\n",
    "  <td style=\"text-align: right; background-color: #F0FDF4\">12,400,000,000</td>\n",
    "</tr>\n",
    "<tr>\n",
    "  <td><b>Marcel PC</b> Win</td>\n",
    "  <td style=\"text-align: center\">24</td>\n",
    "  <td style=\"text-align: center\">Titan V</td>\n",
    "  <td style=\"text-align: center\">80</td>\n",
    "  <td style=\"text-align: right; background-color: #EBF5FF\"><s>62,800</s></td>\n",
    "  <td style=\"text-align: right; background-color: #EBF5FF\"><s>5,160,000</s></td>\n",
    "  <td style=\"text-align: right; background-color: #EBF5FF\">-</td>\n",
    "  <td style=\"text-align: right; background-color: #EBF5FF\"><s>2,280,000,000</s></td>\n",
    "  <td style=\"text-align: right; background-color: #F0FDF4\">?00,000,000</td>\n",
    "  <td style=\"text-align: right; background-color: #F0FDF4\">-</td>\n",
    "  <td style=\"text-align: right; background-color: #F0FDF4\">?,000,000,000</td>\n",
    "</tr>\n",
    "<tr>\n",
    "  <td><a href=\"https://colab.research.google.com/github/hhoppe/poker_hand/blob/main/poker_hand.ipynb\"><b>Colab</b> T4</a></td>\n",
    "  <td style=\"text-align: center\">2</td>\n",
    "  <td style=\"text-align: center\">Tesla T4</td>\n",
    "  <td style=\"text-align: center\">40</td>\n",
    "  <td style=\"text-align: right; background-color: #EBF5FF\">17,000</td>\n",
    "  <td style=\"text-align: right; background-color: #EBF5FF\">14,600,000</td>\n",
    "  <td style=\"text-align: right; background-color: #EBF5FF\">16,400,000</td>\n",
    "  <td style=\"text-align: right; background-color: #EBF5FF\">3,670,000,000</td>\n",
    "  <td style=\"text-align: right; background-color: #F0FDF4\">60,000,000</td>\n",
    "  <td style=\"text-align: right; background-color: #F0FDF4\">63,000,000</td>\n",
    "  <td style=\"text-align: right; background-color: #F0FDF4\">32,200,000,000</td>\n",
    "</tr>\n",
    "<tr>\n",
    "  <td><a href=\"https://www.kaggle.com/notebooks/welcome?src=https://github.com/hhoppe/poker_hand/blob/main/poker_hand.ipynb\"><b>Kaggle</b> T4</a></td>\n",
    "  <td style=\"text-align: center\">4</td>\n",
    "  <td style=\"text-align: center\">Tesla T4 x2</td>\n",
    "  <td style=\"text-align: center\">40</td>\n",
    "  <td style=\"text-align: right; background-color: #EBF5FF\">17,300</td>\n",
    "  <td style=\"text-align: right; background-color: #EBF5FF\">14,800,000</td>\n",
    "  <td style=\"text-align: right; background-color: #EBF5FF\">31,800,000</td>\n",
    "  <td style=\"text-align: right; background-color: #EBF5FF\">3,560,000,000</td>\n",
    "  <td style=\"text-align: right; background-color: #F0FDF4\">61,600,000</td>\n",
    "  <td style=\"text-align: right; background-color: #F0FDF4\">117,000,000</td>\n",
    "  <td style=\"text-align: right; background-color: #F0FDF4\">31,800,000,000</td>\n",
    "</tr>\n",
    "<tr>\n",
    "  <td><a href=\"https://www.kaggle.com/notebooks/welcome?src=https://github.com/hhoppe/poker_hand/blob/main/poker_hand.ipynb\"><b>Kaggle</b> P100</a></td>\n",
    "  <td style=\"text-align: center\">4</td>\n",
    "  <td style=\"text-align: center\">Tesla P100</td>\n",
    "  <td style=\"text-align: center\">56</td>\n",
    "  <td style=\"text-align: right; background-color: #EBF5FF\">17,100</td>\n",
    "  <td style=\"text-align: right; background-color: #EBF5FF\">15,000,000</td>\n",
    "  <td style=\"text-align: right; background-color: #EBF5FF\">31,000,000</td>\n",
    "  <td style=\"text-align: right; background-color: #EBF5FF\">3,600,000,000</td>\n",
    "  <td style=\"text-align: right; background-color: #F0FDF4\">62,400,000</td>\n",
    "  <td style=\"text-align: right; background-color: #F0FDF4\">124,000,000</td>\n",
    "  <td style=\"text-align: right; background-color: #F0FDF4\">34,700,000,000</td>\n",
    "</tr>\n",
    "<tr>\n",
    "  <td><a href=\"https://mybinder.org/v2/gh/hhoppe/poker_hand/main?urlpath=lab/tree/poker_hand.ipynb\"><b>mybinder</b></a></td>\n",
    "  <td style=\"text-align: center\">72</td>\n",
    "  <td style=\"text-align: center\">None</td>\n",
    "  <td style=\"text-align: center\">-</td>\n",
    "  <td style=\"text-align: right; background-color: #EBF5FF\">18,200</td>\n",
    "  <td style=\"text-align: right; background-color: #EBF5FF\">7,100,000</td>\n",
    "  <td style=\"text-align: right; background-color: #EBF5FF\">3,200,000</td>\n",
    "  <td style=\"text-align: right; background-color: #EBF5FF\">-</td>\n",
    "  <td style=\"text-align: right; background-color: #F0FDF4\">23,500,000</td>\n",
    "  <td style=\"text-align: right; background-color: #F0FDF4\">9,600,000</td>\n",
    "  <td style=\"text-align: right; background-color: #F0FDF4\">-</td>\n",
    "</tr>\n",
    "<tr>\n",
    "  <td><a href=\"https://deepnote.com/launch?url=https%3A%2F%2Fgithub.com%2Fhhoppe%2Fpoker_hand%2Fblob%2Fmain%2Fpoker_hand.ipynb\"><b>deepnote</b></a></td>\n",
    "  <td style=\"text-align: center\">8</td>\n",
    "  <td style=\"text-align: center\">None</td>\n",
    "  <td style=\"text-align: center\">-</td>\n",
    "  <td style=\"text-align: right; background-color: #EBF5FF\">16,600</td>\n",
    "  <td style=\"text-align: right; background-color: #EBF5FF\">23,700,000</td>\n",
    "  <td style=\"text-align: right; background-color: #EBF5FF\">12,900,000</td>\n",
    "  <td style=\"text-align: right; background-color: #EBF5FF\">-</td>\n",
    "  <td style=\"text-align: right; background-color: #F0FDF4\">72,300,000</td>\n",
    "  <td style=\"text-align: right; background-color: #F0FDF4\">47,500,000</td>\n",
    "  <td style=\"text-align: right; background-color: #F0FDF4\">-</td>\n",
    "</tr>\n",
    "</table>"
   ]
  },
  {
   "cell_type": "markdown",
   "id": "17ce3127-cbd5-445b-900d-6c01ddac60a7",
   "metadata": {},
   "source": [
    "It is puzzling that the CUDA rate is lower on my PC than on the online servers.  The GeForce may have worse uint64 throughput?"
   ]
  },
  {
   "cell_type": "markdown",
   "id": "926b7255-e5af-473f-809b-000987e06690",
   "metadata": {},
   "source": [
    "## Imports"
   ]
  },
  {
   "cell_type": "code",
   "execution_count": 1,
   "id": "96f8b5b5-8cda-4b5f-8b07-145cf83d0dfd",
   "metadata": {
    "execution": {
     "iopub.execute_input": "2025-01-14T07:07:21.863087Z",
     "iopub.status.busy": "2025-01-14T07:07:21.862858Z",
     "iopub.status.idle": "2025-01-14T07:07:23.187283Z",
     "shell.execute_reply": "2025-01-14T07:07:23.186715Z",
     "shell.execute_reply.started": "2025-01-14T07:07:21.863073Z"
    }
   },
   "outputs": [],
   "source": [
    "!pip install -q numba"
   ]
  },
  {
   "cell_type": "code",
   "execution_count": 2,
   "id": "23fdecec-8b75-4c95-94f1-46c68b6202e6",
   "metadata": {
    "execution": {
     "iopub.execute_input": "2025-01-14T07:07:23.188610Z",
     "iopub.status.busy": "2025-01-14T07:07:23.187978Z",
     "iopub.status.idle": "2025-01-14T07:07:23.299806Z",
     "shell.execute_reply": "2025-01-14T07:07:23.299080Z",
     "shell.execute_reply.started": "2025-01-14T07:07:23.188565Z"
    }
   },
   "outputs": [],
   "source": [
    "!if [ ! -f random32.py ]; then wget https://github.com/hhoppe/poker_hand/raw/main/random32.py; fi"
   ]
  },
  {
   "cell_type": "code",
   "execution_count": 3,
   "id": "b7672379",
   "metadata": {
    "execution": {
     "iopub.execute_input": "2025-01-14T07:07:23.301126Z",
     "iopub.status.busy": "2025-01-14T07:07:23.300677Z",
     "iopub.status.idle": "2025-01-14T07:07:23.605524Z",
     "shell.execute_reply": "2025-01-14T07:07:23.604838Z",
     "shell.execute_reply.started": "2025-01-14T07:07:23.301110Z"
    },
    "tags": []
   },
   "outputs": [],
   "source": [
    "import enum\n",
    "import math\n",
    "from math import comb\n",
    "import multiprocessing\n",
    "import pathlib\n",
    "import time\n",
    "import typing\n",
    "from typing import Any, Callable\n",
    "\n",
    "import numba\n",
    "from numba import cuda\n",
    "import numba.cuda.random\n",
    "import numpy as np\n",
    "import random32"
   ]
  },
  {
   "cell_type": "code",
   "execution_count": 4,
   "id": "c602fa82",
   "metadata": {
    "execution": {
     "iopub.execute_input": "2025-01-14T07:07:23.606748Z",
     "iopub.status.busy": "2025-01-14T07:07:23.606304Z",
     "iopub.status.idle": "2025-01-14T07:07:23.609895Z",
     "shell.execute_reply": "2025-01-14T07:07:23.609399Z",
     "shell.execute_reply.started": "2025-01-14T07:07:23.606729Z"
    }
   },
   "outputs": [],
   "source": [
    "_NDArray = np.ndarray[Any, Any]\n",
    "# mypy: disable-error-code=\"no-any-return\"\n",
    "_CudaArray = Any  # cuda.cudadrv.devicearray.DeviceNDArray\n",
    "_F = typing.TypeVar('_F', bound=Callable[..., Any])"
   ]
  },
  {
   "cell_type": "code",
   "execution_count": 5,
   "id": "aec3f5a6-f130-470d-8a0d-43b99587d4c7",
   "metadata": {
    "execution": {
     "iopub.execute_input": "2025-01-14T07:07:23.610751Z",
     "iopub.status.busy": "2025-01-14T07:07:23.610483Z",
     "iopub.status.idle": "2025-01-14T07:07:23.629804Z",
     "shell.execute_reply": "2025-01-14T07:07:23.629197Z",
     "shell.execute_reply.started": "2025-01-14T07:07:23.610739Z"
    }
   },
   "outputs": [],
   "source": [
    "USE_RANDOM32 = True\n",
    "if USE_RANDOM32:\n",
    "  random_create_states = random32.create_xoshiro128p_states\n",
    "  random_next_uniform_uint = random32.xoshiro128p_next\n",
    "  random_next_uniform_float32 = random32.xoshiro128p_uniform_float32\n",
    "else:\n",
    "  # See https://github.com/numba/numba/blob/main/numba/cuda/random.py\n",
    "  random_create_states = cuda.random.create_xoroshiro128p_states\n",
    "  random_next_uniform_uint = cuda.random.xoroshiro128p_next\n",
    "  random_next_uniform_float32 = cuda.random.xoroshiro128p_uniform_float32"
   ]
  },
  {
   "cell_type": "markdown",
   "id": "5071ce25-73c7-4a64-8414-767907ad6063",
   "metadata": {},
   "source": [
    "## Compute capabilities"
   ]
  },
  {
   "cell_type": "code",
   "execution_count": 6,
   "id": "40f2522d-afa5-4bf8-9f0a-5623defb8c46",
   "metadata": {
    "execution": {
     "iopub.execute_input": "2025-01-14T07:07:23.631938Z",
     "iopub.status.busy": "2025-01-14T07:07:23.631447Z",
     "iopub.status.idle": "2025-01-14T07:07:23.649548Z",
     "shell.execute_reply": "2025-01-14T07:07:23.648923Z",
     "shell.execute_reply.started": "2025-01-14T07:07:23.631919Z"
    }
   },
   "outputs": [
    {
     "name": "stdout",
     "output_type": "stream",
     "text": [
      "The number of CPU threads is 24.\n"
     ]
    }
   ],
   "source": [
    "print(f'The number of CPU threads is {multiprocessing.cpu_count()}.')"
   ]
  },
  {
   "cell_type": "code",
   "execution_count": 7,
   "id": "4fc255c9-8b8e-463e-a685-6a2785c0e63e",
   "metadata": {
    "execution": {
     "iopub.execute_input": "2025-01-14T07:07:23.650483Z",
     "iopub.status.busy": "2025-01-14T07:07:23.650305Z",
     "iopub.status.idle": "2025-01-14T07:07:23.669771Z",
     "shell.execute_reply": "2025-01-14T07:07:23.669155Z",
     "shell.execute_reply.started": "2025-01-14T07:07:23.650471Z"
    }
   },
   "outputs": [
    {
     "name": "stdout",
     "output_type": "stream",
     "text": [
      "Support for multiprocess \"fork\": True\n"
     ]
    }
   ],
   "source": [
    "MULTIPROCESS_IS_AVAILABLE = 'fork' in multiprocessing.get_all_start_methods()\n",
    "print(f'Support for multiprocess \"fork\": {MULTIPROCESS_IS_AVAILABLE}')"
   ]
  },
  {
   "cell_type": "code",
   "execution_count": 8,
   "id": "23e84adb-9b5e-4ba9-97bd-bdb7c0f92cae",
   "metadata": {
    "execution": {
     "iopub.execute_input": "2025-01-14T07:07:23.671018Z",
     "iopub.status.busy": "2025-01-14T07:07:23.670618Z",
     "iopub.status.idle": "2025-01-14T07:07:23.893335Z",
     "shell.execute_reply": "2025-01-14T07:07:23.892769Z",
     "shell.execute_reply.started": "2025-01-14T07:07:23.671002Z"
    },
    "lines_to_next_cell": 2
   },
   "outputs": [
    {
     "name": "stdout",
     "output_type": "stream",
     "text": [
      "Found 1 CUDA devices\n",
      "id 0    b'NVIDIA GeForce RTX 3080 Ti'                              [SUPPORTED]\n",
      "                      Compute Capability: 8.6\n",
      "                           PCI Device ID: 0\n",
      "                              PCI Bus ID: 10\n",
      "                                    UUID: GPU-e50896f3-f795-945c-9c59-fffc57278834\n",
      "                                Watchdog: Enabled\n",
      "             FP32/FP64 Performance Ratio: 32\n",
      "Summary:\n",
      "\t1/1 devices are supported\n",
      "The number of GPU SMs is 80\n"
     ]
    }
   ],
   "source": [
    "if cuda.is_available() and cuda.detect():\n",
    "  print(f'The number of GPU SMs is {cuda.get_current_device().MULTIPROCESSOR_COUNT}')"
   ]
  },
  {
   "cell_type": "markdown",
   "id": "e5af2c7f-c334-49ad-9afb-fb73cf6d7db4",
   "metadata": {
    "execution": {
     "iopub.execute_input": "2024-12-29T01:42:55.940070Z",
     "iopub.status.busy": "2024-12-29T01:42:55.939661Z",
     "iopub.status.idle": "2024-12-29T01:42:55.942841Z",
     "shell.execute_reply": "2024-12-29T01:42:55.942254Z",
     "shell.execute_reply.started": "2024-12-29T01:42:55.940047Z"
    },
    "lines_to_next_cell": 2
   },
   "source": [
    "## Shared code"
   ]
  },
  {
   "cell_type": "code",
   "execution_count": 9,
   "id": "cc2447c0-0ded-4360-bf8e-7e35be276331",
   "metadata": {
    "execution": {
     "iopub.execute_input": "2025-01-14T07:07:23.894401Z",
     "iopub.status.busy": "2025-01-14T07:07:23.894110Z",
     "iopub.status.idle": "2025-01-14T07:07:23.897631Z",
     "shell.execute_reply": "2025-01-14T07:07:23.897086Z",
     "shell.execute_reply.started": "2025-01-14T07:07:23.894386Z"
    }
   },
   "outputs": [],
   "source": [
    "DECK_SIZE = 52\n",
    "NUM_SUITS = 4\n",
    "NUM_RANKS = 13\n",
    "HAND_SIZE = 5\n",
    "HANDS_PER_DECK = DECK_SIZE - HAND_SIZE + 1  # We consider all overlapping hands in a shuffled deck.\n",
    "CARDS_FOR_A_FLUSH = 5\n",
    "CARDS_FOR_A_STRAIGHT = 5\n",
    "RNG = np.random.default_rng(1)"
   ]
  },
  {
   "cell_type": "code",
   "execution_count": 10,
   "id": "d6635058-f273-41d9-93a4-2b0c89cb65cc",
   "metadata": {
    "execution": {
     "iopub.execute_input": "2025-01-14T07:07:23.898334Z",
     "iopub.status.busy": "2025-01-14T07:07:23.898203Z",
     "iopub.status.idle": "2025-01-14T07:07:23.908224Z",
     "shell.execute_reply": "2025-01-14T07:07:23.907618Z",
     "shell.execute_reply.started": "2025-01-14T07:07:23.898324Z"
    }
   },
   "outputs": [],
   "source": [
    "class Outcome(enum.IntEnum):\n",
    "  \"\"\"Poker hand rankings from best to worst.\"\"\"\n",
    "\n",
    "  string_name: str\n",
    "  reference_count: int  # https://en.wikipedia.org/wiki/Poker_probability\n",
    "\n",
    "  ROYAL_FLUSH = 0, 'Royal flush', comb(4, 1)\n",
    "  STRAIGHT_FLUSH = 1, 'Straight flush', comb(10, 1) * comb(4, 1) - comb(4, 1)\n",
    "  FOUR_OF_A_KIND = 2, 'Four of a kind', comb(13, 1) * comb(4, 4) * comb(12, 1) * comb(4, 1)\n",
    "  FULL_HOUSE = 3, 'Full house', comb(13, 1) * comb(4, 3) * comb(12, 1) * comb(4, 2)\n",
    "  FLUSH = 4, 'Flush', comb(13, 5) * comb(4, 1) - comb(10, 1) * comb(4, 1)\n",
    "  STRAIGHT = 5, 'Straight', comb(10, 1) * comb(4, 1) ** 5 - comb(10, 1) * comb(4, 1)\n",
    "  THREE_OF_A_KIND = 6, 'Three of a kind', comb(13, 1) * comb(4, 3) * comb(12, 2) * comb(4, 1) ** 2\n",
    "  TWO_PAIR = 7, 'Two pair', comb(13, 2) * comb(4, 2) ** 2 * comb(11, 1) * comb(4, 1)\n",
    "  ONE_PAIR = 8, 'One pair', comb(13, 1) * comb(4, 2) * comb(12, 3) * comb(4, 1) ** 3\n",
    "  HIGH_CARD = 9, 'High card', (comb(13, 5) - comb(10, 1)) * (comb(4, 1) ** 5 - comb(4, 1))\n",
    "\n",
    "  def __new__(cls, value: int, string_name: str, reference_count: int) -> Any:\n",
    "    obj = int.__new__(cls, value)\n",
    "    obj._value_ = value\n",
    "    obj.string_name = string_name\n",
    "    obj.reference_count = reference_count\n",
    "    return obj"
   ]
  },
  {
   "cell_type": "code",
   "execution_count": 11,
   "id": "16cb8893-08da-4397-93c1-edb44fe8b06b",
   "metadata": {
    "execution": {
     "iopub.execute_input": "2025-01-14T07:07:23.909852Z",
     "iopub.status.busy": "2025-01-14T07:07:23.909244Z",
     "iopub.status.idle": "2025-01-14T07:07:23.919756Z",
     "shell.execute_reply": "2025-01-14T07:07:23.919190Z",
     "shell.execute_reply.started": "2025-01-14T07:07:23.909829Z"
    }
   },
   "outputs": [],
   "source": [
    "NUM_OUTCOMES = len(Outcome)\n",
    "Probabilities = _NDArray  # Or np.ndarray[tuple[Literal[10]], np.dtype[np.float64]]\n",
    "EXPECTED_PROB = np.array([o.reference_count for o in Outcome]) / comb(DECK_SIZE, HAND_SIZE)\n",
    "assert np.allclose(np.sum(EXPECTED_PROB), 1.0)"
   ]
  },
  {
   "cell_type": "code",
   "execution_count": 12,
   "id": "5da02913-9231-40f5-bc60-a2aaddff1b28",
   "metadata": {
    "execution": {
     "iopub.execute_input": "2025-01-14T07:07:23.920613Z",
     "iopub.status.busy": "2025-01-14T07:07:23.920473Z",
     "iopub.status.idle": "2025-01-14T07:07:23.928683Z",
     "shell.execute_reply": "2025-01-14T07:07:23.928153Z",
     "shell.execute_reply.started": "2025-01-14T07:07:23.920601Z"
    }
   },
   "outputs": [],
   "source": [
    "def numba_njit(*args: Any, **kwargs: Any) -> Callable[[_F], _F]:\n",
    "  \"\"\"Typed replacement for non-bare `@numba.njit()` decorator.\"\"\"\n",
    "  assert kwargs or not (len(args) == 1 and callable(args[0]))\n",
    "\n",
    "  def decorator(func: _F) -> _F:\n",
    "    jitted_func: _F = numba.njit(*args, **kwargs)(func)\n",
    "    return jitted_func\n",
    "\n",
    "  return decorator"
   ]
  },
  {
   "cell_type": "code",
   "execution_count": 13,
   "id": "14525098-bd95-4688-9cf4-b56e7526f8ad",
   "metadata": {
    "execution": {
     "iopub.execute_input": "2025-01-14T07:07:23.929511Z",
     "iopub.status.busy": "2025-01-14T07:07:23.929317Z",
     "iopub.status.idle": "2025-01-14T07:07:23.938251Z",
     "shell.execute_reply": "2025-01-14T07:07:23.937680Z",
     "shell.execute_reply.started": "2025-01-14T07:07:23.929498Z"
    }
   },
   "outputs": [],
   "source": [
    "@numba.extending.intrinsic  # type: ignore[misc]\n",
    "def popc_helper(typing_context: Any, src: Any) -> Any:\n",
    "  \"\"\"Helper function to enable the intrinsic CPU instruction `popc()`.\"\"\"\n",
    "  del typing_context\n",
    "  if not isinstance(src, numba.types.Integer):\n",
    "    return None\n",
    "  DICT = {numba.uint64: 'i64', numba.uint32: 'i32', numba.uint16: 'i16', numba.uint8: 'i8'}\n",
    "  DICT |= {numba.int64: 'i64', numba.int32: 'i32', numba.int16: 'i16', numba.int8: 'i8'}\n",
    "  llvm_type = DICT[src]\n",
    "\n",
    "  def codegen(context: Any, builder: Any, signature: Any, args: Any) -> Any:\n",
    "    del context, signature\n",
    "    return numba.cpython.mathimpl.call_fp_intrinsic(builder, 'llvm.ctpop.' + llvm_type, args)\n",
    "\n",
    "  return src(src), codegen\n",
    "\n",
    "\n",
    "@numba_njit(inline='always')\n",
    "def cpu_popc(x: int) -> int:  # https://stackoverflow.com/a/77103233\n",
    "  \"\"\"Return the (\"population\") count of set bits in an integer, using a CPU intrinsic.\"\"\"\n",
    "  return popc_helper(x)  # pylint: disable=no-value-for-parameter"
   ]
  },
  {
   "cell_type": "code",
   "execution_count": 14,
   "id": "5cb8f685",
   "metadata": {
    "execution": {
     "iopub.execute_input": "2025-01-14T07:07:23.939283Z",
     "iopub.status.busy": "2025-01-14T07:07:23.938954Z",
     "iopub.status.idle": "2025-01-14T07:07:23.949793Z",
     "shell.execute_reply": "2025-01-14T07:07:23.949220Z",
     "shell.execute_reply.started": "2025-01-14T07:07:23.939267Z"
    }
   },
   "outputs": [],
   "source": [
    "@numba_njit(inline='always')\n",
    "def gpu_popc(x: int) -> int:\n",
    "  \"\"\"Return the (\"population\") count of set bits in an integer, using a CUDA intrinsic.\"\"\"\n",
    "  return cuda.popc(x)  # pylint: disable=too-many-function-args"
   ]
  },
  {
   "cell_type": "code",
   "execution_count": 15,
   "id": "70cee4f8-7a70-40ed-b497-64215c07468a",
   "metadata": {
    "execution": {
     "iopub.execute_input": "2025-01-14T07:07:23.950667Z",
     "iopub.status.busy": "2025-01-14T07:07:23.950505Z",
     "iopub.status.idle": "2025-01-14T07:07:23.958724Z",
     "shell.execute_reply": "2025-01-14T07:07:23.958204Z",
     "shell.execute_reply.started": "2025-01-14T07:07:23.950655Z"
    }
   },
   "outputs": [],
   "source": [
    "def write_numba_assembly_code(function: Any, filename: str) -> None:\n",
    "  \"\"\"Write the asm or ptx code for a numba function to an output file.\"\"\"\n",
    "  (asm_or_ptx,) = function.inspect_asm().values()\n",
    "  pathlib.Path(filename).write_text(asm_or_ptx, encoding='utf-8')"
   ]
  },
  {
   "cell_type": "code",
   "execution_count": 16,
   "id": "e6e87979-f6ba-42ec-bb1a-24a1b23dff80",
   "metadata": {
    "execution": {
     "iopub.execute_input": "2025-01-14T07:07:23.959523Z",
     "iopub.status.busy": "2025-01-14T07:07:23.959344Z",
     "iopub.status.idle": "2025-01-14T07:07:23.967815Z",
     "shell.execute_reply": "2025-01-14T07:07:23.967285Z",
     "shell.execute_reply.started": "2025-01-14T07:07:23.959511Z"
    },
    "lines_to_next_cell": 2
   },
   "outputs": [],
   "source": [
    "def report_cuda_kernel_properties(function: Callable[..., Any]) -> None:\n",
    "  \"\"\"Show memory attributes of a CUDA kernel function.\"\"\"\n",
    "  PROPERTIES = 'const_mem_size local_mem_per_thread max_threads_per_block regs_per_thread shared_mem_per_block'.split()\n",
    "  for property_name in PROPERTIES:\n",
    "    (value,) = getattr(function, 'get_' + property_name)().values()\n",
    "    print(f'{property_name} = {value}')"
   ]
  },
  {
   "cell_type": "markdown",
   "id": "c53fd3b4-129f-4acd-9c1f-3dc1cf809b16",
   "metadata": {},
   "source": [
    "## Approach 1: arrays"
   ]
  },
  {
   "cell_type": "markdown",
   "id": "c193e996-9ea5-40fd-806a-b4642241507b",
   "metadata": {
    "execution": {
     "iopub.execute_input": "2024-12-29T01:42:55.940070Z",
     "iopub.status.busy": "2024-12-29T01:42:55.939661Z",
     "iopub.status.idle": "2024-12-29T01:42:55.942841Z",
     "shell.execute_reply": "2024-12-29T01:42:55.942254Z",
     "shell.execute_reply.started": "2024-12-29T01:42:55.940047Z"
    },
    "lines_to_next_cell": 2
   },
   "source": [
    "### Hand evaluation"
   ]
  },
  {
   "cell_type": "code",
   "execution_count": 17,
   "id": "f74eebae-594a-4324-94af-edbcb7b69e33",
   "metadata": {
    "execution": {
     "iopub.execute_input": "2025-01-14T07:07:23.968877Z",
     "iopub.status.busy": "2025-01-14T07:07:23.968573Z",
     "iopub.status.idle": "2025-01-14T07:07:23.977515Z",
     "shell.execute_reply": "2025-01-14T07:07:23.976995Z",
     "shell.execute_reply.started": "2025-01-14T07:07:23.968865Z"
    }
   },
   "outputs": [],
   "source": [
    "def outcome_of_hand_array_python(cards: Any, ranks: Any, freqs: Any) -> Outcome:\n",
    "  \"\"\"Evaluate a 5-card poker hand and return its outcome ranking, using array data structures.\n",
    "\n",
    "  Args:\n",
    "    cards: Array of 5 integers representing cards (0-51).\n",
    "    ranks: Pre-allocated array for storing sorted ranks.\n",
    "    freqs: Pre-allocated array for counting rank frequencies.\n",
    "\n",
    "  Returns:\n",
    "    An enum representing the hand ranking.\n",
    "  \"\"\"\n",
    "  # pylint: disable=consider-using-in\n",
    "\n",
    "  def get_rank(card: int) -> int:\n",
    "    return card >> 2  # In range(NUM_RANKS), ordered '23456789TJQKA'.\n",
    "\n",
    "  def get_suit(card: int) -> int:\n",
    "    return card & 0b11  # In range(4).\n",
    "\n",
    "  # Sort cards by rank for easier pattern matching, using simple insertion sort.\n",
    "  for i in range(HAND_SIZE):\n",
    "    ranks[i] = get_rank(cards[i])\n",
    "  # ranks.sort()\n",
    "  for i in range(1, HAND_SIZE):\n",
    "    key = ranks[i]\n",
    "    j = i - 1\n",
    "    while j >= 0 and ranks[j] > key:\n",
    "      ranks[j + 1] = ranks[j]\n",
    "      j -= 1\n",
    "    ranks[j + 1] = key\n",
    "\n",
    "  # is_flush = all(card == cards[0] for card in cards[1:])\n",
    "  # Expanding `cards` on the rhs results in better cuda-compiled code.\n",
    "  c0, c1, c2, c3, c4 = cards[0], cards[1], cards[2], cards[3], cards[4]\n",
    "  is_flush = get_suit(c0) == get_suit(c1) == get_suit(c2) == get_suit(c3) == get_suit(c4)\n",
    "\n",
    "  # Expanding `ranks` on the rhs results in better cuda-compiled code.\n",
    "  r0, r1, r2, r3, r4 = ranks[0], ranks[1], ranks[2], ranks[3], ranks[4]\n",
    "  # We must also consider the ace-low straight 'A2345'.\n",
    "  is_straight = r1 == r0 + 1 and r2 == r0 + 2 and r3 == r0 + 3 and (r4 == r0 + 4 or r4 == r0 + 12)\n",
    "\n",
    "  # Count rank frequencies.\n",
    "  freqs[:] = 0\n",
    "  for rank in ranks:\n",
    "    freqs[rank] += 1\n",
    "\n",
    "  # max_freq = max(freqs)\n",
    "  # num_pairs = np.sum(freqs == 2)\n",
    "  max_freq = 0\n",
    "  num_pairs = 0\n",
    "  for freq in freqs:\n",
    "    max_freq = max(max_freq, freq)\n",
    "    if freq == 2:\n",
    "      num_pairs += 1\n",
    "\n",
    "  if is_flush and is_straight:\n",
    "    if ranks[0] == 8:\n",
    "      return Outcome.ROYAL_FLUSH\n",
    "    return Outcome.STRAIGHT_FLUSH\n",
    "  if max_freq == 4:\n",
    "    return Outcome.FOUR_OF_A_KIND\n",
    "  if max_freq == 3 and num_pairs > 0:\n",
    "    return Outcome.FULL_HOUSE\n",
    "  if is_flush:\n",
    "    return Outcome.FLUSH\n",
    "  if is_straight:\n",
    "    return Outcome.STRAIGHT\n",
    "  if max_freq == 3:\n",
    "    return Outcome.THREE_OF_A_KIND\n",
    "  if max_freq == 2:\n",
    "    if num_pairs == 2:\n",
    "      return Outcome.TWO_PAIR\n",
    "    return Outcome.ONE_PAIR\n",
    "  return Outcome.HIGH_CARD"
   ]
  },
  {
   "cell_type": "code",
   "execution_count": 18,
   "id": "8676ddc6-f14c-4fe3-8316-249f247439ad",
   "metadata": {
    "execution": {
     "iopub.execute_input": "2025-01-14T07:07:23.978289Z",
     "iopub.status.busy": "2025-01-14T07:07:23.978138Z",
     "iopub.status.idle": "2025-01-14T07:07:23.988881Z",
     "shell.execute_reply": "2025-01-14T07:07:23.988345Z",
     "shell.execute_reply.started": "2025-01-14T07:07:23.978276Z"
    }
   },
   "outputs": [],
   "source": [
    "outcome_of_hand_array_numba = numba_njit(inline='always')(outcome_of_hand_array_python)"
   ]
  },
  {
   "cell_type": "markdown",
   "id": "b2c72168-c7d6-4792-9ea9-ee887733a7e1",
   "metadata": {
    "execution": {
     "iopub.execute_input": "2024-12-29T01:43:09.066669Z",
     "iopub.status.busy": "2024-12-29T01:43:09.066142Z",
     "iopub.status.idle": "2024-12-29T01:43:09.069033Z",
     "shell.execute_reply": "2024-12-29T01:43:09.068530Z",
     "shell.execute_reply.started": "2024-12-29T01:43:09.066653Z"
    },
    "lines_to_next_cell": 2
   },
   "source": [
    "### CPU simulation"
   ]
  },
  {
   "cell_type": "code",
   "execution_count": 19,
   "id": "61102c48-3b12-497c-adcd-a5dab40f1ac7",
   "metadata": {
    "execution": {
     "iopub.execute_input": "2025-01-14T07:07:23.989778Z",
     "iopub.status.busy": "2025-01-14T07:07:23.989487Z",
     "iopub.status.idle": "2025-01-14T07:07:23.998263Z",
     "shell.execute_reply": "2025-01-14T07:07:23.997734Z",
     "shell.execute_reply.started": "2025-01-14T07:07:23.989766Z"
    }
   },
   "outputs": [],
   "source": [
    "def make_compute_array_cpu(for_numba: bool) -> Callable[[int, np.random.Generator], Probabilities]:\n",
    "  \"\"\"Factory returning a function for Python or numba evaluation.\"\"\"\n",
    "  outcome_of_hand_array = outcome_of_hand_array_numba if for_numba else outcome_of_hand_array_python\n",
    "\n",
    "  def compute_array_cpu(num_decks: int, rng: np.random.Generator) -> Probabilities:\n",
    "    \"\"\"Return hand probabilities computed on the CPU using array data structures.\"\"\"\n",
    "    BLOCK_SIZE = 10\n",
    "    # deck_block = np.arange(DECK_SIZE, dtype=np.uint8).repeat(BLOCK_SIZE).reshape(DECK_SIZE, -1).T\n",
    "    deck_block = np.empty((BLOCK_SIZE, DECK_SIZE), dtype=np.uint8)\n",
    "    deck_block[:] = np.arange(DECK_SIZE, dtype=np.uint8)\n",
    "    ranks = np.empty(HAND_SIZE, np.uint8)\n",
    "    freqs = np.empty(NUM_RANKS, np.int8)\n",
    "    tally = np.zeros(NUM_OUTCOMES, np.int64)\n",
    "    for deck_index_start in range(0, num_decks, BLOCK_SIZE):\n",
    "      deck_block2 = rng.permutation(deck_block, axis=1)\n",
    "      for deck_index in range(deck_index_start, min(deck_index_start + BLOCK_SIZE, num_decks)):\n",
    "        deck = deck_block2[deck_index - deck_index_start]\n",
    "        for hand_index in range(HANDS_PER_DECK):\n",
    "          hand = deck[hand_index : hand_index + 5]\n",
    "          outcome = outcome_of_hand_array(hand, ranks, freqs)\n",
    "          tally[outcome.value] += 1\n",
    "    return tally / (num_decks * HANDS_PER_DECK)\n",
    "\n",
    "  return compute_array_cpu"
   ]
  },
  {
   "cell_type": "code",
   "execution_count": 20,
   "id": "b7e33708-c91f-486c-bb02-71da114e1a69",
   "metadata": {
    "execution": {
     "iopub.execute_input": "2025-01-14T07:07:23.999184Z",
     "iopub.status.busy": "2025-01-14T07:07:23.999007Z",
     "iopub.status.idle": "2025-01-14T07:07:24.007558Z",
     "shell.execute_reply": "2025-01-14T07:07:24.007063Z",
     "shell.execute_reply.started": "2025-01-14T07:07:23.999171Z"
    },
    "lines_to_next_cell": 2
   },
   "outputs": [],
   "source": [
    "simulate_hands_array_cpu_python = make_compute_array_cpu(for_numba=False)\n",
    "simulate_hands_array_cpu_numba = numba_njit()(make_compute_array_cpu(for_numba=True))"
   ]
  },
  {
   "cell_type": "code",
   "execution_count": 21,
   "id": "14583f1b-5e96-4a18-9e6b-dcf13d57a876",
   "metadata": {
    "execution": {
     "iopub.execute_input": "2025-01-14T07:07:24.010421Z",
     "iopub.status.busy": "2025-01-14T07:07:24.010100Z",
     "iopub.status.idle": "2025-01-14T07:07:24.016494Z",
     "shell.execute_reply": "2025-01-14T07:07:24.015996Z",
     "shell.execute_reply.started": "2025-01-14T07:07:24.010407Z"
    }
   },
   "outputs": [],
   "source": [
    "if 0:\n",
    "  write_numba_assembly_code(simulate_hands_array_cpu_numba, 'simulate_hands_array_cpu_numba.asm')"
   ]
  },
  {
   "cell_type": "code",
   "execution_count": 22,
   "id": "ebec99b5-9246-4e29-94ed-ed675d03e549",
   "metadata": {
    "execution": {
     "iopub.execute_input": "2025-01-14T07:07:24.017480Z",
     "iopub.status.busy": "2025-01-14T07:07:24.017129Z",
     "iopub.status.idle": "2025-01-14T07:07:32.845972Z",
     "shell.execute_reply": "2025-01-14T07:07:32.845303Z",
     "shell.execute_reply.started": "2025-01-14T07:07:24.017466Z"
    },
    "lines_to_next_cell": 2
   },
   "outputs": [],
   "source": [
    "assert np.allclose(simulate_hands_array_cpu_numba(10**5, RNG), EXPECTED_PROB, atol=0.001)"
   ]
  },
  {
   "cell_type": "code",
   "execution_count": 23,
   "id": "2b737c66-9df8-4f2b-bc90-63d850850777",
   "metadata": {
    "execution": {
     "iopub.execute_input": "2025-01-14T07:07:32.847138Z",
     "iopub.status.busy": "2025-01-14T07:07:32.846846Z",
     "iopub.status.idle": "2025-01-14T07:07:34.449073Z",
     "shell.execute_reply": "2025-01-14T07:07:34.448495Z",
     "shell.execute_reply.started": "2025-01-14T07:07:32.847121Z"
    }
   },
   "outputs": [
    {
     "name": "stdout",
     "output_type": "stream",
     "text": [
      "799 ms ± 7.98 ms per loop (mean ± std. dev. of 2 runs, 1 loop each)\n"
     ]
    }
   ],
   "source": [
    "%timeit -n1 -r2 simulate_hands_array_cpu_python(2000, RNG)  # ~750 ms."
   ]
  },
  {
   "cell_type": "code",
   "execution_count": 24,
   "id": "e6d31c92-50f3-4c51-b333-0cbdfdd2bdd5",
   "metadata": {
    "execution": {
     "iopub.execute_input": "2025-01-14T07:07:34.450234Z",
     "iopub.status.busy": "2025-01-14T07:07:34.449889Z",
     "iopub.status.idle": "2025-01-14T07:07:36.562373Z",
     "shell.execute_reply": "2025-01-14T07:07:36.561797Z",
     "shell.execute_reply.started": "2025-01-14T07:07:34.450219Z"
    },
    "lines_to_next_cell": 2
   },
   "outputs": [
    {
     "name": "stdout",
     "output_type": "stream",
     "text": [
      "10.5 ms ± 268 µs per loop (mean ± std. dev. of 2 runs, 100 loops each)\n"
     ]
    }
   ],
   "source": [
    "%timeit -n100 -r2 simulate_hands_array_cpu_numba(10**4, RNG)  # ~10.3 ms."
   ]
  },
  {
   "cell_type": "code",
   "execution_count": 25,
   "id": "38b2467c-cc46-4b3d-ab2e-0db7891bcf6f",
   "metadata": {
    "execution": {
     "iopub.execute_input": "2025-01-14T07:07:36.564375Z",
     "iopub.status.busy": "2025-01-14T07:07:36.564032Z",
     "iopub.status.idle": "2025-01-14T07:07:36.567248Z",
     "shell.execute_reply": "2025-01-14T07:07:36.566737Z",
     "shell.execute_reply.started": "2025-01-14T07:07:36.564362Z"
    }
   },
   "outputs": [],
   "source": [
    "def compute_array_chunk(args: tuple[int, np.random.Generator]) -> Probabilities:\n",
    "  \"\"\"Helper function for multiprocess dispatching.\"\"\"\n",
    "  num_decks, rng = args\n",
    "  return simulate_hands_array_cpu_numba(num_decks, rng)"
   ]
  },
  {
   "cell_type": "code",
   "execution_count": 26,
   "id": "a853fae1-8516-417c-97de-b221f97c6d40",
   "metadata": {
    "execution": {
     "iopub.execute_input": "2025-01-14T07:07:36.568075Z",
     "iopub.status.busy": "2025-01-14T07:07:36.567840Z",
     "iopub.status.idle": "2025-01-14T07:07:36.578256Z",
     "shell.execute_reply": "2025-01-14T07:07:36.577665Z",
     "shell.execute_reply.started": "2025-01-14T07:07:36.568063Z"
    },
    "lines_to_next_cell": 2
   },
   "outputs": [],
   "source": [
    "def simulate_hands_array_cpu_numba_multiprocess(\n",
    "    num_decks: int, rng: np.random.Generator\n",
    ") -> Probabilities:\n",
    "  \"\"\"Compute hand probabilities using multiprocessing.\"\"\"\n",
    "  num_processes = multiprocessing.cpu_count()\n",
    "  chunk_num_decks = math.ceil(num_decks / num_processes)\n",
    "  new_rngs = rng.spawn(num_processes)\n",
    "  chunks = [(chunk_num_decks, new_rng) for new_rng in new_rngs]\n",
    "  with multiprocessing.get_context('fork').Pool(num_processes) as pool:\n",
    "    results = pool.map(compute_array_chunk, chunks)\n",
    "  return np.mean(results, axis=0)"
   ]
  },
  {
   "cell_type": "markdown",
   "id": "0154d69f-d8dc-4d8b-8d5e-e1632f9f4fc8",
   "metadata": {
    "lines_to_next_cell": 2
   },
   "source": [
    "### GPU simulation"
   ]
  },
  {
   "cell_type": "code",
   "execution_count": 27,
   "id": "e3280ce4-3cdc-4910-96d7-6b86410d8be4",
   "metadata": {
    "execution": {
     "iopub.execute_input": "2025-01-14T07:07:36.578990Z",
     "iopub.status.busy": "2025-01-14T07:07:36.578855Z",
     "iopub.status.idle": "2025-01-14T07:07:36.587501Z",
     "shell.execute_reply": "2025-01-14T07:07:36.586834Z",
     "shell.execute_reply.started": "2025-01-14T07:07:36.578978Z"
    }
   },
   "outputs": [],
   "source": [
    "THREADS_PER_BLOCK = 256"
   ]
  },
  {
   "cell_type": "code",
   "execution_count": 28,
   "id": "96d4ddd0-9c93-403d-bd5e-a0be49a6f7ff",
   "metadata": {
    "execution": {
     "iopub.execute_input": "2025-01-14T07:07:36.588640Z",
     "iopub.status.busy": "2025-01-14T07:07:36.588295Z",
     "iopub.status.idle": "2025-01-14T07:07:36.597648Z",
     "shell.execute_reply": "2025-01-14T07:07:36.597080Z",
     "shell.execute_reply.started": "2025-01-14T07:07:36.588624Z"
    }
   },
   "outputs": [],
   "source": [
    "# Using either local memory or cuda.shared.array.\n",
    "@cuda.jit  # type: ignore[misc]\n",
    "def gpu_array(rng_states: _CudaArray, decks_per_thread: int, global_tally: _CudaArray) -> None:\n",
    "  \"\"\"CUDA kernel to compute hand probabilities using an array approach.\"\"\"\n",
    "  # pylint: disable=too-many-function-args, no-value-for-parameter, comparison-with-callable\n",
    "  # pylint: disable=possibly-used-before-assignment\n",
    "  int32, uint32 = numba.int32, numba.uint32\n",
    "  USE_SHARED_MEMORY = True  # Shared memory is faster.\n",
    "  thread_index = cuda.grid(1)\n",
    "  if thread_index >= len(rng_states):\n",
    "    return\n",
    "\n",
    "  thread_id = cuda.threadIdx.x  # Index within block.\n",
    "  if USE_SHARED_MEMORY:\n",
    "    block_tally = cuda.shared.array((NUM_OUTCOMES, THREADS_PER_BLOCK), np.int32)\n",
    "    block_deck = cuda.shared.array((THREADS_PER_BLOCK, DECK_SIZE), np.uint8)\n",
    "    block_ranks = cuda.shared.array((THREADS_PER_BLOCK, HAND_SIZE), np.uint8)\n",
    "    block_freqs = cuda.shared.array((THREADS_PER_BLOCK, NUM_RANKS), np.uint8)\n",
    "    tally = block_tally[:, thread_id]\n",
    "    deck = block_deck[thread_id]\n",
    "    ranks = block_ranks[thread_id]\n",
    "    freqs = block_freqs[thread_id]\n",
    "  else:\n",
    "    tally = cuda.local.array(NUM_OUTCOMES, np.int32)\n",
    "    deck = cuda.local.array(DECK_SIZE, np.uint8)\n",
    "    ranks = cuda.local.array(HAND_SIZE, np.uint8)\n",
    "    freqs = cuda.local.array(NUM_RANKS, np.uint8)\n",
    "\n",
    "  tally[:] = 0\n",
    "  for i in range(numba.uint8(DECK_SIZE)):  # Casting as uint8 nicely unrolls the loop.\n",
    "    deck[i] = i\n",
    "\n",
    "  for _ in range(int32(decks_per_thread)):\n",
    "    # Apply Fisher-Yates shuffle to current deck.\n",
    "    for i in range(int32(51), int32(0), int32(-1)):\n",
    "      random_uint = random_next_uniform_uint(rng_states, thread_index)\n",
    "      j = random_uint % uint32(i + 1)\n",
    "      deck[i], deck[j] = deck[j], deck[i]\n",
    "\n",
    "    for hand_index in range(int32(HANDS_PER_DECK)):\n",
    "      hand = deck[hand_index : hand_index + 5]\n",
    "      outcome = int32(outcome_of_hand_array_numba(hand, ranks, freqs))\n",
    "      tally[outcome] += 1\n",
    "\n",
    "  # First accumulate a per-block tally, then accumulate that tally into the global tally.\n",
    "  shared_tally = cuda.shared.array(NUM_OUTCOMES, np.int64)  # Per-block intermediate tally.\n",
    "  if thread_id == 0:\n",
    "    shared_tally[:] = 0\n",
    "  cuda.syncthreads()\n",
    "\n",
    "  # Each thread adds its local results to shared memory.\n",
    "  for i in range(NUM_OUTCOMES):\n",
    "    cuda.atomic.add(shared_tally, i, tally[i])\n",
    "    cuda.syncthreads()\n",
    "\n",
    "  if thread_id == 0:\n",
    "    for i in range(NUM_OUTCOMES):\n",
    "      cuda.atomic.add(global_tally, i, shared_tally[i])"
   ]
  },
  {
   "cell_type": "code",
   "execution_count": 29,
   "id": "627231b2-4a92-4c68-b260-0c4589a09772",
   "metadata": {
    "execution": {
     "iopub.execute_input": "2025-01-14T07:07:36.598557Z",
     "iopub.status.busy": "2025-01-14T07:07:36.598270Z",
     "iopub.status.idle": "2025-01-14T07:07:36.609724Z",
     "shell.execute_reply": "2025-01-14T07:07:36.609073Z",
     "shell.execute_reply.started": "2025-01-14T07:07:36.598542Z"
    }
   },
   "outputs": [],
   "source": [
    "def simulate_hands_array_gpu_cuda(num_decks: int, rng: np.random.Generator) -> Probabilities:\n",
    "  \"\"\"Compute hand probabilities using an array approach by invoking a CUDA kernel.\"\"\"\n",
    "  device = cuda.get_current_device()\n",
    "  # Target enough threads for ~4 blocks per SM.\n",
    "  target_num_threads = 4 * device.MULTIPROCESSOR_COUNT * THREADS_PER_BLOCK\n",
    "  decks_per_thread = max(1, num_decks // target_num_threads)\n",
    "  num_threads = num_decks // decks_per_thread\n",
    "  # print(f'{decks_per_thread=} {num_threads=}')\n",
    "  blocks = math.ceil(num_threads / THREADS_PER_BLOCK)\n",
    "  seed = rng.integers(2**64, dtype=np.uint64)\n",
    "  d_rng_states = random_create_states(num_threads, seed)\n",
    "  d_global_tally = cuda.to_device(np.zeros(NUM_OUTCOMES, np.int64))\n",
    "  gpu_array[blocks, THREADS_PER_BLOCK](d_rng_states, decks_per_thread, d_global_tally)\n",
    "  return d_global_tally.copy_to_host() / (num_threads * decks_per_thread * HANDS_PER_DECK)"
   ]
  },
  {
   "cell_type": "code",
   "execution_count": 30,
   "id": "32f20d44-bdf8-4a19-8933-66cc9f79fa67",
   "metadata": {
    "execution": {
     "iopub.execute_input": "2025-01-14T07:07:36.610607Z",
     "iopub.status.busy": "2025-01-14T07:07:36.610455Z",
     "iopub.status.idle": "2025-01-14T07:07:38.365957Z",
     "shell.execute_reply": "2025-01-14T07:07:38.365332Z",
     "shell.execute_reply.started": "2025-01-14T07:07:36.610595Z"
    }
   },
   "outputs": [],
   "source": [
    "if cuda.is_available():\n",
    "  assert np.allclose(simulate_hands_array_gpu_cuda(10**7, RNG), EXPECTED_PROB, atol=0.0001)"
   ]
  },
  {
   "cell_type": "code",
   "execution_count": 31,
   "id": "beee6915-9637-4e74-bdc2-c370cb01e35c",
   "metadata": {
    "execution": {
     "iopub.execute_input": "2025-01-14T07:07:38.367380Z",
     "iopub.status.busy": "2025-01-14T07:07:38.366822Z",
     "iopub.status.idle": "2025-01-14T07:07:39.590313Z",
     "shell.execute_reply": "2025-01-14T07:07:39.589589Z",
     "shell.execute_reply.started": "2025-01-14T07:07:38.367361Z"
    }
   },
   "outputs": [
    {
     "name": "stdout",
     "output_type": "stream",
     "text": [
      "Timing:\n",
      "244 ms ± 49 ms per loop (mean ± std. dev. of 5 runs, 1 loop each)\n"
     ]
    }
   ],
   "source": [
    "if cuda.is_available():\n",
    "  print('Timing:')\n",
    "  %timeit -n1 -r5 simulate_hands_array_gpu_cuda(10**7, RNG)  # ~220 ms."
   ]
  },
  {
   "cell_type": "code",
   "execution_count": 32,
   "id": "ecb3f7ec-127e-4e85-9cab-655cb388312f",
   "metadata": {
    "execution": {
     "iopub.execute_input": "2025-01-14T07:07:39.591535Z",
     "iopub.status.busy": "2025-01-14T07:07:39.591053Z",
     "iopub.status.idle": "2025-01-14T07:07:39.596798Z",
     "shell.execute_reply": "2025-01-14T07:07:39.596271Z",
     "shell.execute_reply.started": "2025-01-14T07:07:39.591518Z"
    }
   },
   "outputs": [
    {
     "name": "stdout",
     "output_type": "stream",
     "text": [
      "const_mem_size = 0\n",
      "local_mem_per_thread = 0\n",
      "max_threads_per_block = 1024\n",
      "regs_per_thread = 39\n",
      "shared_mem_per_block = 28240\n"
     ]
    }
   ],
   "source": [
    "if cuda.is_available():\n",
    "  write_numba_assembly_code(gpu_array, 'gpu_array.ptx')\n",
    "  report_cuda_kernel_properties(gpu_array)"
   ]
  },
  {
   "cell_type": "markdown",
   "id": "61f636ef-f944-4edc-8d8f-1c88ebbd9c0e",
   "metadata": {
    "lines_to_next_cell": 2
   },
   "source": [
    "## Approach 2: bitmasks"
   ]
  },
  {
   "cell_type": "code",
   "execution_count": 33,
   "id": "3693e30a-038c-4bee-9763-012050a7a6e7",
   "metadata": {
    "execution": {
     "iopub.execute_input": "2025-01-14T07:07:39.597737Z",
     "iopub.status.busy": "2025-01-14T07:07:39.597450Z",
     "iopub.status.idle": "2025-01-14T07:07:39.604672Z",
     "shell.execute_reply": "2025-01-14T07:07:39.604031Z",
     "shell.execute_reply.started": "2025-01-14T07:07:39.597724Z"
    }
   },
   "outputs": [],
   "source": [
    "# Thanks to Marcel Gavriliu for this approach of storing card bitmasks and summing them."
   ]
  },
  {
   "cell_type": "code",
   "execution_count": 34,
   "id": "d5eb7ab9-6d6e-4af4-b99e-b76ba60252b9",
   "metadata": {
    "execution": {
     "iopub.execute_input": "2025-01-14T07:07:39.605841Z",
     "iopub.status.busy": "2025-01-14T07:07:39.605338Z",
     "iopub.status.idle": "2025-01-14T07:07:39.614223Z",
     "shell.execute_reply": "2025-01-14T07:07:39.613624Z",
     "shell.execute_reply.started": "2025-01-14T07:07:39.605826Z"
    }
   },
   "outputs": [],
   "source": [
    "THREADS_PER_BLOCK = 256"
   ]
  },
  {
   "cell_type": "code",
   "execution_count": 35,
   "id": "2468db55-9dba-47da-99bf-c992cd446d44",
   "metadata": {
    "execution": {
     "iopub.execute_input": "2025-01-14T07:07:39.615389Z",
     "iopub.status.busy": "2025-01-14T07:07:39.614926Z",
     "iopub.status.idle": "2025-01-14T07:07:39.623572Z",
     "shell.execute_reply": "2025-01-14T07:07:39.622965Z",
     "shell.execute_reply.started": "2025-01-14T07:07:39.615375Z"
    }
   },
   "outputs": [],
   "source": [
    "CARD_COUNT_BITS = 3  # We use 3 bits to encode 0-7 cards for both ranks and suits.\n",
    "RANKS_ONE = 0b_001_001_001_001_001_001_001_001_001_001_001_001_001  # One card of each rank.\n",
    "RANKS_TWO = RANKS_ONE << 1\n",
    "RANKS_FOUR = RANKS_ONE << 2\n",
    "ROYAL_STRAIGHT_RANK_MASK = 0b_001_001_001_001_001_000_000_000_000_000_000_000_000\n",
    "ACE_LOW_STRAIGHT_RANK_MASK = 0b_001_000_000_000_000_000_000_000_000_001_001_001_001\n",
    "SUITS_ONE = 0b_001_001_001_001  # One card of each suit."
   ]
  },
  {
   "cell_type": "code",
   "execution_count": 36,
   "id": "eec21c55-97da-4226-87bb-cf9e66607b59",
   "metadata": {
    "execution": {
     "iopub.execute_input": "2025-01-14T07:07:39.624435Z",
     "iopub.status.busy": "2025-01-14T07:07:39.624269Z",
     "iopub.status.idle": "2025-01-14T07:07:39.633065Z",
     "shell.execute_reply": "2025-01-14T07:07:39.632440Z",
     "shell.execute_reply.started": "2025-01-14T07:07:39.624422Z"
    }
   },
   "outputs": [],
   "source": [
    "assert RANKS_ONE == int(sum((2**CARD_COUNT_BITS) ** np.arange(NUM_RANKS, dtype=np.uint64)))\n",
    "assert SUITS_ONE == int(sum((2**CARD_COUNT_BITS) ** np.arange(NUM_SUITS, dtype=np.uint64)))"
   ]
  },
  {
   "cell_type": "code",
   "execution_count": 37,
   "id": "2b3f6172-5fb2-4f08-b6c8-3460d7a36f23",
   "metadata": {
    "execution": {
     "iopub.execute_input": "2025-01-14T07:07:39.634244Z",
     "iopub.status.busy": "2025-01-14T07:07:39.633747Z",
     "iopub.status.idle": "2025-01-14T07:07:39.644493Z",
     "shell.execute_reply": "2025-01-14T07:07:39.643786Z",
     "shell.execute_reply.started": "2025-01-14T07:07:39.634229Z"
    }
   },
   "outputs": [],
   "source": [
    "def create_table_straights_rank_mask() -> _NDArray:\n",
    "  \"\"\"Create a table containing the 10 bitmasks corresponding to the 10 possible straights.\"\"\"\n",
    "  lst = [0b_001_001_001_001_001 << (i * 3) for i in range(9)]  # '23456' to 'TJQKA'.\n",
    "  lst.append(ACE_LOW_STRAIGHT_RANK_MASK)  # 'A2345'.\n",
    "  return np.array(lst, np.uint64)"
   ]
  },
  {
   "cell_type": "code",
   "execution_count": 38,
   "id": "97639df3-a4ac-40c8-9329-15901d622de9",
   "metadata": {
    "execution": {
     "iopub.execute_input": "2025-01-14T07:07:39.645535Z",
     "iopub.status.busy": "2025-01-14T07:07:39.645192Z",
     "iopub.status.idle": "2025-01-14T07:07:39.653427Z",
     "shell.execute_reply": "2025-01-14T07:07:39.652810Z",
     "shell.execute_reply.started": "2025-01-14T07:07:39.645521Z"
    },
    "lines_to_next_cell": 2
   },
   "outputs": [],
   "source": [
    "# Table of 10 uint64, each the \"13 * 3\"-bit mask encoding of ranks in straight.\n",
    "TABLE_STRAIGHTS_RANK_MASK = create_table_straights_rank_mask()"
   ]
  },
  {
   "cell_type": "markdown",
   "id": "e46a6e01-430b-46c2-a592-c5663abb4b59",
   "metadata": {
    "lines_to_next_cell": 2
   },
   "source": [
    "### Hand evaluation"
   ]
  },
  {
   "cell_type": "code",
   "execution_count": 39,
   "id": "8e047607-c10a-48a7-a5c7-a655fba16e2e",
   "metadata": {
    "execution": {
     "iopub.execute_input": "2025-01-14T07:07:39.654761Z",
     "iopub.status.busy": "2025-01-14T07:07:39.654148Z",
     "iopub.status.idle": "2025-01-14T07:07:39.662988Z",
     "shell.execute_reply": "2025-01-14T07:07:39.662334Z",
     "shell.execute_reply.started": "2025-01-14T07:07:39.654746Z"
    }
   },
   "outputs": [],
   "source": [
    "@numba_njit(inline='always')\n",
    "def mask_of_card(card: numba.uint8) -> numba.uint64:\n",
    "  \"\"\"Return a bitmask of 4*3 + 13*3 bits encoding the suit and rank of 0 <= `card` < 52.\"\"\"\n",
    "  suit_index = card & 0b11\n",
    "  rank_index = card >> 2\n",
    "  mask = (1 << (suit_index * 3 + NUM_RANKS * 3)) | (1 << (rank_index * 3))\n",
    "  return mask"
   ]
  },
  {
   "cell_type": "code",
   "execution_count": 40,
   "id": "e71f606e-973e-4e47-9904-e7ecd9b5ef79",
   "metadata": {
    "execution": {
     "iopub.execute_input": "2025-01-14T07:07:39.664267Z",
     "iopub.status.busy": "2025-01-14T07:07:39.663898Z",
     "iopub.status.idle": "2025-01-14T07:07:39.672783Z",
     "shell.execute_reply": "2025-01-14T07:07:39.672135Z",
     "shell.execute_reply.started": "2025-01-14T07:07:39.664251Z"
    }
   },
   "outputs": [],
   "source": [
    "@numba_njit(inline='always')\n",
    "def determine_straight(rank_count_mask: numba.uint64) -> bool:\n",
    "  \"\"\"Return true if the rank bitmask corresponds to a straight.\"\"\"\n",
    "  m = rank_count_mask\n",
    "  t = TABLE_STRAIGHTS_RANK_MASK\n",
    "  assert len(t) == 10\n",
    "  result = (m == t[0]) | (m == t[1]) | (m == t[2]) | (m == t[3]) | (m == t[4])\n",
    "  result |= (m == t[5]) | (m == t[6]) | (m == t[7]) | (m == t[8]) | (m == t[9])\n",
    "  return result"
   ]
  },
  {
   "cell_type": "code",
   "execution_count": 41,
   "id": "e78ef698-898c-49c5-8b91-cc983dc03562",
   "metadata": {
    "execution": {
     "iopub.execute_input": "2025-01-14T07:07:39.674043Z",
     "iopub.status.busy": "2025-01-14T07:07:39.673538Z",
     "iopub.status.idle": "2025-01-14T07:07:39.682934Z",
     "shell.execute_reply": "2025-01-14T07:07:39.682337Z",
     "shell.execute_reply.started": "2025-01-14T07:07:39.674027Z"
    }
   },
   "outputs": [],
   "source": [
    "def make_outcome_of_hand_bitmask(for_cuda: bool) -> Callable[[numba.uint64], Outcome]:\n",
    "  \"\"\"Factory returning a function for numba or cuda evaluation.\"\"\"\n",
    "  popc = gpu_popc if for_cuda else cpu_popc\n",
    "\n",
    "  def outcome_of_hand_bitmask(bitmask_sum: numba.uint64) -> Outcome:\n",
    "    \"\"\"Evaluate 5-card poker hand and return outcome ranking, using sum of card bitmasks.\"\"\"\n",
    "    # pylint: disable=too-many-function-args\n",
    "    uint32 = numba.uint32\n",
    "    suit_count_mask = uint32(bitmask_sum >> CARD_COUNT_BITS * NUM_RANKS)\n",
    "    rank_count_mask = numba.uint64(bitmask_sum & (2 ** (CARD_COUNT_BITS * NUM_RANKS) - 1))\n",
    "\n",
    "    is_flush = popc(uint32(suit_count_mask & (suit_count_mask >> 2) & SUITS_ONE)) != 0\n",
    "    is_straight = determine_straight(rank_count_mask)\n",
    "    is_four = (rank_count_mask & RANKS_FOUR) != 0\n",
    "    is_three = ((rank_count_mask + RANKS_ONE) & RANKS_FOUR) != 0\n",
    "    mask_two_or_more = rank_count_mask & RANKS_TWO\n",
    "    num_two_or_more = popc(mask_two_or_more)\n",
    "\n",
    "    if is_flush and is_straight:\n",
    "      if rank_count_mask == ROYAL_STRAIGHT_RANK_MASK:\n",
    "        return Outcome.ROYAL_FLUSH\n",
    "      return Outcome.STRAIGHT_FLUSH\n",
    "    if is_four:\n",
    "      return Outcome.FOUR_OF_A_KIND\n",
    "    if is_three and num_two_or_more > 1:\n",
    "      return Outcome.FULL_HOUSE\n",
    "    if is_flush:\n",
    "      return Outcome.FLUSH\n",
    "    if is_straight:\n",
    "      return Outcome.STRAIGHT\n",
    "    if is_three:\n",
    "      return Outcome.THREE_OF_A_KIND\n",
    "    if num_two_or_more == 2:\n",
    "      return Outcome.TWO_PAIR\n",
    "    if num_two_or_more == 1:\n",
    "      return Outcome.ONE_PAIR\n",
    "    return Outcome.HIGH_CARD\n",
    "\n",
    "  return outcome_of_hand_bitmask"
   ]
  },
  {
   "cell_type": "code",
   "execution_count": 42,
   "id": "fe492a73-5f8d-4075-ad53-8a4ff14f4354",
   "metadata": {
    "execution": {
     "iopub.execute_input": "2025-01-14T07:07:39.684295Z",
     "iopub.status.busy": "2025-01-14T07:07:39.683794Z",
     "iopub.status.idle": "2025-01-14T07:07:39.695043Z",
     "shell.execute_reply": "2025-01-14T07:07:39.694395Z",
     "shell.execute_reply.started": "2025-01-14T07:07:39.684274Z"
    },
    "lines_to_next_cell": 2
   },
   "outputs": [],
   "source": [
    "outcome_of_hand_bitmask_numba = numba_njit()(make_outcome_of_hand_bitmask(for_cuda=False))\n",
    "outcome_of_hand_bitmask_cuda = numba_njit()(make_outcome_of_hand_bitmask(for_cuda=True))"
   ]
  },
  {
   "cell_type": "markdown",
   "id": "01554e65-c360-4f56-a691-ac236d908127",
   "metadata": {
    "execution": {
     "iopub.execute_input": "2025-01-08T00:20:14.215144Z",
     "iopub.status.busy": "2025-01-08T00:20:14.214635Z",
     "iopub.status.idle": "2025-01-08T00:20:14.217614Z",
     "shell.execute_reply": "2025-01-08T00:20:14.217097Z",
     "shell.execute_reply.started": "2025-01-08T00:20:14.215128Z"
    },
    "lines_to_next_cell": 2
   },
   "source": [
    "### CPU simulation"
   ]
  },
  {
   "cell_type": "code",
   "execution_count": 43,
   "id": "58bdea27-2349-46ea-bc80-730e8357887e",
   "metadata": {
    "execution": {
     "iopub.execute_input": "2025-01-14T07:07:39.696000Z",
     "iopub.status.busy": "2025-01-14T07:07:39.695819Z",
     "iopub.status.idle": "2025-01-14T07:07:39.705260Z",
     "shell.execute_reply": "2025-01-14T07:07:39.704546Z",
     "shell.execute_reply.started": "2025-01-14T07:07:39.695986Z"
    }
   },
   "outputs": [],
   "source": [
    "@numba_njit()\n",
    "def simulate_hands_bitmask_cpu_numba(num_decks: int, rng: np.random.Generator) -> Probabilities:\n",
    "  \"\"\"Compute hand probabilities using a bitmask approach by invoking numba-jitted CPU code.\"\"\"\n",
    "  BLOCK_SIZE = 10\n",
    "  deck_block = np.empty((BLOCK_SIZE, DECK_SIZE), dtype=np.uint8)\n",
    "  deck_block[:] = np.arange(DECK_SIZE, dtype=np.uint8)\n",
    "  tally = np.zeros(NUM_OUTCOMES, np.int64)\n",
    "\n",
    "  for deck_index_start in range(0, num_decks, BLOCK_SIZE):\n",
    "    deck_block2 = rng.permutation(deck_block, axis=1)\n",
    "\n",
    "    for deck_index in range(deck_index_start, min(deck_index_start + BLOCK_SIZE, num_decks)):\n",
    "      deck = deck_block2[deck_index - deck_index_start]\n",
    "      mask0, mask1 = mask_of_card(deck[0]), mask_of_card(deck[1])\n",
    "      mask2, mask3 = mask_of_card(deck[2]), mask_of_card(deck[3])\n",
    "      bitmask_sum = mask0 + mask1 + mask2 + mask3\n",
    "\n",
    "      for hand_index in range(HANDS_PER_DECK):\n",
    "        mask4 = mask_of_card(deck[hand_index + 4])\n",
    "        bitmask_sum += mask4\n",
    "        outcome = outcome_of_hand_bitmask_numba(bitmask_sum)\n",
    "        tally[outcome.value] += 1\n",
    "        bitmask_sum -= mask0\n",
    "        mask0, mask1, mask2, mask3 = mask1, mask2, mask3, mask4\n",
    "\n",
    "  return tally / (num_decks * HANDS_PER_DECK)"
   ]
  },
  {
   "cell_type": "code",
   "execution_count": 44,
   "id": "4697056b-bb7a-4370-86df-fd5686592276",
   "metadata": {
    "execution": {
     "iopub.execute_input": "2025-01-14T07:07:39.706499Z",
     "iopub.status.busy": "2025-01-14T07:07:39.706036Z",
     "iopub.status.idle": "2025-01-14T07:07:39.716333Z",
     "shell.execute_reply": "2025-01-14T07:07:39.715674Z",
     "shell.execute_reply.started": "2025-01-14T07:07:39.706475Z"
    }
   },
   "outputs": [],
   "source": [
    "# simulate_poker_hands(10**7, 'bitmask_cpu_numba', simulate_hands_bitmask_cpu_numba)  # ~130 m hands/s"
   ]
  },
  {
   "cell_type": "code",
   "execution_count": 45,
   "id": "b4567788-0ab1-4309-b0cc-6a4e180f0b59",
   "metadata": {
    "execution": {
     "iopub.execute_input": "2025-01-14T07:07:39.717223Z",
     "iopub.status.busy": "2025-01-14T07:07:39.717041Z",
     "iopub.status.idle": "2025-01-14T07:07:42.396144Z",
     "shell.execute_reply": "2025-01-14T07:07:42.395526Z",
     "shell.execute_reply.started": "2025-01-14T07:07:39.717210Z"
    },
    "lines_to_next_cell": 2
   },
   "outputs": [],
   "source": [
    "assert np.allclose(simulate_hands_bitmask_cpu_numba(10**5, RNG), EXPECTED_PROB, atol=0.002)"
   ]
  },
  {
   "cell_type": "code",
   "execution_count": 46,
   "id": "c79e7a2c-cc47-40ae-aa1b-57d04007871c",
   "metadata": {
    "execution": {
     "iopub.execute_input": "2025-01-14T07:07:42.397073Z",
     "iopub.status.busy": "2025-01-14T07:07:42.396876Z",
     "iopub.status.idle": "2025-01-14T07:07:42.545376Z",
     "shell.execute_reply": "2025-01-14T07:07:42.544806Z",
     "shell.execute_reply.started": "2025-01-14T07:07:42.397052Z"
    },
    "lines_to_next_cell": 2
   },
   "outputs": [
    {
     "name": "stdout",
     "output_type": "stream",
     "text": [
      "36.1 ms ± 28.7 µs per loop (mean ± std. dev. of 2 runs, 2 loops each)\n"
     ]
    }
   ],
   "source": [
    "%timeit -n2 -r2 simulate_hands_bitmask_cpu_numba(10**5, RNG)  # ~35 ms if low variance."
   ]
  },
  {
   "cell_type": "code",
   "execution_count": 47,
   "id": "3b1cc2c5-e330-4fc4-b14a-d69616efcc84",
   "metadata": {
    "execution": {
     "iopub.execute_input": "2025-01-14T07:07:42.546315Z",
     "iopub.status.busy": "2025-01-14T07:07:42.546026Z",
     "iopub.status.idle": "2025-01-14T07:07:42.554981Z",
     "shell.execute_reply": "2025-01-14T07:07:42.554298Z",
     "shell.execute_reply.started": "2025-01-14T07:07:42.546301Z"
    }
   },
   "outputs": [],
   "source": [
    "def compute_bitmask_chunk(args: tuple[int, np.random.Generator]) -> Probabilities:\n",
    "  \"\"\"Helper function for multiprocessing.\"\"\"\n",
    "  num_decks, rng = args\n",
    "  return simulate_hands_bitmask_cpu_numba(num_decks, rng)"
   ]
  },
  {
   "cell_type": "code",
   "execution_count": 48,
   "id": "a5d21e18-247f-4485-86f2-c96c350edb51",
   "metadata": {
    "execution": {
     "iopub.execute_input": "2025-01-14T07:07:42.556048Z",
     "iopub.status.busy": "2025-01-14T07:07:42.555738Z",
     "iopub.status.idle": "2025-01-14T07:07:42.564295Z",
     "shell.execute_reply": "2025-01-14T07:07:42.563718Z",
     "shell.execute_reply.started": "2025-01-14T07:07:42.556033Z"
    },
    "lines_to_next_cell": 2
   },
   "outputs": [],
   "source": [
    "def simulate_hands_bitmask_cpu_numba_multiprocess(\n",
    "    num_decks: int, rng: np.random.Generator\n",
    ") -> Probabilities:\n",
    "  \"\"\"Compute hand probabilities using a bitmask approach and multiprocessing.\"\"\"\n",
    "  num_processes = multiprocessing.cpu_count()\n",
    "  chunk_num_decks = math.ceil(num_decks / num_processes)\n",
    "  new_rngs = rng.spawn(num_processes)\n",
    "  chunks = [(chunk_num_decks, new_rng) for new_rng in new_rngs]\n",
    "  with multiprocessing.get_context('fork').Pool(num_processes) as pool:\n",
    "    results = pool.map(compute_bitmask_chunk, chunks)\n",
    "  return np.mean(results, axis=0)"
   ]
  },
  {
   "cell_type": "markdown",
   "id": "3eea8629-f9f8-416e-92d4-790f0c9e1d32",
   "metadata": {
    "lines_to_next_cell": 2
   },
   "source": [
    "### GPU simulation"
   ]
  },
  {
   "cell_type": "code",
   "execution_count": 49,
   "id": "6595778e-5ba7-4215-9abe-7598ba6aa1e2",
   "metadata": {
    "execution": {
     "iopub.execute_input": "2025-01-14T07:07:42.565197Z",
     "iopub.status.busy": "2025-01-14T07:07:42.564939Z",
     "iopub.status.idle": "2025-01-14T07:07:42.577269Z",
     "shell.execute_reply": "2025-01-14T07:07:42.576604Z",
     "shell.execute_reply.started": "2025-01-14T07:07:42.565184Z"
    }
   },
   "outputs": [],
   "source": [
    "@cuda.jit(fastmath=True)  # type: ignore[misc]\n",
    "def gpu_bitmask(rng_states: _CudaArray, decks_per_thread: int, global_tally: _CudaArray) -> None:\n",
    "  \"\"\"CUDA kernel to compute hand probabilities using a bitmask approach.\"\"\"\n",
    "  # pylint: disable=too-many-function-args, no-value-for-parameter, comparison-with-callable\n",
    "  int32, uint32, float32 = numba.int32, numba.uint32, numba.float32\n",
    "  thread_index = cuda.grid(1)\n",
    "  thread_id = cuda.threadIdx.x  # Index within block.\n",
    "\n",
    "  block_tally = cuda.shared.array((NUM_OUTCOMES, THREADS_PER_BLOCK), np.int32)\n",
    "  block_deck = cuda.shared.array((THREADS_PER_BLOCK, DECK_SIZE), np.uint8)\n",
    "  tally = block_tally[:, thread_id]\n",
    "  deck = block_deck[thread_id]\n",
    "  tally[:] = 0\n",
    "\n",
    "  if thread_index >= len(rng_states):\n",
    "    return  # This must come after tally[] is zeroed, to simplify reduction below.\n",
    "\n",
    "  for i in range(numba.uint8(DECK_SIZE)):  # Casting as uint8 nicely unrolls the loop.\n",
    "    deck[i] = i\n",
    "\n",
    "  rng = rng_states[thread_index]\n",
    "  s0, s1, s2, s3 = uint32(rng['s0']), uint32(rng['s1']), uint32(rng['s2']), uint32(rng['s3'])\n",
    "\n",
    "  for _ in range(int32(decks_per_thread)):\n",
    "    # Apply Fisher-Yates shuffle to current deck.\n",
    "    # for i in range(int32(51), int32(0), int32(-1)):\n",
    "    i = uint32(51)\n",
    "    while i > 0:\n",
    "      # Swap element at [i] with any element [0, ..., i].\n",
    "      random_uint32, s0, s1, s2, s3 = random32.xoshiro128p_next_raw(s0, s1, s2, s3)\n",
    "      random_uint32 = uint32(random_uint32)\n",
    "      s0, s1, s2, s3 = uint32(s0), uint32(s1), uint32(s2), uint32(s3)\n",
    "      if 0:\n",
    "        j = random_uint32 % uint32(i + 1)  # Remainder is somewhat expensive in CUDA.\n",
    "      elif 0:\n",
    "        # In `random_uint32`, the msb have better randomness than the lsb, so float32 mul is better.\n",
    "        value_in_unit_interval = random32.uint32_to_unit_float32(random_uint32)\n",
    "        j = uint32(float32(value_in_unit_interval * float32(int32(i + 1))))\n",
    "      else:\n",
    "        j = uint32(float32(random_uint32) * float32((1.0 - 1e-7) / 2**32) * float32(int32(i + 1)))\n",
    "      deck[i], deck[j] = deck[j], deck[i]\n",
    "      i = uint32(i - 1)\n",
    "\n",
    "    mask0, mask1 = mask_of_card(deck[0]), mask_of_card(deck[1])\n",
    "    mask2, mask3 = mask_of_card(deck[2]), mask_of_card(deck[3])\n",
    "    bitmask_sum = mask0 + mask1 + mask2 + mask3\n",
    "\n",
    "    # for hand_index in range(int32(HANDS_PER_DECK)):\n",
    "    card_index = uint32(4)\n",
    "    while card_index < uint32(DECK_SIZE):\n",
    "      # mask4 = mask_of_card(deck[hand_index + 4])\n",
    "      mask4 = mask_of_card(deck[card_index])\n",
    "      bitmask_sum += mask4\n",
    "      outcome = int32(outcome_of_hand_bitmask_cuda(bitmask_sum).value)\n",
    "      tally[outcome] += 1\n",
    "      bitmask_sum -= mask0\n",
    "      mask0, mask1, mask2, mask3 = mask1, mask2, mask3, mask4\n",
    "      card_index = uint32(card_index + 1)\n",
    "\n",
    "  # Compute a parallel sum reduction on the outcome tally.\n",
    "  temp_tally = cuda.shared.array(NUM_OUTCOMES, np.int64)  # Per-block tally.\n",
    "  temp_tally[:] = 0\n",
    "  cuda.syncthreads()\n",
    "\n",
    "  # First do a sum reduction within the 32 lanes of each warp (still at 32-bit precision).\n",
    "  for i in range(NUM_OUTCOMES):\n",
    "    value = block_tally[i, thread_id]\n",
    "    for offset in [16, 8, 4, 2, 1]:\n",
    "      value += cuda.shfl_down_sync(0xFFFFFFFF, value, offset)\n",
    "    if cuda.laneid == 0:\n",
    "      cuda.atomic.add(temp_tally, i, numba.int64(value))  # Reduce across the block's warps.\n",
    "  cuda.syncthreads()\n",
    "\n",
    "  # Final reduction across blocks to global_tally.\n",
    "  if thread_id == 0:\n",
    "    for i in range(NUM_OUTCOMES):\n",
    "      cuda.atomic.add(global_tally, i, temp_tally[i])"
   ]
  },
  {
   "cell_type": "code",
   "execution_count": 50,
   "id": "4133487b-134a-4358-8518-c5979efc9acd",
   "metadata": {
    "execution": {
     "iopub.execute_input": "2025-01-14T07:07:42.578564Z",
     "iopub.status.busy": "2025-01-14T07:07:42.577902Z",
     "iopub.status.idle": "2025-01-14T07:07:42.589062Z",
     "shell.execute_reply": "2025-01-14T07:07:42.588482Z",
     "shell.execute_reply.started": "2025-01-14T07:07:42.578549Z"
    }
   },
   "outputs": [],
   "source": [
    "def simulate_hands_bitmask_gpu_cuda(num_decks: int, rng: np.random.Generator) -> Probabilities:\n",
    "  \"\"\"Compute hand probabilities using a bitmask approach by invoking a CUDA kernel.\"\"\"\n",
    "  device = cuda.get_current_device()\n",
    "  # Target enough threads for ~4 blocks per SM.\n",
    "  target_num_threads = 4 * device.MULTIPROCESSOR_COUNT * THREADS_PER_BLOCK\n",
    "  decks_per_thread = max(1, num_decks // target_num_threads)\n",
    "  num_threads = num_decks // decks_per_thread\n",
    "  # print(f'{decks_per_thread=} {num_threads=}')\n",
    "  blocks = math.ceil(num_threads / THREADS_PER_BLOCK)\n",
    "  seed = rng.integers(2**64, dtype=np.uint64)\n",
    "  d_rng_states = random32.create_xoshiro128p_states(num_threads, seed)\n",
    "  d_global_tally = cuda.to_device(np.zeros(NUM_OUTCOMES, np.int64))\n",
    "  gpu_bitmask[blocks, THREADS_PER_BLOCK](d_rng_states, decks_per_thread, d_global_tally)\n",
    "  return d_global_tally.copy_to_host() / (num_threads * decks_per_thread * HANDS_PER_DECK)"
   ]
  },
  {
   "cell_type": "code",
   "execution_count": 51,
   "id": "2fe1fec3-f262-410f-938e-5fc22ad13727",
   "metadata": {
    "execution": {
     "iopub.execute_input": "2025-01-14T07:07:42.589990Z",
     "iopub.status.busy": "2025-01-14T07:07:42.589702Z",
     "iopub.status.idle": "2025-01-14T07:07:42.600183Z",
     "shell.execute_reply": "2025-01-14T07:07:42.599592Z",
     "shell.execute_reply.started": "2025-01-14T07:07:42.589977Z"
    }
   },
   "outputs": [],
   "source": [
    "# simulate_poker_hands(10**9, 'bitmask_gpu_cuda', simulate_hands_bitmask_gpu_cuda)  # ~9-11 G hands/s."
   ]
  },
  {
   "cell_type": "code",
   "execution_count": 52,
   "id": "958981de-2fde-480b-a15e-b761255c37c9",
   "metadata": {
    "execution": {
     "iopub.execute_input": "2025-01-14T07:07:42.601123Z",
     "iopub.status.busy": "2025-01-14T07:07:42.600949Z",
     "iopub.status.idle": "2025-01-14T07:07:43.368505Z",
     "shell.execute_reply": "2025-01-14T07:07:43.367866Z",
     "shell.execute_reply.started": "2025-01-14T07:07:42.601110Z"
    }
   },
   "outputs": [],
   "source": [
    "if cuda.is_available():\n",
    "  assert np.allclose(simulate_hands_bitmask_gpu_cuda(10**7, RNG), EXPECTED_PROB, atol=0.0001)"
   ]
  },
  {
   "cell_type": "code",
   "execution_count": 53,
   "id": "f3d4a20b-0082-4e4c-b752-6bacb0502053",
   "metadata": {
    "execution": {
     "iopub.execute_input": "2025-01-14T07:07:43.369761Z",
     "iopub.status.busy": "2025-01-14T07:07:43.369248Z",
     "iopub.status.idle": "2025-01-14T07:07:44.298531Z",
     "shell.execute_reply": "2025-01-14T07:07:44.297918Z",
     "shell.execute_reply.started": "2025-01-14T07:07:43.369744Z"
    }
   },
   "outputs": [
    {
     "name": "stdout",
     "output_type": "stream",
     "text": [
      "Timing:\n",
      "92.5 ms ± 8.32 ms per loop (mean ± std. dev. of 10 runs, 1 loop each)\n"
     ]
    }
   ],
   "source": [
    "if cuda.is_available():\n",
    "  print('Timing:')\n",
    "  %timeit -n1 -r10 simulate_hands_bitmask_gpu_cuda(10**7, RNG)  # ~41 ms if low variance."
   ]
  },
  {
   "cell_type": "code",
   "execution_count": 54,
   "id": "eb27c7ae-beb4-4cb0-a28f-8f520e2870c3",
   "metadata": {
    "execution": {
     "iopub.execute_input": "2025-01-14T07:07:44.299466Z",
     "iopub.status.busy": "2025-01-14T07:07:44.299244Z",
     "iopub.status.idle": "2025-01-14T07:07:44.305017Z",
     "shell.execute_reply": "2025-01-14T07:07:44.304418Z",
     "shell.execute_reply.started": "2025-01-14T07:07:44.299452Z"
    }
   },
   "outputs": [
    {
     "name": "stdout",
     "output_type": "stream",
     "text": [
      "const_mem_size = 0\n",
      "local_mem_per_thread = 0\n",
      "max_threads_per_block = 1024\n",
      "regs_per_thread = 43\n",
      "shared_mem_per_block = 23632\n"
     ]
    }
   ],
   "source": [
    "if cuda.is_available():\n",
    "  write_numba_assembly_code(gpu_bitmask, 'gpu_bitmask.ptx')\n",
    "  report_cuda_kernel_properties(gpu_bitmask)"
   ]
  },
  {
   "cell_type": "markdown",
   "id": "d2bc4755-cde2-4223-80f0-5b02fc49a389",
   "metadata": {},
   "source": [
    "## Results"
   ]
  },
  {
   "cell_type": "code",
   "execution_count": 55,
   "id": "940da643-485f-4416-8020-0651a5eb867f",
   "metadata": {
    "execution": {
     "iopub.execute_input": "2025-01-14T07:07:44.306153Z",
     "iopub.status.busy": "2025-01-14T07:07:44.305820Z",
     "iopub.status.idle": "2025-01-14T07:07:44.312218Z",
     "shell.execute_reply": "2025-01-14T07:07:44.311640Z",
     "shell.execute_reply.started": "2025-01-14T07:07:44.306136Z"
    }
   },
   "outputs": [],
   "source": [
    "SIMULATE_FUNCTIONS = {\n",
    "    name: func\n",
    "    for name, func in {\n",
    "        'array_cpu_python': simulate_hands_array_cpu_python,\n",
    "        'array_cpu_numba': simulate_hands_array_cpu_numba,\n",
    "        'array_cpu_numba_multiprocess': simulate_hands_array_cpu_numba_multiprocess,\n",
    "        'array_gpu_cuda': simulate_hands_array_gpu_cuda,\n",
    "        'bitmask_cpu_numba': simulate_hands_bitmask_cpu_numba,\n",
    "        'bitmask_cpu_numba_multiprocess': simulate_hands_bitmask_cpu_numba_multiprocess,\n",
    "        'bitmask_gpu_cuda': simulate_hands_bitmask_gpu_cuda,\n",
    "    }.items()\n",
    "    if ('multiprocess' not in name or MULTIPROCESS_IS_AVAILABLE)\n",
    "    and ('cuda' not in name or cuda.is_available())\n",
    "}"
   ]
  },
  {
   "cell_type": "code",
   "execution_count": 56,
   "id": "92bde0ec-7f24-4f13-b350-cc413094ab11",
   "metadata": {
    "execution": {
     "iopub.execute_input": "2025-01-14T07:07:44.312980Z",
     "iopub.status.busy": "2025-01-14T07:07:44.312832Z",
     "iopub.status.idle": "2025-01-14T07:07:44.324775Z",
     "shell.execute_reply": "2025-01-14T07:07:44.323956Z",
     "shell.execute_reply.started": "2025-01-14T07:07:44.312967Z"
    }
   },
   "outputs": [],
   "source": [
    "COMPLEXITY_ADJUSTMENT = {\n",
    "    'array_cpu_python': 0.01,\n",
    "    'array_cpu_numba': 2.0,\n",
    "    'array_cpu_numba_multiprocess': 20.0,\n",
    "    'array_gpu_cuda': 100.0,\n",
    "    'bitmask_cpu_numba': 2.0,\n",
    "    'bitmask_cpu_numba_multiprocess': 20.0,\n",
    "    'bitmask_gpu_cuda': 200.0,\n",
    "}"
   ]
  },
  {
   "cell_type": "code",
   "execution_count": 57,
   "id": "e7bd410e-681f-499c-b2bf-8303c7146423",
   "metadata": {
    "execution": {
     "iopub.execute_input": "2025-01-14T07:07:44.325881Z",
     "iopub.status.busy": "2025-01-14T07:07:44.325686Z",
     "iopub.status.idle": "2025-01-14T07:07:44.334800Z",
     "shell.execute_reply": "2025-01-14T07:07:44.334173Z",
     "shell.execute_reply.started": "2025-01-14T07:07:44.325863Z"
    }
   },
   "outputs": [],
   "source": [
    "def simulate_poker_hands(desired_num_hands: int, func_name: str, func: Any) -> None:\n",
    "  \"\"\"Report hand probabilities and timings using a particular approach.\"\"\"\n",
    "  num_decks = math.ceil(desired_num_hands / HANDS_PER_DECK)\n",
    "  num_hands = num_decks * HANDS_PER_DECK\n",
    "  print(f'\\n# For {func_name} simulating {num_hands:,} hands:')\n",
    "\n",
    "  # Ensure the function is jitted.\n",
    "  _ = func(num_decks // 10, RNG)\n",
    "\n",
    "  start_time = time.perf_counter_ns()\n",
    "  results = func(num_decks, RNG)\n",
    "  elapsed_time = (time.perf_counter_ns() - start_time) / 10**9\n",
    "\n",
    "  round_digits: Any = lambda x, ndigits=3: round(x, ndigits - 1 - math.floor(math.log10(abs(x))))\n",
    "  hands_per_s: float = round_digits(int(num_hands / elapsed_time))\n",
    "  print(f'#  Elapsed time is {elapsed_time:.3f} s, or {hands_per_s:,} hands/s.')\n",
    "\n",
    "  print('#  Probabilities:')\n",
    "  for outcome, result_prob in zip(Outcome, results):\n",
    "    reference_prob = outcome.reference_count / comb(DECK_SIZE, HAND_SIZE)\n",
    "    error = result_prob - reference_prob\n",
    "    estimate_sdv = (reference_prob * (1 - reference_prob) / num_hands) ** 0.5\n",
    "    sdv = error / estimate_sdv\n",
    "    s = f'#   {outcome.string_name:<16}: {result_prob * 100:8.5f}%'\n",
    "    s += f'  (vs. ref. {reference_prob * 100:8.5f}%  error:{error * 100:8.5f}% {sdv:6.2f}σ)'\n",
    "    print(s)"
   ]
  },
  {
   "cell_type": "code",
   "execution_count": 58,
   "id": "e935c8b8-a126-4a4f-ae08-bbba8d6a80b4",
   "metadata": {
    "execution": {
     "iopub.execute_input": "2025-01-14T07:07:44.336120Z",
     "iopub.status.busy": "2025-01-14T07:07:44.335577Z",
     "iopub.status.idle": "2025-01-14T07:07:44.347031Z",
     "shell.execute_reply": "2025-01-14T07:07:44.346286Z",
     "shell.execute_reply.started": "2025-01-14T07:07:44.336090Z"
    }
   },
   "outputs": [],
   "source": [
    "def compare_simulations(base_num_hands: int) -> None:\n",
    "  \"\"\"Report hand probabilities and timings using a variety of approaches on CPU and GPU.\"\"\"\n",
    "  for func_name, func in SIMULATE_FUNCTIONS.items():\n",
    "    desired_num_hands = math.ceil(base_num_hands * COMPLEXITY_ADJUSTMENT[func_name])\n",
    "    simulate_poker_hands(desired_num_hands, func_name, func)"
   ]
  },
  {
   "cell_type": "code",
   "execution_count": 59,
   "id": "ca0e7a67-ca73-4e8f-b584-9368daefeb7e",
   "metadata": {
    "execution": {
     "iopub.execute_input": "2025-01-14T07:07:44.348248Z",
     "iopub.status.busy": "2025-01-14T07:07:44.348072Z",
     "iopub.status.idle": "2025-01-14T07:07:47.566143Z",
     "shell.execute_reply": "2025-01-14T07:07:47.565474Z",
     "shell.execute_reply.started": "2025-01-14T07:07:44.348236Z"
    }
   },
   "outputs": [
    {
     "name": "stdout",
     "output_type": "stream",
     "text": [
      "\n",
      "# For array_cpu_python simulating 100,032 hands:\n",
      "#  Elapsed time is 0.801 s, or 125,000 hands/s.\n",
      "#  Probabilities:\n",
      "#   Royal flush     :  0.00000%  (vs. ref.  0.00015%  error:-0.00015%  -0.39σ)\n",
      "#   Straight flush  :  0.00000%  (vs. ref.  0.00139%  error:-0.00139%  -1.18σ)\n",
      "#   Four of a kind  :  0.01999%  (vs. ref.  0.02401%  error:-0.00402%  -0.82σ)\n",
      "#   Full house      :  0.11996%  (vs. ref.  0.14406%  error:-0.02410%  -2.01σ)\n",
      "#   Flush           :  0.16995%  (vs. ref.  0.19654%  error:-0.02659%  -1.90σ)\n",
      "#   Straight        :  0.36788%  (vs. ref.  0.39246%  error:-0.02458%  -1.24σ)\n",
      "#   Three of a kind :  2.15931%  (vs. ref.  2.11285%  error: 0.04646%   1.02σ)\n",
      "#   Two pair        :  4.94842%  (vs. ref.  4.75390%  error: 0.19451%   2.89σ)\n",
      "#   One pair        : 42.34645%  (vs. ref. 42.25690%  error: 0.08955%   0.57σ)\n",
      "#   High card       : 49.86804%  (vs. ref. 50.11774%  error:-0.24970%  -1.58σ)\n",
      "\n",
      "# For array_cpu_numba simulating 20,000,016 hands:\n",
      "#  Elapsed time is 0.426 s, or 47,000,000 hands/s.\n",
      "#  Probabilities:\n",
      "#   Royal flush     :  0.00015%  (vs. ref.  0.00015%  error:-0.00000%  -0.14σ)\n",
      "#   Straight flush  :  0.00105%  (vs. ref.  0.00139%  error:-0.00034%  -4.03σ)\n",
      "#   Four of a kind  :  0.02465%  (vs. ref.  0.02401%  error: 0.00064%   1.85σ)\n",
      "#   Full house      :  0.14700%  (vs. ref.  0.14406%  error: 0.00294%   3.47σ)\n",
      "#   Flush           :  0.19475%  (vs. ref.  0.19654%  error:-0.00179%  -1.81σ)\n",
      "#   Straight        :  0.38595%  (vs. ref.  0.39246%  error:-0.00651%  -4.66σ)\n",
      "#   Three of a kind :  2.12625%  (vs. ref.  2.11285%  error: 0.01340%   4.17σ)\n",
      "#   Two pair        :  4.76385%  (vs. ref.  4.75390%  error: 0.00994%   2.09σ)\n",
      "#   One pair        : 42.27978%  (vs. ref. 42.25690%  error: 0.02287%   2.07σ)\n",
      "#   High card       : 50.07658%  (vs. ref. 50.11774%  error:-0.04116%  -3.68σ)\n",
      "\n",
      "# For array_cpu_numba_multiprocess simulating 200,000,016 hands:\n",
      "#  Elapsed time is 0.425 s, or 470,000,000 hands/s.\n",
      "#  Probabilities:\n",
      "#   Royal flush     :  0.00011%  (vs. ref.  0.00015%  error:-0.00004%  -5.01σ)\n",
      "#   Straight flush  :  0.00149%  (vs. ref.  0.00139%  error: 0.00010%   3.98σ)\n",
      "#   Four of a kind  :  0.02377%  (vs. ref.  0.02401%  error:-0.00023%  -2.14σ)\n",
      "#   Full house      :  0.14482%  (vs. ref.  0.14406%  error: 0.00076%   2.85σ)\n",
      "#   Flush           :  0.19548%  (vs. ref.  0.19654%  error:-0.00106%  -3.38σ)\n",
      "#   Straight        :  0.39355%  (vs. ref.  0.39246%  error: 0.00108%   2.45σ)\n",
      "#   Three of a kind :  2.11305%  (vs. ref.  2.11285%  error: 0.00020%   0.20σ)\n",
      "#   Two pair        :  4.75423%  (vs. ref.  4.75390%  error: 0.00032%   0.22σ)\n",
      "#   One pair        : 42.25092%  (vs. ref. 42.25690%  error:-0.00598%  -1.71σ)\n",
      "#   High card       : 50.12258%  (vs. ref. 50.11774%  error: 0.00484%   1.37σ)\n",
      "\n",
      "# For array_gpu_cuda simulating 1,000,000,032 hands:\n",
      "#  Elapsed time is 0.318 s, or 3,140,000,000 hands/s.\n",
      "#  Probabilities:\n",
      "#   Royal flush     :  0.00014%  (vs. ref.  0.00015%  error:-0.00001%  -2.42σ)\n",
      "#   Straight flush  :  0.00139%  (vs. ref.  0.00139%  error: 0.00000%   0.36σ)\n",
      "#   Four of a kind  :  0.02407%  (vs. ref.  0.02401%  error: 0.00006%   1.21σ)\n",
      "#   Full house      :  0.14422%  (vs. ref.  0.14406%  error: 0.00017%   1.39σ)\n",
      "#   Flush           :  0.19685%  (vs. ref.  0.19654%  error: 0.00031%   2.21σ)\n",
      "#   Straight        :  0.39273%  (vs. ref.  0.39246%  error: 0.00027%   1.34σ)\n",
      "#   Three of a kind :  2.11291%  (vs. ref.  2.11285%  error: 0.00007%   0.15σ)\n",
      "#   Two pair        :  4.75327%  (vs. ref.  4.75390%  error:-0.00064%  -0.95σ)\n",
      "#   One pair        : 42.25861%  (vs. ref. 42.25690%  error: 0.00170%   1.09σ)\n",
      "#   High card       : 50.11581%  (vs. ref. 50.11774%  error:-0.00193%  -1.22σ)\n",
      "\n",
      "# For bitmask_cpu_numba simulating 20,000,016 hands:\n",
      "#  Elapsed time is 0.148 s, or 135,000,000 hands/s.\n",
      "#  Probabilities:\n",
      "#   Royal flush     :  0.00035%  (vs. ref.  0.00015%  error: 0.00020%   7.07σ)\n",
      "#   Straight flush  :  0.00150%  (vs. ref.  0.00139%  error: 0.00011%   1.38σ)\n",
      "#   Four of a kind  :  0.02255%  (vs. ref.  0.02401%  error:-0.00146%  -4.21σ)\n",
      "#   Full house      :  0.14910%  (vs. ref.  0.14406%  error: 0.00504%   5.95σ)\n",
      "#   Flush           :  0.19015%  (vs. ref.  0.19654%  error:-0.00639%  -6.45σ)\n",
      "#   Straight        :  0.39805%  (vs. ref.  0.39246%  error: 0.00559%   3.99σ)\n",
      "#   Three of a kind :  2.10125%  (vs. ref.  2.11285%  error:-0.01160%  -3.61σ)\n",
      "#   Two pair        :  4.79128%  (vs. ref.  4.75390%  error: 0.03738%   7.86σ)\n",
      "#   One pair        : 42.24776%  (vs. ref. 42.25690%  error:-0.00914%  -0.83σ)\n",
      "#   High card       : 50.09801%  (vs. ref. 50.11774%  error:-0.01973%  -1.76σ)\n",
      "\n",
      "# For bitmask_cpu_numba_multiprocess simulating 200,000,016 hands:\n",
      "#  Elapsed time is 0.253 s, or 790,000,000 hands/s.\n",
      "#  Probabilities:\n",
      "#   Royal flush     :  0.00014%  (vs. ref.  0.00015%  error:-0.00001%  -1.02σ)\n",
      "#   Straight flush  :  0.00137%  (vs. ref.  0.00139%  error:-0.00001%  -0.39σ)\n",
      "#   Four of a kind  :  0.02401%  (vs. ref.  0.02401%  error: 0.00001%   0.05σ)\n",
      "#   Full house      :  0.14494%  (vs. ref.  0.14406%  error: 0.00088%   3.29σ)\n",
      "#   Flush           :  0.19648%  (vs. ref.  0.19654%  error:-0.00006%  -0.19σ)\n",
      "#   Straight        :  0.39719%  (vs. ref.  0.39246%  error: 0.00473%  10.70σ)\n",
      "#   Three of a kind :  2.11353%  (vs. ref.  2.11285%  error: 0.00069%   0.68σ)\n",
      "#   Two pair        :  4.75787%  (vs. ref.  4.75390%  error: 0.00397%   2.64σ)\n",
      "#   One pair        : 42.23558%  (vs. ref. 42.25690%  error:-0.02132%  -6.10σ)\n",
      "#   High card       : 50.12886%  (vs. ref. 50.11774%  error: 0.01112%   3.15σ)\n",
      "\n",
      "# For bitmask_gpu_cuda simulating 2,000,000,016 hands:\n",
      "#  Elapsed time is 0.287 s, or 6,960,000,000 hands/s.\n",
      "#  Probabilities:\n",
      "#   Royal flush     :  0.00015%  (vs. ref.  0.00015%  error: 0.00000%   0.12σ)\n",
      "#   Straight flush  :  0.00138%  (vs. ref.  0.00139%  error:-0.00000%  -0.12σ)\n",
      "#   Four of a kind  :  0.02397%  (vs. ref.  0.02401%  error:-0.00004%  -1.05σ)\n",
      "#   Full house      :  0.14409%  (vs. ref.  0.14406%  error: 0.00003%   0.34σ)\n",
      "#   Flush           :  0.19660%  (vs. ref.  0.19654%  error: 0.00006%   0.59σ)\n",
      "#   Straight        :  0.39236%  (vs. ref.  0.39246%  error:-0.00011%  -0.76σ)\n",
      "#   Three of a kind :  2.11239%  (vs. ref.  2.11285%  error:-0.00045%  -1.41σ)\n",
      "#   Two pair        :  4.75482%  (vs. ref.  4.75390%  error: 0.00092%   1.94σ)\n",
      "#   One pair        : 42.25681%  (vs. ref. 42.25690%  error:-0.00009%  -0.08σ)\n",
      "#   High card       : 50.11742%  (vs. ref. 50.11774%  error:-0.00032%  -0.29σ)\n"
     ]
    }
   ],
   "source": [
    "compare_simulations(base_num_hands=10**7)"
   ]
  },
  {
   "cell_type": "code",
   "execution_count": 60,
   "id": "4ef83cc9-da12-486c-b9f5-dc8f644304d6",
   "metadata": {
    "execution": {
     "iopub.execute_input": "2025-01-14T07:07:47.567604Z",
     "iopub.status.busy": "2025-01-14T07:07:47.567086Z",
     "iopub.status.idle": "2025-01-14T07:07:47.570142Z",
     "shell.execute_reply": "2025-01-14T07:07:47.569618Z",
     "shell.execute_reply.started": "2025-01-14T07:07:47.567589Z"
    }
   },
   "outputs": [],
   "source": [
    "# 135k, 44m, 470m, 2200-3400m, 135k, 890k, 8000-12500m"
   ]
  },
  {
   "cell_type": "code",
   "execution_count": 61,
   "id": "4e2c58e2-5b87-4232-a96e-10e2773625cb",
   "metadata": {
    "execution": {
     "iopub.execute_input": "2025-01-14T07:07:47.570806Z",
     "iopub.status.busy": "2025-01-14T07:07:47.570681Z",
     "iopub.status.idle": "2025-01-14T07:10:05.980939Z",
     "shell.execute_reply": "2025-01-14T07:10:05.980261Z",
     "shell.execute_reply.started": "2025-01-14T07:07:47.570796Z"
    }
   },
   "outputs": [
    {
     "name": "stdout",
     "output_type": "stream",
     "text": [
      "\n",
      "# For bitmask_gpu_cuda simulating 1,000,000,000,032 hands:\n",
      "#  Elapsed time is 124.171 s, or 8,050,000,000 hands/s.\n",
      "#  Probabilities:\n",
      "#   Royal flush     :  0.00015%  (vs. ref.  0.00015%  error:-0.00000%  -1.54σ)\n",
      "#   Straight flush  :  0.00138%  (vs. ref.  0.00139%  error:-0.00000%  -0.60σ)\n",
      "#   Four of a kind  :  0.02401%  (vs. ref.  0.02401%  error:-0.00000%  -0.12σ)\n",
      "#   Full house      :  0.14406%  (vs. ref.  0.14406%  error:-0.00000%  -0.29σ)\n",
      "#   Flush           :  0.19654%  (vs. ref.  0.19654%  error:-0.00000%  -0.59σ)\n",
      "#   Straight        :  0.39246%  (vs. ref.  0.39246%  error:-0.00000%  -0.53σ)\n",
      "#   Three of a kind :  2.11287%  (vs. ref.  2.11285%  error: 0.00002%   1.54σ)\n",
      "#   Two pair        :  4.75385%  (vs. ref.  4.75390%  error:-0.00005%  -2.26σ)\n",
      "#   One pair        : 42.25697%  (vs. ref. 42.25690%  error: 0.00006%   1.26σ)\n",
      "#   High card       : 50.11771%  (vs. ref. 50.11774%  error:-0.00003%  -0.58σ)\n"
     ]
    }
   ],
   "source": [
    "if 1:\n",
    "  if cuda.is_available():\n",
    "    simulate_poker_hands(10**12, 'bitmask_gpu_cuda', simulate_hands_bitmask_gpu_cuda)"
   ]
  },
  {
   "cell_type": "code",
   "execution_count": 62,
   "id": "628c75a6-c775-46f7-83ff-8baa85a685f2",
   "metadata": {
    "execution": {
     "iopub.execute_input": "2025-01-14T07:10:05.982021Z",
     "iopub.status.busy": "2025-01-14T07:10:05.981677Z",
     "iopub.status.idle": "2025-01-14T07:10:05.984833Z",
     "shell.execute_reply": "2025-01-14T07:10:05.984243Z",
     "shell.execute_reply.started": "2025-01-14T07:10:05.982008Z"
    }
   },
   "outputs": [],
   "source": [
    "# For bitmask_gpu_cuda simulating 1,000,000,000,032 hands:\n",
    "#  Elapsed time is 80.862 s, or 12,400,000,000 hands/s.\n",
    "#  Probabilities:\n",
    "#   Royal flush     :  0.00015%  (vs. ref.  0.00015%  error:-0.00000%  -0.98σ)\n",
    "#   Straight flush  :  0.00138%  (vs. ref.  0.00139%  error:-0.00000%  -0.66σ)\n",
    "#   Four of a kind  :  0.02401%  (vs. ref.  0.02401%  error: 0.00000%   0.11σ)\n",
    "#   Full house      :  0.14406%  (vs. ref.  0.14406%  error: 0.00000%   1.31σ)\n",
    "#   Flush           :  0.19654%  (vs. ref.  0.19654%  error: 0.00000%   0.50σ)\n",
    "#   Straight        :  0.39247%  (vs. ref.  0.39246%  error: 0.00000%   0.76σ)\n",
    "#   Three of a kind :  2.11285%  (vs. ref.  2.11285%  error: 0.00000%   0.14σ)\n",
    "#   Two pair        :  4.75391%  (vs. ref.  4.75390%  error: 0.00001%   0.31σ)\n",
    "#   One pair        : 42.25699%  (vs. ref. 42.25690%  error: 0.00009%   1.76σ)\n",
    "#   High card       : 50.11763%  (vs. ref. 50.11774%  error:-0.00011%  -2.15σ)"
   ]
  },
  {
   "cell_type": "markdown",
   "id": "53b10704-3a4b-4b0e-b0ac-711b2afed9bd",
   "metadata": {},
   "source": [
    "## End"
   ]
  }
 ],
 "metadata": {
  "colab": {
   "collapsed_sections": [],
   "provenance": [],
   "toc_visible": true
  },
  "jupytext": {
   "cell_metadata_filter": "-all",
   "formats": "ipynb,py:percent",
   "main_language": "python",
   "notebook_metadata_filter": "-all"
  },
  "kernelspec": {
   "display_name": "Python 3 (ipykernel)",
   "language": "python",
   "name": "python3"
  },
  "language_info": {
   "codemirror_mode": {
    "name": "ipython",
    "version": 3
   },
   "file_extension": ".py",
   "mimetype": "text/x-python",
   "name": "python",
   "nbconvert_exporter": "python",
   "pygments_lexer": "ipython3",
   "version": "3.10.12"
  }
 },
 "nbformat": 4,
 "nbformat_minor": 5
}
