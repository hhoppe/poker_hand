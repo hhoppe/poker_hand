{
 "cells": [
  {
   "cell_type": "markdown",
   "id": "f819c4f7",
   "metadata": {},
   "source": [
    "# Poker hand simulation\n",
    "\n",
    "This notebook is a simple testbed to experiment with Python acceleration using `numba` (CPU-jitted code) and `numba.cuda` (GPU CUDA-jitted code).\n",
    "\n",
    "We estimate poker hand probabilities using Monte Carlo simulation and compare results with known reference values.\n",
    "\n",
    "We compare execution speeds using Python, `numba`, `numba` with multiprocessing, and `numba.cuda`.\n",
    "\n",
    "Websites on which to run this notebook include:\n",
    "\n",
    "- [Open in Google Colab](https://colab.research.google.com/github/hhoppe/poker_hand/blob/main/poker_hand.ipynb), click on Runtime -> Change runtime type -> T4 GPU, and then Runtime -> Run all.\n",
    "\n",
    "- [Open in kaggle.com](https://www.kaggle.com/notebooks/welcome?src=https://github.com/hhoppe/poker_hand/blob/main/poker_hand.ipynb), login, Session options -> Accelerator -> GPU T4 x2 or P100, Session options -> Internet -> On, then Run All.\n",
    "\n",
    "- [Open in mybinder.org](https://mybinder.org/v2/gh/hhoppe/poker_hand/main?urlpath=lab/tree/poker_hand.ipynb).  Unfortunately, no GPU is available.\n",
    "\n",
    "- [Open in deepnote.com](https://deepnote.com/launch?url=https%3A%2F%2Fgithub.com%2Fhhoppe%2Fpoker_hand%2Fblob%2Fmain%2Fpoker_hand.ipynb).  Unfortunately, no GPU is available.\n",
    "\n",
    "Here are results:"
   ]
  },
  {
   "cell_type": "markdown",
   "id": "75c4c01b-6d88-4986-92b0-459b2dab4bc3",
   "metadata": {
    "execution": {
     "iopub.execute_input": "2025-01-06T01:53:19.033961Z",
     "iopub.status.busy": "2025-01-06T01:53:19.033961Z",
     "iopub.status.idle": "2025-01-06T01:53:19.041537Z",
     "shell.execute_reply": "2025-01-06T01:53:19.041537Z",
     "shell.execute_reply.started": "2025-01-06T01:53:19.033961Z"
    }
   },
   "source": [
    "<table style=\"margin-left: 0\">\n",
    "<tr>\n",
    "  <th colspan=\"4\"></th>\n",
    "  <th colspan=\"5\" style=\"text-align: center\">Simulation rates (hands/s)</th>\n",
    "</tr>\n",
    "<tr>\n",
    "  <th colspan=\"4\">Compute capabilities</th>\n",
    "  <th colspan=\"4\" style=\"text-align: center; background-color: #EBF5FF\">Array-based</th>\n",
    "  <th colspan=\"1\" style=\"text-align: center; background-color: #F0FDF4\">Mask-based</th>\n",
    "</tr>\n",
    "<tr>\n",
    "  <th>Platform</th>\n",
    "  <th style=\"text-align: center\">CPU<br>threads</th>\n",
    "  <th style=\"text-align: center\">GPU<br>type</th>\n",
    "  <th style=\"text-align: center\">CUDA<br>SMs</th>\n",
    "  <th style=\"background-color: #EBF5FF\">Python</th>\n",
    "  <th style=\"background-color: #EBF5FF\">Numba</th>\n",
    "  <th style=\"background-color: #EBF5FF\">Multiprocess</th>\n",
    "  <th style=\"background-color: #EBF5FF\">CUDA</th>\n",
    "  <th style=\"background-color: #F0FDF4\">CUDA</th>\n",
    "</tr>\n",
    "<tr>\n",
    "  <td><b>My PC</b> Win10</td>\n",
    "  <td style=\"text-align: center\">24</td>\n",
    "  <td style=\"text-align: center\">GeForce 3080 Ti</td>\n",
    "  <td style=\"text-align: center\">80</td>\n",
    "  <td style=\"text-align: right; background-color: #EBF5FF\">21,800</td>\n",
    "  <td style=\"text-align: right; background-color: #EBF5FF\">28,200,000</td>\n",
    "  <td style=\"text-align: right; background-color: #EBF5FF\">-</td>\n",
    "  <td style=\"text-align: right; background-color: #EBF5FF\">2,700,000,000</td>\n",
    "  <td style=\"text-align: right; background-color: #F0FDF4\">8,800,000,000</td>\n",
    "</tr>\n",
    "<tr>\n",
    "  <td><b>My PC</b> WSL2</td>\n",
    "  <td style=\"text-align: center\">24</td>\n",
    "  <td style=\"text-align: center\">GeForce 3080 Ti</td>\n",
    "  <td style=\"text-align: center\">80</td>\n",
    "  <td style=\"text-align: right; background-color: #EBF5FF\">135,000</td>\n",
    "  <td style=\"text-align: right; background-color: #EBF5FF\">33,000,000</td>\n",
    "  <td style=\"text-align: right; background-color: #EBF5FF\">350,000,000</td>\n",
    "  <td style=\"text-align: right; background-color: #EBF5FF\">2,800,000,000</td>\n",
    "  <td style=\"text-align: right; background-color: #F0FDF4\">6,400,000,000</td>\n",
    "</tr>\n",
    "<tr>\n",
    "  <td><b>Marcel PC</b> Win</td>\n",
    "  <td style=\"text-align: center\">24</td>\n",
    "  <td style=\"text-align: center\">Titan V</td>\n",
    "  <td style=\"text-align: center\">80</td>\n",
    "  <td style=\"text-align: right; background-color: #EBF5FF\"><s>62,800</s></td>\n",
    "  <td style=\"text-align: right; background-color: #EBF5FF\"><s>5,160,000</s></td>\n",
    "  <td style=\"text-align: right; background-color: #EBF5FF\">-</td>\n",
    "  <td style=\"text-align: right; background-color: #EBF5FF\"><s>2,280,000,000</s></td>\n",
    "  <td style=\"text-align: right; background-color: #F0FDF4\">-</td>\n",
    "</tr>\n",
    "<tr>\n",
    "  <td><a href=\"https://colab.research.google.com/github/hhoppe/poker_hand/blob/main/poker_hand.ipynb\"><b>Colab</b> T4</a></td>\n",
    "  <td style=\"text-align: center\">2</td>\n",
    "  <td style=\"text-align: center\">Tesla T4</td>\n",
    "  <td style=\"text-align: center\">40</td>\n",
    "  <td style=\"text-align: right; background-color: #EBF5FF\">17,000</td>\n",
    "  <td style=\"text-align: right; background-color: #EBF5FF\">11,600,000</td>\n",
    "  <td style=\"text-align: right; background-color: #EBF5FF\">16,400,000</td>\n",
    "  <td style=\"text-align: right; background-color: #EBF5FF\">3,670,000,000</td>\n",
    "  <td style=\"text-align: right; background-color: #F0FDF4\">9,230,000,000</td>\n",
    "</tr>\n",
    "<tr>\n",
    "  <td><a href=\"https://www.kaggle.com/notebooks/welcome?src=https://github.com/hhoppe/poker_hand/blob/main/poker_hand.ipynb\"><b>Kaggle</b> T4</a></td>\n",
    "  <td style=\"text-align: center\">4</td>\n",
    "  <td style=\"text-align: center\">Tesla T4 x2</td>\n",
    "  <td style=\"text-align: center\">40</td>\n",
    "  <td style=\"text-align: right; background-color: #EBF5FF\">17,300</td>\n",
    "  <td style=\"text-align: right; background-color: #EBF5FF\">14,800,000</td>\n",
    "  <td style=\"text-align: right; background-color: #EBF5FF\">31,800,000</td>\n",
    "  <td style=\"text-align: right; background-color: #EBF5FF\">3,560,000,000</td>\n",
    "  <td style=\"text-align: right; background-color: #F0FDF4\">9,040,000,000</td>\n",
    "</tr>\n",
    "<tr>\n",
    "  <td><b>Kaggle</b> P100</td>\n",
    "  <td style=\"text-align: center\">4</td>\n",
    "  <td style=\"text-align: center\">Tesla P100</td>\n",
    "  <td style=\"text-align: center\">56</td>\n",
    "  <td style=\"text-align: right; background-color: #EBF5FF\">17,100</td>\n",
    "  <td style=\"text-align: right; background-color: #EBF5FF\">14,500,000</td>\n",
    "  <td style=\"text-align: right; background-color: #EBF5FF\">31,300,000</td>\n",
    "  <td style=\"text-align: right; background-color: #EBF5FF\">3,620,000,000</td>\n",
    "  <td style=\"text-align: right; background-color: #F0FDF4\">6,730,000,000</td>\n",
    "</tr>\n",
    "<tr>\n",
    "  <td><a href=\"https://mybinder.org/v2/gh/hhoppe/poker_hand/main?urlpath=lab/tree/poker_hand.ipynb\"><b>mybinder</b></a></td>\n",
    "  <td style=\"text-align: center\">72</td>\n",
    "  <td style=\"text-align: center\">None</td>\n",
    "  <td style=\"text-align: center\">-</td>\n",
    "  <td style=\"text-align: right; background-color: #EBF5FF\">18,200</td>\n",
    "  <td style=\"text-align: right; background-color: #EBF5FF\">7,050,000</td>\n",
    "  <td style=\"text-align: right; background-color: #EBF5FF\">3,220,000</td>\n",
    "  <td style=\"text-align: right; background-color: #EBF5FF\">-</td>\n",
    "  <td style=\"text-align: right; background-color: #F0FDF4\">-</td>\n",
    "</tr>\n",
    "<tr>\n",
    "  <td><a href=\"https://deepnote.com/launch?url=https%3A%2F%2Fgithub.com%2Fhhoppe%2Fpoker_hand%2Fblob%2Fmain%2Fpoker_hand.ipynb\"><b>deepnote</b></a></td>\n",
    "  <td style=\"text-align: center\">8</td>\n",
    "  <td style=\"text-align: center\">None</td>\n",
    "  <td style=\"text-align: center\">-</td>\n",
    "  <td style=\"text-align: right; background-color: #EBF5FF\">18,700</td>\n",
    "  <td style=\"text-align: right; background-color: #EBF5FF\">22,400,000</td>\n",
    "  <td style=\"text-align: right; background-color: #EBF5FF\">12,600,000</td>\n",
    "  <td style=\"text-align: right; background-color: #EBF5FF\">-</td>\n",
    "  <td style=\"text-align: right; background-color: #F0FDF4\">-</td>\n",
    "</tr>\n",
    "</table>"
   ]
  },
  {
   "cell_type": "markdown",
   "id": "17ce3127-cbd5-445b-900d-6c01ddac60a7",
   "metadata": {},
   "source": [
    "It is puzzling that the CUDA rate is lower on my PC than on the online servers."
   ]
  },
  {
   "cell_type": "markdown",
   "id": "926b7255-e5af-473f-809b-000987e06690",
   "metadata": {},
   "source": [
    "## Imports"
   ]
  },
  {
   "cell_type": "code",
   "execution_count": 1,
   "id": "96f8b5b5-8cda-4b5f-8b07-145cf83d0dfd",
   "metadata": {
    "execution": {
     "iopub.execute_input": "2025-01-06T02:02:02.990348Z",
     "iopub.status.busy": "2025-01-06T02:02:02.990095Z",
     "iopub.status.idle": "2025-01-06T02:02:04.175358Z",
     "shell.execute_reply": "2025-01-06T02:02:04.174766Z",
     "shell.execute_reply.started": "2025-01-06T02:02:02.990333Z"
    }
   },
   "outputs": [],
   "source": [
    "!pip install -q numba"
   ]
  },
  {
   "cell_type": "code",
   "execution_count": 2,
   "id": "23fdecec-8b75-4c95-94f1-46c68b6202e6",
   "metadata": {
    "execution": {
     "iopub.execute_input": "2025-01-06T02:02:04.176538Z",
     "iopub.status.busy": "2025-01-06T02:02:04.176121Z",
     "iopub.status.idle": "2025-01-06T02:02:04.288213Z",
     "shell.execute_reply": "2025-01-06T02:02:04.287541Z",
     "shell.execute_reply.started": "2025-01-06T02:02:04.176524Z"
    }
   },
   "outputs": [],
   "source": [
    "!if [ ! -f random32.py ]; then wget https://github.com/hhoppe/poker_hand/raw/main/random32.py; fi"
   ]
  },
  {
   "cell_type": "code",
   "execution_count": 3,
   "id": "b7672379",
   "metadata": {
    "execution": {
     "iopub.execute_input": "2025-01-06T02:02:04.289519Z",
     "iopub.status.busy": "2025-01-06T02:02:04.289019Z",
     "iopub.status.idle": "2025-01-06T02:02:04.641498Z",
     "shell.execute_reply": "2025-01-06T02:02:04.640887Z",
     "shell.execute_reply.started": "2025-01-06T02:02:04.289503Z"
    },
    "lines_to_next_cell": 2,
    "tags": []
   },
   "outputs": [],
   "source": [
    "import enum\n",
    "import math\n",
    "from math import comb\n",
    "import multiprocessing\n",
    "import pathlib\n",
    "import time\n",
    "from typing import Any\n",
    "\n",
    "import numba\n",
    "from numba import cuda\n",
    "import numba.cuda.random\n",
    "import numpy as np\n",
    "import random32"
   ]
  },
  {
   "cell_type": "code",
   "execution_count": 4,
   "id": "aec3f5a6-f130-470d-8a0d-43b99587d4c7",
   "metadata": {
    "execution": {
     "iopub.execute_input": "2025-01-06T02:02:04.642526Z",
     "iopub.status.busy": "2025-01-06T02:02:04.642154Z",
     "iopub.status.idle": "2025-01-06T02:02:04.645593Z",
     "shell.execute_reply": "2025-01-06T02:02:04.645033Z",
     "shell.execute_reply.started": "2025-01-06T02:02:04.642511Z"
    }
   },
   "outputs": [],
   "source": [
    "USE_RANDOM32 = True\n",
    "if USE_RANDOM32:\n",
    "  random_create_states = random32.create_xoshiro128p_states\n",
    "  random_next_uniform_uint = random32.xoshiro128p_next\n",
    "  random_next_uniform_float32 = random32.xoshiro128p_uniform_float32\n",
    "else:\n",
    "  # See https://github.com/numba/numba/blob/main/numba/cuda/random.py\n",
    "  random_create_states = cuda.random.create_xoroshiro128p_states\n",
    "  random_next_uniform_uint = cuda.random.xoroshiro128p_next\n",
    "  random_next_uniform_float32 = cuda.random.xoroshiro128p_uniform_float32"
   ]
  },
  {
   "cell_type": "markdown",
   "id": "5071ce25-73c7-4a64-8414-767907ad6063",
   "metadata": {},
   "source": [
    "## Compute capabilities"
   ]
  },
  {
   "cell_type": "code",
   "execution_count": 5,
   "id": "40f2522d-afa5-4bf8-9f0a-5623defb8c46",
   "metadata": {
    "execution": {
     "iopub.execute_input": "2025-01-06T02:02:04.646521Z",
     "iopub.status.busy": "2025-01-06T02:02:04.646252Z",
     "iopub.status.idle": "2025-01-06T02:02:04.655243Z",
     "shell.execute_reply": "2025-01-06T02:02:04.654706Z",
     "shell.execute_reply.started": "2025-01-06T02:02:04.646508Z"
    }
   },
   "outputs": [
    {
     "name": "stdout",
     "output_type": "stream",
     "text": [
      "The number of CPU threads is 24.\n"
     ]
    }
   ],
   "source": [
    "print(f'The number of CPU threads is {multiprocessing.cpu_count()}.')"
   ]
  },
  {
   "cell_type": "code",
   "execution_count": 6,
   "id": "4fc255c9-8b8e-463e-a685-6a2785c0e63e",
   "metadata": {
    "execution": {
     "iopub.execute_input": "2025-01-06T02:02:04.657285Z",
     "iopub.status.busy": "2025-01-06T02:02:04.656656Z",
     "iopub.status.idle": "2025-01-06T02:02:04.665305Z",
     "shell.execute_reply": "2025-01-06T02:02:04.664696Z",
     "shell.execute_reply.started": "2025-01-06T02:02:04.657268Z"
    }
   },
   "outputs": [
    {
     "name": "stdout",
     "output_type": "stream",
     "text": [
      "Support for multiprocess \"fork\": True\n"
     ]
    }
   ],
   "source": [
    "MULTIPROCESS_IS_AVAILABLE = 'fork' in multiprocessing.get_all_start_methods()\n",
    "print(f'Support for multiprocess \"fork\": {MULTIPROCESS_IS_AVAILABLE}')"
   ]
  },
  {
   "cell_type": "code",
   "execution_count": 7,
   "id": "23e84adb-9b5e-4ba9-97bd-bdb7c0f92cae",
   "metadata": {
    "execution": {
     "iopub.execute_input": "2025-01-06T02:02:04.666302Z",
     "iopub.status.busy": "2025-01-06T02:02:04.666061Z",
     "iopub.status.idle": "2025-01-06T02:02:04.998497Z",
     "shell.execute_reply": "2025-01-06T02:02:04.997903Z",
     "shell.execute_reply.started": "2025-01-06T02:02:04.666287Z"
    },
    "lines_to_next_cell": 2
   },
   "outputs": [
    {
     "name": "stdout",
     "output_type": "stream",
     "text": [
      "Found 1 CUDA devices\n",
      "id 0    b'NVIDIA GeForce RTX 3080 Ti'                              [SUPPORTED]\n",
      "                      Compute Capability: 8.6\n",
      "                           PCI Device ID: 0\n",
      "                              PCI Bus ID: 10\n",
      "                                    UUID: GPU-e50896f3-f795-945c-9c59-fffc57278834\n",
      "                                Watchdog: Enabled\n",
      "             FP32/FP64 Performance Ratio: 32\n",
      "Summary:\n",
      "\t1/1 devices are supported\n",
      "The number of GPU SMs is 80\n"
     ]
    }
   ],
   "source": [
    "if cuda.is_available() and cuda.detect():\n",
    "  print(f'The number of GPU SMs is {cuda.get_current_device().MULTIPROCESSOR_COUNT}')"
   ]
  },
  {
   "cell_type": "markdown",
   "id": "e5af2c7f-c334-49ad-9afb-fb73cf6d7db4",
   "metadata": {
    "execution": {
     "iopub.execute_input": "2024-12-29T01:42:55.940070Z",
     "iopub.status.busy": "2024-12-29T01:42:55.939661Z",
     "iopub.status.idle": "2024-12-29T01:42:55.942841Z",
     "shell.execute_reply": "2024-12-29T01:42:55.942254Z",
     "shell.execute_reply.started": "2024-12-29T01:42:55.940047Z"
    },
    "lines_to_next_cell": 2
   },
   "source": [
    "## Shared code"
   ]
  },
  {
   "cell_type": "code",
   "execution_count": 8,
   "id": "cc2447c0-0ded-4360-bf8e-7e35be276331",
   "metadata": {
    "execution": {
     "iopub.execute_input": "2025-01-06T02:02:04.999653Z",
     "iopub.status.busy": "2025-01-06T02:02:04.999491Z",
     "iopub.status.idle": "2025-01-06T02:02:05.002858Z",
     "shell.execute_reply": "2025-01-06T02:02:05.002308Z",
     "shell.execute_reply.started": "2025-01-06T02:02:04.999640Z"
    }
   },
   "outputs": [],
   "source": [
    "DECK_SIZE = 52\n",
    "NUM_SUITS = 4\n",
    "NUM_RANKS = 13\n",
    "HAND_SIZE = 5\n",
    "HANDS_PER_DECK = DECK_SIZE - HAND_SIZE + 1  # We consider all overlapping hands in a shuffled deck.\n",
    "CARDS_FOR_A_FLUSH = 5\n",
    "CARDS_FOR_A_STRAIGHT = 5\n",
    "RNG = np.random.default_rng(1)"
   ]
  },
  {
   "cell_type": "code",
   "execution_count": 9,
   "id": "d6635058-f273-41d9-93a4-2b0c89cb65cc",
   "metadata": {
    "execution": {
     "iopub.execute_input": "2025-01-06T02:02:05.003725Z",
     "iopub.status.busy": "2025-01-06T02:02:05.003490Z",
     "iopub.status.idle": "2025-01-06T02:02:05.029244Z",
     "shell.execute_reply": "2025-01-06T02:02:05.028653Z",
     "shell.execute_reply.started": "2025-01-06T02:02:05.003712Z"
    }
   },
   "outputs": [],
   "source": [
    "class Outcome(enum.IntEnum):\n",
    "  \"\"\"Poker hand rankings from best to worst.\"\"\"\n",
    "\n",
    "  string_name: str\n",
    "  reference_count: int  # https://en.wikipedia.org/wiki/Poker_probability\n",
    "\n",
    "  ROYAL_FLUSH = 0, 'Royal flush', comb(4, 1)\n",
    "  STRAIGHT_FLUSH = 1, 'Straight flush', comb(10, 1) * comb(4, 1) - comb(4, 1)\n",
    "  FOUR_OF_A_KIND = 2, 'Four of a kind', comb(13, 1) * comb(4, 4) * comb(12, 1) * comb(4, 1)\n",
    "  FULL_HOUSE = 3, 'Full house', comb(13, 1) * comb(4, 3) * comb(12, 1) * comb(4, 2)\n",
    "  FLUSH = 4, 'Flush', comb(13, 5) * comb(4, 1) - comb(10, 1) * comb(4, 1)\n",
    "  STRAIGHT = 5, 'Straight', comb(10, 1) * comb(4, 1) ** 5 - comb(10, 1) * comb(4, 1)\n",
    "  THREE_OF_A_KIND = 6, 'Three of a kind', comb(13, 1) * comb(4, 3) * comb(12, 2) * comb(4, 1) ** 2\n",
    "  TWO_PAIR = 7, 'Two pair', comb(13, 2) * comb(4, 2) ** 2 * comb(11, 1) * comb(4, 1)\n",
    "  ONE_PAIR = 8, 'One pair', comb(13, 1) * comb(4, 2) * comb(12, 3) * comb(4, 1) ** 3\n",
    "  HIGH_CARD = 9, 'High card', (comb(13, 5) - comb(10, 1)) * (comb(4, 1) ** 5 - comb(4, 1))\n",
    "\n",
    "  def __new__(cls, value: int, string_name: str, reference_count: int) -> Any:\n",
    "    obj = int.__new__(cls, value)\n",
    "    obj._value_ = value\n",
    "    obj.string_name = string_name\n",
    "    obj.reference_count = reference_count\n",
    "    return obj"
   ]
  },
  {
   "cell_type": "code",
   "execution_count": 10,
   "id": "16cb8893-08da-4397-93c1-edb44fe8b06b",
   "metadata": {
    "execution": {
     "iopub.execute_input": "2025-01-06T02:02:05.030408Z",
     "iopub.status.busy": "2025-01-06T02:02:05.029952Z",
     "iopub.status.idle": "2025-01-06T02:02:05.040974Z",
     "shell.execute_reply": "2025-01-06T02:02:05.040320Z",
     "shell.execute_reply.started": "2025-01-06T02:02:05.030394Z"
    }
   },
   "outputs": [],
   "source": [
    "NUM_OUTCOMES = len(Outcome)\n",
    "EXPECTED_PROB = np.array([o.reference_count for o in Outcome]) / comb(DECK_SIZE, HAND_SIZE)\n",
    "assert np.allclose(np.sum(EXPECTED_PROB), 1.0)"
   ]
  },
  {
   "cell_type": "code",
   "execution_count": 11,
   "id": "70cee4f8-7a70-40ed-b497-64215c07468a",
   "metadata": {
    "execution": {
     "iopub.execute_input": "2025-01-06T02:02:05.041900Z",
     "iopub.status.busy": "2025-01-06T02:02:05.041715Z",
     "iopub.status.idle": "2025-01-06T02:02:05.050008Z",
     "shell.execute_reply": "2025-01-06T02:02:05.049486Z",
     "shell.execute_reply.started": "2025-01-06T02:02:05.041885Z"
    }
   },
   "outputs": [],
   "source": [
    "def write_cuda_kernel_assembly_code(function, filename):\n",
    "  (ptx,) = function.inspect_asm().values()\n",
    "  pathlib.Path(filename).write_text(ptx, encoding='utf-8')"
   ]
  },
  {
   "cell_type": "code",
   "execution_count": 12,
   "id": "e6e87979-f6ba-42ec-bb1a-24a1b23dff80",
   "metadata": {
    "execution": {
     "iopub.execute_input": "2025-01-06T02:02:05.050954Z",
     "iopub.status.busy": "2025-01-06T02:02:05.050676Z",
     "iopub.status.idle": "2025-01-06T02:02:05.059042Z",
     "shell.execute_reply": "2025-01-06T02:02:05.058504Z",
     "shell.execute_reply.started": "2025-01-06T02:02:05.050941Z"
    },
    "lines_to_next_cell": 2
   },
   "outputs": [],
   "source": [
    "def report_cuda_kernel_properties(function):\n",
    "  PROPERTIES = 'const_mem_size local_mem_per_thread max_threads_per_block regs_per_thread shared_mem_per_block'.split()\n",
    "  for property_name in PROPERTIES:\n",
    "    (value,) = getattr(function, 'get_' + property_name)().values()\n",
    "    print(f'{property_name} = {value}')"
   ]
  },
  {
   "cell_type": "markdown",
   "id": "c53fd3b4-129f-4acd-9c1f-3dc1cf809b16",
   "metadata": {},
   "source": [
    "## Approach 1: arrays"
   ]
  },
  {
   "cell_type": "markdown",
   "id": "c193e996-9ea5-40fd-806a-b4642241507b",
   "metadata": {
    "execution": {
     "iopub.execute_input": "2024-12-29T01:42:55.940070Z",
     "iopub.status.busy": "2024-12-29T01:42:55.939661Z",
     "iopub.status.idle": "2024-12-29T01:42:55.942841Z",
     "shell.execute_reply": "2024-12-29T01:42:55.942254Z",
     "shell.execute_reply.started": "2024-12-29T01:42:55.940047Z"
    },
    "lines_to_next_cell": 2
   },
   "source": [
    "### Hand evaluation"
   ]
  },
  {
   "cell_type": "code",
   "execution_count": 13,
   "id": "f74eebae-594a-4324-94af-edbcb7b69e33",
   "metadata": {
    "execution": {
     "iopub.execute_input": "2025-01-06T02:02:05.060055Z",
     "iopub.status.busy": "2025-01-06T02:02:05.059691Z",
     "iopub.status.idle": "2025-01-06T02:02:05.068558Z",
     "shell.execute_reply": "2025-01-06T02:02:05.068021Z",
     "shell.execute_reply.started": "2025-01-06T02:02:05.060041Z"
    }
   },
   "outputs": [],
   "source": [
    "def outcome_of_hand_array_python(cards, ranks, freqs):\n",
    "  \"\"\"Evaluate 5-card poker hand and return outcome ranking, using array data structures.\n",
    "\n",
    "  Args:\n",
    "    cards: List of 5 integers representing cards (0-51).\n",
    "    ranks: Pre-allocated array for storing sorted ranks.\n",
    "    freqs: Pre-allocated array for counting rank frequencies.\n",
    "\n",
    "  Returns:\n",
    "    Integer representing hand ranking (see Outcome enum).\n",
    "  \"\"\"\n",
    "  # pylint: disable=consider-using-in, consider-using-max-builtin\n",
    "\n",
    "  def get_rank(card: int) -> int:\n",
    "    return card >> 2  # In range(NUM_RANKS), ordered '23456789TJQKA'.\n",
    "\n",
    "  def get_suit(card: int) -> int:\n",
    "    return card & 0b11  # In range(4).\n",
    "\n",
    "  # Sort cards by rank for easier pattern matching, using simple insertion sort.\n",
    "  for i in range(HAND_SIZE):\n",
    "    ranks[i] = get_rank(cards[i])\n",
    "  # ranks.sort()\n",
    "  for i in range(1, HAND_SIZE):\n",
    "    key = ranks[i]\n",
    "    j = i - 1\n",
    "    while j >= 0 and ranks[j] > key:\n",
    "      ranks[j + 1] = ranks[j]\n",
    "      j -= 1\n",
    "    ranks[j + 1] = key\n",
    "\n",
    "  # is_flush = all(card == cards[0] for card in cards[1:])\n",
    "  # Expanding `cards` on the rhs results in better cuda-compiled code.\n",
    "  c0, c1, c2, c3, c4 = cards[0], cards[1], cards[2], cards[3], cards[4]\n",
    "  is_flush = get_suit(c0) == get_suit(c1) == get_suit(c2) == get_suit(c3) == get_suit(c4)\n",
    "\n",
    "  # Expanding `ranks` on the rhs results in better cuda-compiled code.\n",
    "  r0, r1, r2, r3, r4 = ranks[0], ranks[1], ranks[2], ranks[3], ranks[4]\n",
    "  # We must also consider the ace-low straight 'A2345'.\n",
    "  is_straight = r1 == r0 + 1 and r2 == r0 + 2 and r3 == r0 + 3 and (r4 == r0 + 4 or r4 == r0 + 12)\n",
    "\n",
    "  # Count rank frequencies.\n",
    "  freqs[:] = 0\n",
    "  for rank in ranks:\n",
    "    freqs[rank] += 1\n",
    "\n",
    "  # max_freq = max(freqs)\n",
    "  # num_pairs = np.sum(freqs == 2)\n",
    "  max_freq = 0\n",
    "  num_pairs = 0\n",
    "  for freq in freqs:\n",
    "    if freq > max_freq:\n",
    "      max_freq = freq\n",
    "    if freq == 2:\n",
    "      num_pairs += 1\n",
    "\n",
    "  if is_flush and is_straight:\n",
    "    if ranks[0] == 8:\n",
    "      return Outcome.ROYAL_FLUSH.value\n",
    "    return Outcome.STRAIGHT_FLUSH.value\n",
    "  if max_freq == 4:\n",
    "    return Outcome.FOUR_OF_A_KIND.value\n",
    "  if max_freq == 3 and num_pairs > 0:\n",
    "    return Outcome.FULL_HOUSE.value\n",
    "  if is_flush:\n",
    "    return Outcome.FLUSH.value\n",
    "  if is_straight:\n",
    "    return Outcome.STRAIGHT.value\n",
    "  if max_freq == 3:\n",
    "    return Outcome.THREE_OF_A_KIND.value\n",
    "  if max_freq == 2:\n",
    "    if num_pairs == 2:\n",
    "      return Outcome.TWO_PAIR.value\n",
    "    return Outcome.ONE_PAIR.value\n",
    "  return Outcome.HIGH_CARD.value"
   ]
  },
  {
   "cell_type": "code",
   "execution_count": 14,
   "id": "8676ddc6-f14c-4fe3-8316-249f247439ad",
   "metadata": {
    "execution": {
     "iopub.execute_input": "2025-01-06T02:02:05.069490Z",
     "iopub.status.busy": "2025-01-06T02:02:05.069221Z",
     "iopub.status.idle": "2025-01-06T02:02:05.080035Z",
     "shell.execute_reply": "2025-01-06T02:02:05.079486Z",
     "shell.execute_reply.started": "2025-01-06T02:02:05.069475Z"
    }
   },
   "outputs": [],
   "source": [
    "outcome_of_hand_array_numba = numba.njit(outcome_of_hand_array_python)"
   ]
  },
  {
   "cell_type": "markdown",
   "id": "b2c72168-c7d6-4792-9ea9-ee887733a7e1",
   "metadata": {
    "execution": {
     "iopub.execute_input": "2024-12-29T01:43:09.066669Z",
     "iopub.status.busy": "2024-12-29T01:43:09.066142Z",
     "iopub.status.idle": "2024-12-29T01:43:09.069033Z",
     "shell.execute_reply": "2024-12-29T01:43:09.068530Z",
     "shell.execute_reply.started": "2024-12-29T01:43:09.066653Z"
    },
    "lines_to_next_cell": 2
   },
   "source": [
    "### CPU simulation"
   ]
  },
  {
   "cell_type": "code",
   "execution_count": 15,
   "id": "61102c48-3b12-497c-adcd-a5dab40f1ac7",
   "metadata": {
    "execution": {
     "iopub.execute_input": "2025-01-06T02:02:05.081024Z",
     "iopub.status.busy": "2025-01-06T02:02:05.080730Z",
     "iopub.status.idle": "2025-01-06T02:02:05.089432Z",
     "shell.execute_reply": "2025-01-06T02:02:05.088903Z",
     "shell.execute_reply.started": "2025-01-06T02:02:05.081009Z"
    }
   },
   "outputs": [],
   "source": [
    "def make_compute_cpu(outcome_of_hand_array):\n",
    "  # Return a specialized compute_cpu function for the given outcome_of_hand_array function.\n",
    "\n",
    "  def compute_cpu(num_decks, rng):\n",
    "    BLOCK_SIZE = 10\n",
    "    # deck_block = np.arange(DECK_SIZE, dtype=np.uint8).repeat(BLOCK_SIZE).reshape(DECK_SIZE, -1).T\n",
    "    deck_block = np.empty((BLOCK_SIZE, DECK_SIZE), dtype=np.uint8)\n",
    "    deck_block[:] = np.arange(DECK_SIZE, dtype=np.uint8)\n",
    "    ranks = np.empty(HAND_SIZE, np.uint8)\n",
    "    freqs = np.empty(NUM_RANKS, np.int8)\n",
    "    tally = np.zeros(NUM_OUTCOMES, np.int64)\n",
    "    for deck_index_start in range(0, num_decks, BLOCK_SIZE):\n",
    "      deck_block2 = rng.permutation(deck_block, axis=1)\n",
    "      for deck_index in range(deck_index_start, min(deck_index_start + BLOCK_SIZE, num_decks)):\n",
    "        deck = deck_block2[deck_index - deck_index_start]\n",
    "        for hand_index in range(HANDS_PER_DECK):\n",
    "          hand = deck[hand_index : hand_index + 5]\n",
    "          outcome = outcome_of_hand_array(hand, ranks, freqs)\n",
    "          tally[outcome] += 1\n",
    "    return tally / (num_decks * HANDS_PER_DECK)\n",
    "\n",
    "  return compute_cpu"
   ]
  },
  {
   "cell_type": "code",
   "execution_count": 16,
   "id": "b7e33708-c91f-486c-bb02-71da114e1a69",
   "metadata": {
    "execution": {
     "iopub.execute_input": "2025-01-06T02:02:05.090115Z",
     "iopub.status.busy": "2025-01-06T02:02:05.089987Z",
     "iopub.status.idle": "2025-01-06T02:02:05.098896Z",
     "shell.execute_reply": "2025-01-06T02:02:05.098328Z",
     "shell.execute_reply.started": "2025-01-06T02:02:05.090104Z"
    },
    "lines_to_next_cell": 2
   },
   "outputs": [],
   "source": [
    "simulate_hands_array_cpu_python = make_compute_cpu(outcome_of_hand_array_python)\n",
    "simulate_hands_array_cpu_numba = numba.njit(make_compute_cpu(outcome_of_hand_array_numba))"
   ]
  },
  {
   "cell_type": "code",
   "execution_count": 17,
   "id": "ebec99b5-9246-4e29-94ed-ed675d03e549",
   "metadata": {
    "execution": {
     "iopub.execute_input": "2025-01-06T02:02:05.099731Z",
     "iopub.status.busy": "2025-01-06T02:02:05.099557Z",
     "iopub.status.idle": "2025-01-06T02:02:14.078852Z",
     "shell.execute_reply": "2025-01-06T02:02:14.078244Z",
     "shell.execute_reply.started": "2025-01-06T02:02:05.099716Z"
    },
    "lines_to_next_cell": 2
   },
   "outputs": [],
   "source": [
    "assert np.allclose(simulate_hands_array_cpu_numba(10**5, RNG), EXPECTED_PROB, atol=0.001)"
   ]
  },
  {
   "cell_type": "code",
   "execution_count": 18,
   "id": "2b737c66-9df8-4f2b-bc90-63d850850777",
   "metadata": {
    "execution": {
     "iopub.execute_input": "2025-01-06T02:02:14.079750Z",
     "iopub.status.busy": "2025-01-06T02:02:14.079537Z",
     "iopub.status.idle": "2025-01-06T02:02:15.474829Z",
     "shell.execute_reply": "2025-01-06T02:02:15.474121Z",
     "shell.execute_reply.started": "2025-01-06T02:02:14.079737Z"
    }
   },
   "outputs": [
    {
     "name": "stdout",
     "output_type": "stream",
     "text": [
      "696 ms ± 4.91 ms per loop (mean ± std. dev. of 2 runs, 1 loop each)\n"
     ]
    }
   ],
   "source": [
    "%timeit -n1 -r2 simulate_hands_array_cpu_python(2000, RNG)  # ~710 ms."
   ]
  },
  {
   "cell_type": "code",
   "execution_count": 19,
   "id": "e6d31c92-50f3-4c51-b333-0cbdfdd2bdd5",
   "metadata": {
    "execution": {
     "iopub.execute_input": "2025-01-06T02:02:15.475621Z",
     "iopub.status.busy": "2025-01-06T02:02:15.475482Z",
     "iopub.status.idle": "2025-01-06T02:02:18.420252Z",
     "shell.execute_reply": "2025-01-06T02:02:18.419588Z",
     "shell.execute_reply.started": "2025-01-06T02:02:15.475610Z"
    },
    "lines_to_next_cell": 2
   },
   "outputs": [
    {
     "name": "stdout",
     "output_type": "stream",
     "text": [
      "14.7 ms ± 14.6 µs per loop (mean ± std. dev. of 2 runs, 100 loops each)\n"
     ]
    }
   ],
   "source": [
    "%timeit -n100 -r2 simulate_hands_array_cpu_numba(10**4, RNG)  # ~14.8 ms."
   ]
  },
  {
   "cell_type": "code",
   "execution_count": 20,
   "id": "38b2467c-cc46-4b3d-ab2e-0db7891bcf6f",
   "metadata": {
    "execution": {
     "iopub.execute_input": "2025-01-06T02:02:18.421474Z",
     "iopub.status.busy": "2025-01-06T02:02:18.421321Z",
     "iopub.status.idle": "2025-01-06T02:02:18.424188Z",
     "shell.execute_reply": "2025-01-06T02:02:18.423640Z",
     "shell.execute_reply.started": "2025-01-06T02:02:18.421462Z"
    }
   },
   "outputs": [],
   "source": [
    "def compute_chunk(args):\n",
    "  num_decks, rng = args\n",
    "  return simulate_hands_array_cpu_numba(num_decks, rng)"
   ]
  },
  {
   "cell_type": "code",
   "execution_count": 21,
   "id": "a853fae1-8516-417c-97de-b221f97c6d40",
   "metadata": {
    "execution": {
     "iopub.execute_input": "2025-01-06T02:02:18.426595Z",
     "iopub.status.busy": "2025-01-06T02:02:18.426335Z",
     "iopub.status.idle": "2025-01-06T02:02:18.436568Z",
     "shell.execute_reply": "2025-01-06T02:02:18.435928Z",
     "shell.execute_reply.started": "2025-01-06T02:02:18.426582Z"
    },
    "lines_to_next_cell": 2
   },
   "outputs": [],
   "source": [
    "def simulate_hands_array_cpu_numba_multiprocess(num_decks, rng):\n",
    "  num_processes = multiprocessing.cpu_count()\n",
    "  chunk_num_decks = math.ceil(num_decks / num_processes)\n",
    "  chunks = [(chunk_num_decks, np.random.default_rng(rng)) for i in range(num_processes)]\n",
    "  with multiprocessing.get_context('fork').Pool(num_processes) as pool:\n",
    "    results = pool.map(compute_chunk, chunks)\n",
    "  return np.mean(results, axis=0)"
   ]
  },
  {
   "cell_type": "markdown",
   "id": "0154d69f-d8dc-4d8b-8d5e-e1632f9f4fc8",
   "metadata": {
    "lines_to_next_cell": 2
   },
   "source": [
    "### GPU simulation"
   ]
  },
  {
   "cell_type": "code",
   "execution_count": 22,
   "id": "e3280ce4-3cdc-4910-96d7-6b86410d8be4",
   "metadata": {
    "execution": {
     "iopub.execute_input": "2025-01-06T02:02:18.437496Z",
     "iopub.status.busy": "2025-01-06T02:02:18.437315Z",
     "iopub.status.idle": "2025-01-06T02:02:18.445656Z",
     "shell.execute_reply": "2025-01-06T02:02:18.445049Z",
     "shell.execute_reply.started": "2025-01-06T02:02:18.437481Z"
    }
   },
   "outputs": [],
   "source": [
    "THREADS_PER_BLOCK = 256"
   ]
  },
  {
   "cell_type": "code",
   "execution_count": 23,
   "id": "96d4ddd0-9c93-403d-bd5e-a0be49a6f7ff",
   "metadata": {
    "execution": {
     "iopub.execute_input": "2025-01-06T02:02:18.446557Z",
     "iopub.status.busy": "2025-01-06T02:02:18.446410Z",
     "iopub.status.idle": "2025-01-06T02:02:18.455804Z",
     "shell.execute_reply": "2025-01-06T02:02:18.455204Z",
     "shell.execute_reply.started": "2025-01-06T02:02:18.446544Z"
    }
   },
   "outputs": [],
   "source": [
    "@cuda.jit  # Using either local memory or cuda.shared.array.\n",
    "def gpu_array(rng_states, num_decks_per_thread, global_tally):\n",
    "  # pylint: disable=too-many-function-args, no-value-for-parameter, comparison-with-callable\n",
    "  # pylint: disable=possibly-used-before-assignment\n",
    "  USE_SHARED_MEMORY = True  # Shared memory is faster.\n",
    "  thread_index = cuda.grid(1)\n",
    "  if thread_index >= len(rng_states):\n",
    "    return\n",
    "\n",
    "  thread_id = cuda.threadIdx.x  # Index within block.\n",
    "  if USE_SHARED_MEMORY:\n",
    "    block_tally = cuda.shared.array((THREADS_PER_BLOCK, NUM_OUTCOMES), np.int32)\n",
    "    block_deck = cuda.shared.array((THREADS_PER_BLOCK, DECK_SIZE), np.uint8)\n",
    "    block_ranks = cuda.shared.array((THREADS_PER_BLOCK, HAND_SIZE), np.uint8)\n",
    "    block_freqs = cuda.shared.array((THREADS_PER_BLOCK, NUM_RANKS), np.uint8)\n",
    "    tally = block_tally[thread_id]\n",
    "    deck = block_deck[thread_id]\n",
    "    ranks = block_ranks[thread_id]\n",
    "    freqs = block_freqs[thread_id]\n",
    "    # Note: transposed structure results in longer code and ~1.3x slower execution, e.g.:\n",
    "    # block_tally = cuda.shared.array((NUM_OUTCOMES, THREADS_PER_BLOCK), np.int32)\n",
    "    # tally = block_tally[:, thread_id]\n",
    "  else:\n",
    "    tally = cuda.local.array(NUM_OUTCOMES, np.int32)\n",
    "    deck = cuda.local.array(DECK_SIZE, np.uint8)\n",
    "    ranks = cuda.local.array(HAND_SIZE, np.uint8)\n",
    "    freqs = cuda.local.array(NUM_RANKS, np.uint8)\n",
    "\n",
    "  tally[:] = 0\n",
    "  for i in range(numba.uint8(DECK_SIZE)):  # Casting as uint8 nicely unrolls the loop.\n",
    "    deck[i] = i\n",
    "\n",
    "  for _ in range(num_decks_per_thread):\n",
    "    # Apply Fisher-Yates shuffle to current deck.\n",
    "    for i in range(51, 0, -1):\n",
    "      random_uint32 = random_next_uniform_uint(rng_states, thread_index)\n",
    "      j = random_uint32 % numba.uint32(i + 1)\n",
    "      deck[i], deck[j] = deck[j], deck[i]\n",
    "\n",
    "    for hand_index in range(HANDS_PER_DECK):\n",
    "      hand = deck[hand_index : hand_index + 5]\n",
    "      outcome = outcome_of_hand_array_numba(hand, ranks, freqs)\n",
    "      tally[outcome] += 1\n",
    "\n",
    "  # First accumulate a per-block tally, then accumulate that tally into the global tally.\n",
    "  shared_tally = cuda.shared.array(NUM_OUTCOMES, np.int64)  # Per-block intermediate tally.\n",
    "  if thread_id == 0:\n",
    "    shared_tally[:] = 0\n",
    "  cuda.syncthreads()\n",
    "\n",
    "  # Each thread adds its local results to shared memory.\n",
    "  for i in range(NUM_OUTCOMES):\n",
    "    cuda.atomic.add(shared_tally, i, tally[i])\n",
    "    cuda.syncthreads()\n",
    "\n",
    "  if thread_id == 0:\n",
    "    for i in range(NUM_OUTCOMES):\n",
    "      cuda.atomic.add(global_tally, i, shared_tally[i])"
   ]
  },
  {
   "cell_type": "code",
   "execution_count": 24,
   "id": "627231b2-4a92-4c68-b260-0c4589a09772",
   "metadata": {
    "execution": {
     "iopub.execute_input": "2025-01-06T02:02:18.456791Z",
     "iopub.status.busy": "2025-01-06T02:02:18.456447Z",
     "iopub.status.idle": "2025-01-06T02:02:18.467594Z",
     "shell.execute_reply": "2025-01-06T02:02:18.466937Z",
     "shell.execute_reply.started": "2025-01-06T02:02:18.456778Z"
    }
   },
   "outputs": [],
   "source": [
    "def simulate_hands_array_gpu_cuda(num_decks, rng):\n",
    "  device = cuda.get_current_device()\n",
    "  # Target enough threads for ~4 blocks per SM.\n",
    "  target_num_threads = 4 * device.MULTIPROCESSOR_COUNT * THREADS_PER_BLOCK\n",
    "  num_decks_per_thread = max(1, num_decks // target_num_threads)\n",
    "  num_threads = num_decks // num_decks_per_thread\n",
    "  # print(f'{num_decks_per_thread=} {num_threads=}')\n",
    "  blocks = math.ceil(num_threads / THREADS_PER_BLOCK)\n",
    "  seed = rng.integers(2**64, dtype=np.uint64)\n",
    "  d_rng_states = random_create_states(num_threads, seed)\n",
    "  d_global_tally = cuda.to_device(np.zeros(NUM_OUTCOMES, np.int64))\n",
    "  gpu_array[blocks, THREADS_PER_BLOCK](d_rng_states, num_decks_per_thread, d_global_tally)\n",
    "  return d_global_tally.copy_to_host() / (num_threads * num_decks_per_thread * HANDS_PER_DECK)"
   ]
  },
  {
   "cell_type": "code",
   "execution_count": 25,
   "id": "32f20d44-bdf8-4a19-8933-66cc9f79fa67",
   "metadata": {
    "execution": {
     "iopub.execute_input": "2025-01-06T02:02:18.468539Z",
     "iopub.status.busy": "2025-01-06T02:02:18.468252Z",
     "iopub.status.idle": "2025-01-06T02:02:20.075938Z",
     "shell.execute_reply": "2025-01-06T02:02:20.075316Z",
     "shell.execute_reply.started": "2025-01-06T02:02:18.468525Z"
    }
   },
   "outputs": [],
   "source": [
    "if cuda.is_available():\n",
    "  assert np.allclose(simulate_hands_array_gpu_cuda(10**7, RNG), EXPECTED_PROB, atol=0.0001)"
   ]
  },
  {
   "cell_type": "code",
   "execution_count": 26,
   "id": "beee6915-9637-4e74-bdc2-c370cb01e35c",
   "metadata": {
    "execution": {
     "iopub.execute_input": "2025-01-06T02:02:20.077307Z",
     "iopub.status.busy": "2025-01-06T02:02:20.076854Z",
     "iopub.status.idle": "2025-01-06T02:02:21.108614Z",
     "shell.execute_reply": "2025-01-06T02:02:21.107980Z",
     "shell.execute_reply.started": "2025-01-06T02:02:20.077291Z"
    }
   },
   "outputs": [
    {
     "name": "stdout",
     "output_type": "stream",
     "text": [
      "Timing:\n",
      "205 ms ± 37.9 ms per loop (mean ± std. dev. of 5 runs, 1 loop each)\n"
     ]
    }
   ],
   "source": [
    "if cuda.is_available():\n",
    "  print('Timing:')\n",
    "  %timeit -n1 -r5 simulate_hands_array_gpu_cuda(10**7, RNG)  # ~220 ms."
   ]
  },
  {
   "cell_type": "code",
   "execution_count": 27,
   "id": "ecb3f7ec-127e-4e85-9cab-655cb388312f",
   "metadata": {
    "execution": {
     "iopub.execute_input": "2025-01-06T02:02:21.109835Z",
     "iopub.status.busy": "2025-01-06T02:02:21.109397Z",
     "iopub.status.idle": "2025-01-06T02:02:21.115506Z",
     "shell.execute_reply": "2025-01-06T02:02:21.114881Z",
     "shell.execute_reply.started": "2025-01-06T02:02:21.109818Z"
    }
   },
   "outputs": [
    {
     "name": "stdout",
     "output_type": "stream",
     "text": [
      "const_mem_size = 0\n",
      "local_mem_per_thread = 0\n",
      "max_threads_per_block = 1024\n",
      "regs_per_thread = 36\n",
      "shared_mem_per_block = 28240\n"
     ]
    }
   ],
   "source": [
    "if cuda.is_available():\n",
    "  write_cuda_kernel_assembly_code(gpu_array, 'gpu_array.ptx')\n",
    "  report_cuda_kernel_properties(gpu_array)"
   ]
  },
  {
   "cell_type": "markdown",
   "id": "61f636ef-f944-4edc-8d8f-1c88ebbd9c0e",
   "metadata": {
    "lines_to_next_cell": 2
   },
   "source": [
    "## Approach 2: bitmasks"
   ]
  },
  {
   "cell_type": "code",
   "execution_count": 28,
   "id": "3693e30a-038c-4bee-9763-012050a7a6e7",
   "metadata": {
    "execution": {
     "iopub.execute_input": "2025-01-06T02:02:21.117026Z",
     "iopub.status.busy": "2025-01-06T02:02:21.116622Z",
     "iopub.status.idle": "2025-01-06T02:02:21.125082Z",
     "shell.execute_reply": "2025-01-06T02:02:21.124283Z",
     "shell.execute_reply.started": "2025-01-06T02:02:21.117009Z"
    }
   },
   "outputs": [],
   "source": [
    "# Thanks to Marcel Gavriliu for this approach of storing card bitmasks and summing them."
   ]
  },
  {
   "cell_type": "code",
   "execution_count": 29,
   "id": "2468db55-9dba-47da-99bf-c992cd446d44",
   "metadata": {
    "execution": {
     "iopub.execute_input": "2025-01-06T02:02:21.126093Z",
     "iopub.status.busy": "2025-01-06T02:02:21.125909Z",
     "iopub.status.idle": "2025-01-06T02:02:21.135219Z",
     "shell.execute_reply": "2025-01-06T02:02:21.134473Z",
     "shell.execute_reply.started": "2025-01-06T02:02:21.126079Z"
    }
   },
   "outputs": [],
   "source": [
    "CARD_COUNT_BITS = 3  # We use 3 bits to encode 0-7 cards for both ranks and suits.\n",
    "RANKS_ONE = 0b_001_001_001_001_001_001_001_001_001_001_001_001_001\n",
    "RANKS_TWO = RANKS_ONE << 1\n",
    "RANKS_FOUR = RANKS_ONE << 2\n",
    "ROYAL_STRAIGHT_RANK_MASK = 0b_001_001_001_001_001_000_000_000_000_000_000_000_000\n",
    "SUITS_ONE = 0b_001_001_001_001"
   ]
  },
  {
   "cell_type": "code",
   "execution_count": 30,
   "id": "eec21c55-97da-4226-87bb-cf9e66607b59",
   "metadata": {
    "execution": {
     "iopub.execute_input": "2025-01-06T02:02:21.136235Z",
     "iopub.status.busy": "2025-01-06T02:02:21.136050Z",
     "iopub.status.idle": "2025-01-06T02:02:21.145231Z",
     "shell.execute_reply": "2025-01-06T02:02:21.144565Z",
     "shell.execute_reply.started": "2025-01-06T02:02:21.136221Z"
    }
   },
   "outputs": [],
   "source": [
    "assert RANKS_ONE == int(sum((2**CARD_COUNT_BITS) ** np.arange(NUM_RANKS, dtype=np.uint64)))\n",
    "assert SUITS_ONE == int(sum((2**CARD_COUNT_BITS) ** np.arange(NUM_SUITS, dtype=np.uint64)))\n",
    "assert ROYAL_STRAIGHT_RANK_MASK == int(\n",
    "    sum(8 ** np.arange(NUM_RANKS - CARDS_FOR_A_STRAIGHT, NUM_RANKS, dtype=np.uint64))\n",
    ")"
   ]
  },
  {
   "cell_type": "code",
   "execution_count": 31,
   "id": "06c3ecd6-0b71-4ecd-96af-55eddf56d3ac",
   "metadata": {
    "execution": {
     "iopub.execute_input": "2025-01-06T02:02:21.146369Z",
     "iopub.status.busy": "2025-01-06T02:02:21.146002Z",
     "iopub.status.idle": "2025-01-06T02:02:21.154691Z",
     "shell.execute_reply": "2025-01-06T02:02:21.154072Z",
     "shell.execute_reply.started": "2025-01-06T02:02:21.146350Z"
    }
   },
   "outputs": [],
   "source": [
    "def create_table_mask_of_card():\n",
    "  lst = [\n",
    "      (1 << (CARD_COUNT_BITS * (NUM_RANKS + suit))) | (1 << (CARD_COUNT_BITS * rank))\n",
    "      for suit in range(NUM_SUITS)\n",
    "      for rank in range(NUM_RANKS)\n",
    "  ]\n",
    "  return np.array(lst, np.uint64)"
   ]
  },
  {
   "cell_type": "code",
   "execution_count": 32,
   "id": "a580f2ec-81c0-45d4-8a71-a377c2f49d24",
   "metadata": {
    "execution": {
     "iopub.execute_input": "2025-01-06T02:02:21.155802Z",
     "iopub.status.busy": "2025-01-06T02:02:21.155410Z",
     "iopub.status.idle": "2025-01-06T02:02:21.164304Z",
     "shell.execute_reply": "2025-01-06T02:02:21.163629Z",
     "shell.execute_reply.started": "2025-01-06T02:02:21.155778Z"
    }
   },
   "outputs": [],
   "source": [
    "# Table of 52 uint64, each the \"(4 + 13) * 3\"-bit mask encoding of the suit and rank of a card.\n",
    "TABLE_MASK_OF_CARD = create_table_mask_of_card()"
   ]
  },
  {
   "cell_type": "code",
   "execution_count": 33,
   "id": "2b3f6172-5fb2-4f08-b6c8-3460d7a36f23",
   "metadata": {
    "execution": {
     "iopub.execute_input": "2025-01-06T02:02:21.165464Z",
     "iopub.status.busy": "2025-01-06T02:02:21.165103Z",
     "iopub.status.idle": "2025-01-06T02:02:21.173719Z",
     "shell.execute_reply": "2025-01-06T02:02:21.173102Z",
     "shell.execute_reply.started": "2025-01-06T02:02:21.165445Z"
    }
   },
   "outputs": [],
   "source": [
    "def create_table_straights_rank_mask():\n",
    "  lst = [0b_001_001_001_001_001 << (i * 3) for i in range(9)]  # '23456' to 'TJQKA'.\n",
    "  lst.append(0b_001_000_000_000_000_000_000_000_000_001_001_001_001)  # '2345A'.\n",
    "  return np.array(lst, np.uint64)"
   ]
  },
  {
   "cell_type": "code",
   "execution_count": 34,
   "id": "97639df3-a4ac-40c8-9329-15901d622de9",
   "metadata": {
    "execution": {
     "iopub.execute_input": "2025-01-06T02:02:21.175416Z",
     "iopub.status.busy": "2025-01-06T02:02:21.174647Z",
     "iopub.status.idle": "2025-01-06T02:02:21.183596Z",
     "shell.execute_reply": "2025-01-06T02:02:21.182716Z",
     "shell.execute_reply.started": "2025-01-06T02:02:21.175398Z"
    }
   },
   "outputs": [],
   "source": [
    "# Table of 10 uint64, each the \"13 * 3\"-bit mask encoding of ranks in straight.\n",
    "TABLE_STRAIGHTS_RANK_MASK = create_table_straights_rank_mask()"
   ]
  },
  {
   "cell_type": "code",
   "execution_count": 35,
   "id": "bfbe62e2-c3e7-477a-8464-aa0d6f533ac0",
   "metadata": {
    "execution": {
     "iopub.execute_input": "2025-01-06T02:02:21.184941Z",
     "iopub.status.busy": "2025-01-06T02:02:21.184384Z",
     "iopub.status.idle": "2025-01-06T02:02:21.194410Z",
     "shell.execute_reply": "2025-01-06T02:02:21.193641Z",
     "shell.execute_reply.started": "2025-01-06T02:02:21.184905Z"
    }
   },
   "outputs": [],
   "source": [
    "@numba.jit\n",
    "def outcome_of_hand_bitmask(bitmask_sum):\n",
    "  \"\"\"Evaluate 5-card poker hand and return outcome ranking, using sum of card bitmasks.\"\"\"\n",
    "  # pylint: disable=too-many-function-args\n",
    "  suit_count_mask = numba.uint32(bitmask_sum >> CARD_COUNT_BITS * NUM_RANKS)\n",
    "  rank_count_mask = numba.uint64(bitmask_sum & (2 ** (CARD_COUNT_BITS * NUM_RANKS) - 1))\n",
    "\n",
    "  is_flush = cuda.popc(numba.uint32(suit_count_mask & (suit_count_mask >> 2) & SUITS_ONE)) != 0\n",
    "\n",
    "  # is_straight = rank_count_mask in TABLE_STRAIGHTS_RANK_MASK\n",
    "  is_straight = False\n",
    "  for straight_mask in TABLE_STRAIGHTS_RANK_MASK:  # Automatic cuda.const.array_like().\n",
    "    if rank_count_mask == straight_mask:\n",
    "      is_straight = True\n",
    "\n",
    "  is_four = (rank_count_mask & RANKS_FOUR) != 0\n",
    "  is_three = ((rank_count_mask + RANKS_ONE) & RANKS_FOUR) != 0\n",
    "  mask_two_or_more = rank_count_mask & RANKS_TWO\n",
    "  num_two_or_more = numba.uint32(cuda.popc(mask_two_or_more))  # Count number of set bits.\n",
    "\n",
    "  if is_flush and is_straight:\n",
    "    if (rank_count_mask & ROYAL_STRAIGHT_RANK_MASK) != 0:\n",
    "      return Outcome.ROYAL_FLUSH.value\n",
    "    return Outcome.STRAIGHT_FLUSH.value\n",
    "  if is_four:\n",
    "    return Outcome.FOUR_OF_A_KIND.value\n",
    "  if is_three and num_two_or_more > 1:\n",
    "    return Outcome.FULL_HOUSE.value\n",
    "  if is_flush:\n",
    "    return Outcome.FLUSH.value\n",
    "  if is_straight:\n",
    "    return Outcome.STRAIGHT.value\n",
    "  if is_three:\n",
    "    return Outcome.THREE_OF_A_KIND.value\n",
    "  if num_two_or_more == 2:\n",
    "    return Outcome.TWO_PAIR.value\n",
    "  if num_two_or_more == 1:\n",
    "    return Outcome.ONE_PAIR.value\n",
    "  return Outcome.HIGH_CARD.value"
   ]
  },
  {
   "cell_type": "code",
   "execution_count": 36,
   "id": "6b60a760-8437-46e5-9e98-df44851a0f74",
   "metadata": {
    "execution": {
     "iopub.execute_input": "2025-01-06T02:02:21.195666Z",
     "iopub.status.busy": "2025-01-06T02:02:21.195307Z",
     "iopub.status.idle": "2025-01-06T02:02:21.207089Z",
     "shell.execute_reply": "2025-01-06T02:02:21.206356Z",
     "shell.execute_reply.started": "2025-01-06T02:02:21.195652Z"
    }
   },
   "outputs": [],
   "source": [
    "@cuda.jit\n",
    "def gpu_bitmask(rng_states, num_decks_per_thread, global_tally):\n",
    "  # pylint: disable=too-many-function-args, no-value-for-parameter, comparison-with-callable\n",
    "  thread_index = cuda.grid(1)\n",
    "  if thread_index >= len(rng_states):\n",
    "    return\n",
    "\n",
    "  thread_id = cuda.threadIdx.x  # Index within block.\n",
    "  block_tally = cuda.shared.array((THREADS_PER_BLOCK, NUM_OUTCOMES), np.int32)\n",
    "  block_deck = cuda.shared.array((THREADS_PER_BLOCK, DECK_SIZE), np.uint8)\n",
    "  tally = block_tally[thread_id]\n",
    "  deck = block_deck[thread_id]\n",
    "\n",
    "  tally[:] = 0\n",
    "  for i in range(numba.uint8(DECK_SIZE)):  # Casting as uint8 nicely unrolls the loop.\n",
    "    deck[i] = i\n",
    "\n",
    "  for _ in range(num_decks_per_thread):\n",
    "    # Apply Fisher-Yates shuffle to current deck.\n",
    "    for i in range(51, 0, -1):\n",
    "      random_uint32 = random_next_uniform_uint(rng_states, thread_index)\n",
    "      j = random_uint32 % numba.uint32(i + 1)\n",
    "      deck[i], deck[j] = deck[j], deck[i]\n",
    "\n",
    "    MASK = cuda.const.array_like(TABLE_MASK_OF_CARD)\n",
    "    mask0, mask1, mask2, mask3 = MASK[deck[0]], MASK[deck[1]], MASK[deck[2]], MASK[deck[3]]\n",
    "    bitmask_sum = mask0 + mask1 + mask2 + mask3\n",
    "\n",
    "    for hand_index in range(HANDS_PER_DECK):\n",
    "      mask4 = MASK[deck[hand_index + 4]]\n",
    "      bitmask_sum += mask4\n",
    "      outcome = outcome_of_hand_bitmask(bitmask_sum)\n",
    "      tally[outcome] += 1\n",
    "      bitmask_sum -= mask0\n",
    "      mask0, mask1, mask2, mask3 = mask1, mask2, mask3, mask4\n",
    "\n",
    "  # First accumulate a per-block tally, then accumulate that tally into the global tally.\n",
    "  shared_tally = cuda.shared.array(NUM_OUTCOMES, np.int64)  # Per-block intermediate tally.\n",
    "  if thread_id == 0:\n",
    "    shared_tally[:] = 0\n",
    "  cuda.syncthreads()\n",
    "\n",
    "  # Each thread adds its local results to shared memory.\n",
    "  for i in range(NUM_OUTCOMES):\n",
    "    cuda.atomic.add(shared_tally, i, tally[i])\n",
    "    cuda.syncthreads()\n",
    "\n",
    "  if thread_id == 0:\n",
    "    for i in range(NUM_OUTCOMES):\n",
    "      cuda.atomic.add(global_tally, i, shared_tally[i])"
   ]
  },
  {
   "cell_type": "code",
   "execution_count": 37,
   "id": "4133487b-134a-4358-8518-c5979efc9acd",
   "metadata": {
    "execution": {
     "iopub.execute_input": "2025-01-06T02:02:21.208099Z",
     "iopub.status.busy": "2025-01-06T02:02:21.207926Z",
     "iopub.status.idle": "2025-01-06T02:02:21.219270Z",
     "shell.execute_reply": "2025-01-06T02:02:21.218411Z",
     "shell.execute_reply.started": "2025-01-06T02:02:21.208085Z"
    }
   },
   "outputs": [],
   "source": [
    "def simulate_hands_mask_gpu_cuda(num_decks, rng):\n",
    "  device = cuda.get_current_device()\n",
    "  # Target enough threads for ~4 blocks per SM.\n",
    "  target_num_threads = 4 * device.MULTIPROCESSOR_COUNT * THREADS_PER_BLOCK\n",
    "  num_decks_per_thread = max(1, num_decks // target_num_threads)\n",
    "  num_threads = num_decks // num_decks_per_thread\n",
    "  # print(f'{num_decks_per_thread=} {num_threads=}')\n",
    "  blocks = math.ceil(num_threads / THREADS_PER_BLOCK)\n",
    "  seed = rng.integers(2**64, dtype=np.uint64)\n",
    "  d_rng_states = random_create_states(num_threads, seed)\n",
    "  d_global_tally = cuda.to_device(np.zeros(NUM_OUTCOMES, np.int64))\n",
    "  gpu_bitmask[blocks, THREADS_PER_BLOCK](d_rng_states, num_decks_per_thread, d_global_tally)\n",
    "  return d_global_tally.copy_to_host() / (num_threads * num_decks_per_thread * HANDS_PER_DECK)"
   ]
  },
  {
   "cell_type": "code",
   "execution_count": 38,
   "id": "958981de-2fde-480b-a15e-b761255c37c9",
   "metadata": {
    "execution": {
     "iopub.execute_input": "2025-01-06T02:02:21.220623Z",
     "iopub.status.busy": "2025-01-06T02:02:21.220140Z",
     "iopub.status.idle": "2025-01-06T02:02:21.653466Z",
     "shell.execute_reply": "2025-01-06T02:02:21.652760Z",
     "shell.execute_reply.started": "2025-01-06T02:02:21.220609Z"
    }
   },
   "outputs": [],
   "source": [
    "if cuda.is_available():\n",
    "  assert np.allclose(simulate_hands_mask_gpu_cuda(10**7, RNG), EXPECTED_PROB, atol=0.0001)"
   ]
  },
  {
   "cell_type": "code",
   "execution_count": 39,
   "id": "f3d4a20b-0082-4e4c-b752-6bacb0502053",
   "metadata": {
    "execution": {
     "iopub.execute_input": "2025-01-06T02:02:21.654867Z",
     "iopub.status.busy": "2025-01-06T02:02:21.654387Z",
     "iopub.status.idle": "2025-01-06T02:02:22.109654Z",
     "shell.execute_reply": "2025-01-06T02:02:22.109034Z",
     "shell.execute_reply.started": "2025-01-06T02:02:21.654852Z"
    }
   },
   "outputs": [
    {
     "name": "stdout",
     "output_type": "stream",
     "text": [
      "Timing:\n",
      "90.1 ms ± 3 ms per loop (mean ± std. dev. of 5 runs, 1 loop each)\n"
     ]
    }
   ],
   "source": [
    "if cuda.is_available():\n",
    "  print('Timing:')\n",
    "  %timeit -n1 -r5 simulate_hands_mask_gpu_cuda(10**7, RNG)  # ~50-100 ms."
   ]
  },
  {
   "cell_type": "code",
   "execution_count": 40,
   "id": "eb27c7ae-beb4-4cb0-a28f-8f520e2870c3",
   "metadata": {
    "execution": {
     "iopub.execute_input": "2025-01-06T02:02:22.110777Z",
     "iopub.status.busy": "2025-01-06T02:02:22.110419Z",
     "iopub.status.idle": "2025-01-06T02:02:22.116215Z",
     "shell.execute_reply": "2025-01-06T02:02:22.115468Z",
     "shell.execute_reply.started": "2025-01-06T02:02:22.110762Z"
    }
   },
   "outputs": [
    {
     "name": "stdout",
     "output_type": "stream",
     "text": [
      "const_mem_size = 496\n",
      "local_mem_per_thread = 0\n",
      "max_threads_per_block = 1024\n",
      "regs_per_thread = 40\n",
      "shared_mem_per_block = 23632\n"
     ]
    }
   ],
   "source": [
    "if cuda.is_available():\n",
    "  write_cuda_kernel_assembly_code(gpu_bitmask, 'gpu_bitmask.ptx')\n",
    "  report_cuda_kernel_properties(gpu_bitmask)"
   ]
  },
  {
   "cell_type": "markdown",
   "id": "d2bc4755-cde2-4223-80f0-5b02fc49a389",
   "metadata": {},
   "source": [
    "## Results"
   ]
  },
  {
   "cell_type": "code",
   "execution_count": 41,
   "id": "940da643-485f-4416-8020-0651a5eb867f",
   "metadata": {
    "execution": {
     "iopub.execute_input": "2025-01-06T02:02:22.117710Z",
     "iopub.status.busy": "2025-01-06T02:02:22.117196Z",
     "iopub.status.idle": "2025-01-06T02:02:22.123747Z",
     "shell.execute_reply": "2025-01-06T02:02:22.123061Z",
     "shell.execute_reply.started": "2025-01-06T02:02:22.117692Z"
    }
   },
   "outputs": [],
   "source": [
    "SIMULATE_FUNCTIONS = {\n",
    "    name: func\n",
    "    for name, func in {\n",
    "        'array_cpu_python': simulate_hands_array_cpu_python,\n",
    "        'array_cpu_numba': simulate_hands_array_cpu_numba,\n",
    "        'array_cpu_numba_multiprocess': simulate_hands_array_cpu_numba_multiprocess,\n",
    "        'array_gpu_cuda': simulate_hands_array_gpu_cuda,\n",
    "        'mask_gpu_cuda': simulate_hands_mask_gpu_cuda,\n",
    "    }.items()\n",
    "    if ('multiprocess' not in name or MULTIPROCESS_IS_AVAILABLE)\n",
    "    and ('cuda' not in name or cuda.is_available())\n",
    "}"
   ]
  },
  {
   "cell_type": "code",
   "execution_count": 42,
   "id": "92bde0ec-7f24-4f13-b350-cc413094ab11",
   "metadata": {
    "execution": {
     "iopub.execute_input": "2025-01-06T02:02:22.125058Z",
     "iopub.status.busy": "2025-01-06T02:02:22.124555Z",
     "iopub.status.idle": "2025-01-06T02:02:22.133031Z",
     "shell.execute_reply": "2025-01-06T02:02:22.132363Z",
     "shell.execute_reply.started": "2025-01-06T02:02:22.125043Z"
    }
   },
   "outputs": [],
   "source": [
    "COMPLEXITY_ADJUSTMENT = {\n",
    "    'array_cpu_python': 0.01,\n",
    "    'array_cpu_numba': 2.0,\n",
    "    'array_cpu_numba_multiprocess': 20.0,\n",
    "    'array_gpu_cuda': 100.0,\n",
    "    'mask_gpu_cuda': 100.0,\n",
    "}"
   ]
  },
  {
   "cell_type": "code",
   "execution_count": 43,
   "id": "e7bd410e-681f-499c-b2bf-8303c7146423",
   "metadata": {
    "execution": {
     "iopub.execute_input": "2025-01-06T02:02:22.134306Z",
     "iopub.status.busy": "2025-01-06T02:02:22.133930Z",
     "iopub.status.idle": "2025-01-06T02:02:22.143381Z",
     "shell.execute_reply": "2025-01-06T02:02:22.142635Z",
     "shell.execute_reply.started": "2025-01-06T02:02:22.134290Z"
    }
   },
   "outputs": [],
   "source": [
    "def simulate_poker_hands(base_num_hands, func_name, func):\n",
    "  base_num_decks = math.ceil(base_num_hands / HANDS_PER_DECK)\n",
    "  num_decks = math.ceil(base_num_decks * COMPLEXITY_ADJUSTMENT[func_name])\n",
    "  num_hands = num_decks * HANDS_PER_DECK\n",
    "  print(f'\\nFor {func_name} simulating {num_hands:,} hands:')\n",
    "\n",
    "  # Ensure the function is jitted.\n",
    "  _ = func(int(100_000 * COMPLEXITY_ADJUSTMENT[func_name]), RNG)\n",
    "\n",
    "  start_time = time.perf_counter_ns()\n",
    "  results = func(num_decks, RNG)\n",
    "  elapsed_time = (time.perf_counter_ns() - start_time) / 10**9\n",
    "\n",
    "  round_digits = lambda x, ndigits=3: round(x, ndigits - 1 - math.floor(math.log10(abs(x))))\n",
    "  hands_per_s = round_digits(int(num_hands / elapsed_time))\n",
    "  print(f' Elapsed time is {elapsed_time:.3f} s, or {hands_per_s:,} hands/s.')\n",
    "\n",
    "  print(' Probabilities:')\n",
    "  for outcome, result_prob in zip(Outcome, results):\n",
    "    reference_prob = outcome.reference_count / comb(DECK_SIZE, HAND_SIZE)\n",
    "    error = result_prob - reference_prob\n",
    "    s = f'  {outcome.string_name:<16}: {result_prob * 100:8.5f}%'\n",
    "    s += f'  (vs. reference {reference_prob * 100:8.5f}%  error:{error * 100:8.5f}%)'\n",
    "    print(s)"
   ]
  },
  {
   "cell_type": "code",
   "execution_count": 44,
   "id": "e935c8b8-a126-4a4f-ae08-bbba8d6a80b4",
   "metadata": {
    "execution": {
     "iopub.execute_input": "2025-01-06T02:02:22.144348Z",
     "iopub.status.busy": "2025-01-06T02:02:22.144166Z",
     "iopub.status.idle": "2025-01-06T02:02:22.155365Z",
     "shell.execute_reply": "2025-01-06T02:02:22.154718Z",
     "shell.execute_reply.started": "2025-01-06T02:02:22.144329Z"
    }
   },
   "outputs": [],
   "source": [
    "def compare_simulations(base_num_hands):\n",
    "  for func_name, func in SIMULATE_FUNCTIONS.items():\n",
    "    simulate_poker_hands(base_num_hands, func_name, func)"
   ]
  },
  {
   "cell_type": "code",
   "execution_count": 45,
   "id": "ca0e7a67-ca73-4e8f-b584-9368daefeb7e",
   "metadata": {
    "execution": {
     "iopub.execute_input": "2025-01-06T02:02:22.156202Z",
     "iopub.status.busy": "2025-01-06T02:02:22.156052Z",
     "iopub.status.idle": "2025-01-06T02:02:25.860876Z",
     "shell.execute_reply": "2025-01-06T02:02:25.860178Z",
     "shell.execute_reply.started": "2025-01-06T02:02:22.156190Z"
    }
   },
   "outputs": [
    {
     "name": "stdout",
     "output_type": "stream",
     "text": [
      "\n",
      "For array_cpu_python simulating 100,032 hands:\n",
      " Elapsed time is 0.730 s, or 137,000 hands/s.\n",
      " Probabilities:\n",
      "  Royal flush     :  0.00000%  (vs. reference  0.00015%  error:-0.00015%)\n",
      "  Straight flush  :  0.00000%  (vs. reference  0.00139%  error:-0.00139%)\n",
      "  Four of a kind  :  0.02999%  (vs. reference  0.02401%  error: 0.00598%)\n",
      "  Full house      :  0.12396%  (vs. reference  0.14406%  error:-0.02010%)\n",
      "  Flush           :  0.14995%  (vs. reference  0.19654%  error:-0.04659%)\n",
      "  Straight        :  0.31990%  (vs. reference  0.39246%  error:-0.07257%)\n",
      "  Three of a kind :  2.30926%  (vs. reference  2.11285%  error: 0.19642%)\n",
      "  Two pair        :  3.99672%  (vs. reference  4.75390%  error:-0.75718%)\n",
      "  One pair        : 42.44242%  (vs. reference 42.25690%  error: 0.18552%)\n",
      "  High card       : 50.62780%  (vs. reference 50.11774%  error: 0.51006%)\n",
      "\n",
      "For array_cpu_numba simulating 20,000,064 hands:\n",
      " Elapsed time is 0.615 s, or 32,500,000 hands/s.\n",
      " Probabilities:\n",
      "  Royal flush     :  0.00000%  (vs. reference  0.00015%  error:-0.00015%)\n",
      "  Straight flush  :  0.00130%  (vs. reference  0.00139%  error:-0.00009%)\n",
      "  Four of a kind  :  0.02440%  (vs. reference  0.02401%  error: 0.00039%)\n",
      "  Full house      :  0.14045%  (vs. reference  0.14406%  error:-0.00361%)\n",
      "  Flush           :  0.19884%  (vs. reference  0.19654%  error: 0.00230%)\n",
      "  Straight        :  0.38204%  (vs. reference  0.39246%  error:-0.01043%)\n",
      "  Three of a kind :  2.10993%  (vs. reference  2.11285%  error:-0.00291%)\n",
      "  Two pair        :  4.74432%  (vs. reference  4.75390%  error:-0.00958%)\n",
      "  One pair        : 42.22231%  (vs. reference 42.25690%  error:-0.03459%)\n",
      "  High card       : 50.17640%  (vs. reference 50.11774%  error: 0.05866%)\n",
      "\n",
      "For array_cpu_numba_multiprocess simulating 200,000,640 hands:\n",
      " Elapsed time is 0.549 s, or 364,000,000 hands/s.\n",
      " Probabilities:\n",
      "  Royal flush     :  0.00000%  (vs. reference  0.00015%  error:-0.00015%)\n",
      "  Straight flush  :  0.00096%  (vs. reference  0.00139%  error:-0.00043%)\n",
      "  Four of a kind  :  0.02328%  (vs. reference  0.02401%  error:-0.00073%)\n",
      "  Full house      :  0.14604%  (vs. reference  0.14406%  error: 0.00198%)\n",
      "  Flush           :  0.19440%  (vs. reference  0.19654%  error:-0.00214%)\n",
      "  Straight        :  0.38669%  (vs. reference  0.39246%  error:-0.00578%)\n",
      "  Three of a kind :  2.10426%  (vs. reference  2.11285%  error:-0.00858%)\n",
      "  Two pair        :  4.76304%  (vs. reference  4.75390%  error: 0.00914%)\n",
      "  One pair        : 42.23844%  (vs. reference 42.25690%  error:-0.01846%)\n",
      "  High card       : 50.14290%  (vs. reference 50.11774%  error: 0.02516%)\n",
      "\n",
      "For array_gpu_cuda simulating 1,000,003,200 hands:\n",
      " Elapsed time is 0.364 s, or 2,740,000,000 hands/s.\n",
      " Probabilities:\n",
      "  Royal flush     :  0.00015%  (vs. reference  0.00015%  error:-0.00000%)\n",
      "  Straight flush  :  0.00140%  (vs. reference  0.00139%  error: 0.00001%)\n",
      "  Four of a kind  :  0.02410%  (vs. reference  0.02401%  error: 0.00009%)\n",
      "  Full house      :  0.14410%  (vs. reference  0.14406%  error: 0.00005%)\n",
      "  Flush           :  0.19653%  (vs. reference  0.19654%  error:-0.00001%)\n",
      "  Straight        :  0.39215%  (vs. reference  0.39246%  error:-0.00031%)\n",
      "  Three of a kind :  2.11355%  (vs. reference  2.11285%  error: 0.00070%)\n",
      "  Two pair        :  4.75421%  (vs. reference  4.75390%  error: 0.00031%)\n",
      "  One pair        : 42.25826%  (vs. reference 42.25690%  error: 0.00136%)\n",
      "  High card       : 50.11554%  (vs. reference 50.11774%  error:-0.00220%)\n",
      "\n",
      "For mask_gpu_cuda simulating 1,000,003,200 hands:\n",
      " Elapsed time is 0.155 s, or 6,470,000,000 hands/s.\n",
      " Probabilities:\n",
      "  Royal flush     :  0.00092%  (vs. reference  0.00015%  error: 0.00076%)\n",
      "  Straight flush  :  0.00062%  (vs. reference  0.00139%  error:-0.00076%)\n",
      "  Four of a kind  :  0.02404%  (vs. reference  0.02401%  error: 0.00003%)\n",
      "  Full house      :  0.14418%  (vs. reference  0.14406%  error: 0.00012%)\n",
      "  Flush           :  0.19686%  (vs. reference  0.19654%  error: 0.00032%)\n",
      "  Straight        :  0.39213%  (vs. reference  0.39246%  error:-0.00033%)\n",
      "  Three of a kind :  2.11185%  (vs. reference  2.11285%  error:-0.00099%)\n",
      "  Two pair        :  4.75257%  (vs. reference  4.75390%  error:-0.00133%)\n",
      "  One pair        : 42.25331%  (vs. reference 42.25690%  error:-0.00359%)\n",
      "  High card       : 50.12351%  (vs. reference 50.11774%  error: 0.00577%)\n"
     ]
    }
   ],
   "source": [
    "compare_simulations(base_num_hands=10**7)"
   ]
  },
  {
   "cell_type": "code",
   "execution_count": 46,
   "id": "4ef83cc9-da12-486c-b9f5-dc8f644304d6",
   "metadata": {
    "execution": {
     "iopub.execute_input": "2025-01-06T02:02:25.862296Z",
     "iopub.status.busy": "2025-01-06T02:02:25.861909Z",
     "iopub.status.idle": "2025-01-06T02:02:25.865333Z",
     "shell.execute_reply": "2025-01-06T02:02:25.864817Z",
     "shell.execute_reply.started": "2025-01-06T02:02:25.862276Z"
    }
   },
   "outputs": [],
   "source": [
    "# 135k, 33m, 350m, 2200-3400m, 6000m-7200m"
   ]
  },
  {
   "cell_type": "markdown",
   "id": "53b10704-3a4b-4b0e-b0ac-711b2afed9bd",
   "metadata": {},
   "source": [
    "## End"
   ]
  }
 ],
 "metadata": {
  "colab": {
   "collapsed_sections": [],
   "provenance": [],
   "toc_visible": true
  },
  "jupytext": {
   "cell_metadata_filter": "-all",
   "formats": "ipynb,py:percent",
   "main_language": "python",
   "notebook_metadata_filter": "-all"
  },
  "kernelspec": {
   "display_name": "Python 3 (ipykernel)",
   "language": "python",
   "name": "python3"
  },
  "language_info": {
   "codemirror_mode": {
    "name": "ipython",
    "version": 3
   },
   "file_extension": ".py",
   "mimetype": "text/x-python",
   "name": "python",
   "nbconvert_exporter": "python",
   "pygments_lexer": "ipython3",
   "version": "3.10.12"
  }
 },
 "nbformat": 4,
 "nbformat_minor": 5
}
