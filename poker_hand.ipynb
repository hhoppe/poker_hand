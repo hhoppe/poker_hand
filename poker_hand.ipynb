{
 "cells": [
  {
   "cell_type": "markdown",
   "id": "f819c4f7",
   "metadata": {},
   "source": [
    "# Poker hand simulation\n",
    "\n",
    "This notebook is a simple testbed to experiment with Python acceleration using `numba` (CPU-jitted code) and `numba.cuda` (GPU CUDA-jitted code).\n",
    "\n",
    "We estimate poker hand probabilities using Monte Carlo simulation and compare results with known reference values.\n",
    "\n",
    "We compare execution speeds using Python, `numba`, `numba` with multiprocessing, and `numba.cuda`.\n",
    "\n",
    "Websites on which to run this notebook include:\n",
    "\n",
    "- [Open in Google Colab](https://colab.research.google.com/github/hhoppe/poker_hand/blob/main/poker_hand.ipynb), click on Runtime -> Change runtime type -> T4 GPU, and then Runtime -> Run all.\n",
    "\n",
    "- [Open in kaggle.com](https://www.kaggle.com/notebooks/welcome?src=https://github.com/hhoppe/poker_hand/blob/main/poker_hand.ipynb), login, Session options -> Accelerator -> GPU T4 x2 or P100, Session options -> Internet -> On, then Run All.\n",
    "\n",
    "- [Open in mybinder.org](https://mybinder.org/v2/gh/hhoppe/poker_hand/main?urlpath=lab/tree/poker_hand.ipynb).  Unfortunately, no GPU is available.\n",
    "\n",
    "- [Open in deepnote.com](https://deepnote.com/launch?url=https%3A%2F%2Fgithub.com%2Fhhoppe%2Fpoker_hand%2Fblob%2Fmain%2Fpoker_hand.ipynb).  Unfortunately, no GPU is available.\n",
    "\n",
    "Here are results:"
   ]
  },
  {
   "cell_type": "markdown",
   "id": "75c4c01b-6d88-4986-92b0-459b2dab4bc3",
   "metadata": {
    "execution": {
     "iopub.execute_input": "2025-01-06T01:53:19.033961Z",
     "iopub.status.busy": "2025-01-06T01:53:19.033961Z",
     "iopub.status.idle": "2025-01-06T01:53:19.041537Z",
     "shell.execute_reply": "2025-01-06T01:53:19.041537Z",
     "shell.execute_reply.started": "2025-01-06T01:53:19.033961Z"
    }
   },
   "source": [
    "<table style=\"margin-left: 0\">\n",
    "<tr>\n",
    "  <th colspan=\"4\"></th>\n",
    "  <th colspan=\"5\" style=\"text-align: center\">Simulation rates (hands/s)</th>\n",
    "</tr>\n",
    "<tr>\n",
    "  <th colspan=\"4\">Compute capabilities</th>\n",
    "  <th colspan=\"4\" style=\"text-align: center; background-color: #EBF5FF\">Array-based</th>\n",
    "  <th colspan=\"1\" style=\"text-align: center; background-color: #F0FDF4\">Mask-based</th>\n",
    "</tr>\n",
    "<tr>\n",
    "  <th>Platform</th>\n",
    "  <th style=\"text-align: center\">CPU<br>threads</th>\n",
    "  <th style=\"text-align: center\">GPU<br>type</th>\n",
    "  <th style=\"text-align: center\">CUDA<br>SMs</th>\n",
    "  <th style=\"background-color: #EBF5FF\">Python</th>\n",
    "  <th style=\"background-color: #EBF5FF\">Numba</th>\n",
    "  <th style=\"background-color: #EBF5FF\">Multiprocess</th>\n",
    "  <th style=\"background-color: #EBF5FF\">CUDA</th>\n",
    "  <th style=\"background-color: #F0FDF4\">CUDA</th>\n",
    "</tr>\n",
    "<tr>\n",
    "  <td><b>My PC</b> Win10</td>\n",
    "  <td style=\"text-align: center\">24</td>\n",
    "  <td style=\"text-align: center\">GeForce 3080 Ti</td>\n",
    "  <td style=\"text-align: center\">80</td>\n",
    "  <td style=\"text-align: right; background-color: #EBF5FF\">21,800</td>\n",
    "  <td style=\"text-align: right; background-color: #EBF5FF\">28,200,000</td>\n",
    "  <td style=\"text-align: right; background-color: #EBF5FF\">-</td>\n",
    "  <td style=\"text-align: right; background-color: #EBF5FF\">2,700,000,000</td>\n",
    "  <td style=\"text-align: right; background-color: #F0FDF4\">12,200,000,000</td>\n",
    "</tr>\n",
    "<tr>\n",
    "  <td><b>My PC</b> WSL2</td>\n",
    "  <td style=\"text-align: center\">24</td>\n",
    "  <td style=\"text-align: center\">GeForce 3080 Ti</td>\n",
    "  <td style=\"text-align: center\">80</td>\n",
    "  <td style=\"text-align: right; background-color: #EBF5FF\">135,000</td>\n",
    "  <td style=\"text-align: right; background-color: #EBF5FF\">33,000,000</td>\n",
    "  <td style=\"text-align: right; background-color: #EBF5FF\">350,000,000</td>\n",
    "  <td style=\"text-align: right; background-color: #EBF5FF\">2,800,000,000</td>\n",
    "  <td style=\"text-align: right; background-color: #F0FDF4\">12,400,000,000</td>\n",
    "</tr>\n",
    "<tr>\n",
    "  <td><b>Marcel PC</b> Win</td>\n",
    "  <td style=\"text-align: center\">24</td>\n",
    "  <td style=\"text-align: center\">Titan V</td>\n",
    "  <td style=\"text-align: center\">80</td>\n",
    "  <td style=\"text-align: right; background-color: #EBF5FF\"><s>62,800</s></td>\n",
    "  <td style=\"text-align: right; background-color: #EBF5FF\"><s>5,160,000</s></td>\n",
    "  <td style=\"text-align: right; background-color: #EBF5FF\">-</td>\n",
    "  <td style=\"text-align: right; background-color: #EBF5FF\"><s>2,280,000,000</s></td>\n",
    "  <td style=\"text-align: right; background-color: #F0FDF4\">-</td>\n",
    "</tr>\n",
    "<tr>\n",
    "  <td><a href=\"https://colab.research.google.com/github/hhoppe/poker_hand/blob/main/poker_hand.ipynb\"><b>Colab</b> T4</a></td>\n",
    "  <td style=\"text-align: center\">2</td>\n",
    "  <td style=\"text-align: center\">Tesla T4</td>\n",
    "  <td style=\"text-align: center\">40</td>\n",
    "  <td style=\"text-align: right; background-color: #EBF5FF\">17,000</td>\n",
    "  <td style=\"text-align: right; background-color: #EBF5FF\">11,600,000</td>\n",
    "  <td style=\"text-align: right; background-color: #EBF5FF\">16,400,000</td>\n",
    "  <td style=\"text-align: right; background-color: #EBF5FF\">3,670,000,000</td>\n",
    "  <td style=\"text-align: right; background-color: #F0FDF4\">32,200,000,000</td>\n",
    "</tr>\n",
    "<tr>\n",
    "  <td><a href=\"https://www.kaggle.com/notebooks/welcome?src=https://github.com/hhoppe/poker_hand/blob/main/poker_hand.ipynb\"><b>Kaggle</b> T4</a></td>\n",
    "  <td style=\"text-align: center\">4</td>\n",
    "  <td style=\"text-align: center\">Tesla T4 x2</td>\n",
    "  <td style=\"text-align: center\">40</td>\n",
    "  <td style=\"text-align: right; background-color: #EBF5FF\">17,300</td>\n",
    "  <td style=\"text-align: right; background-color: #EBF5FF\">14,800,000</td>\n",
    "  <td style=\"text-align: right; background-color: #EBF5FF\">31,800,000</td>\n",
    "  <td style=\"text-align: right; background-color: #EBF5FF\">3,560,000,000</td>\n",
    "  <td style=\"text-align: right; background-color: #F0FDF4\">30,600,000,000</td>\n",
    "</tr>\n",
    "<tr>\n",
    "  <td><b>Kaggle</b> P100</td>\n",
    "  <td style=\"text-align: center\">4</td>\n",
    "  <td style=\"text-align: center\">Tesla P100</td>\n",
    "  <td style=\"text-align: center\">56</td>\n",
    "  <td style=\"text-align: right; background-color: #EBF5FF\">17,100</td>\n",
    "  <td style=\"text-align: right; background-color: #EBF5FF\">14,500,000</td>\n",
    "  <td style=\"text-align: right; background-color: #EBF5FF\">31,300,000</td>\n",
    "  <td style=\"text-align: right; background-color: #EBF5FF\">3,620,000,000</td>\n",
    "  <td style=\"text-align: right; background-color: #F0FDF4\">35,700,000,000</td>\n",
    "</tr>\n",
    "<tr>\n",
    "  <td><a href=\"https://mybinder.org/v2/gh/hhoppe/poker_hand/main?urlpath=lab/tree/poker_hand.ipynb\"><b>mybinder</b></a></td>\n",
    "  <td style=\"text-align: center\">72</td>\n",
    "  <td style=\"text-align: center\">None</td>\n",
    "  <td style=\"text-align: center\">-</td>\n",
    "  <td style=\"text-align: right; background-color: #EBF5FF\">18,200</td>\n",
    "  <td style=\"text-align: right; background-color: #EBF5FF\">7,050,000</td>\n",
    "  <td style=\"text-align: right; background-color: #EBF5FF\">3,220,000</td>\n",
    "  <td style=\"text-align: right; background-color: #EBF5FF\">-</td>\n",
    "  <td style=\"text-align: right; background-color: #F0FDF4\">-</td>\n",
    "</tr>\n",
    "<tr>\n",
    "  <td><a href=\"https://deepnote.com/launch?url=https%3A%2F%2Fgithub.com%2Fhhoppe%2Fpoker_hand%2Fblob%2Fmain%2Fpoker_hand.ipynb\"><b>deepnote</b></a></td>\n",
    "  <td style=\"text-align: center\">8</td>\n",
    "  <td style=\"text-align: center\">None</td>\n",
    "  <td style=\"text-align: center\">-</td>\n",
    "  <td style=\"text-align: right; background-color: #EBF5FF\">18,700</td>\n",
    "  <td style=\"text-align: right; background-color: #EBF5FF\">22,400,000</td>\n",
    "  <td style=\"text-align: right; background-color: #EBF5FF\">12,600,000</td>\n",
    "  <td style=\"text-align: right; background-color: #EBF5FF\">-</td>\n",
    "  <td style=\"text-align: right; background-color: #F0FDF4\">-</td>\n",
    "</tr>\n",
    "</table>"
   ]
  },
  {
   "cell_type": "markdown",
   "id": "17ce3127-cbd5-445b-900d-6c01ddac60a7",
   "metadata": {},
   "source": [
    "It is puzzling that the CUDA rate is lower on my PC than on the online servers."
   ]
  },
  {
   "cell_type": "markdown",
   "id": "926b7255-e5af-473f-809b-000987e06690",
   "metadata": {},
   "source": [
    "## Imports"
   ]
  },
  {
   "cell_type": "code",
   "execution_count": 1,
   "id": "96f8b5b5-8cda-4b5f-8b07-145cf83d0dfd",
   "metadata": {
    "execution": {
     "iopub.execute_input": "2025-01-07T03:01:57.429483Z",
     "iopub.status.busy": "2025-01-07T03:01:57.429255Z",
     "iopub.status.idle": "2025-01-07T03:01:58.643651Z",
     "shell.execute_reply": "2025-01-07T03:01:58.642940Z",
     "shell.execute_reply.started": "2025-01-07T03:01:57.429469Z"
    }
   },
   "outputs": [],
   "source": [
    "!pip install -q numba"
   ]
  },
  {
   "cell_type": "code",
   "execution_count": 2,
   "id": "23fdecec-8b75-4c95-94f1-46c68b6202e6",
   "metadata": {
    "execution": {
     "iopub.execute_input": "2025-01-07T03:01:58.644924Z",
     "iopub.status.busy": "2025-01-07T03:01:58.644451Z",
     "iopub.status.idle": "2025-01-07T03:01:58.757702Z",
     "shell.execute_reply": "2025-01-07T03:01:58.756953Z",
     "shell.execute_reply.started": "2025-01-07T03:01:58.644906Z"
    }
   },
   "outputs": [],
   "source": [
    "!if [ ! -f random32.py ]; then wget https://github.com/hhoppe/poker_hand/raw/main/random32.py; fi"
   ]
  },
  {
   "cell_type": "code",
   "execution_count": 3,
   "id": "b7672379",
   "metadata": {
    "execution": {
     "iopub.execute_input": "2025-01-07T03:01:58.759219Z",
     "iopub.status.busy": "2025-01-07T03:01:58.758560Z",
     "iopub.status.idle": "2025-01-07T03:01:59.049588Z",
     "shell.execute_reply": "2025-01-07T03:01:59.049026Z",
     "shell.execute_reply.started": "2025-01-07T03:01:58.759179Z"
    },
    "lines_to_next_cell": 2,
    "tags": []
   },
   "outputs": [],
   "source": [
    "import enum\n",
    "import math\n",
    "from math import comb\n",
    "import multiprocessing\n",
    "import pathlib\n",
    "import time\n",
    "from typing import Any\n",
    "\n",
    "import numba\n",
    "from numba import cuda\n",
    "import numba.cuda.random\n",
    "import numpy as np\n",
    "import random32"
   ]
  },
  {
   "cell_type": "code",
   "execution_count": 4,
   "id": "aec3f5a6-f130-470d-8a0d-43b99587d4c7",
   "metadata": {
    "execution": {
     "iopub.execute_input": "2025-01-07T03:01:59.051023Z",
     "iopub.status.busy": "2025-01-07T03:01:59.050448Z",
     "iopub.status.idle": "2025-01-07T03:01:59.053772Z",
     "shell.execute_reply": "2025-01-07T03:01:59.053313Z",
     "shell.execute_reply.started": "2025-01-07T03:01:59.051004Z"
    }
   },
   "outputs": [],
   "source": [
    "USE_RANDOM32 = True\n",
    "if USE_RANDOM32:\n",
    "  random_create_states = random32.create_xoshiro128p_states\n",
    "  random_next_uniform_uint = random32.xoshiro128p_next\n",
    "  random_next_uniform_float32 = random32.xoshiro128p_uniform_float32\n",
    "else:\n",
    "  # See https://github.com/numba/numba/blob/main/numba/cuda/random.py\n",
    "  random_create_states = cuda.random.create_xoroshiro128p_states\n",
    "  random_next_uniform_uint = cuda.random.xoroshiro128p_next\n",
    "  random_next_uniform_float32 = cuda.random.xoroshiro128p_uniform_float32"
   ]
  },
  {
   "cell_type": "markdown",
   "id": "5071ce25-73c7-4a64-8414-767907ad6063",
   "metadata": {},
   "source": [
    "## Compute capabilities"
   ]
  },
  {
   "cell_type": "code",
   "execution_count": 5,
   "id": "40f2522d-afa5-4bf8-9f0a-5623defb8c46",
   "metadata": {
    "execution": {
     "iopub.execute_input": "2025-01-07T03:01:59.054683Z",
     "iopub.status.busy": "2025-01-07T03:01:59.054421Z",
     "iopub.status.idle": "2025-01-07T03:01:59.063030Z",
     "shell.execute_reply": "2025-01-07T03:01:59.062538Z",
     "shell.execute_reply.started": "2025-01-07T03:01:59.054669Z"
    }
   },
   "outputs": [
    {
     "name": "stdout",
     "output_type": "stream",
     "text": [
      "The number of CPU threads is 24.\n"
     ]
    }
   ],
   "source": [
    "print(f'The number of CPU threads is {multiprocessing.cpu_count()}.')"
   ]
  },
  {
   "cell_type": "code",
   "execution_count": 6,
   "id": "4fc255c9-8b8e-463e-a685-6a2785c0e63e",
   "metadata": {
    "execution": {
     "iopub.execute_input": "2025-01-07T03:01:59.065145Z",
     "iopub.status.busy": "2025-01-07T03:01:59.064685Z",
     "iopub.status.idle": "2025-01-07T03:01:59.077092Z",
     "shell.execute_reply": "2025-01-07T03:01:59.076543Z",
     "shell.execute_reply.started": "2025-01-07T03:01:59.065125Z"
    }
   },
   "outputs": [
    {
     "name": "stdout",
     "output_type": "stream",
     "text": [
      "Support for multiprocess \"fork\": True\n"
     ]
    }
   ],
   "source": [
    "MULTIPROCESS_IS_AVAILABLE = 'fork' in multiprocessing.get_all_start_methods()\n",
    "print(f'Support for multiprocess \"fork\": {MULTIPROCESS_IS_AVAILABLE}')"
   ]
  },
  {
   "cell_type": "code",
   "execution_count": 7,
   "id": "23e84adb-9b5e-4ba9-97bd-bdb7c0f92cae",
   "metadata": {
    "execution": {
     "iopub.execute_input": "2025-01-07T03:01:59.078432Z",
     "iopub.status.busy": "2025-01-07T03:01:59.078220Z",
     "iopub.status.idle": "2025-01-07T03:01:59.468873Z",
     "shell.execute_reply": "2025-01-07T03:01:59.467984Z",
     "shell.execute_reply.started": "2025-01-07T03:01:59.078415Z"
    },
    "lines_to_next_cell": 2
   },
   "outputs": [
    {
     "name": "stdout",
     "output_type": "stream",
     "text": [
      "Found 1 CUDA devices\n",
      "id 0    b'NVIDIA GeForce RTX 3080 Ti'                              [SUPPORTED]\n",
      "                      Compute Capability: 8.6\n",
      "                           PCI Device ID: 0\n",
      "                              PCI Bus ID: 10\n",
      "                                    UUID: GPU-e50896f3-f795-945c-9c59-fffc57278834\n",
      "                                Watchdog: Enabled\n",
      "             FP32/FP64 Performance Ratio: 32\n",
      "Summary:\n",
      "\t1/1 devices are supported\n",
      "The number of GPU SMs is 80\n"
     ]
    }
   ],
   "source": [
    "if cuda.is_available() and cuda.detect():\n",
    "  print(f'The number of GPU SMs is {cuda.get_current_device().MULTIPROCESSOR_COUNT}')"
   ]
  },
  {
   "cell_type": "markdown",
   "id": "e5af2c7f-c334-49ad-9afb-fb73cf6d7db4",
   "metadata": {
    "execution": {
     "iopub.execute_input": "2024-12-29T01:42:55.940070Z",
     "iopub.status.busy": "2024-12-29T01:42:55.939661Z",
     "iopub.status.idle": "2024-12-29T01:42:55.942841Z",
     "shell.execute_reply": "2024-12-29T01:42:55.942254Z",
     "shell.execute_reply.started": "2024-12-29T01:42:55.940047Z"
    },
    "lines_to_next_cell": 2
   },
   "source": [
    "## Shared code"
   ]
  },
  {
   "cell_type": "code",
   "execution_count": 8,
   "id": "cc2447c0-0ded-4360-bf8e-7e35be276331",
   "metadata": {
    "execution": {
     "iopub.execute_input": "2025-01-07T03:01:59.470180Z",
     "iopub.status.busy": "2025-01-07T03:01:59.469624Z",
     "iopub.status.idle": "2025-01-07T03:01:59.473743Z",
     "shell.execute_reply": "2025-01-07T03:01:59.473145Z",
     "shell.execute_reply.started": "2025-01-07T03:01:59.470144Z"
    }
   },
   "outputs": [],
   "source": [
    "DECK_SIZE = 52\n",
    "NUM_SUITS = 4\n",
    "NUM_RANKS = 13\n",
    "HAND_SIZE = 5\n",
    "HANDS_PER_DECK = DECK_SIZE - HAND_SIZE + 1  # We consider all overlapping hands in a shuffled deck.\n",
    "CARDS_FOR_A_FLUSH = 5\n",
    "CARDS_FOR_A_STRAIGHT = 5\n",
    "RNG = np.random.default_rng(1)"
   ]
  },
  {
   "cell_type": "code",
   "execution_count": 9,
   "id": "d6635058-f273-41d9-93a4-2b0c89cb65cc",
   "metadata": {
    "execution": {
     "iopub.execute_input": "2025-01-07T03:01:59.474542Z",
     "iopub.status.busy": "2025-01-07T03:01:59.474397Z",
     "iopub.status.idle": "2025-01-07T03:01:59.483805Z",
     "shell.execute_reply": "2025-01-07T03:01:59.483256Z",
     "shell.execute_reply.started": "2025-01-07T03:01:59.474529Z"
    }
   },
   "outputs": [],
   "source": [
    "class Outcome(enum.IntEnum):\n",
    "  \"\"\"Poker hand rankings from best to worst.\"\"\"\n",
    "\n",
    "  string_name: str\n",
    "  reference_count: int  # https://en.wikipedia.org/wiki/Poker_probability\n",
    "\n",
    "  ROYAL_FLUSH = 0, 'Royal flush', comb(4, 1)\n",
    "  STRAIGHT_FLUSH = 1, 'Straight flush', comb(10, 1) * comb(4, 1) - comb(4, 1)\n",
    "  FOUR_OF_A_KIND = 2, 'Four of a kind', comb(13, 1) * comb(4, 4) * comb(12, 1) * comb(4, 1)\n",
    "  FULL_HOUSE = 3, 'Full house', comb(13, 1) * comb(4, 3) * comb(12, 1) * comb(4, 2)\n",
    "  FLUSH = 4, 'Flush', comb(13, 5) * comb(4, 1) - comb(10, 1) * comb(4, 1)\n",
    "  STRAIGHT = 5, 'Straight', comb(10, 1) * comb(4, 1) ** 5 - comb(10, 1) * comb(4, 1)\n",
    "  THREE_OF_A_KIND = 6, 'Three of a kind', comb(13, 1) * comb(4, 3) * comb(12, 2) * comb(4, 1) ** 2\n",
    "  TWO_PAIR = 7, 'Two pair', comb(13, 2) * comb(4, 2) ** 2 * comb(11, 1) * comb(4, 1)\n",
    "  ONE_PAIR = 8, 'One pair', comb(13, 1) * comb(4, 2) * comb(12, 3) * comb(4, 1) ** 3\n",
    "  HIGH_CARD = 9, 'High card', (comb(13, 5) - comb(10, 1)) * (comb(4, 1) ** 5 - comb(4, 1))\n",
    "\n",
    "  def __new__(cls, value: int, string_name: str, reference_count: int) -> Any:\n",
    "    obj = int.__new__(cls, value)\n",
    "    obj._value_ = value\n",
    "    obj.string_name = string_name\n",
    "    obj.reference_count = reference_count\n",
    "    return obj"
   ]
  },
  {
   "cell_type": "code",
   "execution_count": 10,
   "id": "16cb8893-08da-4397-93c1-edb44fe8b06b",
   "metadata": {
    "execution": {
     "iopub.execute_input": "2025-01-07T03:01:59.484525Z",
     "iopub.status.busy": "2025-01-07T03:01:59.484392Z",
     "iopub.status.idle": "2025-01-07T03:01:59.493349Z",
     "shell.execute_reply": "2025-01-07T03:01:59.492800Z",
     "shell.execute_reply.started": "2025-01-07T03:01:59.484513Z"
    }
   },
   "outputs": [],
   "source": [
    "NUM_OUTCOMES = len(Outcome)\n",
    "EXPECTED_PROB = np.array([o.reference_count for o in Outcome]) / comb(DECK_SIZE, HAND_SIZE)\n",
    "assert np.allclose(np.sum(EXPECTED_PROB), 1.0)"
   ]
  },
  {
   "cell_type": "code",
   "execution_count": 11,
   "id": "70cee4f8-7a70-40ed-b497-64215c07468a",
   "metadata": {
    "execution": {
     "iopub.execute_input": "2025-01-07T03:01:59.494347Z",
     "iopub.status.busy": "2025-01-07T03:01:59.494204Z",
     "iopub.status.idle": "2025-01-07T03:01:59.502359Z",
     "shell.execute_reply": "2025-01-07T03:01:59.501816Z",
     "shell.execute_reply.started": "2025-01-07T03:01:59.494334Z"
    }
   },
   "outputs": [],
   "source": [
    "def write_cuda_kernel_assembly_code(function, filename):\n",
    "  (ptx,) = function.inspect_asm().values()\n",
    "  pathlib.Path(filename).write_text(ptx, encoding='utf-8')"
   ]
  },
  {
   "cell_type": "code",
   "execution_count": 12,
   "id": "e6e87979-f6ba-42ec-bb1a-24a1b23dff80",
   "metadata": {
    "execution": {
     "iopub.execute_input": "2025-01-07T03:01:59.503233Z",
     "iopub.status.busy": "2025-01-07T03:01:59.502989Z",
     "iopub.status.idle": "2025-01-07T03:01:59.513453Z",
     "shell.execute_reply": "2025-01-07T03:01:59.512958Z",
     "shell.execute_reply.started": "2025-01-07T03:01:59.503221Z"
    },
    "lines_to_next_cell": 2
   },
   "outputs": [],
   "source": [
    "def report_cuda_kernel_properties(function):\n",
    "  PROPERTIES = 'const_mem_size local_mem_per_thread max_threads_per_block regs_per_thread shared_mem_per_block'.split()\n",
    "  for property_name in PROPERTIES:\n",
    "    (value,) = getattr(function, 'get_' + property_name)().values()\n",
    "    print(f'{property_name} = {value}')"
   ]
  },
  {
   "cell_type": "markdown",
   "id": "c53fd3b4-129f-4acd-9c1f-3dc1cf809b16",
   "metadata": {},
   "source": [
    "## Approach 1: arrays"
   ]
  },
  {
   "cell_type": "markdown",
   "id": "c193e996-9ea5-40fd-806a-b4642241507b",
   "metadata": {
    "execution": {
     "iopub.execute_input": "2024-12-29T01:42:55.940070Z",
     "iopub.status.busy": "2024-12-29T01:42:55.939661Z",
     "iopub.status.idle": "2024-12-29T01:42:55.942841Z",
     "shell.execute_reply": "2024-12-29T01:42:55.942254Z",
     "shell.execute_reply.started": "2024-12-29T01:42:55.940047Z"
    },
    "lines_to_next_cell": 2
   },
   "source": [
    "### Hand evaluation"
   ]
  },
  {
   "cell_type": "code",
   "execution_count": 13,
   "id": "f74eebae-594a-4324-94af-edbcb7b69e33",
   "metadata": {
    "execution": {
     "iopub.execute_input": "2025-01-07T03:01:59.514413Z",
     "iopub.status.busy": "2025-01-07T03:01:59.514105Z",
     "iopub.status.idle": "2025-01-07T03:01:59.523284Z",
     "shell.execute_reply": "2025-01-07T03:01:59.522725Z",
     "shell.execute_reply.started": "2025-01-07T03:01:59.514397Z"
    }
   },
   "outputs": [],
   "source": [
    "def outcome_of_hand_array_python(cards, ranks, freqs):\n",
    "  \"\"\"Evaluate 5-card poker hand and return outcome ranking, using array data structures.\n",
    "\n",
    "  Args:\n",
    "    cards: List of 5 integers representing cards (0-51).\n",
    "    ranks: Pre-allocated array for storing sorted ranks.\n",
    "    freqs: Pre-allocated array for counting rank frequencies.\n",
    "\n",
    "  Returns:\n",
    "    Integer representing hand ranking (see Outcome enum).\n",
    "  \"\"\"\n",
    "  # pylint: disable=consider-using-in, consider-using-max-builtin\n",
    "\n",
    "  def get_rank(card: int) -> int:\n",
    "    return card >> 2  # In range(NUM_RANKS), ordered '23456789TJQKA'.\n",
    "\n",
    "  def get_suit(card: int) -> int:\n",
    "    return card & 0b11  # In range(4).\n",
    "\n",
    "  # Sort cards by rank for easier pattern matching, using simple insertion sort.\n",
    "  for i in range(HAND_SIZE):\n",
    "    ranks[i] = get_rank(cards[i])\n",
    "  # ranks.sort()\n",
    "  for i in range(1, HAND_SIZE):\n",
    "    key = ranks[i]\n",
    "    j = i - 1\n",
    "    while j >= 0 and ranks[j] > key:\n",
    "      ranks[j + 1] = ranks[j]\n",
    "      j -= 1\n",
    "    ranks[j + 1] = key\n",
    "\n",
    "  # is_flush = all(card == cards[0] for card in cards[1:])\n",
    "  # Expanding `cards` on the rhs results in better cuda-compiled code.\n",
    "  c0, c1, c2, c3, c4 = cards[0], cards[1], cards[2], cards[3], cards[4]\n",
    "  is_flush = get_suit(c0) == get_suit(c1) == get_suit(c2) == get_suit(c3) == get_suit(c4)\n",
    "\n",
    "  # Expanding `ranks` on the rhs results in better cuda-compiled code.\n",
    "  r0, r1, r2, r3, r4 = ranks[0], ranks[1], ranks[2], ranks[3], ranks[4]\n",
    "  # We must also consider the ace-low straight 'A2345'.\n",
    "  is_straight = r1 == r0 + 1 and r2 == r0 + 2 and r3 == r0 + 3 and (r4 == r0 + 4 or r4 == r0 + 12)\n",
    "\n",
    "  # Count rank frequencies.\n",
    "  freqs[:] = 0\n",
    "  for rank in ranks:\n",
    "    freqs[rank] += 1\n",
    "\n",
    "  # max_freq = max(freqs)\n",
    "  # num_pairs = np.sum(freqs == 2)\n",
    "  max_freq = 0\n",
    "  num_pairs = 0\n",
    "  for freq in freqs:\n",
    "    if freq > max_freq:\n",
    "      max_freq = freq\n",
    "    if freq == 2:\n",
    "      num_pairs += 1\n",
    "\n",
    "  if is_flush and is_straight:\n",
    "    if ranks[0] == 8:\n",
    "      return Outcome.ROYAL_FLUSH.value\n",
    "    return Outcome.STRAIGHT_FLUSH.value\n",
    "  if max_freq == 4:\n",
    "    return Outcome.FOUR_OF_A_KIND.value\n",
    "  if max_freq == 3 and num_pairs > 0:\n",
    "    return Outcome.FULL_HOUSE.value\n",
    "  if is_flush:\n",
    "    return Outcome.FLUSH.value\n",
    "  if is_straight:\n",
    "    return Outcome.STRAIGHT.value\n",
    "  if max_freq == 3:\n",
    "    return Outcome.THREE_OF_A_KIND.value\n",
    "  if max_freq == 2:\n",
    "    if num_pairs == 2:\n",
    "      return Outcome.TWO_PAIR.value\n",
    "    return Outcome.ONE_PAIR.value\n",
    "  return Outcome.HIGH_CARD.value"
   ]
  },
  {
   "cell_type": "code",
   "execution_count": 14,
   "id": "8676ddc6-f14c-4fe3-8316-249f247439ad",
   "metadata": {
    "execution": {
     "iopub.execute_input": "2025-01-07T03:01:59.524301Z",
     "iopub.status.busy": "2025-01-07T03:01:59.523873Z",
     "iopub.status.idle": "2025-01-07T03:01:59.534505Z",
     "shell.execute_reply": "2025-01-07T03:01:59.533969Z",
     "shell.execute_reply.started": "2025-01-07T03:01:59.524285Z"
    }
   },
   "outputs": [],
   "source": [
    "outcome_of_hand_array_numba = numba.njit(outcome_of_hand_array_python)"
   ]
  },
  {
   "cell_type": "markdown",
   "id": "b2c72168-c7d6-4792-9ea9-ee887733a7e1",
   "metadata": {
    "execution": {
     "iopub.execute_input": "2024-12-29T01:43:09.066669Z",
     "iopub.status.busy": "2024-12-29T01:43:09.066142Z",
     "iopub.status.idle": "2024-12-29T01:43:09.069033Z",
     "shell.execute_reply": "2024-12-29T01:43:09.068530Z",
     "shell.execute_reply.started": "2024-12-29T01:43:09.066653Z"
    },
    "lines_to_next_cell": 2
   },
   "source": [
    "### CPU simulation"
   ]
  },
  {
   "cell_type": "code",
   "execution_count": 15,
   "id": "61102c48-3b12-497c-adcd-a5dab40f1ac7",
   "metadata": {
    "execution": {
     "iopub.execute_input": "2025-01-07T03:01:59.535362Z",
     "iopub.status.busy": "2025-01-07T03:01:59.535109Z",
     "iopub.status.idle": "2025-01-07T03:01:59.543949Z",
     "shell.execute_reply": "2025-01-07T03:01:59.543437Z",
     "shell.execute_reply.started": "2025-01-07T03:01:59.535348Z"
    }
   },
   "outputs": [],
   "source": [
    "def make_compute_cpu(outcome_of_hand_array):\n",
    "  # Return a specialized compute_cpu function for the given outcome_of_hand_array function.\n",
    "\n",
    "  def compute_cpu(num_decks, rng):\n",
    "    BLOCK_SIZE = 10\n",
    "    # deck_block = np.arange(DECK_SIZE, dtype=np.uint8).repeat(BLOCK_SIZE).reshape(DECK_SIZE, -1).T\n",
    "    deck_block = np.empty((BLOCK_SIZE, DECK_SIZE), dtype=np.uint8)\n",
    "    deck_block[:] = np.arange(DECK_SIZE, dtype=np.uint8)\n",
    "    ranks = np.empty(HAND_SIZE, np.uint8)\n",
    "    freqs = np.empty(NUM_RANKS, np.int8)\n",
    "    tally = np.zeros(NUM_OUTCOMES, np.int64)\n",
    "    for deck_index_start in range(0, num_decks, BLOCK_SIZE):\n",
    "      deck_block2 = rng.permutation(deck_block, axis=1)\n",
    "      for deck_index in range(deck_index_start, min(deck_index_start + BLOCK_SIZE, num_decks)):\n",
    "        deck = deck_block2[deck_index - deck_index_start]\n",
    "        for hand_index in range(HANDS_PER_DECK):\n",
    "          hand = deck[hand_index : hand_index + 5]\n",
    "          outcome = outcome_of_hand_array(hand, ranks, freqs)\n",
    "          tally[outcome] += 1\n",
    "    return tally / (num_decks * HANDS_PER_DECK)\n",
    "\n",
    "  return compute_cpu"
   ]
  },
  {
   "cell_type": "code",
   "execution_count": 16,
   "id": "b7e33708-c91f-486c-bb02-71da114e1a69",
   "metadata": {
    "execution": {
     "iopub.execute_input": "2025-01-07T03:01:59.544802Z",
     "iopub.status.busy": "2025-01-07T03:01:59.544572Z",
     "iopub.status.idle": "2025-01-07T03:01:59.552794Z",
     "shell.execute_reply": "2025-01-07T03:01:59.552308Z",
     "shell.execute_reply.started": "2025-01-07T03:01:59.544787Z"
    },
    "lines_to_next_cell": 2
   },
   "outputs": [],
   "source": [
    "simulate_hands_array_cpu_python = make_compute_cpu(outcome_of_hand_array_python)\n",
    "simulate_hands_array_cpu_numba = numba.njit(make_compute_cpu(outcome_of_hand_array_numba))"
   ]
  },
  {
   "cell_type": "code",
   "execution_count": 17,
   "id": "14583f1b-5e96-4a18-9e6b-dcf13d57a876",
   "metadata": {
    "execution": {
     "iopub.execute_input": "2025-01-07T03:01:59.553452Z",
     "iopub.status.busy": "2025-01-07T03:01:59.553324Z",
     "iopub.status.idle": "2025-01-07T03:01:59.563907Z",
     "shell.execute_reply": "2025-01-07T03:01:59.563406Z",
     "shell.execute_reply.started": "2025-01-07T03:01:59.553441Z"
    }
   },
   "outputs": [],
   "source": [
    "# print(next(iter(simulate_hands_array_cpu_numba.inspect_asm().values())))"
   ]
  },
  {
   "cell_type": "code",
   "execution_count": 18,
   "id": "ebec99b5-9246-4e29-94ed-ed675d03e549",
   "metadata": {
    "execution": {
     "iopub.execute_input": "2025-01-07T03:01:59.564649Z",
     "iopub.status.busy": "2025-01-07T03:01:59.564490Z",
     "iopub.status.idle": "2025-01-07T03:02:08.654119Z",
     "shell.execute_reply": "2025-01-07T03:02:08.653383Z",
     "shell.execute_reply.started": "2025-01-07T03:01:59.564635Z"
    },
    "lines_to_next_cell": 2
   },
   "outputs": [],
   "source": [
    "assert np.allclose(simulate_hands_array_cpu_numba(10**5, RNG), EXPECTED_PROB, atol=0.001)"
   ]
  },
  {
   "cell_type": "code",
   "execution_count": 19,
   "id": "2b737c66-9df8-4f2b-bc90-63d850850777",
   "metadata": {
    "execution": {
     "iopub.execute_input": "2025-01-07T03:02:08.655200Z",
     "iopub.status.busy": "2025-01-07T03:02:08.654913Z",
     "iopub.status.idle": "2025-01-07T03:02:10.060983Z",
     "shell.execute_reply": "2025-01-07T03:02:10.060305Z",
     "shell.execute_reply.started": "2025-01-07T03:02:08.655184Z"
    }
   },
   "outputs": [
    {
     "name": "stdout",
     "output_type": "stream",
     "text": [
      "701 ms ± 5.42 ms per loop (mean ± std. dev. of 2 runs, 1 loop each)\n"
     ]
    }
   ],
   "source": [
    "%timeit -n1 -r2 simulate_hands_array_cpu_python(2000, RNG)  # ~710 ms."
   ]
  },
  {
   "cell_type": "code",
   "execution_count": 20,
   "id": "e6d31c92-50f3-4c51-b333-0cbdfdd2bdd5",
   "metadata": {
    "execution": {
     "iopub.execute_input": "2025-01-07T03:02:10.062143Z",
     "iopub.status.busy": "2025-01-07T03:02:10.061754Z",
     "iopub.status.idle": "2025-01-07T03:02:13.014139Z",
     "shell.execute_reply": "2025-01-07T03:02:13.013516Z",
     "shell.execute_reply.started": "2025-01-07T03:02:10.062127Z"
    },
    "lines_to_next_cell": 2
   },
   "outputs": [
    {
     "name": "stdout",
     "output_type": "stream",
     "text": [
      "14.7 ms ± 15.4 µs per loop (mean ± std. dev. of 2 runs, 100 loops each)\n"
     ]
    }
   ],
   "source": [
    "%timeit -n100 -r2 simulate_hands_array_cpu_numba(10**4, RNG)  # ~14.8 ms."
   ]
  },
  {
   "cell_type": "code",
   "execution_count": 21,
   "id": "38b2467c-cc46-4b3d-ab2e-0db7891bcf6f",
   "metadata": {
    "execution": {
     "iopub.execute_input": "2025-01-07T03:02:13.017041Z",
     "iopub.status.busy": "2025-01-07T03:02:13.016852Z",
     "iopub.status.idle": "2025-01-07T03:02:13.020046Z",
     "shell.execute_reply": "2025-01-07T03:02:13.019472Z",
     "shell.execute_reply.started": "2025-01-07T03:02:13.017027Z"
    }
   },
   "outputs": [],
   "source": [
    "def compute_chunk(args):\n",
    "  num_decks, rng = args\n",
    "  return simulate_hands_array_cpu_numba(num_decks, rng)"
   ]
  },
  {
   "cell_type": "code",
   "execution_count": 22,
   "id": "a853fae1-8516-417c-97de-b221f97c6d40",
   "metadata": {
    "execution": {
     "iopub.execute_input": "2025-01-07T03:02:13.020802Z",
     "iopub.status.busy": "2025-01-07T03:02:13.020647Z",
     "iopub.status.idle": "2025-01-07T03:02:13.029838Z",
     "shell.execute_reply": "2025-01-07T03:02:13.029344Z",
     "shell.execute_reply.started": "2025-01-07T03:02:13.020788Z"
    },
    "lines_to_next_cell": 2
   },
   "outputs": [],
   "source": [
    "def simulate_hands_array_cpu_numba_multiprocess(num_decks, rng):\n",
    "  num_processes = multiprocessing.cpu_count()\n",
    "  chunk_num_decks = math.ceil(num_decks / num_processes)\n",
    "  new_rngs = rng.spawn(num_processes)\n",
    "  chunks = [(chunk_num_decks, new_rng) for new_rng in new_rngs]\n",
    "  with multiprocessing.get_context('fork').Pool(num_processes) as pool:\n",
    "    results = pool.map(compute_chunk, chunks)\n",
    "  return np.mean(results, axis=0)"
   ]
  },
  {
   "cell_type": "markdown",
   "id": "0154d69f-d8dc-4d8b-8d5e-e1632f9f4fc8",
   "metadata": {
    "lines_to_next_cell": 2
   },
   "source": [
    "### GPU simulation"
   ]
  },
  {
   "cell_type": "code",
   "execution_count": 23,
   "id": "e3280ce4-3cdc-4910-96d7-6b86410d8be4",
   "metadata": {
    "execution": {
     "iopub.execute_input": "2025-01-07T03:02:13.030621Z",
     "iopub.status.busy": "2025-01-07T03:02:13.030391Z",
     "iopub.status.idle": "2025-01-07T03:02:13.038751Z",
     "shell.execute_reply": "2025-01-07T03:02:13.038294Z",
     "shell.execute_reply.started": "2025-01-07T03:02:13.030609Z"
    }
   },
   "outputs": [],
   "source": [
    "THREADS_PER_BLOCK = 256"
   ]
  },
  {
   "cell_type": "code",
   "execution_count": 24,
   "id": "96d4ddd0-9c93-403d-bd5e-a0be49a6f7ff",
   "metadata": {
    "execution": {
     "iopub.execute_input": "2025-01-07T03:02:13.039551Z",
     "iopub.status.busy": "2025-01-07T03:02:13.039293Z",
     "iopub.status.idle": "2025-01-07T03:02:13.048927Z",
     "shell.execute_reply": "2025-01-07T03:02:13.048398Z",
     "shell.execute_reply.started": "2025-01-07T03:02:13.039538Z"
    }
   },
   "outputs": [],
   "source": [
    "@cuda.jit  # Using either local memory or cuda.shared.array.\n",
    "def gpu_array(rng_states, num_decks_per_thread, global_tally):\n",
    "  # pylint: disable=too-many-function-args, no-value-for-parameter, comparison-with-callable\n",
    "  # pylint: disable=possibly-used-before-assignment\n",
    "  USE_SHARED_MEMORY = True  # Shared memory is faster.\n",
    "  thread_index = cuda.grid(1)\n",
    "  if thread_index >= len(rng_states):\n",
    "    return\n",
    "\n",
    "  thread_id = cuda.threadIdx.x  # Index within block.\n",
    "  if USE_SHARED_MEMORY:\n",
    "    block_tally = cuda.shared.array((THREADS_PER_BLOCK, NUM_OUTCOMES), np.int32)\n",
    "    block_deck = cuda.shared.array((THREADS_PER_BLOCK, DECK_SIZE), np.uint8)\n",
    "    block_ranks = cuda.shared.array((THREADS_PER_BLOCK, HAND_SIZE), np.uint8)\n",
    "    block_freqs = cuda.shared.array((THREADS_PER_BLOCK, NUM_RANKS), np.uint8)\n",
    "    tally = block_tally[thread_id]\n",
    "    deck = block_deck[thread_id]\n",
    "    ranks = block_ranks[thread_id]\n",
    "    freqs = block_freqs[thread_id]\n",
    "    # Note: transposed structure results in longer code and ~1.3x slower execution, e.g.:\n",
    "    # block_tally = cuda.shared.array((NUM_OUTCOMES, THREADS_PER_BLOCK), np.int32)\n",
    "    # tally = block_tally[:, thread_id]\n",
    "  else:\n",
    "    tally = cuda.local.array(NUM_OUTCOMES, np.int32)\n",
    "    deck = cuda.local.array(DECK_SIZE, np.uint8)\n",
    "    ranks = cuda.local.array(HAND_SIZE, np.uint8)\n",
    "    freqs = cuda.local.array(NUM_RANKS, np.uint8)\n",
    "\n",
    "  tally[:] = 0\n",
    "  for i in range(numba.uint8(DECK_SIZE)):  # Casting as uint8 nicely unrolls the loop.\n",
    "    deck[i] = i\n",
    "\n",
    "  for _ in range(num_decks_per_thread):\n",
    "    # Apply Fisher-Yates shuffle to current deck.\n",
    "    for i in range(51, 0, -1):\n",
    "      random_uint32 = random_next_uniform_uint(rng_states, thread_index)\n",
    "      j = random_uint32 % numba.uint32(i + 1)\n",
    "      deck[i], deck[j] = deck[j], deck[i]\n",
    "\n",
    "    for hand_index in range(HANDS_PER_DECK):\n",
    "      hand = deck[hand_index : hand_index + 5]\n",
    "      outcome = outcome_of_hand_array_numba(hand, ranks, freqs)\n",
    "      tally[outcome] += 1\n",
    "\n",
    "  # First accumulate a per-block tally, then accumulate that tally into the global tally.\n",
    "  shared_tally = cuda.shared.array(NUM_OUTCOMES, np.int64)  # Per-block intermediate tally.\n",
    "  if thread_id == 0:\n",
    "    shared_tally[:] = 0\n",
    "  cuda.syncthreads()\n",
    "\n",
    "  # Each thread adds its local results to shared memory.\n",
    "  for i in range(NUM_OUTCOMES):\n",
    "    cuda.atomic.add(shared_tally, i, tally[i])\n",
    "    cuda.syncthreads()\n",
    "\n",
    "  if thread_id == 0:\n",
    "    for i in range(NUM_OUTCOMES):\n",
    "      cuda.atomic.add(global_tally, i, shared_tally[i])"
   ]
  },
  {
   "cell_type": "code",
   "execution_count": 25,
   "id": "627231b2-4a92-4c68-b260-0c4589a09772",
   "metadata": {
    "execution": {
     "iopub.execute_input": "2025-01-07T03:02:13.049669Z",
     "iopub.status.busy": "2025-01-07T03:02:13.049509Z",
     "iopub.status.idle": "2025-01-07T03:02:13.060107Z",
     "shell.execute_reply": "2025-01-07T03:02:13.059623Z",
     "shell.execute_reply.started": "2025-01-07T03:02:13.049655Z"
    }
   },
   "outputs": [],
   "source": [
    "def simulate_hands_array_gpu_cuda(num_decks, rng):\n",
    "  device = cuda.get_current_device()\n",
    "  # Target enough threads for ~4 blocks per SM.\n",
    "  target_num_threads = 4 * device.MULTIPROCESSOR_COUNT * THREADS_PER_BLOCK\n",
    "  num_decks_per_thread = max(1, num_decks // target_num_threads)\n",
    "  num_threads = num_decks // num_decks_per_thread\n",
    "  # print(f'{num_decks_per_thread=} {num_threads=}')\n",
    "  blocks = math.ceil(num_threads / THREADS_PER_BLOCK)\n",
    "  seed = rng.integers(2**64, dtype=np.uint64)\n",
    "  d_rng_states = random_create_states(num_threads, seed)\n",
    "  d_global_tally = cuda.to_device(np.zeros(NUM_OUTCOMES, np.int64))\n",
    "  gpu_array[blocks, THREADS_PER_BLOCK](d_rng_states, num_decks_per_thread, d_global_tally)\n",
    "  return d_global_tally.copy_to_host() / (num_threads * num_decks_per_thread * HANDS_PER_DECK)"
   ]
  },
  {
   "cell_type": "code",
   "execution_count": 26,
   "id": "32f20d44-bdf8-4a19-8933-66cc9f79fa67",
   "metadata": {
    "execution": {
     "iopub.execute_input": "2025-01-07T03:02:13.060911Z",
     "iopub.status.busy": "2025-01-07T03:02:13.060636Z",
     "iopub.status.idle": "2025-01-07T03:02:14.698825Z",
     "shell.execute_reply": "2025-01-07T03:02:14.698243Z",
     "shell.execute_reply.started": "2025-01-07T03:02:13.060898Z"
    }
   },
   "outputs": [],
   "source": [
    "if cuda.is_available():\n",
    "  assert np.allclose(simulate_hands_array_gpu_cuda(10**7, RNG), EXPECTED_PROB, atol=0.0001)"
   ]
  },
  {
   "cell_type": "code",
   "execution_count": 27,
   "id": "beee6915-9637-4e74-bdc2-c370cb01e35c",
   "metadata": {
    "execution": {
     "iopub.execute_input": "2025-01-07T03:02:14.699691Z",
     "iopub.status.busy": "2025-01-07T03:02:14.699547Z",
     "iopub.status.idle": "2025-01-07T03:02:15.781655Z",
     "shell.execute_reply": "2025-01-07T03:02:15.781023Z",
     "shell.execute_reply.started": "2025-01-07T03:02:14.699679Z"
    }
   },
   "outputs": [
    {
     "name": "stdout",
     "output_type": "stream",
     "text": [
      "Timing:\n",
      "216 ms ± 18.8 ms per loop (mean ± std. dev. of 5 runs, 1 loop each)\n"
     ]
    }
   ],
   "source": [
    "if cuda.is_available():\n",
    "  print('Timing:')\n",
    "  %timeit -n1 -r5 simulate_hands_array_gpu_cuda(10**7, RNG)  # ~220 ms."
   ]
  },
  {
   "cell_type": "code",
   "execution_count": 28,
   "id": "ecb3f7ec-127e-4e85-9cab-655cb388312f",
   "metadata": {
    "execution": {
     "iopub.execute_input": "2025-01-07T03:02:15.782680Z",
     "iopub.status.busy": "2025-01-07T03:02:15.782384Z",
     "iopub.status.idle": "2025-01-07T03:02:15.788409Z",
     "shell.execute_reply": "2025-01-07T03:02:15.787888Z",
     "shell.execute_reply.started": "2025-01-07T03:02:15.782664Z"
    }
   },
   "outputs": [
    {
     "name": "stdout",
     "output_type": "stream",
     "text": [
      "const_mem_size = 0\n",
      "local_mem_per_thread = 0\n",
      "max_threads_per_block = 1024\n",
      "regs_per_thread = 36\n",
      "shared_mem_per_block = 28240\n"
     ]
    }
   ],
   "source": [
    "if cuda.is_available():\n",
    "  write_cuda_kernel_assembly_code(gpu_array, 'gpu_array.ptx')\n",
    "  report_cuda_kernel_properties(gpu_array)"
   ]
  },
  {
   "cell_type": "markdown",
   "id": "61f636ef-f944-4edc-8d8f-1c88ebbd9c0e",
   "metadata": {
    "lines_to_next_cell": 2
   },
   "source": [
    "## Approach 2: bitmasks"
   ]
  },
  {
   "cell_type": "code",
   "execution_count": 29,
   "id": "3693e30a-038c-4bee-9763-012050a7a6e7",
   "metadata": {
    "execution": {
     "iopub.execute_input": "2025-01-07T03:02:15.789807Z",
     "iopub.status.busy": "2025-01-07T03:02:15.789271Z",
     "iopub.status.idle": "2025-01-07T03:02:15.796875Z",
     "shell.execute_reply": "2025-01-07T03:02:15.796263Z",
     "shell.execute_reply.started": "2025-01-07T03:02:15.789786Z"
    }
   },
   "outputs": [],
   "source": [
    "# Thanks to Marcel Gavriliu for this approach of storing card bitmasks and summing them."
   ]
  },
  {
   "cell_type": "code",
   "execution_count": 30,
   "id": "d5eb7ab9-6d6e-4af4-b99e-b76ba60252b9",
   "metadata": {
    "execution": {
     "iopub.execute_input": "2025-01-07T03:02:15.798177Z",
     "iopub.status.busy": "2025-01-07T03:02:15.797578Z",
     "iopub.status.idle": "2025-01-07T03:02:15.806175Z",
     "shell.execute_reply": "2025-01-07T03:02:15.805569Z",
     "shell.execute_reply.started": "2025-01-07T03:02:15.798163Z"
    }
   },
   "outputs": [],
   "source": [
    "THREADS_PER_BLOCK = 256"
   ]
  },
  {
   "cell_type": "code",
   "execution_count": 31,
   "id": "2468db55-9dba-47da-99bf-c992cd446d44",
   "metadata": {
    "execution": {
     "iopub.execute_input": "2025-01-07T03:02:15.807141Z",
     "iopub.status.busy": "2025-01-07T03:02:15.806931Z",
     "iopub.status.idle": "2025-01-07T03:02:15.815640Z",
     "shell.execute_reply": "2025-01-07T03:02:15.815014Z",
     "shell.execute_reply.started": "2025-01-07T03:02:15.807127Z"
    }
   },
   "outputs": [],
   "source": [
    "CARD_COUNT_BITS = 3  # We use 3 bits to encode 0-7 cards for both ranks and suits.\n",
    "RANKS_ONE = 0b_001_001_001_001_001_001_001_001_001_001_001_001_001\n",
    "RANKS_TWO = RANKS_ONE << 1\n",
    "RANKS_FOUR = RANKS_ONE << 2\n",
    "ROYAL_STRAIGHT_RANK_MASK = 0b_001_001_001_001_001_000_000_000_000_000_000_000_000\n",
    "SUITS_ONE = 0b_001_001_001_001"
   ]
  },
  {
   "cell_type": "code",
   "execution_count": 32,
   "id": "eec21c55-97da-4226-87bb-cf9e66607b59",
   "metadata": {
    "execution": {
     "iopub.execute_input": "2025-01-07T03:02:15.816815Z",
     "iopub.status.busy": "2025-01-07T03:02:15.816404Z",
     "iopub.status.idle": "2025-01-07T03:02:15.825325Z",
     "shell.execute_reply": "2025-01-07T03:02:15.824697Z",
     "shell.execute_reply.started": "2025-01-07T03:02:15.816800Z"
    }
   },
   "outputs": [],
   "source": [
    "assert RANKS_ONE == int(sum((2**CARD_COUNT_BITS) ** np.arange(NUM_RANKS, dtype=np.uint64)))\n",
    "assert SUITS_ONE == int(sum((2**CARD_COUNT_BITS) ** np.arange(NUM_SUITS, dtype=np.uint64)))\n",
    "assert ROYAL_STRAIGHT_RANK_MASK == int(\n",
    "    sum(8 ** np.arange(NUM_RANKS - CARDS_FOR_A_STRAIGHT, NUM_RANKS, dtype=np.uint64))\n",
    ")"
   ]
  },
  {
   "cell_type": "code",
   "execution_count": 33,
   "id": "2b3f6172-5fb2-4f08-b6c8-3460d7a36f23",
   "metadata": {
    "execution": {
     "iopub.execute_input": "2025-01-07T03:02:15.826552Z",
     "iopub.status.busy": "2025-01-07T03:02:15.826124Z",
     "iopub.status.idle": "2025-01-07T03:02:15.834806Z",
     "shell.execute_reply": "2025-01-07T03:02:15.834159Z",
     "shell.execute_reply.started": "2025-01-07T03:02:15.826537Z"
    }
   },
   "outputs": [],
   "source": [
    "def create_table_straights_rank_mask():\n",
    "  lst = [0b_001_001_001_001_001 << (i * 3) for i in range(9)]  # '23456' to 'TJQKA'.\n",
    "  lst.append(0b_001_000_000_000_000_000_000_000_000_001_001_001_001)  # '2345A'.\n",
    "  return np.array(lst, np.uint64)"
   ]
  },
  {
   "cell_type": "code",
   "execution_count": 34,
   "id": "97639df3-a4ac-40c8-9329-15901d622de9",
   "metadata": {
    "execution": {
     "iopub.execute_input": "2025-01-07T03:02:15.835958Z",
     "iopub.status.busy": "2025-01-07T03:02:15.835624Z",
     "iopub.status.idle": "2025-01-07T03:02:15.846196Z",
     "shell.execute_reply": "2025-01-07T03:02:15.845570Z",
     "shell.execute_reply.started": "2025-01-07T03:02:15.835941Z"
    }
   },
   "outputs": [],
   "source": [
    "# Table of 10 uint64, each the \"13 * 3\"-bit mask encoding of ranks in straight.\n",
    "TABLE_STRAIGHTS_RANK_MASK = create_table_straights_rank_mask()"
   ]
  },
  {
   "cell_type": "code",
   "execution_count": 35,
   "id": "8e047607-c10a-48a7-a5c7-a655fba16e2e",
   "metadata": {
    "execution": {
     "iopub.execute_input": "2025-01-07T03:02:15.847192Z",
     "iopub.status.busy": "2025-01-07T03:02:15.846914Z",
     "iopub.status.idle": "2025-01-07T03:02:15.855535Z",
     "shell.execute_reply": "2025-01-07T03:02:15.854899Z",
     "shell.execute_reply.started": "2025-01-07T03:02:15.847178Z"
    }
   },
   "outputs": [],
   "source": [
    "@numba.jit\n",
    "def mask_of_card(card):\n",
    "  \"\"\"Return a bitmask of 4*3 + 13*3 bits encoding the suit and rank of 0 <= `card` < 52.\"\"\"\n",
    "  suit_index = card & 0b11\n",
    "  rank_index = card >> 2\n",
    "  mask = (1 << (suit_index * 3 + NUM_RANKS * 3)) | (1 << (rank_index * 3))\n",
    "  return mask"
   ]
  },
  {
   "cell_type": "code",
   "execution_count": 36,
   "id": "e71f606e-973e-4e47-9904-e7ecd9b5ef79",
   "metadata": {
    "execution": {
     "iopub.execute_input": "2025-01-07T03:02:15.856412Z",
     "iopub.status.busy": "2025-01-07T03:02:15.856262Z",
     "iopub.status.idle": "2025-01-07T03:02:15.864991Z",
     "shell.execute_reply": "2025-01-07T03:02:15.864314Z",
     "shell.execute_reply.started": "2025-01-07T03:02:15.856399Z"
    }
   },
   "outputs": [],
   "source": [
    "@numba.jit\n",
    "def determine_straight(rank_count_mask):\n",
    "  m = rank_count_mask\n",
    "  t = TABLE_STRAIGHTS_RANK_MASK\n",
    "  assert len(t) == 10\n",
    "  result = (m == t[0]) | (m == t[1]) | (m == t[2]) | (m == t[3]) | (m == t[4])\n",
    "  result |= (m == t[5]) | (m == t[6]) | (m == t[7]) | (m == t[8]) | (m == t[9])\n",
    "  return result"
   ]
  },
  {
   "cell_type": "code",
   "execution_count": 37,
   "id": "bfbe62e2-c3e7-477a-8464-aa0d6f533ac0",
   "metadata": {
    "execution": {
     "iopub.execute_input": "2025-01-07T03:02:15.866273Z",
     "iopub.status.busy": "2025-01-07T03:02:15.865869Z",
     "iopub.status.idle": "2025-01-07T03:02:15.874999Z",
     "shell.execute_reply": "2025-01-07T03:02:15.874257Z",
     "shell.execute_reply.started": "2025-01-07T03:02:15.866252Z"
    }
   },
   "outputs": [],
   "source": [
    "@numba.jit\n",
    "def outcome_of_hand_bitmask(bitmask_sum):\n",
    "  \"\"\"Evaluate 5-card poker hand and return outcome ranking, using sum of card bitmasks.\"\"\"\n",
    "  # pylint: disable=too-many-function-args\n",
    "  suit_count_mask = numba.uint32(bitmask_sum >> CARD_COUNT_BITS * NUM_RANKS)\n",
    "  rank_count_mask = numba.uint64(bitmask_sum & (2 ** (CARD_COUNT_BITS * NUM_RANKS) - 1))\n",
    "\n",
    "  is_flush = cuda.popc(numba.uint32(suit_count_mask & (suit_count_mask >> 2) & SUITS_ONE)) != 0\n",
    "  is_straight = determine_straight(rank_count_mask)\n",
    "  is_four = (rank_count_mask & RANKS_FOUR) != 0\n",
    "  is_three = ((rank_count_mask + RANKS_ONE) & RANKS_FOUR) != 0\n",
    "  mask_two_or_more = rank_count_mask & RANKS_TWO\n",
    "  num_two_or_more = numba.uint32(cuda.popc(mask_two_or_more))  # Count number of set bits.\n",
    "\n",
    "  if is_flush and is_straight:\n",
    "    if rank_count_mask == ROYAL_STRAIGHT_RANK_MASK:\n",
    "      return Outcome.ROYAL_FLUSH.value\n",
    "    return Outcome.STRAIGHT_FLUSH.value\n",
    "  if is_four:\n",
    "    return Outcome.FOUR_OF_A_KIND.value\n",
    "  if is_three and num_two_or_more > 1:\n",
    "    return Outcome.FULL_HOUSE.value\n",
    "  if is_flush:\n",
    "    return Outcome.FLUSH.value\n",
    "  if is_straight:\n",
    "    return Outcome.STRAIGHT.value\n",
    "  if is_three:\n",
    "    return Outcome.THREE_OF_A_KIND.value\n",
    "  if num_two_or_more == 2:\n",
    "    return Outcome.TWO_PAIR.value\n",
    "  if num_two_or_more == 1:\n",
    "    return Outcome.ONE_PAIR.value\n",
    "  return Outcome.HIGH_CARD.value"
   ]
  },
  {
   "cell_type": "code",
   "execution_count": 39,
   "id": "6e995ab0-d99d-413a-a191-255357e1475f",
   "metadata": {
    "execution": {
     "iopub.execute_input": "2025-01-07T03:02:15.889066Z",
     "iopub.status.busy": "2025-01-07T03:02:15.888899Z",
     "iopub.status.idle": "2025-01-07T03:02:15.901354Z",
     "shell.execute_reply": "2025-01-07T03:02:15.900503Z",
     "shell.execute_reply.started": "2025-01-07T03:02:15.889053Z"
    }
   },
   "outputs": [],
   "source": [
    "@cuda.jit(fastmath=True)\n",
    "def gpu_bitmask(rng_states, num_decks_per_thread, global_tally):\n",
    "  # pylint: disable=too-many-function-args, no-value-for-parameter, comparison-with-callable\n",
    "  thread_index = cuda.grid(1)\n",
    "  if thread_index >= len(rng_states):\n",
    "    return\n",
    "\n",
    "  thread_id = cuda.threadIdx.x  # Index within block.\n",
    "  block_tally = cuda.shared.array((NUM_OUTCOMES, THREADS_PER_BLOCK), np.int32)\n",
    "  block_deck = cuda.shared.array((THREADS_PER_BLOCK, DECK_SIZE), np.uint8)\n",
    "  tally = block_tally[:, thread_id]\n",
    "  deck = block_deck[thread_id]\n",
    "\n",
    "  tally[:] = 0\n",
    "  for i in range(numba.uint8(DECK_SIZE)):  # Casting as uint8 nicely unrolls the loop.\n",
    "    deck[i] = i\n",
    "\n",
    "  rng = rng_states[thread_index]\n",
    "  s0, s1, s2, s3 = rng['s0'], rng['s1'], rng['s2'], rng['s3']\n",
    "\n",
    "  for _ in range(np.int32(num_decks_per_thread)):\n",
    "    # Apply Fisher-Yates shuffle to current deck.\n",
    "    for i in range(numba.int32(51), numba.int32(0), numba.int32(-1)):\n",
    "      random_uint32, s0, s1, s2, s3 = random32.xoshiro128p_next_raw(s0, s1, s2, s3)\n",
    "      s0, s1, s2, s3 = numba.uint32(s0), numba.uint32(s1), numba.uint32(s2), numba.uint32(s3)\n",
    "      if 0:\n",
    "        j = random_uint32 % numba.uint32(i + 1)  # Remainder is somewhat expensive in CUDA.\n",
    "      else:\n",
    "        # In `random_uint32`, the msb have better randomness than the lsb, so float32 mul is better.\n",
    "        value_in_unit_interval = random32.uint32_to_unit_float32(random_uint32)\n",
    "        j = int(numba.float32(value_in_unit_interval * numba.float32(i + 1)))\n",
    "      deck[i], deck[j] = deck[j], deck[i]\n",
    "\n",
    "    mask0, mask1 = mask_of_card(deck[0]), mask_of_card(deck[1])\n",
    "    mask2, mask3 = mask_of_card(deck[2]), mask_of_card(deck[3])\n",
    "    bitmask_sum = mask0 + mask1 + mask2 + mask3\n",
    "\n",
    "    for hand_index in range(np.int32(HANDS_PER_DECK)):\n",
    "      mask4 = mask_of_card(deck[hand_index + 4])\n",
    "      bitmask_sum += mask4\n",
    "      outcome = numba.int32(outcome_of_hand_bitmask(bitmask_sum))\n",
    "      tally[outcome] += 1\n",
    "      bitmask_sum -= mask0\n",
    "      mask0, mask1, mask2, mask3 = mask1, mask2, mask3, mask4\n",
    "\n",
    "  # First accumulate a per-block tally, then accumulate that tally into the global tally.\n",
    "  shared_tally = cuda.shared.array(NUM_OUTCOMES, np.int64)  # Per-block intermediate tally.\n",
    "  if thread_id == 0:\n",
    "    shared_tally[:] = 0\n",
    "  cuda.syncthreads()\n",
    "\n",
    "  # Each thread adds its local results to shared memory.\n",
    "  for i in range(NUM_OUTCOMES):\n",
    "    cuda.atomic.add(shared_tally, i, tally[i])\n",
    "  cuda.syncthreads()\n",
    "\n",
    "  if thread_id == 0:\n",
    "    for i in range(NUM_OUTCOMES):\n",
    "      cuda.atomic.add(global_tally, i, shared_tally[i])"
   ]
  },
  {
   "cell_type": "code",
   "execution_count": 40,
   "id": "4133487b-134a-4358-8518-c5979efc9acd",
   "metadata": {
    "execution": {
     "iopub.execute_input": "2025-01-07T03:02:15.902453Z",
     "iopub.status.busy": "2025-01-07T03:02:15.902227Z",
     "iopub.status.idle": "2025-01-07T03:02:15.913116Z",
     "shell.execute_reply": "2025-01-07T03:02:15.912491Z",
     "shell.execute_reply.started": "2025-01-07T03:02:15.902438Z"
    }
   },
   "outputs": [],
   "source": [
    "def simulate_hands_mask_gpu_cuda(num_decks, rng):\n",
    "  device = cuda.get_current_device()\n",
    "  # Target enough threads for ~4 blocks per SM.\n",
    "  target_num_threads = 4 * device.MULTIPROCESSOR_COUNT * THREADS_PER_BLOCK\n",
    "  num_decks_per_thread = max(1, num_decks // target_num_threads)\n",
    "  num_threads = num_decks // num_decks_per_thread\n",
    "  # print(f'{num_decks_per_thread=} {num_threads=}')\n",
    "  blocks = math.ceil(num_threads / THREADS_PER_BLOCK)\n",
    "  seed = rng.integers(2**64, dtype=np.uint64)\n",
    "  d_rng_states = random_create_states(num_threads, seed)\n",
    "  d_global_tally = cuda.to_device(np.zeros(NUM_OUTCOMES, np.int64))\n",
    "  gpu_bitmask[blocks, THREADS_PER_BLOCK](d_rng_states, num_decks_per_thread, d_global_tally)\n",
    "  return d_global_tally.copy_to_host() / (num_threads * num_decks_per_thread * HANDS_PER_DECK)"
   ]
  },
  {
   "cell_type": "code",
   "execution_count": 41,
   "id": "2fe1fec3-f262-410f-938e-5fc22ad13727",
   "metadata": {
    "execution": {
     "iopub.execute_input": "2025-01-07T03:02:15.914448Z",
     "iopub.status.busy": "2025-01-07T03:02:15.913889Z",
     "iopub.status.idle": "2025-01-07T03:02:15.922183Z",
     "shell.execute_reply": "2025-01-07T03:02:15.921632Z",
     "shell.execute_reply.started": "2025-01-07T03:02:15.914431Z"
    }
   },
   "outputs": [],
   "source": [
    "# simulate_poker_hands(10**9, 'mask_gpu_cuda', simulate_hands_mask_gpu_cuda)  # ~9-11 G hands/s"
   ]
  },
  {
   "cell_type": "code",
   "execution_count": 42,
   "id": "958981de-2fde-480b-a15e-b761255c37c9",
   "metadata": {
    "execution": {
     "iopub.execute_input": "2025-01-07T03:02:15.923214Z",
     "iopub.status.busy": "2025-01-07T03:02:15.922864Z",
     "iopub.status.idle": "2025-01-07T03:02:16.720319Z",
     "shell.execute_reply": "2025-01-07T03:02:16.719730Z",
     "shell.execute_reply.started": "2025-01-07T03:02:15.923198Z"
    }
   },
   "outputs": [],
   "source": [
    "if cuda.is_available():\n",
    "  assert np.allclose(simulate_hands_mask_gpu_cuda(10**7, RNG), EXPECTED_PROB, atol=0.0001)"
   ]
  },
  {
   "cell_type": "code",
   "execution_count": 43,
   "id": "f3d4a20b-0082-4e4c-b752-6bacb0502053",
   "metadata": {
    "execution": {
     "iopub.execute_input": "2025-01-07T03:02:16.721427Z",
     "iopub.status.busy": "2025-01-07T03:02:16.721091Z",
     "iopub.status.idle": "2025-01-07T03:02:17.434898Z",
     "shell.execute_reply": "2025-01-07T03:02:17.434263Z",
     "shell.execute_reply.started": "2025-01-07T03:02:16.721413Z"
    }
   },
   "outputs": [
    {
     "name": "stdout",
     "output_type": "stream",
     "text": [
      "Timing:\n",
      "70.9 ms ± 21.2 ms per loop (mean ± std. dev. of 10 runs, 1 loop each)\n"
     ]
    }
   ],
   "source": [
    "if cuda.is_available():\n",
    "  print('Timing:')\n",
    "  %timeit -n1 -r10 simulate_hands_mask_gpu_cuda(10**7, RNG)  # ~41 ms if low variance."
   ]
  },
  {
   "cell_type": "code",
   "execution_count": 44,
   "id": "eb27c7ae-beb4-4cb0-a28f-8f520e2870c3",
   "metadata": {
    "execution": {
     "iopub.execute_input": "2025-01-07T03:02:17.436101Z",
     "iopub.status.busy": "2025-01-07T03:02:17.435609Z",
     "iopub.status.idle": "2025-01-07T03:02:17.441490Z",
     "shell.execute_reply": "2025-01-07T03:02:17.440934Z",
     "shell.execute_reply.started": "2025-01-07T03:02:17.436086Z"
    }
   },
   "outputs": [
    {
     "name": "stdout",
     "output_type": "stream",
     "text": [
      "const_mem_size = 0\n",
      "local_mem_per_thread = 0\n",
      "max_threads_per_block = 1024\n",
      "regs_per_thread = 37\n",
      "shared_mem_per_block = 23632\n"
     ]
    }
   ],
   "source": [
    "if cuda.is_available():\n",
    "  write_cuda_kernel_assembly_code(gpu_bitmask, 'gpu_bitmask.ptx')\n",
    "  report_cuda_kernel_properties(gpu_bitmask)"
   ]
  },
  {
   "cell_type": "markdown",
   "id": "d2bc4755-cde2-4223-80f0-5b02fc49a389",
   "metadata": {},
   "source": [
    "## Results"
   ]
  },
  {
   "cell_type": "code",
   "execution_count": 45,
   "id": "940da643-485f-4416-8020-0651a5eb867f",
   "metadata": {
    "execution": {
     "iopub.execute_input": "2025-01-07T03:02:17.442601Z",
     "iopub.status.busy": "2025-01-07T03:02:17.442435Z",
     "iopub.status.idle": "2025-01-07T03:02:17.448937Z",
     "shell.execute_reply": "2025-01-07T03:02:17.448346Z",
     "shell.execute_reply.started": "2025-01-07T03:02:17.442588Z"
    }
   },
   "outputs": [],
   "source": [
    "SIMULATE_FUNCTIONS = {\n",
    "    name: func\n",
    "    for name, func in {\n",
    "        'array_cpu_python': simulate_hands_array_cpu_python,\n",
    "        'array_cpu_numba': simulate_hands_array_cpu_numba,\n",
    "        'array_cpu_numba_multiprocess': simulate_hands_array_cpu_numba_multiprocess,\n",
    "        'array_gpu_cuda': simulate_hands_array_gpu_cuda,\n",
    "        'mask_gpu_cuda': simulate_hands_mask_gpu_cuda,\n",
    "    }.items()\n",
    "    if ('multiprocess' not in name or MULTIPROCESS_IS_AVAILABLE)\n",
    "    and ('cuda' not in name or cuda.is_available())\n",
    "}"
   ]
  },
  {
   "cell_type": "code",
   "execution_count": 46,
   "id": "92bde0ec-7f24-4f13-b350-cc413094ab11",
   "metadata": {
    "execution": {
     "iopub.execute_input": "2025-01-07T03:02:17.450231Z",
     "iopub.status.busy": "2025-01-07T03:02:17.449630Z",
     "iopub.status.idle": "2025-01-07T03:02:17.460629Z",
     "shell.execute_reply": "2025-01-07T03:02:17.459970Z",
     "shell.execute_reply.started": "2025-01-07T03:02:17.450199Z"
    }
   },
   "outputs": [],
   "source": [
    "COMPLEXITY_ADJUSTMENT = {\n",
    "    'array_cpu_python': 0.01,\n",
    "    'array_cpu_numba': 2.0,\n",
    "    'array_cpu_numba_multiprocess': 20.0,\n",
    "    'array_gpu_cuda': 100.0,\n",
    "    'mask_gpu_cuda': 100.0,\n",
    "}"
   ]
  },
  {
   "cell_type": "code",
   "execution_count": 47,
   "id": "e7bd410e-681f-499c-b2bf-8303c7146423",
   "metadata": {
    "execution": {
     "iopub.execute_input": "2025-01-07T03:02:17.461582Z",
     "iopub.status.busy": "2025-01-07T03:02:17.461300Z",
     "iopub.status.idle": "2025-01-07T03:02:17.470099Z",
     "shell.execute_reply": "2025-01-07T03:02:17.469502Z",
     "shell.execute_reply.started": "2025-01-07T03:02:17.461569Z"
    }
   },
   "outputs": [],
   "source": [
    "def simulate_poker_hands(desired_num_hands, func_name, func):\n",
    "  num_decks = math.ceil(desired_num_hands / HANDS_PER_DECK)\n",
    "  num_hands = num_decks * HANDS_PER_DECK\n",
    "  print(f'\\nFor {func_name} simulating {num_hands:,} hands:')\n",
    "\n",
    "  # Ensure the function is jitted.\n",
    "  _ = func(num_decks // 10, RNG)\n",
    "\n",
    "  start_time = time.perf_counter_ns()\n",
    "  results = func(num_decks, RNG)\n",
    "  elapsed_time = (time.perf_counter_ns() - start_time) / 10**9\n",
    "\n",
    "  round_digits = lambda x, ndigits=3: round(x, ndigits - 1 - math.floor(math.log10(abs(x))))\n",
    "  hands_per_s = round_digits(int(num_hands / elapsed_time))\n",
    "  print(f' Elapsed time is {elapsed_time:.3f} s, or {hands_per_s:,} hands/s.')\n",
    "\n",
    "  print(' Probabilities:')\n",
    "  for outcome, result_prob in zip(Outcome, results):\n",
    "    reference_prob = outcome.reference_count / comb(DECK_SIZE, HAND_SIZE)\n",
    "    error = result_prob - reference_prob\n",
    "    estimate_sdv = (reference_prob * (1 - reference_prob) / num_hands) ** 0.5\n",
    "    sdv = error / estimate_sdv\n",
    "    s = f'  {outcome.string_name:<16}: {result_prob * 100:8.5f}%'\n",
    "    s += f'  (vs. ref. {reference_prob * 100:8.5f}%  error:{error * 100:8.5f}% {sdv:6.2f}σ)'\n",
    "    print(s)"
   ]
  },
  {
   "cell_type": "code",
   "execution_count": 48,
   "id": "e935c8b8-a126-4a4f-ae08-bbba8d6a80b4",
   "metadata": {
    "execution": {
     "iopub.execute_input": "2025-01-07T03:02:17.471118Z",
     "iopub.status.busy": "2025-01-07T03:02:17.470828Z",
     "iopub.status.idle": "2025-01-07T03:02:17.478947Z",
     "shell.execute_reply": "2025-01-07T03:02:17.478386Z",
     "shell.execute_reply.started": "2025-01-07T03:02:17.471105Z"
    }
   },
   "outputs": [],
   "source": [
    "def compare_simulations(base_num_hands):\n",
    "  for func_name, func in SIMULATE_FUNCTIONS.items():\n",
    "    desired_num_hands = math.ceil(base_num_hands * COMPLEXITY_ADJUSTMENT[func_name])\n",
    "    simulate_poker_hands(desired_num_hands, func_name, func)"
   ]
  },
  {
   "cell_type": "code",
   "execution_count": 49,
   "id": "ca0e7a67-ca73-4e8f-b584-9368daefeb7e",
   "metadata": {
    "execution": {
     "iopub.execute_input": "2025-01-07T03:02:17.479675Z",
     "iopub.status.busy": "2025-01-07T03:02:17.479547Z",
     "iopub.status.idle": "2025-01-07T03:02:20.372899Z",
     "shell.execute_reply": "2025-01-07T03:02:20.372209Z",
     "shell.execute_reply.started": "2025-01-07T03:02:17.479664Z"
    }
   },
   "outputs": [
    {
     "name": "stdout",
     "output_type": "stream",
     "text": [
      "\n",
      "For array_cpu_python simulating 100,032 hands:\n",
      " Elapsed time is 0.731 s, or 137,000 hands/s.\n",
      " Probabilities:\n",
      "  Royal flush     :  0.00000%  (vs. ref.  0.00015%  error:-0.00015%  -0.39σ)\n",
      "  Straight flush  :  0.00000%  (vs. ref.  0.00139%  error:-0.00139%  -1.18σ)\n",
      "  Four of a kind  :  0.02999%  (vs. ref.  0.02401%  error: 0.00598%   1.22σ)\n",
      "  Full house      :  0.12996%  (vs. ref.  0.14406%  error:-0.01410%  -1.18σ)\n",
      "  Flush           :  0.16995%  (vs. ref.  0.19654%  error:-0.02659%  -1.90σ)\n",
      "  Straight        :  0.32989%  (vs. ref.  0.39246%  error:-0.06257%  -3.17σ)\n",
      "  Three of a kind :  2.51120%  (vs. ref.  2.11285%  error: 0.39835%   8.76σ)\n",
      "  Two pair        :  4.26264%  (vs. ref.  4.75390%  error:-0.49127%  -7.30σ)\n",
      "  One pair        : 42.94426%  (vs. ref. 42.25690%  error: 0.68736%   4.40σ)\n",
      "  High card       : 49.62212%  (vs. ref. 50.11774%  error:-0.49562%  -3.14σ)\n",
      "\n",
      "For array_cpu_numba simulating 20,000,016 hands:\n",
      " Elapsed time is 0.612 s, or 32,700,000 hands/s.\n",
      " Probabilities:\n",
      "  Royal flush     :  0.00000%  (vs. ref.  0.00015%  error:-0.00015%  -5.55σ)\n",
      "  Straight flush  :  0.00155%  (vs. ref.  0.00139%  error: 0.00016%   1.98σ)\n",
      "  Four of a kind  :  0.02310%  (vs. ref.  0.02401%  error:-0.00091%  -2.63σ)\n",
      "  Full house      :  0.14160%  (vs. ref.  0.14406%  error:-0.00246%  -2.90σ)\n",
      "  Flush           :  0.20470%  (vs. ref.  0.19654%  error: 0.00816%   8.24σ)\n",
      "  Straight        :  0.38895%  (vs. ref.  0.39246%  error:-0.00351%  -2.51σ)\n",
      "  Three of a kind :  2.10252%  (vs. ref.  2.11285%  error:-0.01033%  -3.21σ)\n",
      "  Two pair        :  4.73420%  (vs. ref.  4.75390%  error:-0.01970%  -4.14σ)\n",
      "  One pair        : 42.19849%  (vs. ref. 42.25690%  error:-0.05842%  -5.29σ)\n",
      "  High card       : 50.20489%  (vs. ref. 50.11774%  error: 0.08716%   7.80σ)\n",
      "\n",
      "For array_cpu_numba_multiprocess simulating 200,000,016 hands:\n",
      " Elapsed time is 0.616 s, or 324,000,000 hands/s.\n",
      " Probabilities:\n",
      "  Royal flush     :  0.00011%  (vs. ref.  0.00015%  error:-0.00004%  -5.01σ)\n",
      "  Straight flush  :  0.00149%  (vs. ref.  0.00139%  error: 0.00010%   3.98σ)\n",
      "  Four of a kind  :  0.02377%  (vs. ref.  0.02401%  error:-0.00023%  -2.14σ)\n",
      "  Full house      :  0.14482%  (vs. ref.  0.14406%  error: 0.00076%   2.85σ)\n",
      "  Flush           :  0.19548%  (vs. ref.  0.19654%  error:-0.00106%  -3.38σ)\n",
      "  Straight        :  0.39355%  (vs. ref.  0.39246%  error: 0.00108%   2.45σ)\n",
      "  Three of a kind :  2.11305%  (vs. ref.  2.11285%  error: 0.00020%   0.20σ)\n",
      "  Two pair        :  4.75423%  (vs. ref.  4.75390%  error: 0.00032%   0.22σ)\n",
      "  One pair        : 42.25092%  (vs. ref. 42.25690%  error:-0.00598%  -1.71σ)\n",
      "  High card       : 50.12258%  (vs. ref. 50.11774%  error: 0.00484%   1.37σ)\n",
      "\n",
      "For array_gpu_cuda simulating 1,000,000,032 hands:\n",
      " Elapsed time is 0.403 s, or 2,480,000,000 hands/s.\n",
      " Probabilities:\n",
      "  Royal flush     :  0.00015%  (vs. ref.  0.00015%  error:-0.00000%  -0.13σ)\n",
      "  Straight flush  :  0.00139%  (vs. ref.  0.00139%  error: 0.00001%   0.43σ)\n",
      "  Four of a kind  :  0.02394%  (vs. ref.  0.02401%  error:-0.00007%  -1.44σ)\n",
      "  Full house      :  0.14397%  (vs. ref.  0.14406%  error:-0.00008%  -0.69σ)\n",
      "  Flush           :  0.19638%  (vs. ref.  0.19654%  error:-0.00016%  -1.11σ)\n",
      "  Straight        :  0.39267%  (vs. ref.  0.39246%  error: 0.00021%   1.06σ)\n",
      "  Three of a kind :  2.11288%  (vs. ref.  2.11285%  error: 0.00004%   0.09σ)\n",
      "  Two pair        :  4.75356%  (vs. ref.  4.75390%  error:-0.00034%  -0.51σ)\n",
      "  One pair        : 42.25728%  (vs. ref. 42.25690%  error: 0.00038%   0.24σ)\n",
      "  High card       : 50.11776%  (vs. ref. 50.11774%  error: 0.00002%   0.01σ)\n",
      "\n",
      "For mask_gpu_cuda simulating 1,000,000,032 hands:\n",
      " Elapsed time is 0.116 s, or 8,610,000,000 hands/s.\n",
      " Probabilities:\n",
      "  Royal flush     :  0.00014%  (vs. ref.  0.00015%  error:-0.00001%  -2.86σ)\n",
      "  Straight flush  :  0.00138%  (vs. ref.  0.00139%  error:-0.00000%  -0.22σ)\n",
      "  Four of a kind  :  0.02404%  (vs. ref.  0.02401%  error: 0.00003%   0.62σ)\n",
      "  Full house      :  0.14395%  (vs. ref.  0.14406%  error:-0.00010%  -0.87σ)\n",
      "  Flush           :  0.19659%  (vs. ref.  0.19654%  error: 0.00005%   0.38σ)\n",
      "  Straight        :  0.39256%  (vs. ref.  0.39246%  error: 0.00009%   0.46σ)\n",
      "  Three of a kind :  2.11284%  (vs. ref.  2.11285%  error:-0.00000%  -0.00σ)\n",
      "  Two pair        :  4.75370%  (vs. ref.  4.75390%  error:-0.00020%  -0.30σ)\n",
      "  One pair        : 42.25503%  (vs. ref. 42.25690%  error:-0.00188%  -1.20σ)\n",
      "  High card       : 50.11976%  (vs. ref. 50.11774%  error: 0.00202%   1.28σ)\n"
     ]
    }
   ],
   "source": [
    "compare_simulations(base_num_hands=10**7)"
   ]
  },
  {
   "cell_type": "code",
   "execution_count": 50,
   "id": "4ef83cc9-da12-486c-b9f5-dc8f644304d6",
   "metadata": {
    "execution": {
     "iopub.execute_input": "2025-01-07T03:02:20.373910Z",
     "iopub.status.busy": "2025-01-07T03:02:20.373696Z",
     "iopub.status.idle": "2025-01-07T03:02:20.376780Z",
     "shell.execute_reply": "2025-01-07T03:02:20.376299Z",
     "shell.execute_reply.started": "2025-01-07T03:02:20.373895Z"
    }
   },
   "outputs": [],
   "source": [
    "# 135k, 33m, 350m, 2200-3400m, 8000-12500m"
   ]
  },
  {
   "cell_type": "code",
   "execution_count": 51,
   "id": "4e2c58e2-5b87-4232-a96e-10e2773625cb",
   "metadata": {
    "execution": {
     "iopub.execute_input": "2025-01-07T03:02:20.377673Z",
     "iopub.status.busy": "2025-01-07T03:02:20.377517Z",
     "iopub.status.idle": "2025-01-07T03:03:49.516835Z",
     "shell.execute_reply": "2025-01-07T03:03:49.516232Z",
     "shell.execute_reply.started": "2025-01-07T03:02:20.377659Z"
    }
   },
   "outputs": [
    {
     "name": "stdout",
     "output_type": "stream",
     "text": [
      "\n",
      "For mask_gpu_cuda simulating 1,000,000,000,032 hands:\n",
      " Elapsed time is 80.280 s, or 12,500,000,000 hands/s.\n",
      " Probabilities:\n",
      "  Royal flush     :  0.00015%  (vs. ref.  0.00015%  error:-0.00000%  -0.98σ)\n",
      "  Straight flush  :  0.00138%  (vs. ref.  0.00139%  error:-0.00000%  -0.66σ)\n",
      "  Four of a kind  :  0.02401%  (vs. ref.  0.02401%  error: 0.00000%   0.11σ)\n",
      "  Full house      :  0.14406%  (vs. ref.  0.14406%  error: 0.00000%   1.31σ)\n",
      "  Flush           :  0.19654%  (vs. ref.  0.19654%  error: 0.00000%   0.50σ)\n",
      "  Straight        :  0.39247%  (vs. ref.  0.39246%  error: 0.00000%   0.76σ)\n",
      "  Three of a kind :  2.11285%  (vs. ref.  2.11285%  error: 0.00000%   0.14σ)\n",
      "  Two pair        :  4.75391%  (vs. ref.  4.75390%  error: 0.00001%   0.31σ)\n",
      "  One pair        : 42.25699%  (vs. ref. 42.25690%  error: 0.00009%   1.76σ)\n",
      "  High card       : 50.11763%  (vs. ref. 50.11774%  error:-0.00011%  -2.15σ)\n"
     ]
    }
   ],
   "source": [
    "if cuda.is_available():\n",
    "  simulate_poker_hands(10**12, 'mask_gpu_cuda', simulate_hands_mask_gpu_cuda)"
   ]
  },
  {
   "cell_type": "code",
   "execution_count": 52,
   "id": "628c75a6-c775-46f7-83ff-8baa85a685f2",
   "metadata": {
    "execution": {
     "iopub.execute_input": "2025-01-07T03:03:49.518190Z",
     "iopub.status.busy": "2025-01-07T03:03:49.517741Z",
     "iopub.status.idle": "2025-01-07T03:03:49.520689Z",
     "shell.execute_reply": "2025-01-07T03:03:49.520187Z",
     "shell.execute_reply.started": "2025-01-07T03:03:49.518176Z"
    }
   },
   "outputs": [],
   "source": [
    "# For mask_gpu_cuda simulating 1,000,000,000,032 hands:\n",
    "#  Elapsed time is 80.862 s, or 12,400,000,000 hands/s.\n",
    "#  Probabilities:\n",
    "#   Royal flush     :  0.00015%  (vs. ref.  0.00015%  error:-0.00000%  -0.98σ)\n",
    "#   Straight flush  :  0.00138%  (vs. ref.  0.00139%  error:-0.00000%  -0.66σ)\n",
    "#   Four of a kind  :  0.02401%  (vs. ref.  0.02401%  error: 0.00000%   0.11σ)\n",
    "#   Full house      :  0.14406%  (vs. ref.  0.14406%  error: 0.00000%   1.31σ)\n",
    "#   Flush           :  0.19654%  (vs. ref.  0.19654%  error: 0.00000%   0.50σ)\n",
    "#   Straight        :  0.39247%  (vs. ref.  0.39246%  error: 0.00000%   0.76σ)\n",
    "#   Three of a kind :  2.11285%  (vs. ref.  2.11285%  error: 0.00000%   0.14σ)\n",
    "#   Two pair        :  4.75391%  (vs. ref.  4.75390%  error: 0.00001%   0.31σ)\n",
    "#   One pair        : 42.25699%  (vs. ref. 42.25690%  error: 0.00009%   1.76σ)\n",
    "#   High card       : 50.11763%  (vs. ref. 50.11774%  error:-0.00011%  -2.15σ)"
   ]
  },
  {
   "cell_type": "markdown",
   "id": "53b10704-3a4b-4b0e-b0ac-711b2afed9bd",
   "metadata": {},
   "source": [
    "## End"
   ]
  }
 ],
 "metadata": {
  "colab": {
   "collapsed_sections": [],
   "provenance": [],
   "toc_visible": true
  },
  "jupytext": {
   "cell_metadata_filter": "-all",
   "formats": "ipynb,py:percent",
   "main_language": "python",
   "notebook_metadata_filter": "-all"
  },
  "kernelspec": {
   "display_name": "Python 3 (ipykernel)",
   "language": "python",
   "name": "python3"
  },
  "language_info": {
   "codemirror_mode": {
    "name": "ipython",
    "version": 3
   },
   "file_extension": ".py",
   "mimetype": "text/x-python",
   "name": "python",
   "nbconvert_exporter": "python",
   "pygments_lexer": "ipython3",
   "version": "3.10.12"
  }
 },
 "nbformat": 4,
 "nbformat_minor": 5
}
