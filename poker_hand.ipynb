{
 "cells": [
  {
   "cell_type": "markdown",
   "id": "f819c4f7",
   "metadata": {},
   "source": [
    "# Poker hand simulation\n",
    "\n",
    "This notebook is a simple testbed to experiment with Python acceleration using `numba` (CPU-jitted code) and `numba.cuda` (GPU CUDA-jitted code).\n",
    "\n",
    "We estimate poker hand probabilities using Monte Carlo simulation and compare results with known reference values.\n",
    "\n",
    "We compare execution speeds using Python, `numba`, `numba` with multiprocessing, and `numba.cuda`.\n",
    "\n",
    "Websites on which to run this notebook include:\n",
    "\n",
    "- [Open in Google Colab](https://colab.research.google.com/github/hhoppe/poker_hand/blob/main/poker_hand.ipynb), click on Runtime -> Change runtime type -> T4 GPU, and then Runtime -> Run all.\n",
    "\n",
    "- [Open in kaggle.com](https://www.kaggle.com/notebooks/welcome?src=https://github.com/hhoppe/poker_hand/blob/main/poker_hand.ipynb), login, Session options -> Accelerator -> GPU T4 x2 or P100, Session options -> Internet -> On, then Run All.\n",
    "\n",
    "- [Open in mybinder.org](https://mybinder.org/v2/gh/hhoppe/poker_hand/main?urlpath=lab/tree/poker_hand.ipynb).  Unfortunately, no GPU is available.\n",
    "\n",
    "- [Open in deepnote.com](https://deepnote.com/launch?url=https%3A%2F%2Fgithub.com%2Fhhoppe%2Fpoker_hand%2Fblob%2Fmain%2Fpoker_hand.ipynb).  Unfortunately, no GPU is available.\n",
    "\n",
    "Here are results:"
   ]
  },
  {
   "cell_type": "markdown",
   "id": "75c4c01b-6d88-4986-92b0-459b2dab4bc3",
   "metadata": {
    "execution": {
     "iopub.execute_input": "2025-01-06T01:53:19.033961Z",
     "iopub.status.busy": "2025-01-06T01:53:19.033961Z",
     "iopub.status.idle": "2025-01-06T01:53:19.041537Z",
     "shell.execute_reply": "2025-01-06T01:53:19.041537Z",
     "shell.execute_reply.started": "2025-01-06T01:53:19.033961Z"
    }
   },
   "source": [
    "<table style=\"margin-left: 0\">\n",
    "<tr>\n",
    "  <th colspan=\"4\"></th>\n",
    "  <th colspan=\"5\" style=\"text-align: center\">Simulation rates (hands/s)</th>\n",
    "</tr>\n",
    "<tr>\n",
    "  <th colspan=\"4\">Compute capabilities</th>\n",
    "  <th colspan=\"4\" style=\"text-align: center; background-color: #EBF5FF\">Array-based</th>\n",
    "  <th colspan=\"1\" style=\"text-align: center; background-color: #F0FDF4\">Mask-based</th>\n",
    "</tr>\n",
    "<tr>\n",
    "  <th>Platform</th>\n",
    "  <th style=\"text-align: center\">CPU<br>threads</th>\n",
    "  <th style=\"text-align: center\">GPU<br>type</th>\n",
    "  <th style=\"text-align: center\">CUDA<br>SMs</th>\n",
    "  <th style=\"background-color: #EBF5FF\">Python</th>\n",
    "  <th style=\"background-color: #EBF5FF\">Numba</th>\n",
    "  <th style=\"background-color: #EBF5FF\">Multiprocess</th>\n",
    "  <th style=\"background-color: #EBF5FF\">CUDA</th>\n",
    "  <th style=\"background-color: #F0FDF4\">CUDA</th>\n",
    "</tr>\n",
    "<tr>\n",
    "  <td><b>My PC</b> Win10</td>\n",
    "  <td style=\"text-align: center\">24</td>\n",
    "  <td style=\"text-align: center\">GeForce 3080 Ti</td>\n",
    "  <td style=\"text-align: center\">80</td>\n",
    "  <td style=\"text-align: right; background-color: #EBF5FF\">21,800</td>\n",
    "  <td style=\"text-align: right; background-color: #EBF5FF\">28,200,000</td>\n",
    "  <td style=\"text-align: right; background-color: #EBF5FF\">-</td>\n",
    "  <td style=\"text-align: right; background-color: #EBF5FF\">2,700,000,000</td>\n",
    "  <td style=\"text-align: right; background-color: #F0FDF4\">8,800,000,000</td>\n",
    "</tr>\n",
    "<tr>\n",
    "  <td><b>My PC</b> WSL2</td>\n",
    "  <td style=\"text-align: center\">24</td>\n",
    "  <td style=\"text-align: center\">GeForce 3080 Ti</td>\n",
    "  <td style=\"text-align: center\">80</td>\n",
    "  <td style=\"text-align: right; background-color: #EBF5FF\">135,000</td>\n",
    "  <td style=\"text-align: right; background-color: #EBF5FF\">33,000,000</td>\n",
    "  <td style=\"text-align: right; background-color: #EBF5FF\">350,000,000</td>\n",
    "  <td style=\"text-align: right; background-color: #EBF5FF\">2,800,000,000</td>\n",
    "  <td style=\"text-align: right; background-color: #F0FDF4\">6,400,000,000</td>\n",
    "</tr>\n",
    "<tr>\n",
    "  <td><b>Marcel PC</b> Win</td>\n",
    "  <td style=\"text-align: center\">24</td>\n",
    "  <td style=\"text-align: center\">Titan V</td>\n",
    "  <td style=\"text-align: center\">80</td>\n",
    "  <td style=\"text-align: right; background-color: #EBF5FF\"><s>62,800</s></td>\n",
    "  <td style=\"text-align: right; background-color: #EBF5FF\"><s>5,160,000</s></td>\n",
    "  <td style=\"text-align: right; background-color: #EBF5FF\">-</td>\n",
    "  <td style=\"text-align: right; background-color: #EBF5FF\"><s>2,280,000,000</s></td>\n",
    "  <td style=\"text-align: right; background-color: #F0FDF4\">-</td>\n",
    "</tr>\n",
    "<tr>\n",
    "  <td><a href=\"https://colab.research.google.com/github/hhoppe/poker_hand/blob/main/poker_hand.ipynb\"><b>Colab</b> T4</a></td>\n",
    "  <td style=\"text-align: center\">2</td>\n",
    "  <td style=\"text-align: center\">Tesla T4</td>\n",
    "  <td style=\"text-align: center\">40</td>\n",
    "  <td style=\"text-align: right; background-color: #EBF5FF\">17,000</td>\n",
    "  <td style=\"text-align: right; background-color: #EBF5FF\">11,600,000</td>\n",
    "  <td style=\"text-align: right; background-color: #EBF5FF\">16,400,000</td>\n",
    "  <td style=\"text-align: right; background-color: #EBF5FF\">3,670,000,000</td>\n",
    "  <td style=\"text-align: right; background-color: #F0FDF4\">9,230,000,000</td>\n",
    "</tr>\n",
    "<tr>\n",
    "  <td><a href=\"https://www.kaggle.com/notebooks/welcome?src=https://github.com/hhoppe/poker_hand/blob/main/poker_hand.ipynb\"><b>Kaggle</b> T4</a></td>\n",
    "  <td style=\"text-align: center\">4</td>\n",
    "  <td style=\"text-align: center\">Tesla T4 x2</td>\n",
    "  <td style=\"text-align: center\">40</td>\n",
    "  <td style=\"text-align: right; background-color: #EBF5FF\">17,300</td>\n",
    "  <td style=\"text-align: right; background-color: #EBF5FF\">14,800,000</td>\n",
    "  <td style=\"text-align: right; background-color: #EBF5FF\">31,800,000</td>\n",
    "  <td style=\"text-align: right; background-color: #EBF5FF\">3,560,000,000</td>\n",
    "  <td style=\"text-align: right; background-color: #F0FDF4\">9,040,000,000</td>\n",
    "</tr>\n",
    "<tr>\n",
    "  <td><b>Kaggle</b> P100</td>\n",
    "  <td style=\"text-align: center\">4</td>\n",
    "  <td style=\"text-align: center\">Tesla P100</td>\n",
    "  <td style=\"text-align: center\">56</td>\n",
    "  <td style=\"text-align: right; background-color: #EBF5FF\">17,100</td>\n",
    "  <td style=\"text-align: right; background-color: #EBF5FF\">14,500,000</td>\n",
    "  <td style=\"text-align: right; background-color: #EBF5FF\">31,300,000</td>\n",
    "  <td style=\"text-align: right; background-color: #EBF5FF\">3,620,000,000</td>\n",
    "  <td style=\"text-align: right; background-color: #F0FDF4\">6,730,000,000</td>\n",
    "</tr>\n",
    "<tr>\n",
    "  <td><a href=\"https://mybinder.org/v2/gh/hhoppe/poker_hand/main?urlpath=lab/tree/poker_hand.ipynb\"><b>mybinder</b></a></td>\n",
    "  <td style=\"text-align: center\">72</td>\n",
    "  <td style=\"text-align: center\">None</td>\n",
    "  <td style=\"text-align: center\">-</td>\n",
    "  <td style=\"text-align: right; background-color: #EBF5FF\">18,200</td>\n",
    "  <td style=\"text-align: right; background-color: #EBF5FF\">7,050,000</td>\n",
    "  <td style=\"text-align: right; background-color: #EBF5FF\">3,220,000</td>\n",
    "  <td style=\"text-align: right; background-color: #EBF5FF\">-</td>\n",
    "  <td style=\"text-align: right; background-color: #F0FDF4\">-</td>\n",
    "</tr>\n",
    "<tr>\n",
    "  <td><a href=\"https://deepnote.com/launch?url=https%3A%2F%2Fgithub.com%2Fhhoppe%2Fpoker_hand%2Fblob%2Fmain%2Fpoker_hand.ipynb\"><b>deepnote</b></a></td>\n",
    "  <td style=\"text-align: center\">8</td>\n",
    "  <td style=\"text-align: center\">None</td>\n",
    "  <td style=\"text-align: center\">-</td>\n",
    "  <td style=\"text-align: right; background-color: #EBF5FF\">18,700</td>\n",
    "  <td style=\"text-align: right; background-color: #EBF5FF\">22,400,000</td>\n",
    "  <td style=\"text-align: right; background-color: #EBF5FF\">12,600,000</td>\n",
    "  <td style=\"text-align: right; background-color: #EBF5FF\">-</td>\n",
    "  <td style=\"text-align: right; background-color: #F0FDF4\">-</td>\n",
    "</tr>\n",
    "</table>"
   ]
  },
  {
   "cell_type": "markdown",
   "id": "17ce3127-cbd5-445b-900d-6c01ddac60a7",
   "metadata": {},
   "source": [
    "It is puzzling that the CUDA rate is lower on my PC than on the online servers."
   ]
  },
  {
   "cell_type": "markdown",
   "id": "926b7255-e5af-473f-809b-000987e06690",
   "metadata": {},
   "source": [
    "## Imports"
   ]
  },
  {
   "cell_type": "code",
   "execution_count": 1,
   "id": "96f8b5b5-8cda-4b5f-8b07-145cf83d0dfd",
   "metadata": {
    "execution": {
     "iopub.execute_input": "2025-01-06T16:12:07.962150Z",
     "iopub.status.busy": "2025-01-06T16:12:07.961844Z",
     "iopub.status.idle": "2025-01-06T16:12:09.338944Z",
     "shell.execute_reply": "2025-01-06T16:12:09.338212Z",
     "shell.execute_reply.started": "2025-01-06T16:12:07.962131Z"
    }
   },
   "outputs": [],
   "source": [
    "!pip install -q numba"
   ]
  },
  {
   "cell_type": "code",
   "execution_count": 2,
   "id": "23fdecec-8b75-4c95-94f1-46c68b6202e6",
   "metadata": {
    "execution": {
     "iopub.execute_input": "2025-01-06T16:12:09.339744Z",
     "iopub.status.busy": "2025-01-06T16:12:09.339603Z",
     "iopub.status.idle": "2025-01-06T16:12:09.452015Z",
     "shell.execute_reply": "2025-01-06T16:12:09.451344Z",
     "shell.execute_reply.started": "2025-01-06T16:12:09.339731Z"
    }
   },
   "outputs": [],
   "source": [
    "!if [ ! -f random32.py ]; then wget https://github.com/hhoppe/poker_hand/raw/main/random32.py; fi"
   ]
  },
  {
   "cell_type": "code",
   "execution_count": 3,
   "id": "b7672379",
   "metadata": {
    "execution": {
     "iopub.execute_input": "2025-01-06T16:12:09.452920Z",
     "iopub.status.busy": "2025-01-06T16:12:09.452766Z",
     "iopub.status.idle": "2025-01-06T16:12:09.782824Z",
     "shell.execute_reply": "2025-01-06T16:12:09.782218Z",
     "shell.execute_reply.started": "2025-01-06T16:12:09.452908Z"
    },
    "lines_to_next_cell": 2,
    "tags": []
   },
   "outputs": [],
   "source": [
    "import enum\n",
    "import math\n",
    "from math import comb\n",
    "import multiprocessing\n",
    "import pathlib\n",
    "import time\n",
    "from typing import Any\n",
    "\n",
    "import numba\n",
    "from numba import cuda\n",
    "import numba.cuda.random\n",
    "import numpy as np\n",
    "import random32"
   ]
  },
  {
   "cell_type": "code",
   "execution_count": 4,
   "id": "aec3f5a6-f130-470d-8a0d-43b99587d4c7",
   "metadata": {
    "execution": {
     "iopub.execute_input": "2025-01-06T16:12:09.784142Z",
     "iopub.status.busy": "2025-01-06T16:12:09.783493Z",
     "iopub.status.idle": "2025-01-06T16:12:09.787617Z",
     "shell.execute_reply": "2025-01-06T16:12:09.786948Z",
     "shell.execute_reply.started": "2025-01-06T16:12:09.784110Z"
    }
   },
   "outputs": [],
   "source": [
    "USE_RANDOM32 = True\n",
    "if USE_RANDOM32:\n",
    "  random_create_states = random32.create_xoshiro128p_states\n",
    "  random_next_uniform_uint = random32.xoshiro128p_next\n",
    "  random_next_uniform_float32 = random32.xoshiro128p_uniform_float32\n",
    "else:\n",
    "  # See https://github.com/numba/numba/blob/main/numba/cuda/random.py\n",
    "  random_create_states = cuda.random.create_xoroshiro128p_states\n",
    "  random_next_uniform_uint = cuda.random.xoroshiro128p_next\n",
    "  random_next_uniform_float32 = cuda.random.xoroshiro128p_uniform_float32"
   ]
  },
  {
   "cell_type": "markdown",
   "id": "5071ce25-73c7-4a64-8414-767907ad6063",
   "metadata": {},
   "source": [
    "## Compute capabilities"
   ]
  },
  {
   "cell_type": "code",
   "execution_count": 5,
   "id": "40f2522d-afa5-4bf8-9f0a-5623defb8c46",
   "metadata": {
    "execution": {
     "iopub.execute_input": "2025-01-06T16:12:09.788667Z",
     "iopub.status.busy": "2025-01-06T16:12:09.788447Z",
     "iopub.status.idle": "2025-01-06T16:12:09.800449Z",
     "shell.execute_reply": "2025-01-06T16:12:09.799784Z",
     "shell.execute_reply.started": "2025-01-06T16:12:09.788653Z"
    }
   },
   "outputs": [
    {
     "name": "stdout",
     "output_type": "stream",
     "text": [
      "The number of CPU threads is 24.\n"
     ]
    }
   ],
   "source": [
    "print(f'The number of CPU threads is {multiprocessing.cpu_count()}.')"
   ]
  },
  {
   "cell_type": "code",
   "execution_count": 6,
   "id": "4fc255c9-8b8e-463e-a685-6a2785c0e63e",
   "metadata": {
    "execution": {
     "iopub.execute_input": "2025-01-06T16:12:09.802667Z",
     "iopub.status.busy": "2025-01-06T16:12:09.802253Z",
     "iopub.status.idle": "2025-01-06T16:12:09.810376Z",
     "shell.execute_reply": "2025-01-06T16:12:09.809777Z",
     "shell.execute_reply.started": "2025-01-06T16:12:09.802641Z"
    }
   },
   "outputs": [
    {
     "name": "stdout",
     "output_type": "stream",
     "text": [
      "Support for multiprocess \"fork\": True\n"
     ]
    }
   ],
   "source": [
    "MULTIPROCESS_IS_AVAILABLE = 'fork' in multiprocessing.get_all_start_methods()\n",
    "print(f'Support for multiprocess \"fork\": {MULTIPROCESS_IS_AVAILABLE}')"
   ]
  },
  {
   "cell_type": "code",
   "execution_count": 7,
   "id": "23e84adb-9b5e-4ba9-97bd-bdb7c0f92cae",
   "metadata": {
    "execution": {
     "iopub.execute_input": "2025-01-06T16:12:09.811599Z",
     "iopub.status.busy": "2025-01-06T16:12:09.811155Z",
     "iopub.status.idle": "2025-01-06T16:12:10.209155Z",
     "shell.execute_reply": "2025-01-06T16:12:10.208471Z",
     "shell.execute_reply.started": "2025-01-06T16:12:09.811576Z"
    },
    "lines_to_next_cell": 2
   },
   "outputs": [
    {
     "name": "stdout",
     "output_type": "stream",
     "text": [
      "Found 1 CUDA devices\n",
      "id 0    b'NVIDIA GeForce RTX 3080 Ti'                              [SUPPORTED]\n",
      "                      Compute Capability: 8.6\n",
      "                           PCI Device ID: 0\n",
      "                              PCI Bus ID: 10\n",
      "                                    UUID: GPU-e50896f3-f795-945c-9c59-fffc57278834\n",
      "                                Watchdog: Enabled\n",
      "             FP32/FP64 Performance Ratio: 32\n",
      "Summary:\n",
      "\t1/1 devices are supported\n",
      "The number of GPU SMs is 80\n"
     ]
    }
   ],
   "source": [
    "if cuda.is_available() and cuda.detect():\n",
    "  print(f'The number of GPU SMs is {cuda.get_current_device().MULTIPROCESSOR_COUNT}')"
   ]
  },
  {
   "cell_type": "markdown",
   "id": "e5af2c7f-c334-49ad-9afb-fb73cf6d7db4",
   "metadata": {
    "execution": {
     "iopub.execute_input": "2024-12-29T01:42:55.940070Z",
     "iopub.status.busy": "2024-12-29T01:42:55.939661Z",
     "iopub.status.idle": "2024-12-29T01:42:55.942841Z",
     "shell.execute_reply": "2024-12-29T01:42:55.942254Z",
     "shell.execute_reply.started": "2024-12-29T01:42:55.940047Z"
    },
    "lines_to_next_cell": 2
   },
   "source": [
    "## Shared code"
   ]
  },
  {
   "cell_type": "code",
   "execution_count": 8,
   "id": "cc2447c0-0ded-4360-bf8e-7e35be276331",
   "metadata": {
    "execution": {
     "iopub.execute_input": "2025-01-06T16:12:10.210015Z",
     "iopub.status.busy": "2025-01-06T16:12:10.209848Z",
     "iopub.status.idle": "2025-01-06T16:12:10.213515Z",
     "shell.execute_reply": "2025-01-06T16:12:10.212978Z",
     "shell.execute_reply.started": "2025-01-06T16:12:10.210001Z"
    }
   },
   "outputs": [],
   "source": [
    "DECK_SIZE = 52\n",
    "NUM_SUITS = 4\n",
    "NUM_RANKS = 13\n",
    "HAND_SIZE = 5\n",
    "HANDS_PER_DECK = DECK_SIZE - HAND_SIZE + 1  # We consider all overlapping hands in a shuffled deck.\n",
    "CARDS_FOR_A_FLUSH = 5\n",
    "CARDS_FOR_A_STRAIGHT = 5\n",
    "RNG = np.random.default_rng(1)"
   ]
  },
  {
   "cell_type": "code",
   "execution_count": 9,
   "id": "d6635058-f273-41d9-93a4-2b0c89cb65cc",
   "metadata": {
    "execution": {
     "iopub.execute_input": "2025-01-06T16:12:10.214369Z",
     "iopub.status.busy": "2025-01-06T16:12:10.214213Z",
     "iopub.status.idle": "2025-01-06T16:12:10.224316Z",
     "shell.execute_reply": "2025-01-06T16:12:10.223657Z",
     "shell.execute_reply.started": "2025-01-06T16:12:10.214357Z"
    }
   },
   "outputs": [],
   "source": [
    "class Outcome(enum.IntEnum):\n",
    "  \"\"\"Poker hand rankings from best to worst.\"\"\"\n",
    "\n",
    "  string_name: str\n",
    "  reference_count: int  # https://en.wikipedia.org/wiki/Poker_probability\n",
    "\n",
    "  ROYAL_FLUSH = 0, 'Royal flush', comb(4, 1)\n",
    "  STRAIGHT_FLUSH = 1, 'Straight flush', comb(10, 1) * comb(4, 1) - comb(4, 1)\n",
    "  FOUR_OF_A_KIND = 2, 'Four of a kind', comb(13, 1) * comb(4, 4) * comb(12, 1) * comb(4, 1)\n",
    "  FULL_HOUSE = 3, 'Full house', comb(13, 1) * comb(4, 3) * comb(12, 1) * comb(4, 2)\n",
    "  FLUSH = 4, 'Flush', comb(13, 5) * comb(4, 1) - comb(10, 1) * comb(4, 1)\n",
    "  STRAIGHT = 5, 'Straight', comb(10, 1) * comb(4, 1) ** 5 - comb(10, 1) * comb(4, 1)\n",
    "  THREE_OF_A_KIND = 6, 'Three of a kind', comb(13, 1) * comb(4, 3) * comb(12, 2) * comb(4, 1) ** 2\n",
    "  TWO_PAIR = 7, 'Two pair', comb(13, 2) * comb(4, 2) ** 2 * comb(11, 1) * comb(4, 1)\n",
    "  ONE_PAIR = 8, 'One pair', comb(13, 1) * comb(4, 2) * comb(12, 3) * comb(4, 1) ** 3\n",
    "  HIGH_CARD = 9, 'High card', (comb(13, 5) - comb(10, 1)) * (comb(4, 1) ** 5 - comb(4, 1))\n",
    "\n",
    "  def __new__(cls, value: int, string_name: str, reference_count: int) -> Any:\n",
    "    obj = int.__new__(cls, value)\n",
    "    obj._value_ = value\n",
    "    obj.string_name = string_name\n",
    "    obj.reference_count = reference_count\n",
    "    return obj"
   ]
  },
  {
   "cell_type": "code",
   "execution_count": 10,
   "id": "16cb8893-08da-4397-93c1-edb44fe8b06b",
   "metadata": {
    "execution": {
     "iopub.execute_input": "2025-01-06T16:12:10.225314Z",
     "iopub.status.busy": "2025-01-06T16:12:10.225022Z",
     "iopub.status.idle": "2025-01-06T16:12:10.236396Z",
     "shell.execute_reply": "2025-01-06T16:12:10.235763Z",
     "shell.execute_reply.started": "2025-01-06T16:12:10.225298Z"
    }
   },
   "outputs": [],
   "source": [
    "NUM_OUTCOMES = len(Outcome)\n",
    "EXPECTED_PROB = np.array([o.reference_count for o in Outcome]) / comb(DECK_SIZE, HAND_SIZE)\n",
    "assert np.allclose(np.sum(EXPECTED_PROB), 1.0)"
   ]
  },
  {
   "cell_type": "code",
   "execution_count": 11,
   "id": "70cee4f8-7a70-40ed-b497-64215c07468a",
   "metadata": {
    "execution": {
     "iopub.execute_input": "2025-01-06T16:12:10.237798Z",
     "iopub.status.busy": "2025-01-06T16:12:10.237228Z",
     "iopub.status.idle": "2025-01-06T16:12:10.246053Z",
     "shell.execute_reply": "2025-01-06T16:12:10.245475Z",
     "shell.execute_reply.started": "2025-01-06T16:12:10.237780Z"
    }
   },
   "outputs": [],
   "source": [
    "def write_cuda_kernel_assembly_code(function, filename):\n",
    "  (ptx,) = function.inspect_asm().values()\n",
    "  pathlib.Path(filename).write_text(ptx, encoding='utf-8')"
   ]
  },
  {
   "cell_type": "code",
   "execution_count": 12,
   "id": "e6e87979-f6ba-42ec-bb1a-24a1b23dff80",
   "metadata": {
    "execution": {
     "iopub.execute_input": "2025-01-06T16:12:10.247313Z",
     "iopub.status.busy": "2025-01-06T16:12:10.246762Z",
     "iopub.status.idle": "2025-01-06T16:12:10.255612Z",
     "shell.execute_reply": "2025-01-06T16:12:10.254912Z",
     "shell.execute_reply.started": "2025-01-06T16:12:10.247297Z"
    },
    "lines_to_next_cell": 2
   },
   "outputs": [],
   "source": [
    "def report_cuda_kernel_properties(function):\n",
    "  PROPERTIES = 'const_mem_size local_mem_per_thread max_threads_per_block regs_per_thread shared_mem_per_block'.split()\n",
    "  for property_name in PROPERTIES:\n",
    "    (value,) = getattr(function, 'get_' + property_name)().values()\n",
    "    print(f'{property_name} = {value}')"
   ]
  },
  {
   "cell_type": "markdown",
   "id": "c53fd3b4-129f-4acd-9c1f-3dc1cf809b16",
   "metadata": {},
   "source": [
    "## Approach 1: arrays"
   ]
  },
  {
   "cell_type": "markdown",
   "id": "c193e996-9ea5-40fd-806a-b4642241507b",
   "metadata": {
    "execution": {
     "iopub.execute_input": "2024-12-29T01:42:55.940070Z",
     "iopub.status.busy": "2024-12-29T01:42:55.939661Z",
     "iopub.status.idle": "2024-12-29T01:42:55.942841Z",
     "shell.execute_reply": "2024-12-29T01:42:55.942254Z",
     "shell.execute_reply.started": "2024-12-29T01:42:55.940047Z"
    },
    "lines_to_next_cell": 2
   },
   "source": [
    "### Hand evaluation"
   ]
  },
  {
   "cell_type": "code",
   "execution_count": 13,
   "id": "f74eebae-594a-4324-94af-edbcb7b69e33",
   "metadata": {
    "execution": {
     "iopub.execute_input": "2025-01-06T16:12:10.256588Z",
     "iopub.status.busy": "2025-01-06T16:12:10.256400Z",
     "iopub.status.idle": "2025-01-06T16:12:10.265578Z",
     "shell.execute_reply": "2025-01-06T16:12:10.264893Z",
     "shell.execute_reply.started": "2025-01-06T16:12:10.256576Z"
    }
   },
   "outputs": [],
   "source": [
    "def outcome_of_hand_array_python(cards, ranks, freqs):\n",
    "  \"\"\"Evaluate 5-card poker hand and return outcome ranking, using array data structures.\n",
    "\n",
    "  Args:\n",
    "    cards: List of 5 integers representing cards (0-51).\n",
    "    ranks: Pre-allocated array for storing sorted ranks.\n",
    "    freqs: Pre-allocated array for counting rank frequencies.\n",
    "\n",
    "  Returns:\n",
    "    Integer representing hand ranking (see Outcome enum).\n",
    "  \"\"\"\n",
    "  # pylint: disable=consider-using-in, consider-using-max-builtin\n",
    "\n",
    "  def get_rank(card: int) -> int:\n",
    "    return card >> 2  # In range(NUM_RANKS), ordered '23456789TJQKA'.\n",
    "\n",
    "  def get_suit(card: int) -> int:\n",
    "    return card & 0b11  # In range(4).\n",
    "\n",
    "  # Sort cards by rank for easier pattern matching, using simple insertion sort.\n",
    "  for i in range(HAND_SIZE):\n",
    "    ranks[i] = get_rank(cards[i])\n",
    "  # ranks.sort()\n",
    "  for i in range(1, HAND_SIZE):\n",
    "    key = ranks[i]\n",
    "    j = i - 1\n",
    "    while j >= 0 and ranks[j] > key:\n",
    "      ranks[j + 1] = ranks[j]\n",
    "      j -= 1\n",
    "    ranks[j + 1] = key\n",
    "\n",
    "  # is_flush = all(card == cards[0] for card in cards[1:])\n",
    "  # Expanding `cards` on the rhs results in better cuda-compiled code.\n",
    "  c0, c1, c2, c3, c4 = cards[0], cards[1], cards[2], cards[3], cards[4]\n",
    "  is_flush = get_suit(c0) == get_suit(c1) == get_suit(c2) == get_suit(c3) == get_suit(c4)\n",
    "\n",
    "  # Expanding `ranks` on the rhs results in better cuda-compiled code.\n",
    "  r0, r1, r2, r3, r4 = ranks[0], ranks[1], ranks[2], ranks[3], ranks[4]\n",
    "  # We must also consider the ace-low straight 'A2345'.\n",
    "  is_straight = r1 == r0 + 1 and r2 == r0 + 2 and r3 == r0 + 3 and (r4 == r0 + 4 or r4 == r0 + 12)\n",
    "\n",
    "  # Count rank frequencies.\n",
    "  freqs[:] = 0\n",
    "  for rank in ranks:\n",
    "    freqs[rank] += 1\n",
    "\n",
    "  # max_freq = max(freqs)\n",
    "  # num_pairs = np.sum(freqs == 2)\n",
    "  max_freq = 0\n",
    "  num_pairs = 0\n",
    "  for freq in freqs:\n",
    "    if freq > max_freq:\n",
    "      max_freq = freq\n",
    "    if freq == 2:\n",
    "      num_pairs += 1\n",
    "\n",
    "  if is_flush and is_straight:\n",
    "    if ranks[0] == 8:\n",
    "      return Outcome.ROYAL_FLUSH.value\n",
    "    return Outcome.STRAIGHT_FLUSH.value\n",
    "  if max_freq == 4:\n",
    "    return Outcome.FOUR_OF_A_KIND.value\n",
    "  if max_freq == 3 and num_pairs > 0:\n",
    "    return Outcome.FULL_HOUSE.value\n",
    "  if is_flush:\n",
    "    return Outcome.FLUSH.value\n",
    "  if is_straight:\n",
    "    return Outcome.STRAIGHT.value\n",
    "  if max_freq == 3:\n",
    "    return Outcome.THREE_OF_A_KIND.value\n",
    "  if max_freq == 2:\n",
    "    if num_pairs == 2:\n",
    "      return Outcome.TWO_PAIR.value\n",
    "    return Outcome.ONE_PAIR.value\n",
    "  return Outcome.HIGH_CARD.value"
   ]
  },
  {
   "cell_type": "code",
   "execution_count": 14,
   "id": "8676ddc6-f14c-4fe3-8316-249f247439ad",
   "metadata": {
    "execution": {
     "iopub.execute_input": "2025-01-06T16:12:10.266423Z",
     "iopub.status.busy": "2025-01-06T16:12:10.266250Z",
     "iopub.status.idle": "2025-01-06T16:12:10.277453Z",
     "shell.execute_reply": "2025-01-06T16:12:10.276886Z",
     "shell.execute_reply.started": "2025-01-06T16:12:10.266411Z"
    }
   },
   "outputs": [],
   "source": [
    "outcome_of_hand_array_numba = numba.njit(outcome_of_hand_array_python)"
   ]
  },
  {
   "cell_type": "markdown",
   "id": "b2c72168-c7d6-4792-9ea9-ee887733a7e1",
   "metadata": {
    "execution": {
     "iopub.execute_input": "2024-12-29T01:43:09.066669Z",
     "iopub.status.busy": "2024-12-29T01:43:09.066142Z",
     "iopub.status.idle": "2024-12-29T01:43:09.069033Z",
     "shell.execute_reply": "2024-12-29T01:43:09.068530Z",
     "shell.execute_reply.started": "2024-12-29T01:43:09.066653Z"
    },
    "lines_to_next_cell": 2
   },
   "source": [
    "### CPU simulation"
   ]
  },
  {
   "cell_type": "code",
   "execution_count": 15,
   "id": "61102c48-3b12-497c-adcd-a5dab40f1ac7",
   "metadata": {
    "execution": {
     "iopub.execute_input": "2025-01-06T16:12:10.278558Z",
     "iopub.status.busy": "2025-01-06T16:12:10.278118Z",
     "iopub.status.idle": "2025-01-06T16:12:10.287221Z",
     "shell.execute_reply": "2025-01-06T16:12:10.286625Z",
     "shell.execute_reply.started": "2025-01-06T16:12:10.278541Z"
    }
   },
   "outputs": [],
   "source": [
    "def make_compute_cpu(outcome_of_hand_array):\n",
    "  # Return a specialized compute_cpu function for the given outcome_of_hand_array function.\n",
    "\n",
    "  def compute_cpu(num_decks, rng):\n",
    "    BLOCK_SIZE = 10\n",
    "    # deck_block = np.arange(DECK_SIZE, dtype=np.uint8).repeat(BLOCK_SIZE).reshape(DECK_SIZE, -1).T\n",
    "    deck_block = np.empty((BLOCK_SIZE, DECK_SIZE), dtype=np.uint8)\n",
    "    deck_block[:] = np.arange(DECK_SIZE, dtype=np.uint8)\n",
    "    ranks = np.empty(HAND_SIZE, np.uint8)\n",
    "    freqs = np.empty(NUM_RANKS, np.int8)\n",
    "    tally = np.zeros(NUM_OUTCOMES, np.int64)\n",
    "    for deck_index_start in range(0, num_decks, BLOCK_SIZE):\n",
    "      deck_block2 = rng.permutation(deck_block, axis=1)\n",
    "      for deck_index in range(deck_index_start, min(deck_index_start + BLOCK_SIZE, num_decks)):\n",
    "        deck = deck_block2[deck_index - deck_index_start]\n",
    "        for hand_index in range(HANDS_PER_DECK):\n",
    "          hand = deck[hand_index : hand_index + 5]\n",
    "          outcome = outcome_of_hand_array(hand, ranks, freqs)\n",
    "          tally[outcome] += 1\n",
    "    return tally / (num_decks * HANDS_PER_DECK)\n",
    "\n",
    "  return compute_cpu"
   ]
  },
  {
   "cell_type": "code",
   "execution_count": 16,
   "id": "b7e33708-c91f-486c-bb02-71da114e1a69",
   "metadata": {
    "execution": {
     "iopub.execute_input": "2025-01-06T16:12:10.288039Z",
     "iopub.status.busy": "2025-01-06T16:12:10.287838Z",
     "iopub.status.idle": "2025-01-06T16:12:10.296700Z",
     "shell.execute_reply": "2025-01-06T16:12:10.296072Z",
     "shell.execute_reply.started": "2025-01-06T16:12:10.288027Z"
    },
    "lines_to_next_cell": 2
   },
   "outputs": [],
   "source": [
    "simulate_hands_array_cpu_python = make_compute_cpu(outcome_of_hand_array_python)\n",
    "simulate_hands_array_cpu_numba = numba.njit(make_compute_cpu(outcome_of_hand_array_numba))"
   ]
  },
  {
   "cell_type": "code",
   "execution_count": 17,
   "id": "14583f1b-5e96-4a18-9e6b-dcf13d57a876",
   "metadata": {
    "execution": {
     "iopub.execute_input": "2025-01-06T16:12:10.297835Z",
     "iopub.status.busy": "2025-01-06T16:12:10.297435Z",
     "iopub.status.idle": "2025-01-06T16:12:10.305658Z",
     "shell.execute_reply": "2025-01-06T16:12:10.305106Z",
     "shell.execute_reply.started": "2025-01-06T16:12:10.297819Z"
    }
   },
   "outputs": [],
   "source": [
    "# print(next(iter(simulate_hands_array_cpu_numba.inspect_asm().values())))"
   ]
  },
  {
   "cell_type": "code",
   "execution_count": 18,
   "id": "ebec99b5-9246-4e29-94ed-ed675d03e549",
   "metadata": {
    "execution": {
     "iopub.execute_input": "2025-01-06T16:12:10.306901Z",
     "iopub.status.busy": "2025-01-06T16:12:10.306295Z",
     "iopub.status.idle": "2025-01-06T16:12:19.432342Z",
     "shell.execute_reply": "2025-01-06T16:12:19.431687Z",
     "shell.execute_reply.started": "2025-01-06T16:12:10.306866Z"
    },
    "lines_to_next_cell": 2
   },
   "outputs": [],
   "source": [
    "assert np.allclose(simulate_hands_array_cpu_numba(10**5, RNG), EXPECTED_PROB, atol=0.001)"
   ]
  },
  {
   "cell_type": "code",
   "execution_count": 19,
   "id": "2b737c66-9df8-4f2b-bc90-63d850850777",
   "metadata": {
    "execution": {
     "iopub.execute_input": "2025-01-06T16:12:19.433616Z",
     "iopub.status.busy": "2025-01-06T16:12:19.433046Z",
     "iopub.status.idle": "2025-01-06T16:12:20.828245Z",
     "shell.execute_reply": "2025-01-06T16:12:20.827438Z",
     "shell.execute_reply.started": "2025-01-06T16:12:19.433597Z"
    }
   },
   "outputs": [
    {
     "name": "stdout",
     "output_type": "stream",
     "text": [
      "695 ms ± 2.75 ms per loop (mean ± std. dev. of 2 runs, 1 loop each)\n"
     ]
    }
   ],
   "source": [
    "%timeit -n1 -r2 simulate_hands_array_cpu_python(2000, RNG)  # ~710 ms."
   ]
  },
  {
   "cell_type": "code",
   "execution_count": 20,
   "id": "e6d31c92-50f3-4c51-b333-0cbdfdd2bdd5",
   "metadata": {
    "execution": {
     "iopub.execute_input": "2025-01-06T16:12:20.829679Z",
     "iopub.status.busy": "2025-01-06T16:12:20.829082Z",
     "iopub.status.idle": "2025-01-06T16:12:23.768963Z",
     "shell.execute_reply": "2025-01-06T16:12:23.768291Z",
     "shell.execute_reply.started": "2025-01-06T16:12:20.829661Z"
    },
    "lines_to_next_cell": 2
   },
   "outputs": [
    {
     "name": "stdout",
     "output_type": "stream",
     "text": [
      "14.7 ms ± 4 µs per loop (mean ± std. dev. of 2 runs, 100 loops each)\n"
     ]
    }
   ],
   "source": [
    "%timeit -n100 -r2 simulate_hands_array_cpu_numba(10**4, RNG)  # ~14.8 ms."
   ]
  },
  {
   "cell_type": "code",
   "execution_count": 21,
   "id": "38b2467c-cc46-4b3d-ab2e-0db7891bcf6f",
   "metadata": {
    "execution": {
     "iopub.execute_input": "2025-01-06T16:12:23.772088Z",
     "iopub.status.busy": "2025-01-06T16:12:23.771411Z",
     "iopub.status.idle": "2025-01-06T16:12:23.775034Z",
     "shell.execute_reply": "2025-01-06T16:12:23.774493Z",
     "shell.execute_reply.started": "2025-01-06T16:12:23.772069Z"
    }
   },
   "outputs": [],
   "source": [
    "def compute_chunk(args):\n",
    "  num_decks, rng = args\n",
    "  return simulate_hands_array_cpu_numba(num_decks, rng)"
   ]
  },
  {
   "cell_type": "code",
   "execution_count": 22,
   "id": "a853fae1-8516-417c-97de-b221f97c6d40",
   "metadata": {
    "execution": {
     "iopub.execute_input": "2025-01-06T16:12:23.776129Z",
     "iopub.status.busy": "2025-01-06T16:12:23.775689Z",
     "iopub.status.idle": "2025-01-06T16:12:23.785548Z",
     "shell.execute_reply": "2025-01-06T16:12:23.784913Z",
     "shell.execute_reply.started": "2025-01-06T16:12:23.776096Z"
    },
    "lines_to_next_cell": 2
   },
   "outputs": [],
   "source": [
    "def simulate_hands_array_cpu_numba_multiprocess(num_decks, rng):\n",
    "  num_processes = multiprocessing.cpu_count()\n",
    "  chunk_num_decks = math.ceil(num_decks / num_processes)\n",
    "  chunks = [(chunk_num_decks, np.random.default_rng(rng)) for i in range(num_processes)]\n",
    "  with multiprocessing.get_context('fork').Pool(num_processes) as pool:\n",
    "    results = pool.map(compute_chunk, chunks)\n",
    "  return np.mean(results, axis=0)"
   ]
  },
  {
   "cell_type": "markdown",
   "id": "0154d69f-d8dc-4d8b-8d5e-e1632f9f4fc8",
   "metadata": {
    "lines_to_next_cell": 2
   },
   "source": [
    "### GPU simulation"
   ]
  },
  {
   "cell_type": "code",
   "execution_count": 23,
   "id": "e3280ce4-3cdc-4910-96d7-6b86410d8be4",
   "metadata": {
    "execution": {
     "iopub.execute_input": "2025-01-06T16:12:23.786359Z",
     "iopub.status.busy": "2025-01-06T16:12:23.786203Z",
     "iopub.status.idle": "2025-01-06T16:12:23.794997Z",
     "shell.execute_reply": "2025-01-06T16:12:23.794356Z",
     "shell.execute_reply.started": "2025-01-06T16:12:23.786347Z"
    }
   },
   "outputs": [],
   "source": [
    "THREADS_PER_BLOCK = 256"
   ]
  },
  {
   "cell_type": "code",
   "execution_count": 24,
   "id": "96d4ddd0-9c93-403d-bd5e-a0be49a6f7ff",
   "metadata": {
    "execution": {
     "iopub.execute_input": "2025-01-06T16:12:23.795880Z",
     "iopub.status.busy": "2025-01-06T16:12:23.795715Z",
     "iopub.status.idle": "2025-01-06T16:12:23.805306Z",
     "shell.execute_reply": "2025-01-06T16:12:23.804610Z",
     "shell.execute_reply.started": "2025-01-06T16:12:23.795867Z"
    }
   },
   "outputs": [],
   "source": [
    "@cuda.jit  # Using either local memory or cuda.shared.array.\n",
    "def gpu_array(rng_states, num_decks_per_thread, global_tally):\n",
    "  # pylint: disable=too-many-function-args, no-value-for-parameter, comparison-with-callable\n",
    "  # pylint: disable=possibly-used-before-assignment\n",
    "  USE_SHARED_MEMORY = True  # Shared memory is faster.\n",
    "  thread_index = cuda.grid(1)\n",
    "  if thread_index >= len(rng_states):\n",
    "    return\n",
    "\n",
    "  thread_id = cuda.threadIdx.x  # Index within block.\n",
    "  if USE_SHARED_MEMORY:\n",
    "    block_tally = cuda.shared.array((THREADS_PER_BLOCK, NUM_OUTCOMES), np.int32)\n",
    "    block_deck = cuda.shared.array((THREADS_PER_BLOCK, DECK_SIZE), np.uint8)\n",
    "    block_ranks = cuda.shared.array((THREADS_PER_BLOCK, HAND_SIZE), np.uint8)\n",
    "    block_freqs = cuda.shared.array((THREADS_PER_BLOCK, NUM_RANKS), np.uint8)\n",
    "    tally = block_tally[thread_id]\n",
    "    deck = block_deck[thread_id]\n",
    "    ranks = block_ranks[thread_id]\n",
    "    freqs = block_freqs[thread_id]\n",
    "    # Note: transposed structure results in longer code and ~1.3x slower execution, e.g.:\n",
    "    # block_tally = cuda.shared.array((NUM_OUTCOMES, THREADS_PER_BLOCK), np.int32)\n",
    "    # tally = block_tally[:, thread_id]\n",
    "  else:\n",
    "    tally = cuda.local.array(NUM_OUTCOMES, np.int32)\n",
    "    deck = cuda.local.array(DECK_SIZE, np.uint8)\n",
    "    ranks = cuda.local.array(HAND_SIZE, np.uint8)\n",
    "    freqs = cuda.local.array(NUM_RANKS, np.uint8)\n",
    "\n",
    "  tally[:] = 0\n",
    "  for i in range(numba.uint8(DECK_SIZE)):  # Casting as uint8 nicely unrolls the loop.\n",
    "    deck[i] = i\n",
    "\n",
    "  for _ in range(num_decks_per_thread):\n",
    "    # Apply Fisher-Yates shuffle to current deck.\n",
    "    for i in range(51, 0, -1):\n",
    "      random_uint32 = random_next_uniform_uint(rng_states, thread_index)\n",
    "      j = random_uint32 % numba.uint32(i + 1)\n",
    "      deck[i], deck[j] = deck[j], deck[i]\n",
    "\n",
    "    for hand_index in range(HANDS_PER_DECK):\n",
    "      hand = deck[hand_index : hand_index + 5]\n",
    "      outcome = outcome_of_hand_array_numba(hand, ranks, freqs)\n",
    "      tally[outcome] += 1\n",
    "\n",
    "  # First accumulate a per-block tally, then accumulate that tally into the global tally.\n",
    "  shared_tally = cuda.shared.array(NUM_OUTCOMES, np.int64)  # Per-block intermediate tally.\n",
    "  if thread_id == 0:\n",
    "    shared_tally[:] = 0\n",
    "  cuda.syncthreads()\n",
    "\n",
    "  # Each thread adds its local results to shared memory.\n",
    "  for i in range(NUM_OUTCOMES):\n",
    "    cuda.atomic.add(shared_tally, i, tally[i])\n",
    "    cuda.syncthreads()\n",
    "\n",
    "  if thread_id == 0:\n",
    "    for i in range(NUM_OUTCOMES):\n",
    "      cuda.atomic.add(global_tally, i, shared_tally[i])"
   ]
  },
  {
   "cell_type": "code",
   "execution_count": 25,
   "id": "627231b2-4a92-4c68-b260-0c4589a09772",
   "metadata": {
    "execution": {
     "iopub.execute_input": "2025-01-06T16:12:23.806341Z",
     "iopub.status.busy": "2025-01-06T16:12:23.806037Z",
     "iopub.status.idle": "2025-01-06T16:12:23.816915Z",
     "shell.execute_reply": "2025-01-06T16:12:23.816331Z",
     "shell.execute_reply.started": "2025-01-06T16:12:23.806327Z"
    }
   },
   "outputs": [],
   "source": [
    "def simulate_hands_array_gpu_cuda(num_decks, rng):\n",
    "  device = cuda.get_current_device()\n",
    "  # Target enough threads for ~4 blocks per SM.\n",
    "  target_num_threads = 4 * device.MULTIPROCESSOR_COUNT * THREADS_PER_BLOCK\n",
    "  num_decks_per_thread = max(1, num_decks // target_num_threads)\n",
    "  num_threads = num_decks // num_decks_per_thread\n",
    "  # print(f'{num_decks_per_thread=} {num_threads=}')\n",
    "  blocks = math.ceil(num_threads / THREADS_PER_BLOCK)\n",
    "  seed = rng.integers(2**64, dtype=np.uint64)\n",
    "  d_rng_states = random_create_states(num_threads, seed)\n",
    "  d_global_tally = cuda.to_device(np.zeros(NUM_OUTCOMES, np.int64))\n",
    "  gpu_array[blocks, THREADS_PER_BLOCK](d_rng_states, num_decks_per_thread, d_global_tally)\n",
    "  return d_global_tally.copy_to_host() / (num_threads * num_decks_per_thread * HANDS_PER_DECK)"
   ]
  },
  {
   "cell_type": "code",
   "execution_count": 26,
   "id": "32f20d44-bdf8-4a19-8933-66cc9f79fa67",
   "metadata": {
    "execution": {
     "iopub.execute_input": "2025-01-06T16:12:23.818051Z",
     "iopub.status.busy": "2025-01-06T16:12:23.817704Z",
     "iopub.status.idle": "2025-01-06T16:12:25.460301Z",
     "shell.execute_reply": "2025-01-06T16:12:25.459644Z",
     "shell.execute_reply.started": "2025-01-06T16:12:23.818037Z"
    }
   },
   "outputs": [],
   "source": [
    "if cuda.is_available():\n",
    "  assert np.allclose(simulate_hands_array_gpu_cuda(10**7, RNG), EXPECTED_PROB, atol=0.0001)"
   ]
  },
  {
   "cell_type": "code",
   "execution_count": 27,
   "id": "beee6915-9637-4e74-bdc2-c370cb01e35c",
   "metadata": {
    "execution": {
     "iopub.execute_input": "2025-01-06T16:12:25.461416Z",
     "iopub.status.busy": "2025-01-06T16:12:25.461127Z",
     "iopub.status.idle": "2025-01-06T16:12:26.532087Z",
     "shell.execute_reply": "2025-01-06T16:12:26.531418Z",
     "shell.execute_reply.started": "2025-01-06T16:12:25.461400Z"
    }
   },
   "outputs": [
    {
     "name": "stdout",
     "output_type": "stream",
     "text": [
      "Timing:\n",
      "213 ms ± 24.8 ms per loop (mean ± std. dev. of 5 runs, 1 loop each)\n"
     ]
    }
   ],
   "source": [
    "if cuda.is_available():\n",
    "  print('Timing:')\n",
    "  %timeit -n1 -r5 simulate_hands_array_gpu_cuda(10**7, RNG)  # ~220 ms."
   ]
  },
  {
   "cell_type": "code",
   "execution_count": 28,
   "id": "ecb3f7ec-127e-4e85-9cab-655cb388312f",
   "metadata": {
    "execution": {
     "iopub.execute_input": "2025-01-06T16:12:26.533146Z",
     "iopub.status.busy": "2025-01-06T16:12:26.532815Z",
     "iopub.status.idle": "2025-01-06T16:12:26.538749Z",
     "shell.execute_reply": "2025-01-06T16:12:26.538031Z",
     "shell.execute_reply.started": "2025-01-06T16:12:26.533131Z"
    }
   },
   "outputs": [
    {
     "name": "stdout",
     "output_type": "stream",
     "text": [
      "const_mem_size = 0\n",
      "local_mem_per_thread = 0\n",
      "max_threads_per_block = 1024\n",
      "regs_per_thread = 36\n",
      "shared_mem_per_block = 28240\n"
     ]
    }
   ],
   "source": [
    "if cuda.is_available():\n",
    "  write_cuda_kernel_assembly_code(gpu_array, 'gpu_array.ptx')\n",
    "  report_cuda_kernel_properties(gpu_array)"
   ]
  },
  {
   "cell_type": "markdown",
   "id": "61f636ef-f944-4edc-8d8f-1c88ebbd9c0e",
   "metadata": {
    "lines_to_next_cell": 2
   },
   "source": [
    "## Approach 2: bitmasks"
   ]
  },
  {
   "cell_type": "code",
   "execution_count": 29,
   "id": "3693e30a-038c-4bee-9763-012050a7a6e7",
   "metadata": {
    "execution": {
     "iopub.execute_input": "2025-01-06T16:12:26.540136Z",
     "iopub.status.busy": "2025-01-06T16:12:26.539642Z",
     "iopub.status.idle": "2025-01-06T16:12:26.546005Z",
     "shell.execute_reply": "2025-01-06T16:12:26.545203Z",
     "shell.execute_reply.started": "2025-01-06T16:12:26.540114Z"
    }
   },
   "outputs": [],
   "source": [
    "# Thanks to Marcel Gavriliu for this approach of storing card bitmasks and summing them."
   ]
  },
  {
   "cell_type": "code",
   "execution_count": 57,
   "id": "2468db55-9dba-47da-99bf-c992cd446d44",
   "metadata": {
    "execution": {
     "iopub.execute_input": "2025-01-06T18:42:45.200183Z",
     "iopub.status.busy": "2025-01-06T18:42:45.199878Z",
     "iopub.status.idle": "2025-01-06T18:42:45.203335Z",
     "shell.execute_reply": "2025-01-06T18:42:45.202623Z",
     "shell.execute_reply.started": "2025-01-06T18:42:45.200167Z"
    }
   },
   "outputs": [],
   "source": [
    "CARD_COUNT_BITS = 3  # We use 3 bits to encode 0-7 cards for both ranks and suits.\n",
    "RANKS_ONE = 0b_001_001_001_001_001_001_001_001_001_001_001_001_001\n",
    "RANKS_TWO = RANKS_ONE << 1\n",
    "RANKS_FOUR = RANKS_ONE << 2\n",
    "ROYAL_STRAIGHT_RANK_MASK = 0b_001_001_001_001_001_000_000_000_000_000_000_000_000\n",
    "SUITS_ONE = 0b_001_001_001_001"
   ]
  },
  {
   "cell_type": "code",
   "execution_count": 58,
   "id": "eec21c55-97da-4226-87bb-cf9e66607b59",
   "metadata": {
    "execution": {
     "iopub.execute_input": "2025-01-06T18:42:45.419183Z",
     "iopub.status.busy": "2025-01-06T18:42:45.418672Z",
     "iopub.status.idle": "2025-01-06T18:42:45.422446Z",
     "shell.execute_reply": "2025-01-06T18:42:45.421760Z",
     "shell.execute_reply.started": "2025-01-06T18:42:45.419168Z"
    }
   },
   "outputs": [],
   "source": [
    "assert RANKS_ONE == int(sum((2**CARD_COUNT_BITS) ** np.arange(NUM_RANKS, dtype=np.uint64)))\n",
    "assert SUITS_ONE == int(sum((2**CARD_COUNT_BITS) ** np.arange(NUM_SUITS, dtype=np.uint64)))\n",
    "assert ROYAL_STRAIGHT_RANK_MASK == int(\n",
    "    sum(8 ** np.arange(NUM_RANKS - CARDS_FOR_A_STRAIGHT, NUM_RANKS, dtype=np.uint64))\n",
    ")"
   ]
  },
  {
   "cell_type": "code",
   "execution_count": 59,
   "id": "06c3ecd6-0b71-4ecd-96af-55eddf56d3ac",
   "metadata": {
    "execution": {
     "iopub.execute_input": "2025-01-06T18:42:45.570124Z",
     "iopub.status.busy": "2025-01-06T18:42:45.569670Z",
     "iopub.status.idle": "2025-01-06T18:42:45.573270Z",
     "shell.execute_reply": "2025-01-06T18:42:45.572788Z",
     "shell.execute_reply.started": "2025-01-06T18:42:45.570104Z"
    }
   },
   "outputs": [],
   "source": [
    "def create_table_mask_of_card():\n",
    "  lst = [\n",
    "      (1 << (CARD_COUNT_BITS * (NUM_RANKS + suit))) | (1 << (CARD_COUNT_BITS * rank))\n",
    "      for suit in range(NUM_SUITS)\n",
    "      for rank in range(NUM_RANKS)\n",
    "  ]\n",
    "  return np.array(lst, np.uint64)"
   ]
  },
  {
   "cell_type": "code",
   "execution_count": 60,
   "id": "a580f2ec-81c0-45d4-8a71-a377c2f49d24",
   "metadata": {
    "execution": {
     "iopub.execute_input": "2025-01-06T18:42:45.765402Z",
     "iopub.status.busy": "2025-01-06T18:42:45.764926Z",
     "iopub.status.idle": "2025-01-06T18:42:45.768028Z",
     "shell.execute_reply": "2025-01-06T18:42:45.767517Z",
     "shell.execute_reply.started": "2025-01-06T18:42:45.765385Z"
    }
   },
   "outputs": [],
   "source": [
    "# Table of 52 uint64, each the \"(4 + 13) * 3\"-bit mask encoding of the suit and rank of a card.\n",
    "TABLE_MASK_OF_CARD = create_table_mask_of_card()"
   ]
  },
  {
   "cell_type": "code",
   "execution_count": 61,
   "id": "2b3f6172-5fb2-4f08-b6c8-3460d7a36f23",
   "metadata": {
    "execution": {
     "iopub.execute_input": "2025-01-06T18:42:45.941329Z",
     "iopub.status.busy": "2025-01-06T18:42:45.940802Z",
     "iopub.status.idle": "2025-01-06T18:42:45.944138Z",
     "shell.execute_reply": "2025-01-06T18:42:45.943575Z",
     "shell.execute_reply.started": "2025-01-06T18:42:45.941314Z"
    }
   },
   "outputs": [],
   "source": [
    "def create_table_straights_rank_mask():\n",
    "  lst = [0b_001_001_001_001_001 << (i * 3) for i in range(9)]  # '23456' to 'TJQKA'.\n",
    "  lst.append(0b_001_000_000_000_000_000_000_000_000_001_001_001_001)  # '2345A'.\n",
    "  return np.array(lst, np.uint64)"
   ]
  },
  {
   "cell_type": "code",
   "execution_count": 62,
   "id": "97639df3-a4ac-40c8-9329-15901d622de9",
   "metadata": {
    "execution": {
     "iopub.execute_input": "2025-01-06T18:42:46.127362Z",
     "iopub.status.busy": "2025-01-06T18:42:46.126997Z",
     "iopub.status.idle": "2025-01-06T18:42:46.130002Z",
     "shell.execute_reply": "2025-01-06T18:42:46.129492Z",
     "shell.execute_reply.started": "2025-01-06T18:42:46.127346Z"
    },
    "lines_to_next_cell": 2
   },
   "outputs": [],
   "source": [
    "# Table of 10 uint64, each the \"13 * 3\"-bit mask encoding of ranks in straight.\n",
    "TABLE_STRAIGHTS_RANK_MASK = create_table_straights_rank_mask()"
   ]
  },
  {
   "cell_type": "code",
   "execution_count": 63,
   "id": "14895b1d-94e0-4ef7-a3b2-fbf687ff5af1",
   "metadata": {
    "execution": {
     "iopub.execute_input": "2025-01-06T18:42:46.499225Z",
     "iopub.status.busy": "2025-01-06T18:42:46.498848Z",
     "iopub.status.idle": "2025-01-06T18:42:46.501714Z",
     "shell.execute_reply": "2025-01-06T18:42:46.501218Z",
     "shell.execute_reply.started": "2025-01-06T18:42:46.499210Z"
    },
    "lines_to_next_cell": 2
   },
   "outputs": [],
   "source": [
    "# Move TABLE_MASK_OF_CARD into shared memory??\n",
    "# Try using THREADS_PER_BLOCK + 1 on block_tally??\n",
    "# Try using np.int32 on block_deck??"
   ]
  },
  {
   "cell_type": "code",
   "execution_count": 64,
   "id": "e71f606e-973e-4e47-9904-e7ecd9b5ef79",
   "metadata": {
    "execution": {
     "iopub.execute_input": "2025-01-06T18:42:46.999040Z",
     "iopub.status.busy": "2025-01-06T18:42:46.998667Z",
     "iopub.status.idle": "2025-01-06T18:42:47.002545Z",
     "shell.execute_reply": "2025-01-06T18:42:47.002054Z",
     "shell.execute_reply.started": "2025-01-06T18:42:46.999026Z"
    }
   },
   "outputs": [],
   "source": [
    "@numba.jit\n",
    "def determine_straight(rank_count_mask):\n",
    "  m = rank_count_mask\n",
    "  t = TABLE_STRAIGHTS_RANK_MASK\n",
    "  assert len(t) == 10\n",
    "  result = (m == t[0]) | (m == t[1]) | (m == t[2]) | (m == t[3]) | (m == t[4])\n",
    "  result |= (m == t[5]) | (m == t[6]) | (m == t[7]) | (m == t[8]) | (m == t[9])\n",
    "  return result"
   ]
  },
  {
   "cell_type": "code",
   "execution_count": 65,
   "id": "bfbe62e2-c3e7-477a-8464-aa0d6f533ac0",
   "metadata": {
    "execution": {
     "iopub.execute_input": "2025-01-06T18:42:47.379292Z",
     "iopub.status.busy": "2025-01-06T18:42:47.378754Z",
     "iopub.status.idle": "2025-01-06T18:42:47.383771Z",
     "shell.execute_reply": "2025-01-06T18:42:47.383171Z",
     "shell.execute_reply.started": "2025-01-06T18:42:47.379273Z"
    }
   },
   "outputs": [],
   "source": [
    "@numba.jit\n",
    "def outcome_of_hand_bitmask(bitmask_sum):\n",
    "  \"\"\"Evaluate 5-card poker hand and return outcome ranking, using sum of card bitmasks.\"\"\"\n",
    "  # pylint: disable=too-many-function-args\n",
    "  suit_count_mask = numba.uint32(bitmask_sum >> CARD_COUNT_BITS * NUM_RANKS)\n",
    "  rank_count_mask = numba.uint64(bitmask_sum & (2 ** (CARD_COUNT_BITS * NUM_RANKS) - 1))\n",
    "\n",
    "  is_flush = cuda.popc(numba.uint32(suit_count_mask & (suit_count_mask >> 2) & SUITS_ONE)) != 0\n",
    "  is_straight = determine_straight(rank_count_mask)\n",
    "  is_four = (rank_count_mask & RANKS_FOUR) != 0\n",
    "  is_three = ((rank_count_mask + RANKS_ONE) & RANKS_FOUR) != 0\n",
    "  mask_two_or_more = rank_count_mask & RANKS_TWO\n",
    "  num_two_or_more = numba.uint32(cuda.popc(mask_two_or_more))  # Count number of set bits.\n",
    "\n",
    "  if is_flush and is_straight:\n",
    "    if rank_count_mask == ROYAL_STRAIGHT_RANK_MASK:\n",
    "      return Outcome.ROYAL_FLUSH.value\n",
    "    return Outcome.STRAIGHT_FLUSH.value\n",
    "  if is_four:\n",
    "    return Outcome.FOUR_OF_A_KIND.value\n",
    "  if is_three and num_two_or_more > 1:\n",
    "    return Outcome.FULL_HOUSE.value\n",
    "  if is_flush:\n",
    "    return Outcome.FLUSH.value\n",
    "  if is_straight:\n",
    "    return Outcome.STRAIGHT.value\n",
    "  if is_three:\n",
    "    return Outcome.THREE_OF_A_KIND.value\n",
    "  if num_two_or_more == 2:\n",
    "    return Outcome.TWO_PAIR.value\n",
    "  if num_two_or_more == 1:\n",
    "    return Outcome.ONE_PAIR.value\n",
    "  return Outcome.HIGH_CARD.value"
   ]
  },
  {
   "cell_type": "code",
   "execution_count": 66,
   "id": "42caff11-bd2b-4b6b-870c-1e94eed26b6d",
   "metadata": {
    "execution": {
     "iopub.execute_input": "2025-01-06T18:42:48.459130Z",
     "iopub.status.busy": "2025-01-06T18:42:48.458777Z",
     "iopub.status.idle": "2025-01-06T18:42:48.465259Z",
     "shell.execute_reply": "2025-01-06T18:42:48.464699Z",
     "shell.execute_reply.started": "2025-01-06T18:42:48.459115Z"
    }
   },
   "outputs": [],
   "source": [
    "@cuda.jit\n",
    "def gpu_bitmask(rng_states, num_decks_per_thread, global_tally):\n",
    "  # pylint: disable=too-many-function-args, no-value-for-parameter, comparison-with-callable\n",
    "  thread_index = cuda.grid(1)\n",
    "  if thread_index >= len(rng_states):\n",
    "    return\n",
    "\n",
    "  thread_id = cuda.threadIdx.x  # Index within block.\n",
    "  block_tally = cuda.shared.array((THREADS_PER_BLOCK, NUM_OUTCOMES), np.int32)\n",
    "  block_deck = cuda.shared.array((THREADS_PER_BLOCK, DECK_SIZE), np.uint8)\n",
    "  tally = block_tally[thread_id]\n",
    "  deck = block_deck[thread_id]\n",
    "\n",
    "  tally[:] = 0\n",
    "  for i in range(numba.uint8(DECK_SIZE)):  # Casting as uint8 nicely unrolls the loop.\n",
    "    deck[i] = i\n",
    "\n",
    "  rng = rng_states[thread_index]\n",
    "  s0, s1, s2, s3 = rng['s0'], rng['s1'], rng['s2'], rng['s3']\n",
    "\n",
    "  for _ in range(np.int32(num_decks_per_thread)):\n",
    "    # Apply Fisher-Yates shuffle to current deck.\n",
    "    for i in range(numba.int32(51), numba.int32(0), numba.int32(-1)):\n",
    "      random_uint32, s0, s1, s2, s3 = random32.xoshiro128p_next_raw(s0, s1, s2, s3)\n",
    "      s0, s1, s2, s3 = numba.uint32(s0), numba.uint32(s1), numba.uint32(s2), numba.uint32(s3)\n",
    "      j = random_uint32 % numba.uint32(i + 1)\n",
    "      deck[i], deck[j] = deck[j], deck[i]\n",
    "\n",
    "    MASK = cuda.const.array_like(TABLE_MASK_OF_CARD)\n",
    "    mask0, mask1, mask2, mask3 = MASK[deck[0]], MASK[deck[1]], MASK[deck[2]], MASK[deck[3]]\n",
    "    bitmask_sum = mask0 + mask1 + mask2 + mask3\n",
    "\n",
    "    for hand_index in range(np.int32(HANDS_PER_DECK)):\n",
    "      mask4 = MASK[deck[hand_index + 4]]\n",
    "      bitmask_sum += mask4\n",
    "      outcome = numba.int32(outcome_of_hand_bitmask(bitmask_sum))\n",
    "      tally[outcome] += 1\n",
    "      bitmask_sum -= mask0\n",
    "      mask0, mask1, mask2, mask3 = mask1, mask2, mask3, mask4\n",
    "\n",
    "  # First accumulate a per-block tally, then accumulate that tally into the global tally.\n",
    "  shared_tally = cuda.shared.array(NUM_OUTCOMES, np.int64)  # Per-block intermediate tally.\n",
    "  if thread_id == 0:\n",
    "    shared_tally[:] = 0\n",
    "  cuda.syncthreads()\n",
    "\n",
    "  # Each thread adds its local results to shared memory.\n",
    "  for i in range(NUM_OUTCOMES):\n",
    "    cuda.atomic.add(shared_tally, i, tally[i])\n",
    "    cuda.syncthreads()\n",
    "\n",
    "  if thread_id == 0:\n",
    "    for i in range(NUM_OUTCOMES):\n",
    "      cuda.atomic.add(global_tally, i, shared_tally[i])"
   ]
  },
  {
   "cell_type": "code",
   "execution_count": 67,
   "id": "4133487b-134a-4358-8518-c5979efc9acd",
   "metadata": {
    "execution": {
     "iopub.execute_input": "2025-01-06T18:42:49.529279Z",
     "iopub.status.busy": "2025-01-06T18:42:49.528806Z",
     "iopub.status.idle": "2025-01-06T18:42:49.532952Z",
     "shell.execute_reply": "2025-01-06T18:42:49.532418Z",
     "shell.execute_reply.started": "2025-01-06T18:42:49.529261Z"
    }
   },
   "outputs": [],
   "source": [
    "def simulate_hands_mask_gpu_cuda(num_decks, rng):\n",
    "  device = cuda.get_current_device()\n",
    "  # Target enough threads for ~4 blocks per SM.\n",
    "  target_num_threads = 4 * device.MULTIPROCESSOR_COUNT * THREADS_PER_BLOCK\n",
    "  num_decks_per_thread = max(1, num_decks // target_num_threads)\n",
    "  num_threads = num_decks // num_decks_per_thread\n",
    "  # print(f'{num_decks_per_thread=} {num_threads=}')\n",
    "  blocks = math.ceil(num_threads / THREADS_PER_BLOCK)\n",
    "  seed = rng.integers(2**64, dtype=np.uint64)\n",
    "  d_rng_states = random_create_states(num_threads, seed)\n",
    "  d_global_tally = cuda.to_device(np.zeros(NUM_OUTCOMES, np.int64))\n",
    "  gpu_bitmask[blocks, THREADS_PER_BLOCK](d_rng_states, num_decks_per_thread, d_global_tally)\n",
    "  return d_global_tally.copy_to_host() / (num_threads * num_decks_per_thread * HANDS_PER_DECK)"
   ]
  },
  {
   "cell_type": "code",
   "execution_count": 83,
   "id": "2fe1fec3-f262-410f-938e-5fc22ad13727",
   "metadata": {
    "execution": {
     "iopub.execute_input": "2025-01-06T18:50:19.006825Z",
     "iopub.status.busy": "2025-01-06T18:50:19.006479Z",
     "iopub.status.idle": "2025-01-06T18:50:19.010320Z",
     "shell.execute_reply": "2025-01-06T18:50:19.009726Z",
     "shell.execute_reply.started": "2025-01-06T18:50:19.006803Z"
    }
   },
   "outputs": [],
   "source": [
    "# simulate_poker_hands(10**7, 'mask_gpu_cuda', simulate_hands_mask_gpu_cuda)"
   ]
  },
  {
   "cell_type": "code",
   "execution_count": 56,
   "id": "958981de-2fde-480b-a15e-b761255c37c9",
   "metadata": {
    "execution": {
     "iopub.execute_input": "2025-01-06T18:39:46.403236Z",
     "iopub.status.busy": "2025-01-06T18:39:46.402648Z",
     "iopub.status.idle": "2025-01-06T18:39:46.532414Z",
     "shell.execute_reply": "2025-01-06T18:39:46.531770Z",
     "shell.execute_reply.started": "2025-01-06T18:39:46.403216Z"
    }
   },
   "outputs": [],
   "source": [
    "if cuda.is_available():\n",
    "  assert np.allclose(simulate_hands_mask_gpu_cuda(10**7, RNG), EXPECTED_PROB, atol=0.0001)"
   ]
  },
  {
   "cell_type": "code",
   "execution_count": 42,
   "id": "f3d4a20b-0082-4e4c-b752-6bacb0502053",
   "metadata": {
    "execution": {
     "iopub.execute_input": "2025-01-06T16:12:27.482108Z",
     "iopub.status.busy": "2025-01-06T16:12:27.481885Z",
     "iopub.status.idle": "2025-01-06T16:12:27.923537Z",
     "shell.execute_reply": "2025-01-06T16:12:27.922851Z",
     "shell.execute_reply.started": "2025-01-06T16:12:27.482095Z"
    }
   },
   "outputs": [
    {
     "name": "stdout",
     "output_type": "stream",
     "text": [
      "Timing:\n",
      "87.5 ms ± 3.14 ms per loop (mean ± std. dev. of 5 runs, 1 loop each)\n"
     ]
    }
   ],
   "source": [
    "if cuda.is_available():\n",
    "  print('Timing:')\n",
    "  %timeit -n1 -r5 simulate_hands_mask_gpu_cuda(10**7, RNG)  # ~50-100 ms."
   ]
  },
  {
   "cell_type": "code",
   "execution_count": 43,
   "id": "eb27c7ae-beb4-4cb0-a28f-8f520e2870c3",
   "metadata": {
    "execution": {
     "iopub.execute_input": "2025-01-06T16:12:27.924631Z",
     "iopub.status.busy": "2025-01-06T16:12:27.924258Z",
     "iopub.status.idle": "2025-01-06T16:12:27.929954Z",
     "shell.execute_reply": "2025-01-06T16:12:27.929413Z",
     "shell.execute_reply.started": "2025-01-06T16:12:27.924614Z"
    }
   },
   "outputs": [
    {
     "name": "stdout",
     "output_type": "stream",
     "text": [
      "const_mem_size = 416\n",
      "local_mem_per_thread = 0\n",
      "max_threads_per_block = 1024\n",
      "regs_per_thread = 34\n",
      "shared_mem_per_block = 23632\n"
     ]
    }
   ],
   "source": [
    "if cuda.is_available():\n",
    "  write_cuda_kernel_assembly_code(gpu_bitmask, 'gpu_bitmask.ptx')\n",
    "  report_cuda_kernel_properties(gpu_bitmask)"
   ]
  },
  {
   "cell_type": "markdown",
   "id": "d2bc4755-cde2-4223-80f0-5b02fc49a389",
   "metadata": {},
   "source": [
    "## Results"
   ]
  },
  {
   "cell_type": "code",
   "execution_count": 78,
   "id": "940da643-485f-4416-8020-0651a5eb867f",
   "metadata": {
    "execution": {
     "iopub.execute_input": "2025-01-06T18:49:47.083030Z",
     "iopub.status.busy": "2025-01-06T18:49:47.082673Z",
     "iopub.status.idle": "2025-01-06T18:49:47.086481Z",
     "shell.execute_reply": "2025-01-06T18:49:47.085901Z",
     "shell.execute_reply.started": "2025-01-06T18:49:47.083015Z"
    }
   },
   "outputs": [],
   "source": [
    "SIMULATE_FUNCTIONS = {\n",
    "    name: func\n",
    "    for name, func in {\n",
    "        'array_cpu_python': simulate_hands_array_cpu_python,\n",
    "        'array_cpu_numba': simulate_hands_array_cpu_numba,\n",
    "        'array_cpu_numba_multiprocess': simulate_hands_array_cpu_numba_multiprocess,\n",
    "        'array_gpu_cuda': simulate_hands_array_gpu_cuda,\n",
    "        'mask_gpu_cuda': simulate_hands_mask_gpu_cuda,\n",
    "    }.items()\n",
    "    if ('multiprocess' not in name or MULTIPROCESS_IS_AVAILABLE)\n",
    "    and ('cuda' not in name or cuda.is_available())\n",
    "}"
   ]
  },
  {
   "cell_type": "code",
   "execution_count": 79,
   "id": "92bde0ec-7f24-4f13-b350-cc413094ab11",
   "metadata": {
    "execution": {
     "iopub.execute_input": "2025-01-06T18:49:47.264468Z",
     "iopub.status.busy": "2025-01-06T18:49:47.264038Z",
     "iopub.status.idle": "2025-01-06T18:49:47.267071Z",
     "shell.execute_reply": "2025-01-06T18:49:47.266593Z",
     "shell.execute_reply.started": "2025-01-06T18:49:47.264454Z"
    }
   },
   "outputs": [],
   "source": [
    "COMPLEXITY_ADJUSTMENT = {\n",
    "    'array_cpu_python': 0.01,\n",
    "    'array_cpu_numba': 2.0,\n",
    "    'array_cpu_numba_multiprocess': 20.0,\n",
    "    'array_gpu_cuda': 100.0,\n",
    "    'mask_gpu_cuda': 100.0,\n",
    "}"
   ]
  },
  {
   "cell_type": "code",
   "execution_count": 80,
   "id": "e7bd410e-681f-499c-b2bf-8303c7146423",
   "metadata": {
    "execution": {
     "iopub.execute_input": "2025-01-06T18:49:47.489042Z",
     "iopub.status.busy": "2025-01-06T18:49:47.488661Z",
     "iopub.status.idle": "2025-01-06T18:49:47.493210Z",
     "shell.execute_reply": "2025-01-06T18:49:47.492702Z",
     "shell.execute_reply.started": "2025-01-06T18:49:47.489027Z"
    }
   },
   "outputs": [],
   "source": [
    "def simulate_poker_hands(desired_num_hands, func_name, func):\n",
    "  num_decks = math.ceil(desired_num_hands / HANDS_PER_DECK)\n",
    "  num_hands = num_decks * HANDS_PER_DECK\n",
    "  print(f'\\nFor {func_name} simulating {num_hands:,} hands:')\n",
    "\n",
    "  # Ensure the function is jitted.\n",
    "  _ = func(int(100_000 * COMPLEXITY_ADJUSTMENT[func_name]), RNG)\n",
    "\n",
    "  start_time = time.perf_counter_ns()\n",
    "  results = func(num_decks, RNG)\n",
    "  elapsed_time = (time.perf_counter_ns() - start_time) / 10**9\n",
    "\n",
    "  round_digits = lambda x, ndigits=3: round(x, ndigits - 1 - math.floor(math.log10(abs(x))))\n",
    "  hands_per_s = round_digits(int(num_hands / elapsed_time))\n",
    "  print(f' Elapsed time is {elapsed_time:.3f} s, or {hands_per_s:,} hands/s.')\n",
    "\n",
    "  print(' Probabilities:')\n",
    "  for outcome, result_prob in zip(Outcome, results):\n",
    "    reference_prob = outcome.reference_count / comb(DECK_SIZE, HAND_SIZE)\n",
    "    error = result_prob - reference_prob\n",
    "    s = f'  {outcome.string_name:<16}: {result_prob * 100:8.5f}%'\n",
    "    s += f'  (vs. reference {reference_prob * 100:8.5f}%  error:{error * 100:8.5f}%)'\n",
    "    print(s)"
   ]
  },
  {
   "cell_type": "code",
   "execution_count": 81,
   "id": "e935c8b8-a126-4a4f-ae08-bbba8d6a80b4",
   "metadata": {
    "execution": {
     "iopub.execute_input": "2025-01-06T18:49:47.627032Z",
     "iopub.status.busy": "2025-01-06T18:49:47.626671Z",
     "iopub.status.idle": "2025-01-06T18:49:47.630015Z",
     "shell.execute_reply": "2025-01-06T18:49:47.629469Z",
     "shell.execute_reply.started": "2025-01-06T18:49:47.627018Z"
    }
   },
   "outputs": [],
   "source": [
    "def compare_simulations(base_num_hands):\n",
    "  for func_name, func in SIMULATE_FUNCTIONS.items():\n",
    "    desired_num_hands = math.ceil(base_num_hands * COMPLEXITY_ADJUSTMENT[func_name])\n",
    "    simulate_poker_hands(desired_num_hands, func_name, func)"
   ]
  },
  {
   "cell_type": "code",
   "execution_count": 82,
   "id": "ca0e7a67-ca73-4e8f-b584-9368daefeb7e",
   "metadata": {
    "execution": {
     "iopub.execute_input": "2025-01-06T18:49:48.325325Z",
     "iopub.status.busy": "2025-01-06T18:49:48.324978Z",
     "iopub.status.idle": "2025-01-06T18:49:51.943062Z",
     "shell.execute_reply": "2025-01-06T18:49:51.942240Z",
     "shell.execute_reply.started": "2025-01-06T18:49:48.325311Z"
    }
   },
   "outputs": [
    {
     "name": "stdout",
     "output_type": "stream",
     "text": [
      "\n",
      "For array_cpu_python simulating 100,032 hands:\n",
      " Elapsed time is 0.734 s, or 136,000 hands/s.\n",
      " Probabilities:\n",
      "  Royal flush     :  0.00000%  (vs. reference  0.00015%  error:-0.00015%)\n",
      "  Straight flush  :  0.00000%  (vs. reference  0.00139%  error:-0.00139%)\n",
      "  Four of a kind  :  0.01000%  (vs. reference  0.02401%  error:-0.01401%)\n",
      "  Full house      :  0.11996%  (vs. reference  0.14406%  error:-0.02410%)\n",
      "  Flush           :  0.14995%  (vs. reference  0.19654%  error:-0.04659%)\n",
      "  Straight        :  0.39387%  (vs. reference  0.39246%  error: 0.00141%)\n",
      "  Three of a kind :  2.51919%  (vs. reference  2.11285%  error: 0.40635%)\n",
      "  Two pair        :  4.71849%  (vs. reference  4.75390%  error:-0.03541%)\n",
      "  One pair        : 41.73864%  (vs. reference 42.25690%  error:-0.51826%)\n",
      "  High card       : 50.34989%  (vs. reference 50.11774%  error: 0.23215%)\n",
      "\n",
      "For array_cpu_numba simulating 20,000,016 hands:\n",
      " Elapsed time is 0.616 s, or 32,500,000 hands/s.\n",
      " Probabilities:\n",
      "  Royal flush     :  0.00035%  (vs. reference  0.00015%  error: 0.00020%)\n",
      "  Straight flush  :  0.00155%  (vs. reference  0.00139%  error: 0.00016%)\n",
      "  Four of a kind  :  0.02260%  (vs. reference  0.02401%  error:-0.00141%)\n",
      "  Full house      :  0.14715%  (vs. reference  0.14406%  error: 0.00309%)\n",
      "  Flush           :  0.19240%  (vs. reference  0.19654%  error:-0.00414%)\n",
      "  Straight        :  0.39510%  (vs. reference  0.39246%  error: 0.00264%)\n",
      "  Three of a kind :  2.10227%  (vs. reference  2.11285%  error:-0.01058%)\n",
      "  Two pair        :  4.77821%  (vs. reference  4.75390%  error: 0.02430%)\n",
      "  One pair        : 42.28170%  (vs. reference 42.25690%  error: 0.02479%)\n",
      "  High card       : 50.07868%  (vs. reference 50.11774%  error:-0.03906%)\n",
      "\n",
      "For array_cpu_numba_multiprocess simulating 200,000,016 hands:\n",
      " Elapsed time is 0.553 s, or 362,000,000 hands/s.\n",
      " Probabilities:\n",
      "  Royal flush     :  0.00024%  (vs. reference  0.00015%  error: 0.00009%)\n",
      "  Straight flush  :  0.00120%  (vs. reference  0.00139%  error:-0.00019%)\n",
      "  Four of a kind  :  0.02196%  (vs. reference  0.02401%  error:-0.00205%)\n",
      "  Full house      :  0.14832%  (vs. reference  0.14406%  error: 0.00426%)\n",
      "  Flush           :  0.19128%  (vs. reference  0.19654%  error:-0.00526%)\n",
      "  Straight        :  0.39936%  (vs. reference  0.39246%  error: 0.00689%)\n",
      "  Three of a kind :  2.12147%  (vs. reference  2.11285%  error: 0.00862%)\n",
      "  Two pair        :  4.77002%  (vs. reference  4.75390%  error: 0.01612%)\n",
      "  One pair        : 42.20321%  (vs. reference 42.25690%  error:-0.05369%)\n",
      "  High card       : 50.14294%  (vs. reference 50.11774%  error: 0.02520%)\n",
      "\n",
      "For array_gpu_cuda simulating 1,000,000,032 hands:\n",
      " Elapsed time is 0.368 s, or 2,720,000,000 hands/s.\n",
      " Probabilities:\n",
      "  Royal flush     :  0.00015%  (vs. reference  0.00015%  error:-0.00000%)\n",
      "  Straight flush  :  0.00139%  (vs. reference  0.00139%  error: 0.00000%)\n",
      "  Four of a kind  :  0.02393%  (vs. reference  0.02401%  error:-0.00008%)\n",
      "  Full house      :  0.14395%  (vs. reference  0.14406%  error:-0.00011%)\n",
      "  Flush           :  0.19678%  (vs. reference  0.19654%  error: 0.00024%)\n",
      "  Straight        :  0.39265%  (vs. reference  0.39246%  error: 0.00019%)\n",
      "  Three of a kind :  2.11245%  (vs. reference  2.11285%  error:-0.00039%)\n",
      "  Two pair        :  4.75516%  (vs. reference  4.75390%  error: 0.00126%)\n",
      "  One pair        : 42.25617%  (vs. reference 42.25690%  error:-0.00073%)\n",
      "  High card       : 50.11737%  (vs. reference 50.11774%  error:-0.00037%)\n",
      "\n",
      "For mask_gpu_cuda simulating 1,000,000,032 hands:\n",
      " Elapsed time is 0.115 s, or 8,670,000,000 hands/s.\n",
      " Probabilities:\n",
      "  Royal flush     :  0.00015%  (vs. reference  0.00015%  error:-0.00000%)\n",
      "  Straight flush  :  0.00139%  (vs. reference  0.00139%  error: 0.00000%)\n",
      "  Four of a kind  :  0.02392%  (vs. reference  0.02401%  error:-0.00008%)\n",
      "  Full house      :  0.14396%  (vs. reference  0.14406%  error:-0.00010%)\n",
      "  Flush           :  0.19643%  (vs. reference  0.19654%  error:-0.00011%)\n",
      "  Straight        :  0.39233%  (vs. reference  0.39246%  error:-0.00014%)\n",
      "  Three of a kind :  2.11103%  (vs. reference  2.11285%  error:-0.00181%)\n",
      "  Two pair        :  4.75402%  (vs. reference  4.75390%  error: 0.00012%)\n",
      "  One pair        : 42.25773%  (vs. reference 42.25690%  error: 0.00083%)\n",
      "  High card       : 50.11902%  (vs. reference 50.11774%  error: 0.00128%)\n"
     ]
    }
   ],
   "source": [
    "compare_simulations(base_num_hands=10**7)"
   ]
  },
  {
   "cell_type": "code",
   "execution_count": 49,
   "id": "4ef83cc9-da12-486c-b9f5-dc8f644304d6",
   "metadata": {
    "execution": {
     "iopub.execute_input": "2025-01-06T16:12:31.780319Z",
     "iopub.status.busy": "2025-01-06T16:12:31.780046Z",
     "iopub.status.idle": "2025-01-06T16:12:31.783350Z",
     "shell.execute_reply": "2025-01-06T16:12:31.782798Z",
     "shell.execute_reply.started": "2025-01-06T16:12:31.780300Z"
    }
   },
   "outputs": [],
   "source": [
    "# 135k, 33m, 350m, 2200-3400m, 6000m-7200m"
   ]
  },
  {
   "cell_type": "code",
   "execution_count": 87,
   "id": "4e2c58e2-5b87-4232-a96e-10e2773625cb",
   "metadata": {
    "execution": {
     "iopub.execute_input": "2025-01-06T18:58:58.012837Z",
     "iopub.status.busy": "2025-01-06T18:58:58.012462Z",
     "iopub.status.idle": "2025-01-06T18:58:58.015881Z",
     "shell.execute_reply": "2025-01-06T18:58:58.015096Z",
     "shell.execute_reply.started": "2025-01-06T18:58:58.012812Z"
    }
   },
   "outputs": [],
   "source": [
    "if 0:\n",
    "  simulate_poker_hands(10**12, 'mask_gpu_cuda', simulate_hands_mask_gpu_cuda)"
   ]
  },
  {
   "cell_type": "code",
   "execution_count": null,
   "id": "628c75a6-c775-46f7-83ff-8baa85a685f2",
   "metadata": {},
   "outputs": [],
   "source": [
    "# For mask_gpu_cuda simulating 1,000,000,000,032 hands:\n",
    "#  Elapsed time is 94.600 s, or 10,600,000,000 hands/s.\n",
    "#  Probabilities:\n",
    "#   Royal flush     :  0.00015%  (vs. reference  0.00015%  error: 0.00000%)\n",
    "#   Straight flush  :  0.00138%  (vs. reference  0.00139%  error:-0.00000%)\n",
    "#   Four of a kind  :  0.02401%  (vs. reference  0.02401%  error: 0.00000%)\n",
    "#   Full house      :  0.14406%  (vs. reference  0.14406%  error: 0.00001%)\n",
    "#   Flush           :  0.19654%  (vs. reference  0.19654%  error:-0.00000%)\n",
    "#   Straight        :  0.39245%  (vs. reference  0.39246%  error:-0.00001%)\n",
    "#   Three of a kind :  2.11288%  (vs. reference  2.11285%  error: 0.00003%)\n",
    "#   Two pair        :  4.75395%  (vs. reference  4.75390%  error: 0.00005%)\n",
    "#   One pair        : 42.25697%  (vs. reference 42.25690%  error: 0.00007%)\n",
    "#   High card       : 50.11760%  (vs. reference 50.11774%  error:-0.00014%)"
   ]
  },
  {
   "cell_type": "markdown",
   "id": "53b10704-3a4b-4b0e-b0ac-711b2afed9bd",
   "metadata": {},
   "source": [
    "## End"
   ]
  }
 ],
 "metadata": {
  "colab": {
   "collapsed_sections": [],
   "provenance": [],
   "toc_visible": true
  },
  "jupytext": {
   "cell_metadata_filter": "-all",
   "formats": "ipynb,py:percent",
   "main_language": "python",
   "notebook_metadata_filter": "-all"
  },
  "kernelspec": {
   "display_name": "Python 3 (ipykernel)",
   "language": "python",
   "name": "python3"
  },
  "language_info": {
   "codemirror_mode": {
    "name": "ipython",
    "version": 3
   },
   "file_extension": ".py",
   "mimetype": "text/x-python",
   "name": "python",
   "nbconvert_exporter": "python",
   "pygments_lexer": "ipython3",
   "version": "3.10.12"
  }
 },
 "nbformat": 4,
 "nbformat_minor": 5
}
