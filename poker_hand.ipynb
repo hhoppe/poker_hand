{
 "cells": [
  {
   "cell_type": "markdown",
   "id": "f819c4f7",
   "metadata": {},
   "source": [
    "# Poker hand simulation\n",
    "\n",
    "This notebook is a simple testbed to experiment with Python acceleration using `numba` (CPU-jitted code) and `numba.cuda` (GPU CUDA-jitted code).\n",
    "\n",
    "We estimate poker hand probabilities using Monte Carlo simulation and compare results with known reference values.\n",
    "\n",
    "We compare execution speeds using Python, `numba`, `numba` with multiprocessing, and `numba.cuda`.\n",
    "\n",
    "Websites on which to run this notebook include:\n",
    "\n",
    "- [Open in Google Colab](https://colab.research.google.com/github/hhoppe/poker_hand/blob/main/poker_hand.ipynb), click on Runtime -> Change runtime type -> T4 GPU, and then Runtime -> Run all.\n",
    "\n",
    "- [Open in kaggle.com](https://www.kaggle.com/notebooks/welcome?src=https://github.com/hhoppe/poker_hand/blob/main/poker_hand.ipynb), click on Session options -> Accelerator -> GPU T4 x2 or P100, then Run All.\n",
    "\n",
    "- [Open in mybinder.org](https://mybinder.org/v2/gh/hhoppe/poker_hand/main?urlpath=lab/tree/poker_hand.ipynb).  Unfortunately, no GPU is available.\n",
    "\n",
    "- [Open in deepnote.com](https://deepnote.com/launch?url=https%3A%2F%2Fgithub.com%2Fhhoppe%2Fpoker_hand%2Fblob%2Fmain%2Fpoker_hand.ipynb).  Unfortunately, no GPU is available.\n",
    "\n",
    "Here are results:"
   ]
  },
  {
   "cell_type": "markdown",
   "id": "9d5d9096-b348-4ac2-a0f7-b1d0382e9fd8",
   "metadata": {},
   "source": [
    "<table style=\"margin-left: 0\">\n",
    "<tr>\n",
    "  <th>Platform</th>\n",
    "  <th style=\"text-align: center\">CPU<br>threads</th>\n",
    "  <th style=\"text-align: center\">GPU<br>type</th>\n",
    "  <th style=\"text-align: center\">CUDA<br>SMs</th>\n",
    "  <th colspan=\"4\">Simulation rate (hands/s)</th>\n",
    "</tr>\n",
    "<tr>\n",
    "  <th></th>\n",
    "  <th></th>\n",
    "  <th></th>\n",
    "  <th></th>\n",
    "  <th>Python</th>\n",
    "  <th>Numba</th>\n",
    "  <th>Multiprocess</th>\n",
    "  <th>CUDA</th>\n",
    "</tr>\n",
    "<tr>\n",
    "  <td><b>My PC</b> Win10</td>\n",
    "  <td style=\"text-align: center\">24</td>\n",
    "  <td style=\"text-align: center\">GeForce 3080 Ti</td>\n",
    "  <td style=\"text-align: center\">80</td>\n",
    "  <td style=\"text-align: right\">24,600</td>\n",
    "  <td style=\"text-align: right\">10,000,000</td>\n",
    "  <td style=\"text-align: right\">-</td>\n",
    "  <td style=\"text-align: right\">840,000,000</td>\n",
    "</tr>\n",
    "<tr>\n",
    "  <td><b>My PC</b> WSL2</td>\n",
    "  <td style=\"text-align: center\">24</td>\n",
    "  <td style=\"text-align: center\">GeForce 3080 Ti</td>\n",
    "  <td style=\"text-align: center\">80</td>\n",
    "  <td style=\"text-align: right\">116,000</td>\n",
    "  <td style=\"text-align: right\">7,390,000</td>\n",
    "  <td style=\"text-align: right\">81,500,000</td>\n",
    "  <td style=\"text-align: right\">780,000,000</td>\n",
    "</tr>\n",
    "<tr>\n",
    "  <td><b>Marcel PC</b> Win</td>\n",
    "  <td style=\"text-align: center\">24</td>\n",
    "  <td style=\"text-align: center\">Titan V</td>\n",
    "  <td style=\"text-align: center\">80</td>\n",
    "  <td style=\"text-align: right\">62,800</td>\n",
    "  <td style=\"text-align: right\">5,160,000</td>\n",
    "  <td style=\"text-align: right\">-</td>\n",
    "  <td style=\"text-align: right\">2,280,000,000</td>\n",
    "</tr><tr>\n",
    "  <td><a href=\"https://colab.research.google.com/github/hhoppe/poker_hand/blob/main/poker_hand.ipynb\"><b>Colab</b> T4</a></td>\n",
    "  <td style=\"text-align: center\">2</td>\n",
    "  <td style=\"text-align: center\">Tesla T4</td>\n",
    "  <td style=\"text-align: center\">40</td>\n",
    "  <td style=\"text-align: right\">14,500</td>\n",
    "  <td style=\"text-align: right\">3,980,000</td>\n",
    "  <td style=\"text-align: right\">4,270,000</td>\n",
    "  <td style=\"text-align: right\">1,660,000,000</td>\n",
    "</tr>\n",
    "<tr>\n",
    "  <td><a href=\"https://www.kaggle.com/notebooks/welcome?src=https://github.com/hhoppe/poker_hand/blob/main/poker_hand.ipynb\"><b>Kaggle</b> T4</a></td>\n",
    "  <td style=\"text-align: center\">4</td>\n",
    "  <td style=\"text-align: center\">Tesla T4 x2</td>\n",
    "  <td style=\"text-align: center\">40</td>\n",
    "  <td style=\"text-align: right\">17,300</td>\n",
    "  <td style=\"text-align: right\">4,100,000</td>\n",
    "  <td style=\"text-align: right\">9,130,000</td>\n",
    "  <td style=\"text-align: right\">1,820,000,000</td>\n",
    "</tr>\n",
    "<tr>\n",
    "  <td><b>Kaggle</b> P100</td>\n",
    "  <td style=\"text-align: center\">4</td>\n",
    "  <td style=\"text-align: center\">Tesla P100</td>\n",
    "  <td style=\"text-align: center\">56</td>\n",
    "  <td style=\"text-align: right\">18,000</td>\n",
    "  <td style=\"text-align: right\">4,070,000</td>\n",
    "  <td style=\"text-align: right\">9,900,000</td>\n",
    "  <td style=\"text-align: right\">1,120,000,000</td>\n",
    "</tr>\n",
    "<tr>\n",
    "  <td><a href=\"https://mybinder.org/v2/gh/hhoppe/poker_hand/main?urlpath=lab/tree/poker_hand.ipynb\"><b>mybinder</b></a></td>\n",
    "  <td style=\"text-align: center\">72</td>\n",
    "  <td style=\"text-align: center\">None</td>\n",
    "  <td style=\"text-align: center\">-</td>\n",
    "  <td style=\"text-align: right\">16,000</td>\n",
    "  <td style=\"text-align: right\">1,210,000</td>\n",
    "  <td style=\"text-align: right\">740,000</td>\n",
    "  <td style=\"text-align: right\">-</td>\n",
    "</tr>\n",
    "<tr>\n",
    "  <td><a href=\"https://deepnote.com/launch?url=https%3A%2F%2Fgithub.com%2Fhhoppe%2Fpoker_hand%2Fblob%2Fmain%2Fpoker_hand.ipynb\"><b>deepnote</b></a></td>\n",
    "  <td style=\"text-align: center\">8</td>\n",
    "  <td style=\"text-align: center\">None</td>\n",
    "  <td style=\"text-align: center\">-</td>\n",
    "  <td style=\"text-align: right\">14,200</td>\n",
    "  <td style=\"text-align: right\">3,950,000</td>\n",
    "  <td style=\"text-align: right\">2,840,000</td>\n",
    "  <td style=\"text-align: right\">-</td>\n",
    "</tr>\n",
    "</table>"
   ]
  },
  {
   "cell_type": "markdown",
   "id": "17ce3127-cbd5-445b-900d-6c01ddac60a7",
   "metadata": {},
   "source": [
    "It is puzzling that the CUDA rate is lower on my PC than on the online servers."
   ]
  },
  {
   "cell_type": "markdown",
   "id": "926b7255-e5af-473f-809b-000987e06690",
   "metadata": {},
   "source": [
    "### Imports"
   ]
  },
  {
   "cell_type": "code",
   "execution_count": 1,
   "id": "96f8b5b5-8cda-4b5f-8b07-145cf83d0dfd",
   "metadata": {
    "execution": {
     "iopub.execute_input": "2025-01-05T00:58:48.013770Z",
     "iopub.status.busy": "2025-01-05T00:58:48.013524Z",
     "iopub.status.idle": "2025-01-05T00:58:49.242993Z",
     "shell.execute_reply": "2025-01-05T00:58:49.242407Z",
     "shell.execute_reply.started": "2025-01-05T00:58:48.013755Z"
    }
   },
   "outputs": [],
   "source": [
    "!pip install -q numba"
   ]
  },
  {
   "cell_type": "code",
   "execution_count": 2,
   "id": "b7672379",
   "metadata": {
    "execution": {
     "iopub.execute_input": "2025-01-05T00:58:49.244201Z",
     "iopub.status.busy": "2025-01-05T00:58:49.243705Z",
     "iopub.status.idle": "2025-01-05T00:58:49.538692Z",
     "shell.execute_reply": "2025-01-05T00:58:49.538129Z",
     "shell.execute_reply.started": "2025-01-05T00:58:49.244186Z"
    },
    "lines_to_next_cell": 2,
    "tags": []
   },
   "outputs": [],
   "source": [
    "import enum\n",
    "import math\n",
    "from math import comb\n",
    "import multiprocessing\n",
    "import pathlib\n",
    "import time\n",
    "from typing import Any\n",
    "\n",
    "import numba\n",
    "from numba import cuda\n",
    "import numba.cuda.random\n",
    "import numpy as np\n",
    "import random32"
   ]
  },
  {
   "cell_type": "code",
   "execution_count": 3,
   "id": "aec3f5a6-f130-470d-8a0d-43b99587d4c7",
   "metadata": {
    "execution": {
     "iopub.execute_input": "2025-01-05T00:58:49.539863Z",
     "iopub.status.busy": "2025-01-05T00:58:49.539355Z",
     "iopub.status.idle": "2025-01-05T00:58:49.543271Z",
     "shell.execute_reply": "2025-01-05T00:58:49.542651Z",
     "shell.execute_reply.started": "2025-01-05T00:58:49.539827Z"
    }
   },
   "outputs": [],
   "source": [
    "USE_RANDOM32 = True\n",
    "if USE_RANDOM32:\n",
    "  random_create_states = random32.create_xoshiro128p_states\n",
    "  random_next_uniform_uint = random32.xoshiro128p_next\n",
    "  random_next_uniform_float32 = random32.xoshiro128p_uniform_float32\n",
    "else:\n",
    "  random_create_states = cuda.random.create_xoroshiro128p_states\n",
    "  random_next_uniform_uint = cuda.random.xoroshiro128p_next\n",
    "  random_next_uniform_float32 = cuda.random.xoroshiro128p_uniform_float32"
   ]
  },
  {
   "cell_type": "code",
   "execution_count": 4,
   "id": "40f2522d-afa5-4bf8-9f0a-5623defb8c46",
   "metadata": {
    "execution": {
     "iopub.execute_input": "2025-01-05T00:58:49.544519Z",
     "iopub.status.busy": "2025-01-05T00:58:49.544052Z",
     "iopub.status.idle": "2025-01-05T00:58:49.553724Z",
     "shell.execute_reply": "2025-01-05T00:58:49.553083Z",
     "shell.execute_reply.started": "2025-01-05T00:58:49.544505Z"
    }
   },
   "outputs": [
    {
     "name": "stdout",
     "output_type": "stream",
     "text": [
      "The number of CPU threads is 24.\n"
     ]
    }
   ],
   "source": [
    "print(f'The number of CPU threads is {multiprocessing.cpu_count()}.')"
   ]
  },
  {
   "cell_type": "code",
   "execution_count": 5,
   "id": "23e84adb-9b5e-4ba9-97bd-bdb7c0f92cae",
   "metadata": {
    "execution": {
     "iopub.execute_input": "2025-01-05T00:58:49.554783Z",
     "iopub.status.busy": "2025-01-05T00:58:49.554608Z",
     "iopub.status.idle": "2025-01-05T00:58:49.884024Z",
     "shell.execute_reply": "2025-01-05T00:58:49.883413Z",
     "shell.execute_reply.started": "2025-01-05T00:58:49.554770Z"
    },
    "lines_to_next_cell": 2
   },
   "outputs": [
    {
     "name": "stdout",
     "output_type": "stream",
     "text": [
      "Found 1 CUDA devices\n",
      "id 0    b'NVIDIA GeForce RTX 3080 Ti'                              [SUPPORTED]\n",
      "                      Compute Capability: 8.6\n",
      "                           PCI Device ID: 0\n",
      "                              PCI Bus ID: 10\n",
      "                                    UUID: GPU-e50896f3-f795-945c-9c59-fffc57278834\n",
      "                                Watchdog: Enabled\n",
      "             FP32/FP64 Performance Ratio: 32\n",
      "Summary:\n",
      "\t1/1 devices are supported\n",
      "The number of GPU SMs is 80\n"
     ]
    }
   ],
   "source": [
    "if cuda.is_available() and cuda.detect():\n",
    "  print(f'The number of GPU SMs is {cuda.get_current_device().MULTIPROCESSOR_COUNT}')"
   ]
  },
  {
   "cell_type": "markdown",
   "id": "e5af2c7f-c334-49ad-9afb-fb73cf6d7db4",
   "metadata": {
    "execution": {
     "iopub.execute_input": "2024-12-29T01:42:55.940070Z",
     "iopub.status.busy": "2024-12-29T01:42:55.939661Z",
     "iopub.status.idle": "2024-12-29T01:42:55.942841Z",
     "shell.execute_reply": "2024-12-29T01:42:55.942254Z",
     "shell.execute_reply.started": "2024-12-29T01:42:55.940047Z"
    },
    "lines_to_next_cell": 2
   },
   "source": [
    "### Hand evaluation"
   ]
  },
  {
   "cell_type": "code",
   "execution_count": 6,
   "id": "cc2447c0-0ded-4360-bf8e-7e35be276331",
   "metadata": {
    "execution": {
     "iopub.execute_input": "2025-01-05T00:58:49.886413Z",
     "iopub.status.busy": "2025-01-05T00:58:49.885954Z",
     "iopub.status.idle": "2025-01-05T00:58:49.889236Z",
     "shell.execute_reply": "2025-01-05T00:58:49.888715Z",
     "shell.execute_reply.started": "2025-01-05T00:58:49.886392Z"
    }
   },
   "outputs": [],
   "source": [
    "DECK_SIZE = 52\n",
    "NUM_RANKS = 13\n",
    "HAND_SIZE = 5\n",
    "HANDS_PER_DECK = DECK_SIZE - HAND_SIZE + 1  # We consider all overlapping hands in a shuffled deck."
   ]
  },
  {
   "cell_type": "code",
   "execution_count": 7,
   "id": "d6635058-f273-41d9-93a4-2b0c89cb65cc",
   "metadata": {
    "execution": {
     "iopub.execute_input": "2025-01-05T00:58:49.889918Z",
     "iopub.status.busy": "2025-01-05T00:58:49.889787Z",
     "iopub.status.idle": "2025-01-05T00:58:49.899819Z",
     "shell.execute_reply": "2025-01-05T00:58:49.899251Z",
     "shell.execute_reply.started": "2025-01-05T00:58:49.889907Z"
    }
   },
   "outputs": [],
   "source": [
    "class Outcome(enum.IntEnum):\n",
    "  \"\"\"Poker hand rankings from best to worst.\"\"\"\n",
    "\n",
    "  string_name: str\n",
    "  reference_count: int  # https://en.wikipedia.org/wiki/Poker_probability\n",
    "\n",
    "  ROYAL_FLUSH = 0, 'Royal flush', comb(4, 1)\n",
    "  STRAIGHT_FLUSH = 1, 'Straight flush', comb(10, 1) * comb(4, 1) - comb(4, 1)\n",
    "  FOUR_OF_A_KIND = 2, 'Four of a kind', comb(13, 1) * comb(4, 4) * comb(12, 1) * comb(4, 1)\n",
    "  FULL_HOUSE = 3, 'Full house', comb(13, 1) * comb(4, 3) * comb(12, 1) * comb(4, 2)\n",
    "  FLUSH = 4, 'Flush', comb(13, 5) * comb(4, 1) - comb(10, 1) * comb(4, 1),\n",
    "  STRAIGHT = 5, 'Straight', comb(10, 1) * comb(4, 1) ** 5 - comb(10, 1) * comb(4, 1)\n",
    "  THREE_OF_A_KIND = 6, 'Three of a kind', comb(13, 1) * comb(4, 3) * comb(12, 2) * comb(4, 1) ** 2\n",
    "  TWO_PAIR = 7, 'Two pair', comb(13, 2) * comb(4, 2) ** 2 * comb(11, 1) * comb(4, 1)\n",
    "  ONE_PAIR = 8, 'One pair', comb(13, 1) * comb(4, 2) * comb(12, 3) * comb(4, 1) ** 3\n",
    "  HIGH_CARD = 9, 'High card', (comb(13, 5) - comb(10, 1)) * (comb(4, 1) ** 5 - comb(4, 1))\n",
    "\n",
    "  def __new__(cls, value, string_name, reference_count):\n",
    "    obj = int.__new__(cls, value)\n",
    "    obj._value_ = value\n",
    "    obj.string_name = string_name\n",
    "    obj.reference_count = reference_count\n",
    "    return obj"
   ]
  },
  {
   "cell_type": "code",
   "execution_count": 8,
   "id": "16cb8893-08da-4397-93c1-edb44fe8b06b",
   "metadata": {
    "execution": {
     "iopub.execute_input": "2025-01-05T00:58:49.900741Z",
     "iopub.status.busy": "2025-01-05T00:58:49.900454Z",
     "iopub.status.idle": "2025-01-05T00:58:49.911651Z",
     "shell.execute_reply": "2025-01-05T00:58:49.911030Z",
     "shell.execute_reply.started": "2025-01-05T00:58:49.900724Z"
    }
   },
   "outputs": [],
   "source": [
    "NUM_OUTCOMES = len(Outcome)\n",
    "EXPECTED_PROB = [outcome.reference_count / comb(DECK_SIZE, HAND_SIZE) for outcome in Outcome]\n",
    "assert np.allclose(np.sum(EXPECTED_PROB), 1.0)"
   ]
  },
  {
   "cell_type": "code",
   "execution_count": 9,
   "id": "f74eebae-594a-4324-94af-edbcb7b69e33",
   "metadata": {
    "execution": {
     "iopub.execute_input": "2025-01-05T00:58:49.912677Z",
     "iopub.status.busy": "2025-01-05T00:58:49.912497Z",
     "iopub.status.idle": "2025-01-05T00:58:49.921271Z",
     "shell.execute_reply": "2025-01-05T00:58:49.920610Z",
     "shell.execute_reply.started": "2025-01-05T00:58:49.912663Z"
    }
   },
   "outputs": [],
   "source": [
    "def evaluate_hand_python(cards, ranks, freqs):\n",
    "  \"\"\"Evaluate 5-card poker hand and return outcome ranking.\n",
    "\n",
    "  Args:\n",
    "    cards: List of 5 integers representing cards (0-51).\n",
    "    ranks: Pre-allocated array for storing sorted ranks.\n",
    "    freqs: Pre-allocated array for counting rank frequencies.\n",
    "\n",
    "  Returns:\n",
    "    Integer representing hand ranking (see Outcome enum).\n",
    "  \"\"\"\n",
    "  # pylint: disable=consider-using-in, consider-using-max-builtin\n",
    "\n",
    "  def get_rank(card: int) -> int:\n",
    "    return card >> 2  # In range(NUM_RANKS), ordered '23456789TJQKA'.\n",
    "\n",
    "  def get_suit(card: int) -> int:\n",
    "    return card & 0b11  # In range(4).\n",
    "\n",
    "  # Sort cards by rank for easier pattern matching, using simple insertion sort.\n",
    "  for i in range(HAND_SIZE):\n",
    "    ranks[i] = get_rank(cards[i])\n",
    "  # ranks.sort()\n",
    "  for i in range(1, HAND_SIZE):\n",
    "    key = ranks[i]\n",
    "    j = i - 1\n",
    "    while j >= 0 and ranks[j] > key:\n",
    "      ranks[j + 1] = ranks[j]\n",
    "      j -= 1\n",
    "    ranks[j + 1] = key\n",
    "\n",
    "  # is_flush = all(card == cards[0] for card in cards[1:])\n",
    "  # Expanding `cards` on the rhs results in better cuda-compiled code.\n",
    "  c0, c1, c2, c3, c4 = cards[0], cards[1], cards[2], cards[3], cards[4]\n",
    "  is_flush = get_suit(c0) == get_suit(c1) == get_suit(c2) == get_suit(c3) == get_suit(c4)\n",
    "\n",
    "  # Expanding `ranks` on the rhs results in better cuda-compiled code.\n",
    "  r0, r1, r2, r3, r4 = ranks[0], ranks[1], ranks[2], ranks[3], ranks[4]\n",
    "  # We must also consider the ace-low straight 'A2345'.\n",
    "  is_straight = r1 == r0 + 1 and r2 == r0 + 2 and r3 == r0 + 3 and (r4 == r0 + 4 or r4 == r0 + 12)\n",
    "\n",
    "  # Count rank frequencies.\n",
    "  freqs[:] = 0\n",
    "  for rank in ranks:\n",
    "    freqs[rank] += 1\n",
    "\n",
    "  # max_freq = max(freqs)\n",
    "  # num_pairs = np.sum(freqs == 2)\n",
    "  max_freq = 0\n",
    "  num_pairs = 0\n",
    "  for freq in freqs:\n",
    "    if freq > max_freq:\n",
    "      max_freq = freq\n",
    "    if freq == 2:\n",
    "      num_pairs += 1\n",
    "\n",
    "  if is_flush and is_straight:\n",
    "    if ranks[0] == 8:\n",
    "      return Outcome.ROYAL_FLUSH.value\n",
    "    return Outcome.STRAIGHT_FLUSH.value\n",
    "  if max_freq == 4:\n",
    "    return Outcome.FOUR_OF_A_KIND.value\n",
    "  if max_freq == 3 and num_pairs > 0:\n",
    "    return Outcome.FULL_HOUSE.value\n",
    "  if is_flush:\n",
    "    return Outcome.FLUSH.value\n",
    "  if is_straight:\n",
    "    return Outcome.STRAIGHT.value\n",
    "  if max_freq == 3:\n",
    "    return Outcome.THREE_OF_A_KIND.value\n",
    "  if max_freq == 2:\n",
    "    if num_pairs == 2:\n",
    "      return Outcome.TWO_PAIR.value\n",
    "    return Outcome.ONE_PAIR.value\n",
    "  return Outcome.HIGH_CARD.value"
   ]
  },
  {
   "cell_type": "code",
   "execution_count": 10,
   "id": "8676ddc6-f14c-4fe3-8316-249f247439ad",
   "metadata": {
    "execution": {
     "iopub.execute_input": "2025-01-05T00:58:49.922096Z",
     "iopub.status.busy": "2025-01-05T00:58:49.921951Z",
     "iopub.status.idle": "2025-01-05T00:58:49.932282Z",
     "shell.execute_reply": "2025-01-05T00:58:49.931677Z",
     "shell.execute_reply.started": "2025-01-05T00:58:49.922085Z"
    }
   },
   "outputs": [],
   "source": [
    "evaluate_hand_numba = numba.njit(evaluate_hand_python)"
   ]
  },
  {
   "cell_type": "markdown",
   "id": "b2c72168-c7d6-4792-9ea9-ee887733a7e1",
   "metadata": {
    "execution": {
     "iopub.execute_input": "2024-12-29T01:43:09.066669Z",
     "iopub.status.busy": "2024-12-29T01:43:09.066142Z",
     "iopub.status.idle": "2024-12-29T01:43:09.069033Z",
     "shell.execute_reply": "2024-12-29T01:43:09.068530Z",
     "shell.execute_reply.started": "2024-12-29T01:43:09.066653Z"
    },
    "lines_to_next_cell": 2
   },
   "source": [
    "### CPU simulation"
   ]
  },
  {
   "cell_type": "code",
   "execution_count": 11,
   "id": "61102c48-3b12-497c-adcd-a5dab40f1ac7",
   "metadata": {
    "execution": {
     "iopub.execute_input": "2025-01-05T00:58:49.933132Z",
     "iopub.status.busy": "2025-01-05T00:58:49.932937Z",
     "iopub.status.idle": "2025-01-05T00:58:49.941981Z",
     "shell.execute_reply": "2025-01-05T00:58:49.941266Z",
     "shell.execute_reply.started": "2025-01-05T00:58:49.933118Z"
    }
   },
   "outputs": [],
   "source": [
    "def make_compute_cpu(evaluate_hand):\n",
    "  # Return a specialized compute_cpu function for the given evaluate_hand function.\n",
    "\n",
    "  def compute_cpu(num_decks, rng):\n",
    "    BLOCK_SIZE = 10\n",
    "    # deck_block = np.arange(DECK_SIZE, dtype=np.uint8).repeat(BLOCK_SIZE).reshape(DECK_SIZE, -1).T\n",
    "    deck_block = np.empty((BLOCK_SIZE, DECK_SIZE), dtype=np.uint8)\n",
    "    deck_block[:] = np.arange(DECK_SIZE, dtype=np.uint8)\n",
    "    ranks = np.empty(HAND_SIZE, np.uint8)\n",
    "    freqs = np.empty(NUM_RANKS, np.int8)\n",
    "    tally = np.zeros(NUM_OUTCOMES, np.int64)\n",
    "    for deck_index_start in range(0, num_decks, BLOCK_SIZE):\n",
    "      deck_block2 = rng.permutation(deck_block, axis=1)\n",
    "      for deck_index in range(deck_index_start, min(deck_index_start + BLOCK_SIZE, num_decks)):\n",
    "        deck = deck_block2[deck_index - deck_index_start]\n",
    "        for hand_index in range(HANDS_PER_DECK):\n",
    "          hand = deck[hand_index : hand_index + 5]\n",
    "          outcome = evaluate_hand(hand, ranks, freqs)\n",
    "          tally[outcome] += 1\n",
    "    return tally / (num_decks * HANDS_PER_DECK)\n",
    "\n",
    "  return compute_cpu"
   ]
  },
  {
   "cell_type": "code",
   "execution_count": 12,
   "id": "b7e33708-c91f-486c-bb02-71da114e1a69",
   "metadata": {
    "execution": {
     "iopub.execute_input": "2025-01-05T00:58:49.943003Z",
     "iopub.status.busy": "2025-01-05T00:58:49.942702Z",
     "iopub.status.idle": "2025-01-05T00:58:49.954004Z",
     "shell.execute_reply": "2025-01-05T00:58:49.953224Z",
     "shell.execute_reply.started": "2025-01-05T00:58:49.942988Z"
    },
    "lines_to_next_cell": 2
   },
   "outputs": [],
   "source": [
    "simulate_hands_cpu_python = make_compute_cpu(evaluate_hand_python)\n",
    "simulate_hands_cpu_numba = numba.njit(make_compute_cpu(evaluate_hand_numba))"
   ]
  },
  {
   "cell_type": "code",
   "execution_count": 13,
   "id": "ebec99b5-9246-4e29-94ed-ed675d03e549",
   "metadata": {
    "execution": {
     "iopub.execute_input": "2025-01-05T00:58:49.955392Z",
     "iopub.status.busy": "2025-01-05T00:58:49.954783Z",
     "iopub.status.idle": "2025-01-05T00:58:58.892204Z",
     "shell.execute_reply": "2025-01-05T00:58:58.891596Z",
     "shell.execute_reply.started": "2025-01-05T00:58:49.955374Z"
    }
   },
   "outputs": [],
   "source": [
    "assert np.allclose(\n",
    "    simulate_hands_cpu_numba(10**5, np.random.default_rng(1)), EXPECTED_PROB, atol=0.001\n",
    ")"
   ]
  },
  {
   "cell_type": "code",
   "execution_count": 14,
   "id": "0f86ae4d-7694-4e7a-8e36-a2550230fbd9",
   "metadata": {
    "execution": {
     "iopub.execute_input": "2025-01-05T00:58:58.893192Z",
     "iopub.status.busy": "2025-01-05T00:58:58.892928Z",
     "iopub.status.idle": "2025-01-05T00:59:03.249499Z",
     "shell.execute_reply": "2025-01-05T00:59:03.248869Z",
     "shell.execute_reply.started": "2025-01-05T00:58:58.893176Z"
    }
   },
   "outputs": [
    {
     "name": "stdout",
     "output_type": "stream",
     "text": [
      "703 ms ± 324 µs per loop (mean ± std. dev. of 2 runs, 1 loop each)\n",
      "14.7 ms ± 8.65 µs per loop (mean ± std. dev. of 2 runs, 100 loops each)\n"
     ]
    }
   ],
   "source": [
    "%timeit -n1 -r2 simulate_hands_cpu_python(2000, np.random.default_rng(1))\n",
    "%timeit -n100 -r2 simulate_hands_cpu_numba(10**4, np.random.default_rng(1))"
   ]
  },
  {
   "cell_type": "code",
   "execution_count": 15,
   "id": "6f3bf348-e6a2-4fc6-9ebd-9d123ca6d686",
   "metadata": {
    "execution": {
     "iopub.execute_input": "2025-01-05T00:59:03.250730Z",
     "iopub.status.busy": "2025-01-05T00:59:03.250229Z",
     "iopub.status.idle": "2025-01-05T00:59:03.253310Z",
     "shell.execute_reply": "2025-01-05T00:59:03.252755Z",
     "shell.execute_reply.started": "2025-01-05T00:59:03.250712Z"
    },
    "lines_to_next_cell": 2
   },
   "outputs": [],
   "source": [
    "# 708 ms ± 13.2 ms per loop (mean ± std. dev. of 2 runs, 1 loop each)\n",
    "# 14.8 ms ± 60.2 µs per loop (mean ± std. dev. of 2 runs, 100 loops each)"
   ]
  },
  {
   "cell_type": "code",
   "execution_count": 16,
   "id": "38b2467c-cc46-4b3d-ab2e-0db7891bcf6f",
   "metadata": {
    "execution": {
     "iopub.execute_input": "2025-01-05T00:59:03.254352Z",
     "iopub.status.busy": "2025-01-05T00:59:03.253982Z",
     "iopub.status.idle": "2025-01-05T00:59:03.265058Z",
     "shell.execute_reply": "2025-01-05T00:59:03.264391Z",
     "shell.execute_reply.started": "2025-01-05T00:59:03.254338Z"
    }
   },
   "outputs": [],
   "source": [
    "def compute_chunk(args):\n",
    "  num_decks, rng = args\n",
    "  return simulate_hands_cpu_numba(num_decks, rng)"
   ]
  },
  {
   "cell_type": "code",
   "execution_count": 17,
   "id": "a853fae1-8516-417c-97de-b221f97c6d40",
   "metadata": {
    "execution": {
     "iopub.execute_input": "2025-01-05T00:59:03.266335Z",
     "iopub.status.busy": "2025-01-05T00:59:03.265889Z",
     "iopub.status.idle": "2025-01-05T00:59:03.274584Z",
     "shell.execute_reply": "2025-01-05T00:59:03.273981Z",
     "shell.execute_reply.started": "2025-01-05T00:59:03.266321Z"
    },
    "lines_to_next_cell": 2
   },
   "outputs": [],
   "source": [
    "def simulate_hands_cpu_numba_multiprocess(num_decks, rng):\n",
    "  num_processes = multiprocessing.cpu_count()\n",
    "  chunk_num_decks = math.ceil(num_decks / num_processes)\n",
    "  chunks = [(chunk_num_decks, np.random.default_rng(rng)) for i in range(num_processes)]\n",
    "  with multiprocessing.get_context('fork').Pool(num_processes) as pool:\n",
    "    results = pool.map(compute_chunk, chunks)\n",
    "  return np.mean(results, axis=0)"
   ]
  },
  {
   "cell_type": "markdown",
   "id": "0154d69f-d8dc-4d8b-8d5e-e1632f9f4fc8",
   "metadata": {
    "lines_to_next_cell": 2
   },
   "source": [
    "### GPU simulation"
   ]
  },
  {
   "cell_type": "code",
   "execution_count": 18,
   "id": "e3280ce4-3cdc-4910-96d7-6b86410d8be4",
   "metadata": {
    "execution": {
     "iopub.execute_input": "2025-01-05T00:59:03.275630Z",
     "iopub.status.busy": "2025-01-05T00:59:03.275281Z",
     "iopub.status.idle": "2025-01-05T00:59:03.285859Z",
     "shell.execute_reply": "2025-01-05T00:59:03.285300Z",
     "shell.execute_reply.started": "2025-01-05T00:59:03.275613Z"
    }
   },
   "outputs": [],
   "source": [
    "THREADS_PER_BLOCK = 256"
   ]
  },
  {
   "cell_type": "code",
   "execution_count": 19,
   "id": "96d4ddd0-9c93-403d-bd5e-a0be49a6f7ff",
   "metadata": {
    "execution": {
     "iopub.execute_input": "2025-01-05T00:59:03.286978Z",
     "iopub.status.busy": "2025-01-05T00:59:03.286506Z",
     "iopub.status.idle": "2025-01-05T00:59:03.296131Z",
     "shell.execute_reply": "2025-01-05T00:59:03.295507Z",
     "shell.execute_reply.started": "2025-01-05T00:59:03.286941Z"
    },
    "lines_to_next_cell": 2
   },
   "outputs": [],
   "source": [
    "@cuda.jit(fastmath=True)  # Using either local memory or cuda.shared.array.\n",
    "def compute_gpu(rng_states, num_decks_per_thread, global_tally):\n",
    "  # pylint: disable=too-many-function-args, no-value-for-parameter, comparison-with-callable\n",
    "  # pylint: disable=possibly-used-before-assignment\n",
    "  USE_SHARED_MEMORY = True  # Shared memory is faster.\n",
    "  USE_UINT_RANDOM = True  # Using uint remainder is faster than float trucation.\n",
    "  thread_index = cuda.grid(1)\n",
    "  if thread_index >= len(rng_states):\n",
    "    return\n",
    "\n",
    "  thread_id = cuda.threadIdx.x  # Index within block.\n",
    "  if USE_SHARED_MEMORY:\n",
    "    block_tally = cuda.shared.array((THREADS_PER_BLOCK, NUM_OUTCOMES), np.int32)\n",
    "    block_deck = cuda.shared.array((THREADS_PER_BLOCK, DECK_SIZE), np.uint8)\n",
    "    block_ranks = cuda.shared.array((THREADS_PER_BLOCK, HAND_SIZE), np.uint8)\n",
    "    block_freqs = cuda.shared.array((THREADS_PER_BLOCK, NUM_RANKS), np.uint8)\n",
    "    tally = block_tally[thread_id]\n",
    "    deck = block_deck[thread_id]\n",
    "    ranks = block_ranks[thread_id]\n",
    "    freqs = block_freqs[thread_id]\n",
    "    # Note: transposed structure results in longer code and ~1.3x slower execution, e.g.:\n",
    "    # block_tally = cuda.shared.array((NUM_OUTCOMES, THREADS_PER_BLOCK), np.int32)\n",
    "    # tally = block_tally[:, thread_id]\n",
    "  else:\n",
    "    tally = cuda.local.array(NUM_OUTCOMES, np.int32)\n",
    "    deck = cuda.local.array(DECK_SIZE, np.uint8)\n",
    "    ranks = cuda.local.array(HAND_SIZE, np.uint8)\n",
    "    freqs = cuda.local.array(NUM_RANKS, np.uint8)\n",
    "\n",
    "  tally[:] = 0\n",
    "  for i in range(numba.uint8(DECK_SIZE)):  # Casting as uint8 nicely unrolls the loop.\n",
    "    deck[i] = i\n",
    "\n",
    "  for _ in range(num_decks_per_thread):\n",
    "    # Apply Fisher-Yates shuffle to current deck.\n",
    "    for i in range(51, 0, -1):\n",
    "      # See https://github.com/numba/numba/blob/main/numba/cuda/random.py\n",
    "      if USE_UINT_RANDOM:  # Faster and has lower bias (~2.76e-18 for worst case ).\n",
    "        random_uint32 = random_next_uniform_uint(rng_states, thread_index)\n",
    "        j = random_uint32 % numba.uint32(i + 1)\n",
    "      else:  # Results in higher bias (~2.86e-6) due to reduced size (24 bits) of mantissa.\n",
    "        j = int(random_next_uniform_float32(rng_states, thread_index) * (i + 1))\n",
    "      deck[i], deck[j] = deck[j], deck[i]\n",
    "\n",
    "    for hand_index in range(HANDS_PER_DECK):\n",
    "      hand = deck[hand_index : hand_index + 5]\n",
    "      outcome = evaluate_hand_numba(hand, ranks, freqs)\n",
    "      tally[outcome] += 1\n",
    "\n",
    "  # First accumulate a per-block tally, then accumulate that tally into the global tally.\n",
    "  shared_tally = cuda.shared.array(NUM_OUTCOMES, np.int64)  # Per-block intermediate tally.\n",
    "  if thread_id == 0:\n",
    "    shared_tally[:] = 0\n",
    "  cuda.syncthreads()\n",
    "\n",
    "  # Each thread adds its local results to shared memory.\n",
    "  for i in range(NUM_OUTCOMES):\n",
    "    cuda.atomic.add(shared_tally, i, tally[i])\n",
    "    cuda.syncthreads()\n",
    "\n",
    "  if thread_id == 0:\n",
    "    for i in range(NUM_OUTCOMES):\n",
    "      cuda.atomic.add(global_tally, i, shared_tally[i])"
   ]
  },
  {
   "cell_type": "code",
   "execution_count": 20,
   "id": "4133487b-134a-4358-8518-c5979efc9acd",
   "metadata": {
    "execution": {
     "iopub.execute_input": "2025-01-05T00:59:03.297422Z",
     "iopub.status.busy": "2025-01-05T00:59:03.296932Z",
     "iopub.status.idle": "2025-01-05T00:59:03.307974Z",
     "shell.execute_reply": "2025-01-05T00:59:03.307439Z",
     "shell.execute_reply.started": "2025-01-05T00:59:03.297407Z"
    }
   },
   "outputs": [],
   "source": [
    "def simulate_hands_gpu_cuda(num_decks, rng):\n",
    "  device = cuda.get_current_device()\n",
    "  # Target enough threads for ~4 blocks per SM.\n",
    "  target_num_threads = 4 * device.MULTIPROCESSOR_COUNT * THREADS_PER_BLOCK\n",
    "  num_decks_per_thread = max(1, num_decks // target_num_threads)\n",
    "  num_threads = num_decks // num_decks_per_thread\n",
    "  # print(f'{num_decks_per_thread=} {num_threads=}')\n",
    "  blocks = math.ceil(num_threads / THREADS_PER_BLOCK)\n",
    "  seed = rng.integers(2**64, dtype=np.uint64)\n",
    "  d_rng_states = random_create_states(num_threads, seed)\n",
    "  d_global_tally = cuda.to_device(np.zeros(NUM_OUTCOMES, np.int64))\n",
    "  compute_gpu[blocks, THREADS_PER_BLOCK](d_rng_states, num_decks_per_thread, d_global_tally)\n",
    "  return d_global_tally.copy_to_host() / (num_threads * num_decks_per_thread * HANDS_PER_DECK)"
   ]
  },
  {
   "cell_type": "code",
   "execution_count": 21,
   "id": "958981de-2fde-480b-a15e-b761255c37c9",
   "metadata": {
    "execution": {
     "iopub.execute_input": "2025-01-05T00:59:03.310203Z",
     "iopub.status.busy": "2025-01-05T00:59:03.309850Z",
     "iopub.status.idle": "2025-01-05T00:59:04.982865Z",
     "shell.execute_reply": "2025-01-05T00:59:04.982243Z",
     "shell.execute_reply.started": "2025-01-05T00:59:03.310188Z"
    }
   },
   "outputs": [],
   "source": [
    "assert np.allclose(\n",
    "    simulate_hands_gpu_cuda(10**7, np.random.default_rng(1)), EXPECTED_PROB, atol=0.0001\n",
    ")"
   ]
  },
  {
   "cell_type": "code",
   "execution_count": 22,
   "id": "f3d4a20b-0082-4e4c-b752-6bacb0502053",
   "metadata": {
    "execution": {
     "iopub.execute_input": "2025-01-05T00:59:04.984044Z",
     "iopub.status.busy": "2025-01-05T00:59:04.983655Z",
     "iopub.status.idle": "2025-01-05T00:59:06.147358Z",
     "shell.execute_reply": "2025-01-05T00:59:06.146735Z",
     "shell.execute_reply.started": "2025-01-05T00:59:04.984028Z"
    }
   },
   "outputs": [
    {
     "name": "stdout",
     "output_type": "stream",
     "text": [
      "232 ms ± 37.2 ms per loop (mean ± std. dev. of 5 runs, 1 loop each)\n"
     ]
    }
   ],
   "source": [
    "%timeit -n1 -r5 simulate_hands_gpu_cuda(10**7, np.random.default_rng(1))  # ~220 ms."
   ]
  },
  {
   "cell_type": "code",
   "execution_count": 23,
   "id": "307558fb-0ee8-4c46-ac64-aed743419c4b",
   "metadata": {
    "execution": {
     "iopub.execute_input": "2025-01-05T00:59:06.148649Z",
     "iopub.status.busy": "2025-01-05T00:59:06.148149Z",
     "iopub.status.idle": "2025-01-05T00:59:06.151199Z",
     "shell.execute_reply": "2025-01-05T00:59:06.150624Z",
     "shell.execute_reply.started": "2025-01-05T00:59:06.148632Z"
    },
    "lines_to_next_cell": 2
   },
   "outputs": [],
   "source": [
    "# simulate_poker_hands(10**8, 'gpu_cuda', simulate_hands_gpu_cuda)"
   ]
  },
  {
   "cell_type": "code",
   "execution_count": 24,
   "id": "70cee4f8-7a70-40ed-b497-64215c07468a",
   "metadata": {
    "execution": {
     "iopub.execute_input": "2025-01-05T00:59:06.151862Z",
     "iopub.status.busy": "2025-01-05T00:59:06.151734Z",
     "iopub.status.idle": "2025-01-05T00:59:06.161231Z",
     "shell.execute_reply": "2025-01-05T00:59:06.160641Z",
     "shell.execute_reply.started": "2025-01-05T00:59:06.151851Z"
    }
   },
   "outputs": [],
   "source": [
    "def write_cuda_assembly_code():\n",
    "  if 0:\n",
    "    signature = (cuda.random.xoroshiro128p_type[:], numba.int64, numba.int64[:])\n",
    "    ptx, _ = cuda.compile_ptx_for_current_device(compute_gpu, signature, device=True, abi='c')\n",
    "  else:\n",
    "    (ptx,) = compute_gpu.inspect_asm().values()\n",
    "  pathlib.Path('compute_gpu.ptx').write_text(ptx, encoding='utf-8')"
   ]
  },
  {
   "cell_type": "code",
   "execution_count": 25,
   "id": "e6e87979-f6ba-42ec-bb1a-24a1b23dff80",
   "metadata": {
    "execution": {
     "iopub.execute_input": "2025-01-05T00:59:06.162120Z",
     "iopub.status.busy": "2025-01-05T00:59:06.161945Z",
     "iopub.status.idle": "2025-01-05T00:59:06.170360Z",
     "shell.execute_reply": "2025-01-05T00:59:06.169771Z",
     "shell.execute_reply.started": "2025-01-05T00:59:06.162105Z"
    }
   },
   "outputs": [],
   "source": [
    "def report_kernel_properties():\n",
    "  PROPERTIES = 'const_mem_size local_mem_per_thread max_threads_per_block regs_per_thread shared_mem_per_block'.split()\n",
    "  for property_name in PROPERTIES:\n",
    "    (value,) = getattr(compute_gpu, 'get_' + property_name)().values()\n",
    "    print(f'{property_name} = {value}')"
   ]
  },
  {
   "cell_type": "code",
   "execution_count": 26,
   "id": "eb27c7ae-beb4-4cb0-a28f-8f520e2870c3",
   "metadata": {
    "execution": {
     "iopub.execute_input": "2025-01-05T00:59:06.171441Z",
     "iopub.status.busy": "2025-01-05T00:59:06.171277Z",
     "iopub.status.idle": "2025-01-05T00:59:06.182910Z",
     "shell.execute_reply": "2025-01-05T00:59:06.182212Z",
     "shell.execute_reply.started": "2025-01-05T00:59:06.171428Z"
    }
   },
   "outputs": [
    {
     "name": "stdout",
     "output_type": "stream",
     "text": [
      "const_mem_size = 0\n",
      "local_mem_per_thread = 0\n",
      "max_threads_per_block = 1024\n",
      "regs_per_thread = 36\n",
      "shared_mem_per_block = 28240\n"
     ]
    }
   ],
   "source": [
    "if cuda.is_available():\n",
    "  write_cuda_assembly_code()\n",
    "  report_kernel_properties()"
   ]
  },
  {
   "cell_type": "markdown",
   "id": "d2bc4755-cde2-4223-80f0-5b02fc49a389",
   "metadata": {},
   "source": [
    "### Results"
   ]
  },
  {
   "cell_type": "code",
   "execution_count": 27,
   "id": "da3478c3-a9be-4876-b52b-d30866a0ac56",
   "metadata": {
    "execution": {
     "iopub.execute_input": "2025-01-05T00:59:06.183831Z",
     "iopub.status.busy": "2025-01-05T00:59:06.183665Z",
     "iopub.status.idle": "2025-01-05T00:59:06.189311Z",
     "shell.execute_reply": "2025-01-05T00:59:06.188646Z",
     "shell.execute_reply.started": "2025-01-05T00:59:06.183817Z"
    }
   },
   "outputs": [],
   "source": [
    "SIMULATE_FUNCTIONS: Any = {\n",
    "    'cpu_python': simulate_hands_cpu_python,\n",
    "    'cpu_numba': simulate_hands_cpu_numba,\n",
    "}\n",
    "if 'fork' in multiprocessing.get_all_start_methods():\n",
    "  SIMULATE_FUNCTIONS.update({'cpu_numba_multiprocess': simulate_hands_cpu_numba_multiprocess})\n",
    "if cuda.is_available():\n",
    "  SIMULATE_FUNCTIONS.update({'gpu_cuda': simulate_hands_gpu_cuda})"
   ]
  },
  {
   "cell_type": "code",
   "execution_count": 28,
   "id": "92bde0ec-7f24-4f13-b350-cc413094ab11",
   "metadata": {
    "execution": {
     "iopub.execute_input": "2025-01-05T00:59:06.190577Z",
     "iopub.status.busy": "2025-01-05T00:59:06.190201Z",
     "iopub.status.idle": "2025-01-05T00:59:06.201366Z",
     "shell.execute_reply": "2025-01-05T00:59:06.200582Z",
     "shell.execute_reply.started": "2025-01-05T00:59:06.190560Z"
    }
   },
   "outputs": [],
   "source": [
    "COMPLEXITY_ADJUSTMENT = {\n",
    "    'cpu_python': 0.01,\n",
    "    'cpu_numba': 2.0,\n",
    "    'cpu_numba_multiprocess': 20.0,\n",
    "    'gpu_cuda': 100.0,\n",
    "}"
   ]
  },
  {
   "cell_type": "code",
   "execution_count": 29,
   "id": "e7bd410e-681f-499c-b2bf-8303c7146423",
   "metadata": {
    "execution": {
     "iopub.execute_input": "2025-01-05T00:59:06.202755Z",
     "iopub.status.busy": "2025-01-05T00:59:06.202563Z",
     "iopub.status.idle": "2025-01-05T00:59:06.211399Z",
     "shell.execute_reply": "2025-01-05T00:59:06.210653Z",
     "shell.execute_reply.started": "2025-01-05T00:59:06.202741Z"
    }
   },
   "outputs": [],
   "source": [
    "def simulate_poker_hands(base_num_hands, func_name, func, seed=1):\n",
    "  base_num_decks = math.ceil(base_num_hands / HANDS_PER_DECK)\n",
    "  num_decks = math.ceil(base_num_decks * COMPLEXITY_ADJUSTMENT[func_name])\n",
    "  num_hands = num_decks * HANDS_PER_DECK\n",
    "  print(f'\\nFor {func_name} simulating {num_hands:,} hands:')\n",
    "\n",
    "  # Ensure the function is jitted.\n",
    "  _ = func(int(100_000 * COMPLEXITY_ADJUSTMENT[func_name]), np.random.default_rng(seed))\n",
    "\n",
    "  start_time = time.perf_counter_ns()\n",
    "  results = func(num_decks, np.random.default_rng(seed))\n",
    "  elapsed_time = (time.perf_counter_ns() - start_time) / 10**9\n",
    "\n",
    "  round_digits = lambda x, ndigits=3: round(x, ndigits - 1 - math.floor(math.log10(abs(x))))\n",
    "  hands_per_s = round_digits(int(num_hands / elapsed_time))\n",
    "  print(f' Elapsed time is {elapsed_time:.3f} s, or {hands_per_s:,} hands/s.')\n",
    "\n",
    "  print(' Probabilities:')\n",
    "  for outcome, result_prob in zip(Outcome, results):\n",
    "    reference_prob = outcome.reference_count / comb(DECK_SIZE, HAND_SIZE)\n",
    "    error = result_prob - reference_prob\n",
    "    s = f'  {outcome.string_name:<16}: {result_prob * 100:8.5f}%'\n",
    "    s += f'  (vs. reference {reference_prob * 100:8.5f}%  error:{error * 100:8.5f}%)'\n",
    "    print(s)"
   ]
  },
  {
   "cell_type": "code",
   "execution_count": 30,
   "id": "e935c8b8-a126-4a4f-ae08-bbba8d6a80b4",
   "metadata": {
    "execution": {
     "iopub.execute_input": "2025-01-05T00:59:06.212568Z",
     "iopub.status.busy": "2025-01-05T00:59:06.212359Z",
     "iopub.status.idle": "2025-01-05T00:59:06.221249Z",
     "shell.execute_reply": "2025-01-05T00:59:06.220459Z",
     "shell.execute_reply.started": "2025-01-05T00:59:06.212552Z"
    }
   },
   "outputs": [],
   "source": [
    "def compare_simulations(base_num_hands, seed=1):\n",
    "  for func_name, func in SIMULATE_FUNCTIONS.items():\n",
    "    simulate_poker_hands(base_num_hands, func_name, func, seed)"
   ]
  },
  {
   "cell_type": "code",
   "execution_count": 31,
   "id": "ca0e7a67-ca73-4e8f-b584-9368daefeb7e",
   "metadata": {
    "execution": {
     "iopub.execute_input": "2025-01-05T00:59:06.222635Z",
     "iopub.status.busy": "2025-01-05T00:59:06.222245Z",
     "iopub.status.idle": "2025-01-05T00:59:09.726372Z",
     "shell.execute_reply": "2025-01-05T00:59:09.725696Z",
     "shell.execute_reply.started": "2025-01-05T00:59:06.222621Z"
    }
   },
   "outputs": [
    {
     "name": "stdout",
     "output_type": "stream",
     "text": [
      "\n",
      "For cpu_python simulating 100,032 hands:\n",
      " Elapsed time is 0.735 s, or 136,000 hands/s.\n",
      " Probabilities:\n",
      "  Royal flush     :  0.00000%  (vs. reference  0.00015%  error:-0.00015%)\n",
      "  Straight flush  :  0.00000%  (vs. reference  0.00139%  error:-0.00139%)\n",
      "  Four of a kind  :  0.01999%  (vs. reference  0.02401%  error:-0.00402%)\n",
      "  Full house      :  0.19994%  (vs. reference  0.14406%  error: 0.05588%)\n",
      "  Flush           :  0.23992%  (vs. reference  0.19654%  error: 0.04338%)\n",
      "  Straight        :  0.36988%  (vs. reference  0.39246%  error:-0.02258%)\n",
      "  Three of a kind :  1.68346%  (vs. reference  2.11285%  error:-0.42938%)\n",
      "  Two pair        :  4.75848%  (vs. reference  4.75390%  error: 0.00458%)\n",
      "  One pair        : 42.53039%  (vs. reference 42.25690%  error: 0.27349%)\n",
      "  High card       : 50.19794%  (vs. reference 50.11774%  error: 0.08020%)\n",
      "\n",
      "For cpu_numba simulating 20,000,064 hands:\n",
      " Elapsed time is 0.608 s, or 32,900,000 hands/s.\n",
      " Probabilities:\n",
      "  Royal flush     :  0.00015%  (vs. reference  0.00015%  error:-0.00000%)\n",
      "  Straight flush  :  0.00100%  (vs. reference  0.00139%  error:-0.00039%)\n",
      "  Four of a kind  :  0.02315%  (vs. reference  0.02401%  error:-0.00086%)\n",
      "  Full house      :  0.14800%  (vs. reference  0.14406%  error: 0.00394%)\n",
      "  Flush           :  0.19970%  (vs. reference  0.19654%  error: 0.00316%)\n",
      "  Straight        :  0.38815%  (vs. reference  0.39246%  error:-0.00432%)\n",
      "  Three of a kind :  2.12954%  (vs. reference  2.11285%  error: 0.01670%)\n",
      "  Two pair        :  4.75186%  (vs. reference  4.75390%  error:-0.00204%)\n",
      "  One pair        : 42.18880%  (vs. reference 42.25690%  error:-0.06810%)\n",
      "  High card       : 50.16964%  (vs. reference 50.11774%  error: 0.05190%)\n",
      "\n",
      "For cpu_numba_multiprocess simulating 200,000,640 hands:\n",
      " Elapsed time is 0.562 s, or 356,000,000 hands/s.\n",
      " Probabilities:\n",
      "  Royal flush     :  0.00012%  (vs. reference  0.00015%  error:-0.00003%)\n",
      "  Straight flush  :  0.00072%  (vs. reference  0.00139%  error:-0.00067%)\n",
      "  Four of a kind  :  0.02328%  (vs. reference  0.02401%  error:-0.00073%)\n",
      "  Full house      :  0.14412%  (vs. reference  0.14406%  error: 0.00006%)\n",
      "  Flush           :  0.20700%  (vs. reference  0.19654%  error: 0.01046%)\n",
      "  Straight        :  0.38244%  (vs. reference  0.39246%  error:-0.01003%)\n",
      "  Three of a kind :  2.12723%  (vs. reference  2.11285%  error: 0.01438%)\n",
      "  Two pair        :  4.73388%  (vs. reference  4.75390%  error:-0.02002%)\n",
      "  One pair        : 42.21658%  (vs. reference 42.25690%  error:-0.04033%)\n",
      "  High card       : 50.16464%  (vs. reference 50.11774%  error: 0.04690%)\n",
      "\n",
      "For gpu_cuda simulating 1,000,003,200 hands:\n",
      " Elapsed time is 0.376 s, or 2,660,000,000 hands/s.\n",
      " Probabilities:\n",
      "  Royal flush     :  0.00015%  (vs. reference  0.00015%  error: 0.00000%)\n",
      "  Straight flush  :  0.00138%  (vs. reference  0.00139%  error:-0.00000%)\n",
      "  Four of a kind  :  0.02402%  (vs. reference  0.02401%  error: 0.00001%)\n",
      "  Full house      :  0.14387%  (vs. reference  0.14406%  error:-0.00019%)\n",
      "  Flush           :  0.19663%  (vs. reference  0.19654%  error: 0.00009%)\n",
      "  Straight        :  0.39169%  (vs. reference  0.39246%  error:-0.00077%)\n",
      "  Three of a kind :  2.11227%  (vs. reference  2.11285%  error:-0.00058%)\n",
      "  Two pair        :  4.75346%  (vs. reference  4.75390%  error:-0.00045%)\n",
      "  One pair        : 42.25527%  (vs. reference 42.25690%  error:-0.00163%)\n",
      "  High card       : 50.12125%  (vs. reference 50.11774%  error: 0.00351%)\n"
     ]
    }
   ],
   "source": [
    "compare_simulations(base_num_hands=10**7)"
   ]
  },
  {
   "cell_type": "code",
   "execution_count": 32,
   "id": "4ef83cc9-da12-486c-b9f5-dc8f644304d6",
   "metadata": {
    "execution": {
     "iopub.execute_input": "2025-01-05T00:59:09.727705Z",
     "iopub.status.busy": "2025-01-05T00:59:09.727173Z",
     "iopub.status.idle": "2025-01-05T00:59:09.730352Z",
     "shell.execute_reply": "2025-01-05T00:59:09.729856Z",
     "shell.execute_reply.started": "2025-01-05T00:59:09.727685Z"
    }
   },
   "outputs": [],
   "source": [
    "# 135k, 33m, 350m, 2200-3400m"
   ]
  },
  {
   "cell_type": "markdown",
   "id": "53b10704-3a4b-4b0e-b0ac-711b2afed9bd",
   "metadata": {
    "jp-MarkdownHeadingCollapsed": true
   },
   "source": [
    "### End"
   ]
  }
 ],
 "metadata": {
  "colab": {
   "collapsed_sections": [],
   "provenance": [],
   "toc_visible": true
  },
  "jupytext": {
   "cell_metadata_filter": "-all",
   "formats": "ipynb,py:percent",
   "main_language": "python",
   "notebook_metadata_filter": "-all"
  },
  "kernelspec": {
   "display_name": "Python 3 (ipykernel)",
   "language": "python",
   "name": "python3"
  },
  "language_info": {
   "codemirror_mode": {
    "name": "ipython",
    "version": 3
   },
   "file_extension": ".py",
   "mimetype": "text/x-python",
   "name": "python",
   "nbconvert_exporter": "python",
   "pygments_lexer": "ipython3",
   "version": "3.10.12"
  }
 },
 "nbformat": 4,
 "nbformat_minor": 5
}
