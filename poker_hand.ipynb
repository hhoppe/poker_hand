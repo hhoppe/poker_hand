{
 "cells": [
  {
   "cell_type": "markdown",
   "id": "f819c4f7",
   "metadata": {},
   "source": [
    "# Poker hand simulation\n",
    "\n",
    "This notebook is a simple testbed to experiment with Python acceleration using `numba` (CPU-jitted code) and `numba.cuda` (GPU CUDA-jitted code).\n",
    "\n",
    "We estimate poker hand probabilities using Monte Carlo simulation and compare results with known reference values.\n",
    "\n",
    "We compare execution speeds using Python, `numba`, `numba` with multiprocessing, and `numba.cuda`.\n",
    "\n",
    "Websites on which to run this notebook include:\n",
    "\n",
    "- [Open in Google Colab](https://colab.research.google.com/github/hhoppe/poker_hand/blob/main/poker_hand.ipynb), click on Runtime -> Change runtime type -> T4 GPU, and then Runtime -> Run all.\n",
    "\n",
    "- [Open in kaggle.com](https://www.kaggle.com/notebooks/welcome?src=https://github.com/hhoppe/poker_hand/blob/main/poker_hand.ipynb), login, Session options -> Accelerator -> GPU T4 x2 or P100, Session options -> Internet -> On, then Run All.\n",
    "\n",
    "- [Open in mybinder.org](https://mybinder.org/v2/gh/hhoppe/poker_hand/main?urlpath=lab/tree/poker_hand.ipynb).  Unfortunately, no GPU is available.\n",
    "\n",
    "- [Open in deepnote.com](https://deepnote.com/launch?url=https%3A%2F%2Fgithub.com%2Fhhoppe%2Fpoker_hand%2Fblob%2Fmain%2Fpoker_hand.ipynb).  Unfortunately, no GPU is available.\n",
    "\n",
    "Here are results:"
   ]
  },
  {
   "cell_type": "markdown",
   "id": "71ed1cbc-c83b-4d5b-aed3-e9fe195ddebe",
   "metadata": {
    "execution": {
     "iopub.execute_input": "2025-01-06T01:53:19.033961Z",
     "iopub.status.busy": "2025-01-06T01:53:19.033961Z",
     "iopub.status.idle": "2025-01-06T01:53:19.041537Z",
     "shell.execute_reply": "2025-01-06T01:53:19.041537Z",
     "shell.execute_reply.started": "2025-01-06T01:53:19.033961Z"
    }
   },
   "source": [
    "<table style=\"margin-left: 0\">\n",
    "<tr>\n",
    "  <th colspan=\"4\"></th>\n",
    "  <th colspan=\"8\" style=\"text-align: center; background-color: #F4F4F4\">Simulation rates (hands/s)</th>\n",
    "</tr>\n",
    "<tr>\n",
    "  <th colspan=\"4\">Compute capabilities</th>\n",
    "  <th colspan=\"4\" style=\"text-align: center; background-color: #EBF5FF\">Array-based</th>\n",
    "  <th colspan=\"3\" style=\"text-align: center; background-color: #F0FDF4\">Bitcount-based</th>\n",
    "  <th colspan=\"1\" style=\"text-align: center; background-color: #FFF8F4\">Deckmask-based</th>\n",
    "</tr>\n",
    "<tr>\n",
    "  <th>Platform</th>\n",
    "  <th style=\"text-align: center\">CPU<br>threads</th>\n",
    "  <th style=\"text-align: center\">GPU<br>type</th>\n",
    "  <th style=\"text-align: center\">CUDA<br>SMs</th>\n",
    "  <th style=\"background-color: #EBF5FF\">Python</th>\n",
    "  <th style=\"background-color: #EBF5FF\">Numba</th>\n",
    "  <th style=\"background-color: #EBF5FF\">Multiprocess</th>\n",
    "  <th style=\"background-color: #EBF5FF\">CUDA</th>\n",
    "  <th style=\"background-color: #F0FDF4\">Numba</th>\n",
    "  <th style=\"background-color: #F0FDF4\">Multiprocess</th>\n",
    "  <th style=\"background-color: #F0FDF4\">CUDA</th>\n",
    "  <th style=\"background-color: #FFF8F4\">CUDA</th>\n",
    "</tr>\n",
    "<tr>\n",
    "  <td><b>My PC</b> Win10</td>\n",
    "  <td style=\"text-align: center\">24</td>\n",
    "  <td style=\"text-align: center\">GeForce 3080 Ti</td>\n",
    "  <td style=\"text-align: center\">80</td>\n",
    "  <td style=\"text-align: right; background-color: #EBF5FF\">21,800</td>\n",
    "  <td style=\"text-align: right; background-color: #EBF5FF\">28,200,000</td>\n",
    "  <td style=\"text-align: right; background-color: #EBF5FF\">-</td>\n",
    "  <td style=\"text-align: right; background-color: #EBF5FF\">3,300,000,000</td>\n",
    "  <td style=\"text-align: right; background-color: #F0FDF4\">125,000,000</td>\n",
    "  <td style=\"text-align: right; background-color: #F0FDF4\">-</td>\n",
    "  <td style=\"text-align: right; background-color: #F0FDF4\">12,200,000,000</td>\n",
    "  <td style=\"text-align: right; background-color: #FFF8F4\">?,200,000,000</td>\n",
    "</tr>\n",
    "<tr>\n",
    "  <td><b>My PC</b> WSL2</td>\n",
    "  <td style=\"text-align: center\">24</td>\n",
    "  <td style=\"text-align: center\">GeForce 3080 Ti</td>\n",
    "  <td style=\"text-align: center\">80</td>\n",
    "  <td style=\"text-align: right; background-color: #EBF5FF\">135,000</td>\n",
    "  <td style=\"text-align: right; background-color: #EBF5FF\">33,000,000</td>\n",
    "  <td style=\"text-align: right; background-color: #EBF5FF\">350,000,000</td>\n",
    "  <td style=\"text-align: right; background-color: #EBF5FF\">16,500,000,000</td>\n",
    "  <td style=\"text-align: right; background-color: #F0FDF4\">138,000,000</td>\n",
    "  <td style=\"text-align: right; background-color: #F0FDF4\">912,000,000</td>\n",
    "  <td style=\"text-align: right; background-color: #F0FDF4\">70,000,000,000</td>\n",
    "  <td style=\"text-align: right; background-color: #FFF8F4\">148,000,000,000</td>\n",
    "</tr>\n",
    "<tr>\n",
    "  <td><b>Marcel PC</b> Win</td>\n",
    "  <td style=\"text-align: center\">40</td>\n",
    "  <td style=\"text-align: center\">Titan V</td>\n",
    "  <td style=\"text-align: center\">80</td>\n",
    "  <td style=\"text-align: right; background-color: #EBF5FF\"><s>62,800</s></td>\n",
    "  <td style=\"text-align: right; background-color: #EBF5FF\"><s>5,160,000</s></td>\n",
    "  <td style=\"text-align: right; background-color: #EBF5FF\">-</td>\n",
    "  <td style=\"text-align: right; background-color: #EBF5FF\"><s>2,280,000,000</s></td>\n",
    "  <td style=\"text-align: right; background-color: #F0FDF4\">?00,000,000</td>\n",
    "  <td style=\"text-align: right; background-color: #F0FDF4\">-</td>\n",
    "  <td style=\"text-align: right; background-color: #F0FDF4\">?,000,000,000</td>\n",
    "  <td style=\"text-align: right; background-color: #FFF8F4\">?,000,000,000</td>\n",
    "</tr>\n",
    "<tr>\n",
    "  <td><a href=\"https://colab.research.google.com/github/hhoppe/poker_hand/blob/main/poker_hand.ipynb\"><b>Colab</b> T4</a></td>\n",
    "  <td style=\"text-align: center\">2</td>\n",
    "  <td style=\"text-align: center\">Tesla T4</td>\n",
    "  <td style=\"text-align: center\">40</td>\n",
    "  <td style=\"text-align: right; background-color: #EBF5FF\">17,000</td>\n",
    "  <td style=\"text-align: right; background-color: #EBF5FF\">14,600,000</td>\n",
    "  <td style=\"text-align: right; background-color: #EBF5FF\">16,400,000</td>\n",
    "  <td style=\"text-align: right; background-color: #EBF5FF\">3,670,000,000</td>\n",
    "  <td style=\"text-align: right; background-color: #F0FDF4\">60,000,000</td>\n",
    "  <td style=\"text-align: right; background-color: #F0FDF4\">63,000,000</td>\n",
    "  <td style=\"text-align: right; background-color: #F0FDF4\">32,200,000,000</td>\n",
    "  <td style=\"text-align: right; background-color: #FFF8F4\">32,200,000,000</td>\n",
    "</tr>\n",
    "<tr>\n",
    "  <td><a href=\"https://www.kaggle.com/notebooks/welcome?src=https://github.com/hhoppe/poker_hand/blob/main/poker_hand.ipynb\"><b>Kaggle</b> T4</a></td>\n",
    "  <td style=\"text-align: center\">4</td>\n",
    "  <td style=\"text-align: center\">Tesla T4 x2</td>\n",
    "  <td style=\"text-align: center\">40</td>\n",
    "  <td style=\"text-align: right; background-color: #EBF5FF\">17,300</td>\n",
    "  <td style=\"text-align: right; background-color: #EBF5FF\">14,800,000</td>\n",
    "  <td style=\"text-align: right; background-color: #EBF5FF\">31,800,000</td>\n",
    "  <td style=\"text-align: right; background-color: #EBF5FF\">3,560,000,000</td>\n",
    "  <td style=\"text-align: right; background-color: #F0FDF4\">61,600,000</td>\n",
    "  <td style=\"text-align: right; background-color: #F0FDF4\">117,000,000</td>\n",
    "  <td style=\"text-align: right; background-color: #F0FDF4\">31,800,000,000</td>\n",
    "  <td style=\"text-align: right; background-color: #FFF8F4\">31,800,000,000</td>\n",
    "</tr>\n",
    "<tr>\n",
    "  <td><a href=\"https://www.kaggle.com/notebooks/welcome?src=https://github.com/hhoppe/poker_hand/blob/main/poker_hand.ipynb\"><b>Kaggle</b> P100</a></td>\n",
    "  <td style=\"text-align: center\">4</td>\n",
    "  <td style=\"text-align: center\">Tesla P100</td>\n",
    "  <td style=\"text-align: center\">56</td>\n",
    "  <td style=\"text-align: right; background-color: #EBF5FF\">17,100</td>\n",
    "  <td style=\"text-align: right; background-color: #EBF5FF\">15,000,000</td>\n",
    "  <td style=\"text-align: right; background-color: #EBF5FF\">31,000,000</td>\n",
    "  <td style=\"text-align: right; background-color: #EBF5FF\">3,600,000,000</td>\n",
    "  <td style=\"text-align: right; background-color: #F0FDF4\">62,400,000</td>\n",
    "  <td style=\"text-align: right; background-color: #F0FDF4\">124,000,000</td>\n",
    "  <td style=\"text-align: right; background-color: #F0FDF4\">34,700,000,000</td>\n",
    "  <td style=\"text-align: right; background-color: #FFF8F4\">34,700,000,000</td>\n",
    "</tr>\n",
    "<tr>\n",
    "  <td><a href=\"https://mybinder.org/v2/gh/hhoppe/poker_hand/main?urlpath=lab/tree/poker_hand.ipynb\"><b>Mybinder</b></a></td>\n",
    "  <td style=\"text-align: center\">72</td>\n",
    "  <td style=\"text-align: center\">None</td>\n",
    "  <td style=\"text-align: center\">-</td>\n",
    "  <td style=\"text-align: right; background-color: #EBF5FF\">18,200</td>\n",
    "  <td style=\"text-align: right; background-color: #EBF5FF\">7,100,000</td>\n",
    "  <td style=\"text-align: right; background-color: #EBF5FF\">3,200,000</td>\n",
    "  <td style=\"text-align: right; background-color: #EBF5FF\">-</td>\n",
    "  <td style=\"text-align: right; background-color: #F0FDF4\">23,500,000</td>\n",
    "  <td style=\"text-align: right; background-color: #F0FDF4\">9,600,000</td>\n",
    "  <td style=\"text-align: right; background-color: #F0FDF4\">-</td>\n",
    "  <td style=\"text-align: right; background-color: #FFF8F4\">-</td>\n",
    "</tr>\n",
    "<tr>\n",
    "  <td><a href=\"https://deepnote.com/launch?url=https%3A%2F%2Fgithub.com%2Fhhoppe%2Fpoker_hand%2Fblob%2Fmain%2Fpoker_hand.ipynb\"><b>Deepnote</b></a></td>\n",
    "  <td style=\"text-align: center\">8</td>\n",
    "  <td style=\"text-align: center\">None</td>\n",
    "  <td style=\"text-align: center\">-</td>\n",
    "  <td style=\"text-align: right; background-color: #EBF5FF\">16,600</td>\n",
    "  <td style=\"text-align: right; background-color: #EBF5FF\">23,700,000</td>\n",
    "  <td style=\"text-align: right; background-color: #EBF5FF\">12,900,000</td>\n",
    "  <td style=\"text-align: right; background-color: #EBF5FF\">-</td>\n",
    "  <td style=\"text-align: right; background-color: #F0FDF4\">72,300,000</td>\n",
    "  <td style=\"text-align: right; background-color: #F0FDF4\">47,500,000</td>\n",
    "  <td style=\"text-align: right; background-color: #F0FDF4\">-</td>\n",
    "  <td style=\"text-align: right; background-color: #FFF8F4\">-</td>\n",
    "</tr>\n",
    "</table>"
   ]
  },
  {
   "cell_type": "markdown",
   "id": "17ce3127-cbd5-445b-900d-6c01ddac60a7",
   "metadata": {},
   "source": [
    "It is puzzling that the CUDA rate is lower on my PC than on the online servers.  The GeForce may have worse uint64 throughput?"
   ]
  },
  {
   "cell_type": "markdown",
   "id": "926b7255-e5af-473f-809b-000987e06690",
   "metadata": {},
   "source": [
    "## Imports"
   ]
  },
  {
   "cell_type": "code",
   "execution_count": 1,
   "id": "96f8b5b5-8cda-4b5f-8b07-145cf83d0dfd",
   "metadata": {
    "execution": {
     "iopub.execute_input": "2025-01-16T00:55:20.830790Z",
     "iopub.status.busy": "2025-01-16T00:55:20.830529Z",
     "iopub.status.idle": "2025-01-16T00:55:22.192676Z",
     "shell.execute_reply": "2025-01-16T00:55:22.191651Z",
     "shell.execute_reply.started": "2025-01-16T00:55:20.830776Z"
    }
   },
   "outputs": [],
   "source": [
    "!pip install -q numba"
   ]
  },
  {
   "cell_type": "code",
   "execution_count": 2,
   "id": "23fdecec-8b75-4c95-94f1-46c68b6202e6",
   "metadata": {
    "execution": {
     "iopub.execute_input": "2025-01-16T00:55:22.193621Z",
     "iopub.status.busy": "2025-01-16T00:55:22.193430Z",
     "iopub.status.idle": "2025-01-16T00:55:22.306286Z",
     "shell.execute_reply": "2025-01-16T00:55:22.305588Z",
     "shell.execute_reply.started": "2025-01-16T00:55:22.193598Z"
    }
   },
   "outputs": [],
   "source": [
    "!if [ ! -f random32.py ]; then wget https://github.com/hhoppe/poker_hand/raw/main/random32.py; fi"
   ]
  },
  {
   "cell_type": "code",
   "execution_count": 3,
   "id": "b7672379",
   "metadata": {
    "execution": {
     "iopub.execute_input": "2025-01-16T00:55:22.307749Z",
     "iopub.status.busy": "2025-01-16T00:55:22.307179Z",
     "iopub.status.idle": "2025-01-16T00:55:22.761602Z",
     "shell.execute_reply": "2025-01-16T00:55:22.761004Z",
     "shell.execute_reply.started": "2025-01-16T00:55:22.307731Z"
    },
    "tags": []
   },
   "outputs": [],
   "source": [
    "import enum\n",
    "import math\n",
    "from math import comb\n",
    "import multiprocessing\n",
    "import pathlib\n",
    "import time\n",
    "import typing\n",
    "from typing import Any, Callable\n",
    "\n",
    "import numba\n",
    "from numba import cuda\n",
    "import numba.cuda.random\n",
    "import numpy as np\n",
    "import numpy.typing\n",
    "import random32  # Replacement for https://github.com/numba/numba/blob/main/numba/cuda/random.py"
   ]
  },
  {
   "cell_type": "code",
   "execution_count": 4,
   "id": "9fc26416-6d68-4b99-8d74-5d536a8b8932",
   "metadata": {
    "execution": {
     "iopub.execute_input": "2025-01-16T00:55:22.762559Z",
     "iopub.status.busy": "2025-01-16T00:55:22.762315Z",
     "iopub.status.idle": "2025-01-16T00:55:22.765445Z",
     "shell.execute_reply": "2025-01-16T00:55:22.764838Z",
     "shell.execute_reply.started": "2025-01-16T00:55:22.762543Z"
    }
   },
   "outputs": [],
   "source": [
    "# mypy: disable-error-code=\"no-any-return\""
   ]
  },
  {
   "cell_type": "code",
   "execution_count": 5,
   "id": "c602fa82",
   "metadata": {
    "execution": {
     "iopub.execute_input": "2025-01-16T00:55:22.766836Z",
     "iopub.status.busy": "2025-01-16T00:55:22.766172Z",
     "iopub.status.idle": "2025-01-16T00:55:22.775005Z",
     "shell.execute_reply": "2025-01-16T00:55:22.774376Z",
     "shell.execute_reply.started": "2025-01-16T00:55:22.766819Z"
    }
   },
   "outputs": [],
   "source": [
    "_NDArray = numpy.typing.NDArray[Any]\n",
    "_CudaArray = Any  # cuda.cudadrv.devicearray.DeviceNDArray\n",
    "_F = typing.TypeVar('_F', bound=Callable[..., Any])"
   ]
  },
  {
   "cell_type": "markdown",
   "id": "5071ce25-73c7-4a64-8414-767907ad6063",
   "metadata": {},
   "source": [
    "## Compute capabilities"
   ]
  },
  {
   "cell_type": "code",
   "execution_count": 6,
   "id": "40f2522d-afa5-4bf8-9f0a-5623defb8c46",
   "metadata": {
    "execution": {
     "iopub.execute_input": "2025-01-16T00:55:22.777018Z",
     "iopub.status.busy": "2025-01-16T00:55:22.776656Z",
     "iopub.status.idle": "2025-01-16T00:55:22.784245Z",
     "shell.execute_reply": "2025-01-16T00:55:22.783679Z",
     "shell.execute_reply.started": "2025-01-16T00:55:22.777004Z"
    }
   },
   "outputs": [
    {
     "name": "stdout",
     "output_type": "stream",
     "text": [
      "The number of CPU threads is 24.\n"
     ]
    }
   ],
   "source": [
    "print(f'The number of CPU threads is {multiprocessing.cpu_count()}.')"
   ]
  },
  {
   "cell_type": "code",
   "execution_count": 7,
   "id": "4fc255c9-8b8e-463e-a685-6a2785c0e63e",
   "metadata": {
    "execution": {
     "iopub.execute_input": "2025-01-16T00:55:22.785256Z",
     "iopub.status.busy": "2025-01-16T00:55:22.784924Z",
     "iopub.status.idle": "2025-01-16T00:55:22.794267Z",
     "shell.execute_reply": "2025-01-16T00:55:22.793659Z",
     "shell.execute_reply.started": "2025-01-16T00:55:22.785243Z"
    }
   },
   "outputs": [
    {
     "name": "stdout",
     "output_type": "stream",
     "text": [
      "Support for multiprocess \"fork\": True\n"
     ]
    }
   ],
   "source": [
    "MULTIPROCESS_IS_AVAILABLE = 'fork' in multiprocessing.get_all_start_methods()\n",
    "print(f'Support for multiprocess \"fork\": {MULTIPROCESS_IS_AVAILABLE}')"
   ]
  },
  {
   "cell_type": "code",
   "execution_count": 8,
   "id": "23e84adb-9b5e-4ba9-97bd-bdb7c0f92cae",
   "metadata": {
    "execution": {
     "iopub.execute_input": "2025-01-16T00:55:22.795482Z",
     "iopub.status.busy": "2025-01-16T00:55:22.795323Z",
     "iopub.status.idle": "2025-01-16T00:55:23.152100Z",
     "shell.execute_reply": "2025-01-16T00:55:23.151509Z",
     "shell.execute_reply.started": "2025-01-16T00:55:22.795470Z"
    },
    "lines_to_next_cell": 2
   },
   "outputs": [
    {
     "name": "stdout",
     "output_type": "stream",
     "text": [
      "Found 1 CUDA devices\n",
      "id 0    b'NVIDIA GeForce RTX 3080 Ti'                              [SUPPORTED]\n",
      "                      Compute Capability: 8.6\n",
      "                           PCI Device ID: 0\n",
      "                              PCI Bus ID: 10\n",
      "                                    UUID: GPU-e50896f3-f795-945c-9c59-fffc57278834\n",
      "                                Watchdog: Enabled\n",
      "             FP32/FP64 Performance Ratio: 32\n",
      "Summary:\n",
      "\t1/1 devices are supported\n",
      "The number of GPU SMs is 80\n"
     ]
    }
   ],
   "source": [
    "if cuda.is_available() and cuda.detect():\n",
    "  print(f'The number of GPU SMs is {cuda.get_current_device().MULTIPROCESSOR_COUNT}')"
   ]
  },
  {
   "cell_type": "markdown",
   "id": "e5af2c7f-c334-49ad-9afb-fb73cf6d7db4",
   "metadata": {
    "execution": {
     "iopub.execute_input": "2024-12-29T01:42:55.940070Z",
     "iopub.status.busy": "2024-12-29T01:42:55.939661Z",
     "iopub.status.idle": "2024-12-29T01:42:55.942841Z",
     "shell.execute_reply": "2024-12-29T01:42:55.942254Z",
     "shell.execute_reply.started": "2024-12-29T01:42:55.940047Z"
    },
    "lines_to_next_cell": 2
   },
   "source": [
    "## Shared code"
   ]
  },
  {
   "cell_type": "code",
   "execution_count": 9,
   "id": "cc2447c0-0ded-4360-bf8e-7e35be276331",
   "metadata": {
    "execution": {
     "iopub.execute_input": "2025-01-16T00:55:23.153204Z",
     "iopub.status.busy": "2025-01-16T00:55:23.152847Z",
     "iopub.status.idle": "2025-01-16T00:55:23.157141Z",
     "shell.execute_reply": "2025-01-16T00:55:23.156588Z",
     "shell.execute_reply.started": "2025-01-16T00:55:23.153187Z"
    }
   },
   "outputs": [],
   "source": [
    "DECK_SIZE = 52\n",
    "NUM_SUITS = 4\n",
    "NUM_RANKS = 13\n",
    "HAND_SIZE = 5\n",
    "HANDS_PER_DECK = DECK_SIZE - HAND_SIZE + 1  # We consider all overlapping hands in a shuffled deck.\n",
    "CARDS_FOR_A_FLUSH = 5\n",
    "CARDS_FOR_A_STRAIGHT = 5\n",
    "RNG = np.random.default_rng(1)"
   ]
  },
  {
   "cell_type": "code",
   "execution_count": 10,
   "id": "d6635058-f273-41d9-93a4-2b0c89cb65cc",
   "metadata": {
    "execution": {
     "iopub.execute_input": "2025-01-16T00:55:23.158009Z",
     "iopub.status.busy": "2025-01-16T00:55:23.157768Z",
     "iopub.status.idle": "2025-01-16T00:55:23.166909Z",
     "shell.execute_reply": "2025-01-16T00:55:23.166353Z",
     "shell.execute_reply.started": "2025-01-16T00:55:23.157997Z"
    }
   },
   "outputs": [],
   "source": [
    "class Outcome(enum.IntEnum):\n",
    "  \"\"\"Poker hand rankings from best to worst.\"\"\"\n",
    "\n",
    "  string_name: str\n",
    "  reference_count: int  # https://en.wikipedia.org/wiki/Poker_probability\n",
    "\n",
    "  ROYAL_FLUSH = 0, 'Royal flush', comb(4, 1)\n",
    "  STRAIGHT_FLUSH = 1, 'Straight flush', comb(10, 1) * comb(4, 1) - comb(4, 1)\n",
    "  FOUR_OF_A_KIND = 2, 'Four of a kind', comb(13, 1) * comb(4, 4) * comb(12, 1) * comb(4, 1)\n",
    "  FULL_HOUSE = 3, 'Full house', comb(13, 1) * comb(4, 3) * comb(12, 1) * comb(4, 2)\n",
    "  FLUSH = 4, 'Flush', comb(13, 5) * comb(4, 1) - comb(10, 1) * comb(4, 1)\n",
    "  STRAIGHT = 5, 'Straight', comb(10, 1) * comb(4, 1) ** 5 - comb(10, 1) * comb(4, 1)\n",
    "  THREE_OF_A_KIND = 6, 'Three of a kind', comb(13, 1) * comb(4, 3) * comb(12, 2) * comb(4, 1) ** 2\n",
    "  TWO_PAIR = 7, 'Two pair', comb(13, 2) * comb(4, 2) ** 2 * comb(11, 1) * comb(4, 1)\n",
    "  ONE_PAIR = 8, 'One pair', comb(13, 1) * comb(4, 2) * comb(12, 3) * comb(4, 1) ** 3\n",
    "  HIGH_CARD = 9, 'High card', (comb(13, 5) - comb(10, 1)) * (comb(4, 1) ** 5 - comb(4, 1))\n",
    "\n",
    "  def __new__(cls, value: int, string_name: str, reference_count: int) -> Any:\n",
    "    obj = int.__new__(cls, value)\n",
    "    obj._value_ = value\n",
    "    obj.string_name = string_name\n",
    "    obj.reference_count = reference_count\n",
    "    return obj"
   ]
  },
  {
   "cell_type": "code",
   "execution_count": 11,
   "id": "16cb8893-08da-4397-93c1-edb44fe8b06b",
   "metadata": {
    "execution": {
     "iopub.execute_input": "2025-01-16T00:55:23.167671Z",
     "iopub.status.busy": "2025-01-16T00:55:23.167533Z",
     "iopub.status.idle": "2025-01-16T00:55:23.178888Z",
     "shell.execute_reply": "2025-01-16T00:55:23.178338Z",
     "shell.execute_reply.started": "2025-01-16T00:55:23.167659Z"
    }
   },
   "outputs": [],
   "source": [
    "NUM_OUTCOMES = len(Outcome)\n",
    "Probabilities = _NDArray  # Or np.ndarray[tuple[Literal[10]], np.dtype[np.float64]]\n",
    "EXPECTED_PROB = np.array([o.reference_count for o in Outcome]) / comb(DECK_SIZE, HAND_SIZE)\n",
    "assert np.allclose(np.sum(EXPECTED_PROB), 1.0)"
   ]
  },
  {
   "cell_type": "code",
   "execution_count": 12,
   "id": "5da02913-9231-40f5-bc60-a2aaddff1b28",
   "metadata": {
    "execution": {
     "iopub.execute_input": "2025-01-16T00:55:23.179743Z",
     "iopub.status.busy": "2025-01-16T00:55:23.179552Z",
     "iopub.status.idle": "2025-01-16T00:55:23.188860Z",
     "shell.execute_reply": "2025-01-16T00:55:23.188276Z",
     "shell.execute_reply.started": "2025-01-16T00:55:23.179731Z"
    }
   },
   "outputs": [],
   "source": [
    "def numba_njit(*args: Any, **kwargs: Any) -> Callable[[_F], _F]:\n",
    "  \"\"\"Typed replacement for non-bare `@numba.njit()` decorator.\"\"\"\n",
    "  assert kwargs or not (len(args) == 1 and callable(args[0]))\n",
    "\n",
    "  def decorator(func: _F) -> _F:\n",
    "    jitted_func: _F = numba.njit(*args, **kwargs)(func)\n",
    "    return jitted_func\n",
    "\n",
    "  return decorator"
   ]
  },
  {
   "cell_type": "code",
   "execution_count": 13,
   "id": "14525098-bd95-4688-9cf4-b56e7526f8ad",
   "metadata": {
    "execution": {
     "iopub.execute_input": "2025-01-16T00:55:23.189857Z",
     "iopub.status.busy": "2025-01-16T00:55:23.189611Z",
     "iopub.status.idle": "2025-01-16T00:55:23.198467Z",
     "shell.execute_reply": "2025-01-16T00:55:23.197935Z",
     "shell.execute_reply.started": "2025-01-16T00:55:23.189842Z"
    }
   },
   "outputs": [],
   "source": [
    "def popc_helper(typing_context: Any, src: Any) -> Any:\n",
    "  \"\"\"Helper function to enable the intrinsic CPU instruction `popc()`.\"\"\"\n",
    "  del typing_context\n",
    "  if not isinstance(src, numba.types.Integer):\n",
    "    return None\n",
    "  DICT = {numba.uint64: 'i64', numba.uint32: 'i32', numba.uint16: 'i16', numba.uint8: 'i8'}\n",
    "  DICT |= {numba.int64: 'i64', numba.int32: 'i32', numba.int16: 'i16', numba.int8: 'i8'}\n",
    "  llvm_type = DICT[src]\n",
    "\n",
    "  def codegen(context: Any, builder: Any, signature: Any, args: Any) -> Any:\n",
    "    del context, signature\n",
    "    return numba.cpython.mathimpl.call_fp_intrinsic(builder, 'llvm.ctpop.' + llvm_type, args)\n",
    "\n",
    "  return src(src), codegen\n",
    "\n",
    "\n",
    "popc_intrinsic: Callable[[int], int] = numba.extending.intrinsic(popc_helper)\n",
    "\n",
    "\n",
    "@numba_njit(inline='always')\n",
    "def cpu_popc(x: int) -> int:  # https://stackoverflow.com/a/77103233\n",
    "  \"\"\"Return the (\"population\") count of set bits in an integer, using a CPU intrinsic.\"\"\"\n",
    "  return popc_intrinsic(x)"
   ]
  },
  {
   "cell_type": "code",
   "execution_count": 14,
   "id": "5cb8f685",
   "metadata": {
    "execution": {
     "iopub.execute_input": "2025-01-16T00:55:23.199309Z",
     "iopub.status.busy": "2025-01-16T00:55:23.199094Z",
     "iopub.status.idle": "2025-01-16T00:55:23.210617Z",
     "shell.execute_reply": "2025-01-16T00:55:23.209940Z",
     "shell.execute_reply.started": "2025-01-16T00:55:23.199297Z"
    }
   },
   "outputs": [],
   "source": [
    "@numba_njit(inline='always')\n",
    "def gpu_popc(x: int) -> int:\n",
    "  \"\"\"Return the (\"population\") count of set bits in an integer, using a CUDA intrinsic.\"\"\"\n",
    "  return cuda.popc(x)  # pylint: disable=too-many-function-args"
   ]
  },
  {
   "cell_type": "code",
   "execution_count": 15,
   "id": "70cee4f8-7a70-40ed-b497-64215c07468a",
   "metadata": {
    "execution": {
     "iopub.execute_input": "2025-01-16T00:55:23.211768Z",
     "iopub.status.busy": "2025-01-16T00:55:23.211427Z",
     "iopub.status.idle": "2025-01-16T00:55:23.219513Z",
     "shell.execute_reply": "2025-01-16T00:55:23.218890Z",
     "shell.execute_reply.started": "2025-01-16T00:55:23.211751Z"
    }
   },
   "outputs": [],
   "source": [
    "def write_numba_assembly_code(function: Callable[..., Any], filename: str) -> None:\n",
    "  \"\"\"Write the asm or ptx code for a numba function to an output file.\"\"\"\n",
    "  (asm_or_ptx,) = function.inspect_asm().values()  # type: ignore[attr-defined]\n",
    "  pathlib.Path(filename).write_text(asm_or_ptx, encoding='utf-8')"
   ]
  },
  {
   "cell_type": "code",
   "execution_count": 16,
   "id": "e6e87979-f6ba-42ec-bb1a-24a1b23dff80",
   "metadata": {
    "execution": {
     "iopub.execute_input": "2025-01-16T00:55:23.220479Z",
     "iopub.status.busy": "2025-01-16T00:55:23.220196Z",
     "iopub.status.idle": "2025-01-16T00:55:23.228938Z",
     "shell.execute_reply": "2025-01-16T00:55:23.228254Z",
     "shell.execute_reply.started": "2025-01-16T00:55:23.220464Z"
    },
    "lines_to_next_cell": 2
   },
   "outputs": [],
   "source": [
    "def report_cuda_kernel_properties(function: Callable[..., Any]) -> None:\n",
    "  \"\"\"Show memory attributes of a CUDA kernel function.\"\"\"\n",
    "  PROPERTIES = 'const_mem_size local_mem_per_thread max_threads_per_block regs_per_thread shared_mem_per_block'.split()\n",
    "  for property_name in PROPERTIES:\n",
    "    (value,) = getattr(function, 'get_' + property_name)().values()\n",
    "    print(f'{property_name} = {value}')"
   ]
  },
  {
   "cell_type": "markdown",
   "id": "c53fd3b4-129f-4acd-9c1f-3dc1cf809b16",
   "metadata": {},
   "source": [
    "## Approach 1: card arrays"
   ]
  },
  {
   "cell_type": "markdown",
   "id": "0f57c990-ed5f-4ce8-9fcb-0894da7d3d7f",
   "metadata": {},
   "source": [
    "We represent a card as a 6-bit integer in `range(52)`, with the suit `range(4)` in the 2 lsb and the rank `range(13)` in the top 4 msb.\n",
    "\n",
    "A hand is a tuple of five such integers."
   ]
  },
  {
   "cell_type": "markdown",
   "id": "c193e996-9ea5-40fd-806a-b4642241507b",
   "metadata": {
    "execution": {
     "iopub.execute_input": "2024-12-29T01:42:55.940070Z",
     "iopub.status.busy": "2024-12-29T01:42:55.939661Z",
     "iopub.status.idle": "2024-12-29T01:42:55.942841Z",
     "shell.execute_reply": "2024-12-29T01:42:55.942254Z",
     "shell.execute_reply.started": "2024-12-29T01:42:55.940047Z"
    },
    "lines_to_next_cell": 2
   },
   "source": [
    "### Hand evaluation"
   ]
  },
  {
   "cell_type": "code",
   "execution_count": 17,
   "id": "f74eebae-594a-4324-94af-edbcb7b69e33",
   "metadata": {
    "execution": {
     "iopub.execute_input": "2025-01-16T00:55:23.229848Z",
     "iopub.status.busy": "2025-01-16T00:55:23.229670Z",
     "iopub.status.idle": "2025-01-16T00:55:23.238893Z",
     "shell.execute_reply": "2025-01-16T00:55:23.238310Z",
     "shell.execute_reply.started": "2025-01-16T00:55:23.229834Z"
    }
   },
   "outputs": [],
   "source": [
    "def outcome_of_hand_array_python(cards: Any, ranks: Any, freqs: Any) -> Outcome:\n",
    "  \"\"\"Evaluate a 5-card poker hand and return its outcome ranking, using array data structures.\n",
    "\n",
    "  Args:\n",
    "    cards: Array of 5 integers representing cards (0-51).\n",
    "    ranks: Pre-allocated array for storing sorted ranks.\n",
    "    freqs: Pre-allocated array for counting rank frequencies.\n",
    "\n",
    "  Returns:\n",
    "    An enum representing the hand ranking.\n",
    "  \"\"\"\n",
    "  # pylint: disable=consider-using-in\n",
    "\n",
    "  def get_rank(card: int) -> int:\n",
    "    return card >> 2  # In range(NUM_RANKS), ordered '23456789TJQKA'.\n",
    "\n",
    "  def get_suit(card: int) -> int:\n",
    "    return card & 0b11  # In range(4).\n",
    "\n",
    "  # Sort cards by rank for easier pattern matching, using simple insertion sort.\n",
    "  for i in range(HAND_SIZE):\n",
    "    ranks[i] = get_rank(cards[i])\n",
    "  # ranks.sort()\n",
    "  for i in range(1, HAND_SIZE):\n",
    "    key = ranks[i]\n",
    "    j = i - 1\n",
    "    while j >= 0 and ranks[j] > key:\n",
    "      ranks[j + 1] = ranks[j]\n",
    "      j -= 1\n",
    "    ranks[j + 1] = key\n",
    "\n",
    "  # is_flush = all(card == cards[0] for card in cards[1:])\n",
    "  # Expanding `cards` on the rhs results in better cuda-compiled code.\n",
    "  c0, c1, c2, c3, c4 = cards[0], cards[1], cards[2], cards[3], cards[4]\n",
    "  is_flush = get_suit(c0) == get_suit(c1) == get_suit(c2) == get_suit(c3) == get_suit(c4)\n",
    "\n",
    "  # Expanding `ranks` on the rhs results in better cuda-compiled code.\n",
    "  r0, r1, r2, r3, r4 = ranks[0], ranks[1], ranks[2], ranks[3], ranks[4]\n",
    "  # We must also consider the ace-low straight 'A2345'.\n",
    "  is_straight = r1 == r0 + 1 and r2 == r0 + 2 and r3 == r0 + 3 and (r4 == r0 + 4 or r4 == r0 + 12)\n",
    "\n",
    "  # Count rank frequencies.\n",
    "  freqs[:] = 0\n",
    "  for rank in ranks:\n",
    "    freqs[rank] += 1\n",
    "\n",
    "  # max_freq = max(freqs)\n",
    "  # num_pairs = np.sum(freqs == 2)\n",
    "  max_freq = 0\n",
    "  num_pairs = 0\n",
    "  for freq in freqs:\n",
    "    max_freq = max(max_freq, freq)\n",
    "    if freq == 2:\n",
    "      num_pairs += 1\n",
    "\n",
    "  if is_flush and is_straight:\n",
    "    if ranks[0] == 8:\n",
    "      return Outcome.ROYAL_FLUSH\n",
    "    return Outcome.STRAIGHT_FLUSH\n",
    "  if max_freq == 4:\n",
    "    return Outcome.FOUR_OF_A_KIND\n",
    "  if max_freq == 3 and num_pairs > 0:\n",
    "    return Outcome.FULL_HOUSE\n",
    "  if is_flush:\n",
    "    return Outcome.FLUSH\n",
    "  if is_straight:\n",
    "    return Outcome.STRAIGHT\n",
    "  if max_freq == 3:\n",
    "    return Outcome.THREE_OF_A_KIND\n",
    "  if max_freq == 2:\n",
    "    if num_pairs == 2:\n",
    "      return Outcome.TWO_PAIR\n",
    "    return Outcome.ONE_PAIR\n",
    "  return Outcome.HIGH_CARD"
   ]
  },
  {
   "cell_type": "code",
   "execution_count": 18,
   "id": "8676ddc6-f14c-4fe3-8316-249f247439ad",
   "metadata": {
    "execution": {
     "iopub.execute_input": "2025-01-16T00:55:23.240010Z",
     "iopub.status.busy": "2025-01-16T00:55:23.239635Z",
     "iopub.status.idle": "2025-01-16T00:55:23.250518Z",
     "shell.execute_reply": "2025-01-16T00:55:23.249831Z",
     "shell.execute_reply.started": "2025-01-16T00:55:23.239995Z"
    }
   },
   "outputs": [],
   "source": [
    "outcome_of_hand_array_numba = numba_njit(inline='always')(outcome_of_hand_array_python)"
   ]
  },
  {
   "cell_type": "markdown",
   "id": "b2c72168-c7d6-4792-9ea9-ee887733a7e1",
   "metadata": {
    "execution": {
     "iopub.execute_input": "2024-12-29T01:43:09.066669Z",
     "iopub.status.busy": "2024-12-29T01:43:09.066142Z",
     "iopub.status.idle": "2024-12-29T01:43:09.069033Z",
     "shell.execute_reply": "2024-12-29T01:43:09.068530Z",
     "shell.execute_reply.started": "2024-12-29T01:43:09.066653Z"
    },
    "lines_to_next_cell": 2
   },
   "source": [
    "### CPU simulation"
   ]
  },
  {
   "cell_type": "code",
   "execution_count": 19,
   "id": "61102c48-3b12-497c-adcd-a5dab40f1ac7",
   "metadata": {
    "execution": {
     "iopub.execute_input": "2025-01-16T00:55:23.251883Z",
     "iopub.status.busy": "2025-01-16T00:55:23.251322Z",
     "iopub.status.idle": "2025-01-16T00:55:23.259775Z",
     "shell.execute_reply": "2025-01-16T00:55:23.259151Z",
     "shell.execute_reply.started": "2025-01-16T00:55:23.251864Z"
    }
   },
   "outputs": [],
   "source": [
    "def make_compute_array_cpu(for_numba: bool) -> Callable[[int, np.random.Generator], Probabilities]:\n",
    "  \"\"\"Factory returning a function for Python or numba evaluation.\"\"\"\n",
    "  outcome_of_hand_array = outcome_of_hand_array_numba if for_numba else outcome_of_hand_array_python\n",
    "\n",
    "  def compute_array_cpu(num_decks: int, rng: np.random.Generator) -> Probabilities:\n",
    "    \"\"\"Return hand probabilities computed on the CPU using array data structures.\"\"\"\n",
    "    BLOCK_SIZE = 10\n",
    "    # deck_block = np.arange(DECK_SIZE, dtype=np.uint8).repeat(BLOCK_SIZE).reshape(DECK_SIZE, -1).T\n",
    "    deck_block = np.empty((BLOCK_SIZE, DECK_SIZE), dtype=np.uint8)\n",
    "    deck_block[:] = np.arange(DECK_SIZE, dtype=np.uint8)\n",
    "    ranks = np.empty(HAND_SIZE, np.uint8)\n",
    "    freqs = np.empty(NUM_RANKS, np.int8)\n",
    "    tally = np.zeros(NUM_OUTCOMES, np.int64)\n",
    "    for deck_index_start in range(0, num_decks, BLOCK_SIZE):\n",
    "      deck_block2 = rng.permutation(deck_block, axis=1)\n",
    "      for deck_index in range(deck_index_start, min(deck_index_start + BLOCK_SIZE, num_decks)):\n",
    "        deck = deck_block2[deck_index - deck_index_start]\n",
    "        for hand_index in range(HANDS_PER_DECK):\n",
    "          hand = deck[hand_index : hand_index + 5]\n",
    "          outcome = outcome_of_hand_array(hand, ranks, freqs)\n",
    "          tally[outcome.value] += 1\n",
    "    return tally / (num_decks * HANDS_PER_DECK)\n",
    "\n",
    "  return compute_array_cpu"
   ]
  },
  {
   "cell_type": "code",
   "execution_count": 20,
   "id": "b7e33708-c91f-486c-bb02-71da114e1a69",
   "metadata": {
    "execution": {
     "iopub.execute_input": "2025-01-16T00:55:23.261065Z",
     "iopub.status.busy": "2025-01-16T00:55:23.260683Z",
     "iopub.status.idle": "2025-01-16T00:55:23.269415Z",
     "shell.execute_reply": "2025-01-16T00:55:23.268834Z",
     "shell.execute_reply.started": "2025-01-16T00:55:23.261049Z"
    },
    "lines_to_next_cell": 2
   },
   "outputs": [],
   "source": [
    "simulate_hands_array_cpu_python = make_compute_array_cpu(for_numba=False)\n",
    "simulate_hands_array_cpu_numba = numba_njit()(make_compute_array_cpu(for_numba=True))"
   ]
  },
  {
   "cell_type": "code",
   "execution_count": 21,
   "id": "14583f1b-5e96-4a18-9e6b-dcf13d57a876",
   "metadata": {
    "execution": {
     "iopub.execute_input": "2025-01-16T00:55:23.272835Z",
     "iopub.status.busy": "2025-01-16T00:55:23.272328Z",
     "iopub.status.idle": "2025-01-16T00:55:23.278992Z",
     "shell.execute_reply": "2025-01-16T00:55:23.278347Z",
     "shell.execute_reply.started": "2025-01-16T00:55:23.272816Z"
    }
   },
   "outputs": [],
   "source": [
    "if 0:\n",
    "  write_numba_assembly_code(simulate_hands_array_cpu_numba, 'simulate_hands_array_cpu_numba.asm')"
   ]
  },
  {
   "cell_type": "code",
   "execution_count": 22,
   "id": "ebec99b5-9246-4e29-94ed-ed675d03e549",
   "metadata": {
    "execution": {
     "iopub.execute_input": "2025-01-16T00:55:23.280228Z",
     "iopub.status.busy": "2025-01-16T00:55:23.279722Z",
     "iopub.status.idle": "2025-01-16T00:55:32.371976Z",
     "shell.execute_reply": "2025-01-16T00:55:32.371147Z",
     "shell.execute_reply.started": "2025-01-16T00:55:23.280211Z"
    },
    "lines_to_next_cell": 2
   },
   "outputs": [],
   "source": [
    "assert np.allclose(simulate_hands_array_cpu_numba(10**5, RNG), EXPECTED_PROB, atol=0.001)"
   ]
  },
  {
   "cell_type": "code",
   "execution_count": 23,
   "id": "2b737c66-9df8-4f2b-bc90-63d850850777",
   "metadata": {
    "execution": {
     "iopub.execute_input": "2025-01-16T00:55:32.373556Z",
     "iopub.status.busy": "2025-01-16T00:55:32.372868Z",
     "iopub.status.idle": "2025-01-16T00:55:33.899986Z",
     "shell.execute_reply": "2025-01-16T00:55:33.899385Z",
     "shell.execute_reply.started": "2025-01-16T00:55:32.373538Z"
    }
   },
   "outputs": [
    {
     "name": "stdout",
     "output_type": "stream",
     "text": [
      "761 ms ± 5.59 ms per loop (mean ± std. dev. of 2 runs, 1 loop each)\n"
     ]
    }
   ],
   "source": [
    "%timeit -n1 -r2 simulate_hands_array_cpu_python(2000, RNG)  # ~750 ms."
   ]
  },
  {
   "cell_type": "code",
   "execution_count": 24,
   "id": "e6d31c92-50f3-4c51-b333-0cbdfdd2bdd5",
   "metadata": {
    "execution": {
     "iopub.execute_input": "2025-01-16T00:55:33.901047Z",
     "iopub.status.busy": "2025-01-16T00:55:33.900740Z",
     "iopub.status.idle": "2025-01-16T00:55:35.970557Z",
     "shell.execute_reply": "2025-01-16T00:55:35.969910Z",
     "shell.execute_reply.started": "2025-01-16T00:55:33.901031Z"
    },
    "lines_to_next_cell": 2
   },
   "outputs": [
    {
     "name": "stdout",
     "output_type": "stream",
     "text": [
      "10.3 ms ± 12.8 µs per loop (mean ± std. dev. of 2 runs, 100 loops each)\n"
     ]
    }
   ],
   "source": [
    "%timeit -n100 -r2 simulate_hands_array_cpu_numba(10**4, RNG)  # ~10.3 ms."
   ]
  },
  {
   "cell_type": "code",
   "execution_count": 25,
   "id": "38b2467c-cc46-4b3d-ab2e-0db7891bcf6f",
   "metadata": {
    "execution": {
     "iopub.execute_input": "2025-01-16T00:55:35.971751Z",
     "iopub.status.busy": "2025-01-16T00:55:35.971338Z",
     "iopub.status.idle": "2025-01-16T00:55:35.975298Z",
     "shell.execute_reply": "2025-01-16T00:55:35.974357Z",
     "shell.execute_reply.started": "2025-01-16T00:55:35.971734Z"
    }
   },
   "outputs": [],
   "source": [
    "def compute_array_chunk(args: tuple[int, np.random.Generator]) -> Probabilities:\n",
    "  \"\"\"Helper function for multiprocess dispatching.\"\"\"\n",
    "  num_decks, rng = args\n",
    "  return simulate_hands_array_cpu_numba(num_decks, rng)"
   ]
  },
  {
   "cell_type": "code",
   "execution_count": 26,
   "id": "a853fae1-8516-417c-97de-b221f97c6d40",
   "metadata": {
    "execution": {
     "iopub.execute_input": "2025-01-16T00:55:35.976501Z",
     "iopub.status.busy": "2025-01-16T00:55:35.976328Z",
     "iopub.status.idle": "2025-01-16T00:55:35.984610Z",
     "shell.execute_reply": "2025-01-16T00:55:35.984011Z",
     "shell.execute_reply.started": "2025-01-16T00:55:35.976489Z"
    },
    "lines_to_next_cell": 2
   },
   "outputs": [],
   "source": [
    "def simulate_hands_array_cpu_numba_multiprocess(\n",
    "    num_decks: int, rng: np.random.Generator\n",
    ") -> Probabilities:\n",
    "  \"\"\"Compute hand probabilities using multiprocessing.\"\"\"\n",
    "  num_processes = multiprocessing.cpu_count()\n",
    "  chunk_num_decks = math.ceil(num_decks / num_processes)\n",
    "  new_rngs = rng.spawn(num_processes)\n",
    "  chunks = [(chunk_num_decks, new_rng) for new_rng in new_rngs]\n",
    "  with multiprocessing.get_context('fork').Pool(num_processes) as pool:\n",
    "    results = pool.map(compute_array_chunk, chunks)\n",
    "  return np.mean(results, axis=0)"
   ]
  },
  {
   "cell_type": "markdown",
   "id": "0154d69f-d8dc-4d8b-8d5e-e1632f9f4fc8",
   "metadata": {
    "lines_to_next_cell": 2
   },
   "source": [
    "### GPU simulation"
   ]
  },
  {
   "cell_type": "code",
   "execution_count": 27,
   "id": "e3280ce4-3cdc-4910-96d7-6b86410d8be4",
   "metadata": {
    "execution": {
     "iopub.execute_input": "2025-01-16T00:55:35.985622Z",
     "iopub.status.busy": "2025-01-16T00:55:35.985419Z",
     "iopub.status.idle": "2025-01-16T00:55:35.993830Z",
     "shell.execute_reply": "2025-01-16T00:55:35.993088Z",
     "shell.execute_reply.started": "2025-01-16T00:55:35.985607Z"
    }
   },
   "outputs": [],
   "source": [
    "THREADS_PER_BLOCK = 256"
   ]
  },
  {
   "cell_type": "code",
   "execution_count": 28,
   "id": "96d4ddd0-9c93-403d-bd5e-a0be49a6f7ff",
   "metadata": {
    "execution": {
     "iopub.execute_input": "2025-01-16T00:55:35.995268Z",
     "iopub.status.busy": "2025-01-16T00:55:35.994767Z",
     "iopub.status.idle": "2025-01-16T00:55:36.004686Z",
     "shell.execute_reply": "2025-01-16T00:55:36.004028Z",
     "shell.execute_reply.started": "2025-01-16T00:55:35.995250Z"
    }
   },
   "outputs": [],
   "source": [
    "# Using either local memory or cuda.shared.array.\n",
    "@cuda.jit  # type: ignore[misc]\n",
    "def gpu_array(rng_states: _CudaArray, decks_per_thread: int, global_tally: _CudaArray) -> None:\n",
    "  \"\"\"CUDA kernel to compute hand probabilities using an array approach.\"\"\"\n",
    "  # pylint: disable=too-many-function-args, no-value-for-parameter, comparison-with-callable\n",
    "  # pylint: disable=possibly-used-before-assignment\n",
    "  int32, uint32 = numba.int32, numba.uint32\n",
    "  USE_SHARED_MEMORY = True  # Shared memory is faster.\n",
    "  thread_index = cuda.grid(1)\n",
    "  if thread_index >= len(rng_states):\n",
    "    return\n",
    "\n",
    "  thread_id = cuda.threadIdx.x  # Index within block.\n",
    "  if USE_SHARED_MEMORY:\n",
    "    block_tally = cuda.shared.array((NUM_OUTCOMES, THREADS_PER_BLOCK), np.int32)\n",
    "    block_deck = cuda.shared.array((THREADS_PER_BLOCK, DECK_SIZE), np.uint8)\n",
    "    block_ranks = cuda.shared.array((THREADS_PER_BLOCK, HAND_SIZE), np.uint8)\n",
    "    block_freqs = cuda.shared.array((THREADS_PER_BLOCK, NUM_RANKS), np.uint8)\n",
    "    tally = block_tally[:, thread_id]\n",
    "    deck = block_deck[thread_id]\n",
    "    ranks = block_ranks[thread_id]\n",
    "    freqs = block_freqs[thread_id]\n",
    "  else:\n",
    "    tally = cuda.local.array(NUM_OUTCOMES, np.int32)\n",
    "    deck = cuda.local.array(DECK_SIZE, np.uint8)\n",
    "    ranks = cuda.local.array(HAND_SIZE, np.uint8)\n",
    "    freqs = cuda.local.array(NUM_RANKS, np.uint8)\n",
    "\n",
    "  tally[:] = 0\n",
    "  for i in range(numba.uint8(DECK_SIZE)):  # Casting as uint8 nicely unrolls the loop.\n",
    "    deck[i] = i\n",
    "\n",
    "  for _ in range(int32(decks_per_thread)):\n",
    "    # Apply Fisher-Yates shuffle to current deck.\n",
    "    # for i in range(int32(51), int32(0), int32(-1)):\n",
    "    i = uint32(51)\n",
    "    while i > 0:\n",
    "      random_uint = random32.xoshiro128p_next(rng_states, thread_index)\n",
    "      j = random_uint % uint32(i + 1)\n",
    "      deck[i], deck[j] = deck[j], deck[i]\n",
    "      i = uint32(i - 1)\n",
    "\n",
    "    # for hand_index in range(HANDS_PER_DECK):\n",
    "    hand_index = uint32(0)\n",
    "    while hand_index < HANDS_PER_DECK:\n",
    "      hand = deck[hand_index : hand_index + 5]\n",
    "      outcome = uint32(outcome_of_hand_array_numba(hand, ranks, freqs))\n",
    "      tally[outcome] += 1\n",
    "      hand_index = uint32(hand_index + 1)\n",
    "\n",
    "  # First accumulate a per-block tally, then accumulate that tally into the global tally.\n",
    "  shared_tally = cuda.shared.array(NUM_OUTCOMES, np.int64)  # Per-block intermediate tally.\n",
    "  if thread_id == 0:\n",
    "    shared_tally[:] = 0\n",
    "  cuda.syncthreads()\n",
    "\n",
    "  # Each thread adds its local results to shared memory.\n",
    "  for i in range(NUM_OUTCOMES):\n",
    "    cuda.atomic.add(shared_tally, i, tally[i])\n",
    "    cuda.syncthreads()\n",
    "\n",
    "  if thread_id == 0:\n",
    "    for i in range(NUM_OUTCOMES):\n",
    "      cuda.atomic.add(global_tally, i, shared_tally[i])"
   ]
  },
  {
   "cell_type": "code",
   "execution_count": 29,
   "id": "627231b2-4a92-4c68-b260-0c4589a09772",
   "metadata": {
    "execution": {
     "iopub.execute_input": "2025-01-16T00:55:36.006028Z",
     "iopub.status.busy": "2025-01-16T00:55:36.005553Z",
     "iopub.status.idle": "2025-01-16T00:55:36.018555Z",
     "shell.execute_reply": "2025-01-16T00:55:36.017915Z",
     "shell.execute_reply.started": "2025-01-16T00:55:36.006007Z"
    }
   },
   "outputs": [],
   "source": [
    "def simulate_hands_array_gpu_cuda(num_decks: int, rng: np.random.Generator) -> Probabilities:\n",
    "  \"\"\"Compute hand probabilities using an array approach by invoking a CUDA kernel.\"\"\"\n",
    "  device = cuda.get_current_device()\n",
    "  PARALLELISM = 8  # Number of blocks per SM.\n",
    "  target_num_threads = PARALLELISM * device.MULTIPROCESSOR_COUNT * THREADS_PER_BLOCK\n",
    "  decks_per_thread = max(1, num_decks // target_num_threads)\n",
    "  num_threads = num_decks // decks_per_thread\n",
    "  # print(f'{decks_per_thread=} {num_threads=}')\n",
    "  blocks = math.ceil(num_threads / THREADS_PER_BLOCK)\n",
    "  seed = rng.integers(2**64, dtype=np.uint64)\n",
    "  d_rng_states = random32.create_xoshiro128p_states(num_threads, seed)\n",
    "  d_global_tally = cuda.to_device(np.zeros(NUM_OUTCOMES, np.int64))\n",
    "  gpu_array[blocks, THREADS_PER_BLOCK](d_rng_states, decks_per_thread, d_global_tally)\n",
    "  return d_global_tally.copy_to_host() / (num_threads * decks_per_thread * HANDS_PER_DECK)"
   ]
  },
  {
   "cell_type": "code",
   "execution_count": 30,
   "id": "32f20d44-bdf8-4a19-8933-66cc9f79fa67",
   "metadata": {
    "execution": {
     "iopub.execute_input": "2025-01-16T00:55:36.019498Z",
     "iopub.status.busy": "2025-01-16T00:55:36.019313Z",
     "iopub.status.idle": "2025-01-16T00:55:37.937408Z",
     "shell.execute_reply": "2025-01-16T00:55:37.936722Z",
     "shell.execute_reply.started": "2025-01-16T00:55:36.019485Z"
    }
   },
   "outputs": [],
   "source": [
    "if cuda.is_available():\n",
    "  assert np.allclose(simulate_hands_array_gpu_cuda(10**7, RNG), EXPECTED_PROB, atol=0.0001)"
   ]
  },
  {
   "cell_type": "code",
   "execution_count": 31,
   "id": "beee6915-9637-4e74-bdc2-c370cb01e35c",
   "metadata": {
    "execution": {
     "iopub.execute_input": "2025-01-16T00:55:37.938520Z",
     "iopub.status.busy": "2025-01-16T00:55:37.938130Z",
     "iopub.status.idle": "2025-01-16T00:55:38.444714Z",
     "shell.execute_reply": "2025-01-16T00:55:38.444073Z",
     "shell.execute_reply.started": "2025-01-16T00:55:37.938504Z"
    }
   },
   "outputs": [
    {
     "name": "stdout",
     "output_type": "stream",
     "text": [
      "Timing:\n",
      "100 ms ± 1.98 ms per loop (mean ± std. dev. of 5 runs, 1 loop each)\n"
     ]
    }
   ],
   "source": [
    "if cuda.is_available():\n",
    "  print('Timing:')\n",
    "  %timeit -n1 -r5 simulate_hands_array_gpu_cuda(2 * 10**7, RNG)  # ~250-400 ms."
   ]
  },
  {
   "cell_type": "code",
   "execution_count": 32,
   "id": "ecb3f7ec-127e-4e85-9cab-655cb388312f",
   "metadata": {
    "execution": {
     "iopub.execute_input": "2025-01-16T00:55:38.445608Z",
     "iopub.status.busy": "2025-01-16T00:55:38.445415Z",
     "iopub.status.idle": "2025-01-16T00:55:38.450787Z",
     "shell.execute_reply": "2025-01-16T00:55:38.450272Z",
     "shell.execute_reply.started": "2025-01-16T00:55:38.445594Z"
    }
   },
   "outputs": [
    {
     "name": "stdout",
     "output_type": "stream",
     "text": [
      "const_mem_size = 0\n",
      "local_mem_per_thread = 0\n",
      "max_threads_per_block = 1024\n",
      "regs_per_thread = 40\n",
      "shared_mem_per_block = 28240\n"
     ]
    }
   ],
   "source": [
    "if cuda.is_available():\n",
    "  write_numba_assembly_code(gpu_array, 'gpu_array.ptx')\n",
    "  report_cuda_kernel_properties(gpu_array)"
   ]
  },
  {
   "cell_type": "markdown",
   "id": "61f636ef-f944-4edc-8d8f-1c88ebbd9c0e",
   "metadata": {
    "lines_to_next_cell": 2
   },
   "source": [
    "## Approach 2: suit/rank bitcounts"
   ]
  },
  {
   "cell_type": "markdown",
   "id": "7a06cf36-ab47-4d4c-bd74-780f4d2eb9ad",
   "metadata": {},
   "source": [
    "We represent a (5-card) hand as a sequence of $4+13$ counts, each of size 3 bits.\n",
    "The 3-bit counts encode:\n",
    "- the number of cards in each of the 4 suits, and\n",
    "- the number of cards of each of the 13 ranks (2,3,4,5,6,7,8,9,T,J,Q,K,A).\n",
    "\n",
    "Therefore each card is encoded as a 51-bit mask in which exactly **two bits** are set to 1,\n",
    "in the corresponding suit and rank.\n",
    "\n",
    "The bitcounts for the five cards in a hand are combined using ordinary 64-bit addition,\n",
    "relying on the fact that **no carry bits** will jump across the 3-bit triples because $5 < 2^3$."
   ]
  },
  {
   "cell_type": "code",
   "execution_count": 33,
   "id": "3693e30a-038c-4bee-9763-012050a7a6e7",
   "metadata": {
    "execution": {
     "iopub.execute_input": "2025-01-16T00:55:38.451959Z",
     "iopub.status.busy": "2025-01-16T00:55:38.451517Z",
     "iopub.status.idle": "2025-01-16T00:55:38.458593Z",
     "shell.execute_reply": "2025-01-16T00:55:38.457972Z",
     "shell.execute_reply.started": "2025-01-16T00:55:38.451945Z"
    }
   },
   "outputs": [],
   "source": [
    "# Thanks to Marcel Gavriliu for this approach of storing card bitmasks and summing them."
   ]
  },
  {
   "cell_type": "code",
   "execution_count": 34,
   "id": "d5eb7ab9-6d6e-4af4-b99e-b76ba60252b9",
   "metadata": {
    "execution": {
     "iopub.execute_input": "2025-01-16T00:55:38.460193Z",
     "iopub.status.busy": "2025-01-16T00:55:38.459889Z",
     "iopub.status.idle": "2025-01-16T00:55:38.468081Z",
     "shell.execute_reply": "2025-01-16T00:55:38.467160Z",
     "shell.execute_reply.started": "2025-01-16T00:55:38.460151Z"
    }
   },
   "outputs": [],
   "source": [
    "THREADS_PER_BLOCK = 256"
   ]
  },
  {
   "cell_type": "code",
   "execution_count": 35,
   "id": "2468db55-9dba-47da-99bf-c992cd446d44",
   "metadata": {
    "execution": {
     "iopub.execute_input": "2025-01-16T00:55:38.468963Z",
     "iopub.status.busy": "2025-01-16T00:55:38.468789Z",
     "iopub.status.idle": "2025-01-16T00:55:38.477575Z",
     "shell.execute_reply": "2025-01-16T00:55:38.476776Z",
     "shell.execute_reply.started": "2025-01-16T00:55:38.468951Z"
    }
   },
   "outputs": [],
   "source": [
    "CARD_COUNT_BITS = 3  # We use 3 bits to encode 0-7 cards for both ranks and suits.\n",
    "RANKS_ONE = 0b_001_001_001_001_001_001_001_001_001_001_001_001_001  # One card of each rank.\n",
    "RANKS_TWO = RANKS_ONE << 1\n",
    "RANKS_FOUR = RANKS_ONE << 2\n",
    "ROYAL_STRAIGHT_RANK_MASK = 0b_001_001_001_001_001_000_000_000_000_000_000_000_000\n",
    "ACE_LOW_STRAIGHT_RANK_MASK = 0b_001_000_000_000_000_000_000_000_000_001_001_001_001\n",
    "SUITS_ONE = 0b_001_001_001_001  # One card of each suit."
   ]
  },
  {
   "cell_type": "code",
   "execution_count": 36,
   "id": "eec21c55-97da-4226-87bb-cf9e66607b59",
   "metadata": {
    "execution": {
     "iopub.execute_input": "2025-01-16T00:55:38.478769Z",
     "iopub.status.busy": "2025-01-16T00:55:38.478425Z",
     "iopub.status.idle": "2025-01-16T00:55:38.486997Z",
     "shell.execute_reply": "2025-01-16T00:55:38.486308Z",
     "shell.execute_reply.started": "2025-01-16T00:55:38.478754Z"
    }
   },
   "outputs": [],
   "source": [
    "assert RANKS_ONE == int(sum((2**CARD_COUNT_BITS) ** np.arange(NUM_RANKS, dtype=np.uint64)))\n",
    "assert SUITS_ONE == int(sum((2**CARD_COUNT_BITS) ** np.arange(NUM_SUITS, dtype=np.uint64)))"
   ]
  },
  {
   "cell_type": "code",
   "execution_count": 37,
   "id": "2b3f6172-5fb2-4f08-b6c8-3460d7a36f23",
   "metadata": {
    "execution": {
     "iopub.execute_input": "2025-01-16T00:55:38.487865Z",
     "iopub.status.busy": "2025-01-16T00:55:38.487709Z",
     "iopub.status.idle": "2025-01-16T00:55:38.498717Z",
     "shell.execute_reply": "2025-01-16T00:55:38.498053Z",
     "shell.execute_reply.started": "2025-01-16T00:55:38.487851Z"
    }
   },
   "outputs": [],
   "source": [
    "def create_table_straights_rank_mask() -> _NDArray:\n",
    "  \"\"\"Create a table containing the 10 bitmasks corresponding to the 10 possible straights.\"\"\"\n",
    "  lst = [0b_001_001_001_001_001 << (i * 3) for i in range(9)]  # '23456' to 'TJQKA'.\n",
    "  lst.append(ACE_LOW_STRAIGHT_RANK_MASK)  # 'A2345'.\n",
    "  return np.array(lst, np.uint64)"
   ]
  },
  {
   "cell_type": "code",
   "execution_count": 38,
   "id": "97639df3-a4ac-40c8-9329-15901d622de9",
   "metadata": {
    "execution": {
     "iopub.execute_input": "2025-01-16T00:55:38.499692Z",
     "iopub.status.busy": "2025-01-16T00:55:38.499532Z",
     "iopub.status.idle": "2025-01-16T00:55:38.507917Z",
     "shell.execute_reply": "2025-01-16T00:55:38.507281Z",
     "shell.execute_reply.started": "2025-01-16T00:55:38.499679Z"
    },
    "lines_to_next_cell": 2
   },
   "outputs": [],
   "source": [
    "# Table of 10 uint64, each the \"13 * 3\"-bit mask encoding of ranks in straight.\n",
    "TABLE_STRAIGHTS_RANK_MASK = create_table_straights_rank_mask()"
   ]
  },
  {
   "cell_type": "markdown",
   "id": "e46a6e01-430b-46c2-a592-c5663abb4b59",
   "metadata": {
    "lines_to_next_cell": 2
   },
   "source": [
    "### Hand evaluation"
   ]
  },
  {
   "cell_type": "code",
   "execution_count": 39,
   "id": "8e047607-c10a-48a7-a5c7-a655fba16e2e",
   "metadata": {
    "execution": {
     "iopub.execute_input": "2025-01-16T00:55:38.509048Z",
     "iopub.status.busy": "2025-01-16T00:55:38.508713Z",
     "iopub.status.idle": "2025-01-16T00:55:38.517383Z",
     "shell.execute_reply": "2025-01-16T00:55:38.516544Z",
     "shell.execute_reply.started": "2025-01-16T00:55:38.509034Z"
    }
   },
   "outputs": [],
   "source": [
    "@numba_njit(inline='always')\n",
    "def bitcount_of_card(card: numba.uint8) -> numba.uint64:\n",
    "  \"\"\"Return a bitmask of 4*3 + 13*3 bits encoding the suit and rank of 0 <= `card` < 52.\"\"\"\n",
    "  suit_index = card & 0b11\n",
    "  rank_index = card >> 2\n",
    "  mask = (1 << (suit_index * 3 + NUM_RANKS * 3)) | (1 << (rank_index * 3))\n",
    "  return mask"
   ]
  },
  {
   "cell_type": "code",
   "execution_count": 40,
   "id": "e71f606e-973e-4e47-9904-e7ecd9b5ef79",
   "metadata": {
    "execution": {
     "iopub.execute_input": "2025-01-16T00:55:38.518703Z",
     "iopub.status.busy": "2025-01-16T00:55:38.518286Z",
     "iopub.status.idle": "2025-01-16T00:55:38.526878Z",
     "shell.execute_reply": "2025-01-16T00:55:38.526276Z",
     "shell.execute_reply.started": "2025-01-16T00:55:38.518682Z"
    }
   },
   "outputs": [],
   "source": [
    "@numba_njit(inline='always')\n",
    "def determine_straight(rank_count_mask: numba.uint64) -> bool:\n",
    "  \"\"\"Return true if the rank bitmask corresponds to a straight.\"\"\"\n",
    "  m = rank_count_mask\n",
    "  t = TABLE_STRAIGHTS_RANK_MASK\n",
    "  assert len(t) == 10\n",
    "  result = (m == t[0]) | (m == t[1]) | (m == t[2]) | (m == t[3]) | (m == t[4])\n",
    "  result |= (m == t[5]) | (m == t[6]) | (m == t[7]) | (m == t[8]) | (m == t[9])\n",
    "  return result"
   ]
  },
  {
   "cell_type": "code",
   "execution_count": 41,
   "id": "e78ef698-898c-49c5-8b91-cc983dc03562",
   "metadata": {
    "execution": {
     "iopub.execute_input": "2025-01-16T00:55:38.528127Z",
     "iopub.status.busy": "2025-01-16T00:55:38.527761Z",
     "iopub.status.idle": "2025-01-16T00:55:38.538035Z",
     "shell.execute_reply": "2025-01-16T00:55:38.537228Z",
     "shell.execute_reply.started": "2025-01-16T00:55:38.528108Z"
    }
   },
   "outputs": [],
   "source": [
    "def make_outcome_of_hand_bitcount(for_cuda: bool) -> Callable[[numba.uint64], Outcome]:\n",
    "  \"\"\"Factory returning a function for numba or cuda evaluation.\"\"\"\n",
    "  popc = gpu_popc if for_cuda else cpu_popc\n",
    "\n",
    "  def outcome_of_hand_bitcount(bitcount_sum: numba.uint64) -> Outcome:\n",
    "    \"\"\"Evaluate 5-card poker hand and return outcome ranking, using sum of card bitcounts.\"\"\"\n",
    "    # pylint: disable=too-many-function-args\n",
    "    uint32, uint64 = numba.uint32, numba.uint64\n",
    "    suit_count_mask = uint32(bitcount_sum >> CARD_COUNT_BITS * NUM_RANKS)\n",
    "    rank_count_mask = uint64(bitcount_sum & (2 ** (CARD_COUNT_BITS * NUM_RANKS) - 1))\n",
    "\n",
    "    is_flush = popc(uint32(suit_count_mask & (suit_count_mask >> 2) & SUITS_ONE)) != 0\n",
    "    is_straight = determine_straight(rank_count_mask)\n",
    "    is_four = (rank_count_mask & RANKS_FOUR) != 0\n",
    "    is_three = ((rank_count_mask + RANKS_ONE) & RANKS_FOUR) != 0\n",
    "    mask_two_or_more = rank_count_mask & RANKS_TWO\n",
    "    num_two_or_more = popc(mask_two_or_more)\n",
    "\n",
    "    if is_flush and is_straight:\n",
    "      if rank_count_mask == ROYAL_STRAIGHT_RANK_MASK:\n",
    "        return Outcome.ROYAL_FLUSH\n",
    "      return Outcome.STRAIGHT_FLUSH\n",
    "    if is_four:\n",
    "      return Outcome.FOUR_OF_A_KIND\n",
    "    if is_three and num_two_or_more > 1:\n",
    "      return Outcome.FULL_HOUSE\n",
    "    if is_flush:\n",
    "      return Outcome.FLUSH\n",
    "    if is_straight:\n",
    "      return Outcome.STRAIGHT\n",
    "    if is_three:\n",
    "      return Outcome.THREE_OF_A_KIND\n",
    "    if num_two_or_more == 2:\n",
    "      return Outcome.TWO_PAIR\n",
    "    if num_two_or_more == 1:\n",
    "      return Outcome.ONE_PAIR\n",
    "    return Outcome.HIGH_CARD\n",
    "\n",
    "  return outcome_of_hand_bitcount"
   ]
  },
  {
   "cell_type": "code",
   "execution_count": 42,
   "id": "fe492a73-5f8d-4075-ad53-8a4ff14f4354",
   "metadata": {
    "execution": {
     "iopub.execute_input": "2025-01-16T00:55:38.539765Z",
     "iopub.status.busy": "2025-01-16T00:55:38.539094Z",
     "iopub.status.idle": "2025-01-16T00:55:38.549975Z",
     "shell.execute_reply": "2025-01-16T00:55:38.549335Z",
     "shell.execute_reply.started": "2025-01-16T00:55:38.539741Z"
    },
    "lines_to_next_cell": 2
   },
   "outputs": [],
   "source": [
    "outcome_of_hand_bitcount_numba = numba_njit()(make_outcome_of_hand_bitcount(for_cuda=False))\n",
    "outcome_of_hand_bitcount_cuda = numba_njit()(make_outcome_of_hand_bitcount(for_cuda=True))"
   ]
  },
  {
   "cell_type": "markdown",
   "id": "01554e65-c360-4f56-a691-ac236d908127",
   "metadata": {
    "execution": {
     "iopub.execute_input": "2025-01-08T00:20:14.215144Z",
     "iopub.status.busy": "2025-01-08T00:20:14.214635Z",
     "iopub.status.idle": "2025-01-08T00:20:14.217614Z",
     "shell.execute_reply": "2025-01-08T00:20:14.217097Z",
     "shell.execute_reply.started": "2025-01-08T00:20:14.215128Z"
    },
    "lines_to_next_cell": 2
   },
   "source": [
    "### CPU simulation"
   ]
  },
  {
   "cell_type": "code",
   "execution_count": 43,
   "id": "58bdea27-2349-46ea-bc80-730e8357887e",
   "metadata": {
    "execution": {
     "iopub.execute_input": "2025-01-16T00:55:38.551318Z",
     "iopub.status.busy": "2025-01-16T00:55:38.550837Z",
     "iopub.status.idle": "2025-01-16T00:55:38.559846Z",
     "shell.execute_reply": "2025-01-16T00:55:38.559226Z",
     "shell.execute_reply.started": "2025-01-16T00:55:38.551298Z"
    }
   },
   "outputs": [],
   "source": [
    "@numba_njit()\n",
    "def simulate_hands_bitcount_cpu_numba(num_decks: int, rng: np.random.Generator) -> Probabilities:\n",
    "  \"\"\"Compute hand probabilities using a bitcount approach by invoking numba-jitted CPU code.\"\"\"\n",
    "  BLOCK_SIZE = 10\n",
    "  deck_block = np.empty((BLOCK_SIZE, DECK_SIZE), dtype=np.uint8)\n",
    "  deck_block[:] = np.arange(DECK_SIZE, dtype=np.uint8)\n",
    "  tally = np.zeros(NUM_OUTCOMES, np.int64)\n",
    "\n",
    "  for deck_index_start in range(0, num_decks, BLOCK_SIZE):\n",
    "    deck_block2 = rng.permutation(deck_block, axis=1)\n",
    "\n",
    "    for deck_index in range(deck_index_start, min(deck_index_start + BLOCK_SIZE, num_decks)):\n",
    "      deck = deck_block2[deck_index - deck_index_start]\n",
    "      mask0, mask1 = bitcount_of_card(deck[0]), bitcount_of_card(deck[1])\n",
    "      mask2, mask3 = bitcount_of_card(deck[2]), bitcount_of_card(deck[3])\n",
    "      bitcount_sum = mask0 + mask1 + mask2 + mask3\n",
    "\n",
    "      for hand_index in range(HANDS_PER_DECK):\n",
    "        mask4 = bitcount_of_card(deck[hand_index + 4])\n",
    "        bitcount_sum += mask4\n",
    "        outcome = outcome_of_hand_bitcount_numba(bitcount_sum)\n",
    "        tally[outcome.value] += 1\n",
    "        bitcount_sum -= mask0\n",
    "        mask0, mask1, mask2, mask3 = mask1, mask2, mask3, mask4\n",
    "\n",
    "  return tally / (num_decks * HANDS_PER_DECK)"
   ]
  },
  {
   "cell_type": "code",
   "execution_count": 44,
   "id": "4697056b-bb7a-4370-86df-fd5686592276",
   "metadata": {
    "execution": {
     "iopub.execute_input": "2025-01-16T00:55:38.561044Z",
     "iopub.status.busy": "2025-01-16T00:55:38.560657Z",
     "iopub.status.idle": "2025-01-16T00:55:38.571457Z",
     "shell.execute_reply": "2025-01-16T00:55:38.570801Z",
     "shell.execute_reply.started": "2025-01-16T00:55:38.561029Z"
    }
   },
   "outputs": [],
   "source": [
    "# simulate_poker_hands(10**7, 'bitcount_cpu_numba', simulate_hands_bitcount_cpu_numba)  # ~130 m hands/s"
   ]
  },
  {
   "cell_type": "code",
   "execution_count": 45,
   "id": "b4567788-0ab1-4309-b0cc-6a4e180f0b59",
   "metadata": {
    "execution": {
     "iopub.execute_input": "2025-01-16T00:55:38.572570Z",
     "iopub.status.busy": "2025-01-16T00:55:38.572394Z",
     "iopub.status.idle": "2025-01-16T00:55:41.362979Z",
     "shell.execute_reply": "2025-01-16T00:55:41.362313Z",
     "shell.execute_reply.started": "2025-01-16T00:55:38.572558Z"
    },
    "lines_to_next_cell": 2
   },
   "outputs": [],
   "source": [
    "assert np.allclose(simulate_hands_bitcount_cpu_numba(10**5, RNG), EXPECTED_PROB, atol=0.002)"
   ]
  },
  {
   "cell_type": "code",
   "execution_count": 46,
   "id": "c79e7a2c-cc47-40ae-aa1b-57d04007871c",
   "metadata": {
    "execution": {
     "iopub.execute_input": "2025-01-16T00:55:41.364121Z",
     "iopub.status.busy": "2025-01-16T00:55:41.363802Z",
     "iopub.status.idle": "2025-01-16T00:55:41.516370Z",
     "shell.execute_reply": "2025-01-16T00:55:41.515330Z",
     "shell.execute_reply.started": "2025-01-16T00:55:41.364106Z"
    },
    "lines_to_next_cell": 2
   },
   "outputs": [
    {
     "name": "stdout",
     "output_type": "stream",
     "text": [
      "36.9 ms ± 572 µs per loop (mean ± std. dev. of 2 runs, 2 loops each)\n"
     ]
    }
   ],
   "source": [
    "%timeit -n2 -r2 simulate_hands_bitcount_cpu_numba(10**5, RNG)  # ~35 ms if low variance."
   ]
  },
  {
   "cell_type": "code",
   "execution_count": 47,
   "id": "3b1cc2c5-e330-4fc4-b14a-d69616efcc84",
   "metadata": {
    "execution": {
     "iopub.execute_input": "2025-01-16T00:55:41.517803Z",
     "iopub.status.busy": "2025-01-16T00:55:41.517274Z",
     "iopub.status.idle": "2025-01-16T00:55:41.525359Z",
     "shell.execute_reply": "2025-01-16T00:55:41.524565Z",
     "shell.execute_reply.started": "2025-01-16T00:55:41.517776Z"
    }
   },
   "outputs": [],
   "source": [
    "def compute_bitcount_chunk(args: tuple[int, np.random.Generator]) -> Probabilities:\n",
    "  \"\"\"Helper function for multiprocessing.\"\"\"\n",
    "  num_decks, rng = args\n",
    "  return simulate_hands_bitcount_cpu_numba(num_decks, rng)"
   ]
  },
  {
   "cell_type": "code",
   "execution_count": 48,
   "id": "a5d21e18-247f-4485-86f2-c96c350edb51",
   "metadata": {
    "execution": {
     "iopub.execute_input": "2025-01-16T00:55:41.526610Z",
     "iopub.status.busy": "2025-01-16T00:55:41.526188Z",
     "iopub.status.idle": "2025-01-16T00:55:41.535838Z",
     "shell.execute_reply": "2025-01-16T00:55:41.534928Z",
     "shell.execute_reply.started": "2025-01-16T00:55:41.526585Z"
    },
    "lines_to_next_cell": 2
   },
   "outputs": [],
   "source": [
    "def simulate_hands_bitcount_cpu_numba_multiprocess(\n",
    "    num_decks: int, rng: np.random.Generator\n",
    ") -> Probabilities:\n",
    "  \"\"\"Compute hand probabilities using a bitcount approach and multiprocessing.\"\"\"\n",
    "  num_processes = multiprocessing.cpu_count()\n",
    "  chunk_num_decks = math.ceil(num_decks / num_processes)\n",
    "  new_rngs = rng.spawn(num_processes)\n",
    "  chunks = [(chunk_num_decks, new_rng) for new_rng in new_rngs]\n",
    "  with multiprocessing.get_context('fork').Pool(num_processes) as pool:\n",
    "    results = pool.map(compute_bitcount_chunk, chunks)\n",
    "  return np.mean(results, axis=0)"
   ]
  },
  {
   "cell_type": "markdown",
   "id": "3eea8629-f9f8-416e-92d4-790f0c9e1d32",
   "metadata": {
    "lines_to_next_cell": 2
   },
   "source": [
    "### GPU simulation"
   ]
  },
  {
   "cell_type": "code",
   "execution_count": 49,
   "id": "6595778e-5ba7-4215-9abe-7598ba6aa1e2",
   "metadata": {
    "execution": {
     "iopub.execute_input": "2025-01-16T00:55:41.537433Z",
     "iopub.status.busy": "2025-01-16T00:55:41.536767Z",
     "iopub.status.idle": "2025-01-16T00:55:41.549095Z",
     "shell.execute_reply": "2025-01-16T00:55:41.548239Z",
     "shell.execute_reply.started": "2025-01-16T00:55:41.537407Z"
    }
   },
   "outputs": [],
   "source": [
    "@cuda.jit(fastmath=True)  # type: ignore[misc]\n",
    "def gpu_bitcount(rng_states: _CudaArray, decks_per_thread: int, global_tally: _CudaArray) -> None:\n",
    "  \"\"\"CUDA kernel to compute hand probabilities using a bitcount approach.\"\"\"\n",
    "  # pylint: disable=too-many-function-args, no-value-for-parameter, comparison-with-callable\n",
    "  int32, uint32, float32 = numba.int32, numba.uint32, numba.float32\n",
    "  thread_index = cuda.grid(1)\n",
    "  thread_id = cuda.threadIdx.x  # Index within block.\n",
    "\n",
    "  block_tally = cuda.shared.array((NUM_OUTCOMES, THREADS_PER_BLOCK), np.int32)\n",
    "  block_deck = cuda.shared.array((THREADS_PER_BLOCK, DECK_SIZE), np.uint8)\n",
    "  tally = block_tally[:, thread_id]\n",
    "  deck = block_deck[thread_id]\n",
    "  tally[:] = 0\n",
    "\n",
    "  if thread_index >= len(rng_states):\n",
    "    return  # This must come after tally[] is zeroed, to simplify reduction below.\n",
    "\n",
    "  for i in range(numba.uint8(DECK_SIZE)):  # Casting as uint8 nicely unrolls the loop.\n",
    "    deck[i] = i\n",
    "\n",
    "  rng = rng_states[thread_index]\n",
    "  s0, s1, s2, s3 = uint32(rng['s0']), uint32(rng['s1']), uint32(rng['s2']), uint32(rng['s3'])\n",
    "\n",
    "  for _ in range(int32(decks_per_thread)):\n",
    "    # Apply Fisher-Yates shuffle to current deck.\n",
    "    # for i in range(int32(51), int32(0), int32(-1)):\n",
    "    i = uint32(51)\n",
    "    while i > 0:\n",
    "      # Swap element at [i] with any element [0, ..., i].\n",
    "      random_uint32, s0, s1, s2, s3 = random32.xoshiro128p_next_raw(s0, s1, s2, s3)\n",
    "      random_uint32 = uint32(random_uint32)\n",
    "      s0, s1, s2, s3 = uint32(s0), uint32(s1), uint32(s2), uint32(s3)\n",
    "      if 0:\n",
    "        j = random_uint32 % uint32(i + 1)  # Remainder is somewhat expensive in CUDA.\n",
    "      elif 0:\n",
    "        # In `random_uint32`, the msb have better randomness than the lsb, so float32 mul is better.\n",
    "        value_in_unit_interval = random32.uint32_to_unit_float32(random_uint32)\n",
    "        j = uint32(float32(value_in_unit_interval * float32(int32(i + 1))))\n",
    "      else:\n",
    "        j = uint32(float32(random_uint32) * float32((1.0 - 1e-7) / 2**32) * float32(int32(i + 1)))\n",
    "      deck[i], deck[j] = deck[j], deck[i]\n",
    "      i = uint32(i - 1)\n",
    "\n",
    "    mask0, mask1 = bitcount_of_card(deck[0]), bitcount_of_card(deck[1])\n",
    "    mask2, mask3 = bitcount_of_card(deck[2]), bitcount_of_card(deck[3])\n",
    "    bitcount_sum = mask0 + mask1 + mask2 + mask3\n",
    "\n",
    "    # for hand_index in range(int32(HANDS_PER_DECK)):\n",
    "    card_index = uint32(4)\n",
    "    while card_index < uint32(DECK_SIZE):\n",
    "      # mask4 = bitcount_of_card(deck[hand_index + 4])\n",
    "      mask4 = bitcount_of_card(deck[card_index])\n",
    "      bitcount_sum += mask4\n",
    "      outcome = uint32(outcome_of_hand_bitcount_cuda(bitcount_sum).value)\n",
    "      tally[outcome] += 1\n",
    "      bitcount_sum -= mask0\n",
    "      mask0, mask1, mask2, mask3 = mask1, mask2, mask3, mask4\n",
    "      card_index = uint32(card_index + 1)\n",
    "\n",
    "  # Compute a parallel sum reduction on the outcome tally.\n",
    "  temp_tally = cuda.shared.array(NUM_OUTCOMES, np.int64)  # Per-block tally.\n",
    "  temp_tally[:] = 0\n",
    "  cuda.syncthreads()\n",
    "\n",
    "  # First do a sum reduction within the 32 lanes of each warp (still at 32-bit precision).\n",
    "  for i in range(NUM_OUTCOMES):\n",
    "    value = tally[i]\n",
    "    for offset in [16, 8, 4, 2, 1]:\n",
    "      value += cuda.shfl_down_sync(0xFFFFFFFF, value, offset)\n",
    "    if cuda.laneid == 0:\n",
    "      cuda.atomic.add(temp_tally, i, numba.int64(value))  # Reduce across the block's warps.\n",
    "  cuda.syncthreads()\n",
    "\n",
    "  # Final reduction across blocks to global_tally.\n",
    "  if thread_id == 0:\n",
    "    for i in range(NUM_OUTCOMES):\n",
    "      cuda.atomic.add(global_tally, i, temp_tally[i])"
   ]
  },
  {
   "cell_type": "code",
   "execution_count": 50,
   "id": "4133487b-134a-4358-8518-c5979efc9acd",
   "metadata": {
    "execution": {
     "iopub.execute_input": "2025-01-16T00:55:41.550490Z",
     "iopub.status.busy": "2025-01-16T00:55:41.549994Z",
     "iopub.status.idle": "2025-01-16T00:55:41.561436Z",
     "shell.execute_reply": "2025-01-16T00:55:41.560713Z",
     "shell.execute_reply.started": "2025-01-16T00:55:41.550474Z"
    }
   },
   "outputs": [],
   "source": [
    "def simulate_hands_bitcount_gpu_cuda(num_decks: int, rng: np.random.Generator) -> Probabilities:\n",
    "  \"\"\"Compute hand probabilities using a bitcount approach by invoking a CUDA kernel.\"\"\"\n",
    "  device = cuda.get_current_device()\n",
    "  PARALLELISM = 8  # Number of blocks per SM.\n",
    "  target_num_threads = PARALLELISM * device.MULTIPROCESSOR_COUNT * THREADS_PER_BLOCK\n",
    "  decks_per_thread = max(1, num_decks // target_num_threads)\n",
    "  num_threads = num_decks // decks_per_thread\n",
    "  # print(f'{decks_per_thread=} {num_threads=}')\n",
    "  blocks = math.ceil(num_threads / THREADS_PER_BLOCK)\n",
    "  seed = rng.integers(2**64, dtype=np.uint64)\n",
    "  d_rng_states = random32.create_xoshiro128p_states(num_threads, seed)\n",
    "  d_global_tally = cuda.to_device(np.zeros(NUM_OUTCOMES, np.int64))\n",
    "  gpu_bitcount[blocks, THREADS_PER_BLOCK](d_rng_states, decks_per_thread, d_global_tally)\n",
    "  return d_global_tally.copy_to_host() / (num_threads * decks_per_thread * HANDS_PER_DECK)"
   ]
  },
  {
   "cell_type": "code",
   "execution_count": 51,
   "id": "2fe1fec3-f262-410f-938e-5fc22ad13727",
   "metadata": {
    "execution": {
     "iopub.execute_input": "2025-01-16T00:55:41.562553Z",
     "iopub.status.busy": "2025-01-16T00:55:41.562319Z",
     "iopub.status.idle": "2025-01-16T00:55:41.572975Z",
     "shell.execute_reply": "2025-01-16T00:55:41.572264Z",
     "shell.execute_reply.started": "2025-01-16T00:55:41.562535Z"
    }
   },
   "outputs": [],
   "source": [
    "# simulate_poker_hands(10**9, 'bitcount_gpu_cuda', simulate_hands_bitcount_gpu_cuda)  # ~9-11 G hands/s."
   ]
  },
  {
   "cell_type": "code",
   "execution_count": 52,
   "id": "958981de-2fde-480b-a15e-b761255c37c9",
   "metadata": {
    "execution": {
     "iopub.execute_input": "2025-01-16T00:55:41.574159Z",
     "iopub.status.busy": "2025-01-16T00:55:41.573934Z",
     "iopub.status.idle": "2025-01-16T00:55:42.595645Z",
     "shell.execute_reply": "2025-01-16T00:55:42.595043Z",
     "shell.execute_reply.started": "2025-01-16T00:55:41.574144Z"
    }
   },
   "outputs": [],
   "source": [
    "if cuda.is_available():\n",
    "  assert np.allclose(simulate_hands_bitcount_gpu_cuda(10**7, RNG), EXPECTED_PROB, atol=0.0001)"
   ]
  },
  {
   "cell_type": "code",
   "execution_count": 53,
   "id": "f3d4a20b-0082-4e4c-b752-6bacb0502053",
   "metadata": {
    "execution": {
     "iopub.execute_input": "2025-01-16T00:55:42.596770Z",
     "iopub.status.busy": "2025-01-16T00:55:42.596395Z",
     "iopub.status.idle": "2025-01-16T00:55:43.150244Z",
     "shell.execute_reply": "2025-01-16T00:55:43.149572Z",
     "shell.execute_reply.started": "2025-01-16T00:55:42.596754Z"
    }
   },
   "outputs": [
    {
     "name": "stdout",
     "output_type": "stream",
     "text": [
      "Timing:\n",
      "110 ms ± 23.5 ms per loop (mean ± std. dev. of 5 runs, 1 loop each)\n"
     ]
    }
   ],
   "source": [
    "if cuda.is_available():\n",
    "  print('Timing:')\n",
    "  %timeit -n1 -r5 simulate_hands_bitcount_gpu_cuda(2 * 10**7, RNG)  # ~85-120 ms."
   ]
  },
  {
   "cell_type": "code",
   "execution_count": 54,
   "id": "eb27c7ae-beb4-4cb0-a28f-8f520e2870c3",
   "metadata": {
    "execution": {
     "iopub.execute_input": "2025-01-16T00:55:43.151363Z",
     "iopub.status.busy": "2025-01-16T00:55:43.151041Z",
     "iopub.status.idle": "2025-01-16T00:55:43.157148Z",
     "shell.execute_reply": "2025-01-16T00:55:43.156590Z",
     "shell.execute_reply.started": "2025-01-16T00:55:43.151346Z"
    }
   },
   "outputs": [
    {
     "name": "stdout",
     "output_type": "stream",
     "text": [
      "const_mem_size = 0\n",
      "local_mem_per_thread = 0\n",
      "max_threads_per_block = 1024\n",
      "regs_per_thread = 41\n",
      "shared_mem_per_block = 23632\n"
     ]
    }
   ],
   "source": [
    "if cuda.is_available():\n",
    "  write_numba_assembly_code(gpu_bitcount, 'gpu_bitcount.ptx')\n",
    "  report_cuda_kernel_properties(gpu_bitcount)"
   ]
  },
  {
   "cell_type": "markdown",
   "id": "cd3e1702-ffd1-4ef4-89e1-c7c2ab82dd46",
   "metadata": {
    "lines_to_next_cell": 2
   },
   "source": [
    "## Approach 3: 52-bit deck bitmask"
   ]
  },
  {
   "cell_type": "markdown",
   "id": "0eb14d06-c85d-470a-aae6-ca18b3dd16c0",
   "metadata": {},
   "source": [
    "Because poker uses a single 52-card deck, we encode each card as a **single bit** within a 52-bit \"deck mask\" stored in a `uint64`.\n",
    "\n",
    "We represent a hand of five cards by simpling `OR`-ing together the corresponding five \"deck masks\"."
   ]
  },
  {
   "cell_type": "code",
   "execution_count": 55,
   "id": "96609111-b143-4314-a44e-4aa1daac42c8",
   "metadata": {
    "execution": {
     "iopub.execute_input": "2025-01-16T00:55:43.158828Z",
     "iopub.status.busy": "2025-01-16T00:55:43.158337Z",
     "iopub.status.idle": "2025-01-16T00:55:43.164235Z",
     "shell.execute_reply": "2025-01-16T00:55:43.163382Z",
     "shell.execute_reply.started": "2025-01-16T00:55:43.158800Z"
    }
   },
   "outputs": [],
   "source": [
    "# Thanks to Marcel Gavriliu for this approach of storing card deck masks."
   ]
  },
  {
   "cell_type": "code",
   "execution_count": 56,
   "id": "c4a3ab39-474e-45ab-b041-d5f0d12f1d6b",
   "metadata": {
    "execution": {
     "iopub.execute_input": "2025-01-16T00:55:43.165710Z",
     "iopub.status.busy": "2025-01-16T00:55:43.165181Z",
     "iopub.status.idle": "2025-01-16T00:55:43.177240Z",
     "shell.execute_reply": "2025-01-16T00:55:43.176572Z",
     "shell.execute_reply.started": "2025-01-16T00:55:43.165692Z"
    }
   },
   "outputs": [],
   "source": [
    "THREADS_PER_BLOCK = 256"
   ]
  },
  {
   "cell_type": "markdown",
   "id": "33cdb091-9d1d-4b97-8fec-bf5a4ce29ea8",
   "metadata": {
    "lines_to_next_cell": 2
   },
   "source": [
    "### GPU simulation"
   ]
  },
  {
   "cell_type": "code",
   "execution_count": 57,
   "id": "c2c8f44f",
   "metadata": {
    "execution": {
     "iopub.execute_input": "2025-01-16T00:55:43.178710Z",
     "iopub.status.busy": "2025-01-16T00:55:43.178266Z",
     "iopub.status.idle": "2025-01-16T00:55:43.187494Z",
     "shell.execute_reply": "2025-01-16T00:55:43.186757Z",
     "shell.execute_reply.started": "2025-01-16T00:55:43.178693Z"
    }
   },
   "outputs": [],
   "source": [
    "@numba_njit(inline='always')\n",
    "def deckmask_of_card(card: numba.uint8) -> numba.uint64:\n",
    "  \"\"\"Return a deckmask of 52 bits encoding the suit and rank of `card` (in `range(52)`).\"\"\"\n",
    "  return numba.uint64(1) << numba.uint32(card)"
   ]
  },
  {
   "cell_type": "code",
   "execution_count": 58,
   "id": "2e9d75f9-77f9-4b58-95dd-9d724d61e152",
   "metadata": {
    "execution": {
     "iopub.execute_input": "2025-01-16T00:55:43.188835Z",
     "iopub.status.busy": "2025-01-16T00:55:43.188437Z",
     "iopub.status.idle": "2025-01-16T00:55:43.200465Z",
     "shell.execute_reply": "2025-01-16T00:55:43.199596Z",
     "shell.execute_reply.started": "2025-01-16T00:55:43.188812Z"
    }
   },
   "outputs": [],
   "source": [
    "@cuda.jit(fastmath=True)  # type: ignore[misc]\n",
    "def gpu_deckmask(rng_states: _CudaArray, decks_per_thread: int, global_tally: _CudaArray) -> None:\n",
    "  \"\"\"CUDA kernel to compute hand probabilities using a deck-mask approach.\"\"\"\n",
    "  # pylint: disable=too-many-function-args, no-value-for-parameter, comparison-with-callable\n",
    "  uint8, int32, uint32, float32 = numba.uint8, numba.int32, numba.uint32, numba.float32\n",
    "  popc = cuda.popc\n",
    "  thread_index = cuda.grid(1)\n",
    "  if thread_index >= len(rng_states):\n",
    "    return\n",
    "  thread_id = cuda.threadIdx.x  # Index within block.\n",
    "\n",
    "  # Per-thread hand outcome tallies (ROYAL_FLUSH, ..., HIGH_CARD).\n",
    "  t0 = t1 = t2 = t3 = t4 = t5 = t6 = t7 = t8 = t9 = uint32(0)\n",
    "\n",
    "  block_deck = cuda.shared.array((THREADS_PER_BLOCK, DECK_SIZE), np.uint8)\n",
    "  deck = block_deck[thread_id]\n",
    "\n",
    "  for i in range(uint8(DECK_SIZE)):  # Casting as uint8 nicely unrolls the loop.\n",
    "    deck[i] = i\n",
    "\n",
    "  rng = rng_states[thread_index]\n",
    "  s0, s1, s2, s3 = rng['s0'], rng['s1'], rng['s2'], rng['s3']\n",
    "\n",
    "  for _ in range(int32(decks_per_thread)):\n",
    "    # Apply Fisher-Yates shuffle to current deck, iteratively swapping [i] with any [0, ..., i].\n",
    "    i = uint32(51)\n",
    "    while i > 0:\n",
    "      random_uint32, s0, s1, s2, s3 = random32.xoshiro128p_next_raw(s0, s1, s2, s3)\n",
    "      random_uint32 = uint32(random_uint32)\n",
    "      s0, s1, s2, s3 = uint32(s0), uint32(s1), uint32(s2), uint32(s3)\n",
    "      j = uint32(float32(random_uint32) * float32((1.0 - 1e-7) / 2**32) * float32(int32(i + 1)))\n",
    "      deck[i], deck[j] = deck[j], deck[i]\n",
    "      i = uint32(i - 1)\n",
    "\n",
    "    mask0, mask1 = deckmask_of_card(deck[0]), deckmask_of_card(deck[1])\n",
    "    mask2, mask3 = deckmask_of_card(deck[2]), deckmask_of_card(deck[3])\n",
    "    deckmask = mask0 + mask1 + mask2 + mask3\n",
    "\n",
    "    card_index = uint32(4)\n",
    "    while card_index < uint32(DECK_SIZE):\n",
    "      mask4 = deckmask_of_card(deck[card_index])\n",
    "      deckmask += mask4  # No bit carries; same as \"deckmask |= mask4\".\n",
    "\n",
    "      # Extract four 13-bit masks for the ranks in each suit:\n",
    "      RANK_MASK = (1 << NUM_RANKS) - 1\n",
    "      r0 = uint32(uint32(deckmask >> (NUM_RANKS * 0)) & RANK_MASK)\n",
    "      r1 = uint32(uint32(deckmask >> (NUM_RANKS * 1)) & RANK_MASK)\n",
    "      r2 = uint32(uint32(deckmask >> (NUM_RANKS * 2)) & RANK_MASK)\n",
    "      r3 = uint32(uint32(deckmask >> (NUM_RANKS * 3)) & RANK_MASK)\n",
    "      ranks = uint32(r0 | r1 | r2 | r3)\n",
    "\n",
    "      is_flush = max(popc(r0), popc(r1), popc(r2), popc(r3)) == CARDS_FOR_A_FLUSH\n",
    "      bunched_bits = uint32(cuda.clz(ranks) + cuda.ffs(ranks)) == 32 - HAND_SIZE + 1\n",
    "      is_non_ace_low_straight = (popc(ranks) == CARDS_FOR_A_STRAIGHT) & bunched_bits\n",
    "      is_ace_low_straight = ranks == 0b1000000001111\n",
    "      is_straight = is_non_ace_low_straight or is_ace_low_straight\n",
    "      is_royal_straight = ranks == 0b1111100000000\n",
    "      fours = uint32(r0 & r1 & r2 & r3)\n",
    "      three_or_more = uint32((r0 & r1 & r2) | (r0 & r1 & r3) | (r0 & r2 & r3) | (r1 & r2 & r3))\n",
    "      two_or_more = uint32((r0 & r1) | (r0 & r2) | (r0 & r3) | (r1 & r2) | (r1 & r3) | (r2 & r3))\n",
    "      num_two_or_more = popc(two_or_more)\n",
    "\n",
    "      if is_flush and is_straight:\n",
    "        if is_royal_straight:\n",
    "          t0 = uint32(t0 + 1)  # ROYAL_FLUSH.\n",
    "        else:\n",
    "          t1 = uint32(t1 + 1)  # STRAIGHT_FLUSH.\n",
    "      elif fours != 0:\n",
    "        t2 = uint32(t2 + 1)  # FOUR_OF_A_KIND.\n",
    "      elif three_or_more != 0 and num_two_or_more > 1:\n",
    "        t3 = uint32(t3 + 1)  # FULL_HOUSE.\n",
    "      elif is_flush:\n",
    "        t4 = uint32(t4 + 1)  # FLUSH.\n",
    "      elif is_straight:\n",
    "        t5 = uint32(t5 + 1)  # STRAIGHT.\n",
    "      elif three_or_more != 0:\n",
    "        t6 = uint32(t6 + 1)  # THREE_OF_A_KIND.\n",
    "      elif num_two_or_more == 2:\n",
    "        t7 = uint32(t7 + 1)  # TWO_PAIR.\n",
    "      elif num_two_or_more == 1:\n",
    "        t8 = uint32(t8 + 1)  # ONE_PAIR.\n",
    "      else:\n",
    "        t9 = uint32(t9 + 1)  # HIGH_CARD.\n",
    "\n",
    "      deckmask -= mask0  # No bit carries; same as \"deckmask &= ~mask0\".\n",
    "      mask0, mask1, mask2, mask3 = mask1, mask2, mask3, mask4\n",
    "      card_index = uint32(card_index + 1)\n",
    "\n",
    "  pairs = (0, t0), (1, t1), (2, t2), (3, t3), (4, t4), (5, t5), (6, t6), (7, t7), (8, t8), (9, t9)\n",
    "  for i, t in pairs:\n",
    "    cuda.atomic.add(global_tally, i, t)"
   ]
  },
  {
   "cell_type": "code",
   "execution_count": 59,
   "id": "84d9e5c7-1656-46d6-af4e-1285d93fc6eb",
   "metadata": {
    "execution": {
     "iopub.execute_input": "2025-01-16T00:55:43.201879Z",
     "iopub.status.busy": "2025-01-16T00:55:43.201340Z",
     "iopub.status.idle": "2025-01-16T00:55:43.212584Z",
     "shell.execute_reply": "2025-01-16T00:55:43.211909Z",
     "shell.execute_reply.started": "2025-01-16T00:55:43.201860Z"
    }
   },
   "outputs": [],
   "source": [
    "def simulate_hands_deckmask_gpu_cuda(num_decks: int, rng: np.random.Generator) -> Probabilities:\n",
    "  \"\"\"Compute hand probabilities using a deckmask approach by invoking a CUDA kernel.\"\"\"\n",
    "  device = cuda.get_current_device()\n",
    "  PARALLELISM = 8  # Number of blocks per SM.\n",
    "  target_num_threads = PARALLELISM * device.MULTIPROCESSOR_COUNT * THREADS_PER_BLOCK\n",
    "  decks_per_thread = max(1, num_decks // target_num_threads)\n",
    "  num_threads = num_decks // decks_per_thread\n",
    "  # print(f'{decks_per_thread=} {num_threads=}')\n",
    "  blocks = math.ceil(num_threads / THREADS_PER_BLOCK)\n",
    "  seed = rng.integers(2**64, dtype=np.uint64)\n",
    "  d_rng_states = random32.create_xoshiro128p_states(num_threads, seed)\n",
    "  d_global_tally = cuda.to_device(np.zeros(NUM_OUTCOMES, np.int64))\n",
    "  gpu_deckmask[blocks, THREADS_PER_BLOCK](d_rng_states, decks_per_thread, d_global_tally)\n",
    "  return d_global_tally.copy_to_host() / (num_threads * decks_per_thread * HANDS_PER_DECK)"
   ]
  },
  {
   "cell_type": "code",
   "execution_count": 60,
   "id": "c96f0ca2-fb1c-461c-af4b-0e5333d14cb0",
   "metadata": {
    "execution": {
     "iopub.execute_input": "2025-01-16T00:55:43.213953Z",
     "iopub.status.busy": "2025-01-16T00:55:43.213426Z",
     "iopub.status.idle": "2025-01-16T00:55:43.716301Z",
     "shell.execute_reply": "2025-01-16T00:55:43.715535Z",
     "shell.execute_reply.started": "2025-01-16T00:55:43.213936Z"
    }
   },
   "outputs": [],
   "source": [
    "if cuda.is_available():\n",
    "  assert np.allclose(simulate_hands_deckmask_gpu_cuda(10**7, RNG), EXPECTED_PROB, atol=0.0001)"
   ]
  },
  {
   "cell_type": "code",
   "execution_count": 61,
   "id": "312ef11e-7930-46ed-b6a3-39021c6e5513",
   "metadata": {
    "execution": {
     "iopub.execute_input": "2025-01-16T00:55:43.717327Z",
     "iopub.status.busy": "2025-01-16T00:55:43.717146Z",
     "iopub.status.idle": "2025-01-16T00:55:44.218298Z",
     "shell.execute_reply": "2025-01-16T00:55:44.217389Z",
     "shell.execute_reply.started": "2025-01-16T00:55:43.717313Z"
    }
   },
   "outputs": [
    {
     "name": "stdout",
     "output_type": "stream",
     "text": [
      "Timing:\n",
      "99.3 ms ± 35.4 ms per loop (mean ± std. dev. of 5 runs, 1 loop each)\n"
     ]
    }
   ],
   "source": [
    "if cuda.is_available():\n",
    "  print('Timing:')\n",
    "  %timeit -n1 -r5 simulate_hands_deckmask_gpu_cuda(5 * 10**7, RNG)  # ~65-180 ms."
   ]
  },
  {
   "cell_type": "code",
   "execution_count": 62,
   "id": "d1b59455-e938-4834-aa43-a9512bfab654",
   "metadata": {
    "execution": {
     "iopub.execute_input": "2025-01-16T00:55:44.219632Z",
     "iopub.status.busy": "2025-01-16T00:55:44.219249Z",
     "iopub.status.idle": "2025-01-16T00:55:44.225082Z",
     "shell.execute_reply": "2025-01-16T00:55:44.224367Z",
     "shell.execute_reply.started": "2025-01-16T00:55:44.219615Z"
    }
   },
   "outputs": [
    {
     "name": "stdout",
     "output_type": "stream",
     "text": [
      "const_mem_size = 0\n",
      "local_mem_per_thread = 0\n",
      "max_threads_per_block = 1024\n",
      "regs_per_thread = 47\n",
      "shared_mem_per_block = 13312\n"
     ]
    }
   ],
   "source": [
    "if cuda.is_available():\n",
    "  write_numba_assembly_code(gpu_deckmask, 'gpu_deckmask.ptx')\n",
    "  report_cuda_kernel_properties(gpu_deckmask)"
   ]
  },
  {
   "cell_type": "code",
   "execution_count": 63,
   "id": "8cc47bdd-f254-4dec-a727-2e4f53c135bc",
   "metadata": {
    "execution": {
     "iopub.execute_input": "2025-01-16T00:55:44.226411Z",
     "iopub.status.busy": "2025-01-16T00:55:44.226009Z",
     "iopub.status.idle": "2025-01-16T00:55:44.232321Z",
     "shell.execute_reply": "2025-01-16T00:55:44.231688Z",
     "shell.execute_reply.started": "2025-01-16T00:55:44.226387Z"
    }
   },
   "outputs": [],
   "source": [
    "# simulate_poker_hands(10**10, 'deckmask_gpu_cuda', simulate_hands_deckmask_gpu_cuda)  # ~17-41 G hands/s."
   ]
  },
  {
   "cell_type": "markdown",
   "id": "d2bc4755-cde2-4223-80f0-5b02fc49a389",
   "metadata": {},
   "source": [
    "## Results"
   ]
  },
  {
   "cell_type": "code",
   "execution_count": 64,
   "id": "940da643-485f-4416-8020-0651a5eb867f",
   "metadata": {
    "execution": {
     "iopub.execute_input": "2025-01-16T00:55:44.233513Z",
     "iopub.status.busy": "2025-01-16T00:55:44.233111Z",
     "iopub.status.idle": "2025-01-16T00:55:44.242773Z",
     "shell.execute_reply": "2025-01-16T00:55:44.241985Z",
     "shell.execute_reply.started": "2025-01-16T00:55:44.233498Z"
    }
   },
   "outputs": [],
   "source": [
    "SIMULATE_FUNCTIONS = {\n",
    "    name: func\n",
    "    for name, func in {\n",
    "        'array_cpu_python': simulate_hands_array_cpu_python,\n",
    "        'array_cpu_numba': simulate_hands_array_cpu_numba,\n",
    "        'array_cpu_numba_multiprocess': simulate_hands_array_cpu_numba_multiprocess,\n",
    "        'array_gpu_cuda': simulate_hands_array_gpu_cuda,\n",
    "        'bitcount_cpu_numba': simulate_hands_bitcount_cpu_numba,\n",
    "        'bitcount_cpu_numba_multiprocess': simulate_hands_bitcount_cpu_numba_multiprocess,\n",
    "        'bitcount_gpu_cuda': simulate_hands_bitcount_gpu_cuda,\n",
    "        'deckmask_gpu_cuda': simulate_hands_deckmask_gpu_cuda,\n",
    "    }.items()\n",
    "    if ('multiprocess' not in name or MULTIPROCESS_IS_AVAILABLE)\n",
    "    and ('cuda' not in name or cuda.is_available())\n",
    "}"
   ]
  },
  {
   "cell_type": "code",
   "execution_count": 75,
   "id": "92bde0ec-7f24-4f13-b350-cc413094ab11",
   "metadata": {
    "execution": {
     "iopub.execute_input": "2025-01-16T01:01:02.413361Z",
     "iopub.status.busy": "2025-01-16T01:01:02.412676Z",
     "iopub.status.idle": "2025-01-16T01:01:02.416512Z",
     "shell.execute_reply": "2025-01-16T01:01:02.415885Z",
     "shell.execute_reply.started": "2025-01-16T01:01:02.413337Z"
    }
   },
   "outputs": [],
   "source": [
    "COMPLEXITY_ADJUSTMENT = {\n",
    "    'array_cpu_python': 0.01,\n",
    "    'array_cpu_numba': 2.0,\n",
    "    'array_cpu_numba_multiprocess': 20.0,\n",
    "    'array_gpu_cuda': 500.0,\n",
    "    'bitcount_cpu_numba': 2.0,\n",
    "    'bitcount_cpu_numba_multiprocess': 20.0,\n",
    "    'bitcount_gpu_cuda': 2000.0,\n",
    "    'deckmask_gpu_cuda': 4000.0,\n",
    "}"
   ]
  },
  {
   "cell_type": "code",
   "execution_count": 76,
   "id": "e7bd410e-681f-499c-b2bf-8303c7146423",
   "metadata": {
    "execution": {
     "iopub.execute_input": "2025-01-16T01:01:02.418092Z",
     "iopub.status.busy": "2025-01-16T01:01:02.417691Z",
     "iopub.status.idle": "2025-01-16T01:01:02.426882Z",
     "shell.execute_reply": "2025-01-16T01:01:02.426346Z",
     "shell.execute_reply.started": "2025-01-16T01:01:02.418075Z"
    }
   },
   "outputs": [],
   "source": [
    "def simulate_poker_hands(\n",
    "    desired_num_hands: int,\n",
    "    func_name: str,\n",
    "    func: Callable[[int, np.random.Generator], Probabilities],\n",
    "    verbose: bool = False,\n",
    ") -> None:\n",
    "  \"\"\"Report hand probabilities and timings using a particular approach.\"\"\"\n",
    "  num_decks = math.ceil(desired_num_hands / HANDS_PER_DECK)\n",
    "  num_hands = num_decks * HANDS_PER_DECK\n",
    "\n",
    "  # Ensure the function is jitted.\n",
    "  _ = func(num_decks // 10, RNG)\n",
    "\n",
    "  start_time = time.perf_counter_ns()\n",
    "  results = func(num_decks, RNG)\n",
    "  elapsed_time = (time.perf_counter_ns() - start_time) / 10**9\n",
    "\n",
    "  round_digits: Any = lambda x, ndigits=3: round(x, ndigits - 1 - math.floor(math.log10(abs(x))))\n",
    "  hands_per_s: float = round_digits(int(num_hands / elapsed_time))\n",
    "  print(\n",
    "      f'\\n# For {func_name:<32} {num_hands:13,} hands;'\n",
    "      f' {elapsed_time:.3f} s; {hands_per_s:13,} hands/s.'\n",
    "  )\n",
    "\n",
    "  if verbose:\n",
    "    print('#  Probabilities:')\n",
    "  sigmas = []\n",
    "  for outcome, result_prob in zip(Outcome, results):\n",
    "    reference_prob = outcome.reference_count / comb(DECK_SIZE, HAND_SIZE)\n",
    "    error = result_prob - reference_prob\n",
    "    estimate_sdv = (reference_prob * (1 - reference_prob) / num_hands) ** 0.5\n",
    "    sdv = error / estimate_sdv\n",
    "    sigmas.append(f' {sdv:6.2f}σ')\n",
    "    s = f'#   {outcome.string_name:<16}: {result_prob * 100:8.5f}%'\n",
    "    s += f'  (vs. ref. {reference_prob * 100:8.5f}%  error:{error * 100:8.5f}% {sdv:6.2f}σ)'\n",
    "    if verbose:\n",
    "      print(s)\n",
    "  if not verbose:\n",
    "    print('#   ' + ''.join(sigmas))"
   ]
  },
  {
   "cell_type": "code",
   "execution_count": 77,
   "id": "e935c8b8-a126-4a4f-ae08-bbba8d6a80b4",
   "metadata": {
    "execution": {
     "iopub.execute_input": "2025-01-16T01:01:02.428014Z",
     "iopub.status.busy": "2025-01-16T01:01:02.427498Z",
     "iopub.status.idle": "2025-01-16T01:01:02.438931Z",
     "shell.execute_reply": "2025-01-16T01:01:02.438001Z",
     "shell.execute_reply.started": "2025-01-16T01:01:02.428000Z"
    }
   },
   "outputs": [],
   "source": [
    "def compare_simulations(base_num_hands: int, verbose: bool = False) -> None:\n",
    "  \"\"\"Report hand probabilities and timings using a variety of approaches on CPU and GPU.\"\"\"\n",
    "  for func_name, func in SIMULATE_FUNCTIONS.items():\n",
    "    desired_num_hands = math.ceil(base_num_hands * COMPLEXITY_ADJUSTMENT[func_name])\n",
    "    simulate_poker_hands(desired_num_hands, func_name, func, verbose)"
   ]
  },
  {
   "cell_type": "code",
   "execution_count": 78,
   "id": "ca0e7a67-ca73-4e8f-b584-9368daefeb7e",
   "metadata": {
    "execution": {
     "iopub.execute_input": "2025-01-16T01:01:02.441031Z",
     "iopub.status.busy": "2025-01-16T01:01:02.440621Z",
     "iopub.status.idle": "2025-01-16T01:01:06.323771Z",
     "shell.execute_reply": "2025-01-16T01:01:06.322987Z",
     "shell.execute_reply.started": "2025-01-16T01:01:02.441016Z"
    }
   },
   "outputs": [
    {
     "name": "stdout",
     "output_type": "stream",
     "text": [
      "\n",
      "# For array_cpu_python                       100,032 hands; 0.788 s;       127,000 hands/s.\n",
      "#     -0.39σ   7.32σ  -4.90σ  -4.51σ   2.38σ   2.90σ  -3.60σ   3.34σ   3.45σ  -3.93σ\n",
      "\n",
      "# For array_cpu_numba                     20,000,016 hands; 0.434 s;    46,100,000 hands/s.\n",
      "#     -3.75σ   1.38σ   6.90σ   0.11σ  -1.81σ   0.49σ  -7.20σ   8.15σ   2.68σ  -4.17σ\n",
      "\n",
      "# For array_cpu_numba_multiprocess       200,000,016 hands; 0.441 s;   454,000,000 hands/s.\n",
      "#     -3.87σ   3.79σ  -4.47σ   7.05σ  -1.69σ  -5.36σ  -4.16σ  -1.96σ  -7.59σ   9.94σ\n",
      "\n",
      "# For array_gpu_cuda                   5,000,000,016 hands; 0.303 s; 16,500,000,000 hands/s.\n",
      "#     -1.42σ   0.34σ  -1.27σ   1.60σ  -1.14σ   0.73σ   1.26σ  -0.03σ  -0.02σ  -0.40σ\n",
      "\n",
      "# For bitcount_cpu_numba                  20,000,016 hands; 0.147 s;   136,000,000 hands/s.\n",
      "#     -1.94σ  -4.03σ   5.17σ   0.34σ   0.16σ   3.89σ  -3.14σ   0.03σ  -4.79σ   4.97σ\n",
      "\n",
      "# For bitcount_cpu_numba_multiprocess    200,000,016 hands; 0.238 s;   839,000,000 hands/s.\n",
      "#      4.68σ   4.55σ   0.73σ   4.97σ  -4.15σ  -2.88σ   3.78σ  -3.65σ   1.98σ  -1.21σ\n",
      "\n",
      "# For bitcount_gpu_cuda                20,000,000,016 hands; 0.352 s; 56,900,000,000 hands/s.\n",
      "#     -0.38σ   1.03σ   1.51σ  -0.28σ  -1.00σ   0.32σ   0.72σ  -0.20σ  -1.95σ   1.82σ\n",
      "\n",
      "# For deckmask_gpu_cuda                40,000,000,032 hands; 0.372 s; 108,000,000,000 hands/s.\n",
      "#     -0.73σ  -1.41σ  -0.02σ   0.49σ  -0.80σ  -0.52σ  -1.21σ  -1.94σ  -0.94σ   2.22σ\n"
     ]
    }
   ],
   "source": [
    "compare_simulations(base_num_hands=10**7)"
   ]
  },
  {
   "cell_type": "code",
   "execution_count": 79,
   "id": "4ef83cc9-da12-486c-b9f5-dc8f644304d6",
   "metadata": {
    "execution": {
     "iopub.execute_input": "2025-01-16T01:01:06.324805Z",
     "iopub.status.busy": "2025-01-16T01:01:06.324615Z",
     "iopub.status.idle": "2025-01-16T01:01:06.328411Z",
     "shell.execute_reply": "2025-01-16T01:01:06.327843Z",
     "shell.execute_reply.started": "2025-01-16T01:01:06.324788Z"
    }
   },
   "outputs": [],
   "source": [
    "# Hands/s: 135k, 44m, 470m, 16g, 135m, 890m, 57g, 108g."
   ]
  },
  {
   "cell_type": "code",
   "execution_count": 80,
   "id": "4e2c58e2-5b87-4232-a96e-10e2773625cb",
   "metadata": {
    "execution": {
     "iopub.execute_input": "2025-01-16T01:01:06.329272Z",
     "iopub.status.busy": "2025-01-16T01:01:06.329031Z",
     "iopub.status.idle": "2025-01-16T01:01:22.306240Z",
     "shell.execute_reply": "2025-01-16T01:01:22.305596Z",
     "shell.execute_reply.started": "2025-01-16T01:01:06.329260Z"
    }
   },
   "outputs": [
    {
     "name": "stdout",
     "output_type": "stream",
     "text": [
      "\n",
      "# For bitcount_gpu_cuda                1,000,000,000,032 hands; 14.412 s; 69,400,000,000 hands/s.\n",
      "#     -0.80σ   0.47σ  -0.44σ   0.51σ  -1.64σ  -1.86σ   1.60σ   2.52σ  -1.65σ   0.45σ\n"
     ]
    }
   ],
   "source": [
    "if 1:\n",
    "  if cuda.is_available():\n",
    "    simulate_poker_hands(10**12, 'bitcount_gpu_cuda', simulate_hands_bitcount_gpu_cuda)"
   ]
  },
  {
   "cell_type": "code",
   "execution_count": 81,
   "id": "628c75a6-c775-46f7-83ff-8baa85a685f2",
   "metadata": {
    "execution": {
     "iopub.execute_input": "2025-01-16T01:01:22.307567Z",
     "iopub.status.busy": "2025-01-16T01:01:22.307018Z",
     "iopub.status.idle": "2025-01-16T01:01:22.310097Z",
     "shell.execute_reply": "2025-01-16T01:01:22.309533Z",
     "shell.execute_reply.started": "2025-01-16T01:01:22.307552Z"
    }
   },
   "outputs": [],
   "source": [
    "# For bitcount_gpu_cuda                1,000,000,000,032 hands; 14.303 s; 69,900,000,000 hands/s.\n",
    "#      0.37σ  -0.78σ   1.09σ  -0.53σ  -0.53σ  -0.72σ  -1.61σ  -0.95σ  -0.91σ   1.91σ"
   ]
  },
  {
   "cell_type": "code",
   "execution_count": 82,
   "id": "cb199233",
   "metadata": {
    "execution": {
     "iopub.execute_input": "2025-01-16T01:01:22.311077Z",
     "iopub.status.busy": "2025-01-16T01:01:22.310787Z",
     "iopub.status.idle": "2025-01-16T01:01:29.848113Z",
     "shell.execute_reply": "2025-01-16T01:01:29.847467Z",
     "shell.execute_reply.started": "2025-01-16T01:01:22.311059Z"
    }
   },
   "outputs": [
    {
     "name": "stdout",
     "output_type": "stream",
     "text": [
      "\n",
      "# For deckmask_gpu_cuda                1,000,000,000,032 hands; 6.777 s; 148,000,000,000 hands/s.\n",
      "#     -0.07σ  -1.39σ   1.84σ   1.33σ   0.81σ  -1.17σ  -1.01σ  -0.69σ  -0.40σ   0.91σ\n"
     ]
    }
   ],
   "source": [
    "if 1:\n",
    "  if cuda.is_available():\n",
    "    simulate_poker_hands(10**12, 'deckmask_gpu_cuda', simulate_hands_deckmask_gpu_cuda)"
   ]
  },
  {
   "cell_type": "code",
   "execution_count": 83,
   "id": "6f7c81eb-f53c-44a3-a153-23c2e790d2bc",
   "metadata": {
    "execution": {
     "iopub.execute_input": "2025-01-16T01:01:29.849059Z",
     "iopub.status.busy": "2025-01-16T01:01:29.848859Z",
     "iopub.status.idle": "2025-01-16T01:01:29.852020Z",
     "shell.execute_reply": "2025-01-16T01:01:29.851451Z",
     "shell.execute_reply.started": "2025-01-16T01:01:29.849043Z"
    }
   },
   "outputs": [],
   "source": [
    "# For deckmask_gpu_cuda                1,000,000,000,032 hands; 6.777 s; 148,000,000,000 hands/s.\n",
    "#     -0.07σ  -1.39σ   1.84σ   1.33σ   0.81σ  -1.17σ  -1.01σ  -0.69σ  -0.40σ   0.91σ"
   ]
  },
  {
   "cell_type": "markdown",
   "id": "53b10704-3a4b-4b0e-b0ac-711b2afed9bd",
   "metadata": {},
   "source": [
    "## End"
   ]
  }
 ],
 "metadata": {
  "colab": {
   "collapsed_sections": [],
   "provenance": [],
   "toc_visible": true
  },
  "jupytext": {
   "cell_metadata_filter": "-all",
   "formats": "ipynb,py:percent",
   "main_language": "python",
   "notebook_metadata_filter": "-all"
  },
  "kernelspec": {
   "display_name": "Python 3 (ipykernel)",
   "language": "python",
   "name": "python3"
  },
  "language_info": {
   "codemirror_mode": {
    "name": "ipython",
    "version": 3
   },
   "file_extension": ".py",
   "mimetype": "text/x-python",
   "name": "python",
   "nbconvert_exporter": "python",
   "pygments_lexer": "ipython3",
   "version": "3.10.12"
  }
 },
 "nbformat": 4,
 "nbformat_minor": 5
}
