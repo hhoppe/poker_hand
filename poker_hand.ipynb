{
 "cells": [
  {
   "cell_type": "markdown",
   "id": "f819c4f7",
   "metadata": {},
   "source": [
    "# Poker hand simulation\n",
    "\n",
    "This notebook is a simple testbed to experiment with Python acceleration using `numba` (CPU-jitted code) and `numba.cuda` (GPU CUDA-jitted code).\n",
    "\n",
    "We estimate poker hand probabilities using Monte Carlo simulation and compare results with known reference values.\n",
    "\n",
    "We compare execution speeds using Python, `numba`, `numba` with multiprocessing, and `numba.cuda`.\n",
    "\n",
    "Websites on which to run this notebook include:\n",
    "\n",
    "- [Open in Google Colab](https://colab.research.google.com/github/hhoppe/poker_hand/blob/main/poker_hand.ipynb), click on Runtime -> Change runtime type -> T4 GPU, and then Runtime -> Run all.\n",
    "\n",
    "- [Open in kaggle.com](https://www.kaggle.com/notebooks/welcome?src=https://github.com/hhoppe/poker_hand/blob/main/poker_hand.ipynb), click on Session options -> Accelerator -> GPU T4 x2 or P100, then Run All.\n",
    "\n",
    "- [Open in mybinder.org](https://mybinder.org/v2/gh/hhoppe/poker_hand/main?urlpath=lab/tree/poker_hand.ipynb).  Unfortunately, no GPU is available.\n",
    "\n",
    "- [Open in deepnote.com](https://deepnote.com/launch?url=https%3A%2F%2Fgithub.com%2Fhhoppe%2Fpoker_hand%2Fblob%2Fmain%2Fpoker_hand.ipynb).  Unfortunately, no GPU is available.\n",
    "\n",
    "Here are results:"
   ]
  },
  {
   "cell_type": "markdown",
   "id": "9d5d9096-b348-4ac2-a0f7-b1d0382e9fd8",
   "metadata": {},
   "source": [
    "<table style=\"margin-left: 0\">\n",
    "<tr>\n",
    "  <th>Platform</th>\n",
    "  <th style=\"text-align: center\">CPU<br>threads</th>\n",
    "  <th style=\"text-align: center\">GPU<br>type</th>\n",
    "  <th style=\"text-align: center\">CUDA<br>SMs</th>\n",
    "  <th colspan=\"4\">Simulation rate (hands/s)</th>\n",
    "</tr>\n",
    "<tr>\n",
    "  <th></th>\n",
    "  <th></th>\n",
    "  <th></th>\n",
    "  <th></th>\n",
    "  <th>Python</th>\n",
    "  <th>Numba</th>\n",
    "  <th>Multiprocess</th>\n",
    "  <th>CUDA</th>\n",
    "</tr>\n",
    "<tr>\n",
    "  <td><b>My PC</b> Win10</td>\n",
    "  <td style=\"text-align: center\">24</td>\n",
    "  <td style=\"text-align: center\">GeForce 3080 Ti</td>\n",
    "  <td style=\"text-align: center\">80</td>\n",
    "  <td style=\"text-align: right\">24,600</td>\n",
    "  <td style=\"text-align: right\">10,000,000</td>\n",
    "  <td style=\"text-align: right\">-</td>\n",
    "  <td style=\"text-align: right\">840,000,000</td>\n",
    "</tr>\n",
    "<tr>\n",
    "  <td><b>My PC</b> WSL2</td>\n",
    "  <td style=\"text-align: center\">24</td>\n",
    "  <td style=\"text-align: center\">GeForce 3080 Ti</td>\n",
    "  <td style=\"text-align: center\">80</td>\n",
    "  <td style=\"text-align: right\">116,000</td>\n",
    "  <td style=\"text-align: right\">7,390,000</td>\n",
    "  <td style=\"text-align: right\">81,500,000</td>\n",
    "  <td style=\"text-align: right\">780,000,000</td>\n",
    "</tr>\n",
    "<tr>\n",
    "  <td><b>Marcel PC</b> Win</td>\n",
    "  <td style=\"text-align: center\">24</td>\n",
    "  <td style=\"text-align: center\">Titan V</td>\n",
    "  <td style=\"text-align: center\">80</td>\n",
    "  <td style=\"text-align: right\">62,800</td>\n",
    "  <td style=\"text-align: right\">5,160,000</td>\n",
    "  <td style=\"text-align: right\">-</td>\n",
    "  <td style=\"text-align: right\">2,280,000,000</td>\n",
    "</tr><tr>\n",
    "  <td><a href=\"https://colab.research.google.com/github/hhoppe/poker_hand/blob/main/poker_hand.ipynb\"><b>Colab</b> T4</a></td>\n",
    "  <td style=\"text-align: center\">2</td>\n",
    "  <td style=\"text-align: center\">Tesla T4</td>\n",
    "  <td style=\"text-align: center\">40</td>\n",
    "  <td style=\"text-align: right\">14,500</td>\n",
    "  <td style=\"text-align: right\">3,980,000</td>\n",
    "  <td style=\"text-align: right\">4,270,000</td>\n",
    "  <td style=\"text-align: right\">1,660,000,000</td>\n",
    "</tr>\n",
    "<tr>\n",
    "  <td><a href=\"https://www.kaggle.com/notebooks/welcome?src=https://github.com/hhoppe/poker_hand/blob/main/poker_hand.ipynb\"><b>Kaggle</b> T4</a></td>\n",
    "  <td style=\"text-align: center\">4</td>\n",
    "  <td style=\"text-align: center\">Tesla T4 x2</td>\n",
    "  <td style=\"text-align: center\">40</td>\n",
    "  <td style=\"text-align: right\">17,300</td>\n",
    "  <td style=\"text-align: right\">4,100,000</td>\n",
    "  <td style=\"text-align: right\">9,130,000</td>\n",
    "  <td style=\"text-align: right\">1,820,000,000</td>\n",
    "</tr>\n",
    "<tr>\n",
    "  <td><b>Kaggle</b> P100</td>\n",
    "  <td style=\"text-align: center\">4</td>\n",
    "  <td style=\"text-align: center\">Tesla P100</td>\n",
    "  <td style=\"text-align: center\">56</td>\n",
    "  <td style=\"text-align: right\">18,000</td>\n",
    "  <td style=\"text-align: right\">4,070,000</td>\n",
    "  <td style=\"text-align: right\">9,900,000</td>\n",
    "  <td style=\"text-align: right\">1,120,000,000</td>\n",
    "</tr>\n",
    "<tr>\n",
    "  <td><a href=\"https://mybinder.org/v2/gh/hhoppe/poker_hand/main?urlpath=lab/tree/poker_hand.ipynb\"><b>mybinder</b></a></td>\n",
    "  <td style=\"text-align: center\">72</td>\n",
    "  <td style=\"text-align: center\">None</td>\n",
    "  <td style=\"text-align: center\">-</td>\n",
    "  <td style=\"text-align: right\">16,000</td>\n",
    "  <td style=\"text-align: right\">1,210,000</td>\n",
    "  <td style=\"text-align: right\">740,000</td>\n",
    "  <td style=\"text-align: right\">-</td>\n",
    "</tr>\n",
    "<tr>\n",
    "  <td><a href=\"https://deepnote.com/launch?url=https%3A%2F%2Fgithub.com%2Fhhoppe%2Fpoker_hand%2Fblob%2Fmain%2Fpoker_hand.ipynb\"><b>deepnote</b></a></td>\n",
    "  <td style=\"text-align: center\">8</td>\n",
    "  <td style=\"text-align: center\">None</td>\n",
    "  <td style=\"text-align: center\">-</td>\n",
    "  <td style=\"text-align: right\">14,200</td>\n",
    "  <td style=\"text-align: right\">3,950,000</td>\n",
    "  <td style=\"text-align: right\">2,840,000</td>\n",
    "  <td style=\"text-align: right\">-</td>\n",
    "</tr>\n",
    "</table>"
   ]
  },
  {
   "cell_type": "markdown",
   "id": "17ce3127-cbd5-445b-900d-6c01ddac60a7",
   "metadata": {},
   "source": [
    "It is puzzling that the CUDA rate is lower on my PC than on the online servers."
   ]
  },
  {
   "cell_type": "markdown",
   "id": "926b7255-e5af-473f-809b-000987e06690",
   "metadata": {},
   "source": [
    "### Imports"
   ]
  },
  {
   "cell_type": "code",
   "execution_count": 1,
   "id": "96f8b5b5-8cda-4b5f-8b07-145cf83d0dfd",
   "metadata": {
    "execution": {
     "iopub.execute_input": "2025-01-01T23:53:51.145382Z",
     "iopub.status.busy": "2025-01-01T23:53:51.145131Z",
     "iopub.status.idle": "2025-01-01T23:53:52.470280Z",
     "shell.execute_reply": "2025-01-01T23:53:52.469603Z",
     "shell.execute_reply.started": "2025-01-01T23:53:51.145363Z"
    }
   },
   "outputs": [],
   "source": [
    "!pip install -q numba"
   ]
  },
  {
   "cell_type": "code",
   "execution_count": 2,
   "id": "dcbbf9c8-8c10-49f8-827a-737924f93a72",
   "metadata": {
    "execution": {
     "iopub.execute_input": "2025-01-01T23:53:52.471283Z",
     "iopub.status.busy": "2025-01-01T23:53:52.471061Z",
     "iopub.status.idle": "2025-01-01T23:53:52.474675Z",
     "shell.execute_reply": "2025-01-01T23:53:52.474055Z",
     "shell.execute_reply.started": "2025-01-01T23:53:52.471266Z"
    }
   },
   "outputs": [],
   "source": [
    "# import os\n",
    "# os.environ['NUMBA_ENABLE_CUDASIM'] = '1'\n",
    "# os.environ['NUMBA_CUDA_DEBUGINFO'] = '1'"
   ]
  },
  {
   "cell_type": "code",
   "execution_count": 3,
   "id": "b7672379",
   "metadata": {
    "execution": {
     "iopub.execute_input": "2025-01-01T23:53:52.475677Z",
     "iopub.status.busy": "2025-01-01T23:53:52.475393Z",
     "iopub.status.idle": "2025-01-01T23:53:52.708719Z",
     "shell.execute_reply": "2025-01-01T23:53:52.708155Z",
     "shell.execute_reply.started": "2025-01-01T23:53:52.475663Z"
    },
    "lines_to_next_cell": 2,
    "tags": []
   },
   "outputs": [],
   "source": [
    "import enum\n",
    "import math\n",
    "import multiprocessing\n",
    "import time\n",
    "from typing import Any\n",
    "\n",
    "import numba\n",
    "from numba import cuda\n",
    "import numba.cuda.random\n",
    "import numpy as np"
   ]
  },
  {
   "cell_type": "code",
   "execution_count": 4,
   "id": "40f2522d-afa5-4bf8-9f0a-5623defb8c46",
   "metadata": {
    "execution": {
     "iopub.execute_input": "2025-01-01T23:53:52.709776Z",
     "iopub.status.busy": "2025-01-01T23:53:52.709362Z",
     "iopub.status.idle": "2025-01-01T23:53:52.712662Z",
     "shell.execute_reply": "2025-01-01T23:53:52.712156Z",
     "shell.execute_reply.started": "2025-01-01T23:53:52.709760Z"
    }
   },
   "outputs": [
    {
     "name": "stdout",
     "output_type": "stream",
     "text": [
      "The number of CPU threads is 24.\n"
     ]
    }
   ],
   "source": [
    "print(f'The number of CPU threads is {multiprocessing.cpu_count()}.')"
   ]
  },
  {
   "cell_type": "code",
   "execution_count": 5,
   "id": "23e84adb-9b5e-4ba9-97bd-bdb7c0f92cae",
   "metadata": {
    "execution": {
     "iopub.execute_input": "2025-01-01T23:53:52.713578Z",
     "iopub.status.busy": "2025-01-01T23:53:52.713286Z",
     "iopub.status.idle": "2025-01-01T23:53:53.075410Z",
     "shell.execute_reply": "2025-01-01T23:53:53.074809Z",
     "shell.execute_reply.started": "2025-01-01T23:53:52.713566Z"
    },
    "lines_to_next_cell": 2
   },
   "outputs": [
    {
     "name": "stdout",
     "output_type": "stream",
     "text": [
      "Found 1 CUDA devices\n",
      "id 0    b'NVIDIA GeForce RTX 3080 Ti'                              [SUPPORTED]\n",
      "                      Compute Capability: 8.6\n",
      "                           PCI Device ID: 0\n",
      "                              PCI Bus ID: 10\n",
      "                                    UUID: GPU-e50896f3-f795-945c-9c59-fffc57278834\n",
      "                                Watchdog: Enabled\n",
      "             FP32/FP64 Performance Ratio: 32\n",
      "Summary:\n",
      "\t1/1 devices are supported\n",
      "The number of GPU SMs is 80\n"
     ]
    }
   ],
   "source": [
    "if cuda.is_available() and cuda.detect():\n",
    "  print(f'The number of GPU SMs is {cuda.get_current_device().MULTIPROCESSOR_COUNT}')"
   ]
  },
  {
   "cell_type": "markdown",
   "id": "e5af2c7f-c334-49ad-9afb-fb73cf6d7db4",
   "metadata": {
    "execution": {
     "iopub.execute_input": "2024-12-29T01:42:55.940070Z",
     "iopub.status.busy": "2024-12-29T01:42:55.939661Z",
     "iopub.status.idle": "2024-12-29T01:42:55.942841Z",
     "shell.execute_reply": "2024-12-29T01:42:55.942254Z",
     "shell.execute_reply.started": "2024-12-29T01:42:55.940047Z"
    },
    "lines_to_next_cell": 2
   },
   "source": [
    "### Hand evaluation"
   ]
  },
  {
   "cell_type": "code",
   "execution_count": 6,
   "id": "ef774393-1e4a-4120-a477-0f637b2c87e7",
   "metadata": {
    "execution": {
     "iopub.execute_input": "2025-01-01T23:53:53.077186Z",
     "iopub.status.busy": "2025-01-01T23:53:53.076942Z",
     "iopub.status.idle": "2025-01-01T23:53:53.080565Z",
     "shell.execute_reply": "2025-01-01T23:53:53.080063Z",
     "shell.execute_reply.started": "2025-01-01T23:53:53.077173Z"
    }
   },
   "outputs": [],
   "source": [
    "class Outcome(enum.IntEnum):\n",
    "  \"\"\"Poker hand rankings from best to worst.\"\"\"\n",
    "\n",
    "  ROYAL_FLUSH = 0\n",
    "  STRAIGHT_FLUSH = 1\n",
    "  FOUR_OF_A_KIND = 2\n",
    "  FULL_HOUSE = 3\n",
    "  FLUSH = 4\n",
    "  STRAIGHT = 5\n",
    "  THREE_OF_A_KIND = 6\n",
    "  TWO_PAIR = 7\n",
    "  ONE_PAIR = 8\n",
    "  HIGH_CARD = 9"
   ]
  },
  {
   "cell_type": "code",
   "execution_count": 7,
   "id": "16cb8893-08da-4397-93c1-edb44fe8b06b",
   "metadata": {
    "execution": {
     "iopub.execute_input": "2025-01-01T23:53:53.081365Z",
     "iopub.status.busy": "2025-01-01T23:53:53.081125Z",
     "iopub.status.idle": "2025-01-01T23:53:53.090153Z",
     "shell.execute_reply": "2025-01-01T23:53:53.089587Z",
     "shell.execute_reply.started": "2025-01-01T23:53:53.081352Z"
    }
   },
   "outputs": [],
   "source": [
    "DECK_SIZE = 52\n",
    "NUM_RANKS = 13\n",
    "HAND_SIZE = 5\n",
    "HANDS_PER_DECK = DECK_SIZE // HAND_SIZE\n",
    "NUM_OUTCOMES = len(Outcome)"
   ]
  },
  {
   "cell_type": "code",
   "execution_count": 8,
   "id": "de8da80d-4627-4d1a-b9f6-9e1e26f062f2",
   "metadata": {
    "execution": {
     "iopub.execute_input": "2025-01-01T23:53:53.091096Z",
     "iopub.status.busy": "2025-01-01T23:53:53.090757Z",
     "iopub.status.idle": "2025-01-01T23:53:53.100654Z",
     "shell.execute_reply": "2025-01-01T23:53:53.100013Z",
     "shell.execute_reply.started": "2025-01-01T23:53:53.091082Z"
    }
   },
   "outputs": [],
   "source": [
    "def evaluate_hand_python(cards, ranks, freqs):\n",
    "  \"\"\"Evaluate 5-card poker hand and return outcome ranking.\n",
    "\n",
    "  Args:\n",
    "    cards: List of 5 integers representing cards (0-51).\n",
    "    ranks: Pre-allocated array for storing sorted ranks.\n",
    "    freqs: Pre-allocated array for counting rank frequencies.\n",
    "\n",
    "  Returns:\n",
    "    Integer representing hand ranking (see Outcome enum).\n",
    "  \"\"\"\n",
    "\n",
    "  def get_rank(card: int) -> int:\n",
    "    return card >> 2  # In range(NUM_RANKS), ordered '23456789TJQKA'.\n",
    "\n",
    "  def get_suit(card: int) -> int:\n",
    "    return card & 0b11  # In range(4).\n",
    "\n",
    "  # Sort cards by rank for easier pattern matching, using simple insertion sort.\n",
    "  for i in range(HAND_SIZE):\n",
    "    ranks[i] = get_rank(cards[i])\n",
    "  # ranks.sort()\n",
    "  for i in range(1, HAND_SIZE):\n",
    "    key = ranks[i]\n",
    "    j = i - 1\n",
    "    while j >= 0 and ranks[j] > key:\n",
    "      ranks[j + 1] = ranks[j]\n",
    "      j -= 1\n",
    "    ranks[j + 1] = key\n",
    "\n",
    "  # is_flush = all(card == cards[0] for card in cards[1:])\n",
    "  c0, c1, c2, c3, c4 = cards[0], cards[1], cards[2], cards[3], cards[4]\n",
    "  is_flush = get_suit(c0) == get_suit(c1) == get_suit(c2) == get_suit(c3) == get_suit(c4)\n",
    "\n",
    "  r0, r1, r2, r3, r4 = ranks\n",
    "  is_straight = r1 - r0 == r2 - r1 == r3 - r2 == 1 and r4 - r3 in (1, 9)  # 9 for ace-low 'A2345'.\n",
    "\n",
    "  # Count rank frequencies.\n",
    "  freqs[:] = 0\n",
    "  for rank in ranks:\n",
    "    freqs[rank] += 1\n",
    "  max_freq = max(freqs)\n",
    "\n",
    "  # num_pairs = np.sum(freqs == 2)\n",
    "  num_pairs = 0\n",
    "  for i in range(NUM_RANKS):\n",
    "    if freqs[i] == 2:\n",
    "      num_pairs += 1\n",
    "\n",
    "  if is_flush and is_straight:\n",
    "    if ranks[0] == 8:\n",
    "      return Outcome.ROYAL_FLUSH.value\n",
    "    return Outcome.STRAIGHT_FLUSH.value\n",
    "  if max_freq == 4:\n",
    "    return Outcome.FOUR_OF_A_KIND.value\n",
    "  if max_freq == 3 and num_pairs > 0:\n",
    "    return Outcome.FULL_HOUSE.value\n",
    "  if is_flush:\n",
    "    return Outcome.FLUSH.value\n",
    "  if is_straight:\n",
    "    return Outcome.STRAIGHT.value\n",
    "  if max_freq == 3:\n",
    "    return Outcome.THREE_OF_A_KIND.value\n",
    "  if max_freq == 2:\n",
    "    if num_pairs == 2:\n",
    "      return Outcome.TWO_PAIR.value\n",
    "    return Outcome.ONE_PAIR.value\n",
    "  return Outcome.HIGH_CARD.value"
   ]
  },
  {
   "cell_type": "code",
   "execution_count": 9,
   "id": "8676ddc6-f14c-4fe3-8316-249f247439ad",
   "metadata": {
    "execution": {
     "iopub.execute_input": "2025-01-01T23:53:53.101826Z",
     "iopub.status.busy": "2025-01-01T23:53:53.101363Z",
     "iopub.status.idle": "2025-01-01T23:53:53.112410Z",
     "shell.execute_reply": "2025-01-01T23:53:53.111826Z",
     "shell.execute_reply.started": "2025-01-01T23:53:53.101811Z"
    }
   },
   "outputs": [],
   "source": [
    "evaluate_hand_numba = numba.njit(evaluate_hand_python)"
   ]
  },
  {
   "cell_type": "markdown",
   "id": "b2c72168-c7d6-4792-9ea9-ee887733a7e1",
   "metadata": {
    "execution": {
     "iopub.execute_input": "2024-12-29T01:43:09.066669Z",
     "iopub.status.busy": "2024-12-29T01:43:09.066142Z",
     "iopub.status.idle": "2024-12-29T01:43:09.069033Z",
     "shell.execute_reply": "2024-12-29T01:43:09.068530Z",
     "shell.execute_reply.started": "2024-12-29T01:43:09.066653Z"
    },
    "lines_to_next_cell": 2
   },
   "source": [
    "### CPU simulation"
   ]
  },
  {
   "cell_type": "code",
   "execution_count": 10,
   "id": "fb433967-27a8-4ffd-a52e-961d3dc7a72b",
   "metadata": {
    "execution": {
     "iopub.execute_input": "2025-01-01T23:53:53.113600Z",
     "iopub.status.busy": "2025-01-01T23:53:53.113048Z",
     "iopub.status.idle": "2025-01-01T23:53:53.122451Z",
     "shell.execute_reply": "2025-01-01T23:53:53.121461Z",
     "shell.execute_reply.started": "2025-01-01T23:53:53.113587Z"
    }
   },
   "outputs": [],
   "source": [
    "def make_compute_cpu(evaluate_hand):\n",
    "  # Return a specialized compute_cpu function for the given evaluate_hand function.\n",
    "\n",
    "  def compute_cpu(num_decks, seed):\n",
    "    np.random.seed(seed)\n",
    "    deck = np.arange(DECK_SIZE, dtype=np.uint8)\n",
    "    ranks = np.empty(HAND_SIZE, np.uint8)\n",
    "    freqs = np.empty(NUM_RANKS, np.int8)\n",
    "    tally = np.zeros(NUM_OUTCOMES, np.int64)\n",
    "    for _ in range(num_decks):\n",
    "      np.random.shuffle(deck)\n",
    "      for hand_index in range(HANDS_PER_DECK):\n",
    "        hand = deck[hand_index * HAND_SIZE : (hand_index + 1) * HAND_SIZE]\n",
    "        outcome = evaluate_hand(hand, ranks, freqs)\n",
    "        tally[outcome] += 1\n",
    "    return tally / (num_decks * HANDS_PER_DECK)\n",
    "\n",
    "  return compute_cpu"
   ]
  },
  {
   "cell_type": "code",
   "execution_count": 11,
   "id": "b7e33708-c91f-486c-bb02-71da114e1a69",
   "metadata": {
    "execution": {
     "iopub.execute_input": "2025-01-01T23:53:53.123684Z",
     "iopub.status.busy": "2025-01-01T23:53:53.123228Z",
     "iopub.status.idle": "2025-01-01T23:53:53.133707Z",
     "shell.execute_reply": "2025-01-01T23:53:53.133122Z",
     "shell.execute_reply.started": "2025-01-01T23:53:53.123669Z"
    },
    "lines_to_next_cell": 2
   },
   "outputs": [],
   "source": [
    "simulate_hands_cpu_python = make_compute_cpu(evaluate_hand_python)\n",
    "simulate_hands_cpu_numba = numba.njit(make_compute_cpu(evaluate_hand_numba))"
   ]
  },
  {
   "cell_type": "code",
   "execution_count": 12,
   "id": "d9bf7d8b-06cf-4956-8cc5-046cb8440883",
   "metadata": {
    "execution": {
     "iopub.execute_input": "2025-01-01T23:53:53.134767Z",
     "iopub.status.busy": "2025-01-01T23:53:53.134399Z",
     "iopub.status.idle": "2025-01-01T23:53:53.142681Z",
     "shell.execute_reply": "2025-01-01T23:53:53.142155Z",
     "shell.execute_reply.started": "2025-01-01T23:53:53.134755Z"
    },
    "lines_to_next_cell": 2
   },
   "outputs": [],
   "source": [
    "# %timeit -n1 -r2 simulate_hands_cpu_python(10**4, 1)\n",
    "# %timeit -n100 -r2 simulate_hands_cpu_numba(10**4, 1)"
   ]
  },
  {
   "cell_type": "code",
   "execution_count": 13,
   "id": "38b2467c-cc46-4b3d-ab2e-0db7891bcf6f",
   "metadata": {
    "execution": {
     "iopub.execute_input": "2025-01-01T23:53:53.143678Z",
     "iopub.status.busy": "2025-01-01T23:53:53.143327Z",
     "iopub.status.idle": "2025-01-01T23:53:53.151841Z",
     "shell.execute_reply": "2025-01-01T23:53:53.151306Z",
     "shell.execute_reply.started": "2025-01-01T23:53:53.143664Z"
    }
   },
   "outputs": [],
   "source": [
    "def compute_chunk(args):\n",
    "  num_decks, seed = args\n",
    "  return simulate_hands_cpu_numba(num_decks, seed)"
   ]
  },
  {
   "cell_type": "code",
   "execution_count": 14,
   "id": "a853fae1-8516-417c-97de-b221f97c6d40",
   "metadata": {
    "execution": {
     "iopub.execute_input": "2025-01-01T23:53:53.152826Z",
     "iopub.status.busy": "2025-01-01T23:53:53.152445Z",
     "iopub.status.idle": "2025-01-01T23:53:53.160916Z",
     "shell.execute_reply": "2025-01-01T23:53:53.160446Z",
     "shell.execute_reply.started": "2025-01-01T23:53:53.152813Z"
    },
    "lines_to_next_cell": 2
   },
   "outputs": [],
   "source": [
    "def simulate_hands_cpu_numba_multiprocess(num_decks, seed):\n",
    "  num_processes = multiprocessing.cpu_count()\n",
    "  chunk_num_decks = math.ceil(num_decks / num_processes)\n",
    "  base_seed = seed * 1_000_000\n",
    "  chunks = [(chunk_num_decks, base_seed + i) for i in range(num_processes)]\n",
    "  with multiprocessing.get_context('fork').Pool(num_processes) as pool:\n",
    "    results = pool.map(compute_chunk, chunks)\n",
    "  return np.mean(results, axis=0)"
   ]
  },
  {
   "cell_type": "markdown",
   "id": "0154d69f-d8dc-4d8b-8d5e-e1632f9f4fc8",
   "metadata": {
    "lines_to_next_cell": 2
   },
   "source": [
    "### GPU simulation"
   ]
  },
  {
   "cell_type": "code",
   "execution_count": 15,
   "id": "285b43ca-aefb-4a31-b6ae-e1ede07335d3",
   "metadata": {
    "execution": {
     "iopub.execute_input": "2025-01-01T23:53:53.161589Z",
     "iopub.status.busy": "2025-01-01T23:53:53.161462Z",
     "iopub.status.idle": "2025-01-01T23:53:53.170840Z",
     "shell.execute_reply": "2025-01-01T23:53:53.170332Z",
     "shell.execute_reply.started": "2025-01-01T23:53:53.161578Z"
    }
   },
   "outputs": [],
   "source": [
    "@cuda.jit\n",
    "def compute_gpu(rng_states, num_decks_per_thread, results):\n",
    "  # pylint: disable=too-many-function-args, no-value-for-parameter, comparison-with-callable\n",
    "  USE_SHARED_TALLY = True\n",
    "  USE_UINT_RANDOM = True\n",
    "  thread_index = cuda.grid(1)\n",
    "  if thread_index >= len(rng_states):\n",
    "    return\n",
    "\n",
    "  local_tally = cuda.local.array(NUM_OUTCOMES, np.int32)\n",
    "  deck = cuda.local.array(DECK_SIZE, np.uint8)\n",
    "  ranks = cuda.local.array(HAND_SIZE, np.uint8)\n",
    "  freqs = cuda.local.array(NUM_RANKS, np.uint8)\n",
    "  if USE_SHARED_TALLY:\n",
    "    shared_tally = cuda.shared.array(NUM_OUTCOMES, np.int64)  # Per-block intermediate tally.\n",
    "\n",
    "  local_tally[:] = 0\n",
    "  for i in range(DECK_SIZE):\n",
    "    deck[i] = i\n",
    "\n",
    "  for _ in range(num_decks_per_thread):\n",
    "    # Apply Fisher-Yates shuffle to current deck.\n",
    "    for i in range(51, 0, -1):\n",
    "      # See https://github.com/numba/numba/blob/main/numba/cuda/random.py\n",
    "      if USE_UINT_RANDOM:  # Faster and has lower bias (~2.76e-18 for worst case ).\n",
    "        j = cuda.random.xoroshiro128p_next(rng_states, thread_index) % numba.uint32(i + 1)\n",
    "      else:  # Results in higher bias (~2.86e-6) due to reduced size (24 bits) of mantissa.\n",
    "        j = int(cuda.random.xoroshiro128p_uniform_float32(rng_states, thread_index) * (i + 1))\n",
    "      deck[i], deck[j] = deck[j], deck[i]\n",
    "\n",
    "    for hand_index in range(HANDS_PER_DECK):\n",
    "      hand = deck[hand_index * HAND_SIZE : (hand_index + 1) * HAND_SIZE]\n",
    "      outcome = evaluate_hand_numba(hand, ranks, freqs)\n",
    "      local_tally[outcome] += 1\n",
    "\n",
    "  if USE_SHARED_TALLY:\n",
    "    # First accumulate a per-block tally, then accumulate that tally into the global tally.\n",
    "    thread_in_block = cuda.threadIdx.x\n",
    "    if thread_in_block == 0:\n",
    "      for i in range(NUM_OUTCOMES):\n",
    "        shared_tally[i] = 0\n",
    "    cuda.syncthreads()\n",
    "\n",
    "    # Each thread adds its local results to shared memory.\n",
    "    for i in range(NUM_OUTCOMES):\n",
    "      cuda.atomic.add(shared_tally, i, local_tally[i])\n",
    "      cuda.syncthreads()\n",
    "\n",
    "    if thread_in_block == 0:\n",
    "      for i in range(NUM_OUTCOMES):\n",
    "        cuda.atomic.add(results, i, shared_tally[i])\n",
    "\n",
    "  else:\n",
    "    # Accumulate the per-thread tally into the global tally.\n",
    "    for i in range(NUM_OUTCOMES):\n",
    "      cuda.atomic.add(results, i, local_tally[i])"
   ]
  },
  {
   "cell_type": "code",
   "execution_count": 16,
   "id": "4133487b-134a-4358-8518-c5979efc9acd",
   "metadata": {
    "execution": {
     "iopub.execute_input": "2025-01-01T23:53:53.171722Z",
     "iopub.status.busy": "2025-01-01T23:53:53.171431Z",
     "iopub.status.idle": "2025-01-01T23:53:53.182041Z",
     "shell.execute_reply": "2025-01-01T23:53:53.181493Z",
     "shell.execute_reply.started": "2025-01-01T23:53:53.171708Z"
    }
   },
   "outputs": [],
   "source": [
    "def simulate_hands_gpu_cuda(num_decks, seed, threads_per_block=64):\n",
    "  device = cuda.get_current_device()\n",
    "  # Target enough threads for ~4 blocks per SM.\n",
    "  target_num_threads = 4 * device.MULTIPROCESSOR_COUNT * threads_per_block\n",
    "  num_decks_per_thread = max(1, num_decks // target_num_threads)\n",
    "  num_threads = num_decks // num_decks_per_thread\n",
    "  # print(f'{num_decks_per_thread=} {num_threads=}')\n",
    "  blocks = math.ceil(num_threads / threads_per_block)\n",
    "  d_rng_states = cuda.random.create_xoroshiro128p_states(num_threads, seed)\n",
    "  d_results = cuda.to_device(np.zeros(NUM_OUTCOMES, np.int64))\n",
    "  compute_gpu[blocks, threads_per_block](d_rng_states, num_decks_per_thread, d_results)\n",
    "  return d_results.copy_to_host() / (num_threads * num_decks_per_thread * HANDS_PER_DECK)"
   ]
  },
  {
   "cell_type": "code",
   "execution_count": 17,
   "id": "307558fb-0ee8-4c46-ac64-aed743419c4b",
   "metadata": {
    "execution": {
     "iopub.execute_input": "2025-01-01T23:53:53.183030Z",
     "iopub.status.busy": "2025-01-01T23:53:53.182689Z",
     "iopub.status.idle": "2025-01-01T23:53:53.193120Z",
     "shell.execute_reply": "2025-01-01T23:53:53.192604Z",
     "shell.execute_reply.started": "2025-01-01T23:53:53.183016Z"
    }
   },
   "outputs": [],
   "source": [
    "# simulate_poker_hands(10**7, 'gpu_cuda', simulate_hands_gpu_cuda)"
   ]
  },
  {
   "cell_type": "code",
   "execution_count": 18,
   "id": "f3d4a20b-0082-4e4c-b752-6bacb0502053",
   "metadata": {
    "execution": {
     "iopub.execute_input": "2025-01-01T23:53:53.193968Z",
     "iopub.status.busy": "2025-01-01T23:53:53.193787Z",
     "iopub.status.idle": "2025-01-01T23:53:53.202163Z",
     "shell.execute_reply": "2025-01-01T23:53:53.201651Z",
     "shell.execute_reply.started": "2025-01-01T23:53:53.193957Z"
    }
   },
   "outputs": [],
   "source": [
    "# %timeit -n1 -r10 simulate_hands_gpu_cuda(10**7, 1)"
   ]
  },
  {
   "cell_type": "markdown",
   "id": "d2bc4755-cde2-4223-80f0-5b02fc49a389",
   "metadata": {},
   "source": [
    "### Results"
   ]
  },
  {
   "cell_type": "code",
   "execution_count": 19,
   "id": "da3478c3-a9be-4876-b52b-d30866a0ac56",
   "metadata": {
    "execution": {
     "iopub.execute_input": "2025-01-01T23:53:53.203048Z",
     "iopub.status.busy": "2025-01-01T23:53:53.202753Z",
     "iopub.status.idle": "2025-01-01T23:53:53.211433Z",
     "shell.execute_reply": "2025-01-01T23:53:53.210950Z",
     "shell.execute_reply.started": "2025-01-01T23:53:53.203032Z"
    }
   },
   "outputs": [],
   "source": [
    "SIMULATE_FUNCTIONS: Any = {\n",
    "    'cpu_python': simulate_hands_cpu_python,\n",
    "    'cpu_numba': simulate_hands_cpu_numba,\n",
    "}\n",
    "if 'fork' in multiprocessing.get_all_start_methods():\n",
    "  SIMULATE_FUNCTIONS.update({'cpu_numba_multiprocess': simulate_hands_cpu_numba_multiprocess})\n",
    "if cuda.is_available():\n",
    "  SIMULATE_FUNCTIONS.update({'gpu_cuda': simulate_hands_gpu_cuda})"
   ]
  },
  {
   "cell_type": "code",
   "execution_count": 20,
   "id": "92bde0ec-7f24-4f13-b350-cc413094ab11",
   "metadata": {
    "execution": {
     "iopub.execute_input": "2025-01-01T23:53:53.212349Z",
     "iopub.status.busy": "2025-01-01T23:53:53.212015Z",
     "iopub.status.idle": "2025-01-01T23:53:53.220653Z",
     "shell.execute_reply": "2025-01-01T23:53:53.220116Z",
     "shell.execute_reply.started": "2025-01-01T23:53:53.212333Z"
    }
   },
   "outputs": [],
   "source": [
    "COMPLEXITY_ADJUSTMENT = {\n",
    "    'cpu_python': 0.01,\n",
    "    'cpu_numba': 1.0,\n",
    "    'cpu_numba_multiprocess': 5.0,\n",
    "    'gpu_cuda': 100.0,\n",
    "}"
   ]
  },
  {
   "cell_type": "code",
   "execution_count": 21,
   "id": "e7bd410e-681f-499c-b2bf-8303c7146423",
   "metadata": {
    "execution": {
     "iopub.execute_input": "2025-01-01T23:53:53.222607Z",
     "iopub.status.busy": "2025-01-01T23:53:53.222334Z",
     "iopub.status.idle": "2025-01-01T23:53:53.232457Z",
     "shell.execute_reply": "2025-01-01T23:53:53.231821Z",
     "shell.execute_reply.started": "2025-01-01T23:53:53.222594Z"
    }
   },
   "outputs": [],
   "source": [
    "def simulate_poker_hands(base_num_hands, func_name, func, seed=1):\n",
    "  base_num_decks = base_num_hands // HANDS_PER_DECK\n",
    "  num_decks = math.ceil(base_num_decks * COMPLEXITY_ADJUSTMENT[func_name])\n",
    "  num_hands = num_decks * HANDS_PER_DECK\n",
    "  print(f'\\nFor {func_name} simulating {num_hands:,} hands:')\n",
    "\n",
    "  _ = func(int(100_000 * COMPLEXITY_ADJUSTMENT[func_name]), 1)  # Ensure the function is jitted.\n",
    "  start_time = time.perf_counter_ns()\n",
    "  results = func(num_decks, seed)\n",
    "  elapsed_time = (time.perf_counter_ns() - start_time) / 10**9\n",
    "\n",
    "  round_digits = lambda x, ndigits=3: round(x, ndigits - 1 - math.floor(math.log10(abs(x))))\n",
    "  hands_per_s = round_digits(int(num_hands / elapsed_time))\n",
    "  print(f' Elapsed time is {elapsed_time:.3f} s, or {hands_per_s:,} hands/s.')\n",
    "\n",
    "  comb = math.comb\n",
    "  REFERENCE = {  # https://en.wikipedia.org/wiki/Poker_probability\n",
    "      'Royal flush': comb(4, 1),\n",
    "      'Straight flush': comb(10, 1) * comb(4, 1) - comb(4, 1),\n",
    "      'Four of a kind': comb(13, 1) * comb(4, 4) * comb(12, 1) * comb(4, 1),\n",
    "      'Full house': comb(13, 1) * comb(4, 3) * comb(12, 1) * comb(4, 2),\n",
    "      'Flush': comb(13, 5) * comb(4, 1) - comb(10, 1) * comb(4, 1),\n",
    "      'Straight': comb(10, 1) * comb(4, 1) ** 5 - comb(10, 1) * comb(4, 1),\n",
    "      'Three of a kind': comb(13, 1) * comb(4, 3) * comb(12, 2) * comb(4, 1) ** 2,\n",
    "      'Two pair': comb(13, 2) * comb(4, 2) ** 2 * comb(11, 1) * comb(4, 1),\n",
    "      'One pair': comb(13, 1) * comb(4, 2) * comb(12, 3) * comb(4, 1) ** 3,\n",
    "      'High card': (comb(13, 5) - comb(10, 1)) * (comb(4, 1) ** 5 - comb(4, 1)),\n",
    "  }\n",
    "  assert sum(REFERENCE.values()) == comb(DECK_SIZE, HAND_SIZE)\n",
    "\n",
    "  print(' Probabilities:')\n",
    "  for (outcome_name, reference_num_hands), prob in zip(REFERENCE.items(), results):\n",
    "    reference_prob = reference_num_hands / comb(DECK_SIZE, HAND_SIZE)\n",
    "    error = prob - reference_prob\n",
    "    s = f'  {outcome_name:<16}: {prob * 100:8.5f}%'\n",
    "    s += f'  (vs. reference {reference_prob * 100:8.5f}%  error:{error * 100:8.5f}%)'\n",
    "    print(s)"
   ]
  },
  {
   "cell_type": "code",
   "execution_count": 22,
   "id": "e935c8b8-a126-4a4f-ae08-bbba8d6a80b4",
   "metadata": {
    "execution": {
     "iopub.execute_input": "2025-01-01T23:53:53.233578Z",
     "iopub.status.busy": "2025-01-01T23:53:53.233130Z",
     "iopub.status.idle": "2025-01-01T23:53:53.243624Z",
     "shell.execute_reply": "2025-01-01T23:53:53.243136Z",
     "shell.execute_reply.started": "2025-01-01T23:53:53.233564Z"
    }
   },
   "outputs": [],
   "source": [
    "def compare_simulations(base_num_hands, seed=1):\n",
    "  for func_name, func in SIMULATE_FUNCTIONS.items():\n",
    "    simulate_poker_hands(base_num_hands, func_name, func, seed)"
   ]
  },
  {
   "cell_type": "code",
   "execution_count": 23,
   "id": "ca0e7a67-ca73-4e8f-b584-9368daefeb7e",
   "metadata": {
    "execution": {
     "iopub.execute_input": "2025-01-01T23:53:53.244579Z",
     "iopub.status.busy": "2025-01-01T23:53:53.244415Z",
     "iopub.status.idle": "2025-01-01T23:54:00.867862Z",
     "shell.execute_reply": "2025-01-01T23:54:00.867207Z",
     "shell.execute_reply.started": "2025-01-01T23:53:53.244565Z"
    }
   },
   "outputs": [
    {
     "name": "stdout",
     "output_type": "stream",
     "text": [
      "\n",
      "For cpu_python simulating 100,000 hands:\n",
      " Elapsed time is 0.838 s, or 119,000 hands/s.\n",
      " Probabilities:\n",
      "  Royal flush     :  0.00000%  (vs. reference  0.00015%  error:-0.00015%)\n",
      "  Straight flush  :  0.00100%  (vs. reference  0.00139%  error:-0.00039%)\n",
      "  Four of a kind  :  0.02600%  (vs. reference  0.02401%  error: 0.00199%)\n",
      "  Full house      :  0.14000%  (vs. reference  0.14406%  error:-0.00406%)\n",
      "  Flush           :  0.19500%  (vs. reference  0.19654%  error:-0.00154%)\n",
      "  Straight        :  0.41400%  (vs. reference  0.39246%  error: 0.02154%)\n",
      "  Three of a kind :  2.12200%  (vs. reference  2.11285%  error: 0.00915%)\n",
      "  Two pair        :  4.68200%  (vs. reference  4.75390%  error:-0.07190%)\n",
      "  One pair        : 42.16400%  (vs. reference 42.25690%  error:-0.09290%)\n",
      "  High card       : 50.25600%  (vs. reference 50.11774%  error: 0.13826%)\n",
      "\n",
      "For cpu_numba simulating 10,000,000 hands:\n",
      " Elapsed time is 1.325 s, or 7,550,000 hands/s.\n",
      " Probabilities:\n",
      "  Royal flush     :  0.00013%  (vs. reference  0.00015%  error:-0.00002%)\n",
      "  Straight flush  :  0.00151%  (vs. reference  0.00139%  error: 0.00012%)\n",
      "  Four of a kind  :  0.02498%  (vs. reference  0.02401%  error: 0.00097%)\n",
      "  Full house      :  0.14527%  (vs. reference  0.14406%  error: 0.00121%)\n",
      "  Flush           :  0.19290%  (vs. reference  0.19654%  error:-0.00364%)\n",
      "  Straight        :  0.39287%  (vs. reference  0.39246%  error: 0.00041%)\n",
      "  Three of a kind :  2.11452%  (vs. reference  2.11285%  error: 0.00167%)\n",
      "  Two pair        :  4.75560%  (vs. reference  4.75390%  error: 0.00170%)\n",
      "  One pair        : 42.25398%  (vs. reference 42.25690%  error:-0.00292%)\n",
      "  High card       : 50.11824%  (vs. reference 50.11774%  error: 0.00050%)\n",
      "\n",
      "For cpu_numba_multiprocess simulating 50,000,000 hands:\n",
      " Elapsed time is 0.741 s, or 67,500,000 hands/s.\n",
      " Probabilities:\n",
      "  Royal flush     :  0.00015%  (vs. reference  0.00015%  error:-0.00000%)\n",
      "  Straight flush  :  0.00134%  (vs. reference  0.00139%  error:-0.00004%)\n",
      "  Four of a kind  :  0.02393%  (vs. reference  0.02401%  error:-0.00008%)\n",
      "  Full house      :  0.14420%  (vs. reference  0.14406%  error: 0.00014%)\n",
      "  Flush           :  0.19669%  (vs. reference  0.19654%  error: 0.00015%)\n",
      "  Straight        :  0.39267%  (vs. reference  0.39246%  error: 0.00020%)\n",
      "  Three of a kind :  2.11545%  (vs. reference  2.11285%  error: 0.00260%)\n",
      "  Two pair        :  4.75442%  (vs. reference  4.75390%  error: 0.00052%)\n",
      "  One pair        : 42.25330%  (vs. reference 42.25690%  error:-0.00360%)\n",
      "  High card       : 50.11784%  (vs. reference 50.11774%  error: 0.00010%)\n",
      "\n",
      "For gpu_cuda simulating 1,000,000,000 hands:\n",
      " Elapsed time is 1.139 s, or 878,000,000 hands/s.\n",
      " Probabilities:\n",
      "  Royal flush     :  0.00015%  (vs. reference  0.00015%  error:-0.00000%)\n",
      "  Straight flush  :  0.00138%  (vs. reference  0.00139%  error:-0.00000%)\n",
      "  Four of a kind  :  0.02405%  (vs. reference  0.02401%  error: 0.00004%)\n",
      "  Full house      :  0.14400%  (vs. reference  0.14406%  error:-0.00006%)\n",
      "  Flush           :  0.19658%  (vs. reference  0.19654%  error: 0.00004%)\n",
      "  Straight        :  0.39222%  (vs. reference  0.39246%  error:-0.00024%)\n",
      "  Three of a kind :  2.11280%  (vs. reference  2.11285%  error:-0.00004%)\n",
      "  Two pair        :  4.75393%  (vs. reference  4.75390%  error: 0.00003%)\n",
      "  One pair        : 42.25936%  (vs. reference 42.25690%  error: 0.00246%)\n",
      "  High card       : 50.11552%  (vs. reference 50.11774%  error:-0.00222%)\n"
     ]
    }
   ],
   "source": [
    "compare_simulations(base_num_hands=10**7)"
   ]
  },
  {
   "cell_type": "markdown",
   "id": "53b10704-3a4b-4b0e-b0ac-711b2afed9bd",
   "metadata": {},
   "source": [
    "### End"
   ]
  }
 ],
 "metadata": {
  "colab": {
   "collapsed_sections": [],
   "provenance": [],
   "toc_visible": true
  },
  "jupytext": {
   "cell_metadata_filter": "-all",
   "formats": "ipynb,py:percent",
   "main_language": "python",
   "notebook_metadata_filter": "-all"
  },
  "kernelspec": {
   "display_name": "Python 3 (ipykernel)",
   "language": "python",
   "name": "python3"
  },
  "language_info": {
   "codemirror_mode": {
    "name": "ipython",
    "version": 3
   },
   "file_extension": ".py",
   "mimetype": "text/x-python",
   "name": "python",
   "nbconvert_exporter": "python",
   "pygments_lexer": "ipython3",
   "version": "3.10.12"
  }
 },
 "nbformat": 4,
 "nbformat_minor": 5
}
