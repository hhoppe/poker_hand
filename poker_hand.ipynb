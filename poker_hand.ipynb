{
 "cells": [
  {
   "cell_type": "markdown",
   "id": "f819c4f7",
   "metadata": {},
   "source": [
    "# Poker hand simulation\n",
    "\n",
    "This notebook is a simple testbed to experiment with Python acceleration using `numba` (CPU-jitted code) and `numba.cuda` (GPU CUDA-jitted code).\n",
    "\n",
    "We estimate poker hand probabilities using Monte Carlo simulation and compare results with known reference values.\n",
    "\n",
    "We compare execution speeds using Python, `numba`, `numba` with multiprocessing, and `numba.cuda`.\n",
    "\n",
    "Websites on which to run this notebook include:\n",
    "\n",
    "- [Open in Google Colab](https://colab.research.google.com/github/hhoppe/poker_hand/blob/main/poker_hand.ipynb), click on Runtime -> Change runtime type -> T4 GPU, and then Runtime -> Run all.\n",
    "\n",
    "- [Open in kaggle.com](https://www.kaggle.com/notebooks/welcome?src=https://github.com/hhoppe/poker_hand/blob/main/poker_hand.ipynb), login, Session options -> Accelerator -> GPU T4 x2 or P100, Session options -> Internet -> On, then Run All.\n",
    "\n",
    "- [Open in mybinder.org](https://mybinder.org/v2/gh/hhoppe/poker_hand/main?urlpath=lab/tree/poker_hand.ipynb).  Unfortunately, no GPU is available.\n",
    "\n",
    "- [Open in deepnote.com](https://deepnote.com/launch?url=https%3A%2F%2Fgithub.com%2Fhhoppe%2Fpoker_hand%2Fblob%2Fmain%2Fpoker_hand.ipynb).  Unfortunately, no GPU is available.\n",
    "\n",
    "Here are results:"
   ]
  },
  {
   "cell_type": "markdown",
   "id": "06984ed7-e46a-4585-8710-c37e460c3a2b",
   "metadata": {
    "execution": {
     "iopub.execute_input": "2025-01-06T01:53:19.033961Z",
     "iopub.status.busy": "2025-01-06T01:53:19.033961Z",
     "iopub.status.idle": "2025-01-06T01:53:19.041537Z",
     "shell.execute_reply": "2025-01-06T01:53:19.041537Z",
     "shell.execute_reply.started": "2025-01-06T01:53:19.033961Z"
    }
   },
   "source": [
    "<table style=\"margin-left: 0\">\n",
    "<tr>\n",
    "  <th colspan=\"4\"></th>\n",
    "  <th colspan=\"8\" style=\"text-align: center; background-color: #F4F4F4\">Simulation rates (hands/s)</th>\n",
    "</tr>\n",
    "<tr>\n",
    "  <th colspan=\"4\">Compute capabilities</th>\n",
    "  <th colspan=\"4\" style=\"text-align: center; background-color: #EBF5FF\">Array-based</th>\n",
    "  <th colspan=\"3\" style=\"text-align: center; background-color: #F0FDF4\">Bitcount-based</th>\n",
    "  <th colspan=\"1\" style=\"text-align: center; background-color: #FFF8F4\">Deckmask-based</th>\n",
    "</tr>\n",
    "<tr>\n",
    "  <th>Platform</th>\n",
    "  <th style=\"text-align: center\">CPU<br>threads</th>\n",
    "  <th style=\"text-align: center\">GPU<br>type</th>\n",
    "  <th style=\"text-align: center\">CUDA<br>SMs</th>\n",
    "  <th style=\"background-color: #EBF5FF\">Python</th>\n",
    "  <th style=\"background-color: #EBF5FF\">Numba</th>\n",
    "  <th style=\"background-color: #EBF5FF\">Multi-<br/>process</th>\n",
    "  <th style=\"background-color: #EBF5FF\">CUDA</th>\n",
    "  <th style=\"background-color: #F0FDF4\">Numba</th>\n",
    "  <th style=\"background-color: #F0FDF4\">Multi-<br/>process</th>\n",
    "  <th style=\"background-color: #F0FDF4\">CUDA</th>\n",
    "  <th style=\"background-color: #FFF8F4\">CUDA</th>\n",
    "</tr>\n",
    "<tr>\n",
    "  <td><b>My PC</b> Win10</td>\n",
    "  <td style=\"text-align: center\">24</td>\n",
    "  <td style=\"text-align: center\">GeForce 3080 Ti</td>\n",
    "  <td style=\"text-align: center\">80</td>\n",
    "  <td style=\"text-align: right; background-color: #EBF5FF\">20 k</td>\n",
    "  <td style=\"text-align: right; background-color: #EBF5FF\">39 M</td>\n",
    "  <td style=\"text-align: right; background-color: #EBF5FF\">-</td>\n",
    "  <td style=\"text-align: right; background-color: #EBF5FF\">16 G</td>\n",
    "  <td style=\"text-align: right; background-color: #F0FDF4\">123 M</td>\n",
    "  <td style=\"text-align: right; background-color: #F0FDF4\">-</td>\n",
    "  <td style=\"text-align: right; background-color: #F0FDF4\">70 G</td>\n",
    "  <td style=\"text-align: right; background-color: #FFF8F4\">147 G</td>\n",
    "</tr>\n",
    "<tr>\n",
    "  <td><b>My PC</b> WSL2</td>\n",
    "  <td style=\"text-align: center\">24</td>\n",
    "  <td style=\"text-align: center\">GeForce 3080 Ti</td>\n",
    "  <td style=\"text-align: center\">80</td>\n",
    "  <td style=\"text-align: right; background-color: #EBF5FF\">135 k</td>\n",
    "  <td style=\"text-align: right; background-color: #EBF5FF\">33 M</td>\n",
    "  <td style=\"text-align: right; background-color: #EBF5FF\">350 M</td>\n",
    "  <td style=\"text-align: right; background-color: #EBF5FF\">17 G</td>\n",
    "  <td style=\"text-align: right; background-color: #F0FDF4\">138 M</td>\n",
    "  <td style=\"text-align: right; background-color: #F0FDF4\">912 M</td>\n",
    "  <td style=\"text-align: right; background-color: #F0FDF4\">70 G</td>\n",
    "  <td style=\"text-align: right; background-color: #FFF8F4\">148 G</td>\n",
    "</tr>\n",
    "<tr>\n",
    "  <td><a href=\"https://colab.research.google.com/github/hhoppe/poker_hand/blob/main/poker_hand.ipynb\"><b>Colab</b> T4</a></td>\n",
    "  <td style=\"text-align: center\">2</td>\n",
    "  <td style=\"text-align: center\">Tesla T4</td>\n",
    "  <td style=\"text-align: center\">40</td>\n",
    "  <td style=\"text-align: right; background-color: #EBF5FF\">14 k</td>\n",
    "  <td style=\"text-align: right; background-color: #EBF5FF\">18 M</td>\n",
    "  <td style=\"text-align: right; background-color: #EBF5FF\">29 M</td>\n",
    "  <td style=\"text-align: right; background-color: #EBF5FF\">4 G</td>\n",
    "  <td style=\"text-align: right; background-color: #F0FDF4\">58 M</td>\n",
    "  <td style=\"text-align: right; background-color: #F0FDF4\">45 M</td>\n",
    "  <td style=\"text-align: right; background-color: #F0FDF4\">21 G</td>\n",
    "  <td style=\"text-align: right; background-color: #FFF8F4\">43 G</td>\n",
    "</tr>\n",
    "<tr>\n",
    "  <td><a href=\"https://www.kaggle.com/notebooks/welcome?src=https://github.com/hhoppe/poker_hand/blob/main/poker_hand.ipynb\"><b>Kaggle</b> T4</a></td>\n",
    "  <td style=\"text-align: center\">4</td>\n",
    "  <td style=\"text-align: center\">Tesla T4 x2</td>\n",
    "  <td style=\"text-align: center\">40</td>\n",
    "  <td style=\"text-align: right; background-color: #EBF5FF\">15 k</td>\n",
    "  <td style=\"text-align: right; background-color: #EBF5FF\">24 M</td>\n",
    "  <td style=\"text-align: right; background-color: #EBF5FF\">60 M</td>\n",
    "  <td style=\"text-align: right; background-color: #EBF5FF\">4 G</td>\n",
    "  <td style=\"text-align: right; background-color: #F0FDF4\">62 M</td>\n",
    "  <td style=\"text-align: right; background-color: #F0FDF4\">118 M</td>\n",
    "  <td style=\"text-align: right; background-color: #F0FDF4\">22 G</td>\n",
    "  <td style=\"text-align: right; background-color: #FFF8F4\">46 G</td>\n",
    "</tr>\n",
    "<tr>\n",
    "  <td><a href=\"https://www.kaggle.com/notebooks/welcome?src=https://github.com/hhoppe/poker_hand/blob/main/poker_hand.ipynb\"><b>Kaggle</b> P100</a></td>\n",
    "  <td style=\"text-align: center\">4</td>\n",
    "  <td style=\"text-align: center\">Tesla P100</td>\n",
    "  <td style=\"text-align: center\">56</td>\n",
    "  <td style=\"text-align: right; background-color: #EBF5FF\">15 k</td>\n",
    "  <td style=\"text-align: right; background-color: #EBF5FF\">24 M</td>\n",
    "  <td style=\"text-align: right; background-color: #EBF5FF\">58 M</td>\n",
    "  <td style=\"text-align: right; background-color: #EBF5FF\">4 G</td>\n",
    "  <td style=\"text-align: right; background-color: #F0FDF4\">61 M</td>\n",
    "  <td style=\"text-align: right; background-color: #F0FDF4\">124 M</td>\n",
    "  <td style=\"text-align: right; background-color: #F0FDF4\">22 G</td>\n",
    "  <td style=\"text-align: right; background-color: #FFF8F4\">54 G</td>\n",
    "</tr>\n",
    "<tr>\n",
    "  <td><a href=\"https://mybinder.org/v2/gh/hhoppe/poker_hand/main?urlpath=lab/tree/poker_hand.ipynb\"><b>Mybinder</b></a></td>\n",
    "  <td style=\"text-align: center\">72</td>\n",
    "  <td style=\"text-align: center\">None</td>\n",
    "  <td style=\"text-align: center\">-</td>\n",
    "  <td style=\"text-align: right; background-color: #EBF5FF\">17 k</td>\n",
    "  <td style=\"text-align: right; background-color: #EBF5FF\">16 M</td>\n",
    "  <td style=\"text-align: right; background-color: #EBF5FF\">6 M</td>\n",
    "  <td style=\"text-align: right; background-color: #EBF5FF\">-</td>\n",
    "  <td style=\"text-align: right; background-color: #F0FDF4\">24 M</td>\n",
    "  <td style=\"text-align: right; background-color: #F0FDF4\">9 M</td>\n",
    "  <td style=\"text-align: right; background-color: #F0FDF4\">-</td>\n",
    "  <td style=\"text-align: right; background-color: #FFF8F4\">-</td>\n",
    "</tr>\n",
    "<tr>\n",
    "  <td><a href=\"https://deepnote.com/launch?url=https%3A%2F%2Fgithub.com%2Fhhoppe%2Fpoker_hand%2Fblob%2Fmain%2Fpoker_hand.ipynb\"><b>Deepnote</b></a></td>\n",
    "  <td style=\"text-align: center\">8</td>\n",
    "  <td style=\"text-align: center\">None</td>\n",
    "  <td style=\"text-align: center\">-</td>\n",
    "  <td style=\"text-align: right; background-color: #EBF5FF\">18 k</td>\n",
    "  <td style=\"text-align: right; background-color: #EBF5FF\">37 M</td>\n",
    "  <td style=\"text-align: right; background-color: #EBF5FF\">20 M</td>\n",
    "  <td style=\"text-align: right; background-color: #EBF5FF\">-</td>\n",
    "  <td style=\"text-align: right; background-color: #F0FDF4\">86 M</td>\n",
    "  <td style=\"text-align: right; background-color: #F0FDF4\">48 M</td>\n",
    "  <td style=\"text-align: right; background-color: #F0FDF4\">-</td>\n",
    "  <td style=\"text-align: right; background-color: #FFF8F4\">-</td>\n",
    "</tr>\n",
    "</table>"
   ]
  },
  {
   "cell_type": "markdown",
   "id": "926b7255-e5af-473f-809b-000987e06690",
   "metadata": {},
   "source": [
    "## Imports"
   ]
  },
  {
   "cell_type": "code",
   "execution_count": 1,
   "id": "96f8b5b5-8cda-4b5f-8b07-145cf83d0dfd",
   "metadata": {
    "execution": {
     "iopub.execute_input": "2025-01-17T02:19:59.877178Z",
     "iopub.status.busy": "2025-01-17T02:19:59.876913Z",
     "iopub.status.idle": "2025-01-17T02:20:01.306840Z",
     "shell.execute_reply": "2025-01-17T02:20:01.306126Z",
     "shell.execute_reply.started": "2025-01-17T02:19:59.877162Z"
    }
   },
   "outputs": [],
   "source": [
    "!pip install -q \"numpy>=1.25\" numba"
   ]
  },
  {
   "cell_type": "code",
   "execution_count": 2,
   "id": "23fdecec-8b75-4c95-94f1-46c68b6202e6",
   "metadata": {
    "execution": {
     "iopub.execute_input": "2025-01-17T02:20:01.307747Z",
     "iopub.status.busy": "2025-01-17T02:20:01.307589Z",
     "iopub.status.idle": "2025-01-17T02:20:01.420727Z",
     "shell.execute_reply": "2025-01-17T02:20:01.419934Z",
     "shell.execute_reply.started": "2025-01-17T02:20:01.307733Z"
    }
   },
   "outputs": [],
   "source": [
    "!if [ ! -f random32.py ]; then wget https://github.com/hhoppe/poker_hand/raw/main/random32.py; fi"
   ]
  },
  {
   "cell_type": "code",
   "execution_count": 3,
   "id": "b7672379",
   "metadata": {
    "execution": {
     "iopub.execute_input": "2025-01-17T02:20:01.421797Z",
     "iopub.status.busy": "2025-01-17T02:20:01.421611Z",
     "iopub.status.idle": "2025-01-17T02:20:01.742970Z",
     "shell.execute_reply": "2025-01-17T02:20:01.742274Z",
     "shell.execute_reply.started": "2025-01-17T02:20:01.421780Z"
    },
    "tags": []
   },
   "outputs": [],
   "source": [
    "import enum\n",
    "import math\n",
    "from math import comb\n",
    "import multiprocessing\n",
    "import pathlib\n",
    "import time\n",
    "import typing\n",
    "from typing import Any, Callable\n",
    "\n",
    "import numba\n",
    "from numba import cuda\n",
    "import numba.cuda.random\n",
    "import numpy as np\n",
    "import numpy.typing\n",
    "import random32  # Replacement for https://github.com/numba/numba/blob/main/numba/cuda/random.py"
   ]
  },
  {
   "cell_type": "code",
   "execution_count": 4,
   "id": "9fc26416-6d68-4b99-8d74-5d536a8b8932",
   "metadata": {
    "execution": {
     "iopub.execute_input": "2025-01-17T02:20:01.744125Z",
     "iopub.status.busy": "2025-01-17T02:20:01.743907Z",
     "iopub.status.idle": "2025-01-17T02:20:01.747038Z",
     "shell.execute_reply": "2025-01-17T02:20:01.746360Z",
     "shell.execute_reply.started": "2025-01-17T02:20:01.744110Z"
    }
   },
   "outputs": [],
   "source": [
    "# mypy: disable-error-code=\"no-any-return\""
   ]
  },
  {
   "cell_type": "code",
   "execution_count": 5,
   "id": "c602fa82",
   "metadata": {
    "execution": {
     "iopub.execute_input": "2025-01-17T02:20:01.748021Z",
     "iopub.status.busy": "2025-01-17T02:20:01.747709Z",
     "iopub.status.idle": "2025-01-17T02:20:01.756542Z",
     "shell.execute_reply": "2025-01-17T02:20:01.755960Z",
     "shell.execute_reply.started": "2025-01-17T02:20:01.748008Z"
    }
   },
   "outputs": [],
   "source": [
    "_NDArray = numpy.typing.NDArray[Any]\n",
    "_CudaArray = Any  # cuda.cudadrv.devicearray.DeviceNDArray\n",
    "_F = typing.TypeVar('_F', bound=Callable[..., Any])"
   ]
  },
  {
   "cell_type": "markdown",
   "id": "5071ce25-73c7-4a64-8414-767907ad6063",
   "metadata": {},
   "source": [
    "## Compute capabilities"
   ]
  },
  {
   "cell_type": "code",
   "execution_count": 6,
   "id": "40f2522d-afa5-4bf8-9f0a-5623defb8c46",
   "metadata": {
    "execution": {
     "iopub.execute_input": "2025-01-17T02:20:01.758478Z",
     "iopub.status.busy": "2025-01-17T02:20:01.758181Z",
     "iopub.status.idle": "2025-01-17T02:20:01.766222Z",
     "shell.execute_reply": "2025-01-17T02:20:01.765517Z",
     "shell.execute_reply.started": "2025-01-17T02:20:01.758465Z"
    }
   },
   "outputs": [
    {
     "name": "stdout",
     "output_type": "stream",
     "text": [
      "The number of CPU threads is 24.\n"
     ]
    }
   ],
   "source": [
    "print(f'The number of CPU threads is {multiprocessing.cpu_count()}.')"
   ]
  },
  {
   "cell_type": "code",
   "execution_count": 7,
   "id": "4fc255c9-8b8e-463e-a685-6a2785c0e63e",
   "metadata": {
    "execution": {
     "iopub.execute_input": "2025-01-17T02:20:01.767190Z",
     "iopub.status.busy": "2025-01-17T02:20:01.767002Z",
     "iopub.status.idle": "2025-01-17T02:20:01.775876Z",
     "shell.execute_reply": "2025-01-17T02:20:01.775254Z",
     "shell.execute_reply.started": "2025-01-17T02:20:01.767174Z"
    }
   },
   "outputs": [
    {
     "name": "stdout",
     "output_type": "stream",
     "text": [
      "Support for multiprocess \"fork\": True\n"
     ]
    }
   ],
   "source": [
    "MULTIPROCESS_IS_AVAILABLE = 'fork' in multiprocessing.get_all_start_methods()\n",
    "print(f'Support for multiprocess \"fork\": {MULTIPROCESS_IS_AVAILABLE}')"
   ]
  },
  {
   "cell_type": "code",
   "execution_count": 8,
   "id": "23e84adb-9b5e-4ba9-97bd-bdb7c0f92cae",
   "metadata": {
    "execution": {
     "iopub.execute_input": "2025-01-17T02:20:01.776965Z",
     "iopub.status.busy": "2025-01-17T02:20:01.776636Z",
     "iopub.status.idle": "2025-01-17T02:20:01.928942Z",
     "shell.execute_reply": "2025-01-17T02:20:01.928123Z",
     "shell.execute_reply.started": "2025-01-17T02:20:01.776948Z"
    },
    "lines_to_next_cell": 2
   },
   "outputs": [
    {
     "name": "stdout",
     "output_type": "stream",
     "text": [
      "Found 1 CUDA devices\n",
      "id 0    b'NVIDIA GeForce RTX 3080 Ti'                              [SUPPORTED]\n",
      "                      Compute Capability: 8.6\n",
      "                           PCI Device ID: 0\n",
      "                              PCI Bus ID: 10\n",
      "                                    UUID: GPU-e50896f3-f795-945c-9c59-fffc57278834\n",
      "                                Watchdog: Enabled\n",
      "             FP32/FP64 Performance Ratio: 32\n",
      "Summary:\n",
      "\t1/1 devices are supported\n",
      "The number of GPU SMs is 80\n"
     ]
    }
   ],
   "source": [
    "if cuda.is_available() and cuda.detect():\n",
    "  print(f'The number of GPU SMs is {cuda.get_current_device().MULTIPROCESSOR_COUNT}')"
   ]
  },
  {
   "cell_type": "markdown",
   "id": "e5af2c7f-c334-49ad-9afb-fb73cf6d7db4",
   "metadata": {
    "execution": {
     "iopub.execute_input": "2024-12-29T01:42:55.940070Z",
     "iopub.status.busy": "2024-12-29T01:42:55.939661Z",
     "iopub.status.idle": "2024-12-29T01:42:55.942841Z",
     "shell.execute_reply": "2024-12-29T01:42:55.942254Z",
     "shell.execute_reply.started": "2024-12-29T01:42:55.940047Z"
    },
    "lines_to_next_cell": 2
   },
   "source": [
    "## Shared code"
   ]
  },
  {
   "cell_type": "code",
   "execution_count": 9,
   "id": "cc2447c0-0ded-4360-bf8e-7e35be276331",
   "metadata": {
    "execution": {
     "iopub.execute_input": "2025-01-17T02:20:01.930179Z",
     "iopub.status.busy": "2025-01-17T02:20:01.929996Z",
     "iopub.status.idle": "2025-01-17T02:20:01.933956Z",
     "shell.execute_reply": "2025-01-17T02:20:01.933320Z",
     "shell.execute_reply.started": "2025-01-17T02:20:01.930164Z"
    }
   },
   "outputs": [],
   "source": [
    "DECK_SIZE = 52\n",
    "NUM_SUITS = 4\n",
    "NUM_RANKS = 13\n",
    "HAND_SIZE = 5\n",
    "HANDS_PER_DECK = DECK_SIZE - HAND_SIZE + 1  # We consider all overlapping hands in a shuffled deck.\n",
    "CARDS_FOR_A_FLUSH = 5\n",
    "CARDS_FOR_A_STRAIGHT = 5\n",
    "RNG = np.random.default_rng(1)"
   ]
  },
  {
   "cell_type": "code",
   "execution_count": 10,
   "id": "d6635058-f273-41d9-93a4-2b0c89cb65cc",
   "metadata": {
    "execution": {
     "iopub.execute_input": "2025-01-17T02:20:01.934974Z",
     "iopub.status.busy": "2025-01-17T02:20:01.934670Z",
     "iopub.status.idle": "2025-01-17T02:20:01.944197Z",
     "shell.execute_reply": "2025-01-17T02:20:01.943487Z",
     "shell.execute_reply.started": "2025-01-17T02:20:01.934960Z"
    }
   },
   "outputs": [],
   "source": [
    "class Outcome(enum.IntEnum):\n",
    "  \"\"\"Poker hand rankings from best to worst.\"\"\"\n",
    "\n",
    "  string_name: str\n",
    "  reference_count: int  # https://en.wikipedia.org/wiki/Poker_probability\n",
    "\n",
    "  ROYAL_FLUSH = 0, 'Royal flush', comb(4, 1)\n",
    "  STRAIGHT_FLUSH = 1, 'Straight flush', comb(10, 1) * comb(4, 1) - comb(4, 1)\n",
    "  FOUR_OF_A_KIND = 2, 'Four of a kind', comb(13, 1) * comb(4, 4) * comb(12, 1) * comb(4, 1)\n",
    "  FULL_HOUSE = 3, 'Full house', comb(13, 1) * comb(4, 3) * comb(12, 1) * comb(4, 2)\n",
    "  FLUSH = 4, 'Flush', comb(13, 5) * comb(4, 1) - comb(10, 1) * comb(4, 1)\n",
    "  STRAIGHT = 5, 'Straight', comb(10, 1) * comb(4, 1) ** 5 - comb(10, 1) * comb(4, 1)\n",
    "  THREE_OF_A_KIND = 6, 'Three of a kind', comb(13, 1) * comb(4, 3) * comb(12, 2) * comb(4, 1) ** 2\n",
    "  TWO_PAIR = 7, 'Two pair', comb(13, 2) * comb(4, 2) ** 2 * comb(11, 1) * comb(4, 1)\n",
    "  ONE_PAIR = 8, 'One pair', comb(13, 1) * comb(4, 2) * comb(12, 3) * comb(4, 1) ** 3\n",
    "  HIGH_CARD = 9, 'High card', (comb(13, 5) - comb(10, 1)) * (comb(4, 1) ** 5 - comb(4, 1))\n",
    "\n",
    "  def __new__(cls, value: int, string_name: str, reference_count: int) -> Any:\n",
    "    obj = int.__new__(cls, value)\n",
    "    obj._value_ = value\n",
    "    obj.string_name = string_name\n",
    "    obj.reference_count = reference_count\n",
    "    return obj"
   ]
  },
  {
   "cell_type": "code",
   "execution_count": 11,
   "id": "16cb8893-08da-4397-93c1-edb44fe8b06b",
   "metadata": {
    "execution": {
     "iopub.execute_input": "2025-01-17T02:20:01.945434Z",
     "iopub.status.busy": "2025-01-17T02:20:01.945071Z",
     "iopub.status.idle": "2025-01-17T02:20:01.956089Z",
     "shell.execute_reply": "2025-01-17T02:20:01.955422Z",
     "shell.execute_reply.started": "2025-01-17T02:20:01.945415Z"
    }
   },
   "outputs": [],
   "source": [
    "NUM_OUTCOMES = len(Outcome)\n",
    "Probabilities = _NDArray  # Or np.ndarray[tuple[Literal[10]], np.dtype[np.float64]]\n",
    "EXPECTED_PROB = np.array([o.reference_count for o in Outcome]) / comb(DECK_SIZE, HAND_SIZE)\n",
    "assert np.allclose(np.sum(EXPECTED_PROB), 1.0)"
   ]
  },
  {
   "cell_type": "code",
   "execution_count": 12,
   "id": "5da02913-9231-40f5-bc60-a2aaddff1b28",
   "metadata": {
    "execution": {
     "iopub.execute_input": "2025-01-17T02:20:01.957120Z",
     "iopub.status.busy": "2025-01-17T02:20:01.956817Z",
     "iopub.status.idle": "2025-01-17T02:20:01.965258Z",
     "shell.execute_reply": "2025-01-17T02:20:01.964651Z",
     "shell.execute_reply.started": "2025-01-17T02:20:01.957107Z"
    }
   },
   "outputs": [],
   "source": [
    "def numba_njit(*args: Any, **kwargs: Any) -> Callable[[_F], _F]:\n",
    "  \"\"\"Typed replacement for non-bare `@numba.njit()` decorator.\"\"\"\n",
    "  assert kwargs or not (len(args) == 1 and callable(args[0]))\n",
    "\n",
    "  def decorator(func: _F) -> _F:\n",
    "    jitted_func: _F = numba.njit(*args, **kwargs)(func)\n",
    "    return jitted_func\n",
    "\n",
    "  return decorator"
   ]
  },
  {
   "cell_type": "code",
   "execution_count": 13,
   "id": "14525098-bd95-4688-9cf4-b56e7526f8ad",
   "metadata": {
    "execution": {
     "iopub.execute_input": "2025-01-17T02:20:01.966189Z",
     "iopub.status.busy": "2025-01-17T02:20:01.965967Z",
     "iopub.status.idle": "2025-01-17T02:20:01.975300Z",
     "shell.execute_reply": "2025-01-17T02:20:01.974615Z",
     "shell.execute_reply.started": "2025-01-17T02:20:01.966174Z"
    }
   },
   "outputs": [],
   "source": [
    "def popc_helper(typing_context: Any, src: Any) -> Any:\n",
    "  \"\"\"Helper function to enable the intrinsic CPU instruction `popc()`.\"\"\"\n",
    "  del typing_context\n",
    "  if not isinstance(src, numba.types.Integer):\n",
    "    return None\n",
    "  DICT = {numba.uint64: 'i64', numba.uint32: 'i32', numba.uint16: 'i16', numba.uint8: 'i8'}\n",
    "  DICT |= {numba.int64: 'i64', numba.int32: 'i32', numba.int16: 'i16', numba.int8: 'i8'}\n",
    "  llvm_type = DICT[src]\n",
    "\n",
    "  def codegen(context: Any, builder: Any, signature: Any, args: Any) -> Any:\n",
    "    del context, signature\n",
    "    return numba.cpython.mathimpl.call_fp_intrinsic(builder, 'llvm.ctpop.' + llvm_type, args)\n",
    "\n",
    "  return src(src), codegen\n",
    "\n",
    "\n",
    "popc_intrinsic: Callable[[int], int] = numba.extending.intrinsic(popc_helper)\n",
    "\n",
    "\n",
    "@numba_njit(inline='always')\n",
    "def cpu_popc(x: int) -> int:  # https://stackoverflow.com/a/77103233\n",
    "  \"\"\"Return the (\"population\") count of set bits in an integer, using a CPU intrinsic.\"\"\"\n",
    "  return popc_intrinsic(x)"
   ]
  },
  {
   "cell_type": "code",
   "execution_count": 14,
   "id": "5cb8f685",
   "metadata": {
    "execution": {
     "iopub.execute_input": "2025-01-17T02:20:01.976474Z",
     "iopub.status.busy": "2025-01-17T02:20:01.976144Z",
     "iopub.status.idle": "2025-01-17T02:20:01.986679Z",
     "shell.execute_reply": "2025-01-17T02:20:01.986034Z",
     "shell.execute_reply.started": "2025-01-17T02:20:01.976458Z"
    }
   },
   "outputs": [],
   "source": [
    "@numba_njit(inline='always')\n",
    "def gpu_popc(x: int) -> int:\n",
    "  \"\"\"Return the (\"population\") count of set bits in an integer, using a CUDA intrinsic.\"\"\"\n",
    "  return cuda.popc(x)  # pylint: disable=too-many-function-args"
   ]
  },
  {
   "cell_type": "code",
   "execution_count": 15,
   "id": "70cee4f8-7a70-40ed-b497-64215c07468a",
   "metadata": {
    "execution": {
     "iopub.execute_input": "2025-01-17T02:20:01.987583Z",
     "iopub.status.busy": "2025-01-17T02:20:01.987407Z",
     "iopub.status.idle": "2025-01-17T02:20:01.995805Z",
     "shell.execute_reply": "2025-01-17T02:20:01.995142Z",
     "shell.execute_reply.started": "2025-01-17T02:20:01.987568Z"
    }
   },
   "outputs": [],
   "source": [
    "def write_numba_assembly_code(function: Callable[..., Any], filename: str) -> None:\n",
    "  \"\"\"Write the asm or ptx code for a numba function to an output file.\"\"\"\n",
    "  (asm_or_ptx,) = function.inspect_asm().values()  # type: ignore[attr-defined]\n",
    "  pathlib.Path(filename).write_text(asm_or_ptx, encoding='utf-8')"
   ]
  },
  {
   "cell_type": "code",
   "execution_count": 16,
   "id": "e6e87979-f6ba-42ec-bb1a-24a1b23dff80",
   "metadata": {
    "execution": {
     "iopub.execute_input": "2025-01-17T02:20:01.996950Z",
     "iopub.status.busy": "2025-01-17T02:20:01.996654Z",
     "iopub.status.idle": "2025-01-17T02:20:02.005079Z",
     "shell.execute_reply": "2025-01-17T02:20:02.004446Z",
     "shell.execute_reply.started": "2025-01-17T02:20:01.996937Z"
    },
    "lines_to_next_cell": 2
   },
   "outputs": [],
   "source": [
    "def report_cuda_kernel_properties(function: Callable[..., Any]) -> None:\n",
    "  \"\"\"Show memory attributes of a CUDA kernel function.\"\"\"\n",
    "  PROPERTIES = 'const_mem_size local_mem_per_thread max_threads_per_block regs_per_thread shared_mem_per_block'.split()\n",
    "  for property_name in PROPERTIES:\n",
    "    (value,) = getattr(function, 'get_' + property_name)().values()\n",
    "    print(f'{property_name} = {value}')"
   ]
  },
  {
   "cell_type": "markdown",
   "id": "c53fd3b4-129f-4acd-9c1f-3dc1cf809b16",
   "metadata": {},
   "source": [
    "## Approach 1: card arrays"
   ]
  },
  {
   "cell_type": "markdown",
   "id": "0f57c990-ed5f-4ce8-9fcb-0894da7d3d7f",
   "metadata": {},
   "source": [
    "We represent a card as a 6-bit integer in `range(52)`, with the suit `range(4)` in the 2 lsb and the rank `range(13)` in the top 4 msb.\n",
    "\n",
    "A hand is a tuple of five such integers."
   ]
  },
  {
   "cell_type": "markdown",
   "id": "c193e996-9ea5-40fd-806a-b4642241507b",
   "metadata": {
    "execution": {
     "iopub.execute_input": "2024-12-29T01:42:55.940070Z",
     "iopub.status.busy": "2024-12-29T01:42:55.939661Z",
     "iopub.status.idle": "2024-12-29T01:42:55.942841Z",
     "shell.execute_reply": "2024-12-29T01:42:55.942254Z",
     "shell.execute_reply.started": "2024-12-29T01:42:55.940047Z"
    },
    "lines_to_next_cell": 2
   },
   "source": [
    "### Hand evaluation"
   ]
  },
  {
   "cell_type": "code",
   "execution_count": 17,
   "id": "f74eebae-594a-4324-94af-edbcb7b69e33",
   "metadata": {
    "execution": {
     "iopub.execute_input": "2025-01-17T02:20:02.006125Z",
     "iopub.status.busy": "2025-01-17T02:20:02.005944Z",
     "iopub.status.idle": "2025-01-17T02:20:02.014845Z",
     "shell.execute_reply": "2025-01-17T02:20:02.014195Z",
     "shell.execute_reply.started": "2025-01-17T02:20:02.006110Z"
    }
   },
   "outputs": [],
   "source": [
    "def outcome_of_hand_array_python(cards: Any, ranks: Any, freqs: Any) -> Outcome:\n",
    "  \"\"\"Evaluate a 5-card poker hand and return its outcome ranking, using array data structures.\n",
    "\n",
    "  Args:\n",
    "    cards: Array of 5 integers representing cards (0-51).\n",
    "    ranks: Pre-allocated array for storing sorted ranks.\n",
    "    freqs: Pre-allocated array for counting rank frequencies.\n",
    "\n",
    "  Returns:\n",
    "    An enum representing the hand ranking.\n",
    "  \"\"\"\n",
    "  # pylint: disable=consider-using-in\n",
    "\n",
    "  def get_rank(card: int) -> int:\n",
    "    return card >> 2  # In range(NUM_RANKS), ordered '23456789TJQKA'.\n",
    "\n",
    "  def get_suit(card: int) -> int:\n",
    "    return card & 0b11  # In range(4).\n",
    "\n",
    "  # Sort cards by rank for easier pattern matching, using simple insertion sort.\n",
    "  for i in range(HAND_SIZE):\n",
    "    ranks[i] = get_rank(cards[i])\n",
    "  # ranks.sort()\n",
    "  for i in range(1, HAND_SIZE):\n",
    "    key = ranks[i]\n",
    "    j = i - 1\n",
    "    while j >= 0 and ranks[j] > key:\n",
    "      ranks[j + 1] = ranks[j]\n",
    "      j -= 1\n",
    "    ranks[j + 1] = key\n",
    "\n",
    "  # is_flush = all(card == cards[0] for card in cards[1:])\n",
    "  # Expanding `cards` on the rhs results in better cuda-compiled code.\n",
    "  c0, c1, c2, c3, c4 = cards[0], cards[1], cards[2], cards[3], cards[4]\n",
    "  is_flush = get_suit(c0) == get_suit(c1) == get_suit(c2) == get_suit(c3) == get_suit(c4)\n",
    "\n",
    "  # Expanding `ranks` on the rhs results in better cuda-compiled code.\n",
    "  r0, r1, r2, r3, r4 = ranks[0], ranks[1], ranks[2], ranks[3], ranks[4]\n",
    "  # We must also consider the ace-low straight 'A2345'.\n",
    "  is_straight = r1 == r0 + 1 and r2 == r0 + 2 and r3 == r0 + 3 and (r4 == r0 + 4 or r4 == r0 + 12)\n",
    "\n",
    "  # Count rank frequencies.\n",
    "  freqs[:] = 0\n",
    "  for rank in ranks:\n",
    "    freqs[rank] += 1\n",
    "\n",
    "  # max_freq = max(freqs)\n",
    "  # num_pairs = np.sum(freqs == 2)\n",
    "  max_freq = 0\n",
    "  num_pairs = 0\n",
    "  for freq in freqs:\n",
    "    max_freq = max(max_freq, freq)\n",
    "    if freq == 2:\n",
    "      num_pairs += 1\n",
    "\n",
    "  if is_flush and is_straight:\n",
    "    if ranks[0] == 8:\n",
    "      return Outcome.ROYAL_FLUSH\n",
    "    return Outcome.STRAIGHT_FLUSH\n",
    "  if max_freq == 4:\n",
    "    return Outcome.FOUR_OF_A_KIND\n",
    "  if max_freq == 3 and num_pairs > 0:\n",
    "    return Outcome.FULL_HOUSE\n",
    "  if is_flush:\n",
    "    return Outcome.FLUSH\n",
    "  if is_straight:\n",
    "    return Outcome.STRAIGHT\n",
    "  if max_freq == 3:\n",
    "    return Outcome.THREE_OF_A_KIND\n",
    "  if max_freq == 2:\n",
    "    if num_pairs == 2:\n",
    "      return Outcome.TWO_PAIR\n",
    "    return Outcome.ONE_PAIR\n",
    "  return Outcome.HIGH_CARD"
   ]
  },
  {
   "cell_type": "code",
   "execution_count": 18,
   "id": "8676ddc6-f14c-4fe3-8316-249f247439ad",
   "metadata": {
    "execution": {
     "iopub.execute_input": "2025-01-17T02:20:02.015709Z",
     "iopub.status.busy": "2025-01-17T02:20:02.015534Z",
     "iopub.status.idle": "2025-01-17T02:20:02.026795Z",
     "shell.execute_reply": "2025-01-17T02:20:02.026010Z",
     "shell.execute_reply.started": "2025-01-17T02:20:02.015696Z"
    }
   },
   "outputs": [],
   "source": [
    "outcome_of_hand_array_numba = numba_njit(inline='always')(outcome_of_hand_array_python)"
   ]
  },
  {
   "cell_type": "markdown",
   "id": "b2c72168-c7d6-4792-9ea9-ee887733a7e1",
   "metadata": {
    "execution": {
     "iopub.execute_input": "2024-12-29T01:43:09.066669Z",
     "iopub.status.busy": "2024-12-29T01:43:09.066142Z",
     "iopub.status.idle": "2024-12-29T01:43:09.069033Z",
     "shell.execute_reply": "2024-12-29T01:43:09.068530Z",
     "shell.execute_reply.started": "2024-12-29T01:43:09.066653Z"
    },
    "lines_to_next_cell": 2
   },
   "source": [
    "### CPU simulation"
   ]
  },
  {
   "cell_type": "code",
   "execution_count": 19,
   "id": "61102c48-3b12-497c-adcd-a5dab40f1ac7",
   "metadata": {
    "execution": {
     "iopub.execute_input": "2025-01-17T02:20:02.027904Z",
     "iopub.status.busy": "2025-01-17T02:20:02.027596Z",
     "iopub.status.idle": "2025-01-17T02:20:02.036332Z",
     "shell.execute_reply": "2025-01-17T02:20:02.035660Z",
     "shell.execute_reply.started": "2025-01-17T02:20:02.027890Z"
    }
   },
   "outputs": [],
   "source": [
    "def make_compute_array_cpu(for_numba: bool) -> Callable[[int, np.random.Generator], Probabilities]:\n",
    "  \"\"\"Factory returning a function for Python or numba evaluation.\"\"\"\n",
    "  outcome_of_hand_array = outcome_of_hand_array_numba if for_numba else outcome_of_hand_array_python\n",
    "\n",
    "  def compute_array_cpu(num_decks: int, rng: np.random.Generator) -> Probabilities:\n",
    "    \"\"\"Return hand probabilities computed on the CPU using array data structures.\"\"\"\n",
    "    BLOCK_SIZE = 10\n",
    "    # deck_block = np.arange(DECK_SIZE, dtype=np.uint8).repeat(BLOCK_SIZE).reshape(DECK_SIZE, -1).T\n",
    "    deck_block = np.empty((BLOCK_SIZE, DECK_SIZE), dtype=np.uint8)\n",
    "    deck_block[:] = np.arange(DECK_SIZE, dtype=np.uint8)\n",
    "    ranks = np.empty(HAND_SIZE, np.uint8)\n",
    "    freqs = np.empty(NUM_RANKS, np.int8)\n",
    "    tally = np.zeros(NUM_OUTCOMES, np.int64)\n",
    "    for deck_index_start in range(0, num_decks, BLOCK_SIZE):\n",
    "      deck_block2 = rng.permutation(deck_block, axis=1)\n",
    "      for deck_index in range(deck_index_start, min(deck_index_start + BLOCK_SIZE, num_decks)):\n",
    "        deck = deck_block2[deck_index - deck_index_start]\n",
    "        for hand_index in range(HANDS_PER_DECK):\n",
    "          hand = deck[hand_index : hand_index + 5]\n",
    "          outcome = outcome_of_hand_array(hand, ranks, freqs)\n",
    "          tally[outcome.value] += 1\n",
    "    return tally / (num_decks * HANDS_PER_DECK)\n",
    "\n",
    "  return compute_array_cpu"
   ]
  },
  {
   "cell_type": "code",
   "execution_count": 20,
   "id": "b7e33708-c91f-486c-bb02-71da114e1a69",
   "metadata": {
    "execution": {
     "iopub.execute_input": "2025-01-17T02:20:02.037375Z",
     "iopub.status.busy": "2025-01-17T02:20:02.037061Z",
     "iopub.status.idle": "2025-01-17T02:20:02.045876Z",
     "shell.execute_reply": "2025-01-17T02:20:02.045216Z",
     "shell.execute_reply.started": "2025-01-17T02:20:02.037361Z"
    },
    "lines_to_next_cell": 2
   },
   "outputs": [],
   "source": [
    "simulate_hands_array_cpu_python = make_compute_array_cpu(for_numba=False)\n",
    "simulate_hands_array_cpu_numba = numba_njit()(make_compute_array_cpu(for_numba=True))"
   ]
  },
  {
   "cell_type": "code",
   "execution_count": 21,
   "id": "14583f1b-5e96-4a18-9e6b-dcf13d57a876",
   "metadata": {
    "execution": {
     "iopub.execute_input": "2025-01-17T02:20:02.048836Z",
     "iopub.status.busy": "2025-01-17T02:20:02.048485Z",
     "iopub.status.idle": "2025-01-17T02:20:02.055512Z",
     "shell.execute_reply": "2025-01-17T02:20:02.054793Z",
     "shell.execute_reply.started": "2025-01-17T02:20:02.048822Z"
    }
   },
   "outputs": [],
   "source": [
    "if 0:\n",
    "  write_numba_assembly_code(simulate_hands_array_cpu_numba, 'simulate_hands_array_cpu_numba.asm')"
   ]
  },
  {
   "cell_type": "code",
   "execution_count": 22,
   "id": "ebec99b5-9246-4e29-94ed-ed675d03e549",
   "metadata": {
    "execution": {
     "iopub.execute_input": "2025-01-17T02:20:02.056366Z",
     "iopub.status.busy": "2025-01-17T02:20:02.056211Z",
     "iopub.status.idle": "2025-01-17T02:20:10.905414Z",
     "shell.execute_reply": "2025-01-17T02:20:10.904699Z",
     "shell.execute_reply.started": "2025-01-17T02:20:02.056352Z"
    },
    "lines_to_next_cell": 2
   },
   "outputs": [],
   "source": [
    "assert np.allclose(simulate_hands_array_cpu_numba(10**5, RNG), EXPECTED_PROB, atol=0.001)"
   ]
  },
  {
   "cell_type": "code",
   "execution_count": 23,
   "id": "2b737c66-9df8-4f2b-bc90-63d850850777",
   "metadata": {
    "execution": {
     "iopub.execute_input": "2025-01-17T02:20:10.906878Z",
     "iopub.status.busy": "2025-01-17T02:20:10.906270Z",
     "iopub.status.idle": "2025-01-17T02:20:12.433018Z",
     "shell.execute_reply": "2025-01-17T02:20:12.432321Z",
     "shell.execute_reply.started": "2025-01-17T02:20:10.906864Z"
    }
   },
   "outputs": [
    {
     "name": "stdout",
     "output_type": "stream",
     "text": [
      "761 ms ± 5.26 ms per loop (mean ± std. dev. of 2 runs, 1 loop each)\n"
     ]
    }
   ],
   "source": [
    "%timeit -n1 -r2 simulate_hands_array_cpu_python(2000, RNG)  # ~750 ms."
   ]
  },
  {
   "cell_type": "code",
   "execution_count": 24,
   "id": "e6d31c92-50f3-4c51-b333-0cbdfdd2bdd5",
   "metadata": {
    "execution": {
     "iopub.execute_input": "2025-01-17T02:20:12.434009Z",
     "iopub.status.busy": "2025-01-17T02:20:12.433809Z",
     "iopub.status.idle": "2025-01-17T02:20:14.548084Z",
     "shell.execute_reply": "2025-01-17T02:20:14.547376Z",
     "shell.execute_reply.started": "2025-01-17T02:20:12.433996Z"
    },
    "lines_to_next_cell": 2
   },
   "outputs": [
    {
     "name": "stdout",
     "output_type": "stream",
     "text": [
      "10.5 ms ± 24.4 µs per loop (mean ± std. dev. of 2 runs, 100 loops each)\n"
     ]
    }
   ],
   "source": [
    "%timeit -n100 -r2 simulate_hands_array_cpu_numba(10**4, RNG)  # ~10.3 ms."
   ]
  },
  {
   "cell_type": "code",
   "execution_count": 25,
   "id": "38b2467c-cc46-4b3d-ab2e-0db7891bcf6f",
   "metadata": {
    "execution": {
     "iopub.execute_input": "2025-01-17T02:20:14.549396Z",
     "iopub.status.busy": "2025-01-17T02:20:14.549090Z",
     "iopub.status.idle": "2025-01-17T02:20:14.552674Z",
     "shell.execute_reply": "2025-01-17T02:20:14.552027Z",
     "shell.execute_reply.started": "2025-01-17T02:20:14.549382Z"
    }
   },
   "outputs": [],
   "source": [
    "def compute_array_chunk(args: tuple[int, np.random.Generator]) -> Probabilities:\n",
    "  \"\"\"Helper function for multiprocess dispatching.\"\"\"\n",
    "  num_decks, rng = args\n",
    "  return simulate_hands_array_cpu_numba(num_decks, rng)"
   ]
  },
  {
   "cell_type": "code",
   "execution_count": 26,
   "id": "a853fae1-8516-417c-97de-b221f97c6d40",
   "metadata": {
    "execution": {
     "iopub.execute_input": "2025-01-17T02:20:14.553651Z",
     "iopub.status.busy": "2025-01-17T02:20:14.553374Z",
     "iopub.status.idle": "2025-01-17T02:20:14.563426Z",
     "shell.execute_reply": "2025-01-17T02:20:14.562672Z",
     "shell.execute_reply.started": "2025-01-17T02:20:14.553638Z"
    },
    "lines_to_next_cell": 2
   },
   "outputs": [],
   "source": [
    "def simulate_hands_array_cpu_numba_multiprocess(\n",
    "    num_decks: int, rng: np.random.Generator\n",
    ") -> Probabilities:\n",
    "  \"\"\"Compute hand probabilities using multiprocessing.\"\"\"\n",
    "  num_processes = multiprocessing.cpu_count()\n",
    "  chunk_num_decks = math.ceil(num_decks / num_processes)\n",
    "  new_rngs = rng.spawn(num_processes)\n",
    "  chunks = [(chunk_num_decks, new_rng) for new_rng in new_rngs]\n",
    "  with multiprocessing.get_context('fork').Pool(num_processes) as pool:\n",
    "    results = pool.map(compute_array_chunk, chunks)\n",
    "  return np.mean(results, axis=0)"
   ]
  },
  {
   "cell_type": "markdown",
   "id": "0154d69f-d8dc-4d8b-8d5e-e1632f9f4fc8",
   "metadata": {
    "lines_to_next_cell": 2
   },
   "source": [
    "### GPU simulation"
   ]
  },
  {
   "cell_type": "code",
   "execution_count": 27,
   "id": "e3280ce4-3cdc-4910-96d7-6b86410d8be4",
   "metadata": {
    "execution": {
     "iopub.execute_input": "2025-01-17T02:20:14.564635Z",
     "iopub.status.busy": "2025-01-17T02:20:14.564285Z",
     "iopub.status.idle": "2025-01-17T02:20:14.572606Z",
     "shell.execute_reply": "2025-01-17T02:20:14.571940Z",
     "shell.execute_reply.started": "2025-01-17T02:20:14.564621Z"
    }
   },
   "outputs": [],
   "source": [
    "THREADS_PER_BLOCK = 256"
   ]
  },
  {
   "cell_type": "code",
   "execution_count": 28,
   "id": "96d4ddd0-9c93-403d-bd5e-a0be49a6f7ff",
   "metadata": {
    "execution": {
     "iopub.execute_input": "2025-01-17T02:20:14.573959Z",
     "iopub.status.busy": "2025-01-17T02:20:14.573447Z",
     "iopub.status.idle": "2025-01-17T02:20:14.583137Z",
     "shell.execute_reply": "2025-01-17T02:20:14.582496Z",
     "shell.execute_reply.started": "2025-01-17T02:20:14.573944Z"
    }
   },
   "outputs": [],
   "source": [
    "# Using either local memory or cuda.shared.array.\n",
    "@cuda.jit  # type: ignore[misc]\n",
    "def gpu_array(rng_states: _CudaArray, decks_per_thread: int, global_tally: _CudaArray) -> None:\n",
    "  \"\"\"CUDA kernel to compute hand probabilities using an array approach.\"\"\"\n",
    "  # pylint: disable=too-many-function-args, no-value-for-parameter, comparison-with-callable\n",
    "  # pylint: disable=possibly-used-before-assignment\n",
    "  int32, uint32 = numba.int32, numba.uint32\n",
    "  USE_SHARED_MEMORY = True  # Shared memory is faster.\n",
    "  thread_index = cuda.grid(1)\n",
    "  if thread_index >= len(rng_states):\n",
    "    return\n",
    "\n",
    "  thread_id = cuda.threadIdx.x  # Index within block.\n",
    "  if USE_SHARED_MEMORY:\n",
    "    block_tally = cuda.shared.array((NUM_OUTCOMES, THREADS_PER_BLOCK), np.int32)\n",
    "    block_deck = cuda.shared.array((THREADS_PER_BLOCK, DECK_SIZE), np.uint8)\n",
    "    block_ranks = cuda.shared.array((THREADS_PER_BLOCK, HAND_SIZE), np.uint8)\n",
    "    block_freqs = cuda.shared.array((THREADS_PER_BLOCK, NUM_RANKS), np.uint8)\n",
    "    tally = block_tally[:, thread_id]\n",
    "    deck = block_deck[thread_id]\n",
    "    ranks = block_ranks[thread_id]\n",
    "    freqs = block_freqs[thread_id]\n",
    "  else:\n",
    "    tally = cuda.local.array(NUM_OUTCOMES, np.int32)\n",
    "    deck = cuda.local.array(DECK_SIZE, np.uint8)\n",
    "    ranks = cuda.local.array(HAND_SIZE, np.uint8)\n",
    "    freqs = cuda.local.array(NUM_RANKS, np.uint8)\n",
    "\n",
    "  tally[:] = 0\n",
    "  for i in range(numba.uint8(DECK_SIZE)):  # Casting as uint8 nicely unrolls the loop.\n",
    "    deck[i] = i\n",
    "\n",
    "  for _ in range(int32(decks_per_thread)):\n",
    "    # Apply Fisher-Yates shuffle to current deck.\n",
    "    # for i in range(int32(51), int32(0), int32(-1)):\n",
    "    i = uint32(51)\n",
    "    while i > 0:\n",
    "      random_uint = random32.xoshiro128p_next(rng_states, thread_index)\n",
    "      j = random_uint % uint32(i + 1)\n",
    "      deck[i], deck[j] = deck[j], deck[i]\n",
    "      i = uint32(i - 1)\n",
    "\n",
    "    # for hand_index in range(HANDS_PER_DECK):\n",
    "    hand_index = uint32(0)\n",
    "    while hand_index < HANDS_PER_DECK:\n",
    "      hand = deck[hand_index : hand_index + 5]\n",
    "      outcome = uint32(outcome_of_hand_array_numba(hand, ranks, freqs))\n",
    "      tally[outcome] += 1\n",
    "      hand_index = uint32(hand_index + 1)\n",
    "\n",
    "  # First accumulate a per-block tally, then accumulate that tally into the global tally.\n",
    "  shared_tally = cuda.shared.array(NUM_OUTCOMES, np.int64)  # Per-block intermediate tally.\n",
    "  if thread_id == 0:\n",
    "    shared_tally[:] = 0\n",
    "  cuda.syncthreads()\n",
    "\n",
    "  # Each thread adds its local results to shared memory.\n",
    "  for i in range(NUM_OUTCOMES):\n",
    "    cuda.atomic.add(shared_tally, i, tally[i])\n",
    "    cuda.syncthreads()\n",
    "\n",
    "  if thread_id == 0:\n",
    "    for i in range(NUM_OUTCOMES):\n",
    "      cuda.atomic.add(global_tally, i, shared_tally[i])"
   ]
  },
  {
   "cell_type": "code",
   "execution_count": 29,
   "id": "627231b2-4a92-4c68-b260-0c4589a09772",
   "metadata": {
    "execution": {
     "iopub.execute_input": "2025-01-17T02:20:14.584377Z",
     "iopub.status.busy": "2025-01-17T02:20:14.584202Z",
     "iopub.status.idle": "2025-01-17T02:20:14.595131Z",
     "shell.execute_reply": "2025-01-17T02:20:14.594409Z",
     "shell.execute_reply.started": "2025-01-17T02:20:14.584362Z"
    }
   },
   "outputs": [],
   "source": [
    "def simulate_hands_array_gpu_cuda(num_decks: int, rng: np.random.Generator) -> Probabilities:\n",
    "  \"\"\"Compute hand probabilities using an array approach by invoking a CUDA kernel.\"\"\"\n",
    "  device = cuda.get_current_device()\n",
    "  BLOCKS_PER_SM = 8\n",
    "  target_num_threads = THREADS_PER_BLOCK * BLOCKS_PER_SM * device.MULTIPROCESSOR_COUNT\n",
    "  decks_per_thread = max(1, num_decks // target_num_threads)\n",
    "  num_threads = num_decks // decks_per_thread\n",
    "  # print(f'{decks_per_thread=} {num_threads=}')\n",
    "  blocks = math.ceil(num_threads / THREADS_PER_BLOCK)\n",
    "  seed = rng.integers(2**64, dtype=np.uint64)\n",
    "  d_rng_states = random32.create_xoshiro128p_states(num_threads, seed)\n",
    "  d_global_tally = cuda.to_device(np.zeros(NUM_OUTCOMES, np.int64))\n",
    "  gpu_array[blocks, THREADS_PER_BLOCK](d_rng_states, decks_per_thread, d_global_tally)\n",
    "  return d_global_tally.copy_to_host() / (num_threads * decks_per_thread * HANDS_PER_DECK)"
   ]
  },
  {
   "cell_type": "code",
   "execution_count": 30,
   "id": "32f20d44-bdf8-4a19-8933-66cc9f79fa67",
   "metadata": {
    "execution": {
     "iopub.execute_input": "2025-01-17T02:20:14.596577Z",
     "iopub.status.busy": "2025-01-17T02:20:14.596000Z",
     "iopub.status.idle": "2025-01-17T02:20:16.277394Z",
     "shell.execute_reply": "2025-01-17T02:20:16.276720Z",
     "shell.execute_reply.started": "2025-01-17T02:20:14.596558Z"
    }
   },
   "outputs": [],
   "source": [
    "if cuda.is_available():\n",
    "  assert np.allclose(simulate_hands_array_gpu_cuda(10**7, RNG), EXPECTED_PROB, atol=0.0001)"
   ]
  },
  {
   "cell_type": "code",
   "execution_count": 31,
   "id": "beee6915-9637-4e74-bdc2-c370cb01e35c",
   "metadata": {
    "execution": {
     "iopub.execute_input": "2025-01-17T02:20:16.278682Z",
     "iopub.status.busy": "2025-01-17T02:20:16.278238Z",
     "iopub.status.idle": "2025-01-17T02:20:16.779819Z",
     "shell.execute_reply": "2025-01-17T02:20:16.779145Z",
     "shell.execute_reply.started": "2025-01-17T02:20:16.278667Z"
    }
   },
   "outputs": [
    {
     "name": "stdout",
     "output_type": "stream",
     "text": [
      "Timing:\n",
      "99.3 ms ± 1.88 ms per loop (mean ± std. dev. of 5 runs, 1 loop each)\n"
     ]
    }
   ],
   "source": [
    "if cuda.is_available():\n",
    "  print('Timing:')\n",
    "  %timeit -n1 -r5 simulate_hands_array_gpu_cuda(2 * 10**7, RNG)  # ~250-400 ms."
   ]
  },
  {
   "cell_type": "code",
   "execution_count": 32,
   "id": "ecb3f7ec-127e-4e85-9cab-655cb388312f",
   "metadata": {
    "execution": {
     "iopub.execute_input": "2025-01-17T02:20:16.781128Z",
     "iopub.status.busy": "2025-01-17T02:20:16.780746Z",
     "iopub.status.idle": "2025-01-17T02:20:16.786913Z",
     "shell.execute_reply": "2025-01-17T02:20:16.786094Z",
     "shell.execute_reply.started": "2025-01-17T02:20:16.781111Z"
    }
   },
   "outputs": [
    {
     "name": "stdout",
     "output_type": "stream",
     "text": [
      "const_mem_size = 0\n",
      "local_mem_per_thread = 0\n",
      "max_threads_per_block = 1024\n",
      "regs_per_thread = 40\n",
      "shared_mem_per_block = 28240\n"
     ]
    }
   ],
   "source": [
    "if cuda.is_available():\n",
    "  write_numba_assembly_code(gpu_array, 'gpu_array.ptx')\n",
    "  report_cuda_kernel_properties(gpu_array)"
   ]
  },
  {
   "cell_type": "markdown",
   "id": "61f636ef-f944-4edc-8d8f-1c88ebbd9c0e",
   "metadata": {
    "lines_to_next_cell": 2
   },
   "source": [
    "## Approach 2: suit/rank bitcounts"
   ]
  },
  {
   "cell_type": "markdown",
   "id": "7a06cf36-ab47-4d4c-bd74-780f4d2eb9ad",
   "metadata": {},
   "source": [
    "We represent a (5-card) hand as a sequence of $4+13$ counts, each of size 3 bits.\n",
    "The 3-bit counts encode:\n",
    "- the number of cards in each of the 4 suits, and\n",
    "- the number of cards of each of the 13 ranks (2,3,4,5,6,7,8,9,T,J,Q,K,A).\n",
    "\n",
    "Therefore each card is encoded as a 51-bit mask in which exactly **two bits** are set to 1,\n",
    "in the corresponding suit and rank.\n",
    "\n",
    "The bitcounts for the five cards in a hand are combined using ordinary 64-bit addition,\n",
    "relying on the fact that **no carry bits** will jump across the 3-bit triples because $5 < 2^3$."
   ]
  },
  {
   "cell_type": "code",
   "execution_count": 33,
   "id": "3693e30a-038c-4bee-9763-012050a7a6e7",
   "metadata": {
    "execution": {
     "iopub.execute_input": "2025-01-17T02:20:16.788385Z",
     "iopub.status.busy": "2025-01-17T02:20:16.787876Z",
     "iopub.status.idle": "2025-01-17T02:20:16.794745Z",
     "shell.execute_reply": "2025-01-17T02:20:16.793962Z",
     "shell.execute_reply.started": "2025-01-17T02:20:16.788370Z"
    }
   },
   "outputs": [],
   "source": [
    "# Thanks to Marcel Gavriliu for this approach of storing card bitmasks and summing them."
   ]
  },
  {
   "cell_type": "code",
   "execution_count": 34,
   "id": "d5eb7ab9-6d6e-4af4-b99e-b76ba60252b9",
   "metadata": {
    "execution": {
     "iopub.execute_input": "2025-01-17T02:20:16.796053Z",
     "iopub.status.busy": "2025-01-17T02:20:16.795671Z",
     "iopub.status.idle": "2025-01-17T02:20:16.804781Z",
     "shell.execute_reply": "2025-01-17T02:20:16.803848Z",
     "shell.execute_reply.started": "2025-01-17T02:20:16.796030Z"
    }
   },
   "outputs": [],
   "source": [
    "THREADS_PER_BLOCK = 256"
   ]
  },
  {
   "cell_type": "code",
   "execution_count": 35,
   "id": "2468db55-9dba-47da-99bf-c992cd446d44",
   "metadata": {
    "execution": {
     "iopub.execute_input": "2025-01-17T02:20:16.805988Z",
     "iopub.status.busy": "2025-01-17T02:20:16.805804Z",
     "iopub.status.idle": "2025-01-17T02:20:16.814689Z",
     "shell.execute_reply": "2025-01-17T02:20:16.814012Z",
     "shell.execute_reply.started": "2025-01-17T02:20:16.805973Z"
    }
   },
   "outputs": [],
   "source": [
    "CARD_COUNT_BITS = 3  # We use 3 bits to encode 0-7 cards for both ranks and suits.\n",
    "RANKS_ONE = 0b_001_001_001_001_001_001_001_001_001_001_001_001_001  # One card of each rank.\n",
    "RANKS_TWO = RANKS_ONE << 1\n",
    "RANKS_FOUR = RANKS_ONE << 2\n",
    "ROYAL_STRAIGHT_RANK_MASK = 0b_001_001_001_001_001_000_000_000_000_000_000_000_000\n",
    "ACE_LOW_STRAIGHT_RANK_MASK = 0b_001_000_000_000_000_000_000_000_000_001_001_001_001\n",
    "SUITS_ONE = 0b_001_001_001_001  # One card of each suit."
   ]
  },
  {
   "cell_type": "code",
   "execution_count": 36,
   "id": "eec21c55-97da-4226-87bb-cf9e66607b59",
   "metadata": {
    "execution": {
     "iopub.execute_input": "2025-01-17T02:20:16.815790Z",
     "iopub.status.busy": "2025-01-17T02:20:16.815603Z",
     "iopub.status.idle": "2025-01-17T02:20:16.824589Z",
     "shell.execute_reply": "2025-01-17T02:20:16.823836Z",
     "shell.execute_reply.started": "2025-01-17T02:20:16.815775Z"
    }
   },
   "outputs": [],
   "source": [
    "assert RANKS_ONE == int(sum((2**CARD_COUNT_BITS) ** np.arange(NUM_RANKS, dtype=np.uint64)))\n",
    "assert SUITS_ONE == int(sum((2**CARD_COUNT_BITS) ** np.arange(NUM_SUITS, dtype=np.uint64)))"
   ]
  },
  {
   "cell_type": "code",
   "execution_count": 37,
   "id": "2b3f6172-5fb2-4f08-b6c8-3460d7a36f23",
   "metadata": {
    "execution": {
     "iopub.execute_input": "2025-01-17T02:20:16.825596Z",
     "iopub.status.busy": "2025-01-17T02:20:16.825398Z",
     "iopub.status.idle": "2025-01-17T02:20:16.837627Z",
     "shell.execute_reply": "2025-01-17T02:20:16.836788Z",
     "shell.execute_reply.started": "2025-01-17T02:20:16.825583Z"
    }
   },
   "outputs": [],
   "source": [
    "def create_table_straights_rank_mask() -> _NDArray:\n",
    "  \"\"\"Create a table containing the 10 bitmasks corresponding to the 10 possible straights.\"\"\"\n",
    "  lst = [0b_001_001_001_001_001 << (i * 3) for i in range(9)]  # '23456' to 'TJQKA'.\n",
    "  lst.append(ACE_LOW_STRAIGHT_RANK_MASK)  # 'A2345'.\n",
    "  return np.array(lst, np.uint64)"
   ]
  },
  {
   "cell_type": "code",
   "execution_count": 38,
   "id": "97639df3-a4ac-40c8-9329-15901d622de9",
   "metadata": {
    "execution": {
     "iopub.execute_input": "2025-01-17T02:20:16.839093Z",
     "iopub.status.busy": "2025-01-17T02:20:16.838657Z",
     "iopub.status.idle": "2025-01-17T02:20:16.847370Z",
     "shell.execute_reply": "2025-01-17T02:20:16.846628Z",
     "shell.execute_reply.started": "2025-01-17T02:20:16.839073Z"
    },
    "lines_to_next_cell": 2
   },
   "outputs": [],
   "source": [
    "# Table of 10 uint64, each the \"13 * 3\"-bit mask encoding of ranks in straight.\n",
    "TABLE_STRAIGHTS_RANK_MASK = create_table_straights_rank_mask()"
   ]
  },
  {
   "cell_type": "markdown",
   "id": "e46a6e01-430b-46c2-a592-c5663abb4b59",
   "metadata": {
    "lines_to_next_cell": 2
   },
   "source": [
    "### Hand evaluation"
   ]
  },
  {
   "cell_type": "code",
   "execution_count": 39,
   "id": "8e047607-c10a-48a7-a5c7-a655fba16e2e",
   "metadata": {
    "execution": {
     "iopub.execute_input": "2025-01-17T02:20:16.848350Z",
     "iopub.status.busy": "2025-01-17T02:20:16.848175Z",
     "iopub.status.idle": "2025-01-17T02:20:16.857246Z",
     "shell.execute_reply": "2025-01-17T02:20:16.856524Z",
     "shell.execute_reply.started": "2025-01-17T02:20:16.848336Z"
    }
   },
   "outputs": [],
   "source": [
    "@numba_njit(inline='always')\n",
    "def bitcount_of_card(card: numba.uint8) -> numba.uint64:\n",
    "  \"\"\"Return a bitmask of 4*3 + 13*3 bits encoding the suit and rank of 0 <= `card` < 52.\"\"\"\n",
    "  suit_index = card & 0b11\n",
    "  rank_index = card >> 2\n",
    "  mask = (1 << (suit_index * 3 + NUM_RANKS * 3)) | (1 << (rank_index * 3))\n",
    "  return mask"
   ]
  },
  {
   "cell_type": "code",
   "execution_count": 40,
   "id": "e71f606e-973e-4e47-9904-e7ecd9b5ef79",
   "metadata": {
    "execution": {
     "iopub.execute_input": "2025-01-17T02:20:16.858545Z",
     "iopub.status.busy": "2025-01-17T02:20:16.858039Z",
     "iopub.status.idle": "2025-01-17T02:20:16.867243Z",
     "shell.execute_reply": "2025-01-17T02:20:16.866402Z",
     "shell.execute_reply.started": "2025-01-17T02:20:16.858518Z"
    }
   },
   "outputs": [],
   "source": [
    "@numba_njit(inline='always')\n",
    "def determine_straight(rank_count_mask: numba.uint64) -> bool:\n",
    "  \"\"\"Return true if the rank bitmask corresponds to a straight.\"\"\"\n",
    "  m = rank_count_mask\n",
    "  t = TABLE_STRAIGHTS_RANK_MASK\n",
    "  assert len(t) == 10\n",
    "  result = (m == t[0]) | (m == t[1]) | (m == t[2]) | (m == t[3]) | (m == t[4])\n",
    "  result |= (m == t[5]) | (m == t[6]) | (m == t[7]) | (m == t[8]) | (m == t[9])\n",
    "  return result"
   ]
  },
  {
   "cell_type": "code",
   "execution_count": 41,
   "id": "e78ef698-898c-49c5-8b91-cc983dc03562",
   "metadata": {
    "execution": {
     "iopub.execute_input": "2025-01-17T02:20:16.868650Z",
     "iopub.status.busy": "2025-01-17T02:20:16.868226Z",
     "iopub.status.idle": "2025-01-17T02:20:16.877163Z",
     "shell.execute_reply": "2025-01-17T02:20:16.876330Z",
     "shell.execute_reply.started": "2025-01-17T02:20:16.868634Z"
    }
   },
   "outputs": [],
   "source": [
    "def make_outcome_of_hand_bitcount(for_cuda: bool) -> Callable[[numba.uint64], Outcome]:\n",
    "  \"\"\"Factory returning a function for numba or cuda evaluation.\"\"\"\n",
    "  popc = gpu_popc if for_cuda else cpu_popc\n",
    "\n",
    "  def outcome_of_hand_bitcount(bitcount_sum: numba.uint64) -> Outcome:\n",
    "    \"\"\"Evaluate 5-card poker hand and return outcome ranking, using sum of card bitcounts.\"\"\"\n",
    "    # pylint: disable=too-many-function-args\n",
    "    uint32, uint64 = numba.uint32, numba.uint64\n",
    "    suit_count_mask = uint32(bitcount_sum >> CARD_COUNT_BITS * NUM_RANKS)\n",
    "    rank_count_mask = uint64(bitcount_sum & (2 ** (CARD_COUNT_BITS * NUM_RANKS) - 1))\n",
    "\n",
    "    is_flush = popc(uint32(suit_count_mask & (suit_count_mask >> 2) & SUITS_ONE)) != 0\n",
    "    is_straight = determine_straight(rank_count_mask)\n",
    "    is_four = (rank_count_mask & RANKS_FOUR) != 0\n",
    "    is_three = ((rank_count_mask + RANKS_ONE) & RANKS_FOUR) != 0\n",
    "    mask_two_or_more = rank_count_mask & RANKS_TWO\n",
    "    num_two_or_more = popc(mask_two_or_more)\n",
    "\n",
    "    if is_flush and is_straight:\n",
    "      if rank_count_mask == ROYAL_STRAIGHT_RANK_MASK:\n",
    "        return Outcome.ROYAL_FLUSH\n",
    "      return Outcome.STRAIGHT_FLUSH\n",
    "    if is_four:\n",
    "      return Outcome.FOUR_OF_A_KIND\n",
    "    if is_three and num_two_or_more > 1:\n",
    "      return Outcome.FULL_HOUSE\n",
    "    if is_flush:\n",
    "      return Outcome.FLUSH\n",
    "    if is_straight:\n",
    "      return Outcome.STRAIGHT\n",
    "    if is_three:\n",
    "      return Outcome.THREE_OF_A_KIND\n",
    "    if num_two_or_more == 2:\n",
    "      return Outcome.TWO_PAIR\n",
    "    if num_two_or_more == 1:\n",
    "      return Outcome.ONE_PAIR\n",
    "    return Outcome.HIGH_CARD\n",
    "\n",
    "  return outcome_of_hand_bitcount"
   ]
  },
  {
   "cell_type": "code",
   "execution_count": 42,
   "id": "fe492a73-5f8d-4075-ad53-8a4ff14f4354",
   "metadata": {
    "execution": {
     "iopub.execute_input": "2025-01-17T02:20:16.878289Z",
     "iopub.status.busy": "2025-01-17T02:20:16.877994Z",
     "iopub.status.idle": "2025-01-17T02:20:16.889082Z",
     "shell.execute_reply": "2025-01-17T02:20:16.888416Z",
     "shell.execute_reply.started": "2025-01-17T02:20:16.878275Z"
    },
    "lines_to_next_cell": 2
   },
   "outputs": [],
   "source": [
    "outcome_of_hand_bitcount_numba = numba_njit()(make_outcome_of_hand_bitcount(for_cuda=False))\n",
    "outcome_of_hand_bitcount_cuda = numba_njit()(make_outcome_of_hand_bitcount(for_cuda=True))"
   ]
  },
  {
   "cell_type": "markdown",
   "id": "01554e65-c360-4f56-a691-ac236d908127",
   "metadata": {
    "execution": {
     "iopub.execute_input": "2025-01-08T00:20:14.215144Z",
     "iopub.status.busy": "2025-01-08T00:20:14.214635Z",
     "iopub.status.idle": "2025-01-08T00:20:14.217614Z",
     "shell.execute_reply": "2025-01-08T00:20:14.217097Z",
     "shell.execute_reply.started": "2025-01-08T00:20:14.215128Z"
    },
    "lines_to_next_cell": 2
   },
   "source": [
    "### CPU simulation"
   ]
  },
  {
   "cell_type": "code",
   "execution_count": 43,
   "id": "58bdea27-2349-46ea-bc80-730e8357887e",
   "metadata": {
    "execution": {
     "iopub.execute_input": "2025-01-17T02:20:16.890233Z",
     "iopub.status.busy": "2025-01-17T02:20:16.889915Z",
     "iopub.status.idle": "2025-01-17T02:20:16.899383Z",
     "shell.execute_reply": "2025-01-17T02:20:16.898678Z",
     "shell.execute_reply.started": "2025-01-17T02:20:16.890218Z"
    }
   },
   "outputs": [],
   "source": [
    "@numba_njit()\n",
    "def simulate_hands_bitcount_cpu_numba(num_decks: int, rng: np.random.Generator) -> Probabilities:\n",
    "  \"\"\"Compute hand probabilities using a bitcount approach by invoking numba-jitted CPU code.\"\"\"\n",
    "  BLOCK_SIZE = 10\n",
    "  deck_block = np.empty((BLOCK_SIZE, DECK_SIZE), dtype=np.uint8)\n",
    "  deck_block[:] = np.arange(DECK_SIZE, dtype=np.uint8)\n",
    "  tally = np.zeros(NUM_OUTCOMES, np.int64)\n",
    "\n",
    "  for deck_index_start in range(0, num_decks, BLOCK_SIZE):\n",
    "    deck_block2 = rng.permutation(deck_block, axis=1)\n",
    "\n",
    "    for deck_index in range(deck_index_start, min(deck_index_start + BLOCK_SIZE, num_decks)):\n",
    "      deck = deck_block2[deck_index - deck_index_start]\n",
    "      mask0, mask1 = bitcount_of_card(deck[0]), bitcount_of_card(deck[1])\n",
    "      mask2, mask3 = bitcount_of_card(deck[2]), bitcount_of_card(deck[3])\n",
    "      bitcount_sum = mask0 + mask1 + mask2 + mask3\n",
    "\n",
    "      for hand_index in range(HANDS_PER_DECK):\n",
    "        mask4 = bitcount_of_card(deck[hand_index + 4])\n",
    "        bitcount_sum += mask4\n",
    "        outcome = outcome_of_hand_bitcount_numba(bitcount_sum)\n",
    "        tally[outcome.value] += 1\n",
    "        bitcount_sum -= mask0\n",
    "        mask0, mask1, mask2, mask3 = mask1, mask2, mask3, mask4\n",
    "\n",
    "  return tally / (num_decks * HANDS_PER_DECK)"
   ]
  },
  {
   "cell_type": "code",
   "execution_count": 44,
   "id": "4697056b-bb7a-4370-86df-fd5686592276",
   "metadata": {
    "execution": {
     "iopub.execute_input": "2025-01-17T02:20:16.900853Z",
     "iopub.status.busy": "2025-01-17T02:20:16.900251Z",
     "iopub.status.idle": "2025-01-17T02:20:16.910925Z",
     "shell.execute_reply": "2025-01-17T02:20:16.910264Z",
     "shell.execute_reply.started": "2025-01-17T02:20:16.900833Z"
    }
   },
   "outputs": [],
   "source": [
    "# simulate_poker_hands(10**7, 'bitcount_cpu_numba', simulate_hands_bitcount_cpu_numba)  # ~130 m hands/s"
   ]
  },
  {
   "cell_type": "code",
   "execution_count": 45,
   "id": "b4567788-0ab1-4309-b0cc-6a4e180f0b59",
   "metadata": {
    "execution": {
     "iopub.execute_input": "2025-01-17T02:20:16.912183Z",
     "iopub.status.busy": "2025-01-17T02:20:16.911808Z",
     "iopub.status.idle": "2025-01-17T02:20:19.621593Z",
     "shell.execute_reply": "2025-01-17T02:20:19.620866Z",
     "shell.execute_reply.started": "2025-01-17T02:20:16.912163Z"
    },
    "lines_to_next_cell": 2
   },
   "outputs": [],
   "source": [
    "assert np.allclose(simulate_hands_bitcount_cpu_numba(10**5, RNG), EXPECTED_PROB, atol=0.002)"
   ]
  },
  {
   "cell_type": "code",
   "execution_count": 46,
   "id": "c79e7a2c-cc47-40ae-aa1b-57d04007871c",
   "metadata": {
    "execution": {
     "iopub.execute_input": "2025-01-17T02:20:19.622730Z",
     "iopub.status.busy": "2025-01-17T02:20:19.622469Z",
     "iopub.status.idle": "2025-01-17T02:20:19.773313Z",
     "shell.execute_reply": "2025-01-17T02:20:19.772555Z",
     "shell.execute_reply.started": "2025-01-17T02:20:19.622714Z"
    },
    "lines_to_next_cell": 2
   },
   "outputs": [
    {
     "name": "stdout",
     "output_type": "stream",
     "text": [
      "36.5 ms ± 510 µs per loop (mean ± std. dev. of 2 runs, 2 loops each)\n"
     ]
    }
   ],
   "source": [
    "%timeit -n2 -r2 simulate_hands_bitcount_cpu_numba(10**5, RNG)  # ~35 ms if low variance."
   ]
  },
  {
   "cell_type": "code",
   "execution_count": 47,
   "id": "3b1cc2c5-e330-4fc4-b14a-d69616efcc84",
   "metadata": {
    "execution": {
     "iopub.execute_input": "2025-01-17T02:20:19.774836Z",
     "iopub.status.busy": "2025-01-17T02:20:19.774566Z",
     "iopub.status.idle": "2025-01-17T02:20:19.782895Z",
     "shell.execute_reply": "2025-01-17T02:20:19.782129Z",
     "shell.execute_reply.started": "2025-01-17T02:20:19.774820Z"
    }
   },
   "outputs": [],
   "source": [
    "def compute_bitcount_chunk(args: tuple[int, np.random.Generator]) -> Probabilities:\n",
    "  \"\"\"Helper function for multiprocessing.\"\"\"\n",
    "  num_decks, rng = args\n",
    "  return simulate_hands_bitcount_cpu_numba(num_decks, rng)"
   ]
  },
  {
   "cell_type": "code",
   "execution_count": 48,
   "id": "a5d21e18-247f-4485-86f2-c96c350edb51",
   "metadata": {
    "execution": {
     "iopub.execute_input": "2025-01-17T02:20:19.784247Z",
     "iopub.status.busy": "2025-01-17T02:20:19.783842Z",
     "iopub.status.idle": "2025-01-17T02:20:19.792878Z",
     "shell.execute_reply": "2025-01-17T02:20:19.792144Z",
     "shell.execute_reply.started": "2025-01-17T02:20:19.784224Z"
    },
    "lines_to_next_cell": 2
   },
   "outputs": [],
   "source": [
    "def simulate_hands_bitcount_cpu_numba_multiprocess(\n",
    "    num_decks: int, rng: np.random.Generator\n",
    ") -> Probabilities:\n",
    "  \"\"\"Compute hand probabilities using a bitcount approach and multiprocessing.\"\"\"\n",
    "  num_processes = multiprocessing.cpu_count()\n",
    "  chunk_num_decks = math.ceil(num_decks / num_processes)\n",
    "  new_rngs = rng.spawn(num_processes)\n",
    "  chunks = [(chunk_num_decks, new_rng) for new_rng in new_rngs]\n",
    "  with multiprocessing.get_context('fork').Pool(num_processes) as pool:\n",
    "    results = pool.map(compute_bitcount_chunk, chunks)\n",
    "  return np.mean(results, axis=0)"
   ]
  },
  {
   "cell_type": "markdown",
   "id": "3eea8629-f9f8-416e-92d4-790f0c9e1d32",
   "metadata": {
    "lines_to_next_cell": 2
   },
   "source": [
    "### GPU simulation"
   ]
  },
  {
   "cell_type": "code",
   "execution_count": 49,
   "id": "6595778e-5ba7-4215-9abe-7598ba6aa1e2",
   "metadata": {
    "execution": {
     "iopub.execute_input": "2025-01-17T02:20:19.794083Z",
     "iopub.status.busy": "2025-01-17T02:20:19.793715Z",
     "iopub.status.idle": "2025-01-17T02:20:19.805819Z",
     "shell.execute_reply": "2025-01-17T02:20:19.805163Z",
     "shell.execute_reply.started": "2025-01-17T02:20:19.794067Z"
    }
   },
   "outputs": [],
   "source": [
    "@cuda.jit(fastmath=True)  # type: ignore[misc]\n",
    "def gpu_bitcount(rng_states: _CudaArray, decks_per_thread: int, global_tally: _CudaArray) -> None:\n",
    "  \"\"\"CUDA kernel to compute hand probabilities using a bitcount approach.\"\"\"\n",
    "  # pylint: disable=too-many-function-args, no-value-for-parameter, comparison-with-callable\n",
    "  int32, uint32, float32 = numba.int32, numba.uint32, numba.float32\n",
    "  thread_index = cuda.grid(1)\n",
    "  thread_id = cuda.threadIdx.x  # Index within block.\n",
    "\n",
    "  block_tally = cuda.shared.array((NUM_OUTCOMES, THREADS_PER_BLOCK), np.int32)\n",
    "  block_deck = cuda.shared.array((THREADS_PER_BLOCK, DECK_SIZE), np.uint8)\n",
    "  tally = block_tally[:, thread_id]\n",
    "  deck = block_deck[thread_id]\n",
    "  tally[:] = 0\n",
    "\n",
    "  if thread_index >= len(rng_states):\n",
    "    return  # This must come after tally[] is zeroed, to simplify reduction below.\n",
    "\n",
    "  for i in range(numba.uint8(DECK_SIZE)):  # Casting as uint8 nicely unrolls the loop.\n",
    "    deck[i] = i\n",
    "\n",
    "  rng = rng_states[thread_index]\n",
    "  s0, s1, s2, s3 = uint32(rng['s0']), uint32(rng['s1']), uint32(rng['s2']), uint32(rng['s3'])\n",
    "\n",
    "  for _ in range(int32(decks_per_thread)):\n",
    "    # Apply Fisher-Yates shuffle to current deck.\n",
    "    # for i in range(int32(51), int32(0), int32(-1)):\n",
    "    i = uint32(51)\n",
    "    while i > 0:\n",
    "      # Swap element at [i] with any element [0, ..., i].\n",
    "      random_uint32, s0, s1, s2, s3 = random32.xoshiro128p_next_raw(s0, s1, s2, s3)\n",
    "      random_uint32 = uint32(random_uint32)\n",
    "      s0, s1, s2, s3 = uint32(s0), uint32(s1), uint32(s2), uint32(s3)\n",
    "      if 0:\n",
    "        j = random_uint32 % uint32(i + 1)  # Remainder is somewhat expensive in CUDA.\n",
    "      elif 0:\n",
    "        # In `random_uint32`, the msb have better randomness than the lsb, so float32 mul is better.\n",
    "        value_in_unit_interval = random32.uint32_to_unit_float32(random_uint32)\n",
    "        j = uint32(float32(value_in_unit_interval * float32(int32(i + 1))))\n",
    "      else:\n",
    "        j = uint32(float32(random_uint32) * float32((1.0 - 1e-7) / 2**32) * float32(int32(i + 1)))\n",
    "      deck[i], deck[j] = deck[j], deck[i]\n",
    "      i = uint32(i - 1)\n",
    "\n",
    "    mask0, mask1 = bitcount_of_card(deck[0]), bitcount_of_card(deck[1])\n",
    "    mask2, mask3 = bitcount_of_card(deck[2]), bitcount_of_card(deck[3])\n",
    "    bitcount_sum = mask0 + mask1 + mask2 + mask3\n",
    "\n",
    "    # for hand_index in range(int32(HANDS_PER_DECK)):\n",
    "    card_index = uint32(4)\n",
    "    while card_index < uint32(DECK_SIZE):\n",
    "      # mask4 = bitcount_of_card(deck[hand_index + 4])\n",
    "      mask4 = bitcount_of_card(deck[card_index])\n",
    "      bitcount_sum += mask4\n",
    "      outcome = uint32(outcome_of_hand_bitcount_cuda(bitcount_sum).value)\n",
    "      tally[outcome] += 1\n",
    "      bitcount_sum -= mask0\n",
    "      mask0, mask1, mask2, mask3 = mask1, mask2, mask3, mask4\n",
    "      card_index = uint32(card_index + 1)\n",
    "\n",
    "  # Compute a parallel sum reduction on the outcome tally.\n",
    "  temp_tally = cuda.shared.array(NUM_OUTCOMES, np.int64)  # Per-block tally.\n",
    "  temp_tally[:] = 0\n",
    "  cuda.syncthreads()\n",
    "\n",
    "  # First do a sum reduction within the 32 lanes of each warp (still at 32-bit precision).\n",
    "  for i in range(NUM_OUTCOMES):\n",
    "    value = tally[i]\n",
    "    for offset in [16, 8, 4, 2, 1]:\n",
    "      value += cuda.shfl_down_sync(0xFFFFFFFF, value, offset)\n",
    "    if cuda.laneid == 0:\n",
    "      cuda.atomic.add(temp_tally, i, numba.int64(value))  # Reduce across the block's warps.\n",
    "  cuda.syncthreads()\n",
    "\n",
    "  # Final reduction across blocks to global_tally.\n",
    "  if thread_id == 0:\n",
    "    for i in range(NUM_OUTCOMES):\n",
    "      cuda.atomic.add(global_tally, i, temp_tally[i])"
   ]
  },
  {
   "cell_type": "code",
   "execution_count": 50,
   "id": "4133487b-134a-4358-8518-c5979efc9acd",
   "metadata": {
    "execution": {
     "iopub.execute_input": "2025-01-17T02:20:19.806826Z",
     "iopub.status.busy": "2025-01-17T02:20:19.806634Z",
     "iopub.status.idle": "2025-01-17T02:20:19.818223Z",
     "shell.execute_reply": "2025-01-17T02:20:19.817467Z",
     "shell.execute_reply.started": "2025-01-17T02:20:19.806811Z"
    }
   },
   "outputs": [],
   "source": [
    "def simulate_hands_bitcount_gpu_cuda(num_decks: int, rng: np.random.Generator) -> Probabilities:\n",
    "  \"\"\"Compute hand probabilities using a bitcount approach by invoking a CUDA kernel.\"\"\"\n",
    "  device = cuda.get_current_device()\n",
    "  BLOCKS_PER_SM = 8\n",
    "  target_num_threads = THREADS_PER_BLOCK * BLOCKS_PER_SM * device.MULTIPROCESSOR_COUNT\n",
    "  decks_per_thread = max(1, num_decks // target_num_threads)\n",
    "  num_threads = num_decks // decks_per_thread\n",
    "  # print(f'{decks_per_thread=} {num_threads=}')\n",
    "  blocks = math.ceil(num_threads / THREADS_PER_BLOCK)\n",
    "  seed = rng.integers(2**64, dtype=np.uint64)\n",
    "  d_rng_states = random32.create_xoshiro128p_states(num_threads, seed)\n",
    "  d_global_tally = cuda.to_device(np.zeros(NUM_OUTCOMES, np.int64))\n",
    "  gpu_bitcount[blocks, THREADS_PER_BLOCK](d_rng_states, decks_per_thread, d_global_tally)\n",
    "  return d_global_tally.copy_to_host() / (num_threads * decks_per_thread * HANDS_PER_DECK)"
   ]
  },
  {
   "cell_type": "code",
   "execution_count": 51,
   "id": "2fe1fec3-f262-410f-938e-5fc22ad13727",
   "metadata": {
    "execution": {
     "iopub.execute_input": "2025-01-17T02:20:19.819115Z",
     "iopub.status.busy": "2025-01-17T02:20:19.818948Z",
     "iopub.status.idle": "2025-01-17T02:20:19.829921Z",
     "shell.execute_reply": "2025-01-17T02:20:19.829177Z",
     "shell.execute_reply.started": "2025-01-17T02:20:19.819101Z"
    }
   },
   "outputs": [],
   "source": [
    "# simulate_poker_hands(10**9, 'bitcount_gpu_cuda', simulate_hands_bitcount_gpu_cuda)  # ~9-11 G hands/s."
   ]
  },
  {
   "cell_type": "code",
   "execution_count": 52,
   "id": "958981de-2fde-480b-a15e-b761255c37c9",
   "metadata": {
    "execution": {
     "iopub.execute_input": "2025-01-17T02:20:19.831218Z",
     "iopub.status.busy": "2025-01-17T02:20:19.830845Z",
     "iopub.status.idle": "2025-01-17T02:20:20.542334Z",
     "shell.execute_reply": "2025-01-17T02:20:20.541653Z",
     "shell.execute_reply.started": "2025-01-17T02:20:19.831200Z"
    }
   },
   "outputs": [],
   "source": [
    "if cuda.is_available():\n",
    "  assert np.allclose(simulate_hands_bitcount_gpu_cuda(10**7, RNG), EXPECTED_PROB, atol=0.0001)"
   ]
  },
  {
   "cell_type": "code",
   "execution_count": 53,
   "id": "f3d4a20b-0082-4e4c-b752-6bacb0502053",
   "metadata": {
    "execution": {
     "iopub.execute_input": "2025-01-17T02:20:20.543753Z",
     "iopub.status.busy": "2025-01-17T02:20:20.543149Z",
     "iopub.status.idle": "2025-01-17T02:20:20.895131Z",
     "shell.execute_reply": "2025-01-17T02:20:20.894451Z",
     "shell.execute_reply.started": "2025-01-17T02:20:20.543736Z"
    }
   },
   "outputs": [
    {
     "name": "stdout",
     "output_type": "stream",
     "text": [
      "Timing:\n",
      "69.4 ms ± 640 µs per loop (mean ± std. dev. of 5 runs, 1 loop each)\n"
     ]
    }
   ],
   "source": [
    "if cuda.is_available():\n",
    "  print('Timing:')\n",
    "  %timeit -n1 -r5 simulate_hands_bitcount_gpu_cuda(2 * 10**7, RNG)  # ~85-120 ms."
   ]
  },
  {
   "cell_type": "code",
   "execution_count": 54,
   "id": "eb27c7ae-beb4-4cb0-a28f-8f520e2870c3",
   "metadata": {
    "execution": {
     "iopub.execute_input": "2025-01-17T02:20:20.896305Z",
     "iopub.status.busy": "2025-01-17T02:20:20.895974Z",
     "iopub.status.idle": "2025-01-17T02:20:20.902537Z",
     "shell.execute_reply": "2025-01-17T02:20:20.901833Z",
     "shell.execute_reply.started": "2025-01-17T02:20:20.896290Z"
    }
   },
   "outputs": [
    {
     "name": "stdout",
     "output_type": "stream",
     "text": [
      "const_mem_size = 0\n",
      "local_mem_per_thread = 0\n",
      "max_threads_per_block = 1024\n",
      "regs_per_thread = 41\n",
      "shared_mem_per_block = 23632\n"
     ]
    }
   ],
   "source": [
    "if cuda.is_available():\n",
    "  write_numba_assembly_code(gpu_bitcount, 'gpu_bitcount.ptx')\n",
    "  report_cuda_kernel_properties(gpu_bitcount)"
   ]
  },
  {
   "cell_type": "markdown",
   "id": "cd3e1702-ffd1-4ef4-89e1-c7c2ab82dd46",
   "metadata": {
    "lines_to_next_cell": 2
   },
   "source": [
    "## Approach 3: 52-bit deck bitmask"
   ]
  },
  {
   "cell_type": "markdown",
   "id": "0eb14d06-c85d-470a-aae6-ca18b3dd16c0",
   "metadata": {},
   "source": [
    "Because poker uses a single 52-card deck, we encode each card as a **single bit** within a 52-bit \"deck mask\" stored in a `uint64`.\n",
    "\n",
    "We represent a hand of five cards by simply `OR`-ing together the corresponding five \"deck masks\"."
   ]
  },
  {
   "cell_type": "code",
   "execution_count": 55,
   "id": "96609111-b143-4314-a44e-4aa1daac42c8",
   "metadata": {
    "execution": {
     "iopub.execute_input": "2025-01-17T02:20:20.903933Z",
     "iopub.status.busy": "2025-01-17T02:20:20.903564Z",
     "iopub.status.idle": "2025-01-17T02:20:20.909514Z",
     "shell.execute_reply": "2025-01-17T02:20:20.908817Z",
     "shell.execute_reply.started": "2025-01-17T02:20:20.903917Z"
    }
   },
   "outputs": [],
   "source": [
    "# Thanks to Marcel Gavriliu for this approach of storing card deck masks."
   ]
  },
  {
   "cell_type": "code",
   "execution_count": 56,
   "id": "c4a3ab39-474e-45ab-b041-d5f0d12f1d6b",
   "metadata": {
    "execution": {
     "iopub.execute_input": "2025-01-17T02:20:20.910974Z",
     "iopub.status.busy": "2025-01-17T02:20:20.910447Z",
     "iopub.status.idle": "2025-01-17T02:20:20.919180Z",
     "shell.execute_reply": "2025-01-17T02:20:20.918420Z",
     "shell.execute_reply.started": "2025-01-17T02:20:20.910954Z"
    }
   },
   "outputs": [],
   "source": [
    "THREADS_PER_BLOCK = 256"
   ]
  },
  {
   "cell_type": "markdown",
   "id": "33cdb091-9d1d-4b97-8fec-bf5a4ce29ea8",
   "metadata": {
    "lines_to_next_cell": 2
   },
   "source": [
    "### GPU simulation"
   ]
  },
  {
   "cell_type": "code",
   "execution_count": 57,
   "id": "c2c8f44f",
   "metadata": {
    "execution": {
     "iopub.execute_input": "2025-01-17T02:20:20.920516Z",
     "iopub.status.busy": "2025-01-17T02:20:20.920122Z",
     "iopub.status.idle": "2025-01-17T02:20:20.928950Z",
     "shell.execute_reply": "2025-01-17T02:20:20.928217Z",
     "shell.execute_reply.started": "2025-01-17T02:20:20.920500Z"
    }
   },
   "outputs": [],
   "source": [
    "@numba_njit(inline='always')\n",
    "def deckmask_of_card(card: numba.uint8) -> numba.uint64:\n",
    "  \"\"\"Return a deckmask of 52 bits encoding the suit and rank of `card` (in `range(52)`).\"\"\"\n",
    "  return numba.uint64(1) << numba.uint32(card)"
   ]
  },
  {
   "cell_type": "code",
   "execution_count": 58,
   "id": "2e9d75f9-77f9-4b58-95dd-9d724d61e152",
   "metadata": {
    "execution": {
     "iopub.execute_input": "2025-01-17T02:20:20.930002Z",
     "iopub.status.busy": "2025-01-17T02:20:20.929796Z",
     "iopub.status.idle": "2025-01-17T02:20:20.943408Z",
     "shell.execute_reply": "2025-01-17T02:20:20.942595Z",
     "shell.execute_reply.started": "2025-01-17T02:20:20.929988Z"
    }
   },
   "outputs": [],
   "source": [
    "@cuda.jit(fastmath=True)  # type: ignore[misc]\n",
    "def gpu_deckmask(rng_states: _CudaArray, decks_per_thread: int, global_tally: _CudaArray) -> None:\n",
    "  \"\"\"CUDA kernel to compute hand probabilities using a deck-mask approach.\"\"\"\n",
    "  # pylint: disable=too-many-function-args, no-value-for-parameter, comparison-with-callable\n",
    "  uint8, int32, uint32, float32 = numba.uint8, numba.int32, numba.uint32, numba.float32\n",
    "  popc = cuda.popc\n",
    "  thread_index = cuda.grid(1)\n",
    "  if thread_index >= len(rng_states):\n",
    "    return\n",
    "  thread_id = cuda.threadIdx.x  # Index within block.\n",
    "\n",
    "  # Per-thread hand outcome tallies (ROYAL_FLUSH, ..., HIGH_CARD).\n",
    "  t0 = t1 = t2 = t3 = t4 = t5 = t6 = t7 = t8 = t9 = uint32(0)\n",
    "\n",
    "  block_deck = cuda.shared.array((THREADS_PER_BLOCK, DECK_SIZE), np.uint8)\n",
    "  deck = block_deck[thread_id]\n",
    "\n",
    "  for i in range(uint8(DECK_SIZE)):  # Casting as uint8 nicely unrolls the loop.\n",
    "    deck[i] = i\n",
    "\n",
    "  rng = rng_states[thread_index]\n",
    "  s0, s1, s2, s3 = rng['s0'], rng['s1'], rng['s2'], rng['s3']\n",
    "\n",
    "  for _ in range(int32(decks_per_thread)):\n",
    "    # Apply Fisher-Yates shuffle to current deck, iteratively swapping [i] with any [0, ..., i].\n",
    "    i = uint32(51)\n",
    "    while i > 0:\n",
    "      random_uint32, s0, s1, s2, s3 = random32.xoshiro128p_next_raw(s0, s1, s2, s3)\n",
    "      random_uint32 = uint32(random_uint32)\n",
    "      s0, s1, s2, s3 = uint32(s0), uint32(s1), uint32(s2), uint32(s3)\n",
    "      j = uint32(float32(random_uint32) * float32((1.0 - 1e-7) / 2**32) * float32(int32(i + 1)))\n",
    "      deck[i], deck[j] = deck[j], deck[i]\n",
    "      i = uint32(i - 1)\n",
    "\n",
    "    mask0, mask1 = deckmask_of_card(deck[0]), deckmask_of_card(deck[1])\n",
    "    mask2, mask3 = deckmask_of_card(deck[2]), deckmask_of_card(deck[3])\n",
    "    deckmask = mask0 + mask1 + mask2 + mask3\n",
    "\n",
    "    card_index = uint32(4)\n",
    "    while card_index < uint32(DECK_SIZE):\n",
    "      mask4 = deckmask_of_card(deck[card_index])\n",
    "      deckmask += mask4  # No bit carries; same as \"deckmask |= mask4\".\n",
    "\n",
    "      # Extract four 13-bit masks for the ranks in each suit:\n",
    "      RANK_MASK = (1 << NUM_RANKS) - 1\n",
    "      r0 = uint32(uint32(deckmask >> (NUM_RANKS * 0)) & RANK_MASK)\n",
    "      r1 = uint32(uint32(deckmask >> (NUM_RANKS * 1)) & RANK_MASK)\n",
    "      r2 = uint32(uint32(deckmask >> (NUM_RANKS * 2)) & RANK_MASK)\n",
    "      r3 = uint32(uint32(deckmask >> (NUM_RANKS * 3)) & RANK_MASK)\n",
    "      ranks = uint32(r0 | r1 | r2 | r3)\n",
    "\n",
    "      is_flush = max(popc(r0), popc(r1), popc(r2), popc(r3)) == CARDS_FOR_A_FLUSH\n",
    "      bunched_bits = uint32(cuda.clz(ranks) + cuda.ffs(ranks)) == 32 - HAND_SIZE + 1\n",
    "      is_non_ace_low_straight = (popc(ranks) == CARDS_FOR_A_STRAIGHT) & bunched_bits\n",
    "      is_ace_low_straight = ranks == 0b1000000001111\n",
    "      is_straight = is_non_ace_low_straight or is_ace_low_straight\n",
    "      is_royal_straight = ranks == 0b1111100000000\n",
    "      fours = uint32(r0 & r1 & r2 & r3)\n",
    "      three_or_more = uint32((r0 & r1 & r2) | (r0 & r1 & r3) | (r0 & r2 & r3) | (r1 & r2 & r3))\n",
    "      two_or_more = uint32((r0 & r1) | (r0 & r2) | (r0 & r3) | (r1 & r2) | (r1 & r3) | (r2 & r3))\n",
    "      num_two_or_more = popc(two_or_more)\n",
    "\n",
    "      if is_flush and is_straight:\n",
    "        if is_royal_straight:\n",
    "          t0 = uint32(t0 + 1)  # ROYAL_FLUSH.\n",
    "        else:\n",
    "          t1 = uint32(t1 + 1)  # STRAIGHT_FLUSH.\n",
    "      elif fours != 0:\n",
    "        t2 = uint32(t2 + 1)  # FOUR_OF_A_KIND.\n",
    "      elif three_or_more != 0 and num_two_or_more > 1:\n",
    "        t3 = uint32(t3 + 1)  # FULL_HOUSE.\n",
    "      elif is_flush:\n",
    "        t4 = uint32(t4 + 1)  # FLUSH.\n",
    "      elif is_straight:\n",
    "        t5 = uint32(t5 + 1)  # STRAIGHT.\n",
    "      elif three_or_more != 0:\n",
    "        t6 = uint32(t6 + 1)  # THREE_OF_A_KIND.\n",
    "      elif num_two_or_more == 2:\n",
    "        t7 = uint32(t7 + 1)  # TWO_PAIR.\n",
    "      elif num_two_or_more == 1:\n",
    "        t8 = uint32(t8 + 1)  # ONE_PAIR.\n",
    "      else:\n",
    "        t9 = uint32(t9 + 1)  # HIGH_CARD.\n",
    "\n",
    "      deckmask -= mask0  # No bit carries; same as \"deckmask &= ~mask0\".\n",
    "      mask0, mask1, mask2, mask3 = mask1, mask2, mask3, mask4\n",
    "      card_index = uint32(card_index + 1)\n",
    "\n",
    "  if 0:  # Just as fast.\n",
    "    pairs = (0, t0), (1, t1), (2, t2), (3, t3), (4, t4), (5, t5), (6, t6), (7, t7), (8, t8), (9, t9)\n",
    "    for i, t in pairs:\n",
    "      cuda.atomic.add(global_tally, i, t)\n",
    "\n",
    "  else:\n",
    "    shared_tally = cuda.shared.array(NUM_OUTCOMES, np.uint64)\n",
    "    if thread_id == 0:\n",
    "      shared_tally[:] = 0\n",
    "    cuda.syncthreads()\n",
    "    pairs = (0, t0), (1, t1), (2, t2), (3, t3), (4, t4), (5, t5), (6, t6), (7, t7), (8, t8), (9, t9)\n",
    "    for i, t in pairs:\n",
    "      cuda.atomic.add(shared_tally, i, t)\n",
    "    cuda.syncthreads()\n",
    "    if thread_id == 0:\n",
    "      for i in range(NUM_OUTCOMES):\n",
    "        cuda.atomic.add(global_tally, i, shared_tally[i])"
   ]
  },
  {
   "cell_type": "code",
   "execution_count": 59,
   "id": "84d9e5c7-1656-46d6-af4e-1285d93fc6eb",
   "metadata": {
    "execution": {
     "iopub.execute_input": "2025-01-17T02:20:20.944616Z",
     "iopub.status.busy": "2025-01-17T02:20:20.944364Z",
     "iopub.status.idle": "2025-01-17T02:20:20.956366Z",
     "shell.execute_reply": "2025-01-17T02:20:20.955615Z",
     "shell.execute_reply.started": "2025-01-17T02:20:20.944599Z"
    }
   },
   "outputs": [],
   "source": [
    "def simulate_hands_deckmask_gpu_cuda(num_decks: int, rng: np.random.Generator) -> Probabilities:\n",
    "  \"\"\"Compute hand probabilities using a deckmask approach by invoking a CUDA kernel.\"\"\"\n",
    "  device = cuda.get_current_device()\n",
    "  BLOCKS_PER_SM = 8\n",
    "  target_num_threads = THREADS_PER_BLOCK * BLOCKS_PER_SM * device.MULTIPROCESSOR_COUNT\n",
    "  decks_per_thread = max(1, num_decks // target_num_threads)\n",
    "  num_threads = num_decks // decks_per_thread\n",
    "  # print(f'{decks_per_thread=} {num_threads=}')\n",
    "  blocks = math.ceil(num_threads / THREADS_PER_BLOCK)\n",
    "  seed = rng.integers(2**64, dtype=np.uint64)\n",
    "  d_rng_states = random32.create_xoshiro128p_states(num_threads, seed)\n",
    "  d_global_tally = cuda.to_device(np.zeros(NUM_OUTCOMES, np.int64))\n",
    "  gpu_deckmask[blocks, THREADS_PER_BLOCK](d_rng_states, decks_per_thread, d_global_tally)\n",
    "  return d_global_tally.copy_to_host() / (num_threads * decks_per_thread * HANDS_PER_DECK)"
   ]
  },
  {
   "cell_type": "code",
   "execution_count": 60,
   "id": "c96f0ca2-fb1c-461c-af4b-0e5333d14cb0",
   "metadata": {
    "execution": {
     "iopub.execute_input": "2025-01-17T02:20:20.957563Z",
     "iopub.status.busy": "2025-01-17T02:20:20.957144Z",
     "iopub.status.idle": "2025-01-17T02:20:21.644842Z",
     "shell.execute_reply": "2025-01-17T02:20:21.644148Z",
     "shell.execute_reply.started": "2025-01-17T02:20:20.957548Z"
    }
   },
   "outputs": [],
   "source": [
    "if cuda.is_available():\n",
    "  assert np.allclose(simulate_hands_deckmask_gpu_cuda(10**7, RNG), EXPECTED_PROB, atol=0.0001)"
   ]
  },
  {
   "cell_type": "code",
   "execution_count": 61,
   "id": "312ef11e-7930-46ed-b6a3-39021c6e5513",
   "metadata": {
    "execution": {
     "iopub.execute_input": "2025-01-17T02:20:21.645983Z",
     "iopub.status.busy": "2025-01-17T02:20:21.645652Z",
     "iopub.status.idle": "2025-01-17T02:20:22.008877Z",
     "shell.execute_reply": "2025-01-17T02:20:22.008161Z",
     "shell.execute_reply.started": "2025-01-17T02:20:21.645968Z"
    }
   },
   "outputs": [
    {
     "name": "stdout",
     "output_type": "stream",
     "text": [
      "Timing:\n",
      "71.7 ms ± 1.05 ms per loop (mean ± std. dev. of 5 runs, 1 loop each)\n"
     ]
    }
   ],
   "source": [
    "if cuda.is_available():\n",
    "  print('Timing:')\n",
    "  %timeit -n1 -r5 simulate_hands_deckmask_gpu_cuda(5 * 10**7, RNG)  # ~65-180 ms."
   ]
  },
  {
   "cell_type": "code",
   "execution_count": 62,
   "id": "d1b59455-e938-4834-aa43-a9512bfab654",
   "metadata": {
    "execution": {
     "iopub.execute_input": "2025-01-17T02:20:22.010153Z",
     "iopub.status.busy": "2025-01-17T02:20:22.009796Z",
     "iopub.status.idle": "2025-01-17T02:20:22.015794Z",
     "shell.execute_reply": "2025-01-17T02:20:22.015112Z",
     "shell.execute_reply.started": "2025-01-17T02:20:22.010137Z"
    }
   },
   "outputs": [
    {
     "name": "stdout",
     "output_type": "stream",
     "text": [
      "const_mem_size = 0\n",
      "local_mem_per_thread = 0\n",
      "max_threads_per_block = 1024\n",
      "regs_per_thread = 48\n",
      "shared_mem_per_block = 13392\n"
     ]
    }
   ],
   "source": [
    "if cuda.is_available():\n",
    "  write_numba_assembly_code(gpu_deckmask, 'gpu_deckmask.ptx')\n",
    "  report_cuda_kernel_properties(gpu_deckmask)"
   ]
  },
  {
   "cell_type": "code",
   "execution_count": 63,
   "id": "8cc47bdd-f254-4dec-a727-2e4f53c135bc",
   "metadata": {
    "execution": {
     "iopub.execute_input": "2025-01-17T02:20:22.017192Z",
     "iopub.status.busy": "2025-01-17T02:20:22.017025Z",
     "iopub.status.idle": "2025-01-17T02:20:22.023476Z",
     "shell.execute_reply": "2025-01-17T02:20:22.022757Z",
     "shell.execute_reply.started": "2025-01-17T02:20:22.017178Z"
    }
   },
   "outputs": [],
   "source": [
    "# simulate_poker_hands(10**10, 'deckmask_gpu_cuda', simulate_hands_deckmask_gpu_cuda)  # ~17-41 G hands/s."
   ]
  },
  {
   "cell_type": "markdown",
   "id": "d2bc4755-cde2-4223-80f0-5b02fc49a389",
   "metadata": {},
   "source": [
    "## Results"
   ]
  },
  {
   "cell_type": "code",
   "execution_count": 64,
   "id": "940da643-485f-4416-8020-0651a5eb867f",
   "metadata": {
    "execution": {
     "iopub.execute_input": "2025-01-17T02:20:22.024747Z",
     "iopub.status.busy": "2025-01-17T02:20:22.024295Z",
     "iopub.status.idle": "2025-01-17T02:20:22.033632Z",
     "shell.execute_reply": "2025-01-17T02:20:22.032757Z",
     "shell.execute_reply.started": "2025-01-17T02:20:22.024718Z"
    }
   },
   "outputs": [],
   "source": [
    "SIMULATE_FUNCTIONS = {\n",
    "    name: func\n",
    "    for name, func in {\n",
    "        'array_cpu_python': simulate_hands_array_cpu_python,\n",
    "        'array_cpu_numba': simulate_hands_array_cpu_numba,\n",
    "        'array_cpu_numba_multiprocess': simulate_hands_array_cpu_numba_multiprocess,\n",
    "        'array_gpu_cuda': simulate_hands_array_gpu_cuda,\n",
    "        'bitcount_cpu_numba': simulate_hands_bitcount_cpu_numba,\n",
    "        'bitcount_cpu_numba_multiprocess': simulate_hands_bitcount_cpu_numba_multiprocess,\n",
    "        'bitcount_gpu_cuda': simulate_hands_bitcount_gpu_cuda,\n",
    "        'deckmask_gpu_cuda': simulate_hands_deckmask_gpu_cuda,\n",
    "    }.items()\n",
    "    if ('multiprocess' not in name or MULTIPROCESS_IS_AVAILABLE)\n",
    "    and ('cuda' not in name or cuda.is_available())\n",
    "}"
   ]
  },
  {
   "cell_type": "code",
   "execution_count": 65,
   "id": "92bde0ec-7f24-4f13-b350-cc413094ab11",
   "metadata": {
    "execution": {
     "iopub.execute_input": "2025-01-17T02:20:22.035095Z",
     "iopub.status.busy": "2025-01-17T02:20:22.034669Z",
     "iopub.status.idle": "2025-01-17T02:20:22.046134Z",
     "shell.execute_reply": "2025-01-17T02:20:22.045286Z",
     "shell.execute_reply.started": "2025-01-17T02:20:22.035072Z"
    }
   },
   "outputs": [],
   "source": [
    "COMPLEXITY_ADJUSTMENT = {\n",
    "    'array_cpu_python': 0.01,\n",
    "    'array_cpu_numba': 2.0,\n",
    "    'array_cpu_numba_multiprocess': 20.0,\n",
    "    'array_gpu_cuda': 500.0,\n",
    "    'bitcount_cpu_numba': 2.0,\n",
    "    'bitcount_cpu_numba_multiprocess': 20.0,\n",
    "    'bitcount_gpu_cuda': 2000.0,\n",
    "    'deckmask_gpu_cuda': 4000.0,\n",
    "}"
   ]
  },
  {
   "cell_type": "code",
   "execution_count": 66,
   "id": "e7bd410e-681f-499c-b2bf-8303c7146423",
   "metadata": {
    "execution": {
     "iopub.execute_input": "2025-01-17T02:20:22.050249Z",
     "iopub.status.busy": "2025-01-17T02:20:22.049882Z",
     "iopub.status.idle": "2025-01-17T02:20:22.057111Z",
     "shell.execute_reply": "2025-01-17T02:20:22.056317Z",
     "shell.execute_reply.started": "2025-01-17T02:20:22.050234Z"
    }
   },
   "outputs": [],
   "source": [
    "def simulate_poker_hands(\n",
    "    desired_num_hands: int,\n",
    "    func_name: str,\n",
    "    func: Callable[[int, np.random.Generator], Probabilities],\n",
    "    verbose: bool = False,\n",
    ") -> None:\n",
    "  \"\"\"Report hand probabilities and timings using a particular approach.\"\"\"\n",
    "  num_decks = math.ceil(desired_num_hands / HANDS_PER_DECK)\n",
    "  num_hands = num_decks * HANDS_PER_DECK\n",
    "\n",
    "  # Ensure the function is jitted.\n",
    "  _ = func(num_decks // 10, RNG)\n",
    "\n",
    "  start_time = time.perf_counter_ns()\n",
    "  results = func(num_decks, RNG)\n",
    "  elapsed_time = (time.perf_counter_ns() - start_time) / 10**9\n",
    "\n",
    "  round_digits: Any = lambda x, ndigits=3: round(x, ndigits - 1 - math.floor(math.log10(abs(x))))\n",
    "  hands_per_s: float = round_digits(int(num_hands / elapsed_time))\n",
    "  print(\n",
    "      f'# {func_name:<32} {num_hands:18,} hands;'\n",
    "      f' {elapsed_time:.3f} s; {hands_per_s:17,} hands/s.'\n",
    "  )\n",
    "\n",
    "  if verbose:\n",
    "    print('#  Probabilities:')\n",
    "  sigmas = []\n",
    "  for outcome, result_prob in zip(Outcome, results):\n",
    "    reference_prob = outcome.reference_count / comb(DECK_SIZE, HAND_SIZE)\n",
    "    error = result_prob - reference_prob\n",
    "    estimate_sdv = (reference_prob * (1 - reference_prob) / num_hands) ** 0.5\n",
    "    sdv = error / estimate_sdv\n",
    "    sigmas.append(f' {sdv:6.2f}σ')\n",
    "    s = f'#   {outcome.string_name:<16}: {result_prob * 100:8.5f}%'\n",
    "    s += f'  (vs. ref. {reference_prob * 100:8.5f}%  error:{error * 100:8.5f}% {sdv:6.2f}σ)'\n",
    "    if verbose:\n",
    "      print(s)\n",
    "  if not verbose:\n",
    "    print('# ' + ''.join(sigmas))"
   ]
  },
  {
   "cell_type": "code",
   "execution_count": 67,
   "id": "8e7b84f2-5f6e-4e6a-9b3e-65621e1fba54",
   "metadata": {
    "execution": {
     "iopub.execute_input": "2025-01-17T02:20:22.058139Z",
     "iopub.status.busy": "2025-01-17T02:20:22.057912Z",
     "iopub.status.idle": "2025-01-17T02:20:22.317624Z",
     "shell.execute_reply": "2025-01-17T02:20:22.316811Z",
     "shell.execute_reply.started": "2025-01-17T02:20:22.058123Z"
    }
   },
   "outputs": [
    {
     "name": "stdout",
     "output_type": "stream",
     "text": [
      "# array_cpu_numba                          10,000,032 hands; 0.224 s;        44,600,000 hands/s.\n",
      "#  Probabilities:\n",
      "#   Royal flush     :  0.00000%  (vs. ref.  0.00015%  error:-0.00015%  -3.92σ)\n",
      "#   Straight flush  :  0.00110%  (vs. ref.  0.00139%  error:-0.00029%  -2.42σ)\n",
      "#   Four of a kind  :  0.02550%  (vs. ref.  0.02401%  error: 0.00149%   3.04σ)\n",
      "#   Full house      :  0.14570%  (vs. ref.  0.14406%  error: 0.00164%   1.37σ)\n",
      "#   Flush           :  0.18900%  (vs. ref.  0.19654%  error:-0.00754%  -5.38σ)\n",
      "#   Straight        :  0.37850%  (vs. ref.  0.39246%  error:-0.01397%  -7.06σ)\n",
      "#   Three of a kind :  2.11723%  (vs. ref.  2.11285%  error: 0.00439%   0.96σ)\n",
      "#   Two pair        :  4.80000%  (vs. ref.  4.75390%  error: 0.04610%   6.85σ)\n",
      "#   One pair        : 42.27622%  (vs. ref. 42.25690%  error: 0.01932%   1.24σ)\n",
      "#   High card       : 50.06674%  (vs. ref. 50.11774%  error:-0.05100%  -3.23σ)\n"
     ]
    }
   ],
   "source": [
    "simulate_poker_hands(10**7, 'array_cpu_numba', simulate_hands_array_cpu_numba, verbose=True)"
   ]
  },
  {
   "cell_type": "code",
   "execution_count": 68,
   "id": "e935c8b8-a126-4a4f-ae08-bbba8d6a80b4",
   "metadata": {
    "execution": {
     "iopub.execute_input": "2025-01-17T02:20:22.319037Z",
     "iopub.status.busy": "2025-01-17T02:20:22.318601Z",
     "iopub.status.idle": "2025-01-17T02:20:22.326919Z",
     "shell.execute_reply": "2025-01-17T02:20:22.326129Z",
     "shell.execute_reply.started": "2025-01-17T02:20:22.319019Z"
    }
   },
   "outputs": [],
   "source": [
    "def compare_simulations(base_num_hands: int, verbose: bool = False) -> None:\n",
    "  \"\"\"Report hand probabilities and timings using a variety of approaches on CPU and GPU.\"\"\"\n",
    "  for index, (func_name, func) in enumerate(SIMULATE_FUNCTIONS.items()):\n",
    "    if index:\n",
    "      print()\n",
    "    desired_num_hands = math.ceil(base_num_hands * COMPLEXITY_ADJUSTMENT[func_name])\n",
    "    simulate_poker_hands(desired_num_hands, func_name, func, verbose)"
   ]
  },
  {
   "cell_type": "code",
   "execution_count": 69,
   "id": "ca0e7a67-ca73-4e8f-b584-9368daefeb7e",
   "metadata": {
    "execution": {
     "iopub.execute_input": "2025-01-17T02:20:22.328404Z",
     "iopub.status.busy": "2025-01-17T02:20:22.327909Z",
     "iopub.status.idle": "2025-01-17T02:20:26.114973Z",
     "shell.execute_reply": "2025-01-17T02:20:26.114106Z",
     "shell.execute_reply.started": "2025-01-17T02:20:22.328381Z"
    }
   },
   "outputs": [
    {
     "name": "stdout",
     "output_type": "stream",
     "text": [
      "# array_cpu_python                            100,032 hands; 0.809 s;           124,000 hands/s.\n",
      "#   -0.39σ  -1.18σ  -0.82σ  -3.68σ   3.81σ   0.88σ  -3.29σ  -3.97σ   6.88σ  -4.30σ\n",
      "\n",
      "# array_cpu_numba                          20,000,016 hands; 0.438 s;        45,700,000 hands/s.\n",
      "#    7.07σ   1.98σ  -3.06σ   5.95σ  -1.20σ   1.71σ   0.31σ   5.04σ   0.19σ  -2.92σ\n",
      "\n",
      "# array_cpu_numba_multiprocess            200,000,016 hands; 0.471 s;       424,000,000 hands/s.\n",
      "#   -5.01σ   3.98σ  -2.14σ   2.85σ  -3.38σ   2.45σ   0.20σ   0.22σ  -1.71σ   1.37σ\n",
      "\n",
      "# array_gpu_cuda                        5,000,000,016 hands; 0.312 s;    16,000,000,000 hands/s.\n",
      "#    0.66σ   0.42σ   1.53σ   2.25σ  -0.52σ  -0.55σ  -1.63σ  -1.80σ   1.11σ   0.03σ\n",
      "\n",
      "# bitcount_cpu_numba                       20,000,016 hands; 0.148 s;       135,000,000 hands/s.\n",
      "#    1.66σ  -1.02σ   0.84σ  -0.95σ  -6.05σ   1.96σ   6.39σ   7.11σ  -2.39σ  -2.16σ\n",
      "\n",
      "# bitcount_cpu_numba_multiprocess         200,000,016 hands; 0.233 s;       859,000,000 hands/s.\n",
      "#   -1.02σ  -0.39σ   0.05σ   3.29σ  -0.19σ  10.70σ   0.68σ   2.64σ  -6.10σ   3.15σ\n",
      "\n",
      "# bitcount_gpu_cuda                    20,000,000,016 hands; 0.357 s;    56,000,000,000 hands/s.\n",
      "#   -0.09σ  -1.27σ  -0.11σ  -0.59σ   0.78σ   0.52σ   0.58σ  -0.60σ  -1.09σ   1.09σ\n",
      "\n",
      "# deckmask_gpu_cuda                    40,000,000,032 hands; 0.334 s;   120,000,000,000 hands/s.\n",
      "#    0.40σ  -1.11σ   1.19σ  -1.18σ  -1.07σ   0.00σ   2.25σ  -0.08σ  -1.80σ   1.32σ\n"
     ]
    }
   ],
   "source": [
    "compare_simulations(base_num_hands=10**7)"
   ]
  },
  {
   "cell_type": "code",
   "execution_count": 70,
   "id": "4ef83cc9-da12-486c-b9f5-dc8f644304d6",
   "metadata": {
    "execution": {
     "iopub.execute_input": "2025-01-17T02:20:26.116219Z",
     "iopub.status.busy": "2025-01-17T02:20:26.115997Z",
     "iopub.status.idle": "2025-01-17T02:20:26.120029Z",
     "shell.execute_reply": "2025-01-17T02:20:26.119266Z",
     "shell.execute_reply.started": "2025-01-17T02:20:26.116200Z"
    }
   },
   "outputs": [],
   "source": [
    "# Hands/s: 135k, 44m, 470m, 16g, 135m, 890m, 57g, 120g."
   ]
  },
  {
   "cell_type": "code",
   "execution_count": 71,
   "id": "4e2c58e2-5b87-4232-a96e-10e2773625cb",
   "metadata": {
    "execution": {
     "iopub.execute_input": "2025-01-17T02:20:26.121201Z",
     "iopub.status.busy": "2025-01-17T02:20:26.120875Z",
     "iopub.status.idle": "2025-01-17T02:20:41.919286Z",
     "shell.execute_reply": "2025-01-17T02:20:41.918506Z",
     "shell.execute_reply.started": "2025-01-17T02:20:26.121186Z"
    }
   },
   "outputs": [
    {
     "name": "stdout",
     "output_type": "stream",
     "text": [
      "# bitcount_gpu_cuda                 1,000,000,000,032 hands; 14.244 s;    70,200,000,000 hands/s.\n",
      "#   -0.29σ  -1.58σ  -3.30σ  -2.35σ   0.44σ   1.77σ   2.26σ  -3.16σ  -1.24σ   1.95σ\n"
     ]
    }
   ],
   "source": [
    "if 1:\n",
    "  if cuda.is_available():\n",
    "    simulate_poker_hands(10**12, 'bitcount_gpu_cuda', simulate_hands_bitcount_gpu_cuda)"
   ]
  },
  {
   "cell_type": "code",
   "execution_count": 72,
   "id": "628c75a6-c775-46f7-83ff-8baa85a685f2",
   "metadata": {
    "execution": {
     "iopub.execute_input": "2025-01-17T02:20:41.920579Z",
     "iopub.status.busy": "2025-01-17T02:20:41.920226Z",
     "iopub.status.idle": "2025-01-17T02:20:41.923745Z",
     "shell.execute_reply": "2025-01-17T02:20:41.923094Z",
     "shell.execute_reply.started": "2025-01-17T02:20:41.920561Z"
    }
   },
   "outputs": [],
   "source": [
    "# For bitcount_gpu_cuda                1,000,000,000,032 hands; 14.303 s; 69,900,000,000 hands/s.\n",
    "#      0.37σ  -0.78σ   1.09σ  -0.53σ  -0.53σ  -0.72σ  -1.61σ  -0.95σ  -0.91σ   1.91σ"
   ]
  },
  {
   "cell_type": "code",
   "execution_count": 73,
   "id": "cb199233",
   "metadata": {
    "execution": {
     "iopub.execute_input": "2025-01-17T02:20:41.924710Z",
     "iopub.status.busy": "2025-01-17T02:20:41.924416Z",
     "iopub.status.idle": "2025-01-17T02:20:49.539104Z",
     "shell.execute_reply": "2025-01-17T02:20:49.538340Z",
     "shell.execute_reply.started": "2025-01-17T02:20:41.924696Z"
    }
   },
   "outputs": [
    {
     "name": "stdout",
     "output_type": "stream",
     "text": [
      "# deckmask_gpu_cuda                 1,000,000,000,032 hands; 6.837 s;   146,000,000,000 hands/s.\n",
      "#   -1.35σ   0.85σ  -1.59σ  -1.16σ   0.32σ   0.72σ  -0.62σ   1.59σ   1.15σ  -1.62σ\n"
     ]
    }
   ],
   "source": [
    "if 1:\n",
    "  if cuda.is_available():\n",
    "    simulate_poker_hands(10**12, 'deckmask_gpu_cuda', simulate_hands_deckmask_gpu_cuda)"
   ]
  },
  {
   "cell_type": "code",
   "execution_count": 74,
   "id": "6f7c81eb-f53c-44a3-a153-23c2e790d2bc",
   "metadata": {
    "execution": {
     "iopub.execute_input": "2025-01-17T02:20:49.540393Z",
     "iopub.status.busy": "2025-01-17T02:20:49.540016Z",
     "iopub.status.idle": "2025-01-17T02:20:49.543672Z",
     "shell.execute_reply": "2025-01-17T02:20:49.543044Z",
     "shell.execute_reply.started": "2025-01-17T02:20:49.540375Z"
    }
   },
   "outputs": [],
   "source": [
    "# For deckmask_gpu_cuda                1,000,000,000,032 hands; 6.777 s; 148,000,000,000 hands/s.\n",
    "#     -0.07σ  -1.39σ   1.84σ   1.33σ   0.81σ  -1.17σ  -1.01σ  -0.69σ  -0.40σ   0.91σ"
   ]
  },
  {
   "cell_type": "markdown",
   "id": "53b10704-3a4b-4b0e-b0ac-711b2afed9bd",
   "metadata": {},
   "source": [
    "## End"
   ]
  }
 ],
 "metadata": {
  "colab": {
   "collapsed_sections": [],
   "provenance": [],
   "toc_visible": true
  },
  "jupytext": {
   "cell_metadata_filter": "-all",
   "formats": "ipynb,py:percent",
   "main_language": "python",
   "notebook_metadata_filter": "-all"
  },
  "kernelspec": {
   "display_name": "Python 3 (ipykernel)",
   "language": "python",
   "name": "python3"
  },
  "language_info": {
   "codemirror_mode": {
    "name": "ipython",
    "version": 3
   },
   "file_extension": ".py",
   "mimetype": "text/x-python",
   "name": "python",
   "nbconvert_exporter": "python",
   "pygments_lexer": "ipython3",
   "version": "3.10.12"
  }
 },
 "nbformat": 4,
 "nbformat_minor": 5
}
