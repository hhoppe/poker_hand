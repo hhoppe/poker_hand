{
 "cells": [
  {
   "cell_type": "markdown",
   "id": "f819c4f7",
   "metadata": {},
   "source": [
    "# Poker hand simulation\n",
    "\n",
    "This notebook is a simple testbed to experiment with Python acceleration using `numba` (CPU-jitted code) and `numba.cuda` (GPU CUDA-jitted code).\n",
    "\n",
    "We estimate poker hand probabilities using Monte Carlo simulation and compare results with known reference values.\n",
    "\n",
    "We compare execution speeds using Python, `numba`, `numba` with multiprocessing, and `numba.cuda`.\n",
    "\n",
    "Websites on which to run this notebook include:\n",
    "\n",
    "- [Open in Google Colab](https://colab.research.google.com/github/hhoppe/poker_hand/blob/main/poker_hand.ipynb), click on Runtime -> Change runtime type -> T4 GPU, and then Runtime -> Run all.\n",
    "\n",
    "- [Open in kaggle.com](https://www.kaggle.com/notebooks/welcome?src=https://github.com/hhoppe/poker_hand/blob/main/poker_hand.ipynb), click on Session options -> Accelerator -> GPU T4 x2 or P100, then Run All.\n",
    "\n",
    "- [Open in mybinder.org](https://mybinder.org/v2/gh/hhoppe/poker_hand/main?urlpath=lab/tree/poker_hand.ipynb).  Unfortunately, no GPU is available.\n",
    "\n",
    "- [Open in deepnote.com](https://deepnote.com/launch?url=https%3A%2F%2Fgithub.com%2Fhhoppe%2Fpoker_hand%2Fblob%2Fmain%2Fpoker_hand.ipynb).  Unfortunately, no GPU is available.\n",
    "\n",
    "Here are results:"
   ]
  },
  {
   "cell_type": "markdown",
   "id": "9d5d9096-b348-4ac2-a0f7-b1d0382e9fd8",
   "metadata": {},
   "source": [
    "<table style=\"margin-left: 0\">\n",
    "<tr>\n",
    "  <th>Platform</th>\n",
    "  <th style=\"text-align: center\">CPU<br>threads</th>\n",
    "  <th style=\"text-align: center\">GPU<br>type</th>\n",
    "  <th style=\"text-align: center\">CUDA<br>SMs</th>\n",
    "  <th colspan=\"4\">Simulation rate (hands/s)</th>\n",
    "</tr>\n",
    "<tr>\n",
    "  <th></th>\n",
    "  <th></th>\n",
    "  <th></th>\n",
    "  <th></th>\n",
    "  <th>Python</th>\n",
    "  <th>Numba</th>\n",
    "  <th>Multiprocess</th>\n",
    "  <th>CUDA</th>\n",
    "</tr>\n",
    "<tr>\n",
    "  <td><b>My PC</b> Win10</td>\n",
    "  <td style=\"text-align: center\">24</td>\n",
    "  <td style=\"text-align: center\">GeForce 3080 Ti</td>\n",
    "  <td style=\"text-align: center\">80</td>\n",
    "  <td style=\"text-align: right\">24,600</td>\n",
    "  <td style=\"text-align: right\">10,000,000</td>\n",
    "  <td style=\"text-align: right\">-</td>\n",
    "  <td style=\"text-align: right\">840,000,000</td>\n",
    "</tr>\n",
    "<tr>\n",
    "  <td><b>My PC</b> WSL2</td>\n",
    "  <td style=\"text-align: center\">24</td>\n",
    "  <td style=\"text-align: center\">GeForce 3080 Ti</td>\n",
    "  <td style=\"text-align: center\">80</td>\n",
    "  <td style=\"text-align: right\">116,000</td>\n",
    "  <td style=\"text-align: right\">7,390,000</td>\n",
    "  <td style=\"text-align: right\">81,500,000</td>\n",
    "  <td style=\"text-align: right\">780,000,000</td>\n",
    "</tr>\n",
    "<tr>\n",
    "  <td><b>Marcel PC</b> Win</td>\n",
    "  <td style=\"text-align: center\">24</td>\n",
    "  <td style=\"text-align: center\">Titan V</td>\n",
    "  <td style=\"text-align: center\">80</td>\n",
    "  <td style=\"text-align: right\">62,800</td>\n",
    "  <td style=\"text-align: right\">5,160,000</td>\n",
    "  <td style=\"text-align: right\">-</td>\n",
    "  <td style=\"text-align: right\">2,280,000,000</td>\n",
    "</tr><tr>\n",
    "  <td><a href=\"https://colab.research.google.com/github/hhoppe/poker_hand/blob/main/poker_hand.ipynb\"><b>Colab</b> T4</a></td>\n",
    "  <td style=\"text-align: center\">2</td>\n",
    "  <td style=\"text-align: center\">Tesla T4</td>\n",
    "  <td style=\"text-align: center\">40</td>\n",
    "  <td style=\"text-align: right\">14,500</td>\n",
    "  <td style=\"text-align: right\">3,980,000</td>\n",
    "  <td style=\"text-align: right\">4,270,000</td>\n",
    "  <td style=\"text-align: right\">1,660,000,000</td>\n",
    "</tr>\n",
    "<tr>\n",
    "  <td><a href=\"https://www.kaggle.com/notebooks/welcome?src=https://github.com/hhoppe/poker_hand/blob/main/poker_hand.ipynb\"><b>Kaggle</b> T4</a></td>\n",
    "  <td style=\"text-align: center\">4</td>\n",
    "  <td style=\"text-align: center\">Tesla T4 x2</td>\n",
    "  <td style=\"text-align: center\">40</td>\n",
    "  <td style=\"text-align: right\">17,300</td>\n",
    "  <td style=\"text-align: right\">4,100,000</td>\n",
    "  <td style=\"text-align: right\">9,130,000</td>\n",
    "  <td style=\"text-align: right\">1,820,000,000</td>\n",
    "</tr>\n",
    "<tr>\n",
    "  <td><b>Kaggle</b> P100</td>\n",
    "  <td style=\"text-align: center\">4</td>\n",
    "  <td style=\"text-align: center\">Tesla P100</td>\n",
    "  <td style=\"text-align: center\">56</td>\n",
    "  <td style=\"text-align: right\">18,000</td>\n",
    "  <td style=\"text-align: right\">4,070,000</td>\n",
    "  <td style=\"text-align: right\">9,900,000</td>\n",
    "  <td style=\"text-align: right\">1,120,000,000</td>\n",
    "</tr>\n",
    "<tr>\n",
    "  <td><a href=\"https://mybinder.org/v2/gh/hhoppe/poker_hand/main?urlpath=lab/tree/poker_hand.ipynb\"><b>mybinder</b></a></td>\n",
    "  <td style=\"text-align: center\">72</td>\n",
    "  <td style=\"text-align: center\">None</td>\n",
    "  <td style=\"text-align: center\">-</td>\n",
    "  <td style=\"text-align: right\">16,000</td>\n",
    "  <td style=\"text-align: right\">1,210,000</td>\n",
    "  <td style=\"text-align: right\">740,000</td>\n",
    "  <td style=\"text-align: right\">-</td>\n",
    "</tr>\n",
    "<tr>\n",
    "  <td><a href=\"https://deepnote.com/launch?url=https%3A%2F%2Fgithub.com%2Fhhoppe%2Fpoker_hand%2Fblob%2Fmain%2Fpoker_hand.ipynb\"><b>deepnote</b></a></td>\n",
    "  <td style=\"text-align: center\">8</td>\n",
    "  <td style=\"text-align: center\">None</td>\n",
    "  <td style=\"text-align: center\">-</td>\n",
    "  <td style=\"text-align: right\">14,200</td>\n",
    "  <td style=\"text-align: right\">3,950,000</td>\n",
    "  <td style=\"text-align: right\">2,840,000</td>\n",
    "  <td style=\"text-align: right\">-</td>\n",
    "</tr>\n",
    "</table>"
   ]
  },
  {
   "cell_type": "markdown",
   "id": "17ce3127-cbd5-445b-900d-6c01ddac60a7",
   "metadata": {},
   "source": [
    "It is puzzling that the CUDA rate is lower on my PC than on the online servers."
   ]
  },
  {
   "cell_type": "markdown",
   "id": "926b7255-e5af-473f-809b-000987e06690",
   "metadata": {},
   "source": [
    "### Imports"
   ]
  },
  {
   "cell_type": "code",
   "execution_count": 1,
   "id": "96f8b5b5-8cda-4b5f-8b07-145cf83d0dfd",
   "metadata": {
    "execution": {
     "iopub.execute_input": "2025-01-04T00:49:49.307012Z",
     "iopub.status.busy": "2025-01-04T00:49:49.306675Z",
     "iopub.status.idle": "2025-01-04T00:49:50.477161Z",
     "shell.execute_reply": "2025-01-04T00:49:50.476598Z",
     "shell.execute_reply.started": "2025-01-04T00:49:49.306998Z"
    }
   },
   "outputs": [],
   "source": [
    "!pip install -q numba"
   ]
  },
  {
   "cell_type": "code",
   "execution_count": 2,
   "id": "dcbbf9c8-8c10-49f8-827a-737924f93a72",
   "metadata": {
    "execution": {
     "iopub.execute_input": "2025-01-04T00:49:50.477994Z",
     "iopub.status.busy": "2025-01-04T00:49:50.477855Z",
     "iopub.status.idle": "2025-01-04T00:49:50.480677Z",
     "shell.execute_reply": "2025-01-04T00:49:50.480188Z",
     "shell.execute_reply.started": "2025-01-04T00:49:50.477981Z"
    }
   },
   "outputs": [],
   "source": [
    "# import os\n",
    "# os.environ['NUMBA_ENABLE_CUDASIM'] = '1'\n",
    "# os.environ['NUMBA_CUDA_DEBUGINFO'] = '1'"
   ]
  },
  {
   "cell_type": "code",
   "execution_count": 3,
   "id": "b7672379",
   "metadata": {
    "execution": {
     "iopub.execute_input": "2025-01-04T00:49:50.481524Z",
     "iopub.status.busy": "2025-01-04T00:49:50.481276Z",
     "iopub.status.idle": "2025-01-04T00:49:50.761452Z",
     "shell.execute_reply": "2025-01-04T00:49:50.760802Z",
     "shell.execute_reply.started": "2025-01-04T00:49:50.481500Z"
    },
    "lines_to_next_cell": 2,
    "tags": []
   },
   "outputs": [],
   "source": [
    "import enum\n",
    "import math\n",
    "import multiprocessing\n",
    "import pathlib\n",
    "import time\n",
    "from typing import Any\n",
    "\n",
    "import numba\n",
    "from numba import cuda\n",
    "import numba.cuda.random\n",
    "import numpy as np"
   ]
  },
  {
   "cell_type": "code",
   "execution_count": 4,
   "id": "40f2522d-afa5-4bf8-9f0a-5623defb8c46",
   "metadata": {
    "execution": {
     "iopub.execute_input": "2025-01-04T00:49:50.762508Z",
     "iopub.status.busy": "2025-01-04T00:49:50.762161Z",
     "iopub.status.idle": "2025-01-04T00:49:50.765599Z",
     "shell.execute_reply": "2025-01-04T00:49:50.765037Z",
     "shell.execute_reply.started": "2025-01-04T00:49:50.762491Z"
    }
   },
   "outputs": [
    {
     "name": "stdout",
     "output_type": "stream",
     "text": [
      "The number of CPU threads is 24.\n"
     ]
    }
   ],
   "source": [
    "print(f'The number of CPU threads is {multiprocessing.cpu_count()}.')"
   ]
  },
  {
   "cell_type": "code",
   "execution_count": 5,
   "id": "23e84adb-9b5e-4ba9-97bd-bdb7c0f92cae",
   "metadata": {
    "execution": {
     "iopub.execute_input": "2025-01-04T00:49:50.766546Z",
     "iopub.status.busy": "2025-01-04T00:49:50.766275Z",
     "iopub.status.idle": "2025-01-04T00:49:51.088805Z",
     "shell.execute_reply": "2025-01-04T00:49:51.088111Z",
     "shell.execute_reply.started": "2025-01-04T00:49:50.766532Z"
    },
    "lines_to_next_cell": 2
   },
   "outputs": [
    {
     "name": "stdout",
     "output_type": "stream",
     "text": [
      "Found 1 CUDA devices\n",
      "id 0    b'NVIDIA GeForce RTX 3080 Ti'                              [SUPPORTED]\n",
      "                      Compute Capability: 8.6\n",
      "                           PCI Device ID: 0\n",
      "                              PCI Bus ID: 10\n",
      "                                    UUID: GPU-e50896f3-f795-945c-9c59-fffc57278834\n",
      "                                Watchdog: Enabled\n",
      "             FP32/FP64 Performance Ratio: 32\n",
      "Summary:\n",
      "\t1/1 devices are supported\n",
      "The number of GPU SMs is 80\n"
     ]
    }
   ],
   "source": [
    "if cuda.is_available() and cuda.detect():\n",
    "  print(f'The number of GPU SMs is {cuda.get_current_device().MULTIPROCESSOR_COUNT}')"
   ]
  },
  {
   "cell_type": "markdown",
   "id": "e5af2c7f-c334-49ad-9afb-fb73cf6d7db4",
   "metadata": {
    "execution": {
     "iopub.execute_input": "2024-12-29T01:42:55.940070Z",
     "iopub.status.busy": "2024-12-29T01:42:55.939661Z",
     "iopub.status.idle": "2024-12-29T01:42:55.942841Z",
     "shell.execute_reply": "2024-12-29T01:42:55.942254Z",
     "shell.execute_reply.started": "2024-12-29T01:42:55.940047Z"
    },
    "lines_to_next_cell": 2
   },
   "source": [
    "### Hand evaluation"
   ]
  },
  {
   "cell_type": "code",
   "execution_count": 6,
   "id": "ef774393-1e4a-4120-a477-0f637b2c87e7",
   "metadata": {
    "execution": {
     "iopub.execute_input": "2025-01-04T00:49:51.090768Z",
     "iopub.status.busy": "2025-01-04T00:49:51.090461Z",
     "iopub.status.idle": "2025-01-04T00:49:51.094371Z",
     "shell.execute_reply": "2025-01-04T00:49:51.093810Z",
     "shell.execute_reply.started": "2025-01-04T00:49:51.090752Z"
    }
   },
   "outputs": [],
   "source": [
    "class Outcome(enum.IntEnum):\n",
    "  \"\"\"Poker hand rankings from best to worst.\"\"\"\n",
    "\n",
    "  ROYAL_FLUSH = 0\n",
    "  STRAIGHT_FLUSH = 1\n",
    "  FOUR_OF_A_KIND = 2\n",
    "  FULL_HOUSE = 3\n",
    "  FLUSH = 4\n",
    "  STRAIGHT = 5\n",
    "  THREE_OF_A_KIND = 6\n",
    "  TWO_PAIR = 7\n",
    "  ONE_PAIR = 8\n",
    "  HIGH_CARD = 9"
   ]
  },
  {
   "cell_type": "code",
   "execution_count": 7,
   "id": "16cb8893-08da-4397-93c1-edb44fe8b06b",
   "metadata": {
    "execution": {
     "iopub.execute_input": "2025-01-04T00:49:51.095774Z",
     "iopub.status.busy": "2025-01-04T00:49:51.095031Z",
     "iopub.status.idle": "2025-01-04T00:49:51.104181Z",
     "shell.execute_reply": "2025-01-04T00:49:51.103557Z",
     "shell.execute_reply.started": "2025-01-04T00:49:51.095758Z"
    }
   },
   "outputs": [],
   "source": [
    "DECK_SIZE = 52\n",
    "NUM_RANKS = 13\n",
    "HAND_SIZE = 5\n",
    "HANDS_PER_DECK = DECK_SIZE - HAND_SIZE + 1\n",
    "NUM_OUTCOMES = len(Outcome)"
   ]
  },
  {
   "cell_type": "code",
   "execution_count": 8,
   "id": "de8da80d-4627-4d1a-b9f6-9e1e26f062f2",
   "metadata": {
    "execution": {
     "iopub.execute_input": "2025-01-04T00:49:51.105375Z",
     "iopub.status.busy": "2025-01-04T00:49:51.105050Z",
     "iopub.status.idle": "2025-01-04T00:49:51.113918Z",
     "shell.execute_reply": "2025-01-04T00:49:51.113311Z",
     "shell.execute_reply.started": "2025-01-04T00:49:51.105362Z"
    }
   },
   "outputs": [],
   "source": [
    "def evaluate_hand_python(cards, ranks, freqs):\n",
    "  \"\"\"Evaluate 5-card poker hand and return outcome ranking.\n",
    "\n",
    "  Args:\n",
    "    cards: List of 5 integers representing cards (0-51).\n",
    "    ranks: Pre-allocated array for storing sorted ranks.\n",
    "    freqs: Pre-allocated array for counting rank frequencies.\n",
    "\n",
    "  Returns:\n",
    "    Integer representing hand ranking (see Outcome enum).\n",
    "  \"\"\"\n",
    "\n",
    "  def get_rank(card: int) -> int:\n",
    "    return card >> 2  # In range(NUM_RANKS), ordered '23456789TJQKA'.\n",
    "\n",
    "  def get_suit(card: int) -> int:\n",
    "    return card & 0b11  # In range(4).\n",
    "\n",
    "  # Sort cards by rank for easier pattern matching, using simple insertion sort.\n",
    "  for i in range(HAND_SIZE):\n",
    "    ranks[i] = get_rank(cards[i])\n",
    "  # ranks.sort()\n",
    "  for i in range(1, HAND_SIZE):\n",
    "    key = ranks[i]\n",
    "    j = i - 1\n",
    "    while j >= 0 and ranks[j] > key:\n",
    "      ranks[j + 1] = ranks[j]\n",
    "      j -= 1\n",
    "    ranks[j + 1] = key\n",
    "\n",
    "  # is_flush = all(card == cards[0] for card in cards[1:])\n",
    "  c0, c1, c2, c3, c4 = cards[0], cards[1], cards[2], cards[3], cards[4]\n",
    "  is_flush = get_suit(c0) == get_suit(c1) == get_suit(c2) == get_suit(c3) == get_suit(c4)\n",
    "\n",
    "  r0, r1, r2, r3, r4 = ranks\n",
    "  is_straight = r1 - r0 == r2 - r1 == r3 - r2 == 1 and r4 - r3 in (1, 9)  # 9 for ace-low 'A2345'.\n",
    "\n",
    "  # Count rank frequencies.\n",
    "  freqs[:] = 0\n",
    "  for rank in ranks:\n",
    "    freqs[rank] += 1\n",
    "  max_freq = max(freqs)\n",
    "\n",
    "  # num_pairs = np.sum(freqs == 2)\n",
    "  num_pairs = 0\n",
    "  for i in range(NUM_RANKS):\n",
    "    if freqs[i] == 2:\n",
    "      num_pairs += 1\n",
    "\n",
    "  if is_flush and is_straight:\n",
    "    if ranks[0] == 8:\n",
    "      return Outcome.ROYAL_FLUSH.value\n",
    "    return Outcome.STRAIGHT_FLUSH.value\n",
    "  if max_freq == 4:\n",
    "    return Outcome.FOUR_OF_A_KIND.value\n",
    "  if max_freq == 3 and num_pairs > 0:\n",
    "    return Outcome.FULL_HOUSE.value\n",
    "  if is_flush:\n",
    "    return Outcome.FLUSH.value\n",
    "  if is_straight:\n",
    "    return Outcome.STRAIGHT.value\n",
    "  if max_freq == 3:\n",
    "    return Outcome.THREE_OF_A_KIND.value\n",
    "  if max_freq == 2:\n",
    "    if num_pairs == 2:\n",
    "      return Outcome.TWO_PAIR.value\n",
    "    return Outcome.ONE_PAIR.value\n",
    "  return Outcome.HIGH_CARD.value"
   ]
  },
  {
   "cell_type": "code",
   "execution_count": 9,
   "id": "8676ddc6-f14c-4fe3-8316-249f247439ad",
   "metadata": {
    "execution": {
     "iopub.execute_input": "2025-01-04T00:49:51.114734Z",
     "iopub.status.busy": "2025-01-04T00:49:51.114586Z",
     "iopub.status.idle": "2025-01-04T00:49:51.125321Z",
     "shell.execute_reply": "2025-01-04T00:49:51.124756Z",
     "shell.execute_reply.started": "2025-01-04T00:49:51.114723Z"
    }
   },
   "outputs": [],
   "source": [
    "evaluate_hand_numba = numba.njit(evaluate_hand_python)"
   ]
  },
  {
   "cell_type": "markdown",
   "id": "b2c72168-c7d6-4792-9ea9-ee887733a7e1",
   "metadata": {
    "execution": {
     "iopub.execute_input": "2024-12-29T01:43:09.066669Z",
     "iopub.status.busy": "2024-12-29T01:43:09.066142Z",
     "iopub.status.idle": "2024-12-29T01:43:09.069033Z",
     "shell.execute_reply": "2024-12-29T01:43:09.068530Z",
     "shell.execute_reply.started": "2024-12-29T01:43:09.066653Z"
    },
    "lines_to_next_cell": 2
   },
   "source": [
    "### CPU simulation"
   ]
  },
  {
   "cell_type": "code",
   "execution_count": 12,
   "id": "61102c48-3b12-497c-adcd-a5dab40f1ac7",
   "metadata": {
    "execution": {
     "iopub.execute_input": "2025-01-04T00:49:51.149462Z",
     "iopub.status.busy": "2025-01-04T00:49:51.149115Z",
     "iopub.status.idle": "2025-01-04T00:49:51.157688Z",
     "shell.execute_reply": "2025-01-04T00:49:51.157138Z",
     "shell.execute_reply.started": "2025-01-04T00:49:51.149448Z"
    }
   },
   "outputs": [],
   "source": [
    "def make_compute_cpu(evaluate_hand):\n",
    "  # Return a specialized compute_cpu function for the given evaluate_hand function.\n",
    "\n",
    "  def compute_cpu(num_decks, rng):\n",
    "    BLOCK_SIZE = 10\n",
    "    deck_block = np.arange(DECK_SIZE, dtype=np.uint8).repeat(BLOCK_SIZE).reshape(-1, DECK_SIZE)\n",
    "    ranks = np.empty(HAND_SIZE, np.uint8)\n",
    "    freqs = np.empty(NUM_RANKS, np.int8)\n",
    "    tally = np.zeros(NUM_OUTCOMES, np.int64)\n",
    "    for deck_index_start in range(0, num_decks, BLOCK_SIZE):\n",
    "      deck_block2 = rng.permutation(deck_block, axis=1)\n",
    "      for deck_index in range(deck_index_start, min(deck_index_start + BLOCK_SIZE, num_decks)):\n",
    "        deck = deck_block2[deck_index - deck_index_start]\n",
    "        for hand_index in range(HANDS_PER_DECK):\n",
    "          hand = deck[hand_index : hand_index + 5]\n",
    "          outcome = evaluate_hand(hand, ranks, freqs)\n",
    "          tally[outcome] += 1\n",
    "    return tally / (num_decks * HANDS_PER_DECK)\n",
    "\n",
    "  return compute_cpu"
   ]
  },
  {
   "cell_type": "code",
   "execution_count": 13,
   "id": "b7e33708-c91f-486c-bb02-71da114e1a69",
   "metadata": {
    "execution": {
     "iopub.execute_input": "2025-01-04T00:49:51.158525Z",
     "iopub.status.busy": "2025-01-04T00:49:51.158273Z",
     "iopub.status.idle": "2025-01-04T00:49:51.168784Z",
     "shell.execute_reply": "2025-01-04T00:49:51.168261Z",
     "shell.execute_reply.started": "2025-01-04T00:49:51.158513Z"
    },
    "lines_to_next_cell": 2
   },
   "outputs": [],
   "source": [
    "simulate_hands_cpu_python = make_compute_cpu(evaluate_hand_python)\n",
    "simulate_hands_cpu_numba = numba.njit(make_compute_cpu(evaluate_hand_numba))"
   ]
  },
  {
   "cell_type": "code",
   "execution_count": 47,
   "id": "0f86ae4d-7694-4e7a-8e36-a2550230fbd9",
   "metadata": {
    "execution": {
     "iopub.execute_input": "2025-01-04T00:53:12.522479Z",
     "iopub.status.busy": "2025-01-04T00:53:12.521959Z",
     "iopub.status.idle": "2025-01-04T00:53:23.550166Z",
     "shell.execute_reply": "2025-01-04T00:53:23.549570Z",
     "shell.execute_reply.started": "2025-01-04T00:53:12.522464Z"
    }
   },
   "outputs": [
    {
     "name": "stdout",
     "output_type": "stream",
     "text": [
      "3.69 s ± 562 µs per loop (mean ± std. dev. of 2 runs, 1 loop each)\n",
      "18.2 ms ± 23.9 µs per loop (mean ± std. dev. of 2 runs, 100 loops each)\n"
     ]
    }
   ],
   "source": [
    "%timeit -n1 -r2 simulate_hands_cpu_python(10**4, np.random.default_rng(1))\n",
    "%timeit -n100 -r2 simulate_hands_cpu_numba(10**4, np.random.default_rng(1))"
   ]
  },
  {
   "cell_type": "code",
   "execution_count": 17,
   "id": "6f3bf348-e6a2-4fc6-9ebd-9d123ca6d686",
   "metadata": {
    "execution": {
     "iopub.execute_input": "2025-01-04T00:50:10.162667Z",
     "iopub.status.busy": "2025-01-04T00:50:10.162106Z",
     "iopub.status.idle": "2025-01-04T00:50:10.165079Z",
     "shell.execute_reply": "2025-01-04T00:50:10.164542Z",
     "shell.execute_reply.started": "2025-01-04T00:50:10.162650Z"
    }
   },
   "outputs": [],
   "source": [
    "# 3.68 s ± 6.87 ms per loop (mean ± std. dev. of 2 runs, 1 loop each)\n",
    "# 18.2 ms ± 3.03 µs per loop (mean ± std. dev. of 2 runs, 100 loops each)"
   ]
  },
  {
   "cell_type": "code",
   "execution_count": 18,
   "id": "38b2467c-cc46-4b3d-ab2e-0db7891bcf6f",
   "metadata": {
    "execution": {
     "iopub.execute_input": "2025-01-04T00:50:10.166010Z",
     "iopub.status.busy": "2025-01-04T00:50:10.165661Z",
     "iopub.status.idle": "2025-01-04T00:50:10.174814Z",
     "shell.execute_reply": "2025-01-04T00:50:10.174201Z",
     "shell.execute_reply.started": "2025-01-04T00:50:10.165995Z"
    }
   },
   "outputs": [],
   "source": [
    "def compute_chunk(args):\n",
    "  num_decks, rng = args\n",
    "  return simulate_hands_cpu_numba(num_decks, rng)"
   ]
  },
  {
   "cell_type": "code",
   "execution_count": 19,
   "id": "a853fae1-8516-417c-97de-b221f97c6d40",
   "metadata": {
    "execution": {
     "iopub.execute_input": "2025-01-04T00:50:10.175878Z",
     "iopub.status.busy": "2025-01-04T00:50:10.175609Z",
     "iopub.status.idle": "2025-01-04T00:50:10.183615Z",
     "shell.execute_reply": "2025-01-04T00:50:10.183103Z",
     "shell.execute_reply.started": "2025-01-04T00:50:10.175865Z"
    },
    "lines_to_next_cell": 2
   },
   "outputs": [],
   "source": [
    "def simulate_hands_cpu_numba_multiprocess(num_decks, rng):\n",
    "  num_processes = multiprocessing.cpu_count()\n",
    "  chunk_num_decks = math.ceil(num_decks / num_processes)\n",
    "  chunks = [(chunk_num_decks, np.random.default_rng(rng)) for i in range(num_processes)]\n",
    "  with multiprocessing.get_context('fork').Pool(num_processes) as pool:\n",
    "    results = pool.map(compute_chunk, chunks)\n",
    "  return np.mean(results, axis=0)"
   ]
  },
  {
   "cell_type": "markdown",
   "id": "0154d69f-d8dc-4d8b-8d5e-e1632f9f4fc8",
   "metadata": {
    "lines_to_next_cell": 2
   },
   "source": [
    "### GPU simulation"
   ]
  },
  {
   "cell_type": "code",
   "execution_count": 20,
   "id": "285b43ca-aefb-4a31-b6ae-e1ede07335d3",
   "metadata": {
    "execution": {
     "iopub.execute_input": "2025-01-04T00:50:10.184729Z",
     "iopub.status.busy": "2025-01-04T00:50:10.184331Z",
     "iopub.status.idle": "2025-01-04T00:50:10.195782Z",
     "shell.execute_reply": "2025-01-04T00:50:10.195242Z",
     "shell.execute_reply.started": "2025-01-04T00:50:10.184717Z"
    }
   },
   "outputs": [],
   "source": [
    "@cuda.jit\n",
    "def compute_gpu(rng_states, num_decks_per_thread, global_tally):\n",
    "  # pylint: disable=too-many-function-args, no-value-for-parameter, comparison-with-callable\n",
    "  USE_SHARED_TALLY = True\n",
    "  USE_UINT_RANDOM = True\n",
    "  thread_index = cuda.grid(1)\n",
    "  if thread_index >= len(rng_states):\n",
    "    return\n",
    "\n",
    "  thread_tally = cuda.local.array(NUM_OUTCOMES, np.int32)\n",
    "  deck = cuda.local.array(DECK_SIZE, np.uint8)\n",
    "  ranks = cuda.local.array(HAND_SIZE, np.uint8)\n",
    "  freqs = cuda.local.array(NUM_RANKS, np.uint8)\n",
    "  if USE_SHARED_TALLY:\n",
    "    shared_tally = cuda.shared.array(NUM_OUTCOMES, np.int64)  # Per-block intermediate tally.\n",
    "\n",
    "  thread_tally[:] = 0\n",
    "  for i in range(DECK_SIZE):\n",
    "    deck[i] = i\n",
    "\n",
    "  for _ in range(num_decks_per_thread):\n",
    "    # Apply Fisher-Yates shuffle to current deck.\n",
    "    for i in range(51, 0, -1):\n",
    "      # See https://github.com/numba/numba/blob/main/numba/cuda/random.py\n",
    "      if USE_UINT_RANDOM:  # Faster and has lower bias (~2.76e-18 for worst case ).\n",
    "        j = cuda.random.xoroshiro128p_next(rng_states, thread_index) % numba.uint32(i + 1)\n",
    "      else:  # Results in higher bias (~2.86e-6) due to reduced size (24 bits) of mantissa.\n",
    "        j = int(cuda.random.xoroshiro128p_uniform_float32(rng_states, thread_index) * (i + 1))\n",
    "      deck[i], deck[j] = deck[j], deck[i]\n",
    "\n",
    "    for hand_index in range(HANDS_PER_DECK):\n",
    "      hand = deck[hand_index : hand_index + 5]\n",
    "      outcome = evaluate_hand_numba(hand, ranks, freqs)\n",
    "      thread_tally[outcome] += 1\n",
    "\n",
    "  if USE_SHARED_TALLY:\n",
    "    # First accumulate a per-block tally, then accumulate that tally into the global tally.\n",
    "    thread_in_block = cuda.threadIdx.x\n",
    "    if thread_in_block == 0:\n",
    "      for i in range(NUM_OUTCOMES):\n",
    "        shared_tally[i] = 0\n",
    "    cuda.syncthreads()\n",
    "\n",
    "    # Each thread adds its local results to shared memory.\n",
    "    for i in range(NUM_OUTCOMES):\n",
    "      cuda.atomic.add(shared_tally, i, thread_tally[i])\n",
    "      cuda.syncthreads()\n",
    "\n",
    "    if thread_in_block == 0:\n",
    "      for i in range(NUM_OUTCOMES):\n",
    "        cuda.atomic.add(global_tally, i, shared_tally[i])\n",
    "\n",
    "  else:\n",
    "    # Accumulate the per-thread tally into the global tally.\n",
    "    for i in range(NUM_OUTCOMES):\n",
    "      cuda.atomic.add(global_tally, i, thread_tally[i])"
   ]
  },
  {
   "cell_type": "code",
   "execution_count": 21,
   "id": "4133487b-134a-4358-8518-c5979efc9acd",
   "metadata": {
    "execution": {
     "iopub.execute_input": "2025-01-04T00:50:10.198402Z",
     "iopub.status.busy": "2025-01-04T00:50:10.197965Z",
     "iopub.status.idle": "2025-01-04T00:50:10.206718Z",
     "shell.execute_reply": "2025-01-04T00:50:10.206173Z",
     "shell.execute_reply.started": "2025-01-04T00:50:10.198388Z"
    },
    "lines_to_next_cell": 2
   },
   "outputs": [],
   "source": [
    "def simulate_hands_gpu_cuda(num_decks, rng, threads_per_block=64):\n",
    "  device = cuda.get_current_device()\n",
    "  # Target enough threads for ~4 blocks per SM.\n",
    "  target_num_threads = 4 * device.MULTIPROCESSOR_COUNT * threads_per_block\n",
    "  num_decks_per_thread = max(1, num_decks // target_num_threads)\n",
    "  num_threads = num_decks // num_decks_per_thread\n",
    "  # print(f'{num_decks_per_thread=} {num_threads=}')\n",
    "  blocks = math.ceil(num_threads / threads_per_block)\n",
    "  seed = rng.integers(2**64, dtype=np.uint64)\n",
    "  d_rng_states = cuda.random.create_xoroshiro128p_states(num_threads, seed)\n",
    "  d_global_tally = cuda.to_device(np.zeros(NUM_OUTCOMES, np.int64))\n",
    "  compute_gpu[blocks, threads_per_block](d_rng_states, num_decks_per_thread, d_global_tally)\n",
    "  return d_global_tally.copy_to_host() / (num_threads * num_decks_per_thread * HANDS_PER_DECK)"
   ]
  },
  {
   "cell_type": "code",
   "execution_count": 22,
   "id": "f3d4a20b-0082-4e4c-b752-6bacb0502053",
   "metadata": {
    "execution": {
     "iopub.execute_input": "2025-01-04T00:50:10.207602Z",
     "iopub.status.busy": "2025-01-04T00:50:10.207325Z",
     "iopub.status.idle": "2025-01-04T00:50:15.881593Z",
     "shell.execute_reply": "2025-01-04T00:50:15.880983Z",
     "shell.execute_reply.started": "2025-01-04T00:50:10.207590Z"
    }
   },
   "outputs": [
    {
     "name": "stdout",
     "output_type": "stream",
     "text": [
      "The slowest run took 4.66 times longer than the fastest. This could mean that an intermediate result is being cached.\n",
      "563 ms ± 433 ms per loop (mean ± std. dev. of 10 runs, 1 loop each)\n"
     ]
    }
   ],
   "source": [
    "%timeit -n1 -r10 simulate_hands_gpu_cuda(10**7, np.random.default_rng(1))  # ~133 ms."
   ]
  },
  {
   "cell_type": "code",
   "execution_count": 23,
   "id": "307558fb-0ee8-4c46-ac64-aed743419c4b",
   "metadata": {
    "execution": {
     "iopub.execute_input": "2025-01-04T00:50:15.882707Z",
     "iopub.status.busy": "2025-01-04T00:50:15.882263Z",
     "iopub.status.idle": "2025-01-04T00:50:15.885205Z",
     "shell.execute_reply": "2025-01-04T00:50:15.884669Z",
     "shell.execute_reply.started": "2025-01-04T00:50:15.882691Z"
    },
    "lines_to_next_cell": 2
   },
   "outputs": [],
   "source": [
    "# simulate_poker_hands(10**7, 'gpu_cuda', simulate_hands_gpu_cuda)"
   ]
  },
  {
   "cell_type": "code",
   "execution_count": 24,
   "id": "70cee4f8-7a70-40ed-b497-64215c07468a",
   "metadata": {
    "execution": {
     "iopub.execute_input": "2025-01-04T00:50:15.886031Z",
     "iopub.status.busy": "2025-01-04T00:50:15.885749Z",
     "iopub.status.idle": "2025-01-04T00:50:15.895067Z",
     "shell.execute_reply": "2025-01-04T00:50:15.894521Z",
     "shell.execute_reply.started": "2025-01-04T00:50:15.886016Z"
    }
   },
   "outputs": [],
   "source": [
    "def write_cuda_assembly_code():\n",
    "  if 0:\n",
    "    signature = (cuda.random.xoroshiro128p_type[:], numba.int64, numba.int64[:])\n",
    "    ptx, _ = cuda.compile_ptx_for_current_device(compute_gpu, signature, device=True, abi='c')\n",
    "  else:\n",
    "    (ptx,) = compute_gpu.inspect_asm().values()\n",
    "  pathlib.Path('compute_gpu.ptx').write_text(ptx, encoding='utf-8')"
   ]
  },
  {
   "cell_type": "code",
   "execution_count": 25,
   "id": "e6e87979-f6ba-42ec-bb1a-24a1b23dff80",
   "metadata": {
    "execution": {
     "iopub.execute_input": "2025-01-04T00:50:15.896390Z",
     "iopub.status.busy": "2025-01-04T00:50:15.896088Z",
     "iopub.status.idle": "2025-01-04T00:50:15.903960Z",
     "shell.execute_reply": "2025-01-04T00:50:15.903439Z",
     "shell.execute_reply.started": "2025-01-04T00:50:15.896370Z"
    }
   },
   "outputs": [],
   "source": [
    "def report_kernel_properties():\n",
    "  PROPERTIES = 'const_mem_size local_mem_per_thread max_threads_per_block regs_per_thread shared_mem_per_block'.split()\n",
    "  for property_name in PROPERTIES:\n",
    "    (value,) = getattr(compute_gpu, 'get_' + property_name)().values()\n",
    "    print(f'{property_name} = {value}')"
   ]
  },
  {
   "cell_type": "code",
   "execution_count": 26,
   "id": "eb27c7ae-beb4-4cb0-a28f-8f520e2870c3",
   "metadata": {
    "execution": {
     "iopub.execute_input": "2025-01-04T00:50:15.905296Z",
     "iopub.status.busy": "2025-01-04T00:50:15.904644Z",
     "iopub.status.idle": "2025-01-04T00:50:15.917066Z",
     "shell.execute_reply": "2025-01-04T00:50:15.916565Z",
     "shell.execute_reply.started": "2025-01-04T00:50:15.905282Z"
    }
   },
   "outputs": [
    {
     "name": "stdout",
     "output_type": "stream",
     "text": [
      "const_mem_size = 0\n",
      "local_mem_per_thread = 112\n",
      "max_threads_per_block = 1024\n",
      "regs_per_thread = 37\n",
      "shared_mem_per_block = 80\n"
     ]
    }
   ],
   "source": [
    "if cuda.is_available():\n",
    "  write_cuda_assembly_code()\n",
    "  report_kernel_properties()"
   ]
  },
  {
   "cell_type": "code",
   "execution_count": 27,
   "id": "dfaa1fce-1e55-4d80-a832-1f6d17051415",
   "metadata": {
    "execution": {
     "iopub.execute_input": "2025-01-04T00:50:15.918132Z",
     "iopub.status.busy": "2025-01-04T00:50:15.917947Z",
     "iopub.status.idle": "2025-01-04T00:50:15.924024Z",
     "shell.execute_reply": "2025-01-04T00:50:15.923419Z",
     "shell.execute_reply.started": "2025-01-04T00:50:15.918118Z"
    }
   },
   "outputs": [],
   "source": [
    "# const_mem_size = 0\n",
    "# local_mem_per_thread = 112\n",
    "# max_threads_per_block = 1024\n",
    "# regs_per_thread = 37\n",
    "# shared_mem_per_block = 80"
   ]
  },
  {
   "cell_type": "markdown",
   "id": "d2bc4755-cde2-4223-80f0-5b02fc49a389",
   "metadata": {},
   "source": [
    "### Results"
   ]
  },
  {
   "cell_type": "code",
   "execution_count": 41,
   "id": "da3478c3-a9be-4876-b52b-d30866a0ac56",
   "metadata": {
    "execution": {
     "iopub.execute_input": "2025-01-04T00:51:28.202940Z",
     "iopub.status.busy": "2025-01-04T00:51:28.202435Z",
     "iopub.status.idle": "2025-01-04T00:51:28.206216Z",
     "shell.execute_reply": "2025-01-04T00:51:28.205647Z",
     "shell.execute_reply.started": "2025-01-04T00:51:28.202924Z"
    }
   },
   "outputs": [],
   "source": [
    "SIMULATE_FUNCTIONS: Any = {\n",
    "    'cpu_python': simulate_hands_cpu_python,\n",
    "    'cpu_numba': simulate_hands_cpu_numba,\n",
    "}\n",
    "if 'fork' in multiprocessing.get_all_start_methods():\n",
    "  SIMULATE_FUNCTIONS.update({'cpu_numba_multiprocess': simulate_hands_cpu_numba_multiprocess})\n",
    "if cuda.is_available():\n",
    "  SIMULATE_FUNCTIONS.update({'gpu_cuda': simulate_hands_gpu_cuda})"
   ]
  },
  {
   "cell_type": "code",
   "execution_count": 42,
   "id": "92bde0ec-7f24-4f13-b350-cc413094ab11",
   "metadata": {
    "execution": {
     "iopub.execute_input": "2025-01-04T00:51:28.207660Z",
     "iopub.status.busy": "2025-01-04T00:51:28.207155Z",
     "iopub.status.idle": "2025-01-04T00:51:28.215683Z",
     "shell.execute_reply": "2025-01-04T00:51:28.215101Z",
     "shell.execute_reply.started": "2025-01-04T00:51:28.207645Z"
    }
   },
   "outputs": [],
   "source": [
    "COMPLEXITY_ADJUSTMENT = {\n",
    "    'cpu_python': 0.01,\n",
    "    'cpu_numba': 2.0,\n",
    "    'cpu_numba_multiprocess': 20.0,\n",
    "    'gpu_cuda': 100.0,\n",
    "}"
   ]
  },
  {
   "cell_type": "code",
   "execution_count": 43,
   "id": "e7bd410e-681f-499c-b2bf-8303c7146423",
   "metadata": {
    "execution": {
     "iopub.execute_input": "2025-01-04T00:51:28.216728Z",
     "iopub.status.busy": "2025-01-04T00:51:28.216439Z",
     "iopub.status.idle": "2025-01-04T00:51:28.226226Z",
     "shell.execute_reply": "2025-01-04T00:51:28.225600Z",
     "shell.execute_reply.started": "2025-01-04T00:51:28.216713Z"
    }
   },
   "outputs": [],
   "source": [
    "def simulate_poker_hands(base_num_hands, func_name, func, seed=1):\n",
    "  base_num_decks = math.ceil(base_num_hands / HANDS_PER_DECK)\n",
    "  num_decks = math.ceil(base_num_decks * COMPLEXITY_ADJUSTMENT[func_name])\n",
    "  num_hands = num_decks * HANDS_PER_DECK\n",
    "  print(f'\\nFor {func_name} simulating {num_hands:,} hands:')\n",
    "\n",
    "  # Ensure the function is jitted.\n",
    "  _ = func(int(100_000 * COMPLEXITY_ADJUSTMENT[func_name]), np.random.default_rng(seed))\n",
    "\n",
    "  start_time = time.perf_counter_ns()\n",
    "  results = func(num_decks, np.random.default_rng(seed))\n",
    "  elapsed_time = (time.perf_counter_ns() - start_time) / 10**9\n",
    "\n",
    "  round_digits = lambda x, ndigits=3: round(x, ndigits - 1 - math.floor(math.log10(abs(x))))\n",
    "  hands_per_s = round_digits(int(num_hands / elapsed_time))\n",
    "  print(f' Elapsed time is {elapsed_time:.3f} s, or {hands_per_s:,} hands/s.')\n",
    "\n",
    "  comb = math.comb\n",
    "  REFERENCE = {  # https://en.wikipedia.org/wiki/Poker_probability\n",
    "      'Royal flush': comb(4, 1),\n",
    "      'Straight flush': comb(10, 1) * comb(4, 1) - comb(4, 1),\n",
    "      'Four of a kind': comb(13, 1) * comb(4, 4) * comb(12, 1) * comb(4, 1),\n",
    "      'Full house': comb(13, 1) * comb(4, 3) * comb(12, 1) * comb(4, 2),\n",
    "      'Flush': comb(13, 5) * comb(4, 1) - comb(10, 1) * comb(4, 1),\n",
    "      'Straight': comb(10, 1) * comb(4, 1) ** 5 - comb(10, 1) * comb(4, 1),\n",
    "      'Three of a kind': comb(13, 1) * comb(4, 3) * comb(12, 2) * comb(4, 1) ** 2,\n",
    "      'Two pair': comb(13, 2) * comb(4, 2) ** 2 * comb(11, 1) * comb(4, 1),\n",
    "      'One pair': comb(13, 1) * comb(4, 2) * comb(12, 3) * comb(4, 1) ** 3,\n",
    "      'High card': (comb(13, 5) - comb(10, 1)) * (comb(4, 1) ** 5 - comb(4, 1)),\n",
    "  }\n",
    "  assert sum(REFERENCE.values()) == comb(DECK_SIZE, HAND_SIZE)\n",
    "\n",
    "  print(' Probabilities:')\n",
    "  for (outcome_name, reference_num_hands), prob in zip(REFERENCE.items(), results):\n",
    "    reference_prob = reference_num_hands / comb(DECK_SIZE, HAND_SIZE)\n",
    "    error = prob - reference_prob\n",
    "    s = f'  {outcome_name:<16}: {prob * 100:8.5f}%'\n",
    "    s += f'  (vs. reference {reference_prob * 100:8.5f}%  error:{error * 100:8.5f}%)'\n",
    "    print(s)"
   ]
  },
  {
   "cell_type": "code",
   "execution_count": 44,
   "id": "e935c8b8-a126-4a4f-ae08-bbba8d6a80b4",
   "metadata": {
    "execution": {
     "iopub.execute_input": "2025-01-04T00:51:28.227234Z",
     "iopub.status.busy": "2025-01-04T00:51:28.226860Z",
     "iopub.status.idle": "2025-01-04T00:51:28.237851Z",
     "shell.execute_reply": "2025-01-04T00:51:28.237184Z",
     "shell.execute_reply.started": "2025-01-04T00:51:28.227219Z"
    }
   },
   "outputs": [],
   "source": [
    "def compare_simulations(base_num_hands, seed=1):\n",
    "  for func_name, func in SIMULATE_FUNCTIONS.items():\n",
    "    simulate_poker_hands(base_num_hands, func_name, func, seed)"
   ]
  },
  {
   "cell_type": "code",
   "execution_count": 45,
   "id": "ca0e7a67-ca73-4e8f-b584-9368daefeb7e",
   "metadata": {
    "execution": {
     "iopub.execute_input": "2025-01-04T00:51:28.239436Z",
     "iopub.status.busy": "2025-01-04T00:51:28.239112Z",
     "iopub.status.idle": "2025-01-04T00:51:32.840792Z",
     "shell.execute_reply": "2025-01-04T00:51:32.840139Z",
     "shell.execute_reply.started": "2025-01-04T00:51:28.239419Z"
    }
   },
   "outputs": [
    {
     "name": "stdout",
     "output_type": "stream",
     "text": [
      "\n",
      "For cpu_python simulating 100,032 hands:\n",
      " Elapsed time is 0.780 s, or 128,000 hands/s.\n",
      " Probabilities:\n",
      "  Royal flush     :  0.00000%  (vs. reference  0.00015%  error:-0.00015%)\n",
      "  Straight flush  :  0.00000%  (vs. reference  0.00139%  error:-0.00139%)\n",
      "  Four of a kind  : 37.75792%  (vs. reference  0.02401%  error:37.73391%)\n",
      "  Full house      : 42.95226%  (vs. reference  0.14406%  error:42.80820%)\n",
      "  Flush           :  0.06198%  (vs. reference  0.19654%  error:-0.13456%)\n",
      "  Straight        :  0.00000%  (vs. reference  0.39246%  error:-0.39246%)\n",
      "  Three of a kind :  2.52019%  (vs. reference  2.11285%  error: 0.40735%)\n",
      "  Two pair        :  1.02467%  (vs. reference  4.75390%  error:-3.72923%)\n",
      "  One pair        :  0.00000%  (vs. reference 42.25690%  error:-42.25690%)\n",
      "  High card       : 15.68298%  (vs. reference 50.11774%  error:-34.43476%)\n",
      "\n",
      "For cpu_numba simulating 20,000,064 hands:\n",
      " Elapsed time is 0.755 s, or 26,500,000 hands/s.\n",
      " Probabilities:\n",
      "  Royal flush     :  0.00000%  (vs. reference  0.00015%  error:-0.00015%)\n",
      "  Straight flush  :  0.00000%  (vs. reference  0.00139%  error:-0.00139%)\n",
      "  Four of a kind  : 37.62397%  (vs. reference  0.02401%  error:37.59996%)\n",
      "  Full house      : 43.01623%  (vs. reference  0.14406%  error:42.87217%)\n",
      "  Flush           :  0.04380%  (vs. reference  0.19654%  error:-0.15274%)\n",
      "  Straight        :  0.00000%  (vs. reference  0.39246%  error:-0.39246%)\n",
      "  Three of a kind :  2.51177%  (vs. reference  2.11285%  error: 0.39892%)\n",
      "  Two pair        :  1.01516%  (vs. reference  4.75390%  error:-3.73874%)\n",
      "  One pair        :  0.00000%  (vs. reference 42.25690%  error:-42.25690%)\n",
      "  High card       : 15.78906%  (vs. reference 50.11774%  error:-34.32867%)\n",
      "\n",
      "For cpu_numba_multiprocess simulating 200,000,640 hands:\n",
      " Elapsed time is 0.698 s, or 287,000,000 hands/s.\n",
      " Probabilities:\n",
      "  Royal flush     :  0.00000%  (vs. reference  0.00015%  error:-0.00015%)\n",
      "  Straight flush  :  0.00000%  (vs. reference  0.00139%  error:-0.00139%)\n",
      "  Four of a kind  : 37.64352%  (vs. reference  0.02401%  error:37.61951%)\n",
      "  Full house      : 43.00518%  (vs. reference  0.14406%  error:42.86112%)\n",
      "  Flush           :  0.04378%  (vs. reference  0.19654%  error:-0.15276%)\n",
      "  Straight        :  0.00000%  (vs. reference  0.39246%  error:-0.39246%)\n",
      "  Three of a kind :  2.51095%  (vs. reference  2.11285%  error: 0.39811%)\n",
      "  Two pair        :  1.00984%  (vs. reference  4.75390%  error:-3.74406%)\n",
      "  One pair        :  0.00000%  (vs. reference 42.25690%  error:-42.25690%)\n",
      "  High card       : 15.78674%  (vs. reference 50.11774%  error:-34.33100%)\n",
      "\n",
      "For gpu_cuda simulating 1,000,003,200 hands:\n",
      " Elapsed time is 0.871 s, or 1,150,000,000 hands/s.\n",
      " Probabilities:\n",
      "  Royal flush     :  0.00015%  (vs. reference  0.00015%  error: 0.00000%)\n",
      "  Straight flush  :  0.00140%  (vs. reference  0.00139%  error: 0.00001%)\n",
      "  Four of a kind  :  0.02405%  (vs. reference  0.02401%  error: 0.00004%)\n",
      "  Full house      :  0.14449%  (vs. reference  0.14406%  error: 0.00043%)\n",
      "  Flush           :  0.19666%  (vs. reference  0.19654%  error: 0.00012%)\n",
      "  Straight        :  0.39268%  (vs. reference  0.39246%  error: 0.00022%)\n",
      "  Three of a kind :  2.11284%  (vs. reference  2.11285%  error:-0.00000%)\n",
      "  Two pair        :  4.75339%  (vs. reference  4.75390%  error:-0.00051%)\n",
      "  One pair        : 42.25728%  (vs. reference 42.25690%  error: 0.00038%)\n",
      "  High card       : 50.11705%  (vs. reference 50.11774%  error:-0.00069%)\n"
     ]
    }
   ],
   "source": [
    "compare_simulations(base_num_hands=10**7)"
   ]
  },
  {
   "cell_type": "code",
   "execution_count": 46,
   "id": "4ef83cc9-da12-486c-b9f5-dc8f644304d6",
   "metadata": {
    "execution": {
     "iopub.execute_input": "2025-01-04T00:51:32.841951Z",
     "iopub.status.busy": "2025-01-04T00:51:32.841792Z",
     "iopub.status.idle": "2025-01-04T00:51:32.844731Z",
     "shell.execute_reply": "2025-01-04T00:51:32.844163Z",
     "shell.execute_reply.started": "2025-01-04T00:51:32.841936Z"
    }
   },
   "outputs": [],
   "source": [
    "# 116k, 7.4m, 82m, 780m\n",
    "# 123k, 16m, 156m, 1400m\n",
    "# 128k, 26m, 290m, 1200m"
   ]
  },
  {
   "cell_type": "markdown",
   "id": "53b10704-3a4b-4b0e-b0ac-711b2afed9bd",
   "metadata": {
    "jp-MarkdownHeadingCollapsed": true
   },
   "source": [
    "### End"
   ]
  }
 ],
 "metadata": {
  "colab": {
   "collapsed_sections": [],
   "provenance": [],
   "toc_visible": true
  },
  "jupytext": {
   "cell_metadata_filter": "-all",
   "formats": "ipynb,py:percent",
   "main_language": "python",
   "notebook_metadata_filter": "-all"
  },
  "kernelspec": {
   "display_name": "Python 3 (ipykernel)",
   "language": "python",
   "name": "python3"
  },
  "language_info": {
   "codemirror_mode": {
    "name": "ipython",
    "version": 3
   },
   "file_extension": ".py",
   "mimetype": "text/x-python",
   "name": "python",
   "nbconvert_exporter": "python",
   "pygments_lexer": "ipython3",
   "version": "3.10.12"
  }
 },
 "nbformat": 4,
 "nbformat_minor": 5
}
