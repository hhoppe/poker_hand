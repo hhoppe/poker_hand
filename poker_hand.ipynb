{
 "cells": [
  {
   "cell_type": "markdown",
   "id": "f819c4f7",
   "metadata": {},
   "source": [
    "# Poker hand simulation\n",
    "\n",
    "This notebook is a simple testbed to experiment with Python acceleration using `numba` (CPU-jitted code) and `numba.cuda` (GPU CUDA-jitted code).\n",
    "\n",
    "We estimate poker hand probabilities using Monte Carlo simulation and compare results with known reference values.\n",
    "\n",
    "We compare execution speeds using Python, `numba`, `numba` with multiprocessing, and `numba.cuda`.\n",
    "\n",
    "Websites on which to run this notebook include:\n",
    "\n",
    "- [Open in Google Colab](https://colab.research.google.com/github/hhoppe/poker_hand/blob/main/poker_hand.ipynb), click on Runtime -> Change runtime type -> T4 GPU, and then Runtime -> Run all.\n",
    "\n",
    "- [Open in kaggle.com](https://www.kaggle.com/notebooks/welcome?src=https://github.com/hhoppe/poker_hand/blob/main/poker_hand.ipynb), login, Session options -> Accelerator -> GPU T4 x2 or P100, Session options -> Internet -> On, then Run All.\n",
    "\n",
    "- [Open in mybinder.org](https://mybinder.org/v2/gh/hhoppe/poker_hand/main?urlpath=lab/tree/poker_hand.ipynb).  Unfortunately, no GPU is available.\n",
    "\n",
    "- [Open in deepnote.com](https://deepnote.com/launch?url=https%3A%2F%2Fgithub.com%2Fhhoppe%2Fpoker_hand%2Fblob%2Fmain%2Fpoker_hand.ipynb).  Unfortunately, no GPU is available.\n",
    "\n",
    "Here are results:"
   ]
  },
  {
   "cell_type": "markdown",
   "id": "71ed1cbc-c83b-4d5b-aed3-e9fe195ddebe",
   "metadata": {
    "execution": {
     "iopub.execute_input": "2025-01-06T01:53:19.033961Z",
     "iopub.status.busy": "2025-01-06T01:53:19.033961Z",
     "iopub.status.idle": "2025-01-06T01:53:19.041537Z",
     "shell.execute_reply": "2025-01-06T01:53:19.041537Z",
     "shell.execute_reply.started": "2025-01-06T01:53:19.033961Z"
    }
   },
   "source": [
    "<table style=\"margin-left: 0\">\n",
    "<tr>\n",
    "  <th colspan=\"4\"></th>\n",
    "  <th colspan=\"7\" style=\"text-align: center\">Simulation rates (hands/s)</th>\n",
    "</tr>\n",
    "<tr>\n",
    "  <th colspan=\"4\">Compute capabilities</th>\n",
    "  <th colspan=\"4\" style=\"text-align: center; background-color: #EBF5FF\">Array-based</th>\n",
    "  <th colspan=\"3\" style=\"text-align: center; background-color: #F0FDF4\">Bitmask-based</th>\n",
    "</tr>\n",
    "<tr>\n",
    "  <th>Platform</th>\n",
    "  <th style=\"text-align: center\">CPU<br>threads</th>\n",
    "  <th style=\"text-align: center\">GPU<br>type</th>\n",
    "  <th style=\"text-align: center\">CUDA<br>SMs</th>\n",
    "  <th style=\"background-color: #EBF5FF\">Python</th>\n",
    "  <th style=\"background-color: #EBF5FF\">Numba</th>\n",
    "  <th style=\"background-color: #EBF5FF\">Multiprocess</th>\n",
    "  <th style=\"background-color: #EBF5FF\">CUDA</th>\n",
    "  <th style=\"background-color: #F0FDF4\">Numba</th>\n",
    "  <th style=\"background-color: #F0FDF4\">Multiprocess</th>\n",
    "  <th style=\"background-color: #F0FDF4\">CUDA</th>\n",
    "</tr>\n",
    "<tr>\n",
    "  <td><b>My PC</b> Win10</td>\n",
    "  <td style=\"text-align: center\">24</td>\n",
    "  <td style=\"text-align: center\">GeForce 3080 Ti</td>\n",
    "  <td style=\"text-align: center\">80</td>\n",
    "  <td style=\"text-align: right; background-color: #EBF5FF\">21,800</td>\n",
    "  <td style=\"text-align: right; background-color: #EBF5FF\">28,200,000</td>\n",
    "  <td style=\"text-align: right; background-color: #EBF5FF\">-</td>\n",
    "  <td style=\"text-align: right; background-color: #EBF5FF\">3,300,000,000</td>\n",
    "  <td style=\"text-align: right; background-color: #F0FDF4\">125,000,000</td>\n",
    "  <td style=\"text-align: right; background-color: #F0FDF4\">-</td>\n",
    "  <td style=\"text-align: right; background-color: #F0FDF4\">12,200,000,000</td>\n",
    "</tr>\n",
    "<tr>\n",
    "  <td><b>My PC</b> WSL2</td>\n",
    "  <td style=\"text-align: center\">24</td>\n",
    "  <td style=\"text-align: center\">GeForce 3080 Ti</td>\n",
    "  <td style=\"text-align: center\">80</td>\n",
    "  <td style=\"text-align: right; background-color: #EBF5FF\">135,000</td>\n",
    "  <td style=\"text-align: right; background-color: #EBF5FF\">33,000,000</td>\n",
    "  <td style=\"text-align: right; background-color: #EBF5FF\">350,000,000</td>\n",
    "  <td style=\"text-align: right; background-color: #EBF5FF\">2,800,000,000</td>\n",
    "  <td style=\"text-align: right; background-color: #F0FDF4\">138,000,000</td>\n",
    "  <td style=\"text-align: right; background-color: #F0FDF4\">912,000,000</td>\n",
    "  <td style=\"text-align: right; background-color: #F0FDF4\">12,400,000,000</td>\n",
    "</tr>\n",
    "<tr>\n",
    "  <td><b>Marcel PC</b> Win</td>\n",
    "  <td style=\"text-align: center\">24</td>\n",
    "  <td style=\"text-align: center\">Titan V</td>\n",
    "  <td style=\"text-align: center\">80</td>\n",
    "  <td style=\"text-align: right; background-color: #EBF5FF\"><s>62,800</s></td>\n",
    "  <td style=\"text-align: right; background-color: #EBF5FF\"><s>5,160,000</s></td>\n",
    "  <td style=\"text-align: right; background-color: #EBF5FF\">-</td>\n",
    "  <td style=\"text-align: right; background-color: #EBF5FF\"><s>2,280,000,000</s></td>\n",
    "  <td style=\"text-align: right; background-color: #F0FDF4\">?00,000,000</td>\n",
    "  <td style=\"text-align: right; background-color: #F0FDF4\">?,000,000,000</td>\n",
    "  <td style=\"text-align: right; background-color: #F0FDF4\">-</td>\n",
    "</tr>\n",
    "<tr>\n",
    "  <td><a href=\"https://colab.research.google.com/github/hhoppe/poker_hand/blob/main/poker_hand.ipynb\"><b>Colab</b> T4</a></td>\n",
    "  <td style=\"text-align: center\">2</td>\n",
    "  <td style=\"text-align: center\">Tesla T4</td>\n",
    "  <td style=\"text-align: center\">40</td>\n",
    "  <td style=\"text-align: right; background-color: #EBF5FF\">17,000</td>\n",
    "  <td style=\"text-align: right; background-color: #EBF5FF\">11,600,000</td>\n",
    "  <td style=\"text-align: right; background-color: #EBF5FF\">16,400,000</td>\n",
    "  <td style=\"text-align: right; background-color: #EBF5FF\">3,670,000,000</td>\n",
    "  <td style=\"text-align: right; background-color: #F0FDF4\">?00,000,000</td>\n",
    "  <td style=\"text-align: right; background-color: #F0FDF4\">?,000,000,000</td>\n",
    "  <td style=\"text-align: right; background-color: #F0FDF4\">32,200,000,000</td>\n",
    "</tr>\n",
    "<tr>\n",
    "  <td><a href=\"https://www.kaggle.com/notebooks/welcome?src=https://github.com/hhoppe/poker_hand/blob/main/poker_hand.ipynb\"><b>Kaggle</b> T4</a></td>\n",
    "  <td style=\"text-align: center\">4</td>\n",
    "  <td style=\"text-align: center\">Tesla T4 x2</td>\n",
    "  <td style=\"text-align: center\">40</td>\n",
    "  <td style=\"text-align: right; background-color: #EBF5FF\">17,300</td>\n",
    "  <td style=\"text-align: right; background-color: #EBF5FF\">14,800,000</td>\n",
    "  <td style=\"text-align: right; background-color: #EBF5FF\">31,800,000</td>\n",
    "  <td style=\"text-align: right; background-color: #EBF5FF\">3,560,000,000</td>\n",
    "  <td style=\"text-align: right; background-color: #F0FDF4\">?00,000,000</td>\n",
    "  <td style=\"text-align: right; background-color: #F0FDF4\">?,000,000,000</td>\n",
    "  <td style=\"text-align: right; background-color: #F0FDF4\">30,600,000,000</td>\n",
    "</tr>\n",
    "<tr>\n",
    "  <td><b>Kaggle</b> P100</td>\n",
    "  <td style=\"text-align: center\">4</td>\n",
    "  <td style=\"text-align: center\">Tesla P100</td>\n",
    "  <td style=\"text-align: center\">56</td>\n",
    "  <td style=\"text-align: right; background-color: #EBF5FF\">17,100</td>\n",
    "  <td style=\"text-align: right; background-color: #EBF5FF\">14,500,000</td>\n",
    "  <td style=\"text-align: right; background-color: #EBF5FF\">31,300,000</td>\n",
    "  <td style=\"text-align: right; background-color: #EBF5FF\">3,620,000,000</td>\n",
    "  <td style=\"text-align: right; background-color: #F0FDF4\">?00,000,000</td>\n",
    "  <td style=\"text-align: right; background-color: #F0FDF4\">?,000,000,000</td>\n",
    "  <td style=\"text-align: right; background-color: #F0FDF4\">35,700,000,000</td>\n",
    "</tr>\n",
    "<tr>\n",
    "  <td><a href=\"https://mybinder.org/v2/gh/hhoppe/poker_hand/main?urlpath=lab/tree/poker_hand.ipynb\"><b>mybinder</b></a></td>\n",
    "  <td style=\"text-align: center\">72</td>\n",
    "  <td style=\"text-align: center\">None</td>\n",
    "  <td style=\"text-align: center\">-</td>\n",
    "  <td style=\"text-align: right; background-color: #EBF5FF\">18,200</td>\n",
    "  <td style=\"text-align: right; background-color: #EBF5FF\">7,050,000</td>\n",
    "  <td style=\"text-align: right; background-color: #EBF5FF\">3,220,000</td>\n",
    "  <td style=\"text-align: right; background-color: #EBF5FF\">-</td>\n",
    "  <td style=\"text-align: right; background-color: #F0FDF4\">?00,000,000</td>\n",
    "  <td style=\"text-align: right; background-color: #F0FDF4\">?,000,000,000</td>\n",
    "  <td style=\"text-align: right; background-color: #F0FDF4\">-</td>\n",
    "</tr>\n",
    "<tr>\n",
    "  <td><a href=\"https://deepnote.com/launch?url=https%3A%2F%2Fgithub.com%2Fhhoppe%2Fpoker_hand%2Fblob%2Fmain%2Fpoker_hand.ipynb\"><b>deepnote</b></a></td>\n",
    "  <td style=\"text-align: center\">8</td>\n",
    "  <td style=\"text-align: center\">None</td>\n",
    "  <td style=\"text-align: center\">-</td>\n",
    "  <td style=\"text-align: right; background-color: #EBF5FF\">18,700</td>\n",
    "  <td style=\"text-align: right; background-color: #EBF5FF\">22,400,000</td>\n",
    "  <td style=\"text-align: right; background-color: #EBF5FF\">12,600,000</td>\n",
    "  <td style=\"text-align: right; background-color: #EBF5FF\">-</td>\n",
    "  <td style=\"text-align: right; background-color: #F0FDF4\">?00,000,000</td>\n",
    "  <td style=\"text-align: right; background-color: #F0FDF4\">?,000,000,000</td>\n",
    "  <td style=\"text-align: right; background-color: #F0FDF4\">-</td>\n",
    "</tr>\n",
    "</table>"
   ]
  },
  {
   "cell_type": "markdown",
   "id": "17ce3127-cbd5-445b-900d-6c01ddac60a7",
   "metadata": {},
   "source": [
    "It is puzzling that the CUDA rate is lower on my PC than on the online servers."
   ]
  },
  {
   "cell_type": "markdown",
   "id": "926b7255-e5af-473f-809b-000987e06690",
   "metadata": {},
   "source": [
    "## Imports"
   ]
  },
  {
   "cell_type": "code",
   "execution_count": 1,
   "id": "96f8b5b5-8cda-4b5f-8b07-145cf83d0dfd",
   "metadata": {
    "execution": {
     "iopub.execute_input": "2025-01-09T05:27:57.279392Z",
     "iopub.status.busy": "2025-01-09T05:27:57.279105Z",
     "iopub.status.idle": "2025-01-09T05:27:58.514808Z",
     "shell.execute_reply": "2025-01-09T05:27:58.514203Z",
     "shell.execute_reply.started": "2025-01-09T05:27:57.279372Z"
    }
   },
   "outputs": [],
   "source": [
    "!pip install -q numba"
   ]
  },
  {
   "cell_type": "code",
   "execution_count": 2,
   "id": "23fdecec-8b75-4c95-94f1-46c68b6202e6",
   "metadata": {
    "execution": {
     "iopub.execute_input": "2025-01-09T05:27:58.515995Z",
     "iopub.status.busy": "2025-01-09T05:27:58.515531Z",
     "iopub.status.idle": "2025-01-09T05:27:58.627776Z",
     "shell.execute_reply": "2025-01-09T05:27:58.627064Z",
     "shell.execute_reply.started": "2025-01-09T05:27:58.515982Z"
    }
   },
   "outputs": [],
   "source": [
    "!if [ ! -f random32.py ]; then wget https://github.com/hhoppe/poker_hand/raw/main/random32.py; fi"
   ]
  },
  {
   "cell_type": "code",
   "execution_count": 3,
   "id": "b7672379",
   "metadata": {
    "execution": {
     "iopub.execute_input": "2025-01-09T05:27:58.629060Z",
     "iopub.status.busy": "2025-01-09T05:27:58.628565Z",
     "iopub.status.idle": "2025-01-09T05:27:58.821224Z",
     "shell.execute_reply": "2025-01-09T05:27:58.820678Z",
     "shell.execute_reply.started": "2025-01-09T05:27:58.629042Z"
    },
    "lines_to_next_cell": 2,
    "tags": []
   },
   "outputs": [],
   "source": [
    "import enum\n",
    "import math\n",
    "from math import comb\n",
    "import multiprocessing\n",
    "import pathlib\n",
    "import time\n",
    "from typing import Any, Callable\n",
    "\n",
    "import numba\n",
    "from numba import cuda\n",
    "import numba.cuda.random\n",
    "import numpy as np\n",
    "import random32"
   ]
  },
  {
   "cell_type": "code",
   "execution_count": 4,
   "id": "aec3f5a6-f130-470d-8a0d-43b99587d4c7",
   "metadata": {
    "execution": {
     "iopub.execute_input": "2025-01-09T05:27:58.822164Z",
     "iopub.status.busy": "2025-01-09T05:27:58.821875Z",
     "iopub.status.idle": "2025-01-09T05:27:58.825427Z",
     "shell.execute_reply": "2025-01-09T05:27:58.824869Z",
     "shell.execute_reply.started": "2025-01-09T05:27:58.822152Z"
    }
   },
   "outputs": [],
   "source": [
    "USE_RANDOM32 = True\n",
    "if USE_RANDOM32:\n",
    "  random_create_states = random32.create_xoshiro128p_states\n",
    "  random_next_uniform_uint = random32.xoshiro128p_next\n",
    "  random_next_uniform_float32 = random32.xoshiro128p_uniform_float32\n",
    "else:\n",
    "  # See https://github.com/numba/numba/blob/main/numba/cuda/random.py\n",
    "  random_create_states = cuda.random.create_xoroshiro128p_states\n",
    "  random_next_uniform_uint = cuda.random.xoroshiro128p_next\n",
    "  random_next_uniform_float32 = cuda.random.xoroshiro128p_uniform_float32"
   ]
  },
  {
   "cell_type": "markdown",
   "id": "5071ce25-73c7-4a64-8414-767907ad6063",
   "metadata": {},
   "source": [
    "## Compute capabilities"
   ]
  },
  {
   "cell_type": "code",
   "execution_count": 5,
   "id": "40f2522d-afa5-4bf8-9f0a-5623defb8c46",
   "metadata": {
    "execution": {
     "iopub.execute_input": "2025-01-09T05:27:58.826281Z",
     "iopub.status.busy": "2025-01-09T05:27:58.826031Z",
     "iopub.status.idle": "2025-01-09T05:27:58.835641Z",
     "shell.execute_reply": "2025-01-09T05:27:58.834989Z",
     "shell.execute_reply.started": "2025-01-09T05:27:58.826269Z"
    }
   },
   "outputs": [
    {
     "name": "stdout",
     "output_type": "stream",
     "text": [
      "The number of CPU threads is 24.\n"
     ]
    }
   ],
   "source": [
    "print(f'The number of CPU threads is {multiprocessing.cpu_count()}.')"
   ]
  },
  {
   "cell_type": "code",
   "execution_count": 6,
   "id": "4fc255c9-8b8e-463e-a685-6a2785c0e63e",
   "metadata": {
    "execution": {
     "iopub.execute_input": "2025-01-09T05:27:58.837868Z",
     "iopub.status.busy": "2025-01-09T05:27:58.837400Z",
     "iopub.status.idle": "2025-01-09T05:27:58.845593Z",
     "shell.execute_reply": "2025-01-09T05:27:58.844899Z",
     "shell.execute_reply.started": "2025-01-09T05:27:58.837852Z"
    }
   },
   "outputs": [
    {
     "name": "stdout",
     "output_type": "stream",
     "text": [
      "Support for multiprocess \"fork\": True\n"
     ]
    }
   ],
   "source": [
    "MULTIPROCESS_IS_AVAILABLE = 'fork' in multiprocessing.get_all_start_methods()\n",
    "print(f'Support for multiprocess \"fork\": {MULTIPROCESS_IS_AVAILABLE}')"
   ]
  },
  {
   "cell_type": "code",
   "execution_count": 7,
   "id": "23e84adb-9b5e-4ba9-97bd-bdb7c0f92cae",
   "metadata": {
    "execution": {
     "iopub.execute_input": "2025-01-09T05:27:58.846564Z",
     "iopub.status.busy": "2025-01-09T05:27:58.846261Z",
     "iopub.status.idle": "2025-01-09T05:27:59.010674Z",
     "shell.execute_reply": "2025-01-09T05:27:59.010028Z",
     "shell.execute_reply.started": "2025-01-09T05:27:58.846551Z"
    },
    "lines_to_next_cell": 2
   },
   "outputs": [
    {
     "name": "stdout",
     "output_type": "stream",
     "text": [
      "Found 1 CUDA devices\n",
      "id 0    b'NVIDIA GeForce RTX 3080 Ti'                              [SUPPORTED]\n",
      "                      Compute Capability: 8.6\n",
      "                           PCI Device ID: 0\n",
      "                              PCI Bus ID: 10\n",
      "                                    UUID: GPU-e50896f3-f795-945c-9c59-fffc57278834\n",
      "                                Watchdog: Enabled\n",
      "             FP32/FP64 Performance Ratio: 32\n",
      "Summary:\n",
      "\t1/1 devices are supported\n",
      "The number of GPU SMs is 80\n"
     ]
    }
   ],
   "source": [
    "if cuda.is_available() and cuda.detect():\n",
    "  print(f'The number of GPU SMs is {cuda.get_current_device().MULTIPROCESSOR_COUNT}')"
   ]
  },
  {
   "cell_type": "markdown",
   "id": "e5af2c7f-c334-49ad-9afb-fb73cf6d7db4",
   "metadata": {
    "execution": {
     "iopub.execute_input": "2024-12-29T01:42:55.940070Z",
     "iopub.status.busy": "2024-12-29T01:42:55.939661Z",
     "iopub.status.idle": "2024-12-29T01:42:55.942841Z",
     "shell.execute_reply": "2024-12-29T01:42:55.942254Z",
     "shell.execute_reply.started": "2024-12-29T01:42:55.940047Z"
    },
    "lines_to_next_cell": 2
   },
   "source": [
    "## Shared code"
   ]
  },
  {
   "cell_type": "code",
   "execution_count": 8,
   "id": "cc2447c0-0ded-4360-bf8e-7e35be276331",
   "metadata": {
    "execution": {
     "iopub.execute_input": "2025-01-09T05:27:59.011917Z",
     "iopub.status.busy": "2025-01-09T05:27:59.011427Z",
     "iopub.status.idle": "2025-01-09T05:27:59.015170Z",
     "shell.execute_reply": "2025-01-09T05:27:59.014452Z",
     "shell.execute_reply.started": "2025-01-09T05:27:59.011900Z"
    }
   },
   "outputs": [],
   "source": [
    "DECK_SIZE = 52\n",
    "NUM_SUITS = 4\n",
    "NUM_RANKS = 13\n",
    "HAND_SIZE = 5\n",
    "HANDS_PER_DECK = DECK_SIZE - HAND_SIZE + 1  # We consider all overlapping hands in a shuffled deck.\n",
    "CARDS_FOR_A_FLUSH = 5\n",
    "CARDS_FOR_A_STRAIGHT = 5\n",
    "RNG = np.random.default_rng(1)"
   ]
  },
  {
   "cell_type": "code",
   "execution_count": 9,
   "id": "d6635058-f273-41d9-93a4-2b0c89cb65cc",
   "metadata": {
    "execution": {
     "iopub.execute_input": "2025-01-09T05:27:59.016440Z",
     "iopub.status.busy": "2025-01-09T05:27:59.016030Z",
     "iopub.status.idle": "2025-01-09T05:27:59.025657Z",
     "shell.execute_reply": "2025-01-09T05:27:59.025103Z",
     "shell.execute_reply.started": "2025-01-09T05:27:59.016425Z"
    }
   },
   "outputs": [],
   "source": [
    "class Outcome(enum.IntEnum):\n",
    "  \"\"\"Poker hand rankings from best to worst.\"\"\"\n",
    "\n",
    "  string_name: str\n",
    "  reference_count: int  # https://en.wikipedia.org/wiki/Poker_probability\n",
    "\n",
    "  ROYAL_FLUSH = 0, 'Royal flush', comb(4, 1)\n",
    "  STRAIGHT_FLUSH = 1, 'Straight flush', comb(10, 1) * comb(4, 1) - comb(4, 1)\n",
    "  FOUR_OF_A_KIND = 2, 'Four of a kind', comb(13, 1) * comb(4, 4) * comb(12, 1) * comb(4, 1)\n",
    "  FULL_HOUSE = 3, 'Full house', comb(13, 1) * comb(4, 3) * comb(12, 1) * comb(4, 2)\n",
    "  FLUSH = 4, 'Flush', comb(13, 5) * comb(4, 1) - comb(10, 1) * comb(4, 1)\n",
    "  STRAIGHT = 5, 'Straight', comb(10, 1) * comb(4, 1) ** 5 - comb(10, 1) * comb(4, 1)\n",
    "  THREE_OF_A_KIND = 6, 'Three of a kind', comb(13, 1) * comb(4, 3) * comb(12, 2) * comb(4, 1) ** 2\n",
    "  TWO_PAIR = 7, 'Two pair', comb(13, 2) * comb(4, 2) ** 2 * comb(11, 1) * comb(4, 1)\n",
    "  ONE_PAIR = 8, 'One pair', comb(13, 1) * comb(4, 2) * comb(12, 3) * comb(4, 1) ** 3\n",
    "  HIGH_CARD = 9, 'High card', (comb(13, 5) - comb(10, 1)) * (comb(4, 1) ** 5 - comb(4, 1))\n",
    "\n",
    "  def __new__(cls, value: int, string_name: str, reference_count: int) -> Any:\n",
    "    obj = int.__new__(cls, value)\n",
    "    obj._value_ = value\n",
    "    obj.string_name = string_name\n",
    "    obj.reference_count = reference_count\n",
    "    return obj"
   ]
  },
  {
   "cell_type": "code",
   "execution_count": 10,
   "id": "16cb8893-08da-4397-93c1-edb44fe8b06b",
   "metadata": {
    "execution": {
     "iopub.execute_input": "2025-01-09T05:27:59.026613Z",
     "iopub.status.busy": "2025-01-09T05:27:59.026336Z",
     "iopub.status.idle": "2025-01-09T05:27:59.037650Z",
     "shell.execute_reply": "2025-01-09T05:27:59.037030Z",
     "shell.execute_reply.started": "2025-01-09T05:27:59.026600Z"
    }
   },
   "outputs": [],
   "source": [
    "NUM_OUTCOMES = len(Outcome)\n",
    "Probabilities = np.ndarray[tuple[int], np.dtype[np.float64]]  # Or: tuple[Literal[10]].\n",
    "EXPECTED_PROB = np.array([o.reference_count for o in Outcome]) / comb(DECK_SIZE, HAND_SIZE)\n",
    "assert np.allclose(np.sum(EXPECTED_PROB), 1.0)"
   ]
  },
  {
   "cell_type": "code",
   "execution_count": 11,
   "id": "5da02913-9231-40f5-bc60-a2aaddff1b28",
   "metadata": {
    "execution": {
     "iopub.execute_input": "2025-01-09T05:27:59.038814Z",
     "iopub.status.busy": "2025-01-09T05:27:59.038450Z",
     "iopub.status.idle": "2025-01-09T05:27:59.047211Z",
     "shell.execute_reply": "2025-01-09T05:27:59.046670Z",
     "shell.execute_reply.started": "2025-01-09T05:27:59.038797Z"
    }
   },
   "outputs": [],
   "source": [
    "@numba.extending.intrinsic\n",
    "def popc_helper(typing_context, src):\n",
    "  _ = typing_context\n",
    "  if not isinstance(src, numba.types.Integer):\n",
    "    return None\n",
    "  DICT = {numba.uint64: 'i64', numba.uint32: 'i32', numba.uint16: 'i16', numba.uint8: 'i8'}\n",
    "  DICT |= {numba.int64: 'i64', numba.int32: 'i32', numba.int16: 'i16', numba.int8: 'i8'}\n",
    "  llvm_type = DICT[src]\n",
    "\n",
    "  def codegen(context, builder, signature, args):\n",
    "    _ = context, signature\n",
    "    return numba.cpython.mathimpl.call_fp_intrinsic(builder, 'llvm.ctpop.' + llvm_type, args)\n",
    "\n",
    "  return src(src), codegen\n",
    "\n",
    "\n",
    "@numba.njit\n",
    "def cpu_popc(x):  # https://stackoverflow.com/a/77103233\n",
    "  \"\"\"Return the (\"population\") count of set bits in an integer, using a CPU intrinsic.\"\"\"\n",
    "  return popc_helper(x)  # pylint: disable=no-value-for-parameter"
   ]
  },
  {
   "cell_type": "code",
   "execution_count": 12,
   "id": "14525098-bd95-4688-9cf4-b56e7526f8ad",
   "metadata": {
    "execution": {
     "iopub.execute_input": "2025-01-09T05:27:59.048262Z",
     "iopub.status.busy": "2025-01-09T05:27:59.047891Z",
     "iopub.status.idle": "2025-01-09T05:27:59.058972Z",
     "shell.execute_reply": "2025-01-09T05:27:59.058308Z",
     "shell.execute_reply.started": "2025-01-09T05:27:59.048249Z"
    }
   },
   "outputs": [],
   "source": [
    "@numba.njit\n",
    "def gpu_popc(x):\n",
    "  \"\"\"Return the (\"population\") count of set bits in an integer, using a CUDA intrinsic.\"\"\"\n",
    "  return cuda.popc(x)  # pylint: disable=too-many-function-args"
   ]
  },
  {
   "cell_type": "code",
   "execution_count": 13,
   "id": "70cee4f8-7a70-40ed-b497-64215c07468a",
   "metadata": {
    "execution": {
     "iopub.execute_input": "2025-01-09T05:27:59.059789Z",
     "iopub.status.busy": "2025-01-09T05:27:59.059641Z",
     "iopub.status.idle": "2025-01-09T05:27:59.068312Z",
     "shell.execute_reply": "2025-01-09T05:27:59.067753Z",
     "shell.execute_reply.started": "2025-01-09T05:27:59.059778Z"
    }
   },
   "outputs": [],
   "source": [
    "def write_numba_assembly_code(function: Any, filename: str) -> None:\n",
    "  (ptx,) = function.inspect_asm().values()\n",
    "  pathlib.Path(filename).write_text(ptx, encoding='utf-8')"
   ]
  },
  {
   "cell_type": "code",
   "execution_count": 14,
   "id": "e6e87979-f6ba-42ec-bb1a-24a1b23dff80",
   "metadata": {
    "execution": {
     "iopub.execute_input": "2025-01-09T05:27:59.069738Z",
     "iopub.status.busy": "2025-01-09T05:27:59.069219Z",
     "iopub.status.idle": "2025-01-09T05:27:59.077735Z",
     "shell.execute_reply": "2025-01-09T05:27:59.077126Z",
     "shell.execute_reply.started": "2025-01-09T05:27:59.069719Z"
    },
    "lines_to_next_cell": 2
   },
   "outputs": [],
   "source": [
    "def report_cuda_kernel_properties(function: Callable[..., Any]) -> None:\n",
    "  PROPERTIES = 'const_mem_size local_mem_per_thread max_threads_per_block regs_per_thread shared_mem_per_block'.split()\n",
    "  for property_name in PROPERTIES:\n",
    "    (value,) = getattr(function, 'get_' + property_name)().values()\n",
    "    print(f'{property_name} = {value}')"
   ]
  },
  {
   "cell_type": "markdown",
   "id": "c53fd3b4-129f-4acd-9c1f-3dc1cf809b16",
   "metadata": {},
   "source": [
    "## Approach 1: arrays"
   ]
  },
  {
   "cell_type": "markdown",
   "id": "c193e996-9ea5-40fd-806a-b4642241507b",
   "metadata": {
    "execution": {
     "iopub.execute_input": "2024-12-29T01:42:55.940070Z",
     "iopub.status.busy": "2024-12-29T01:42:55.939661Z",
     "iopub.status.idle": "2024-12-29T01:42:55.942841Z",
     "shell.execute_reply": "2024-12-29T01:42:55.942254Z",
     "shell.execute_reply.started": "2024-12-29T01:42:55.940047Z"
    },
    "lines_to_next_cell": 2
   },
   "source": [
    "### Hand evaluation"
   ]
  },
  {
   "cell_type": "code",
   "execution_count": 15,
   "id": "f74eebae-594a-4324-94af-edbcb7b69e33",
   "metadata": {
    "execution": {
     "iopub.execute_input": "2025-01-09T05:27:59.078775Z",
     "iopub.status.busy": "2025-01-09T05:27:59.078400Z",
     "iopub.status.idle": "2025-01-09T05:27:59.087588Z",
     "shell.execute_reply": "2025-01-09T05:27:59.086999Z",
     "shell.execute_reply.started": "2025-01-09T05:27:59.078758Z"
    }
   },
   "outputs": [],
   "source": [
    "def outcome_of_hand_array_python(cards: Any, ranks: Any, freqs: Any) -> int:\n",
    "  \"\"\"Evaluate 5-card poker hand and return outcome ranking, using array data structures.\n",
    "\n",
    "  Args:\n",
    "    cards: Array of 5 integers representing cards (0-51).\n",
    "    ranks: Pre-allocated array for storing sorted ranks.\n",
    "    freqs: Pre-allocated array for counting rank frequencies.\n",
    "\n",
    "  Returns:\n",
    "    Integer representing hand ranking (see Outcome enum).\n",
    "  \"\"\"\n",
    "  # pylint: disable=consider-using-in, consider-using-max-builtin\n",
    "\n",
    "  def get_rank(card: int) -> int:\n",
    "    return card >> 2  # In range(NUM_RANKS), ordered '23456789TJQKA'.\n",
    "\n",
    "  def get_suit(card: int) -> int:\n",
    "    return card & 0b11  # In range(4).\n",
    "\n",
    "  # Sort cards by rank for easier pattern matching, using simple insertion sort.\n",
    "  for i in range(HAND_SIZE):\n",
    "    ranks[i] = get_rank(cards[i])\n",
    "  # ranks.sort()\n",
    "  for i in range(1, HAND_SIZE):\n",
    "    key = ranks[i]\n",
    "    j = i - 1\n",
    "    while j >= 0 and ranks[j] > key:\n",
    "      ranks[j + 1] = ranks[j]\n",
    "      j -= 1\n",
    "    ranks[j + 1] = key\n",
    "\n",
    "  # is_flush = all(card == cards[0] for card in cards[1:])\n",
    "  # Expanding `cards` on the rhs results in better cuda-compiled code.\n",
    "  c0, c1, c2, c3, c4 = cards[0], cards[1], cards[2], cards[3], cards[4]\n",
    "  is_flush = get_suit(c0) == get_suit(c1) == get_suit(c2) == get_suit(c3) == get_suit(c4)\n",
    "\n",
    "  # Expanding `ranks` on the rhs results in better cuda-compiled code.\n",
    "  r0, r1, r2, r3, r4 = ranks[0], ranks[1], ranks[2], ranks[3], ranks[4]\n",
    "  # We must also consider the ace-low straight 'A2345'.\n",
    "  is_straight = r1 == r0 + 1 and r2 == r0 + 2 and r3 == r0 + 3 and (r4 == r0 + 4 or r4 == r0 + 12)\n",
    "\n",
    "  # Count rank frequencies.\n",
    "  freqs[:] = 0\n",
    "  for rank in ranks:\n",
    "    freqs[rank] += 1\n",
    "\n",
    "  # max_freq = max(freqs)\n",
    "  # num_pairs = np.sum(freqs == 2)\n",
    "  max_freq = 0\n",
    "  num_pairs = 0\n",
    "  for freq in freqs:\n",
    "    if freq > max_freq:\n",
    "      max_freq = freq\n",
    "    if freq == 2:\n",
    "      num_pairs += 1\n",
    "\n",
    "  if is_flush and is_straight:\n",
    "    if ranks[0] == 8:\n",
    "      return Outcome.ROYAL_FLUSH.value\n",
    "    return Outcome.STRAIGHT_FLUSH.value\n",
    "  if max_freq == 4:\n",
    "    return Outcome.FOUR_OF_A_KIND.value\n",
    "  if max_freq == 3 and num_pairs > 0:\n",
    "    return Outcome.FULL_HOUSE.value\n",
    "  if is_flush:\n",
    "    return Outcome.FLUSH.value\n",
    "  if is_straight:\n",
    "    return Outcome.STRAIGHT.value\n",
    "  if max_freq == 3:\n",
    "    return Outcome.THREE_OF_A_KIND.value\n",
    "  if max_freq == 2:\n",
    "    if num_pairs == 2:\n",
    "      return Outcome.TWO_PAIR.value\n",
    "    return Outcome.ONE_PAIR.value\n",
    "  return Outcome.HIGH_CARD.value"
   ]
  },
  {
   "cell_type": "code",
   "execution_count": 16,
   "id": "8676ddc6-f14c-4fe3-8316-249f247439ad",
   "metadata": {
    "execution": {
     "iopub.execute_input": "2025-01-09T05:27:59.088672Z",
     "iopub.status.busy": "2025-01-09T05:27:59.088248Z",
     "iopub.status.idle": "2025-01-09T05:27:59.099065Z",
     "shell.execute_reply": "2025-01-09T05:27:59.098514Z",
     "shell.execute_reply.started": "2025-01-09T05:27:59.088659Z"
    }
   },
   "outputs": [],
   "source": [
    "outcome_of_hand_array_numba = numba.njit(outcome_of_hand_array_python)"
   ]
  },
  {
   "cell_type": "markdown",
   "id": "b2c72168-c7d6-4792-9ea9-ee887733a7e1",
   "metadata": {
    "execution": {
     "iopub.execute_input": "2024-12-29T01:43:09.066669Z",
     "iopub.status.busy": "2024-12-29T01:43:09.066142Z",
     "iopub.status.idle": "2024-12-29T01:43:09.069033Z",
     "shell.execute_reply": "2024-12-29T01:43:09.068530Z",
     "shell.execute_reply.started": "2024-12-29T01:43:09.066653Z"
    },
    "lines_to_next_cell": 2
   },
   "source": [
    "### CPU simulation"
   ]
  },
  {
   "cell_type": "code",
   "execution_count": 17,
   "id": "61102c48-3b12-497c-adcd-a5dab40f1ac7",
   "metadata": {
    "execution": {
     "iopub.execute_input": "2025-01-09T05:27:59.100125Z",
     "iopub.status.busy": "2025-01-09T05:27:59.099774Z",
     "iopub.status.idle": "2025-01-09T05:27:59.108531Z",
     "shell.execute_reply": "2025-01-09T05:27:59.107981Z",
     "shell.execute_reply.started": "2025-01-09T05:27:59.100110Z"
    }
   },
   "outputs": [],
   "source": [
    "def make_compute_array_cpu(outcome_of_hand_array):\n",
    "  # Return a specialized compute_array_cpu function for the given outcome_of_hand_array function.\n",
    "\n",
    "  def compute_array_cpu(num_decks: int, rng: np.random.Generator) -> Probabilities:\n",
    "    BLOCK_SIZE = 10\n",
    "    # deck_block = np.arange(DECK_SIZE, dtype=np.uint8).repeat(BLOCK_SIZE).reshape(DECK_SIZE, -1).T\n",
    "    deck_block = np.empty((BLOCK_SIZE, DECK_SIZE), dtype=np.uint8)\n",
    "    deck_block[:] = np.arange(DECK_SIZE, dtype=np.uint8)\n",
    "    ranks = np.empty(HAND_SIZE, np.uint8)\n",
    "    freqs = np.empty(NUM_RANKS, np.int8)\n",
    "    tally = np.zeros(NUM_OUTCOMES, np.int64)\n",
    "    for deck_index_start in range(0, num_decks, BLOCK_SIZE):\n",
    "      deck_block2 = rng.permutation(deck_block, axis=1)\n",
    "      for deck_index in range(deck_index_start, min(deck_index_start + BLOCK_SIZE, num_decks)):\n",
    "        deck = deck_block2[deck_index - deck_index_start]\n",
    "        for hand_index in range(HANDS_PER_DECK):\n",
    "          hand = deck[hand_index : hand_index + 5]\n",
    "          outcome = outcome_of_hand_array(hand, ranks, freqs)\n",
    "          tally[outcome] += 1\n",
    "    return tally / (num_decks * HANDS_PER_DECK)\n",
    "\n",
    "  return compute_array_cpu"
   ]
  },
  {
   "cell_type": "code",
   "execution_count": 18,
   "id": "b7e33708-c91f-486c-bb02-71da114e1a69",
   "metadata": {
    "execution": {
     "iopub.execute_input": "2025-01-09T05:27:59.109406Z",
     "iopub.status.busy": "2025-01-09T05:27:59.109156Z",
     "iopub.status.idle": "2025-01-09T05:27:59.120104Z",
     "shell.execute_reply": "2025-01-09T05:27:59.119551Z",
     "shell.execute_reply.started": "2025-01-09T05:27:59.109394Z"
    },
    "lines_to_next_cell": 2
   },
   "outputs": [],
   "source": [
    "simulate_hands_array_cpu_python = make_compute_array_cpu(outcome_of_hand_array_python)\n",
    "simulate_hands_array_cpu_numba = numba.njit(make_compute_array_cpu(outcome_of_hand_array_numba))"
   ]
  },
  {
   "cell_type": "code",
   "execution_count": 19,
   "id": "14583f1b-5e96-4a18-9e6b-dcf13d57a876",
   "metadata": {
    "execution": {
     "iopub.execute_input": "2025-01-09T05:27:59.121102Z",
     "iopub.status.busy": "2025-01-09T05:27:59.120754Z",
     "iopub.status.idle": "2025-01-09T05:27:59.128862Z",
     "shell.execute_reply": "2025-01-09T05:27:59.128339Z",
     "shell.execute_reply.started": "2025-01-09T05:27:59.121085Z"
    }
   },
   "outputs": [],
   "source": [
    "# write_numba_assembly_code(simulate_hands_array_cpu_numba, 'simulate_hands_array_cpu_numba.asm')"
   ]
  },
  {
   "cell_type": "code",
   "execution_count": 20,
   "id": "ebec99b5-9246-4e29-94ed-ed675d03e549",
   "metadata": {
    "execution": {
     "iopub.execute_input": "2025-01-09T05:27:59.129894Z",
     "iopub.status.busy": "2025-01-09T05:27:59.129532Z",
     "iopub.status.idle": "2025-01-09T05:28:08.143592Z",
     "shell.execute_reply": "2025-01-09T05:28:08.142958Z",
     "shell.execute_reply.started": "2025-01-09T05:27:59.129881Z"
    },
    "lines_to_next_cell": 2
   },
   "outputs": [],
   "source": [
    "assert np.allclose(simulate_hands_array_cpu_numba(10**5, RNG), EXPECTED_PROB, atol=0.001)"
   ]
  },
  {
   "cell_type": "code",
   "execution_count": 21,
   "id": "2b737c66-9df8-4f2b-bc90-63d850850777",
   "metadata": {
    "execution": {
     "iopub.execute_input": "2025-01-09T05:28:08.146465Z",
     "iopub.status.busy": "2025-01-09T05:28:08.146118Z",
     "iopub.status.idle": "2025-01-09T05:28:09.541900Z",
     "shell.execute_reply": "2025-01-09T05:28:09.541272Z",
     "shell.execute_reply.started": "2025-01-09T05:28:08.146452Z"
    }
   },
   "outputs": [
    {
     "name": "stdout",
     "output_type": "stream",
     "text": [
      "696 ms ± 840 µs per loop (mean ± std. dev. of 2 runs, 1 loop each)\n"
     ]
    }
   ],
   "source": [
    "%timeit -n1 -r2 simulate_hands_array_cpu_python(2000, RNG)  # ~710 ms."
   ]
  },
  {
   "cell_type": "code",
   "execution_count": 22,
   "id": "e6d31c92-50f3-4c51-b333-0cbdfdd2bdd5",
   "metadata": {
    "execution": {
     "iopub.execute_input": "2025-01-09T05:28:09.543144Z",
     "iopub.status.busy": "2025-01-09T05:28:09.542656Z",
     "iopub.status.idle": "2025-01-09T05:28:12.500430Z",
     "shell.execute_reply": "2025-01-09T05:28:12.499787Z",
     "shell.execute_reply.started": "2025-01-09T05:28:09.543129Z"
    },
    "lines_to_next_cell": 2
   },
   "outputs": [
    {
     "name": "stdout",
     "output_type": "stream",
     "text": [
      "14.8 ms ± 118 µs per loop (mean ± std. dev. of 2 runs, 100 loops each)\n"
     ]
    }
   ],
   "source": [
    "%timeit -n100 -r2 simulate_hands_array_cpu_numba(10**4, RNG)  # ~14.8 ms."
   ]
  },
  {
   "cell_type": "code",
   "execution_count": 23,
   "id": "38b2467c-cc46-4b3d-ab2e-0db7891bcf6f",
   "metadata": {
    "execution": {
     "iopub.execute_input": "2025-01-09T05:28:12.502197Z",
     "iopub.status.busy": "2025-01-09T05:28:12.501537Z",
     "iopub.status.idle": "2025-01-09T05:28:12.505112Z",
     "shell.execute_reply": "2025-01-09T05:28:12.504542Z",
     "shell.execute_reply.started": "2025-01-09T05:28:12.502170Z"
    }
   },
   "outputs": [],
   "source": [
    "def compute_array_chunk(args: tuple[int, np.random.Generator]) -> Probabilities:\n",
    "  num_decks, rng = args\n",
    "  return simulate_hands_array_cpu_numba(num_decks, rng)"
   ]
  },
  {
   "cell_type": "code",
   "execution_count": 24,
   "id": "a853fae1-8516-417c-97de-b221f97c6d40",
   "metadata": {
    "execution": {
     "iopub.execute_input": "2025-01-09T05:28:12.506076Z",
     "iopub.status.busy": "2025-01-09T05:28:12.505757Z",
     "iopub.status.idle": "2025-01-09T05:28:12.514640Z",
     "shell.execute_reply": "2025-01-09T05:28:12.514147Z",
     "shell.execute_reply.started": "2025-01-09T05:28:12.506062Z"
    },
    "lines_to_next_cell": 2
   },
   "outputs": [],
   "source": [
    "def simulate_hands_array_cpu_numba_multiprocess(\n",
    "    num_decks: int, rng: np.random.Generator\n",
    ") -> Probabilities:\n",
    "  num_processes = multiprocessing.cpu_count()\n",
    "  chunk_num_decks = math.ceil(num_decks / num_processes)\n",
    "  new_rngs = rng.spawn(num_processes)\n",
    "  chunks = [(chunk_num_decks, new_rng) for new_rng in new_rngs]\n",
    "  with multiprocessing.get_context('fork').Pool(num_processes) as pool:\n",
    "    results = pool.map(compute_array_chunk, chunks)\n",
    "  return np.mean(results, axis=0)"
   ]
  },
  {
   "cell_type": "markdown",
   "id": "0154d69f-d8dc-4d8b-8d5e-e1632f9f4fc8",
   "metadata": {
    "lines_to_next_cell": 2
   },
   "source": [
    "### GPU simulation"
   ]
  },
  {
   "cell_type": "code",
   "execution_count": 25,
   "id": "e3280ce4-3cdc-4910-96d7-6b86410d8be4",
   "metadata": {
    "execution": {
     "iopub.execute_input": "2025-01-09T05:28:12.515396Z",
     "iopub.status.busy": "2025-01-09T05:28:12.515167Z",
     "iopub.status.idle": "2025-01-09T05:28:12.525700Z",
     "shell.execute_reply": "2025-01-09T05:28:12.525240Z",
     "shell.execute_reply.started": "2025-01-09T05:28:12.515385Z"
    }
   },
   "outputs": [],
   "source": [
    "THREADS_PER_BLOCK = 256"
   ]
  },
  {
   "cell_type": "code",
   "execution_count": 26,
   "id": "96d4ddd0-9c93-403d-bd5e-a0be49a6f7ff",
   "metadata": {
    "execution": {
     "iopub.execute_input": "2025-01-09T05:28:12.526462Z",
     "iopub.status.busy": "2025-01-09T05:28:12.526217Z",
     "iopub.status.idle": "2025-01-09T05:28:12.535471Z",
     "shell.execute_reply": "2025-01-09T05:28:12.534987Z",
     "shell.execute_reply.started": "2025-01-09T05:28:12.526450Z"
    }
   },
   "outputs": [],
   "source": [
    "@cuda.jit  # Using either local memory or cuda.shared.array.\n",
    "def gpu_array(rng_states, num_decks_per_thread, global_tally):\n",
    "  # pylint: disable=too-many-function-args, no-value-for-parameter, comparison-with-callable\n",
    "  # pylint: disable=possibly-used-before-assignment\n",
    "  USE_SHARED_MEMORY = True  # Shared memory is faster.\n",
    "  thread_index = cuda.grid(1)\n",
    "  if thread_index >= len(rng_states):\n",
    "    return\n",
    "\n",
    "  thread_id = cuda.threadIdx.x  # Index within block.\n",
    "  if USE_SHARED_MEMORY:\n",
    "    block_tally = cuda.shared.array((NUM_OUTCOMES, THREADS_PER_BLOCK), np.int32)\n",
    "    block_deck = cuda.shared.array((THREADS_PER_BLOCK, DECK_SIZE), np.uint8)\n",
    "    block_ranks = cuda.shared.array((THREADS_PER_BLOCK, HAND_SIZE), np.uint8)\n",
    "    block_freqs = cuda.shared.array((THREADS_PER_BLOCK, NUM_RANKS), np.uint8)\n",
    "    tally = block_tally[:, thread_id]\n",
    "    deck = block_deck[thread_id]\n",
    "    ranks = block_ranks[thread_id]\n",
    "    freqs = block_freqs[thread_id]\n",
    "  else:\n",
    "    tally = cuda.local.array(NUM_OUTCOMES, np.int32)\n",
    "    deck = cuda.local.array(DECK_SIZE, np.uint8)\n",
    "    ranks = cuda.local.array(HAND_SIZE, np.uint8)\n",
    "    freqs = cuda.local.array(NUM_RANKS, np.uint8)\n",
    "\n",
    "  tally[:] = 0\n",
    "  for i in range(numba.uint8(DECK_SIZE)):  # Casting as uint8 nicely unrolls the loop.\n",
    "    deck[i] = i\n",
    "\n",
    "  for _ in range(numba.int32(num_decks_per_thread)):\n",
    "    # Apply Fisher-Yates shuffle to current deck.\n",
    "    for i in range(numba.int32(51), numba.int32(0), numba.int32(-1)):\n",
    "      random_uint = random_next_uniform_uint(rng_states, thread_index)\n",
    "      j = random_uint % numba.uint32(i + 1)\n",
    "      deck[i], deck[j] = deck[j], deck[i]\n",
    "\n",
    "    for hand_index in range(numba.int32(HANDS_PER_DECK)):\n",
    "      hand = deck[hand_index : hand_index + 5]\n",
    "      outcome = numba.int32(outcome_of_hand_array_numba(hand, ranks, freqs))\n",
    "      tally[outcome] += 1\n",
    "\n",
    "  # First accumulate a per-block tally, then accumulate that tally into the global tally.\n",
    "  shared_tally = cuda.shared.array(NUM_OUTCOMES, np.int64)  # Per-block intermediate tally.\n",
    "  if thread_id == 0:\n",
    "    shared_tally[:] = 0\n",
    "  cuda.syncthreads()\n",
    "\n",
    "  # Each thread adds its local results to shared memory.\n",
    "  for i in range(NUM_OUTCOMES):\n",
    "    cuda.atomic.add(shared_tally, i, tally[i])\n",
    "    cuda.syncthreads()\n",
    "\n",
    "  if thread_id == 0:\n",
    "    for i in range(NUM_OUTCOMES):\n",
    "      cuda.atomic.add(global_tally, i, shared_tally[i])"
   ]
  },
  {
   "cell_type": "code",
   "execution_count": 27,
   "id": "627231b2-4a92-4c68-b260-0c4589a09772",
   "metadata": {
    "execution": {
     "iopub.execute_input": "2025-01-09T05:28:12.536411Z",
     "iopub.status.busy": "2025-01-09T05:28:12.536001Z",
     "iopub.status.idle": "2025-01-09T05:28:12.547116Z",
     "shell.execute_reply": "2025-01-09T05:28:12.546627Z",
     "shell.execute_reply.started": "2025-01-09T05:28:12.536396Z"
    }
   },
   "outputs": [],
   "source": [
    "def simulate_hands_array_gpu_cuda(num_decks: int, rng: np.random.Generator) -> Probabilities:\n",
    "  device = cuda.get_current_device()\n",
    "  # Target enough threads for ~4 blocks per SM.\n",
    "  target_num_threads = 4 * device.MULTIPROCESSOR_COUNT * THREADS_PER_BLOCK\n",
    "  num_decks_per_thread = max(1, num_decks // target_num_threads)\n",
    "  num_threads = num_decks // num_decks_per_thread\n",
    "  # print(f'{num_decks_per_thread=} {num_threads=}')\n",
    "  blocks = math.ceil(num_threads / THREADS_PER_BLOCK)\n",
    "  seed = rng.integers(2**64, dtype=np.uint64)\n",
    "  d_rng_states = random_create_states(num_threads, seed)\n",
    "  d_global_tally = cuda.to_device(np.zeros(NUM_OUTCOMES, np.int64))\n",
    "  gpu_array[blocks, THREADS_PER_BLOCK](d_rng_states, num_decks_per_thread, d_global_tally)\n",
    "  return d_global_tally.copy_to_host() / (num_threads * num_decks_per_thread * HANDS_PER_DECK)"
   ]
  },
  {
   "cell_type": "code",
   "execution_count": 28,
   "id": "32f20d44-bdf8-4a19-8933-66cc9f79fa67",
   "metadata": {
    "execution": {
     "iopub.execute_input": "2025-01-09T05:28:12.547948Z",
     "iopub.status.busy": "2025-01-09T05:28:12.547624Z",
     "iopub.status.idle": "2025-01-09T05:28:14.199223Z",
     "shell.execute_reply": "2025-01-09T05:28:14.198550Z",
     "shell.execute_reply.started": "2025-01-09T05:28:12.547932Z"
    }
   },
   "outputs": [],
   "source": [
    "if cuda.is_available():\n",
    "  assert np.allclose(simulate_hands_array_gpu_cuda(10**7, RNG), EXPECTED_PROB, atol=0.0001)"
   ]
  },
  {
   "cell_type": "code",
   "execution_count": 29,
   "id": "beee6915-9637-4e74-bdc2-c370cb01e35c",
   "metadata": {
    "execution": {
     "iopub.execute_input": "2025-01-09T05:28:14.200231Z",
     "iopub.status.busy": "2025-01-09T05:28:14.200038Z",
     "iopub.status.idle": "2025-01-09T05:28:15.351441Z",
     "shell.execute_reply": "2025-01-09T05:28:15.350815Z",
     "shell.execute_reply.started": "2025-01-09T05:28:14.200217Z"
    }
   },
   "outputs": [
    {
     "name": "stdout",
     "output_type": "stream",
     "text": [
      "Timing:\n",
      "229 ms ± 4.06 ms per loop (mean ± std. dev. of 5 runs, 1 loop each)\n"
     ]
    }
   ],
   "source": [
    "if cuda.is_available():\n",
    "  print('Timing:')\n",
    "  %timeit -n1 -r5 simulate_hands_array_gpu_cuda(10**7, RNG)  # ~220 ms."
   ]
  },
  {
   "cell_type": "code",
   "execution_count": 30,
   "id": "ecb3f7ec-127e-4e85-9cab-655cb388312f",
   "metadata": {
    "execution": {
     "iopub.execute_input": "2025-01-09T05:28:15.352486Z",
     "iopub.status.busy": "2025-01-09T05:28:15.352178Z",
     "iopub.status.idle": "2025-01-09T05:28:15.357629Z",
     "shell.execute_reply": "2025-01-09T05:28:15.357069Z",
     "shell.execute_reply.started": "2025-01-09T05:28:15.352469Z"
    }
   },
   "outputs": [
    {
     "name": "stdout",
     "output_type": "stream",
     "text": [
      "const_mem_size = 0\n",
      "local_mem_per_thread = 0\n",
      "max_threads_per_block = 1024\n",
      "regs_per_thread = 39\n",
      "shared_mem_per_block = 28240\n"
     ]
    }
   ],
   "source": [
    "if cuda.is_available():\n",
    "  write_numba_assembly_code(gpu_array, 'gpu_array.ptx')\n",
    "  report_cuda_kernel_properties(gpu_array)"
   ]
  },
  {
   "cell_type": "markdown",
   "id": "61f636ef-f944-4edc-8d8f-1c88ebbd9c0e",
   "metadata": {
    "lines_to_next_cell": 2
   },
   "source": [
    "## Approach 2: bitmasks"
   ]
  },
  {
   "cell_type": "code",
   "execution_count": 31,
   "id": "3693e30a-038c-4bee-9763-012050a7a6e7",
   "metadata": {
    "execution": {
     "iopub.execute_input": "2025-01-09T05:28:15.358591Z",
     "iopub.status.busy": "2025-01-09T05:28:15.358435Z",
     "iopub.status.idle": "2025-01-09T05:28:15.365048Z",
     "shell.execute_reply": "2025-01-09T05:28:15.364422Z",
     "shell.execute_reply.started": "2025-01-09T05:28:15.358579Z"
    }
   },
   "outputs": [],
   "source": [
    "# Thanks to Marcel Gavriliu for this approach of storing card bitmasks and summing them."
   ]
  },
  {
   "cell_type": "code",
   "execution_count": 32,
   "id": "d5eb7ab9-6d6e-4af4-b99e-b76ba60252b9",
   "metadata": {
    "execution": {
     "iopub.execute_input": "2025-01-09T05:28:15.366130Z",
     "iopub.status.busy": "2025-01-09T05:28:15.365886Z",
     "iopub.status.idle": "2025-01-09T05:28:15.377054Z",
     "shell.execute_reply": "2025-01-09T05:28:15.376316Z",
     "shell.execute_reply.started": "2025-01-09T05:28:15.366116Z"
    }
   },
   "outputs": [],
   "source": [
    "THREADS_PER_BLOCK = 256"
   ]
  },
  {
   "cell_type": "code",
   "execution_count": 33,
   "id": "2468db55-9dba-47da-99bf-c992cd446d44",
   "metadata": {
    "execution": {
     "iopub.execute_input": "2025-01-09T05:28:15.377963Z",
     "iopub.status.busy": "2025-01-09T05:28:15.377794Z",
     "iopub.status.idle": "2025-01-09T05:28:15.386403Z",
     "shell.execute_reply": "2025-01-09T05:28:15.385727Z",
     "shell.execute_reply.started": "2025-01-09T05:28:15.377951Z"
    }
   },
   "outputs": [],
   "source": [
    "CARD_COUNT_BITS = 3  # We use 3 bits to encode 0-7 cards for both ranks and suits.\n",
    "RANKS_ONE = 0b_001_001_001_001_001_001_001_001_001_001_001_001_001  # One card of each rank.\n",
    "RANKS_TWO = RANKS_ONE << 1\n",
    "RANKS_FOUR = RANKS_ONE << 2\n",
    "ROYAL_STRAIGHT_RANK_MASK = 0b_001_001_001_001_001_000_000_000_000_000_000_000_000\n",
    "ACE_LOW_STRAIGHT_RANK_MASK = 0b_001_000_000_000_000_000_000_000_000_001_001_001_001\n",
    "SUITS_ONE = 0b_001_001_001_001  # One card of each suit."
   ]
  },
  {
   "cell_type": "code",
   "execution_count": 34,
   "id": "eec21c55-97da-4226-87bb-cf9e66607b59",
   "metadata": {
    "execution": {
     "iopub.execute_input": "2025-01-09T05:28:15.387457Z",
     "iopub.status.busy": "2025-01-09T05:28:15.387108Z",
     "iopub.status.idle": "2025-01-09T05:28:15.395867Z",
     "shell.execute_reply": "2025-01-09T05:28:15.395259Z",
     "shell.execute_reply.started": "2025-01-09T05:28:15.387443Z"
    }
   },
   "outputs": [],
   "source": [
    "assert RANKS_ONE == int(sum((2**CARD_COUNT_BITS) ** np.arange(NUM_RANKS, dtype=np.uint64)))\n",
    "assert SUITS_ONE == int(sum((2**CARD_COUNT_BITS) ** np.arange(NUM_SUITS, dtype=np.uint64)))"
   ]
  },
  {
   "cell_type": "code",
   "execution_count": 35,
   "id": "2b3f6172-5fb2-4f08-b6c8-3460d7a36f23",
   "metadata": {
    "execution": {
     "iopub.execute_input": "2025-01-09T05:28:15.396953Z",
     "iopub.status.busy": "2025-01-09T05:28:15.396661Z",
     "iopub.status.idle": "2025-01-09T05:28:15.405170Z",
     "shell.execute_reply": "2025-01-09T05:28:15.404337Z",
     "shell.execute_reply.started": "2025-01-09T05:28:15.396940Z"
    }
   },
   "outputs": [],
   "source": [
    "def create_table_straights_rank_mask():\n",
    "  \"\"\"Create a table containing the 10 bitmasks corresponding to the 10 possible straights.\"\"\"\n",
    "  lst = [0b_001_001_001_001_001 << (i * 3) for i in range(9)]  # '23456' to 'TJQKA'.\n",
    "  lst.append(ACE_LOW_STRAIGHT_RANK_MASK)  # 'A2345'.\n",
    "  return np.array(lst, np.uint64)"
   ]
  },
  {
   "cell_type": "code",
   "execution_count": 36,
   "id": "97639df3-a4ac-40c8-9329-15901d622de9",
   "metadata": {
    "execution": {
     "iopub.execute_input": "2025-01-09T05:28:15.406035Z",
     "iopub.status.busy": "2025-01-09T05:28:15.405869Z",
     "iopub.status.idle": "2025-01-09T05:28:15.414425Z",
     "shell.execute_reply": "2025-01-09T05:28:15.413785Z",
     "shell.execute_reply.started": "2025-01-09T05:28:15.406022Z"
    },
    "lines_to_next_cell": 2
   },
   "outputs": [],
   "source": [
    "# Table of 10 uint64, each the \"13 * 3\"-bit mask encoding of ranks in straight.\n",
    "TABLE_STRAIGHTS_RANK_MASK = create_table_straights_rank_mask()"
   ]
  },
  {
   "cell_type": "markdown",
   "id": "e46a6e01-430b-46c2-a592-c5663abb4b59",
   "metadata": {
    "lines_to_next_cell": 2
   },
   "source": [
    "### Hand evaluation"
   ]
  },
  {
   "cell_type": "code",
   "execution_count": 37,
   "id": "8e047607-c10a-48a7-a5c7-a655fba16e2e",
   "metadata": {
    "execution": {
     "iopub.execute_input": "2025-01-09T05:28:15.415335Z",
     "iopub.status.busy": "2025-01-09T05:28:15.415167Z",
     "iopub.status.idle": "2025-01-09T05:28:15.424595Z",
     "shell.execute_reply": "2025-01-09T05:28:15.423769Z",
     "shell.execute_reply.started": "2025-01-09T05:28:15.415322Z"
    }
   },
   "outputs": [],
   "source": [
    "@numba.jit\n",
    "def mask_of_card(card: numba.uint8) -> numba.uint64:\n",
    "  \"\"\"Return a bitmask of 4*3 + 13*3 bits encoding the suit and rank of 0 <= `card` < 52.\"\"\"\n",
    "  suit_index = card & 0b11\n",
    "  rank_index = card >> 2\n",
    "  mask = (1 << (suit_index * 3 + NUM_RANKS * 3)) | (1 << (rank_index * 3))\n",
    "  return mask"
   ]
  },
  {
   "cell_type": "code",
   "execution_count": 38,
   "id": "e71f606e-973e-4e47-9904-e7ecd9b5ef79",
   "metadata": {
    "execution": {
     "iopub.execute_input": "2025-01-09T05:28:15.426049Z",
     "iopub.status.busy": "2025-01-09T05:28:15.425457Z",
     "iopub.status.idle": "2025-01-09T05:28:15.434617Z",
     "shell.execute_reply": "2025-01-09T05:28:15.434000Z",
     "shell.execute_reply.started": "2025-01-09T05:28:15.426033Z"
    }
   },
   "outputs": [],
   "source": [
    "@numba.jit\n",
    "def determine_straight(rank_count_mask: numba.uint64) -> bool:\n",
    "  \"\"\"Return true if the rank bitmask corresponds to a straight.\"\"\"\n",
    "  m = rank_count_mask\n",
    "  t = TABLE_STRAIGHTS_RANK_MASK\n",
    "  assert len(t) == 10\n",
    "  result = (m == t[0]) | (m == t[1]) | (m == t[2]) | (m == t[3]) | (m == t[4])\n",
    "  result |= (m == t[5]) | (m == t[6]) | (m == t[7]) | (m == t[8]) | (m == t[9])\n",
    "  return result"
   ]
  },
  {
   "cell_type": "code",
   "execution_count": 39,
   "id": "70b3db5c-751e-47ed-aeb1-b86a6c04d497",
   "metadata": {
    "execution": {
     "iopub.execute_input": "2025-01-09T05:28:15.435734Z",
     "iopub.status.busy": "2025-01-09T05:28:15.435369Z",
     "iopub.status.idle": "2025-01-09T05:28:15.444441Z",
     "shell.execute_reply": "2025-01-09T05:28:15.443833Z",
     "shell.execute_reply.started": "2025-01-09T05:28:15.435718Z"
    },
    "lines_to_next_cell": 2
   },
   "outputs": [],
   "source": [
    "def make_outcome_of_hand_bitmask(for_cuda: bool) -> Callable[[numba.uint64], numba.uint8]:\n",
    "  \"\"\"Factory returning a function for numba or cuda evaluation.\"\"\"\n",
    "  popc = gpu_popc if for_cuda else cpu_popc\n",
    "\n",
    "  def outcome_of_hand_bitmask(bitmask_sum: numba.uint64) -> numba.uint8:\n",
    "    \"\"\"Evaluate 5-card poker hand and return outcome ranking, using sum of card bitmasks.\"\"\"\n",
    "    # pylint: disable=too-many-function-args\n",
    "    suit_count_mask = numba.uint32(bitmask_sum >> CARD_COUNT_BITS * NUM_RANKS)\n",
    "    rank_count_mask = numba.uint64(bitmask_sum & (2 ** (CARD_COUNT_BITS * NUM_RANKS) - 1))\n",
    "\n",
    "    is_flush = popc(numba.uint32(suit_count_mask & (suit_count_mask >> 2) & SUITS_ONE)) != 0\n",
    "    is_straight = determine_straight(rank_count_mask)\n",
    "    is_four = (rank_count_mask & RANKS_FOUR) != 0\n",
    "    is_three = ((rank_count_mask + RANKS_ONE) & RANKS_FOUR) != 0\n",
    "    mask_two_or_more = rank_count_mask & RANKS_TWO\n",
    "    num_two_or_more = numba.uint32(popc(mask_two_or_more))\n",
    "\n",
    "    if is_flush and is_straight:\n",
    "      if rank_count_mask == ROYAL_STRAIGHT_RANK_MASK:\n",
    "        return Outcome.ROYAL_FLUSH.value\n",
    "      return Outcome.STRAIGHT_FLUSH.value\n",
    "    if is_four:\n",
    "      return Outcome.FOUR_OF_A_KIND.value\n",
    "    if is_three and num_two_or_more > 1:\n",
    "      return Outcome.FULL_HOUSE.value\n",
    "    if is_flush:\n",
    "      return Outcome.FLUSH.value\n",
    "    if is_straight:\n",
    "      return Outcome.STRAIGHT.value\n",
    "    if is_three:\n",
    "      return Outcome.THREE_OF_A_KIND.value\n",
    "    if num_two_or_more == 2:\n",
    "      return Outcome.TWO_PAIR.value\n",
    "    if num_two_or_more == 1:\n",
    "      return Outcome.ONE_PAIR.value\n",
    "    return Outcome.HIGH_CARD.value\n",
    "\n",
    "  return outcome_of_hand_bitmask\n",
    "\n",
    "\n",
    "outcome_of_hand_bitmask_numba = numba.njit(make_outcome_of_hand_bitmask(for_cuda=False))\n",
    "outcome_of_hand_bitmask_cuda = numba.njit(make_outcome_of_hand_bitmask(for_cuda=True))"
   ]
  },
  {
   "cell_type": "markdown",
   "id": "01554e65-c360-4f56-a691-ac236d908127",
   "metadata": {
    "execution": {
     "iopub.execute_input": "2025-01-08T00:20:14.215144Z",
     "iopub.status.busy": "2025-01-08T00:20:14.214635Z",
     "iopub.status.idle": "2025-01-08T00:20:14.217614Z",
     "shell.execute_reply": "2025-01-08T00:20:14.217097Z",
     "shell.execute_reply.started": "2025-01-08T00:20:14.215128Z"
    },
    "lines_to_next_cell": 2
   },
   "source": [
    "### CPU simulation"
   ]
  },
  {
   "cell_type": "code",
   "execution_count": 40,
   "id": "58bdea27-2349-46ea-bc80-730e8357887e",
   "metadata": {
    "execution": {
     "iopub.execute_input": "2025-01-09T05:28:15.445584Z",
     "iopub.status.busy": "2025-01-09T05:28:15.445374Z",
     "iopub.status.idle": "2025-01-09T05:28:15.456857Z",
     "shell.execute_reply": "2025-01-09T05:28:15.456121Z",
     "shell.execute_reply.started": "2025-01-09T05:28:15.445569Z"
    }
   },
   "outputs": [],
   "source": [
    "@numba.njit\n",
    "def simulate_hands_bitmask_cpu_numba(num_decks: int, rng: np.random.Generator) -> Probabilities:\n",
    "  BLOCK_SIZE = 10\n",
    "  deck_block = np.empty((BLOCK_SIZE, DECK_SIZE), dtype=np.uint8)\n",
    "  deck_block[:] = np.arange(DECK_SIZE, dtype=np.uint8)\n",
    "  tally = np.zeros(NUM_OUTCOMES, np.int64)\n",
    "\n",
    "  for deck_index_start in range(0, num_decks, BLOCK_SIZE):\n",
    "    deck_block2 = rng.permutation(deck_block, axis=1)\n",
    "\n",
    "    for deck_index in range(deck_index_start, min(deck_index_start + BLOCK_SIZE, num_decks)):\n",
    "      deck = deck_block2[deck_index - deck_index_start]\n",
    "      mask0, mask1 = mask_of_card(deck[0]), mask_of_card(deck[1])\n",
    "      mask2, mask3 = mask_of_card(deck[2]), mask_of_card(deck[3])\n",
    "      bitmask_sum = mask0 + mask1 + mask2 + mask3\n",
    "\n",
    "      for hand_index in range(HANDS_PER_DECK):\n",
    "        mask4 = mask_of_card(deck[hand_index + 4])\n",
    "        bitmask_sum += mask4\n",
    "        outcome = outcome_of_hand_bitmask_numba(bitmask_sum)\n",
    "        tally[outcome] += 1\n",
    "        bitmask_sum -= mask0\n",
    "        mask0, mask1, mask2, mask3 = mask1, mask2, mask3, mask4\n",
    "\n",
    "  return tally / (num_decks * HANDS_PER_DECK)"
   ]
  },
  {
   "cell_type": "code",
   "execution_count": 41,
   "id": "4697056b-bb7a-4370-86df-fd5686592276",
   "metadata": {
    "execution": {
     "iopub.execute_input": "2025-01-09T05:28:15.458082Z",
     "iopub.status.busy": "2025-01-09T05:28:15.457641Z",
     "iopub.status.idle": "2025-01-09T05:28:15.468035Z",
     "shell.execute_reply": "2025-01-09T05:28:15.467376Z",
     "shell.execute_reply.started": "2025-01-09T05:28:15.458065Z"
    }
   },
   "outputs": [],
   "source": [
    "# simulate_poker_hands(10**7, 'bitmask_cpu_numba', simulate_hands_bitmask_cpu_numba)  # ~130 m hands/s"
   ]
  },
  {
   "cell_type": "code",
   "execution_count": 42,
   "id": "b4567788-0ab1-4309-b0cc-6a4e180f0b59",
   "metadata": {
    "execution": {
     "iopub.execute_input": "2025-01-09T05:28:15.468965Z",
     "iopub.status.busy": "2025-01-09T05:28:15.468789Z",
     "iopub.status.idle": "2025-01-09T05:28:18.005412Z",
     "shell.execute_reply": "2025-01-09T05:28:18.004795Z",
     "shell.execute_reply.started": "2025-01-09T05:28:15.468951Z"
    },
    "lines_to_next_cell": 2
   },
   "outputs": [],
   "source": [
    "assert np.allclose(simulate_hands_bitmask_cpu_numba(10**5, RNG), EXPECTED_PROB, atol=0.002)"
   ]
  },
  {
   "cell_type": "code",
   "execution_count": 43,
   "id": "c79e7a2c-cc47-40ae-aa1b-57d04007871c",
   "metadata": {
    "execution": {
     "iopub.execute_input": "2025-01-09T05:28:18.006413Z",
     "iopub.status.busy": "2025-01-09T05:28:18.006099Z",
     "iopub.status.idle": "2025-01-09T05:28:18.153454Z",
     "shell.execute_reply": "2025-01-09T05:28:18.152662Z",
     "shell.execute_reply.started": "2025-01-09T05:28:18.006395Z"
    },
    "lines_to_next_cell": 2
   },
   "outputs": [
    {
     "name": "stdout",
     "output_type": "stream",
     "text": [
      "35.7 ms ± 118 µs per loop (mean ± std. dev. of 2 runs, 2 loops each)\n"
     ]
    }
   ],
   "source": [
    "%timeit -n2 -r2 simulate_hands_bitmask_cpu_numba(10**5, RNG)  # ~35 ms if low variance."
   ]
  },
  {
   "cell_type": "code",
   "execution_count": 44,
   "id": "3b1cc2c5-e330-4fc4-b14a-d69616efcc84",
   "metadata": {
    "execution": {
     "iopub.execute_input": "2025-01-09T05:28:18.154993Z",
     "iopub.status.busy": "2025-01-09T05:28:18.154299Z",
     "iopub.status.idle": "2025-01-09T05:28:18.178560Z",
     "shell.execute_reply": "2025-01-09T05:28:18.178009Z",
     "shell.execute_reply.started": "2025-01-09T05:28:18.154976Z"
    }
   },
   "outputs": [],
   "source": [
    "def compute_bitmask_chunk(args: tuple[int, np.random.Generator]) -> Probabilities:\n",
    "  num_decks, rng = args\n",
    "  return simulate_hands_bitmask_cpu_numba(num_decks, rng)"
   ]
  },
  {
   "cell_type": "code",
   "execution_count": 45,
   "id": "a5d21e18-247f-4485-86f2-c96c350edb51",
   "metadata": {
    "execution": {
     "iopub.execute_input": "2025-01-09T05:28:18.179768Z",
     "iopub.status.busy": "2025-01-09T05:28:18.179215Z",
     "iopub.status.idle": "2025-01-09T05:28:18.187808Z",
     "shell.execute_reply": "2025-01-09T05:28:18.187261Z",
     "shell.execute_reply.started": "2025-01-09T05:28:18.179729Z"
    },
    "lines_to_next_cell": 2
   },
   "outputs": [],
   "source": [
    "def simulate_hands_bitmask_cpu_numba_multiprocess(\n",
    "    num_decks: int, rng: np.random.Generator\n",
    ") -> Probabilities:\n",
    "  num_processes = multiprocessing.cpu_count()\n",
    "  chunk_num_decks = math.ceil(num_decks / num_processes)\n",
    "  new_rngs = rng.spawn(num_processes)\n",
    "  chunks = [(chunk_num_decks, new_rng) for new_rng in new_rngs]\n",
    "  with multiprocessing.get_context('fork').Pool(num_processes) as pool:\n",
    "    results = pool.map(compute_bitmask_chunk, chunks)\n",
    "  return np.mean(results, axis=0)"
   ]
  },
  {
   "cell_type": "markdown",
   "id": "3eea8629-f9f8-416e-92d4-790f0c9e1d32",
   "metadata": {
    "lines_to_next_cell": 2
   },
   "source": [
    "### GPU simulation"
   ]
  },
  {
   "cell_type": "code",
   "execution_count": 46,
   "id": "6595778e-5ba7-4215-9abe-7598ba6aa1e2",
   "metadata": {
    "execution": {
     "iopub.execute_input": "2025-01-09T05:28:18.188738Z",
     "iopub.status.busy": "2025-01-09T05:28:18.188449Z",
     "iopub.status.idle": "2025-01-09T05:28:18.201974Z",
     "shell.execute_reply": "2025-01-09T05:28:18.201415Z",
     "shell.execute_reply.started": "2025-01-09T05:28:18.188723Z"
    }
   },
   "outputs": [],
   "source": [
    "@cuda.jit(fastmath=True)\n",
    "def gpu_bitmask(rng_states, num_decks_per_thread, global_tally):\n",
    "  # pylint: disable=too-many-function-args, no-value-for-parameter, comparison-with-callable\n",
    "  thread_index = cuda.grid(1)\n",
    "  thread_id = cuda.threadIdx.x  # Index within block.\n",
    "\n",
    "  block_tally = cuda.shared.array((NUM_OUTCOMES, THREADS_PER_BLOCK), np.int32)\n",
    "  block_deck = cuda.shared.array((THREADS_PER_BLOCK, DECK_SIZE), np.uint8)\n",
    "  tally = block_tally[:, thread_id]\n",
    "  deck = block_deck[thread_id]\n",
    "  tally[:] = 0\n",
    "\n",
    "  if thread_index >= len(rng_states):\n",
    "    return  # This must come after tally[] is zeroed, to simplify reduction below.\n",
    "\n",
    "  for i in range(numba.uint8(DECK_SIZE)):  # Casting as uint8 nicely unrolls the loop.\n",
    "    deck[i] = i\n",
    "\n",
    "  rng = rng_states[thread_index]\n",
    "  s0, s1, s2, s3 = rng['s0'], rng['s1'], rng['s2'], rng['s3']\n",
    "\n",
    "  for _ in range(numba.int32(num_decks_per_thread)):\n",
    "    # Apply Fisher-Yates shuffle to current deck.\n",
    "    for i in range(numba.int32(51), numba.int32(0), numba.int32(-1)):\n",
    "      random_uint32, s0, s1, s2, s3 = random32.xoshiro128p_next_raw(s0, s1, s2, s3)\n",
    "      s0, s1, s2, s3 = numba.uint32(s0), numba.uint32(s1), numba.uint32(s2), numba.uint32(s3)\n",
    "      if 0:\n",
    "        j = random_uint32 % numba.uint32(i + 1)  # Remainder is somewhat expensive in CUDA.\n",
    "      else:\n",
    "        # In `random_uint32`, the msb have better randomness than the lsb, so float32 mul is better.\n",
    "        value_in_unit_interval = random32.uint32_to_unit_float32(random_uint32)\n",
    "        j = int(numba.float32(value_in_unit_interval * numba.float32(i + 1)))\n",
    "      deck[i], deck[j] = deck[j], deck[i]\n",
    "\n",
    "    mask0, mask1 = mask_of_card(deck[0]), mask_of_card(deck[1])\n",
    "    mask2, mask3 = mask_of_card(deck[2]), mask_of_card(deck[3])\n",
    "    bitmask_sum = mask0 + mask1 + mask2 + mask3\n",
    "\n",
    "    for hand_index in range(numba.int32(HANDS_PER_DECK)):\n",
    "      mask4 = mask_of_card(deck[hand_index + 4])\n",
    "      bitmask_sum += mask4\n",
    "      outcome = numba.int32(outcome_of_hand_bitmask_cuda(bitmask_sum))\n",
    "      tally[outcome] += 1\n",
    "      bitmask_sum -= mask0\n",
    "      mask0, mask1, mask2, mask3 = mask1, mask2, mask3, mask4\n",
    "\n",
    "  # Compute a parallel sum reduction on the outcome tally.\n",
    "  temp_tally = cuda.shared.array(NUM_OUTCOMES, np.int64)  # Per-block tally.\n",
    "  temp_tally[:] = 0\n",
    "  cuda.syncthreads()\n",
    "\n",
    "  # First do a sum reduction within the 32 lanes of each warp (still at 32-bit precision).\n",
    "  for i in range(NUM_OUTCOMES):\n",
    "    value = block_tally[i, thread_id]\n",
    "    for offset in [16, 8, 4, 2, 1]:\n",
    "      value += cuda.shfl_down_sync(0xFFFFFFFF, value, offset)\n",
    "    if cuda.laneid == 0:\n",
    "      cuda.atomic.add(temp_tally, i, numba.int64(value))  # Reduce across the block's warps.\n",
    "  cuda.syncthreads()\n",
    "\n",
    "  # Final reduction across blocks to global_tally.\n",
    "  if thread_id == 0:\n",
    "    for i in range(NUM_OUTCOMES):\n",
    "      cuda.atomic.add(global_tally, i, temp_tally[i])"
   ]
  },
  {
   "cell_type": "code",
   "execution_count": 47,
   "id": "4133487b-134a-4358-8518-c5979efc9acd",
   "metadata": {
    "execution": {
     "iopub.execute_input": "2025-01-09T05:28:18.202947Z",
     "iopub.status.busy": "2025-01-09T05:28:18.202579Z",
     "iopub.status.idle": "2025-01-09T05:28:18.214194Z",
     "shell.execute_reply": "2025-01-09T05:28:18.213449Z",
     "shell.execute_reply.started": "2025-01-09T05:28:18.202928Z"
    }
   },
   "outputs": [],
   "source": [
    "def simulate_hands_bitmask_gpu_cuda(num_decks: int, rng: np.random.Generator) -> Probabilities:\n",
    "  device = cuda.get_current_device()\n",
    "  # Target enough threads for ~4 blocks per SM.\n",
    "  target_num_threads = 4 * device.MULTIPROCESSOR_COUNT * THREADS_PER_BLOCK\n",
    "  num_decks_per_thread = max(1, num_decks // target_num_threads)\n",
    "  num_threads = num_decks // num_decks_per_thread\n",
    "  # print(f'{num_decks_per_thread=} {num_threads=}')\n",
    "  blocks = math.ceil(num_threads / THREADS_PER_BLOCK)\n",
    "  seed = rng.integers(2**64, dtype=np.uint64)\n",
    "  d_rng_states = random_create_states(num_threads, seed)\n",
    "  d_global_tally = cuda.to_device(np.zeros(NUM_OUTCOMES, np.int64))\n",
    "  gpu_bitmask[blocks, THREADS_PER_BLOCK](d_rng_states, num_decks_per_thread, d_global_tally)\n",
    "  return d_global_tally.copy_to_host() / (num_threads * num_decks_per_thread * HANDS_PER_DECK)"
   ]
  },
  {
   "cell_type": "code",
   "execution_count": 48,
   "id": "2fe1fec3-f262-410f-938e-5fc22ad13727",
   "metadata": {
    "execution": {
     "iopub.execute_input": "2025-01-09T05:28:18.215043Z",
     "iopub.status.busy": "2025-01-09T05:28:18.214878Z",
     "iopub.status.idle": "2025-01-09T05:28:18.225934Z",
     "shell.execute_reply": "2025-01-09T05:28:18.224909Z",
     "shell.execute_reply.started": "2025-01-09T05:28:18.215032Z"
    }
   },
   "outputs": [],
   "source": [
    "# simulate_poker_hands(10**9, 'bitmask_gpu_cuda', simulate_hands_bitmask_gpu_cuda)  # ~9-11 G hands/s."
   ]
  },
  {
   "cell_type": "code",
   "execution_count": 49,
   "id": "958981de-2fde-480b-a15e-b761255c37c9",
   "metadata": {
    "execution": {
     "iopub.execute_input": "2025-01-09T05:28:18.227271Z",
     "iopub.status.busy": "2025-01-09T05:28:18.226915Z",
     "iopub.status.idle": "2025-01-09T05:28:18.977002Z",
     "shell.execute_reply": "2025-01-09T05:28:18.976293Z",
     "shell.execute_reply.started": "2025-01-09T05:28:18.227256Z"
    }
   },
   "outputs": [],
   "source": [
    "if cuda.is_available():\n",
    "  assert np.allclose(simulate_hands_bitmask_gpu_cuda(10**7, RNG), EXPECTED_PROB, atol=0.0001)"
   ]
  },
  {
   "cell_type": "code",
   "execution_count": 50,
   "id": "f3d4a20b-0082-4e4c-b752-6bacb0502053",
   "metadata": {
    "execution": {
     "iopub.execute_input": "2025-01-09T05:28:18.978702Z",
     "iopub.status.busy": "2025-01-09T05:28:18.977873Z",
     "iopub.status.idle": "2025-01-09T05:28:19.672033Z",
     "shell.execute_reply": "2025-01-09T05:28:19.671251Z",
     "shell.execute_reply.started": "2025-01-09T05:28:18.978659Z"
    }
   },
   "outputs": [
    {
     "name": "stdout",
     "output_type": "stream",
     "text": [
      "Timing:\n",
      "68.9 ms ± 27.7 ms per loop (mean ± std. dev. of 10 runs, 1 loop each)\n"
     ]
    }
   ],
   "source": [
    "if cuda.is_available():\n",
    "  print('Timing:')\n",
    "  %timeit -n1 -r10 simulate_hands_bitmask_gpu_cuda(10**7, RNG)  # ~41 ms if low variance."
   ]
  },
  {
   "cell_type": "code",
   "execution_count": 51,
   "id": "eb27c7ae-beb4-4cb0-a28f-8f520e2870c3",
   "metadata": {
    "execution": {
     "iopub.execute_input": "2025-01-09T05:28:19.673174Z",
     "iopub.status.busy": "2025-01-09T05:28:19.672853Z",
     "iopub.status.idle": "2025-01-09T05:28:19.678821Z",
     "shell.execute_reply": "2025-01-09T05:28:19.678235Z",
     "shell.execute_reply.started": "2025-01-09T05:28:19.673157Z"
    }
   },
   "outputs": [
    {
     "name": "stdout",
     "output_type": "stream",
     "text": [
      "const_mem_size = 0\n",
      "local_mem_per_thread = 0\n",
      "max_threads_per_block = 1024\n",
      "regs_per_thread = 38\n",
      "shared_mem_per_block = 23632\n"
     ]
    }
   ],
   "source": [
    "if cuda.is_available():\n",
    "  write_numba_assembly_code(gpu_bitmask, 'gpu_bitmask.ptx')\n",
    "  report_cuda_kernel_properties(gpu_bitmask)"
   ]
  },
  {
   "cell_type": "markdown",
   "id": "d2bc4755-cde2-4223-80f0-5b02fc49a389",
   "metadata": {},
   "source": [
    "## Results"
   ]
  },
  {
   "cell_type": "code",
   "execution_count": 52,
   "id": "940da643-485f-4416-8020-0651a5eb867f",
   "metadata": {
    "execution": {
     "iopub.execute_input": "2025-01-09T05:28:19.679982Z",
     "iopub.status.busy": "2025-01-09T05:28:19.679615Z",
     "iopub.status.idle": "2025-01-09T05:28:19.686565Z",
     "shell.execute_reply": "2025-01-09T05:28:19.685853Z",
     "shell.execute_reply.started": "2025-01-09T05:28:19.679963Z"
    }
   },
   "outputs": [],
   "source": [
    "SIMULATE_FUNCTIONS = {\n",
    "    name: func\n",
    "    for name, func in {\n",
    "        'array_cpu_python': simulate_hands_array_cpu_python,\n",
    "        'array_cpu_numba': simulate_hands_array_cpu_numba,\n",
    "        'array_cpu_numba_multiprocess': simulate_hands_array_cpu_numba_multiprocess,\n",
    "        'array_gpu_cuda': simulate_hands_array_gpu_cuda,\n",
    "        'bitmask_cpu_numba': simulate_hands_bitmask_cpu_numba,\n",
    "        'bitmask_cpu_numba_multiprocess': simulate_hands_bitmask_cpu_numba_multiprocess,\n",
    "        'bitmask_gpu_cuda': simulate_hands_bitmask_gpu_cuda,\n",
    "    }.items()\n",
    "    if ('multiprocess' not in name or MULTIPROCESS_IS_AVAILABLE)\n",
    "    and ('cuda' not in name or cuda.is_available())\n",
    "}"
   ]
  },
  {
   "cell_type": "code",
   "execution_count": 53,
   "id": "92bde0ec-7f24-4f13-b350-cc413094ab11",
   "metadata": {
    "execution": {
     "iopub.execute_input": "2025-01-09T05:28:19.687476Z",
     "iopub.status.busy": "2025-01-09T05:28:19.687294Z",
     "iopub.status.idle": "2025-01-09T05:28:19.698758Z",
     "shell.execute_reply": "2025-01-09T05:28:19.697996Z",
     "shell.execute_reply.started": "2025-01-09T05:28:19.687463Z"
    }
   },
   "outputs": [],
   "source": [
    "COMPLEXITY_ADJUSTMENT = {\n",
    "    'array_cpu_python': 0.01,\n",
    "    'array_cpu_numba': 2.0,\n",
    "    'array_cpu_numba_multiprocess': 20.0,\n",
    "    'array_gpu_cuda': 100.0,\n",
    "    'bitmask_cpu_numba': 2.0,\n",
    "    'bitmask_cpu_numba_multiprocess': 20.0,\n",
    "    'bitmask_gpu_cuda': 200.0,\n",
    "}"
   ]
  },
  {
   "cell_type": "code",
   "execution_count": 54,
   "id": "e7bd410e-681f-499c-b2bf-8303c7146423",
   "metadata": {
    "execution": {
     "iopub.execute_input": "2025-01-09T05:28:19.700087Z",
     "iopub.status.busy": "2025-01-09T05:28:19.699907Z",
     "iopub.status.idle": "2025-01-09T05:28:19.708104Z",
     "shell.execute_reply": "2025-01-09T05:28:19.707440Z",
     "shell.execute_reply.started": "2025-01-09T05:28:19.700073Z"
    }
   },
   "outputs": [],
   "source": [
    "def simulate_poker_hands(desired_num_hands: int, func_name: str, func: Any) -> None:\n",
    "  num_decks = math.ceil(desired_num_hands / HANDS_PER_DECK)\n",
    "  num_hands = num_decks * HANDS_PER_DECK\n",
    "  print(f'\\nFor {func_name} simulating {num_hands:,} hands:')\n",
    "\n",
    "  # Ensure the function is jitted.\n",
    "  _ = func(num_decks // 10, RNG)\n",
    "\n",
    "  start_time = time.perf_counter_ns()\n",
    "  results = func(num_decks, RNG)\n",
    "  elapsed_time = (time.perf_counter_ns() - start_time) / 10**9\n",
    "\n",
    "  round_digits = lambda x, ndigits=3: round(x, ndigits - 1 - math.floor(math.log10(abs(x))))\n",
    "  hands_per_s = round_digits(int(num_hands / elapsed_time))\n",
    "  print(f' Elapsed time is {elapsed_time:.3f} s, or {hands_per_s:,} hands/s.')\n",
    "\n",
    "  print(' Probabilities:')\n",
    "  for outcome, result_prob in zip(Outcome, results):\n",
    "    reference_prob = outcome.reference_count / comb(DECK_SIZE, HAND_SIZE)\n",
    "    error = result_prob - reference_prob\n",
    "    estimate_sdv = (reference_prob * (1 - reference_prob) / num_hands) ** 0.5\n",
    "    sdv = error / estimate_sdv\n",
    "    s = f'  {outcome.string_name:<16}: {result_prob * 100:8.5f}%'\n",
    "    s += f'  (vs. ref. {reference_prob * 100:8.5f}%  error:{error * 100:8.5f}% {sdv:6.2f}σ)'\n",
    "    print(s)"
   ]
  },
  {
   "cell_type": "code",
   "execution_count": 55,
   "id": "e935c8b8-a126-4a4f-ae08-bbba8d6a80b4",
   "metadata": {
    "execution": {
     "iopub.execute_input": "2025-01-09T05:28:19.708976Z",
     "iopub.status.busy": "2025-01-09T05:28:19.708786Z",
     "iopub.status.idle": "2025-01-09T05:28:19.719509Z",
     "shell.execute_reply": "2025-01-09T05:28:19.718875Z",
     "shell.execute_reply.started": "2025-01-09T05:28:19.708962Z"
    }
   },
   "outputs": [],
   "source": [
    "def compare_simulations(base_num_hands: int) -> None:\n",
    "  for func_name, func in SIMULATE_FUNCTIONS.items():\n",
    "    desired_num_hands = math.ceil(base_num_hands * COMPLEXITY_ADJUSTMENT[func_name])\n",
    "    simulate_poker_hands(desired_num_hands, func_name, func)"
   ]
  },
  {
   "cell_type": "code",
   "execution_count": 60,
   "id": "ca0e7a67-ca73-4e8f-b584-9368daefeb7e",
   "metadata": {
    "execution": {
     "iopub.execute_input": "2025-01-09T05:34:06.181706Z",
     "iopub.status.busy": "2025-01-09T05:34:06.181312Z",
     "iopub.status.idle": "2025-01-09T05:34:09.682496Z",
     "shell.execute_reply": "2025-01-09T05:34:09.681758Z",
     "shell.execute_reply.started": "2025-01-09T05:34:06.181692Z"
    }
   },
   "outputs": [
    {
     "name": "stdout",
     "output_type": "stream",
     "text": [
      "\n",
      "For array_cpu_python simulating 100,032 hands:\n",
      " Elapsed time is 0.734 s, or 136,000 hands/s.\n",
      " Probabilities:\n",
      "  Royal flush     :  0.00000%  (vs. ref.  0.00015%  error:-0.00015%  -0.39σ)\n",
      "  Straight flush  :  0.01000%  (vs. ref.  0.00139%  error: 0.00861%   7.32σ)\n",
      "  Four of a kind  :  0.00000%  (vs. ref.  0.02401%  error:-0.02401%  -4.90σ)\n",
      "  Full house      :  0.08997%  (vs. ref.  0.14406%  error:-0.05409%  -4.51σ)\n",
      "  Flush           :  0.22993%  (vs. ref.  0.19654%  error: 0.03339%   2.38σ)\n",
      "  Straight        :  0.44986%  (vs. ref.  0.39246%  error: 0.05739%   2.90σ)\n",
      "  Three of a kind :  1.94938%  (vs. ref.  2.11285%  error:-0.16347%  -3.60σ)\n",
      "  Two pair        :  4.97841%  (vs. ref.  4.75390%  error: 0.22451%   3.34σ)\n",
      "  One pair        : 42.79631%  (vs. ref. 42.25690%  error: 0.53940%   3.45σ)\n",
      "  High card       : 49.49616%  (vs. ref. 50.11774%  error:-0.62158%  -3.93σ)\n",
      "\n",
      "For array_cpu_numba simulating 20,000,016 hands:\n",
      " Elapsed time is 0.611 s, or 32,700,000 hands/s.\n",
      " Probabilities:\n",
      "  Royal flush     :  0.00005%  (vs. ref.  0.00015%  error:-0.00010%  -3.75σ)\n",
      "  Straight flush  :  0.00150%  (vs. ref.  0.00139%  error: 0.00011%   1.38σ)\n",
      "  Four of a kind  :  0.02640%  (vs. ref.  0.02401%  error: 0.00239%   6.90σ)\n",
      "  Full house      :  0.14415%  (vs. ref.  0.14406%  error: 0.00009%   0.11σ)\n",
      "  Flush           :  0.19475%  (vs. ref.  0.19654%  error:-0.00179%  -1.81σ)\n",
      "  Straight        :  0.39315%  (vs. ref.  0.39246%  error: 0.00069%   0.49σ)\n",
      "  Three of a kind :  2.08970%  (vs. ref.  2.11285%  error:-0.02315%  -7.20σ)\n",
      "  Two pair        :  4.79270%  (vs. ref.  4.75390%  error: 0.03879%   8.15σ)\n",
      "  One pair        : 42.28653%  (vs. ref. 42.25690%  error: 0.02963%   2.68σ)\n",
      "  High card       : 50.07107%  (vs. ref. 50.11774%  error:-0.04666%  -4.17σ)\n",
      "\n",
      "For array_cpu_numba_multiprocess simulating 200,000,016 hands:\n",
      " Elapsed time is 0.560 s, or 357,000,000 hands/s.\n",
      " Probabilities:\n",
      "  Royal flush     :  0.00012%  (vs. ref.  0.00015%  error:-0.00003%  -3.87σ)\n",
      "  Straight flush  :  0.00148%  (vs. ref.  0.00139%  error: 0.00010%   3.79σ)\n",
      "  Four of a kind  :  0.02352%  (vs. ref.  0.02401%  error:-0.00049%  -4.47σ)\n",
      "  Full house      :  0.14595%  (vs. ref.  0.14406%  error: 0.00189%   7.05σ)\n",
      "  Flush           :  0.19601%  (vs. ref.  0.19654%  error:-0.00053%  -1.69σ)\n",
      "  Straight        :  0.39009%  (vs. ref.  0.39246%  error:-0.00237%  -5.36σ)\n",
      "  Three of a kind :  2.10862%  (vs. ref.  2.11285%  error:-0.00423%  -4.16σ)\n",
      "  Two pair        :  4.75095%  (vs. ref.  4.75390%  error:-0.00296%  -1.96σ)\n",
      "  One pair        : 42.23038%  (vs. ref. 42.25690%  error:-0.02652%  -7.59σ)\n",
      "  High card       : 50.15288%  (vs. ref. 50.11774%  error: 0.03514%   9.94σ)\n",
      "\n",
      "For array_gpu_cuda simulating 1,000,000,032 hands:\n",
      " Elapsed time is 0.451 s, or 2,220,000,000 hands/s.\n",
      " Probabilities:\n",
      "  Royal flush     :  0.00015%  (vs. ref.  0.00015%  error:-0.00001%  -1.35σ)\n",
      "  Straight flush  :  0.00138%  (vs. ref.  0.00139%  error:-0.00000%  -0.08σ)\n",
      "  Four of a kind  :  0.02404%  (vs. ref.  0.02401%  error: 0.00003%   0.59σ)\n",
      "  Full house      :  0.14421%  (vs. ref.  0.14406%  error: 0.00016%   1.29σ)\n",
      "  Flush           :  0.19668%  (vs. ref.  0.19654%  error: 0.00014%   1.00σ)\n",
      "  Straight        :  0.39246%  (vs. ref.  0.39246%  error:-0.00001%  -0.04σ)\n",
      "  Three of a kind :  2.11291%  (vs. ref.  2.11285%  error: 0.00007%   0.15σ)\n",
      "  Two pair        :  4.75332%  (vs. ref.  4.75390%  error:-0.00058%  -0.86σ)\n",
      "  One pair        : 42.25673%  (vs. ref. 42.25690%  error:-0.00017%  -0.11σ)\n",
      "  High card       : 50.11812%  (vs. ref. 50.11774%  error: 0.00038%   0.24σ)\n",
      "\n",
      "For bitmask_cpu_numba simulating 20,000,016 hands:\n",
      " Elapsed time is 0.146 s, or 137,000,000 hands/s.\n",
      " Probabilities:\n",
      "  Royal flush     :  0.00010%  (vs. ref.  0.00015%  error:-0.00005%  -1.94σ)\n",
      "  Straight flush  :  0.00105%  (vs. ref.  0.00139%  error:-0.00034%  -4.03σ)\n",
      "  Four of a kind  :  0.02580%  (vs. ref.  0.02401%  error: 0.00179%   5.17σ)\n",
      "  Full house      :  0.14435%  (vs. ref.  0.14406%  error: 0.00029%   0.34σ)\n",
      "  Flush           :  0.19670%  (vs. ref.  0.19654%  error: 0.00016%   0.16σ)\n",
      "  Straight        :  0.39790%  (vs. ref.  0.39246%  error: 0.00544%   3.89σ)\n",
      "  Three of a kind :  2.10275%  (vs. ref.  2.11285%  error:-0.01010%  -3.14σ)\n",
      "  Two pair        :  4.75405%  (vs. ref.  4.75390%  error: 0.00014%   0.03σ)\n",
      "  One pair        : 42.20399%  (vs. ref. 42.25690%  error:-0.05292%  -4.79σ)\n",
      "  High card       : 50.17332%  (vs. ref. 50.11774%  error: 0.05558%   4.97σ)\n",
      "\n",
      "For bitmask_cpu_numba_multiprocess simulating 200,000,016 hands:\n",
      " Elapsed time is 0.228 s, or 876,000,000 hands/s.\n",
      " Probabilities:\n",
      "  Royal flush     :  0.00019%  (vs. ref.  0.00015%  error: 0.00004%   4.68σ)\n",
      "  Straight flush  :  0.00150%  (vs. ref.  0.00139%  error: 0.00012%   4.55σ)\n",
      "  Four of a kind  :  0.02409%  (vs. ref.  0.02401%  error: 0.00008%   0.73σ)\n",
      "  Full house      :  0.14539%  (vs. ref.  0.14406%  error: 0.00133%   4.97σ)\n",
      "  Flush           :  0.19524%  (vs. ref.  0.19654%  error:-0.00130%  -4.15σ)\n",
      "  Straight        :  0.39119%  (vs. ref.  0.39246%  error:-0.00127%  -2.88σ)\n",
      "  Three of a kind :  2.11669%  (vs. ref.  2.11285%  error: 0.00385%   3.78σ)\n",
      "  Two pair        :  4.74840%  (vs. ref.  4.75390%  error:-0.00550%  -3.65σ)\n",
      "  One pair        : 42.26384%  (vs. ref. 42.25690%  error: 0.00693%   1.98σ)\n",
      "  High card       : 50.11346%  (vs. ref. 50.11774%  error:-0.00428%  -1.21σ)\n",
      "\n",
      "For bitmask_gpu_cuda simulating 2,000,000,016 hands:\n",
      " Elapsed time is 0.221 s, or 9,050,000,000 hands/s.\n",
      " Probabilities:\n",
      "  Royal flush     :  0.00015%  (vs. ref.  0.00015%  error:-0.00000%  -0.56σ)\n",
      "  Straight flush  :  0.00139%  (vs. ref.  0.00139%  error: 0.00000%   0.39σ)\n",
      "  Four of a kind  :  0.02399%  (vs. ref.  0.02401%  error:-0.00002%  -0.47σ)\n",
      "  Full house      :  0.14399%  (vs. ref.  0.14406%  error:-0.00007%  -0.79σ)\n",
      "  Flush           :  0.19634%  (vs. ref.  0.19654%  error:-0.00020%  -1.98σ)\n",
      "  Straight        :  0.39262%  (vs. ref.  0.39246%  error: 0.00015%   1.09σ)\n",
      "  Three of a kind :  2.11281%  (vs. ref.  2.11285%  error:-0.00004%  -0.12σ)\n",
      "  Two pair        :  4.75357%  (vs. ref.  4.75390%  error:-0.00033%  -0.70σ)\n",
      "  One pair        : 42.25604%  (vs. ref. 42.25690%  error:-0.00086%  -0.78σ)\n",
      "  High card       : 50.11910%  (vs. ref. 50.11774%  error: 0.00136%   1.22σ)\n"
     ]
    }
   ],
   "source": [
    "compare_simulations(base_num_hands=10**7)"
   ]
  },
  {
   "cell_type": "code",
   "execution_count": 57,
   "id": "4ef83cc9-da12-486c-b9f5-dc8f644304d6",
   "metadata": {
    "execution": {
     "iopub.execute_input": "2025-01-09T05:28:23.180012Z",
     "iopub.status.busy": "2025-01-09T05:28:23.179571Z",
     "iopub.status.idle": "2025-01-09T05:28:23.182665Z",
     "shell.execute_reply": "2025-01-09T05:28:23.182138Z",
     "shell.execute_reply.started": "2025-01-09T05:28:23.179995Z"
    }
   },
   "outputs": [],
   "source": [
    "# 135k, 33m, 350m, 2200-3400m, 135k, 890k, 8000-12500m"
   ]
  },
  {
   "cell_type": "code",
   "execution_count": 62,
   "id": "4e2c58e2-5b87-4232-a96e-10e2773625cb",
   "metadata": {
    "execution": {
     "iopub.execute_input": "2025-01-09T05:40:48.482358Z",
     "iopub.status.busy": "2025-01-09T05:40:48.481692Z",
     "iopub.status.idle": "2025-01-09T05:40:48.485291Z",
     "shell.execute_reply": "2025-01-09T05:40:48.484692Z",
     "shell.execute_reply.started": "2025-01-09T05:40:48.482337Z"
    }
   },
   "outputs": [],
   "source": [
    "if 0:\n",
    "  if cuda.is_available():\n",
    "    simulate_poker_hands(10**12, 'bitmask_gpu_cuda', simulate_hands_bitmask_gpu_cuda)"
   ]
  },
  {
   "cell_type": "code",
   "execution_count": 59,
   "id": "628c75a6-c775-46f7-83ff-8baa85a685f2",
   "metadata": {
    "execution": {
     "iopub.execute_input": "2025-01-09T05:28:23.196288Z",
     "iopub.status.busy": "2025-01-09T05:28:23.196125Z",
     "iopub.status.idle": "2025-01-09T05:28:23.204245Z",
     "shell.execute_reply": "2025-01-09T05:28:23.203774Z",
     "shell.execute_reply.started": "2025-01-09T05:28:23.196275Z"
    }
   },
   "outputs": [],
   "source": [
    "# For bitmask_gpu_cuda simulating 1,000,000,000,032 hands:\n",
    "#  Elapsed time is 80.862 s, or 12,400,000,000 hands/s.\n",
    "#  Probabilities:\n",
    "#   Royal flush     :  0.00015%  (vs. ref.  0.00015%  error:-0.00000%  -0.98σ)\n",
    "#   Straight flush  :  0.00138%  (vs. ref.  0.00139%  error:-0.00000%  -0.66σ)\n",
    "#   Four of a kind  :  0.02401%  (vs. ref.  0.02401%  error: 0.00000%   0.11σ)\n",
    "#   Full house      :  0.14406%  (vs. ref.  0.14406%  error: 0.00000%   1.31σ)\n",
    "#   Flush           :  0.19654%  (vs. ref.  0.19654%  error: 0.00000%   0.50σ)\n",
    "#   Straight        :  0.39247%  (vs. ref.  0.39246%  error: 0.00000%   0.76σ)\n",
    "#   Three of a kind :  2.11285%  (vs. ref.  2.11285%  error: 0.00000%   0.14σ)\n",
    "#   Two pair        :  4.75391%  (vs. ref.  4.75390%  error: 0.00001%   0.31σ)\n",
    "#   One pair        : 42.25699%  (vs. ref. 42.25690%  error: 0.00009%   1.76σ)\n",
    "#   High card       : 50.11763%  (vs. ref. 50.11774%  error:-0.00011%  -2.15σ)"
   ]
  },
  {
   "cell_type": "markdown",
   "id": "53b10704-3a4b-4b0e-b0ac-711b2afed9bd",
   "metadata": {},
   "source": [
    "## End"
   ]
  }
 ],
 "metadata": {
  "colab": {
   "collapsed_sections": [],
   "provenance": [],
   "toc_visible": true
  },
  "jupytext": {
   "cell_metadata_filter": "-all",
   "formats": "ipynb,py:percent",
   "main_language": "python",
   "notebook_metadata_filter": "-all"
  },
  "kernelspec": {
   "display_name": "Python 3 (ipykernel)",
   "language": "python",
   "name": "python3"
  },
  "language_info": {
   "codemirror_mode": {
    "name": "ipython",
    "version": 3
   },
   "file_extension": ".py",
   "mimetype": "text/x-python",
   "name": "python",
   "nbconvert_exporter": "python",
   "pygments_lexer": "ipython3",
   "version": "3.10.12"
  }
 },
 "nbformat": 4,
 "nbformat_minor": 5
}
