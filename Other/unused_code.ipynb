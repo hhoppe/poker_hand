{
 "cells": [
  {
   "cell_type": "code",
   "execution_count": null,
   "id": "414759ce-0d9e-4ed1-a1a1-aef586e9d4d2",
   "metadata": {},
   "outputs": [],
   "source": [
    "USE_UINT_RANDOM = True  # Using uint remainder is faster than float truncation.\n",
    "\n",
    "if USE_UINT_RANDOM:  # Faster and has lower bias (~2.76e-18 for worst case ).\n",
    "  random_uint32 = random_next_uniform_uint(rng_states, thread_index)\n",
    "  j = random_uint32 % numba.uint32(i + 1)\n",
    "else:  # Results in higher bias (~2.86e-6) due to reduced size (24 bits) of mantissa.\n",
    "  j = int(random_next_uniform_float32(rng_states, thread_index) * (i + 1))"
   ]
  },
  {
   "cell_type": "code",
   "execution_count": null,
   "id": "1cc22aa8-c3ef-4db7-b2f0-c868e2824889",
   "metadata": {},
   "outputs": [],
   "source": [
    "assert ROYAL_STRAIGHT_RANKS == int(sum(2 ** np.arange(NUM_RANKS - CARDS_FOR_A_STRAIGHT, NUM_RANKS)))"
   ]
  },
  {
   "cell_type": "code",
   "execution_count": 25,
   "id": "56a80601-e83c-410d-a508-4ab4384df858",
   "metadata": {
    "execution": {
     "iopub.execute_input": "2025-01-05T18:22:53.293433Z",
     "iopub.status.busy": "2025-01-05T18:22:53.292855Z",
     "iopub.status.idle": "2025-01-05T18:22:53.301225Z",
     "shell.execute_reply": "2025-01-05T18:22:53.300611Z",
     "shell.execute_reply.started": "2025-01-05T18:22:53.293412Z"
    }
   },
   "outputs": [],
   "source": [
    "def create_table_flush_from_suit_count_mask():\n",
    "  table = np.full(2 ** (NUM_SUITS * CARD_COUNT_BITS), False)\n",
    "  for nums in itertools.product(range(NUM_CARD_COUNT), repeat=NUM_SUITS):\n",
    "    if max(nums) >= CARDS_FOR_A_FLUSH:\n",
    "      mask = np.dot(nums, NUM_CARD_COUNT ** np.arange(NUM_SUITS))\n",
    "      table[mask] = True\n",
    "  return table"
   ]
  },
  {
   "cell_type": "code",
   "execution_count": 26,
   "id": "c3511f22-9238-48c4-a673-7b8b070247f6",
   "metadata": {
    "execution": {
     "iopub.execute_input": "2025-01-05T18:22:53.302333Z",
     "iopub.status.busy": "2025-01-05T18:22:53.302027Z",
     "iopub.status.idle": "2025-01-05T18:22:53.320488Z",
     "shell.execute_reply": "2025-01-05T18:22:53.319748Z",
     "shell.execute_reply.started": "2025-01-05T18:22:53.302319Z"
    }
   },
   "outputs": [],
   "source": [
    "TABLE_FLUSH_FROM_SUIT_COUNT_MASK = create_table_flush_from_suit_count_mask()"
   ]
  },
  {
   "cell_type": "code",
   "execution_count": null,
   "id": "c47d2b07-cd22-402d-92e6-68842548c8c5",
   "metadata": {},
   "outputs": [],
   "source": [
    "TABLE_FLUSH = cuda.const.array_like(TABLE_FLUSH_FROM_SUIT_COUNT_MASK)\n",
    "is_flush = TABLE_FLUSH[suit_count_mask]"
   ]
  },
  {
   "cell_type": "code",
   "execution_count": 203,
   "id": "9c08788b-24ec-4ad7-be07-c377ebcaadad",
   "metadata": {
    "execution": {
     "iopub.execute_input": "2025-01-05T22:46:29.659224Z",
     "iopub.status.busy": "2025-01-05T22:46:29.658783Z",
     "iopub.status.idle": "2025-01-05T22:46:29.663252Z",
     "shell.execute_reply": "2025-01-05T22:46:29.662486Z",
     "shell.execute_reply.started": "2025-01-05T22:46:29.659210Z"
    }
   },
   "outputs": [],
   "source": [
    "@numba.njit\n",
    "def get_ranks_present(rank_count_mask):\n",
    "  \"\"\"Return a (contiguous) 13-bit mask that encodes which ranks contain 1-3 cards each.\"\"\"\n",
    "  x = (rank_count_mask | (rank_count_mask >> 1)) & RANKS_ONE\n",
    "  # Combine groups by progressively larger shifts.  https://stackoverflow.com/a/28358035\n",
    "  x = (x | (x >> 2)) & 0x30C30C30C30C30C3\n",
    "  x = (x | (x >> 4)) & 0xF00F00F00F00F00F\n",
    "  x = (x | (x >> 8)) & 0x00FF0000FF0000FF\n",
    "  x = (x | (x >> 16)) & 0xFFFF00000000FFFF\n",
    "  x = (x | (x >> 32)) & 0x00000000FFFFFFFF\n",
    "  # assert not (x & ~0x1fff)\n",
    "  return x"
   ]
  },
  {
   "cell_type": "code",
   "execution_count": 59,
   "id": "1538f60c-a1d3-47e4-bd4f-98c98a455827",
   "metadata": {
    "execution": {
     "iopub.execute_input": "2025-01-05T18:31:50.446413Z",
     "iopub.status.busy": "2025-01-05T18:31:50.445691Z",
     "iopub.status.idle": "2025-01-05T18:31:50.449599Z",
     "shell.execute_reply": "2025-01-05T18:31:50.449104Z",
     "shell.execute_reply.started": "2025-01-05T18:31:50.446396Z"
    }
   },
   "outputs": [],
   "source": [
    "def create_table_straight_from_rank_present():\n",
    "  table = np.full(2**NUM_RANKS, False)\n",
    "  for i in range(9):  # Straights from (0, 1, 2, 3, 4) '23456' to (8, 9, 10, 11, 12) 'TJQKA'.\n",
    "    table[0b11111 << i] = True\n",
    "  table[0b1000000001111] = True  # (0, 1, 2, 3, 12) for ace-low straight.\n",
    "  return table"
   ]
  },
  {
   "cell_type": "code",
   "execution_count": 60,
   "id": "97d97441-4fc0-4d91-914e-4727289eab90",
   "metadata": {
    "execution": {
     "iopub.execute_input": "2025-01-05T18:31:50.648296Z",
     "iopub.status.busy": "2025-01-05T18:31:50.647742Z",
     "iopub.status.idle": "2025-01-05T18:31:50.651287Z",
     "shell.execute_reply": "2025-01-05T18:31:50.650443Z",
     "shell.execute_reply.started": "2025-01-05T18:31:50.648281Z"
    }
   },
   "outputs": [],
   "source": [
    "TABLE_STRAIGHT_FROM_RANK_PRESENT = create_table_straight_from_rank_present()"
   ]
  },
  {
   "cell_type": "code",
   "execution_count": null,
   "id": "94b638b9-adfd-4ff3-8df1-bde30894cba1",
   "metadata": {},
   "outputs": [],
   "source": [
    "TABLE_STRAIGHT = cuda.const.array_like(TABLE_STRAIGHT_FROM_RANK_PRESENT)\n",
    "is_straight = TABLE_STRAIGHT[rank_present]"
   ]
  },
  {
   "cell_type": "code",
   "execution_count": null,
   "id": "340923a1-a26f-4f9c-8288-8fced5021ac7",
   "metadata": {},
   "outputs": [],
   "source": [
    "TABLE_STRAIGHTS = cuda.const.array_like(TABLE_STRAIGHTS_RANK_PRESENT)"
   ]
  },
  {
   "cell_type": "code",
   "execution_count": 153,
   "id": "2532f6ad-e53a-46b9-b507-891edc5456b2",
   "metadata": {
    "execution": {
     "iopub.execute_input": "2025-01-05T22:37:35.409348Z",
     "iopub.status.busy": "2025-01-05T22:37:35.408907Z",
     "iopub.status.idle": "2025-01-05T22:37:35.412230Z",
     "shell.execute_reply": "2025-01-05T22:37:35.411677Z",
     "shell.execute_reply.started": "2025-01-05T22:37:35.409334Z"
    }
   },
   "outputs": [],
   "source": [
    "def create_table_straights_rank_present():\n",
    "  lst = [0b11111 << i for i in range(9)]  # (0, 1, 2, 3, 4) '23456' to (8, 9, 10, 11, 12) 'TJQKA'.\n",
    "  lst.append(0b1000000001111)  # (0, 1, 2, 3, 12) for ace-low straight.\n",
    "  return np.array(lst, np.uint16)"
   ]
  },
  {
   "cell_type": "code",
   "execution_count": 154,
   "id": "9f70f55c-9b98-4bb6-a164-588c56252b34",
   "metadata": {
    "execution": {
     "iopub.execute_input": "2025-01-05T22:37:35.588229Z",
     "iopub.status.busy": "2025-01-05T22:37:35.587707Z",
     "iopub.status.idle": "2025-01-05T22:37:35.590684Z",
     "shell.execute_reply": "2025-01-05T22:37:35.590143Z",
     "shell.execute_reply.started": "2025-01-05T22:37:35.588213Z"
    }
   },
   "outputs": [],
   "source": [
    "# Table of 10 uint32, each the 13-bit mask encoding of a straight.\n",
    "TABLE_STRAIGHTS_RANK_PRESENT = create_table_straights_rank_present()"
   ]
  },
  {
   "cell_type": "code",
   "execution_count": 33,
   "id": "ee581fee-50d5-4dc6-a4ce-14208e09324e",
   "metadata": {
    "execution": {
     "iopub.execute_input": "2025-01-06T23:20:58.466812Z",
     "iopub.status.busy": "2025-01-06T23:20:58.466379Z",
     "iopub.status.idle": "2025-01-06T23:20:58.475256Z",
     "shell.execute_reply": "2025-01-06T23:20:58.474523Z",
     "shell.execute_reply.started": "2025-01-06T23:20:58.466789Z"
    }
   },
   "outputs": [],
   "source": [
    "def create_table_mask_of_card():\n",
    "  lst = [\n",
    "      (1 << (CARD_COUNT_BITS * (NUM_RANKS + suit))) | (1 << (CARD_COUNT_BITS * rank))\n",
    "      for suit in range(NUM_SUITS)\n",
    "      for rank in range(NUM_RANKS)\n",
    "  ]\n",
    "  return np.array(lst, np.uint64)"
   ]
  },
  {
   "cell_type": "code",
   "execution_count": 34,
   "id": "f2274313-4ab5-495c-b9dd-5f9dd9fe253a",
   "metadata": {
    "execution": {
     "iopub.execute_input": "2025-01-06T23:20:58.476533Z",
     "iopub.status.busy": "2025-01-06T23:20:58.476148Z",
     "iopub.status.idle": "2025-01-06T23:20:58.485262Z",
     "shell.execute_reply": "2025-01-06T23:20:58.484611Z",
     "shell.execute_reply.started": "2025-01-06T23:20:58.476508Z"
    }
   },
   "outputs": [],
   "source": [
    "# Table of 52 uint64, each the \"(4 + 13) * 3\"-bit mask encoding of the suit and rank of a card.\n",
    "TABLE_MASK_OF_CARD = create_table_mask_of_card()"
   ]
  },
  {
   "cell_type": "code",
   "execution_count": null,
   "id": "0ae9697d-3208-4a3e-96ba-9c4e20fecfa0",
   "metadata": {},
   "outputs": [],
   "source": [
    "is_straight = rank_present in TABLE_STRAIGHTS_RANK_PRESENT\n",
    "for straight in TABLE_STRAIGHTS_RANK_PRESENT:  # Even faster than cuda.const.array_like().\n",
    "  if rank_present == straight:\n",
    "    is_straight = True"
   ]
  },
  {
   "cell_type": "code",
   "execution_count": null,
   "id": "317f5e9b-07a8-4304-a0e4-d6e7450a64d1",
   "metadata": {},
   "outputs": [],
   "source": [
    "mask_pairs_bits = rank_count_mask & (RANKS_TWO | RANKS_FOUR)\n",
    "mask_pairs = (mask_pairs_bits | (mask_pairs_bits >> 1)) & RANKS_TWO\n",
    "num_two_or_more = numba.uint32(cuda.popc(mask_pairs))  # Count number of set bits."
   ]
  },
  {
   "cell_type": "code",
   "execution_count": null,
   "id": "986012dc-2c75-41ec-8c31-2ce528e4f201",
   "metadata": {},
   "outputs": [],
   "source": [
    "ROYAL_STRAIGHT_RANKS = 0b1111100000000\n",
    "rank_present = numba.uint16(get_ranks_present(rank_count_mask))  # Valid only if not is_four.\n",
    "\n",
    "if (rank_present & ROYAL_STRAIGHT_RANKS) != 0:\n",
    "  return Outcome.ROYAL_FLUSH.value"
   ]
  },
  {
   "cell_type": "code",
   "execution_count": 61,
   "id": "1b894add-cf45-4998-9950-c9f5eeb53b8a",
   "metadata": {
    "execution": {
     "iopub.execute_input": "2025-01-05T18:31:50.869154Z",
     "iopub.status.busy": "2025-01-05T18:31:50.868766Z",
     "iopub.status.idle": "2025-01-05T18:31:50.903230Z",
     "shell.execute_reply": "2025-01-05T18:31:50.902622Z",
     "shell.execute_reply.started": "2025-01-05T18:31:50.869139Z"
    }
   },
   "outputs": [
    {
     "name": "stdout",
     "output_type": "stream",
     "text": [
      "4\n"
     ]
    }
   ],
   "source": [
    "import numba.cpython.mathimpl\n",
    "import numba.extending\n",
    "\n",
    "\n",
    "@numba.extending.intrinsic\n",
    "def popc_helper(typing_context, src):\n",
    "  _ = typing_context\n",
    "  sig = numba.uint64(numba.uint64)\n",
    "\n",
    "  def codegen(context, builder, signature, args):\n",
    "    return numba.cpython.mathimpl.call_fp_intrinsic(builder, \"llvm.ctpop.i64\", args)\n",
    "\n",
    "  return sig, codegen\n",
    "\n",
    "\n",
    "@numba.njit(numba.uint64(numba.uint64))\n",
    "def popc(x):\n",
    "  \"\"\"Return the (population) count of set bits in an integer.\"\"\"\n",
    "  # https://stackoverflow.com/a/77103233\n",
    "  return popc_helper(x)\n",
    "\n",
    "\n",
    "print(popc(43))"
   ]
  },
  {
   "cell_type": "code",
   "execution_count": 62,
   "id": "1c52e895-285a-4be5-a1a0-64264c60d3bb",
   "metadata": {
    "execution": {
     "iopub.execute_input": "2025-01-05T18:31:51.499003Z",
     "iopub.status.busy": "2025-01-05T18:31:51.498700Z",
     "iopub.status.idle": "2025-01-05T18:31:51.501750Z",
     "shell.execute_reply": "2025-01-05T18:31:51.501224Z",
     "shell.execute_reply.started": "2025-01-05T18:31:51.498989Z"
    }
   },
   "outputs": [],
   "source": [
    "# for mask in [0b_101_000_000_000, 0b_100_001_000_0000, 0b_011_010_000_000, 0b_011_001_001_000, 0b_010_010_001_000, 0b_010_001_001_001]:\n",
    "#   expr1 = popc(mask & (mask >> 2))\n",
    "#   t = mask & (SUITS_ONE | (SUITS_ONE << 2))\n",
    "#   expr2 = popc(t & (t >> 2))\n",
    "#   expr3 = popc(t & (t >> 2) & (SUITS_ONE))\n",
    "#   print(mask, popc(mask), popc(mask + SUITS_ONE), popc(mask + SUITS_ONE + SUITS_ONE), expr1, expr2, expr3)\n",
    "\n",
    "# 2560 2 5 6 1 1 1\n",
    "# 4224 2 6 5 0 0 0\n",
    "# 1664 3 5 5 1 0 0\n",
    "# 1608 4 4 7 0 0 0\n",
    "# 1160 3 6 5 0 0 0\n",
    "# 1097 4 5 7 0 0 0"
   ]
  },
  {
   "cell_type": "code",
   "execution_count": null,
   "id": "5fdb1368-2f95-4458-9d1d-029d69a02011",
   "metadata": {},
   "outputs": [],
   "source": [
    "MASK = cuda.const.array_like(TABLE_MASK_OF_CARD)\n",
    "mask0, mask1, mask2, mask3 = MASK[deck[0]], MASK[deck[1]], MASK[deck[2]], MASK[deck[3]]\n",
    "\n",
    "mask4 = MASK[deck[hand_index + 4]]"
   ]
  },
  {
   "cell_type": "code",
   "execution_count": null,
   "id": "af2bbb6a-8dd4-4cda-b1d8-f88491abe306",
   "metadata": {},
   "outputs": [],
   "source": [
    "# First accumulate a per-block tally, then accumulate that tally into the global tally.\n",
    "shared_tally = cuda.shared.array(NUM_OUTCOMES, np.int64)  # Per-block intermediate tally.\n",
    "if thread_id == 0:\n",
    "  shared_tally[:] = 0\n",
    "cuda.syncthreads()\n",
    "\n",
    "# Each thread adds its local results to shared memory.\n",
    "for i in range(NUM_OUTCOMES):\n",
    "  cuda.atomic.add(shared_tally, i, tally[i])\n",
    "  cuda.syncthreads()\n",
    "\n",
    "if thread_id == 0:\n",
    "  for i in range(NUM_OUTCOMES):\n",
    "    cuda.atomic.add(global_tally, i, shared_tally[i])"
   ]
  },
  {
   "cell_type": "code",
   "execution_count": 215,
   "id": "3b220727-c1db-47e3-8121-fa4e3c0e1aa9",
   "metadata": {
    "execution": {
     "iopub.execute_input": "2025-01-05T18:58:26.499407Z",
     "iopub.status.busy": "2025-01-05T18:58:26.498784Z",
     "iopub.status.idle": "2025-01-05T18:58:26.503152Z",
     "shell.execute_reply": "2025-01-05T18:58:26.502553Z",
     "shell.execute_reply.started": "2025-01-05T18:58:26.499390Z"
    }
   },
   "outputs": [],
   "source": [
    "def write_cuda_assembly_code():\n",
    "  if 0:\n",
    "    signature = (cuda.random.xoroshiro128p_type[:], numba.int64, numba.int64[:])\n",
    "    ptx, _ = cuda.compile_ptx_for_current_device(compute_gpu, signature, device=True, abi='c')\n",
    "  else:\n",
    "    (ptx,) = compute_gpu.inspect_asm().values()\n",
    "  pathlib.Path('compute_gpu.ptx').write_text(ptx, encoding='utf-8')"
   ]
  },
  {
   "cell_type": "code",
   "execution_count": null,
   "id": "b60f0a0a-e959-4793-b05b-5d83a362b8d7",
   "metadata": {},
   "outputs": [],
   "source": [
    "@cuda.jit(numba.uint16(numba.uint64), device=True, fastmath=True)"
   ]
  }
 ],
 "metadata": {
  "colab": {
   "collapsed_sections": [],
   "provenance": [],
   "toc_visible": true
  },
  "jupytext": {
   "cell_metadata_filter": "-all",
   "formats": "ipynb,py:percent",
   "main_language": "python",
   "notebook_metadata_filter": "-all"
  },
  "kernelspec": {
   "display_name": "Python 3 (ipykernel)",
   "language": "python",
   "name": "python3"
  },
  "language_info": {
   "codemirror_mode": {
    "name": "ipython",
    "version": 3
   },
   "file_extension": ".py",
   "mimetype": "text/x-python",
   "name": "python",
   "nbconvert_exporter": "python",
   "pygments_lexer": "ipython3",
   "version": "3.10.12"
  }
 },
 "nbformat": 4,
 "nbformat_minor": 5
}
